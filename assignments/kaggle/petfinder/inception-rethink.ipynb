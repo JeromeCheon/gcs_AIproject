{
 "cells": [
  {
   "cell_type": "code",
   "execution_count": 1,
   "id": "fe286562",
   "metadata": {
    "_cell_guid": "b1076dfc-b9ad-4769-8c92-a6c4dae69d19",
    "_uuid": "8f2839f25d086af736a60e9eeb907d3b93b6e0e5",
    "execution": {
     "iopub.execute_input": "2021-11-29T17:44:09.587389Z",
     "iopub.status.busy": "2021-11-29T17:44:09.585866Z",
     "iopub.status.idle": "2021-11-29T17:44:15.535341Z",
     "shell.execute_reply": "2021-11-29T17:44:15.534549Z",
     "shell.execute_reply.started": "2021-11-29T17:38:58.802250Z"
    },
    "papermill": {
     "duration": 5.971762,
     "end_time": "2021-11-29T17:44:15.535494",
     "exception": false,
     "start_time": "2021-11-29T17:44:09.563732",
     "status": "completed"
    },
    "tags": []
   },
   "outputs": [],
   "source": [
    "import os\n",
    "import random\n",
    "import pandas as pd\n",
    "import numpy as np\n",
    "import tensorflow as tf\n",
    "from sklearn.model_selection import train_test_split\n",
    "import matplotlib.pyplot as plt\n",
    "import seaborn as sns\n",
    "import tensorflow as tf\n",
    "from tensorflow import keras\n",
    "from tensorflow.keras import layers, models,Sequential\n",
    "import cv2, numpy as np\n",
    "import os"
   ]
  },
  {
   "cell_type": "markdown",
   "id": "d05d70cf",
   "metadata": {
    "papermill": {
     "duration": 0.015057,
     "end_time": "2021-11-29T17:44:15.568338",
     "exception": false,
     "start_time": "2021-11-29T17:44:15.553281",
     "status": "completed"
    },
    "tags": []
   },
   "source": [
    "## We are using pretrained weights of inceptionV3\n",
    "### [from->https://www.kaggle.com/ekaterinadranitsyna/keras-applications-models](https://www.kaggle.com/ekaterinadranitsyna/keras-applications-models)\n",
    "adding it to our dataset,"
   ]
  },
  {
   "cell_type": "code",
   "execution_count": 2,
   "id": "d4c7a290",
   "metadata": {
    "execution": {
     "iopub.execute_input": "2021-11-29T17:44:15.601863Z",
     "iopub.status.busy": "2021-11-29T17:44:15.601043Z",
     "iopub.status.idle": "2021-11-29T17:44:15.605320Z",
     "shell.execute_reply": "2021-11-29T17:44:15.604877Z",
     "shell.execute_reply.started": "2021-11-29T17:39:04.574646Z"
    },
    "papermill": {
     "duration": 0.021983,
     "end_time": "2021-11-29T17:44:15.605434",
     "exception": false,
     "start_time": "2021-11-29T17:44:15.583451",
     "status": "completed"
    },
    "tags": []
   },
   "outputs": [],
   "source": [
    "train_data_csv = '../input/petfinder-pawpularity-score/train.csv'\n",
    "test_data_csv  = '../input/petfinder-pawpularity-score/test.csv'\n",
    "train_folder = '../input/petfinder-pawpularity-score/train'\n",
    "test_folder  = '../input/petfinder-pawpularity-score/test'"
   ]
  },
  {
   "cell_type": "markdown",
   "id": "e361e44c",
   "metadata": {
    "papermill": {
     "duration": 0.015161,
     "end_time": "2021-11-29T17:44:15.635678",
     "exception": false,
     "start_time": "2021-11-29T17:44:15.620517",
     "status": "completed"
    },
    "tags": []
   },
   "source": [
    "## Hyperparameter for our newtowk"
   ]
  },
  {
   "cell_type": "code",
   "execution_count": 3,
   "id": "73387697",
   "metadata": {
    "execution": {
     "iopub.execute_input": "2021-11-29T17:44:15.671121Z",
     "iopub.status.busy": "2021-11-29T17:44:15.670412Z",
     "iopub.status.idle": "2021-11-29T17:44:15.672957Z",
     "shell.execute_reply": "2021-11-29T17:44:15.672548Z",
     "shell.execute_reply.started": "2021-11-29T17:39:04.582775Z"
    },
    "papermill": {
     "duration": 0.022306,
     "end_time": "2021-11-29T17:44:15.673066",
     "exception": false,
     "start_time": "2021-11-29T17:44:15.650760",
     "status": "completed"
    },
    "tags": []
   },
   "outputs": [],
   "source": [
    "y = 'Pawpularity'\n",
    "validation_size = 0.25\n",
    "autotune = tf.data.experimental.AUTOTUNE\n",
    "img_size = 299\n",
    "batch_size = 8\n",
    "dropout = 0.2\n",
    "lr = 1e-3\n",
    "decay_steps = 100\n",
    "decay_rate = 0.96\n",
    "epochs = 1000"
   ]
  },
  {
   "cell_type": "code",
   "execution_count": 4,
   "id": "06361e18",
   "metadata": {
    "execution": {
     "iopub.execute_input": "2021-11-29T17:44:15.707626Z",
     "iopub.status.busy": "2021-11-29T17:44:15.706856Z",
     "iopub.status.idle": "2021-11-29T17:44:15.709250Z",
     "shell.execute_reply": "2021-11-29T17:44:15.708800Z",
     "shell.execute_reply.started": "2021-11-29T17:39:04.602571Z"
    },
    "papermill": {
     "duration": 0.021263,
     "end_time": "2021-11-29T17:44:15.709359",
     "exception": false,
     "start_time": "2021-11-29T17:44:15.688096",
     "status": "completed"
    },
    "tags": []
   },
   "outputs": [],
   "source": [
    "def id_to_path(img_id,dir):\n",
    "    return os.path.join(dir, f'{img_id}.jpg')"
   ]
  },
  {
   "cell_type": "code",
   "execution_count": 5,
   "id": "8ab6c8e2",
   "metadata": {
    "execution": {
     "iopub.execute_input": "2021-11-29T17:44:15.745647Z",
     "iopub.status.busy": "2021-11-29T17:44:15.744809Z",
     "iopub.status.idle": "2021-11-29T17:44:15.746637Z",
     "shell.execute_reply": "2021-11-29T17:44:15.747031Z",
     "shell.execute_reply.started": "2021-11-29T17:39:04.609746Z"
    },
    "papermill": {
     "duration": 0.022838,
     "end_time": "2021-11-29T17:44:15.747198",
     "exception": false,
     "start_time": "2021-11-29T17:44:15.724360",
     "status": "completed"
    },
    "tags": []
   },
   "outputs": [],
   "source": [
    "def get_image(path):\n",
    "    image = tf.image.decode_jpeg(tf.io.read_file(path), channels=3)\n",
    "    image = tf.cast(tf.image.resize_with_pad(image, img_size, img_size), dtype=tf.float32)\n",
    "    return tf.keras.applications.inception_v3.preprocess_input(image)"
   ]
  },
  {
   "cell_type": "code",
   "execution_count": 6,
   "id": "79df05ae",
   "metadata": {
    "execution": {
     "iopub.execute_input": "2021-11-29T17:44:15.783221Z",
     "iopub.status.busy": "2021-11-29T17:44:15.782532Z",
     "iopub.status.idle": "2021-11-29T17:44:15.784795Z",
     "shell.execute_reply": "2021-11-29T17:44:15.785206Z",
     "shell.execute_reply.started": "2021-11-29T17:39:04.617557Z"
    },
    "papermill": {
     "duration": 0.022539,
     "end_time": "2021-11-29T17:44:15.785347",
     "exception": false,
     "start_time": "2021-11-29T17:44:15.762808",
     "status": "completed"
    },
    "tags": []
   },
   "outputs": [],
   "source": [
    "def process_dataset(path, label):\n",
    "    return get_image(path), label"
   ]
  },
  {
   "cell_type": "code",
   "execution_count": 7,
   "id": "ca638cbf",
   "metadata": {
    "execution": {
     "iopub.execute_input": "2021-11-29T17:44:15.822474Z",
     "iopub.status.busy": "2021-11-29T17:44:15.821666Z",
     "iopub.status.idle": "2021-11-29T17:44:15.823763Z",
     "shell.execute_reply": "2021-11-29T17:44:15.824205Z",
     "shell.execute_reply.started": "2021-11-29T17:39:04.625800Z"
    },
    "papermill": {
     "duration": 0.02357,
     "end_time": "2021-11-29T17:44:15.824344",
     "exception": false,
     "start_time": "2021-11-29T17:44:15.800774",
     "status": "completed"
    },
    "tags": []
   },
   "outputs": [],
   "source": [
    "def get_dataset(x, y=None):\n",
    "    if y is not None:\n",
    "        ds = tf.data.Dataset.from_tensor_slices((x, y))\n",
    "        return ds.map(process_dataset, num_parallel_calls=autotune) \\\n",
    "            .batch(batch_size).prefetch(buffer_size=autotune)\n",
    "    else:\n",
    "        ds = tf.data.Dataset.from_tensor_slices(x)\n",
    "        return ds.map(get_image, num_parallel_calls=autotune) \\\n",
    "            .batch(batch_size).prefetch(buffer_size=autotune)"
   ]
  },
  {
   "cell_type": "code",
   "execution_count": 8,
   "id": "6b4dee30",
   "metadata": {
    "execution": {
     "iopub.execute_input": "2021-11-29T17:44:15.860344Z",
     "iopub.status.busy": "2021-11-29T17:44:15.859444Z",
     "iopub.status.idle": "2021-11-29T17:44:15.906699Z",
     "shell.execute_reply": "2021-11-29T17:44:15.907109Z",
     "shell.execute_reply.started": "2021-11-29T17:39:04.634159Z"
    },
    "papermill": {
     "duration": 0.067318,
     "end_time": "2021-11-29T17:44:15.907262",
     "exception": false,
     "start_time": "2021-11-29T17:44:15.839944",
     "status": "completed"
    },
    "tags": []
   },
   "outputs": [
    {
     "data": {
      "text/html": [
       "<div>\n",
       "<style scoped>\n",
       "    .dataframe tbody tr th:only-of-type {\n",
       "        vertical-align: middle;\n",
       "    }\n",
       "\n",
       "    .dataframe tbody tr th {\n",
       "        vertical-align: top;\n",
       "    }\n",
       "\n",
       "    .dataframe thead th {\n",
       "        text-align: right;\n",
       "    }\n",
       "</style>\n",
       "<table border=\"1\" class=\"dataframe\">\n",
       "  <thead>\n",
       "    <tr style=\"text-align: right;\">\n",
       "      <th></th>\n",
       "      <th>Id</th>\n",
       "      <th>Subject Focus</th>\n",
       "      <th>Eyes</th>\n",
       "      <th>Face</th>\n",
       "      <th>Near</th>\n",
       "      <th>Action</th>\n",
       "      <th>Accessory</th>\n",
       "      <th>Group</th>\n",
       "      <th>Collage</th>\n",
       "      <th>Human</th>\n",
       "      <th>Occlusion</th>\n",
       "      <th>Info</th>\n",
       "      <th>Blur</th>\n",
       "      <th>Pawpularity</th>\n",
       "    </tr>\n",
       "  </thead>\n",
       "  <tbody>\n",
       "    <tr>\n",
       "      <th>0</th>\n",
       "      <td>0007de18844b0dbbb5e1f607da0606e0</td>\n",
       "      <td>0</td>\n",
       "      <td>1</td>\n",
       "      <td>1</td>\n",
       "      <td>1</td>\n",
       "      <td>0</td>\n",
       "      <td>0</td>\n",
       "      <td>1</td>\n",
       "      <td>0</td>\n",
       "      <td>0</td>\n",
       "      <td>0</td>\n",
       "      <td>0</td>\n",
       "      <td>0</td>\n",
       "      <td>63</td>\n",
       "    </tr>\n",
       "    <tr>\n",
       "      <th>1</th>\n",
       "      <td>0009c66b9439883ba2750fb825e1d7db</td>\n",
       "      <td>0</td>\n",
       "      <td>1</td>\n",
       "      <td>1</td>\n",
       "      <td>0</td>\n",
       "      <td>0</td>\n",
       "      <td>0</td>\n",
       "      <td>0</td>\n",
       "      <td>0</td>\n",
       "      <td>0</td>\n",
       "      <td>0</td>\n",
       "      <td>0</td>\n",
       "      <td>0</td>\n",
       "      <td>42</td>\n",
       "    </tr>\n",
       "    <tr>\n",
       "      <th>2</th>\n",
       "      <td>0013fd999caf9a3efe1352ca1b0d937e</td>\n",
       "      <td>0</td>\n",
       "      <td>1</td>\n",
       "      <td>1</td>\n",
       "      <td>1</td>\n",
       "      <td>0</td>\n",
       "      <td>0</td>\n",
       "      <td>0</td>\n",
       "      <td>0</td>\n",
       "      <td>1</td>\n",
       "      <td>1</td>\n",
       "      <td>0</td>\n",
       "      <td>0</td>\n",
       "      <td>28</td>\n",
       "    </tr>\n",
       "    <tr>\n",
       "      <th>3</th>\n",
       "      <td>0018df346ac9c1d8413cfcc888ca8246</td>\n",
       "      <td>0</td>\n",
       "      <td>1</td>\n",
       "      <td>1</td>\n",
       "      <td>1</td>\n",
       "      <td>0</td>\n",
       "      <td>0</td>\n",
       "      <td>0</td>\n",
       "      <td>0</td>\n",
       "      <td>0</td>\n",
       "      <td>0</td>\n",
       "      <td>0</td>\n",
       "      <td>0</td>\n",
       "      <td>15</td>\n",
       "    </tr>\n",
       "    <tr>\n",
       "      <th>4</th>\n",
       "      <td>001dc955e10590d3ca4673f034feeef2</td>\n",
       "      <td>0</td>\n",
       "      <td>0</td>\n",
       "      <td>0</td>\n",
       "      <td>1</td>\n",
       "      <td>0</td>\n",
       "      <td>0</td>\n",
       "      <td>1</td>\n",
       "      <td>0</td>\n",
       "      <td>0</td>\n",
       "      <td>0</td>\n",
       "      <td>0</td>\n",
       "      <td>0</td>\n",
       "      <td>72</td>\n",
       "    </tr>\n",
       "  </tbody>\n",
       "</table>\n",
       "</div>"
      ],
      "text/plain": [
       "                                 Id  Subject Focus  Eyes  Face  Near  Action  \\\n",
       "0  0007de18844b0dbbb5e1f607da0606e0              0     1     1     1       0   \n",
       "1  0009c66b9439883ba2750fb825e1d7db              0     1     1     0       0   \n",
       "2  0013fd999caf9a3efe1352ca1b0d937e              0     1     1     1       0   \n",
       "3  0018df346ac9c1d8413cfcc888ca8246              0     1     1     1       0   \n",
       "4  001dc955e10590d3ca4673f034feeef2              0     0     0     1       0   \n",
       "\n",
       "   Accessory  Group  Collage  Human  Occlusion  Info  Blur  Pawpularity  \n",
       "0          0      1        0      0          0     0     0           63  \n",
       "1          0      0        0      0          0     0     0           42  \n",
       "2          0      0        0      1          1     0     0           28  \n",
       "3          0      0        0      0          0     0     0           15  \n",
       "4          0      1        0      0          0     0     0           72  "
      ]
     },
     "execution_count": 8,
     "metadata": {},
     "output_type": "execute_result"
    }
   ],
   "source": [
    "data_train = pd.read_csv(train_data_csv)\n",
    "data_train.head()"
   ]
  },
  {
   "cell_type": "code",
   "execution_count": 9,
   "id": "421cdc47",
   "metadata": {
    "execution": {
     "iopub.execute_input": "2021-11-29T17:44:15.943092Z",
     "iopub.status.busy": "2021-11-29T17:44:15.942498Z",
     "iopub.status.idle": "2021-11-29T17:44:15.955841Z",
     "shell.execute_reply": "2021-11-29T17:44:15.956245Z",
     "shell.execute_reply.started": "2021-11-29T17:39:04.706381Z"
    },
    "papermill": {
     "duration": 0.033,
     "end_time": "2021-11-29T17:44:15.956381",
     "exception": false,
     "start_time": "2021-11-29T17:44:15.923381",
     "status": "completed"
    },
    "tags": []
   },
   "outputs": [
    {
     "data": {
      "text/html": [
       "<div>\n",
       "<style scoped>\n",
       "    .dataframe tbody tr th:only-of-type {\n",
       "        vertical-align: middle;\n",
       "    }\n",
       "\n",
       "    .dataframe tbody tr th {\n",
       "        vertical-align: top;\n",
       "    }\n",
       "\n",
       "    .dataframe thead th {\n",
       "        text-align: right;\n",
       "    }\n",
       "</style>\n",
       "<table border=\"1\" class=\"dataframe\">\n",
       "  <thead>\n",
       "    <tr style=\"text-align: right;\">\n",
       "      <th></th>\n",
       "      <th>Id</th>\n",
       "      <th>Subject Focus</th>\n",
       "      <th>Eyes</th>\n",
       "      <th>Face</th>\n",
       "      <th>Near</th>\n",
       "      <th>Action</th>\n",
       "      <th>Accessory</th>\n",
       "      <th>Group</th>\n",
       "      <th>Collage</th>\n",
       "      <th>Human</th>\n",
       "      <th>Occlusion</th>\n",
       "      <th>Info</th>\n",
       "      <th>Blur</th>\n",
       "    </tr>\n",
       "  </thead>\n",
       "  <tbody>\n",
       "    <tr>\n",
       "      <th>0</th>\n",
       "      <td>4128bae22183829d2b5fea10effdb0c3</td>\n",
       "      <td>1</td>\n",
       "      <td>0</td>\n",
       "      <td>1</td>\n",
       "      <td>0</td>\n",
       "      <td>0</td>\n",
       "      <td>1</td>\n",
       "      <td>1</td>\n",
       "      <td>0</td>\n",
       "      <td>0</td>\n",
       "      <td>1</td>\n",
       "      <td>0</td>\n",
       "      <td>1</td>\n",
       "    </tr>\n",
       "    <tr>\n",
       "      <th>1</th>\n",
       "      <td>43a2262d7738e3d420d453815151079e</td>\n",
       "      <td>0</td>\n",
       "      <td>1</td>\n",
       "      <td>0</td>\n",
       "      <td>0</td>\n",
       "      <td>0</td>\n",
       "      <td>0</td>\n",
       "      <td>1</td>\n",
       "      <td>1</td>\n",
       "      <td>0</td>\n",
       "      <td>0</td>\n",
       "      <td>0</td>\n",
       "      <td>0</td>\n",
       "    </tr>\n",
       "    <tr>\n",
       "      <th>2</th>\n",
       "      <td>4e429cead1848a298432a0acad014c9d</td>\n",
       "      <td>0</td>\n",
       "      <td>0</td>\n",
       "      <td>0</td>\n",
       "      <td>1</td>\n",
       "      <td>0</td>\n",
       "      <td>1</td>\n",
       "      <td>1</td>\n",
       "      <td>1</td>\n",
       "      <td>0</td>\n",
       "      <td>1</td>\n",
       "      <td>1</td>\n",
       "      <td>1</td>\n",
       "    </tr>\n",
       "    <tr>\n",
       "      <th>3</th>\n",
       "      <td>80bc3ccafcc51b66303c2c263aa38486</td>\n",
       "      <td>1</td>\n",
       "      <td>0</td>\n",
       "      <td>1</td>\n",
       "      <td>0</td>\n",
       "      <td>0</td>\n",
       "      <td>0</td>\n",
       "      <td>0</td>\n",
       "      <td>0</td>\n",
       "      <td>0</td>\n",
       "      <td>0</td>\n",
       "      <td>1</td>\n",
       "      <td>0</td>\n",
       "    </tr>\n",
       "    <tr>\n",
       "      <th>4</th>\n",
       "      <td>8f49844c382931444e68dffbe20228f4</td>\n",
       "      <td>1</td>\n",
       "      <td>1</td>\n",
       "      <td>1</td>\n",
       "      <td>0</td>\n",
       "      <td>1</td>\n",
       "      <td>1</td>\n",
       "      <td>0</td>\n",
       "      <td>1</td>\n",
       "      <td>0</td>\n",
       "      <td>1</td>\n",
       "      <td>1</td>\n",
       "      <td>0</td>\n",
       "    </tr>\n",
       "  </tbody>\n",
       "</table>\n",
       "</div>"
      ],
      "text/plain": [
       "                                 Id  Subject Focus  Eyes  Face  Near  Action  \\\n",
       "0  4128bae22183829d2b5fea10effdb0c3              1     0     1     0       0   \n",
       "1  43a2262d7738e3d420d453815151079e              0     1     0     0       0   \n",
       "2  4e429cead1848a298432a0acad014c9d              0     0     0     1       0   \n",
       "3  80bc3ccafcc51b66303c2c263aa38486              1     0     1     0       0   \n",
       "4  8f49844c382931444e68dffbe20228f4              1     1     1     0       1   \n",
       "\n",
       "   Accessory  Group  Collage  Human  Occlusion  Info  Blur  \n",
       "0          1      1        0      0          1     0     1  \n",
       "1          0      1        1      0          0     0     0  \n",
       "2          1      1        1      0          1     1     1  \n",
       "3          0      0        0      0          0     1     0  \n",
       "4          1      0        1      0          1     1     0  "
      ]
     },
     "execution_count": 9,
     "metadata": {},
     "output_type": "execute_result"
    }
   ],
   "source": [
    "data_test = pd.read_csv(test_data_csv)\n",
    "data_test.head()"
   ]
  },
  {
   "cell_type": "code",
   "execution_count": 10,
   "id": "31b2a21d",
   "metadata": {
    "execution": {
     "iopub.execute_input": "2021-11-29T17:44:15.995954Z",
     "iopub.status.busy": "2021-11-29T17:44:15.995213Z",
     "iopub.status.idle": "2021-11-29T17:44:16.026481Z",
     "shell.execute_reply": "2021-11-29T17:44:16.025996Z",
     "shell.execute_reply.started": "2021-11-29T17:39:04.737307Z"
    },
    "papermill": {
     "duration": 0.053955,
     "end_time": "2021-11-29T17:44:16.026598",
     "exception": false,
     "start_time": "2021-11-29T17:44:15.972643",
     "status": "completed"
    },
    "tags": []
   },
   "outputs": [],
   "source": [
    "data_train['path'] = data_train['Id'].apply(lambda x: id_to_path(x, train_folder))\n",
    "data_test['path'] = data_test['Id'].apply(lambda x: id_to_path(x, test_folder))\n",
    "\n",
    "train_subset, valid_subset = train_test_split(\n",
    "    data_train[['path', y]],\n",
    "    test_size=validation_size, shuffle=True, random_state=5\n",
    ")"
   ]
  },
  {
   "cell_type": "code",
   "execution_count": 11,
   "id": "0d3dd82a",
   "metadata": {
    "execution": {
     "iopub.execute_input": "2021-11-29T17:44:16.070265Z",
     "iopub.status.busy": "2021-11-29T17:44:16.069577Z",
     "iopub.status.idle": "2021-11-29T17:44:16.072305Z",
     "shell.execute_reply": "2021-11-29T17:44:16.072715Z",
     "shell.execute_reply.started": "2021-11-29T17:39:04.814274Z"
    },
    "papermill": {
     "duration": 0.030229,
     "end_time": "2021-11-29T17:44:16.072836",
     "exception": false,
     "start_time": "2021-11-29T17:44:16.042607",
     "status": "completed"
    },
    "tags": []
   },
   "outputs": [
    {
     "data": {
      "text/html": [
       "<div>\n",
       "<style scoped>\n",
       "    .dataframe tbody tr th:only-of-type {\n",
       "        vertical-align: middle;\n",
       "    }\n",
       "\n",
       "    .dataframe tbody tr th {\n",
       "        vertical-align: top;\n",
       "    }\n",
       "\n",
       "    .dataframe thead th {\n",
       "        text-align: right;\n",
       "    }\n",
       "</style>\n",
       "<table border=\"1\" class=\"dataframe\">\n",
       "  <thead>\n",
       "    <tr style=\"text-align: right;\">\n",
       "      <th></th>\n",
       "      <th>Id</th>\n",
       "      <th>Subject Focus</th>\n",
       "      <th>Eyes</th>\n",
       "      <th>Face</th>\n",
       "      <th>Near</th>\n",
       "      <th>Action</th>\n",
       "      <th>Accessory</th>\n",
       "      <th>Group</th>\n",
       "      <th>Collage</th>\n",
       "      <th>Human</th>\n",
       "      <th>Occlusion</th>\n",
       "      <th>Info</th>\n",
       "      <th>Blur</th>\n",
       "      <th>Pawpularity</th>\n",
       "      <th>path</th>\n",
       "    </tr>\n",
       "  </thead>\n",
       "  <tbody>\n",
       "    <tr>\n",
       "      <th>0</th>\n",
       "      <td>0007de18844b0dbbb5e1f607da0606e0</td>\n",
       "      <td>0</td>\n",
       "      <td>1</td>\n",
       "      <td>1</td>\n",
       "      <td>1</td>\n",
       "      <td>0</td>\n",
       "      <td>0</td>\n",
       "      <td>1</td>\n",
       "      <td>0</td>\n",
       "      <td>0</td>\n",
       "      <td>0</td>\n",
       "      <td>0</td>\n",
       "      <td>0</td>\n",
       "      <td>63</td>\n",
       "      <td>../input/petfinder-pawpularity-score/train/000...</td>\n",
       "    </tr>\n",
       "    <tr>\n",
       "      <th>1</th>\n",
       "      <td>0009c66b9439883ba2750fb825e1d7db</td>\n",
       "      <td>0</td>\n",
       "      <td>1</td>\n",
       "      <td>1</td>\n",
       "      <td>0</td>\n",
       "      <td>0</td>\n",
       "      <td>0</td>\n",
       "      <td>0</td>\n",
       "      <td>0</td>\n",
       "      <td>0</td>\n",
       "      <td>0</td>\n",
       "      <td>0</td>\n",
       "      <td>0</td>\n",
       "      <td>42</td>\n",
       "      <td>../input/petfinder-pawpularity-score/train/000...</td>\n",
       "    </tr>\n",
       "    <tr>\n",
       "      <th>2</th>\n",
       "      <td>0013fd999caf9a3efe1352ca1b0d937e</td>\n",
       "      <td>0</td>\n",
       "      <td>1</td>\n",
       "      <td>1</td>\n",
       "      <td>1</td>\n",
       "      <td>0</td>\n",
       "      <td>0</td>\n",
       "      <td>0</td>\n",
       "      <td>0</td>\n",
       "      <td>1</td>\n",
       "      <td>1</td>\n",
       "      <td>0</td>\n",
       "      <td>0</td>\n",
       "      <td>28</td>\n",
       "      <td>../input/petfinder-pawpularity-score/train/001...</td>\n",
       "    </tr>\n",
       "    <tr>\n",
       "      <th>3</th>\n",
       "      <td>0018df346ac9c1d8413cfcc888ca8246</td>\n",
       "      <td>0</td>\n",
       "      <td>1</td>\n",
       "      <td>1</td>\n",
       "      <td>1</td>\n",
       "      <td>0</td>\n",
       "      <td>0</td>\n",
       "      <td>0</td>\n",
       "      <td>0</td>\n",
       "      <td>0</td>\n",
       "      <td>0</td>\n",
       "      <td>0</td>\n",
       "      <td>0</td>\n",
       "      <td>15</td>\n",
       "      <td>../input/petfinder-pawpularity-score/train/001...</td>\n",
       "    </tr>\n",
       "    <tr>\n",
       "      <th>4</th>\n",
       "      <td>001dc955e10590d3ca4673f034feeef2</td>\n",
       "      <td>0</td>\n",
       "      <td>0</td>\n",
       "      <td>0</td>\n",
       "      <td>1</td>\n",
       "      <td>0</td>\n",
       "      <td>0</td>\n",
       "      <td>1</td>\n",
       "      <td>0</td>\n",
       "      <td>0</td>\n",
       "      <td>0</td>\n",
       "      <td>0</td>\n",
       "      <td>0</td>\n",
       "      <td>72</td>\n",
       "      <td>../input/petfinder-pawpularity-score/train/001...</td>\n",
       "    </tr>\n",
       "  </tbody>\n",
       "</table>\n",
       "</div>"
      ],
      "text/plain": [
       "                                 Id  Subject Focus  Eyes  Face  Near  Action  \\\n",
       "0  0007de18844b0dbbb5e1f607da0606e0              0     1     1     1       0   \n",
       "1  0009c66b9439883ba2750fb825e1d7db              0     1     1     0       0   \n",
       "2  0013fd999caf9a3efe1352ca1b0d937e              0     1     1     1       0   \n",
       "3  0018df346ac9c1d8413cfcc888ca8246              0     1     1     1       0   \n",
       "4  001dc955e10590d3ca4673f034feeef2              0     0     0     1       0   \n",
       "\n",
       "   Accessory  Group  Collage  Human  Occlusion  Info  Blur  Pawpularity  \\\n",
       "0          0      1        0      0          0     0     0           63   \n",
       "1          0      0        0      0          0     0     0           42   \n",
       "2          0      0        0      1          1     0     0           28   \n",
       "3          0      0        0      0          0     0     0           15   \n",
       "4          0      1        0      0          0     0     0           72   \n",
       "\n",
       "                                                path  \n",
       "0  ../input/petfinder-pawpularity-score/train/000...  \n",
       "1  ../input/petfinder-pawpularity-score/train/000...  \n",
       "2  ../input/petfinder-pawpularity-score/train/001...  \n",
       "3  ../input/petfinder-pawpularity-score/train/001...  \n",
       "4  ../input/petfinder-pawpularity-score/train/001...  "
      ]
     },
     "execution_count": 11,
     "metadata": {},
     "output_type": "execute_result"
    }
   ],
   "source": [
    "data_train.head()"
   ]
  },
  {
   "cell_type": "code",
   "execution_count": 12,
   "id": "2e51b52a",
   "metadata": {
    "execution": {
     "iopub.execute_input": "2021-11-29T17:44:16.112390Z",
     "iopub.status.busy": "2021-11-29T17:44:16.111738Z",
     "iopub.status.idle": "2021-11-29T17:44:16.114305Z",
     "shell.execute_reply": "2021-11-29T17:44:16.114707Z",
     "shell.execute_reply.started": "2021-11-29T17:39:04.836498Z"
    },
    "papermill": {
     "duration": 0.025112,
     "end_time": "2021-11-29T17:44:16.114824",
     "exception": false,
     "start_time": "2021-11-29T17:44:16.089712",
     "status": "completed"
    },
    "tags": []
   },
   "outputs": [
    {
     "data": {
      "text/plain": [
       "0       ../input/petfinder-pawpularity-score/train/000...\n",
       "1       ../input/petfinder-pawpularity-score/train/000...\n",
       "2       ../input/petfinder-pawpularity-score/train/001...\n",
       "3       ../input/petfinder-pawpularity-score/train/001...\n",
       "4       ../input/petfinder-pawpularity-score/train/001...\n",
       "                              ...                        \n",
       "9907    ../input/petfinder-pawpularity-score/train/ffb...\n",
       "9908    ../input/petfinder-pawpularity-score/train/ffc...\n",
       "9909    ../input/petfinder-pawpularity-score/train/ffd...\n",
       "9910    ../input/petfinder-pawpularity-score/train/fff...\n",
       "9911    ../input/petfinder-pawpularity-score/train/fff...\n",
       "Name: path, Length: 9912, dtype: object"
      ]
     },
     "execution_count": 12,
     "metadata": {},
     "output_type": "execute_result"
    }
   ],
   "source": [
    "data_train.path"
   ]
  },
  {
   "cell_type": "code",
   "execution_count": 13,
   "id": "bb76b309",
   "metadata": {
    "execution": {
     "iopub.execute_input": "2021-11-29T17:44:16.335858Z",
     "iopub.status.busy": "2021-11-29T17:44:16.152404Z",
     "iopub.status.idle": "2021-11-29T17:44:18.952528Z",
     "shell.execute_reply": "2021-11-29T17:44:18.951646Z",
     "shell.execute_reply.started": "2021-11-29T17:39:04.854910Z"
    },
    "papermill": {
     "duration": 2.821145,
     "end_time": "2021-11-29T17:44:18.952669",
     "exception": false,
     "start_time": "2021-11-29T17:44:16.131524",
     "status": "completed"
    },
    "tags": []
   },
   "outputs": [
    {
     "name": "stderr",
     "output_type": "stream",
     "text": [
      "2021-11-29 17:44:16.210558: I tensorflow/stream_executor/cuda/cuda_gpu_executor.cc:937] successful NUMA node read from SysFS had negative value (-1), but there must be at least one NUMA node, so returning NUMA node zero\n",
      "2021-11-29 17:44:16.331985: I tensorflow/stream_executor/cuda/cuda_gpu_executor.cc:937] successful NUMA node read from SysFS had negative value (-1), but there must be at least one NUMA node, so returning NUMA node zero\n",
      "2021-11-29 17:44:16.332893: I tensorflow/stream_executor/cuda/cuda_gpu_executor.cc:937] successful NUMA node read from SysFS had negative value (-1), but there must be at least one NUMA node, so returning NUMA node zero\n",
      "2021-11-29 17:44:16.341420: I tensorflow/core/platform/cpu_feature_guard.cc:142] This TensorFlow binary is optimized with oneAPI Deep Neural Network Library (oneDNN) to use the following CPU instructions in performance-critical operations:  AVX2 AVX512F FMA\n",
      "To enable them in other operations, rebuild TensorFlow with the appropriate compiler flags.\n",
      "2021-11-29 17:44:16.342726: I tensorflow/stream_executor/cuda/cuda_gpu_executor.cc:937] successful NUMA node read from SysFS had negative value (-1), but there must be at least one NUMA node, so returning NUMA node zero\n",
      "2021-11-29 17:44:16.343672: I tensorflow/stream_executor/cuda/cuda_gpu_executor.cc:937] successful NUMA node read from SysFS had negative value (-1), but there must be at least one NUMA node, so returning NUMA node zero\n",
      "2021-11-29 17:44:16.344297: I tensorflow/stream_executor/cuda/cuda_gpu_executor.cc:937] successful NUMA node read from SysFS had negative value (-1), but there must be at least one NUMA node, so returning NUMA node zero\n",
      "2021-11-29 17:44:18.292102: I tensorflow/stream_executor/cuda/cuda_gpu_executor.cc:937] successful NUMA node read from SysFS had negative value (-1), but there must be at least one NUMA node, so returning NUMA node zero\n",
      "2021-11-29 17:44:18.292922: I tensorflow/stream_executor/cuda/cuda_gpu_executor.cc:937] successful NUMA node read from SysFS had negative value (-1), but there must be at least one NUMA node, so returning NUMA node zero\n",
      "2021-11-29 17:44:18.293646: I tensorflow/stream_executor/cuda/cuda_gpu_executor.cc:937] successful NUMA node read from SysFS had negative value (-1), but there must be at least one NUMA node, so returning NUMA node zero\n",
      "2021-11-29 17:44:18.294240: I tensorflow/core/common_runtime/gpu/gpu_device.cc:1510] Created device /job:localhost/replica:0/task:0/device:GPU:0 with 15403 MB memory:  -> device: 0, name: Tesla P100-PCIE-16GB, pci bus id: 0000:00:04.0, compute capability: 6.0\n"
     ]
    }
   ],
   "source": [
    "train_data = get_dataset(x=train_subset['path'], y=train_subset[y]/100.).shuffle(1000)\n",
    "valid_data = get_dataset(x=valid_subset['path'], y=valid_subset[y]/100.).shuffle(1000)\n",
    "test_data = get_dataset(x=data_test['path'])"
   ]
  },
  {
   "cell_type": "code",
   "execution_count": 14,
   "id": "7d2f4c04",
   "metadata": {
    "execution": {
     "iopub.execute_input": "2021-11-29T17:44:18.993406Z",
     "iopub.status.busy": "2021-11-29T17:44:18.992831Z",
     "iopub.status.idle": "2021-11-29T17:44:23.264068Z",
     "shell.execute_reply": "2021-11-29T17:44:23.265275Z",
     "shell.execute_reply.started": "2021-11-29T17:39:07.727618Z"
    },
    "papermill": {
     "duration": 4.294389,
     "end_time": "2021-11-29T17:44:23.265488",
     "exception": false,
     "start_time": "2021-11-29T17:44:18.971099",
     "status": "completed"
    },
    "tags": []
   },
   "outputs": [],
   "source": [
    "model = tf.keras.models.load_model('../input/keras-applications-models/InceptionV3.h5')\n",
    "model.trainable = False"
   ]
  },
  {
   "cell_type": "code",
   "execution_count": 15,
   "id": "9b1f89dd",
   "metadata": {
    "execution": {
     "iopub.execute_input": "2021-11-29T17:44:23.335011Z",
     "iopub.status.busy": "2021-11-29T17:44:23.334262Z",
     "iopub.status.idle": "2021-11-29T17:44:23.976218Z",
     "shell.execute_reply": "2021-11-29T17:44:23.975266Z",
     "shell.execute_reply.started": "2021-11-29T17:39:11.741203Z"
    },
    "papermill": {
     "duration": 0.67967,
     "end_time": "2021-11-29T17:44:23.976364",
     "exception": false,
     "start_time": "2021-11-29T17:44:23.296694",
     "status": "completed"
    },
    "tags": []
   },
   "outputs": [],
   "source": [
    "model= tf.keras.models.Sequential(\n",
    "    [\n",
    "        tf.keras.layers.Input(shape=(img_size, img_size, 3)),\n",
    "        tf.keras.layers.experimental.preprocessing.RandomFlip(mode=\"horizontal_and_vertical\"),\n",
    "        model,\n",
    "        tf.keras.layers.BatchNormalization(),\n",
    "        tf.keras.layers.Dropout(dropout, name='top_dropout'),\n",
    "        tf.keras.layers.Dense(32, activation='elu'),\n",
    "        tf.keras.layers.Dense(1)\n",
    "    ]\n",
    ")"
   ]
  },
  {
   "cell_type": "code",
   "execution_count": 16,
   "id": "4e889f9c",
   "metadata": {
    "execution": {
     "iopub.execute_input": "2021-11-29T17:44:24.017926Z",
     "iopub.status.busy": "2021-11-29T17:44:24.016034Z",
     "iopub.status.idle": "2021-11-29T17:44:24.018529Z",
     "shell.execute_reply": "2021-11-29T17:44:24.018938Z",
     "shell.execute_reply.started": "2021-11-29T17:39:12.341278Z"
    },
    "papermill": {
     "duration": 0.024896,
     "end_time": "2021-11-29T17:44:24.019066",
     "exception": false,
     "start_time": "2021-11-29T17:44:23.994170",
     "status": "completed"
    },
    "tags": []
   },
   "outputs": [],
   "source": [
    "lr_schedule = tf.keras.optimizers.schedules.ExponentialDecay(\n",
    "    initial_learning_rate=lr,\n",
    "    decay_steps=decay_steps, decay_rate=decay_rate,staircase=True)\n",
    "\n",
    "early_stop = tf.keras.callbacks.EarlyStopping(\n",
    "    monitor='val_loss', patience=5, restore_best_weights=True)"
   ]
  },
  {
   "cell_type": "code",
   "execution_count": 17,
   "id": "59da46c1",
   "metadata": {
    "execution": {
     "iopub.execute_input": "2021-11-29T17:44:24.066056Z",
     "iopub.status.busy": "2021-11-29T17:44:24.057276Z",
     "iopub.status.idle": "2021-11-29T17:44:24.073962Z",
     "shell.execute_reply": "2021-11-29T17:44:24.073505Z",
     "shell.execute_reply.started": "2021-11-29T17:39:12.348014Z"
    },
    "papermill": {
     "duration": 0.037646,
     "end_time": "2021-11-29T17:44:24.074084",
     "exception": false,
     "start_time": "2021-11-29T17:44:24.036438",
     "status": "completed"
    },
    "tags": []
   },
   "outputs": [],
   "source": [
    "from tensorflow.keras import backend as K\n",
    "def rmse(y_true, y_pred):\n",
    "    return K.sqrt(K.mean(K.square(y_true*100 - y_pred*100)))\n",
    "\n",
    "model.compile(optimizer=tf.keras.optimizers.Adam(learning_rate=lr_schedule),\n",
    "                    loss=rmse,\n",
    "                    metrics=[rmse])"
   ]
  },
  {
   "cell_type": "code",
   "execution_count": 18,
   "id": "19d95379",
   "metadata": {
    "execution": {
     "iopub.execute_input": "2021-11-29T17:44:24.119176Z",
     "iopub.status.busy": "2021-11-29T17:44:24.118372Z",
     "iopub.status.idle": "2021-11-29T17:58:58.107631Z",
     "shell.execute_reply": "2021-11-29T17:58:58.108655Z",
     "shell.execute_reply.started": "2021-11-29T17:39:12.370445Z"
    },
    "papermill": {
     "duration": 874.016252,
     "end_time": "2021-11-29T17:58:58.108831",
     "exception": false,
     "start_time": "2021-11-29T17:44:24.092579",
     "status": "completed"
    },
    "tags": []
   },
   "outputs": [
    {
     "name": "stdout",
     "output_type": "stream",
     "text": [
      "Epoch 1/1000\n"
     ]
    },
    {
     "name": "stderr",
     "output_type": "stream",
     "text": [
      "2021-11-29 17:44:27.568319: I tensorflow/compiler/mlir/mlir_graph_optimization_pass.cc:185] None of the MLIR Optimization Passes are enabled (registered 2)\n",
      "2021-11-29 17:44:38.210677: I tensorflow/core/kernels/data/shuffle_dataset_op.cc:175] Filling up shuffle buffer (this may take a while): 219 of 1000\n",
      "2021-11-29 17:44:48.240488: I tensorflow/core/kernels/data/shuffle_dataset_op.cc:175] Filling up shuffle buffer (this may take a while): 438 of 1000\n",
      "2021-11-29 17:44:58.221560: I tensorflow/core/kernels/data/shuffle_dataset_op.cc:175] Filling up shuffle buffer (this may take a while): 635 of 1000\n",
      "2021-11-29 17:45:08.225579: I tensorflow/core/kernels/data/shuffle_dataset_op.cc:175] Filling up shuffle buffer (this may take a while): 883 of 1000\n",
      "2021-11-29 17:45:10.043956: I tensorflow/core/kernels/data/shuffle_dataset_op.cc:228] Shuffle buffer filled.\n",
      "2021-11-29 17:45:10.769791: I tensorflow/stream_executor/cuda/cuda_dnn.cc:369] Loaded cuDNN version 8005\n"
     ]
    },
    {
     "name": "stdout",
     "output_type": "stream",
     "text": [
      "930/930 [==============================] - ETA: 0s - loss: 53.3326 - rmse: 53.3250"
     ]
    },
    {
     "name": "stderr",
     "output_type": "stream",
     "text": [
      "2021-11-29 17:45:55.992752: I tensorflow/core/kernels/data/shuffle_dataset_op.cc:175] Filling up shuffle buffer (this may take a while): 242 of 1000\n",
      "2021-11-29 17:45:58.610646: I tensorflow/core/kernels/data/shuffle_dataset_op.cc:228] Shuffle buffer filled.\n"
     ]
    },
    {
     "name": "stdout",
     "output_type": "stream",
     "text": [
      "930/930 [==============================] - 102s 54ms/step - loss: 53.3326 - rmse: 53.3250 - val_loss: 20.0326 - val_rmse: 20.0318\n",
      "Epoch 2/1000\n"
     ]
    },
    {
     "name": "stderr",
     "output_type": "stream",
     "text": [
      "2021-11-29 17:46:16.483170: I tensorflow/core/kernels/data/shuffle_dataset_op.cc:175] Filling up shuffle buffer (this may take a while): 182 of 1000\n",
      "2021-11-29 17:46:26.485283: I tensorflow/core/kernels/data/shuffle_dataset_op.cc:175] Filling up shuffle buffer (this may take a while): 425 of 1000\n",
      "2021-11-29 17:46:36.515974: I tensorflow/core/kernels/data/shuffle_dataset_op.cc:175] Filling up shuffle buffer (this may take a while): 578 of 1000\n",
      "2021-11-29 17:46:46.505809: I tensorflow/core/kernels/data/shuffle_dataset_op.cc:175] Filling up shuffle buffer (this may take a while): 733 of 1000\n",
      "2021-11-29 17:46:56.526430: I tensorflow/core/kernels/data/shuffle_dataset_op.cc:175] Filling up shuffle buffer (this may take a while): 879 of 1000\n"
     ]
    },
    {
     "name": "stdout",
     "output_type": "stream",
     "text": [
      "  5/930 [..............................] - ETA: 32s - loss: 22.3020 - rmse: 22.3020"
     ]
    },
    {
     "name": "stderr",
     "output_type": "stream",
     "text": [
      "2021-11-29 17:46:59.779362: I tensorflow/core/kernels/data/shuffle_dataset_op.cc:228] Shuffle buffer filled.\n"
     ]
    },
    {
     "name": "stdout",
     "output_type": "stream",
     "text": [
      "929/930 [============================>.] - ETA: 0s - loss: 18.5866 - rmse: 18.5766"
     ]
    },
    {
     "name": "stderr",
     "output_type": "stream",
     "text": [
      "2021-11-29 17:47:38.301006: I tensorflow/core/kernels/data/shuffle_dataset_op.cc:175] Filling up shuffle buffer (this may take a while): 291 of 1000\n",
      "2021-11-29 17:47:39.045272: I tensorflow/core/kernels/data/shuffle_dataset_op.cc:228] Shuffle buffer filled.\n"
     ]
    },
    {
     "name": "stdout",
     "output_type": "stream",
     "text": [
      "930/930 [==============================] - 100s 50ms/step - loss: 18.5833 - rmse: 18.5733 - val_loss: 18.4553 - val_rmse: 18.4567\n",
      "Epoch 3/1000\n"
     ]
    },
    {
     "name": "stderr",
     "output_type": "stream",
     "text": [
      "2021-11-29 17:48:38.406314: I tensorflow/core/kernels/data/shuffle_dataset_op.cc:175] Filling up shuffle buffer (this may take a while): 293 of 1000\n",
      "2021-11-29 17:48:48.412469: I tensorflow/core/kernels/data/shuffle_dataset_op.cc:175] Filling up shuffle buffer (this may take a while): 626 of 1000\n"
     ]
    },
    {
     "name": "stdout",
     "output_type": "stream",
     "text": [
      "  5/930 [..............................] - ETA: 29s - loss: 14.9864 - rmse: 14.9864"
     ]
    },
    {
     "name": "stderr",
     "output_type": "stream",
     "text": [
      "2021-11-29 17:48:57.194515: I tensorflow/core/kernels/data/shuffle_dataset_op.cc:228] Shuffle buffer filled.\n"
     ]
    },
    {
     "name": "stdout",
     "output_type": "stream",
     "text": [
      "930/930 [==============================] - 73s 48ms/step - loss: 17.9229 - rmse: 17.9149 - val_loss: 18.3573 - val_rmse: 18.3582\n",
      "Epoch 4/1000\n"
     ]
    },
    {
     "name": "stderr",
     "output_type": "stream",
     "text": [
      "2021-11-29 17:50:00.328417: I tensorflow/core/kernels/data/shuffle_dataset_op.cc:175] Filling up shuffle buffer (this may take a while): 358 of 1000\n",
      "2021-11-29 17:50:10.308119: I tensorflow/core/kernels/data/shuffle_dataset_op.cc:175] Filling up shuffle buffer (this may take a while): 694 of 1000\n"
     ]
    },
    {
     "name": "stdout",
     "output_type": "stream",
     "text": [
      "  5/930 [..............................] - ETA: 30s - loss: 18.2078 - rmse: 18.2078"
     ]
    },
    {
     "name": "stderr",
     "output_type": "stream",
     "text": [
      "2021-11-29 17:50:16.899248: I tensorflow/core/kernels/data/shuffle_dataset_op.cc:228] Shuffle buffer filled.\n"
     ]
    },
    {
     "name": "stdout",
     "output_type": "stream",
     "text": [
      "930/930 [==============================] - 71s 48ms/step - loss: 17.6617 - rmse: 17.6556 - val_loss: 18.2712 - val_rmse: 18.2713\n",
      "Epoch 5/1000\n"
     ]
    },
    {
     "name": "stderr",
     "output_type": "stream",
     "text": [
      "2021-11-29 17:51:22.229197: I tensorflow/core/kernels/data/shuffle_dataset_op.cc:175] Filling up shuffle buffer (this may take a while): 338 of 1000\n",
      "2021-11-29 17:51:32.231547: I tensorflow/core/kernels/data/shuffle_dataset_op.cc:175] Filling up shuffle buffer (this may take a while): 710 of 1000\n"
     ]
    },
    {
     "name": "stdout",
     "output_type": "stream",
     "text": [
      "  5/930 [..............................] - ETA: 29s - loss: 17.8806 - rmse: 17.8806"
     ]
    },
    {
     "name": "stderr",
     "output_type": "stream",
     "text": [
      "2021-11-29 17:51:38.645741: I tensorflow/core/kernels/data/shuffle_dataset_op.cc:228] Shuffle buffer filled.\n"
     ]
    },
    {
     "name": "stdout",
     "output_type": "stream",
     "text": [
      "930/930 [==============================] - 71s 48ms/step - loss: 17.4505 - rmse: 17.4427 - val_loss: 18.1895 - val_rmse: 18.1885\n",
      "Epoch 6/1000\n"
     ]
    },
    {
     "name": "stderr",
     "output_type": "stream",
     "text": [
      "2021-11-29 17:52:44.149849: I tensorflow/core/kernels/data/shuffle_dataset_op.cc:175] Filling up shuffle buffer (this may take a while): 358 of 1000\n",
      "2021-11-29 17:52:54.156287: I tensorflow/core/kernels/data/shuffle_dataset_op.cc:175] Filling up shuffle buffer (this may take a while): 679 of 1000\n"
     ]
    },
    {
     "name": "stdout",
     "output_type": "stream",
     "text": [
      "  5/930 [..............................] - ETA: 29s - loss: 16.4440 - rmse: 16.4440"
     ]
    },
    {
     "name": "stderr",
     "output_type": "stream",
     "text": [
      "2021-11-29 17:53:01.296815: I tensorflow/core/kernels/data/shuffle_dataset_op.cc:228] Shuffle buffer filled.\n"
     ]
    },
    {
     "name": "stdout",
     "output_type": "stream",
     "text": [
      "930/930 [==============================] - 72s 48ms/step - loss: 17.0864 - rmse: 17.0766 - val_loss: 18.3310 - val_rmse: 18.3302\n",
      "Epoch 7/1000\n"
     ]
    },
    {
     "name": "stderr",
     "output_type": "stream",
     "text": [
      "2021-11-29 17:53:55.730361: I tensorflow/core/kernels/data/shuffle_dataset_op.cc:175] Filling up shuffle buffer (this may take a while): 341 of 1000\n",
      "2021-11-29 17:54:05.725460: I tensorflow/core/kernels/data/shuffle_dataset_op.cc:175] Filling up shuffle buffer (this may take a while): 643 of 1000\n"
     ]
    },
    {
     "name": "stdout",
     "output_type": "stream",
     "text": [
      "  5/930 [..............................] - ETA: 29s - loss: 20.0731 - rmse: 20.0731"
     ]
    },
    {
     "name": "stderr",
     "output_type": "stream",
     "text": [
      "2021-11-29 17:54:14.271391: I tensorflow/core/kernels/data/shuffle_dataset_op.cc:228] Shuffle buffer filled.\n"
     ]
    },
    {
     "name": "stdout",
     "output_type": "stream",
     "text": [
      "930/930 [==============================] - 73s 48ms/step - loss: 16.9100 - rmse: 16.8976 - val_loss: 18.2362 - val_rmse: 18.2352\n",
      "Epoch 8/1000\n"
     ]
    },
    {
     "name": "stderr",
     "output_type": "stream",
     "text": [
      "2021-11-29 17:55:17.632474: I tensorflow/core/kernels/data/shuffle_dataset_op.cc:175] Filling up shuffle buffer (this may take a while): 311 of 1000\n",
      "2021-11-29 17:55:27.643686: I tensorflow/core/kernels/data/shuffle_dataset_op.cc:175] Filling up shuffle buffer (this may take a while): 672 of 1000\n"
     ]
    },
    {
     "name": "stdout",
     "output_type": "stream",
     "text": [
      "  5/930 [..............................] - ETA: 29s - loss: 15.1189 - rmse: 15.1189"
     ]
    },
    {
     "name": "stderr",
     "output_type": "stream",
     "text": [
      "2021-11-29 17:55:34.848694: I tensorflow/core/kernels/data/shuffle_dataset_op.cc:228] Shuffle buffer filled.\n"
     ]
    },
    {
     "name": "stdout",
     "output_type": "stream",
     "text": [
      "930/930 [==============================] - 71s 47ms/step - loss: 16.6720 - rmse: 16.6608 - val_loss: 18.3201 - val_rmse: 18.3194\n",
      "Epoch 9/1000\n"
     ]
    },
    {
     "name": "stderr",
     "output_type": "stream",
     "text": [
      "2021-11-29 17:56:39.571376: I tensorflow/core/kernels/data/shuffle_dataset_op.cc:175] Filling up shuffle buffer (this may take a while): 293 of 1000\n",
      "2021-11-29 17:56:49.563600: I tensorflow/core/kernels/data/shuffle_dataset_op.cc:175] Filling up shuffle buffer (this may take a while): 580 of 1000\n",
      "2021-11-29 17:56:59.561954: I tensorflow/core/kernels/data/shuffle_dataset_op.cc:175] Filling up shuffle buffer (this may take a while): 901 of 1000\n"
     ]
    },
    {
     "name": "stdout",
     "output_type": "stream",
     "text": [
      "  5/930 [..............................] - ETA: 32s - loss: 23.9845 - rmse: 23.9845"
     ]
    },
    {
     "name": "stderr",
     "output_type": "stream",
     "text": [
      "2021-11-29 17:57:00.676444: I tensorflow/core/kernels/data/shuffle_dataset_op.cc:228] Shuffle buffer filled.\n"
     ]
    },
    {
     "name": "stdout",
     "output_type": "stream",
     "text": [
      "930/930 [==============================] - 76s 48ms/step - loss: 16.5580 - rmse: 16.5466 - val_loss: 18.2499 - val_rmse: 18.2487\n",
      "Epoch 10/1000\n"
     ]
    },
    {
     "name": "stderr",
     "output_type": "stream",
     "text": [
      "2021-11-29 17:57:55.358760: I tensorflow/core/kernels/data/shuffle_dataset_op.cc:175] Filling up shuffle buffer (this may take a while): 312 of 1000\n",
      "2021-11-29 17:58:05.356822: I tensorflow/core/kernels/data/shuffle_dataset_op.cc:175] Filling up shuffle buffer (this may take a while): 674 of 1000\n"
     ]
    },
    {
     "name": "stdout",
     "output_type": "stream",
     "text": [
      "  5/930 [..............................] - ETA: 29s - loss: 16.4911 - rmse: 16.4911"
     ]
    },
    {
     "name": "stderr",
     "output_type": "stream",
     "text": [
      "2021-11-29 17:58:12.480049: I tensorflow/core/kernels/data/shuffle_dataset_op.cc:228] Shuffle buffer filled.\n"
     ]
    },
    {
     "name": "stdout",
     "output_type": "stream",
     "text": [
      "930/930 [==============================] - 71s 48ms/step - loss: 16.4505 - rmse: 16.4408 - val_loss: 18.2147 - val_rmse: 18.2132\n"
     ]
    }
   ],
   "source": [
    "history=model.fit(train_data,validation_data=valid_data, epochs=epochs,verbose=1,callbacks=[early_stop],use_multiprocessing=True, workers=-1)"
   ]
  },
  {
   "cell_type": "code",
   "execution_count": 19,
   "id": "6a8384c8",
   "metadata": {
    "execution": {
     "iopub.execute_input": "2021-11-29T17:59:01.078399Z",
     "iopub.status.busy": "2021-11-29T17:59:01.077606Z",
     "iopub.status.idle": "2021-11-29T17:59:02.330540Z",
     "shell.execute_reply": "2021-11-29T17:59:02.330001Z",
     "shell.execute_reply.started": "2021-11-29T17:42:06.019843Z"
    },
    "papermill": {
     "duration": 2.805285,
     "end_time": "2021-11-29T17:59:02.330684",
     "exception": false,
     "start_time": "2021-11-29T17:58:59.525399",
     "status": "completed"
    },
    "tags": []
   },
   "outputs": [],
   "source": [
    "data_test[y] = model.predict(test_data,use_multiprocessing=True, workers=os.cpu_count())*100"
   ]
  },
  {
   "cell_type": "code",
   "execution_count": 20,
   "id": "3f36ecde",
   "metadata": {
    "execution": {
     "iopub.execute_input": "2021-11-29T17:59:05.067903Z",
     "iopub.status.busy": "2021-11-29T17:59:05.067322Z",
     "iopub.status.idle": "2021-11-29T17:59:05.081103Z",
     "shell.execute_reply": "2021-11-29T17:59:05.081592Z",
     "shell.execute_reply.started": "2021-11-29T17:42:07.226188Z"
    },
    "papermill": {
     "duration": 1.260721,
     "end_time": "2021-11-29T17:59:05.081770",
     "exception": false,
     "start_time": "2021-11-29T17:59:03.821049",
     "status": "completed"
    },
    "tags": []
   },
   "outputs": [
    {
     "data": {
      "text/html": [
       "<div>\n",
       "<style scoped>\n",
       "    .dataframe tbody tr th:only-of-type {\n",
       "        vertical-align: middle;\n",
       "    }\n",
       "\n",
       "    .dataframe tbody tr th {\n",
       "        vertical-align: top;\n",
       "    }\n",
       "\n",
       "    .dataframe thead th {\n",
       "        text-align: right;\n",
       "    }\n",
       "</style>\n",
       "<table border=\"1\" class=\"dataframe\">\n",
       "  <thead>\n",
       "    <tr style=\"text-align: right;\">\n",
       "      <th></th>\n",
       "      <th>Id</th>\n",
       "      <th>Pawpularity</th>\n",
       "    </tr>\n",
       "  </thead>\n",
       "  <tbody>\n",
       "    <tr>\n",
       "      <th>0</th>\n",
       "      <td>4128bae22183829d2b5fea10effdb0c3</td>\n",
       "      <td>41.840374</td>\n",
       "    </tr>\n",
       "    <tr>\n",
       "      <th>1</th>\n",
       "      <td>43a2262d7738e3d420d453815151079e</td>\n",
       "      <td>44.162552</td>\n",
       "    </tr>\n",
       "    <tr>\n",
       "      <th>2</th>\n",
       "      <td>4e429cead1848a298432a0acad014c9d</td>\n",
       "      <td>45.983620</td>\n",
       "    </tr>\n",
       "    <tr>\n",
       "      <th>3</th>\n",
       "      <td>80bc3ccafcc51b66303c2c263aa38486</td>\n",
       "      <td>45.296276</td>\n",
       "    </tr>\n",
       "    <tr>\n",
       "      <th>4</th>\n",
       "      <td>8f49844c382931444e68dffbe20228f4</td>\n",
       "      <td>45.647762</td>\n",
       "    </tr>\n",
       "  </tbody>\n",
       "</table>\n",
       "</div>"
      ],
      "text/plain": [
       "                                 Id  Pawpularity\n",
       "0  4128bae22183829d2b5fea10effdb0c3    41.840374\n",
       "1  43a2262d7738e3d420d453815151079e    44.162552\n",
       "2  4e429cead1848a298432a0acad014c9d    45.983620\n",
       "3  80bc3ccafcc51b66303c2c263aa38486    45.296276\n",
       "4  8f49844c382931444e68dffbe20228f4    45.647762"
      ]
     },
     "execution_count": 20,
     "metadata": {},
     "output_type": "execute_result"
    }
   ],
   "source": [
    "data_test[['Id', y]].to_csv('submission.csv', index=False)\n",
    "data_test[['Id', y]].head()"
   ]
  },
  {
   "cell_type": "code",
   "execution_count": null,
   "id": "e4f35a41",
   "metadata": {
    "papermill": {
     "duration": 1.218488,
     "end_time": "2021-11-29T17:59:07.595768",
     "exception": false,
     "start_time": "2021-11-29T17:59:06.377280",
     "status": "completed"
    },
    "tags": []
   },
   "outputs": [],
   "source": []
  }
 ],
 "metadata": {
  "kernelspec": {
   "display_name": "Python 3",
   "language": "python",
   "name": "python3"
  },
  "language_info": {
   "codemirror_mode": {
    "name": "ipython",
    "version": 3
   },
   "file_extension": ".py",
   "mimetype": "text/x-python",
   "name": "python",
   "nbconvert_exporter": "python",
   "pygments_lexer": "ipython3",
   "version": "3.7.10"
  },
  "papermill": {
   "default_parameters": {},
   "duration": 911.98548,
   "end_time": "2021-11-29T17:59:13.729621",
   "environment_variables": {},
   "exception": null,
   "input_path": "__notebook__.ipynb",
   "output_path": "__notebook__.ipynb",
   "parameters": {},
   "start_time": "2021-11-29T17:44:01.744141",
   "version": "2.3.3"
  }
 },
 "nbformat": 4,
 "nbformat_minor": 5
}
