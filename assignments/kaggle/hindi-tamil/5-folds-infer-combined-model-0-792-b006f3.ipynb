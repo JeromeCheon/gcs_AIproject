{
 "cells": [
  {
   "cell_type": "markdown",
   "id": "10494812",
   "metadata": {
    "execution": {
     "iopub.execute_input": "2021-09-30T21:49:49.137083Z",
     "iopub.status.busy": "2021-09-30T21:49:49.136675Z",
     "iopub.status.idle": "2021-09-30T21:49:49.243477Z",
     "shell.execute_reply": "2021-09-30T21:49:49.242351Z",
     "shell.execute_reply.started": "2021-09-30T21:49:49.136976Z"
    },
    "papermill": {
     "duration": 0.013165,
     "end_time": "2021-10-25T06:38:12.305122",
     "exception": false,
     "start_time": "2021-10-25T06:38:12.291957",
     "status": "completed"
    },
    "tags": []
   },
   "source": [
    "# Making the 0.792 model : \n",
    "\n",
    "### Making the model and Inferencing steps:\n",
    "\n",
    "<ul>  \n",
    "    <li>Using the datasets : chaii, mlqa, squad, tamil_xquad </li>\n",
    "    <li>Training for 2 epochs : <a href=\"https://www.kaggle.com/kishalmandal/chaii-fit-2-epochs-mlqa-xquad-chaii/\">chaii | FIT - 2 epochs | mlqa, xquad, chaii</a> </li>\n",
    "    <li>Training for 7 epochs with tamil_xquad: <a href=\"https://www.kaggle.com/kishalmandal/chaii-fit-7-epochs-extra-tamil-data/\">chaii | FIT - 7 epochs | Extra Tamil Data</a> </li>\n",
    "    <li>Inferencing from 5 folds | fold-0 and fold-1 (7-epochs) | fold-2, fold-3 and fold-4 (2-epochs)| based on cross validation scores and a little bit of experimentation 😜: <a href=\"https://www.kaggle.com/kishalmandal/5-epochs-infer-combined-model-0-792/\">5 epochs | INFER | combined model (0.792)</a></li>\n",
    "    \n",
    "    \n",
    "</ul>\n",
    "\n",
    "### References : \n",
    "\n",
    "<ul> \n",
    "    <li>For training: <a href=\"https://www.kaggle.com/rhtsingh/chaii-qa-5-fold-xlmroberta-torch-fit\">chaii QA - 5 Fold XLMRoberta Torch | FIT</a> by <a href=\"https://www.kaggle.com/rhtsingh\">torch</a></li>\n",
    "    <li>For Inference: <a href=\"https://www.kaggle.com/rhtsingh/chaii-qa-5-fold-xlmroberta-torch-infer\">chaii QA - 5 Fold XLMRoberta Torch | Infer</a> by <a href=\"https://www.kaggle.com/rhtsingh\">torch</a></li>\n",
    "    <li>For post processing outputs: <a href=\"https://www.kaggle.com/nbroad/chaii-qa-torch-5-fold-with-post-processing-765\">chaii QA-Torch 5 fold with post-processing (.765)</a> by <a href=\"https://www.kaggle.com/nbroad\">Nicholas Broad 🟢</a></li>\n",
    "</ul>\n",
    "\n",
    "\n",
    "### Important Notes:\n",
    "\n",
    "<ul>\n",
    "    <li>Some one experimented with the max_seq_length and doc_stride to bring my previous 0.785 to 0.792. Then I performed some more experiments and saw more than 400 decreases the score (~0.3-0.4) while decreasing below 400 upto around 384 does not change the score by much (~0.2)</li>\n",
    "    <li>Vigourous change or lr and decay rates reduces the performance.</li>\n",
    "    <li>I took weighted average based on the validation loss increased score by (~0.01)</li>\n",
    "</ul>"
   ]
  },
  {
   "cell_type": "code",
   "execution_count": 1,
   "id": "d0e6f2be",
   "metadata": {
    "execution": {
     "iopub.execute_input": "2021-10-25T06:38:12.418226Z",
     "iopub.status.busy": "2021-10-25T06:38:12.416950Z",
     "iopub.status.idle": "2021-10-25T06:38:22.986253Z",
     "shell.execute_reply": "2021-10-25T06:38:22.985668Z",
     "shell.execute_reply.started": "2021-10-15T01:09:12.572416Z"
    },
    "papermill": {
     "duration": 10.669132,
     "end_time": "2021-10-25T06:38:22.986409",
     "exception": false,
     "start_time": "2021-10-25T06:38:12.317277",
     "status": "completed"
    },
    "tags": []
   },
   "outputs": [
    {
     "name": "stderr",
     "output_type": "stream",
     "text": [
      "2021-10-25 06:38:18.355546: I tensorflow/stream_executor/platform/default/dso_loader.cc:49] Successfully opened dynamic library libcudart.so.11.0\n"
     ]
    }
   ],
   "source": [
    "import os\n",
    "os.environ[\"TOKENIZERS_PARALLELISM\"] = \"false\"\n",
    "import gc\n",
    "gc.enable()\n",
    "import math\n",
    "import json\n",
    "import time\n",
    "import random\n",
    "import multiprocessing\n",
    "import warnings\n",
    "warnings.filterwarnings(\"ignore\", category=UserWarning)\n",
    "\n",
    "import numpy as np\n",
    "import pandas as pd\n",
    "from tqdm import tqdm, trange\n",
    "from sklearn import model_selection\n",
    "from string import punctuation\n",
    "\n",
    "import torch\n",
    "import torch.nn as nn\n",
    "import torch.nn.functional as F\n",
    "from torch.nn import Parameter\n",
    "import torch.optim as optim\n",
    "from torch.utils.data import (\n",
    "    Dataset, DataLoader,\n",
    "    SequentialSampler, RandomSampler\n",
    ")\n",
    "from torch.utils.data.distributed import DistributedSampler\n",
    "\n",
    "try:\n",
    "    from apex import amp\n",
    "    APEX_INSTALLED = True\n",
    "except ImportError:\n",
    "    APEX_INSTALLED = False\n",
    "\n",
    "import transformers\n",
    "from transformers import (\n",
    "    WEIGHTS_NAME,\n",
    "    AdamW,\n",
    "    AutoConfig,\n",
    "    AutoModel,\n",
    "    AutoTokenizer,\n",
    "    get_cosine_schedule_with_warmup,\n",
    "    get_linear_schedule_with_warmup,\n",
    "    logging,\n",
    "    MODEL_FOR_QUESTION_ANSWERING_MAPPING,\n",
    ")\n",
    "logging.set_verbosity_warning()\n",
    "logging.set_verbosity_error()\n",
    "\n",
    "def fix_all_seeds(seed):\n",
    "    np.random.seed(seed)\n",
    "    random.seed(seed)\n",
    "    os.environ['PYTHONHASHSEED'] = str(seed)\n",
    "    torch.manual_seed(seed)\n",
    "    torch.cuda.manual_seed(seed)\n",
    "    torch.cuda.manual_seed_all(seed)\n",
    "\n",
    "def optimal_num_of_loader_workers():\n",
    "    num_cpus = multiprocessing.cpu_count()\n",
    "    num_gpus = torch.cuda.device_count()\n",
    "    optimal_value = min(num_cpus, num_gpus*4) if num_gpus else num_cpus - 1\n",
    "    return optimal_value\n",
    "\n",
    "MODEL_CONFIG_CLASSES = list(MODEL_FOR_QUESTION_ANSWERING_MAPPING.keys())\n",
    "MODEL_TYPES = tuple(conf.model_type for conf in MODEL_CONFIG_CLASSES)"
   ]
  },
  {
   "cell_type": "code",
   "execution_count": 2,
   "id": "b13939ef",
   "metadata": {
    "execution": {
     "iopub.execute_input": "2021-10-25T06:38:23.018730Z",
     "iopub.status.busy": "2021-10-25T06:38:23.018001Z",
     "iopub.status.idle": "2021-10-25T06:38:23.020692Z",
     "shell.execute_reply": "2021-10-25T06:38:23.020258Z",
     "shell.execute_reply.started": "2021-10-15T01:09:23.079621Z"
    },
    "papermill": {
     "duration": 0.02074,
     "end_time": "2021-10-25T06:38:23.020805",
     "exception": false,
     "start_time": "2021-10-25T06:38:23.000065",
     "status": "completed"
    },
    "tags": []
   },
   "outputs": [],
   "source": [
    "class Config:\n",
    "    # model\n",
    "    model_type = 'xlm_roberta'\n",
    "    model_name_or_path = \"../input/xlm-roberta-large-squad-v2\"\n",
    "    config_name = \"../input/xlm-roberta-large-squad-v2\"\n",
    "    fp16 = True if APEX_INSTALLED else False\n",
    "    fp16_opt_level = \"O1\"\n",
    "    gradient_accumulation_steps = 2\n",
    "\n",
    "    # tokenizer\n",
    "    tokenizer_name = \"../input/xlm-roberta-large-squad-v2\"\n",
    "    max_seq_length = 400\n",
    "    doc_stride = 135\n",
    "\n",
    "    # train\n",
    "    epochs = 1\n",
    "    train_batch_size = 4\n",
    "    eval_batch_size = 128\n",
    "\n",
    "    # optimzer\n",
    "    optimizer_type = 'AdamW'\n",
    "    learning_rate = 1e-5\n",
    "    weight_decay = 1e-2\n",
    "    epsilon = 1e-8\n",
    "    max_grad_norm = 1.0\n",
    "\n",
    "    # scheduler\n",
    "    decay_name = 'linear-warmup'\n",
    "    warmup_ratio = 0.1\n",
    "\n",
    "    # logging\n",
    "    logging_steps = 10\n",
    "\n",
    "    # evaluate\n",
    "    output_dir = 'output'\n",
    "    seed = 2021"
   ]
  },
  {
   "cell_type": "code",
   "execution_count": 3,
   "id": "8326b889",
   "metadata": {
    "execution": {
     "iopub.execute_input": "2021-10-25T06:38:23.056960Z",
     "iopub.status.busy": "2021-10-25T06:38:23.056115Z",
     "iopub.status.idle": "2021-10-25T06:38:23.060696Z",
     "shell.execute_reply": "2021-10-25T06:38:23.060260Z",
     "shell.execute_reply.started": "2021-10-15T01:09:23.088538Z"
    },
    "papermill": {
     "duration": 0.028075,
     "end_time": "2021-10-25T06:38:23.060814",
     "exception": false,
     "start_time": "2021-10-25T06:38:23.032739",
     "status": "completed"
    },
    "tags": []
   },
   "outputs": [],
   "source": [
    "class DatasetRetriever(Dataset):\n",
    "    def __init__(self, features, mode='train'):\n",
    "        super(DatasetRetriever, self).__init__()\n",
    "        self.features = features\n",
    "        self.mode = mode\n",
    "        \n",
    "    def __len__(self):\n",
    "        return len(self.features)\n",
    "    \n",
    "    def __getitem__(self, item):   \n",
    "        feature = self.features[item]\n",
    "        if self.mode == 'train':\n",
    "            return {\n",
    "                'input_ids':torch.tensor(feature['input_ids'], dtype=torch.long),\n",
    "                'attention_mask':torch.tensor(feature['attention_mask'], dtype=torch.long),\n",
    "                'offset_mapping':torch.tensor(feature['offset_mapping'], dtype=torch.long),\n",
    "                'start_position':torch.tensor(feature['start_position'], dtype=torch.long),\n",
    "                'end_position':torch.tensor(feature['end_position'], dtype=torch.long)\n",
    "            }\n",
    "        else:\n",
    "            return {\n",
    "                'input_ids':torch.tensor(feature['input_ids'], dtype=torch.long),\n",
    "                'attention_mask':torch.tensor(feature['attention_mask'], dtype=torch.long),\n",
    "                'offset_mapping':feature['offset_mapping'],\n",
    "                'sequence_ids':feature['sequence_ids'],\n",
    "                'id':feature['example_id'],\n",
    "                'context': feature['context'],\n",
    "                'question': feature['question']\n",
    "            }"
   ]
  },
  {
   "cell_type": "code",
   "execution_count": 4,
   "id": "f5e0c035",
   "metadata": {
    "execution": {
     "iopub.execute_input": "2021-10-25T06:38:23.094356Z",
     "iopub.status.busy": "2021-10-25T06:38:23.092863Z",
     "iopub.status.idle": "2021-10-25T06:38:23.097548Z",
     "shell.execute_reply": "2021-10-25T06:38:23.097086Z",
     "shell.execute_reply.started": "2021-10-15T01:09:23.101147Z"
    },
    "papermill": {
     "duration": 0.024406,
     "end_time": "2021-10-25T06:38:23.097662",
     "exception": false,
     "start_time": "2021-10-25T06:38:23.073256",
     "status": "completed"
    },
    "tags": []
   },
   "outputs": [],
   "source": [
    "class Model(nn.Module):\n",
    "    def __init__(self, modelname_or_path, config):\n",
    "        super(Model, self).__init__()\n",
    "        self.config = config\n",
    "        self.xlm_roberta = AutoModel.from_pretrained(modelname_or_path, config=config)\n",
    "        self.qa_outputs = nn.Linear(config.hidden_size, 2)\n",
    "        self.dropout = nn.Dropout(config.hidden_dropout_prob)\n",
    "        self._init_weights(self.qa_outputs)\n",
    "        \n",
    "    def _init_weights(self, module):\n",
    "        if isinstance(module, nn.Linear):\n",
    "            module.weight.data.normal_(mean=0.0, std=self.config.initializer_range)\n",
    "            if module.bias is not None:\n",
    "                module.bias.data.zero_()\n",
    "\n",
    "    def forward(\n",
    "        self, \n",
    "        input_ids, \n",
    "        attention_mask=None, \n",
    "    ):\n",
    "        outputs = self.xlm_roberta(\n",
    "            input_ids,\n",
    "            attention_mask=attention_mask,\n",
    "        )\n",
    "\n",
    "        sequence_output = outputs[0]\n",
    "        pooled_output = outputs[1]\n",
    "        \n",
    "        # sequence_output = self.dropout(sequence_output)\n",
    "        qa_logits = self.qa_outputs(sequence_output)\n",
    "        \n",
    "        start_logits, end_logits = qa_logits.split(1, dim=-1)\n",
    "        start_logits = start_logits.squeeze(-1)\n",
    "        end_logits = end_logits.squeeze(-1)\n",
    "    \n",
    "        return start_logits, end_logits"
   ]
  },
  {
   "cell_type": "code",
   "execution_count": 5,
   "id": "143a0dc3",
   "metadata": {
    "execution": {
     "iopub.execute_input": "2021-10-25T06:38:23.126376Z",
     "iopub.status.busy": "2021-10-25T06:38:23.125588Z",
     "iopub.status.idle": "2021-10-25T06:38:23.128100Z",
     "shell.execute_reply": "2021-10-25T06:38:23.127686Z",
     "shell.execute_reply.started": "2021-10-15T01:09:23.115815Z"
    },
    "papermill": {
     "duration": 0.018574,
     "end_time": "2021-10-25T06:38:23.128204",
     "exception": false,
     "start_time": "2021-10-25T06:38:23.109630",
     "status": "completed"
    },
    "tags": []
   },
   "outputs": [],
   "source": [
    "def make_model(args):\n",
    "    config = AutoConfig.from_pretrained(args.config_name)\n",
    "    tokenizer = AutoTokenizer.from_pretrained(args.tokenizer_name)\n",
    "    model = Model(args.model_name_or_path, config=config)\n",
    "    return config, tokenizer, model"
   ]
  },
  {
   "cell_type": "code",
   "execution_count": 6,
   "id": "b29b7880",
   "metadata": {
    "execution": {
     "iopub.execute_input": "2021-10-25T06:38:23.159012Z",
     "iopub.status.busy": "2021-10-25T06:38:23.158325Z",
     "iopub.status.idle": "2021-10-25T06:38:23.160583Z",
     "shell.execute_reply": "2021-10-25T06:38:23.161016Z",
     "shell.execute_reply.started": "2021-10-15T01:09:23.125036Z"
    },
    "papermill": {
     "duration": 0.021229,
     "end_time": "2021-10-25T06:38:23.161139",
     "exception": false,
     "start_time": "2021-10-25T06:38:23.139910",
     "status": "completed"
    },
    "tags": []
   },
   "outputs": [],
   "source": [
    "def prepare_test_features(args, example, tokenizer):\n",
    "    example[\"question\"] = example[\"question\"].lstrip()\n",
    "    \n",
    "    tokenized_example = tokenizer(\n",
    "        example[\"question\"],\n",
    "        example[\"context\"],\n",
    "        truncation=\"only_second\",\n",
    "        max_length=args.max_seq_length,\n",
    "        stride=args.doc_stride,\n",
    "        return_overflowing_tokens=True,\n",
    "        return_offsets_mapping=True,\n",
    "        padding=\"max_length\",\n",
    "    )\n",
    "\n",
    "    features = []\n",
    "    for i in range(len(tokenized_example[\"input_ids\"])):\n",
    "        feature = {}\n",
    "        feature[\"example_id\"] = example['id']\n",
    "        feature['context'] = example['context']\n",
    "        feature['question'] = example['question']\n",
    "        feature['input_ids'] = tokenized_example['input_ids'][i]\n",
    "        feature['attention_mask'] = tokenized_example['attention_mask'][i]\n",
    "        feature['offset_mapping'] = tokenized_example['offset_mapping'][i]\n",
    "        feature['sequence_ids'] = [0 if i is None else i for i in tokenized_example.sequence_ids(i)]\n",
    "        features.append(feature)\n",
    "    return features"
   ]
  },
  {
   "cell_type": "code",
   "execution_count": 7,
   "id": "dd14cd00",
   "metadata": {
    "execution": {
     "iopub.execute_input": "2021-10-25T06:38:23.200028Z",
     "iopub.status.busy": "2021-10-25T06:38:23.189234Z",
     "iopub.status.idle": "2021-10-25T06:38:23.202282Z",
     "shell.execute_reply": "2021-10-25T06:38:23.201893Z",
     "shell.execute_reply.started": "2021-10-15T01:09:23.136561Z"
    },
    "papermill": {
     "duration": 0.029572,
     "end_time": "2021-10-25T06:38:23.202383",
     "exception": false,
     "start_time": "2021-10-25T06:38:23.172811",
     "status": "completed"
    },
    "tags": []
   },
   "outputs": [],
   "source": [
    "import collections\n",
    "\n",
    "def postprocess_qa_predictions(examples, features, raw_predictions, n_best_size = 20, max_answer_length = 30):\n",
    "    all_start_logits, all_end_logits = raw_predictions\n",
    "    \n",
    "    example_id_to_index = {k: i for i, k in enumerate(examples[\"id\"])}\n",
    "    features_per_example = collections.defaultdict(list)\n",
    "    for i, feature in enumerate(features):\n",
    "        features_per_example[example_id_to_index[feature[\"example_id\"]]].append(i)\n",
    "\n",
    "    predictions = collections.OrderedDict()\n",
    "\n",
    "    print(f\"Post-processing {len(examples)} example predictions split into {len(features)} features.\")\n",
    "\n",
    "    for example_index, example in examples.iterrows():\n",
    "        feature_indices = features_per_example[example_index]\n",
    "\n",
    "        min_null_score = None\n",
    "        valid_answers = []\n",
    "        \n",
    "        context = example[\"context\"]\n",
    "        for feature_index in feature_indices:\n",
    "            start_logits = all_start_logits[feature_index]\n",
    "            end_logits = all_end_logits[feature_index]\n",
    "\n",
    "            sequence_ids = features[feature_index][\"sequence_ids\"]\n",
    "            context_index = 1\n",
    "\n",
    "            features[feature_index][\"offset_mapping\"] = [\n",
    "                (o if sequence_ids[k] == context_index else None)\n",
    "                for k, o in enumerate(features[feature_index][\"offset_mapping\"])\n",
    "            ]\n",
    "            offset_mapping = features[feature_index][\"offset_mapping\"]\n",
    "            cls_index = features[feature_index][\"input_ids\"].index(tokenizer.cls_token_id)\n",
    "            feature_null_score = start_logits[cls_index] + end_logits[cls_index]\n",
    "            if min_null_score is None or min_null_score < feature_null_score:\n",
    "                min_null_score = feature_null_score\n",
    "\n",
    "            start_indexes = np.argsort(start_logits)[-1 : -n_best_size - 1 : -1].tolist()\n",
    "            end_indexes = np.argsort(end_logits)[-1 : -n_best_size - 1 : -1].tolist()\n",
    "            for start_index in start_indexes:\n",
    "                for end_index in end_indexes:\n",
    "                    if (\n",
    "                        start_index >= len(offset_mapping)\n",
    "                        or end_index >= len(offset_mapping)\n",
    "                        or offset_mapping[start_index] is None\n",
    "                        or offset_mapping[end_index] is None\n",
    "                    ):\n",
    "                        continue\n",
    "                    # Don't consider answers with a length that is either < 0 or > max_answer_length.\n",
    "                    if end_index < start_index or end_index - start_index + 1 > max_answer_length:\n",
    "                        continue\n",
    "\n",
    "                    start_char = offset_mapping[start_index][0]\n",
    "                    end_char = offset_mapping[end_index][1]\n",
    "                    valid_answers.append(\n",
    "                        {\n",
    "                            \"score\": start_logits[start_index] + end_logits[end_index],\n",
    "                            \"text\": context[start_char: end_char]\n",
    "                        }\n",
    "                    )\n",
    "        \n",
    "        if len(valid_answers) > 0:\n",
    "            best_answer = sorted(valid_answers, key=lambda x: x[\"score\"], reverse=True)[0]\n",
    "        else:\n",
    "            best_answer = {\"text\": \"\", \"score\": 0.0}\n",
    "        \n",
    "        predictions[example[\"id\"]] = best_answer[\"text\"]\n",
    "        \n",
    "        \n",
    "    return predictions"
   ]
  },
  {
   "cell_type": "code",
   "execution_count": 8,
   "id": "2704fa2b",
   "metadata": {
    "execution": {
     "iopub.execute_input": "2021-10-25T06:38:23.232417Z",
     "iopub.status.busy": "2021-10-25T06:38:23.231903Z",
     "iopub.status.idle": "2021-10-25T06:38:24.482324Z",
     "shell.execute_reply": "2021-10-25T06:38:24.481824Z",
     "shell.execute_reply.started": "2021-10-15T01:09:23.15671Z"
    },
    "papermill": {
     "duration": 1.268389,
     "end_time": "2021-10-25T06:38:24.482455",
     "exception": false,
     "start_time": "2021-10-25T06:38:23.214066",
     "status": "completed"
    },
    "tags": []
   },
   "outputs": [],
   "source": [
    "test = pd.read_csv('../input/chaii-hindi-and-tamil-question-answering/test.csv')\n",
    "\n",
    "test['context'] = test['context'].apply(lambda x: ' '.join(x.split()))\n",
    "test['question'] = test['question'].apply(lambda x: ' '.join(x.split()))\n",
    "\n",
    "#base_model_path = '../input/chaii-qa-5-fold-xlmroberta-torch-fit'\n",
    "\n",
    "tokenizer = AutoTokenizer.from_pretrained(Config().tokenizer_name)\n",
    "\n",
    "test_features = []\n",
    "for i, row in test.iterrows():\n",
    "    test_features += prepare_test_features(Config(), row, tokenizer)\n",
    "\n",
    "args = Config()\n",
    "test_dataset = DatasetRetriever(test_features, mode='test')\n",
    "test_dataloader = DataLoader(\n",
    "    test_dataset,\n",
    "    batch_size=args.eval_batch_size, \n",
    "    sampler=SequentialSampler(test_dataset),\n",
    "    num_workers=optimal_num_of_loader_workers(),\n",
    "    pin_memory=True, \n",
    "    drop_last=False\n",
    ")"
   ]
  },
  {
   "cell_type": "code",
   "execution_count": 9,
   "id": "cc402332",
   "metadata": {
    "execution": {
     "iopub.execute_input": "2021-10-25T06:38:24.511969Z",
     "iopub.status.busy": "2021-10-25T06:38:24.510414Z",
     "iopub.status.idle": "2021-10-25T06:38:24.512618Z",
     "shell.execute_reply": "2021-10-25T06:38:24.513017Z",
     "shell.execute_reply.started": "2021-10-15T01:09:24.658106Z"
    },
    "papermill": {
     "duration": 0.018233,
     "end_time": "2021-10-25T06:38:24.513133",
     "exception": false,
     "start_time": "2021-10-25T06:38:24.494900",
     "status": "completed"
    },
    "tags": []
   },
   "outputs": [],
   "source": [
    "base_model = '../input/5foldsroberta/output/'"
   ]
  },
  {
   "cell_type": "code",
   "execution_count": 10,
   "id": "10214e02",
   "metadata": {
    "execution": {
     "iopub.execute_input": "2021-10-25T06:38:24.543862Z",
     "iopub.status.busy": "2021-10-25T06:38:24.543139Z",
     "iopub.status.idle": "2021-10-25T06:38:24.545969Z",
     "shell.execute_reply": "2021-10-25T06:38:24.545515Z",
     "shell.execute_reply.started": "2021-10-15T01:09:24.665132Z"
    },
    "papermill": {
     "duration": 0.020994,
     "end_time": "2021-10-25T06:38:24.546087",
     "exception": false,
     "start_time": "2021-10-25T06:38:24.525093",
     "status": "completed"
    },
    "tags": []
   },
   "outputs": [],
   "source": [
    "def get_predictions(checkpoint_path):\n",
    "    config, tokenizer, model = make_model(Config())\n",
    "    model.cuda();\n",
    "    model.load_state_dict(\n",
    "        torch.load(checkpoint_path)\n",
    "    );\n",
    "    \n",
    "    start_logits = []\n",
    "    end_logits = []\n",
    "    for batch in test_dataloader:\n",
    "        with torch.no_grad():\n",
    "            outputs_start, outputs_end = model(batch['input_ids'].cuda(), batch['attention_mask'].cuda())\n",
    "            start_logits.append(outputs_start.cpu().numpy().tolist())\n",
    "            end_logits.append(outputs_end.cpu().numpy().tolist())\n",
    "            del outputs_start, outputs_end\n",
    "    del model, tokenizer, config\n",
    "    gc.collect()\n",
    "    return np.vstack(start_logits), np.vstack(end_logits)"
   ]
  },
  {
   "cell_type": "code",
   "execution_count": 11,
   "id": "fb99cce8",
   "metadata": {
    "execution": {
     "iopub.execute_input": "2021-10-25T06:38:24.577081Z",
     "iopub.status.busy": "2021-10-25T06:38:24.576315Z",
     "iopub.status.idle": "2021-10-25T06:42:14.555899Z",
     "shell.execute_reply": "2021-10-25T06:42:14.556562Z",
     "shell.execute_reply.started": "2021-10-15T01:09:24.676109Z"
    },
    "papermill": {
     "duration": 229.998979,
     "end_time": "2021-10-25T06:42:14.556782",
     "exception": false,
     "start_time": "2021-10-25T06:38:24.557803",
     "status": "completed"
    },
    "tags": []
   },
   "outputs": [
    {
     "name": "stdout",
     "output_type": "stream",
     "text": [
      "Post-processing 5 example predictions split into 63 features.\n"
     ]
    }
   ],
   "source": [
    "start_logits1, end_logits1 = get_predictions('../input/5foldsroberta/output/checkpoint-fold-0/pytorch_model.bin')\n",
    "start_logits2, end_logits2 = get_predictions('../input/5foldsroberta/output/checkpoint-fold-1/pytorch_model.bin')\n",
    "start_logits3, end_logits3 = get_predictions('../input/5foldsroberta/output/checkpoint-fold-2/pytorch_model.bin')\n",
    "start_logits4, end_logits4 = get_predictions('../input/5foldsroberta/output/checkpoint-fold-3/pytorch_model.bin')\n",
    "start_logits5, end_logits5 = get_predictions('../input/5foldsroberta/output/checkpoint-fold-4/pytorch_model.bin')\n",
    "\n",
    "\n",
    "\n",
    "\n",
    "start_logits = (start_logits1 + start_logits2 + start_logits3 +start_logits4+ start_logits5 )/5\n",
    "end_logits = (end_logits1 + end_logits2 + end_logits3 +end_logits4 + end_logits5)/5\n",
    "\n",
    "\n",
    "\n",
    "fin_preds = postprocess_qa_predictions(test, test_features, (start_logits, end_logits))\n",
    "\n",
    "submission = []\n",
    "for p1, p2 in fin_preds.items():\n",
    "    p2 = \" \".join(p2.split())\n",
    "    p2 = p2.strip(punctuation)\n",
    "    submission.append((p1, p2))\n",
    "    \n",
    "sample = pd.DataFrame(submission, columns=[\"id\", \"PredictionString\"])\n",
    "\n",
    "test_data =pd.merge(left=test,right=sample,on='id')"
   ]
  },
  {
   "cell_type": "code",
   "execution_count": 12,
   "id": "c7ed8513",
   "metadata": {
    "execution": {
     "iopub.execute_input": "2021-10-25T06:42:14.605975Z",
     "iopub.status.busy": "2021-10-25T06:42:14.605193Z",
     "iopub.status.idle": "2021-10-25T06:42:14.632255Z",
     "shell.execute_reply": "2021-10-25T06:42:14.633233Z",
     "shell.execute_reply.started": "2021-10-15T01:13:09.20669Z"
    },
    "papermill": {
     "duration": 0.056736,
     "end_time": "2021-10-25T06:42:14.633397",
     "exception": false,
     "start_time": "2021-10-25T06:42:14.576661",
     "status": "completed"
    },
    "tags": []
   },
   "outputs": [],
   "source": [
    "bad_starts = [\".\", \",\", \"(\", \")\", \"-\", \"–\",  \",\", \";\"]\n",
    "bad_endings = [\"...\", \"-\", \"(\", \")\", \"–\", \",\", \";\"]\n",
    "\n",
    "tamil_ad = \"கி.பி\"\n",
    "tamil_bc = \"கி.மு\"\n",
    "tamil_km = \"கி.மீ\"\n",
    "hindi_ad = \"ई\"\n",
    "hindi_bc = \"ई.पू\"\n",
    "\n",
    "\n",
    "cleaned_preds = []\n",
    "for pred, context in test_data[[\"PredictionString\", \"context\"]].to_numpy():\n",
    "    if pred == \"\":\n",
    "        cleaned_preds.append(pred)\n",
    "        continue\n",
    "    while any([pred.startswith(y) for y in bad_starts]):\n",
    "        pred = pred[1:]\n",
    "    while any([pred.endswith(y) for y in bad_endings]):\n",
    "        if pred.endswith(\"...\"):\n",
    "            pred = pred[:-3]\n",
    "        else:\n",
    "            pred = pred[:-1]\n",
    "    if pred.endswith(\"...\"):\n",
    "            pred = pred[:-3]\n",
    "    \n",
    "    if any([pred.endswith(tamil_ad), pred.endswith(tamil_bc), pred.endswith(tamil_km), pred.endswith(hindi_ad), pred.endswith(hindi_bc)]) and pred+\".\" in context:\n",
    "        pred = pred+\".\"\n",
    "        \n",
    "    cleaned_preds.append(pred)\n",
    "\n",
    "test_data[\"PredictionString\"] = cleaned_preds\n",
    "test_data[['id', 'PredictionString']].to_csv('submission.csv', index=False)"
   ]
  },
  {
   "cell_type": "code",
   "execution_count": 13,
   "id": "e39334f9",
   "metadata": {
    "execution": {
     "iopub.execute_input": "2021-10-25T06:42:14.679710Z",
     "iopub.status.busy": "2021-10-25T06:42:14.678874Z",
     "iopub.status.idle": "2021-10-25T06:42:14.682109Z",
     "shell.execute_reply": "2021-10-25T06:42:14.680398Z"
    },
    "papermill": {
     "duration": 0.028893,
     "end_time": "2021-10-25T06:42:14.682257",
     "exception": false,
     "start_time": "2021-10-25T06:42:14.653364",
     "status": "completed"
    },
    "tags": []
   },
   "outputs": [
    {
     "name": "stdout",
     "output_type": "stream",
     "text": [
      "Submission file : \n"
     ]
    }
   ],
   "source": [
    "print('Submission file : ')"
   ]
  },
  {
   "cell_type": "code",
   "execution_count": 14,
   "id": "cc7e9fdd",
   "metadata": {
    "execution": {
     "iopub.execute_input": "2021-10-25T06:42:14.731303Z",
     "iopub.status.busy": "2021-10-25T06:42:14.730522Z",
     "iopub.status.idle": "2021-10-25T06:42:14.748680Z",
     "shell.execute_reply": "2021-10-25T06:42:14.749711Z",
     "shell.execute_reply.started": "2021-10-15T01:13:09.320239Z"
    },
    "papermill": {
     "duration": 0.047373,
     "end_time": "2021-10-25T06:42:14.749890",
     "exception": false,
     "start_time": "2021-10-25T06:42:14.702517",
     "status": "completed"
    },
    "tags": []
   },
   "outputs": [
    {
     "data": {
      "text/html": [
       "<div>\n",
       "<style scoped>\n",
       "    .dataframe tbody tr th:only-of-type {\n",
       "        vertical-align: middle;\n",
       "    }\n",
       "\n",
       "    .dataframe tbody tr th {\n",
       "        vertical-align: top;\n",
       "    }\n",
       "\n",
       "    .dataframe thead th {\n",
       "        text-align: right;\n",
       "    }\n",
       "</style>\n",
       "<table border=\"1\" class=\"dataframe\">\n",
       "  <thead>\n",
       "    <tr style=\"text-align: right;\">\n",
       "      <th></th>\n",
       "      <th>id</th>\n",
       "      <th>PredictionString</th>\n",
       "    </tr>\n",
       "  </thead>\n",
       "  <tbody>\n",
       "    <tr>\n",
       "      <th>0</th>\n",
       "      <td>22bff3dec</td>\n",
       "      <td>येलन</td>\n",
       "    </tr>\n",
       "    <tr>\n",
       "      <th>1</th>\n",
       "      <td>282758170</td>\n",
       "      <td>20 अप्रैल 2010</td>\n",
       "    </tr>\n",
       "    <tr>\n",
       "      <th>2</th>\n",
       "      <td>d60987e0e</td>\n",
       "      <td>१२ मार्च १८२४</td>\n",
       "    </tr>\n",
       "    <tr>\n",
       "      <th>3</th>\n",
       "      <td>f99c770dc</td>\n",
       "      <td>13</td>\n",
       "    </tr>\n",
       "    <tr>\n",
       "      <th>4</th>\n",
       "      <td>40dec1964</td>\n",
       "      <td>சுவாமிநாதன் மற்றும் வர்கீஸ் குரியன்</td>\n",
       "    </tr>\n",
       "  </tbody>\n",
       "</table>\n",
       "</div>"
      ],
      "text/plain": [
       "          id                     PredictionString\n",
       "0  22bff3dec                                 येलन\n",
       "1  282758170                       20 अप्रैल 2010\n",
       "2  d60987e0e                        १२ मार्च १८२४\n",
       "3  f99c770dc                                   13\n",
       "4  40dec1964  சுவாமிநாதன் மற்றும் வர்கீஸ் குரியன்"
      ]
     },
     "execution_count": 14,
     "metadata": {},
     "output_type": "execute_result"
    }
   ],
   "source": [
    "test_data[['id', 'PredictionString']]"
   ]
  },
  {
   "cell_type": "code",
   "execution_count": null,
   "id": "da1fa407",
   "metadata": {
    "papermill": {
     "duration": 0.015982,
     "end_time": "2021-10-25T06:42:14.789307",
     "exception": false,
     "start_time": "2021-10-25T06:42:14.773325",
     "status": "completed"
    },
    "tags": []
   },
   "outputs": [],
   "source": []
  }
 ],
 "metadata": {
  "kernelspec": {
   "display_name": "Python 3",
   "language": "python",
   "name": "python3"
  },
  "language_info": {
   "codemirror_mode": {
    "name": "ipython",
    "version": 3
   },
   "file_extension": ".py",
   "mimetype": "text/x-python",
   "name": "python",
   "nbconvert_exporter": "python",
   "pygments_lexer": "ipython3",
   "version": "3.7.10"
  },
  "papermill": {
   "default_parameters": {},
   "duration": 252.738455,
   "end_time": "2021-10-25T06:42:18.146275",
   "environment_variables": {},
   "exception": null,
   "input_path": "__notebook__.ipynb",
   "output_path": "__notebook__.ipynb",
   "parameters": {},
   "start_time": "2021-10-25T06:38:05.407820",
   "version": "2.3.3"
  }
 },
 "nbformat": 4,
 "nbformat_minor": 5
}
