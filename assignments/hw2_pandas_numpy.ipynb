{
  "nbformat": 4,
  "nbformat_minor": 0,
  "metadata": {
    "colab": {
      "name": "Hw_2_solution.ipynb",
      "provenance": [],
      "collapsed_sections": [],
      "include_colab_link": true
    },
    "kernelspec": {
      "name": "python3",
      "display_name": "Python 3"
    },
    "language_info": {
      "name": "python"
    }
  },
  "cells": [
    {
      "cell_type": "markdown",
      "metadata": {
        "id": "view-in-github",
        "colab_type": "text"
      },
      "source": [
        "<a href=\"https://colab.research.google.com/github/JeromeCheon/gcs_AIproject/blob/master/assignments/hw2_pandas_numpy.ipynb\" target=\"_parent\"><img src=\"https://colab.research.google.com/assets/colab-badge.svg\" alt=\"Open In Colab\"/></a>"
      ]
    },
    {
      "cell_type": "markdown",
      "metadata": {
        "id": "4ifG9Oj9VYSr"
      },
      "source": [
        "## 1.\n",
        "\n",
        "#In the cell below, create a DataFrame `fruits` that looks like this:\n",
        "\n",
        "![](https://i.imgur.com/Ax3pp2A.png)"
      ]
    },
    {
      "cell_type": "code",
      "metadata": {
        "id": "R8xUeKDxVYlk",
        "colab": {
          "base_uri": "https://localhost:8080/",
          "height": 81
        },
        "outputId": "9ddf766f-1710-4f5c-9c25-8afe0d354468"
      },
      "source": [
        "import pandas as pd\n",
        "#q1.solution()\n",
        "fruits = pd.DataFrame({'Apple': {0:30},'Bananas':{0:21}})\n",
        "fruits\n",
        "# pd.Series({'Apple':30, 'Bananas':30})"
      ],
      "execution_count": null,
      "outputs": [
        {
          "output_type": "execute_result",
          "data": {
            "text/html": [
              "<div>\n",
              "<style scoped>\n",
              "    .dataframe tbody tr th:only-of-type {\n",
              "        vertical-align: middle;\n",
              "    }\n",
              "\n",
              "    .dataframe tbody tr th {\n",
              "        vertical-align: top;\n",
              "    }\n",
              "\n",
              "    .dataframe thead th {\n",
              "        text-align: right;\n",
              "    }\n",
              "</style>\n",
              "<table border=\"1\" class=\"dataframe\">\n",
              "  <thead>\n",
              "    <tr style=\"text-align: right;\">\n",
              "      <th></th>\n",
              "      <th>Apple</th>\n",
              "      <th>Bananas</th>\n",
              "    </tr>\n",
              "  </thead>\n",
              "  <tbody>\n",
              "    <tr>\n",
              "      <th>0</th>\n",
              "      <td>30</td>\n",
              "      <td>21</td>\n",
              "    </tr>\n",
              "  </tbody>\n",
              "</table>\n",
              "</div>"
            ],
            "text/plain": [
              "   Apple  Bananas\n",
              "0     30       21"
            ]
          },
          "metadata": {},
          "execution_count": 19
        }
      ]
    },
    {
      "cell_type": "markdown",
      "metadata": {
        "id": "zUwflaFyVix8"
      },
      "source": [
        "## 2.\n",
        "\n",
        "Create a dataframe `fruit_sales` that matches the diagram below:\n",
        "\n",
        "![](https://i.imgur.com/CHPn7ZF.png)"
      ]
    },
    {
      "cell_type": "code",
      "metadata": {
        "id": "F3hyxztXVbDU",
        "colab": {
          "base_uri": "https://localhost:8080/",
          "height": 112
        },
        "outputId": "9355f20b-5f99-43a2-bb04-fd4d0c8551d9"
      },
      "source": [
        "# q2\n",
        "#fruit_sales = ____\n",
        "fruit_sales = pd.DataFrame({'Apple': {'2017 Sales':35, '2018 Sales':41},'Bananas':{'2017 Sales':21, '2018 Sales':34}})\n",
        "fruit_sales"
      ],
      "execution_count": null,
      "outputs": [
        {
          "output_type": "execute_result",
          "data": {
            "text/html": [
              "<div>\n",
              "<style scoped>\n",
              "    .dataframe tbody tr th:only-of-type {\n",
              "        vertical-align: middle;\n",
              "    }\n",
              "\n",
              "    .dataframe tbody tr th {\n",
              "        vertical-align: top;\n",
              "    }\n",
              "\n",
              "    .dataframe thead th {\n",
              "        text-align: right;\n",
              "    }\n",
              "</style>\n",
              "<table border=\"1\" class=\"dataframe\">\n",
              "  <thead>\n",
              "    <tr style=\"text-align: right;\">\n",
              "      <th></th>\n",
              "      <th>Apple</th>\n",
              "      <th>Bananas</th>\n",
              "    </tr>\n",
              "  </thead>\n",
              "  <tbody>\n",
              "    <tr>\n",
              "      <th>2017 Sales</th>\n",
              "      <td>35</td>\n",
              "      <td>21</td>\n",
              "    </tr>\n",
              "    <tr>\n",
              "      <th>2018 Sales</th>\n",
              "      <td>41</td>\n",
              "      <td>34</td>\n",
              "    </tr>\n",
              "  </tbody>\n",
              "</table>\n",
              "</div>"
            ],
            "text/plain": [
              "            Apple  Bananas\n",
              "2017 Sales     35       21\n",
              "2018 Sales     41       34"
            ]
          },
          "metadata": {},
          "execution_count": 21
        }
      ]
    },
    {
      "cell_type": "markdown",
      "metadata": {
        "id": "FpsqCwdpV-y7"
      },
      "source": [
        "## 3.\n",
        "## Question : Create a 1D array of numbers from 0 to 9\n",
        "## Output :  array([0, 1, 2, 3, 4, 5, 6, 7, 8, 9])\n",
        "\n"
      ]
    },
    {
      "cell_type": "code",
      "metadata": {
        "id": "-k0G9y1lWAjy",
        "colab": {
          "base_uri": "https://localhost:8080/"
        },
        "outputId": "2ed84baf-c51e-4641-80ed-e9ef6d8e38b0"
      },
      "source": [
        "import numpy as np\n",
        "#q3\n",
        "np.arange(10)"
      ],
      "execution_count": null,
      "outputs": [
        {
          "output_type": "execute_result",
          "data": {
            "text/plain": [
              "array([0, 1, 2, 3, 4, 5, 6, 7, 8, 9])"
            ]
          },
          "metadata": {},
          "execution_count": 22
        }
      ]
    },
    {
      "cell_type": "markdown",
      "metadata": {
        "id": "TCZ0B4hYWY_i"
      },
      "source": [
        "## 4.\n",
        "## Question: Convert a 1D array to a 2D array with 2 rows\n",
        "## input: np.arange(10)\n",
        "## output array([[0, 1, 2, 3, 4],\n",
        "##               [5, 6, 7, 8, 9]])\n"
      ]
    },
    {
      "cell_type": "code",
      "metadata": {
        "id": "sOkvdLH8WhaB",
        "colab": {
          "base_uri": "https://localhost:8080/"
        },
        "outputId": "bf82d9ee-6e2b-43bb-ac03-fa28420250a9"
      },
      "source": [
        "#q4\n",
        "np.arange(10).reshape(2,-1)"
      ],
      "execution_count": null,
      "outputs": [
        {
          "output_type": "execute_result",
          "data": {
            "text/plain": [
              "array([[0, 1, 2, 3, 4],\n",
              "       [5, 6, 7, 8, 9]])"
            ]
          },
          "metadata": {},
          "execution_count": 24
        }
      ]
    },
    {
      "cell_type": "markdown",
      "metadata": {
        "id": "c_4E4AyYW1CI"
      },
      "source": [
        "## 5.\n",
        "## Question: From the array a, replace all values greater than 30 to 30 and less than 10 to 10.\n"
      ]
    },
    {
      "cell_type": "code",
      "metadata": {
        "id": "C93gKdW1WqME",
        "colab": {
          "base_uri": "https://localhost:8080/"
        },
        "outputId": "b4b2e774-b348-44cd-c4e5-521ef1e63195"
      },
      "source": [
        "np.set_printoptions(precision=2)\n",
        "np.random.seed(100)\n",
        "a = np.random.uniform(1,50,20)\n",
        "#q5\n",
        "a[a>30] = 30\n",
        "a[a<10] = 10\n",
        "a"
      ],
      "execution_count": null,
      "outputs": [
        {
          "output_type": "execute_result",
          "data": {
            "text/plain": [
              "array([27.63, 14.64, 21.8 , 30.  , 10.  , 10.  , 30.  , 30.  , 10.  ,\n",
              "       29.18, 30.  , 11.25, 10.08, 10.  , 11.77, 30.  , 30.  , 10.  ,\n",
              "       30.  , 14.43])"
            ]
          },
          "metadata": {},
          "execution_count": 25
        }
      ]
    },
    {
      "cell_type": "code",
      "metadata": {
        "id": "dhsOL4MVW6Pk"
      },
      "source": [
        ""
      ],
      "execution_count": null,
      "outputs": []
    }
  ]
}