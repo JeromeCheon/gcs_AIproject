{
  "nbformat": 4,
  "nbformat_minor": 0,
  "metadata": {
    "colab": {
      "name": "9/23_ml_regression(practice).ipynb",
      "provenance": [],
      "collapsed_sections": []
    },
    "kernelspec": {
      "display_name": "Python 3",
      "language": "python",
      "name": "python3"
    },
    "language_info": {
      "codemirror_mode": {
        "name": "ipython",
        "version": 3
      },
      "file_extension": ".py",
      "mimetype": "text/x-python",
      "name": "python",
      "nbconvert_exporter": "python",
      "pygments_lexer": "ipython3",
      "version": "3.8.5"
    },
    "varInspector": {
      "cols": {
        "lenName": 16,
        "lenType": 16,
        "lenVar": 40
      },
      "kernels_config": {
        "python": {
          "delete_cmd_postfix": "",
          "delete_cmd_prefix": "del ",
          "library": "var_list.py",
          "varRefreshCmd": "print(var_dic_list())"
        },
        "r": {
          "delete_cmd_postfix": ") ",
          "delete_cmd_prefix": "rm(",
          "library": "var_list.r",
          "varRefreshCmd": "cat(var_dic_list()) "
        }
      },
      "types_to_exclude": [
        "module",
        "function",
        "builtin_function_or_method",
        "instance",
        "_Feature"
      ],
      "window_display": false
    }
  },
  "cells": [
    {
      "cell_type": "code",
      "metadata": {
        "colab": {
          "resources": {
            "http://localhost:8080/nbextensions/google.colab/files.js": {
              "data": "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",
              "ok": true,
              "headers": [
                [
                  "content-type",
                  "application/javascript"
                ]
              ],
              "status": 200,
              "status_text": ""
            }
          },
          "base_uri": "https://localhost:8080/",
          "height": 72
        },
        "id": "gLe-Ek3TkyoZ",
        "outputId": "2542f53f-1e95-4d5d-af55-2aa6ad7728ac"
      },
      "source": [
        "from google.colab import files\n",
        "files.upload()"
      ],
      "execution_count": 2,
      "outputs": [
        {
          "output_type": "display_data",
          "data": {
            "text/html": [
              "\n",
              "     <input type=\"file\" id=\"files-989aa343-c6a0-4408-88a6-dfb950ca5507\" name=\"files[]\" multiple disabled\n",
              "        style=\"border:none\" />\n",
              "     <output id=\"result-989aa343-c6a0-4408-88a6-dfb950ca5507\">\n",
              "      Upload widget is only available when the cell has been executed in the\n",
              "      current browser session. Please rerun this cell to enable.\n",
              "      </output>\n",
              "      <script src=\"/nbextensions/google.colab/files.js\"></script> "
            ],
            "text/plain": [
              "<IPython.core.display.HTML object>"
            ]
          },
          "metadata": {}
        },
        {
          "output_type": "stream",
          "name": "stdout",
          "text": [
            "Saving data_dumped.pickle to data_dumped (1).pickle\n"
          ]
        }
      ]
    },
    {
      "cell_type": "code",
      "metadata": {
        "id": "vOd3yNEsYxM-"
      },
      "source": [
        "!pip install konlpy"
      ],
      "execution_count": null,
      "outputs": []
    },
    {
      "cell_type": "code",
      "metadata": {
        "id": "pi-9cB5BsCOb"
      },
      "source": [
        "from konlpy.tag import Twitter\n",
        "from sklearn.preprocessing import normalize\n",
        "from sklearn.metrics import mean_absolute_error\n",
        "from sklearn.linear_model import LinearRegression\n",
        "from sklearn.linear_model import Ridge\n",
        "from sklearn.ensemble import GradientBoostingRegressor\n",
        "import numpy as np\n",
        "import pickle\n",
        "from google.colab import files\n",
        "\n",
        "twitter = Twitter()"
      ],
      "execution_count": null,
      "outputs": []
    },
    {
      "cell_type": "code",
      "metadata": {
        "id": "CCT50bHddqP2"
      },
      "source": [
        "with open('data_dumped.pickle', 'rb') as f:\n",
        "  data = pickle.load(f)"
      ],
      "execution_count": null,
      "outputs": []
    },
    {
      "cell_type": "code",
      "metadata": {
        "id": "TGA6nJU5ag8Y"
      },
      "source": [
        "index2voca, voca2index, train_X, train_y, test_X, test_y = data\n",
        "\n",
        "train_X = normalize(train_X)\n",
        "test_X = normalize(test_X)\n",
        "\n",
        "vocaNum = len(index2voca)\n",
        "trainNum = len(train_y)\n",
        "testNum = len(test_y)"
      ],
      "execution_count": null,
      "outputs": []
    },
    {
      "cell_type": "code",
      "metadata": {
        "colab": {
          "base_uri": "https://localhost:8080/"
        },
        "id": "fOOvC376sCOi",
        "outputId": "9f089dcd-8132-4db0-c471-3feeccb506cd"
      },
      "source": [
        "# TODO::: define linear regression and train it with our data\n",
        "linear_regression = LinearRegression()\n",
        "linear_regression.fit(train_X,train_y)"
      ],
      "execution_count": 22,
      "outputs": [
        {
          "output_type": "execute_result",
          "data": {
            "text/plain": [
              "LinearRegression(copy_X=True, fit_intercept=True, n_jobs=None, normalize=False)"
            ]
          },
          "metadata": {},
          "execution_count": 22
        }
      ]
    },
    {
      "cell_type": "code",
      "metadata": {
        "id": "TUZM1xMusCOm",
        "colab": {
          "base_uri": "https://localhost:8080/"
        },
        "outputId": "ac0caf94-04ce-4889-8983-b435e7ed9d23"
      },
      "source": [
        "# TODO::: evaluate the trained model with our test data\n",
        "predicted = linear_regression.predict(test_X)\n",
        "print(\"mean absolute error: {}\".format(mean_absolute_error(test_y, predicted)))"
      ],
      "execution_count": 23,
      "outputs": [
        {
          "output_type": "stream",
          "name": "stdout",
          "text": [
            "mean absolute error: 0.18064327896428692\n"
          ]
        }
      ]
    },
    {
      "cell_type": "code",
      "metadata": {
        "id": "i_HsqrysgTpO",
        "colab": {
          "base_uri": "https://localhost:8080/"
        },
        "outputId": "9097509b-082b-4fd5-cb49-258d3fedd892"
      },
      "source": [
        "# TODO::: make new test example and evaluate the model with it \n",
        "test_seq = \"배우의 연기는 좋았지만 영화는 별로다.\" \n",
        "test_vec = np.zeros((1, vocaNum))\n",
        "for i, w in enumerate(twitter.morphs(test_seq)):\n",
        "    test_vec[0, voca2index.get(w, voca2index['<UNK>'])] += 1\n",
        "\n",
        "test_vec = normalize(test_vec)\n",
        "print(\"predict: {}\".format(linear_regression.predict(test_vec)[0]))"
      ],
      "execution_count": 17,
      "outputs": [
        {
          "output_type": "stream",
          "name": "stdout",
          "text": [
            "predict: 0.33490860146116186\n"
          ]
        }
      ]
    },
    {
      "cell_type": "code",
      "metadata": {
        "colab": {
          "base_uri": "https://localhost:8080/"
        },
        "id": "48p4yn1IsCOp",
        "outputId": "5b3e4995-7128-40ed-eda2-f798ea714977"
      },
      "source": [
        "# TODO::: make new test example and evaluate the model with it 학습이 잘 되었을까요? 같은 내용이지만 다른 뉘앙스의 문장을 모델이 어떻게 예측하는지 보세요! \n",
        "test_seq = \"영화는 별로지만 배우의 연기는 좋았다.\"\n",
        "test_vec = np.zeros((1, vocaNum))\n",
        "for i, w in enumerate(twitter.morphs(test_seq)):\n",
        "    test_vec[0, voca2index.get(w, voca2index['<UNK>'])] += 1\n",
        "\n",
        "test_vec = normalize(test_vec)\n",
        "print(\"predict: {}\".format(linear_regression.predict(test_vec)[0]))"
      ],
      "execution_count": 18,
      "outputs": [
        {
          "output_type": "stream",
          "name": "stdout",
          "text": [
            "predict: 0.3502969369932595\n"
          ]
        }
      ]
    },
    {
      "cell_type": "code",
      "metadata": {
        "id": "m8ZWdZw4fiYX",
        "colab": {
          "base_uri": "https://localhost:8080/"
        },
        "outputId": "0c3328d6-376d-4ca7-a7ac-2484fb7e6156"
      },
      "source": [
        "test_seq = \"재미있다.\"\n",
        "test_vec = np.zeros((1, vocaNum))\n",
        "for i, w in enumerate(twitter.morphs(test_seq)):\n",
        "    test_vec[0, voca2index.get(w, voca2index['<UNK>'])] += 1\n",
        "\n",
        "test_vec = normalize(test_vec)\n",
        "print(\"predict: {}\".format(linear_regression.predict(test_vec)[0]))"
      ],
      "execution_count": 19,
      "outputs": [
        {
          "output_type": "stream",
          "name": "stdout",
          "text": [
            "predict: 0.7061504594670208\n"
          ]
        }
      ]
    },
    {
      "cell_type": "code",
      "metadata": {
        "id": "vPp6j0ulfM7u",
        "colab": {
          "base_uri": "https://localhost:8080/"
        },
        "outputId": "f6f49abc-f43a-4ce4-8c5b-70cbda40aeba"
      },
      "source": [
        "# TODO::: make your own new test example and evaluate the model with it \n",
        "test_seq = \"재미없다. \"\n",
        "test_vec = np.zeros((1, vocaNum))\n",
        "for i, w in enumerate(twitter.morphs(test_seq)):\n",
        "    test_vec[0, voca2index.get(w, voca2index['<UNK>'])] += 1\n",
        "\n",
        "test_vec = normalize(test_vec)\n",
        "print(\"predict: {}\".format(linear_regression.predict(test_vec)[0]))"
      ],
      "execution_count": 20,
      "outputs": [
        {
          "output_type": "stream",
          "name": "stdout",
          "text": [
            "predict: 0.4414710549667177\n"
          ]
        }
      ]
    },
    {
      "cell_type": "code",
      "metadata": {
        "id": "dLY0dne8sCOr"
      },
      "source": [
        "#@title Let's use another regression model, Ridge"
      ],
      "execution_count": null,
      "outputs": []
    },
    {
      "cell_type": "code",
      "metadata": {
        "id": "dEG_v6MoYdsI",
        "colab": {
          "base_uri": "https://localhost:8080/"
        },
        "outputId": "3bfc8c55-29e9-4ccc-a451-f26661aaa1b6"
      },
      "source": [
        "#todo \n",
        "ridge = Ridge()\n",
        "ridge.fit(train_X, train_y)\n",
        "predicted = ridge.predict(test_X)\n",
        "error = mean_absolute_error(predicted, test_y)\n",
        "print(error)"
      ],
      "execution_count": 21,
      "outputs": [
        {
          "output_type": "stream",
          "name": "stdout",
          "text": [
            "0.17737291616167655\n"
          ]
        }
      ]
    },
    {
      "cell_type": "code",
      "metadata": {
        "id": "pBPAoGvgYdsK",
        "colab": {
          "base_uri": "https://localhost:8080/"
        },
        "outputId": "2212b3a0-9d12-42ef-de0e-3b5545a566ce"
      },
      "source": [
        "test_seq = \"이 영화 꽤 재미있다.\"\n",
        "test_vec = np.zeros((1, vocaNum))\n",
        "for i, w in enumerate(twitter.morphs(test_seq)):\n",
        "    test_vec[0, voca2index.get(w, voca2index['<UNK>'])] += 1\n",
        "\n",
        "test_vec = normalize(test_vec)\n",
        "print(\"Ridge predict: {}\".format(ridge.predict(test_vec)[0]))\n",
        "print(\"Linear regression predict: {}\".format(linear_regression.predict(test_vec)[0]))"
      ],
      "execution_count": 24,
      "outputs": [
        {
          "output_type": "stream",
          "name": "stdout",
          "text": [
            "Ridge predict: 0.6894526789927311\n",
            "Linear regression predict: 0.6875718450672696\n"
          ]
        }
      ]
    },
    {
      "cell_type": "code",
      "metadata": {
        "id": "mw4cdFttde4s"
      },
      "source": [
        "#@title 과제 1) Test mean absolute error 성능이 0.2 이하가 되게 학습시켜보세요. (Ridge 제외)"
      ],
      "execution_count": null,
      "outputs": []
    },
    {
      "cell_type": "code",
      "metadata": {
        "id": "g3_1LnNs1Wg6",
        "colab": {
          "base_uri": "https://localhost:8080/"
        },
        "outputId": "26582e70-28e3-42b5-96e6-e4f7d8941a9b"
      },
      "source": [
        "# 자유롭게 모델 사용해보기 -> Stocastic Gradient Descent regressor 사용\n",
        "from sklearn.linear_model import SGDRegressor\n",
        "sgd = SGDRegressor(alpha=1e-10, learning_rate='adaptive')\n",
        "sgd.fit(train_X, train_y)\n",
        "predicted = sgd.predict(test_X)\n",
        "print(\"mean absolute error: {}\".format(mean_absolute_error(test_y,predicted )))"
      ],
      "execution_count": 25,
      "outputs": [
        {
          "output_type": "stream",
          "name": "stdout",
          "text": [
            "mean absolute error: 0.18195805061513393\n"
          ]
        }
      ]
    },
    {
      "cell_type": "code",
      "metadata": {
        "id": "7My0mogDdgoL"
      },
      "source": [
        "#@title 과제 2) 모델이 제대로 예측한 test sequence 예제 3개, 모델이 잘못 예측한 test sequence 예제 3개를 각각 만들어보세요 (예시: \"이 영화 재미있다\" 는 모델이 정확히 예측)."
      ],
      "execution_count": 33,
      "outputs": []
    },
    {
      "cell_type": "code",
      "metadata": {
        "id": "lkn1cMRdsCOy",
        "colab": {
          "base_uri": "https://localhost:8080/"
        },
        "outputId": "2dfc63ef-fd1c-40a9-e27c-f906b64a8d88"
      },
      "source": [
        "test_seq = \"이 영화 재미있다.\"\n",
        "test_vec = np.zeros((1, vocaNum))\n",
        "for i, w in enumerate(twitter.morphs(test_seq)):\n",
        "    test_vec[0, voca2index.get(w, voca2index['<UNK>'])] += 1\n",
        "\n",
        "test_vec = normalize(test_vec)\n",
        "print(\"Ridge predict: {}\".format(ridge.predict(test_vec)[0]))\n",
        "print(\"Linear regression predict: {}\".format(linear_regression.predict(test_vec)[0]))\n",
        "print(\"SGD regressor predict: {}\".format(sgd.predict(test_vec)[0]))"
      ],
      "execution_count": 26,
      "outputs": [
        {
          "output_type": "stream",
          "name": "stdout",
          "text": [
            "Ridge predict: 0.6193418439893885\n",
            "Linear regression predict: 0.6276477895256021\n",
            "SGD regressor predict: 0.6187504392208552\n"
          ]
        }
      ]
    },
    {
      "cell_type": "code",
      "metadata": {
        "colab": {
          "base_uri": "https://localhost:8080/"
        },
        "id": "F81weL0CQbMR",
        "outputId": "ed71e308-6f9e-48a2-ae3c-1991263dca87"
      },
      "source": [
        "test_seq = \"이 영화 엄청 재미있다.\"\n",
        "test_vec = np.zeros((1, vocaNum))\n",
        "for i, w in enumerate(twitter.morphs(test_seq)):\n",
        "    test_vec[0, voca2index.get(w, voca2index['<UNK>'])] += 1\n",
        "\n",
        "test_vec = normalize(test_vec)\n",
        "print(\"Ridge predict: {}\".format(ridge.predict(test_vec)[0]))\n",
        "print(\"Linear regression predict: {}\".format(linear_regression.predict(test_vec)[0]))\n",
        "print(\"SGD regressor predict: {}\".format(sgd.predict(test_vec)[0]))"
      ],
      "execution_count": 27,
      "outputs": [
        {
          "output_type": "stream",
          "name": "stdout",
          "text": [
            "Ridge predict: 0.6359729279805255\n",
            "Linear regression predict: 0.6431125072573767\n",
            "SGD regressor predict: 0.6399879327382494\n"
          ]
        }
      ]
    },
    {
      "cell_type": "code",
      "metadata": {
        "colab": {
          "base_uri": "https://localhost:8080/"
        },
        "id": "DVP-t-SMQ1FB",
        "outputId": "3bfd11bc-02e4-43a6-c779-319342db127c"
      },
      "source": [
        "test_seq = \"이 영화 매우 재미있다.\"\n",
        "test_vec = np.zeros((1, vocaNum))\n",
        "for i, w in enumerate(twitter.morphs(test_seq)):\n",
        "    test_vec[0, voca2index.get(w, voca2index['<UNK>'])] += 1\n",
        "\n",
        "test_vec = normalize(test_vec)\n",
        "print(\"Ridge predict: {}\".format(ridge.predict(test_vec)[0]))\n",
        "print(\"Linear regression predict: {}\".format(linear_regression.predict(test_vec)[0]))\n",
        "print(\"SGD regressor predict: {}\".format(sgd.predict(test_vec)[0]))"
      ],
      "execution_count": 28,
      "outputs": [
        {
          "output_type": "stream",
          "name": "stdout",
          "text": [
            "Ridge predict: 0.6343970834425156\n",
            "Linear regression predict: 0.6378537564546358\n",
            "SGD regressor predict: 0.6388032369288378\n"
          ]
        }
      ]
    },
    {
      "cell_type": "markdown",
      "metadata": {
        "id": "SJlOV-wQgVDw"
      },
      "source": [
        "### 예측을 잘못한 케이스 3가지 "
      ]
    },
    {
      "cell_type": "code",
      "metadata": {
        "colab": {
          "base_uri": "https://localhost:8080/"
        },
        "id": "Z9GeiJ2iQ2QI",
        "outputId": "72464111-7583-4d01-dbbd-ad1bf4f3fcdb"
      },
      "source": [
        "test_seq = \"배우 연기는 괜찮았는데 영화는 재미없었다.\"\n",
        "test_vec = np.zeros((1, vocaNum))\n",
        "for i, w in enumerate(twitter.morphs(test_seq)):\n",
        "    test_vec[0, voca2index.get(w, voca2index['<UNK>'])] += 1\n",
        "\n",
        "test_vec = normalize(test_vec)\n",
        "print(\"Ridge predict: {}\".format(ridge.predict(test_vec)[0]))\n",
        "print(\"Linear regression predict: {}\".format(linear_regression.predict(test_vec)[0]))\n",
        "print(\"SGD regressor predict: {}\".format(sgd.predict(test_vec)[0]))"
      ],
      "execution_count": 39,
      "outputs": [
        {
          "output_type": "stream",
          "name": "stdout",
          "text": [
            "Ridge predict: 0.4007075973451734\n",
            "Linear regression predict: 0.40129009375120706\n",
            "SGD regressor predict: 0.40009879065122744\n"
          ]
        }
      ]
    },
    {
      "cell_type": "code",
      "metadata": {
        "colab": {
          "base_uri": "https://localhost:8080/"
        },
        "id": "u4iVSbD1Q2cS",
        "outputId": "72f13e08-eb53-45f9-b35f-643d60a21348"
      },
      "source": [
        "test_seq = \"영화배우 연기는 별로였는데 영화는 볼 만했다.\"\n",
        "test_vec = np.zeros((1, vocaNum))\n",
        "for i, w in enumerate(twitter.morphs(test_seq)):\n",
        "    test_vec[0, voca2index.get(w, voca2index['<UNK>'])] += 1\n",
        "\n",
        "test_vec = normalize(test_vec)\n",
        "print(\"Ridge predict: {}\".format(ridge.predict(test_vec)[0]))\n",
        "print(\"Linear regression predict: {}\".format(linear_regression.predict(test_vec)[0]))\n",
        "print(\"SGD regressor predict: {}\".format(sgd.predict(test_vec)[0]))"
      ],
      "execution_count": 40,
      "outputs": [
        {
          "output_type": "stream",
          "name": "stdout",
          "text": [
            "Ridge predict: 0.3565691181469451\n",
            "Linear regression predict: 0.3271909664452215\n",
            "SGD regressor predict: 0.3936841062496555\n"
          ]
        }
      ]
    },
    {
      "cell_type": "code",
      "metadata": {
        "colab": {
          "base_uri": "https://localhost:8080/"
        },
        "id": "xvGYEJqoRNqL",
        "outputId": "bbf76e13-893a-4e7e-ec86-e8fa7eb0f4ec"
      },
      "source": [
        "test_seq = \"이 영화는 충분하지 않았다.\"\n",
        "test_vec = np.zeros((1, vocaNum))\n",
        "for i, w in enumerate(twitter.morphs(test_seq)):\n",
        "    test_vec[0, voca2index.get(w, voca2index['<UNK>'])] += 1\n",
        "\n",
        "test_vec = normalize(test_vec)\n",
        "print(\"Ridge predict: {}\".format(ridge.predict(test_vec)[0]))\n",
        "print(\"Linear regression predict: {}\".format(linear_regression.predict(test_vec)[0]))\n",
        "print(\"SGD regressor predict: {}\".format(sgd.predict(test_vec)[0]))"
      ],
      "execution_count": 38,
      "outputs": [
        {
          "output_type": "stream",
          "name": "stdout",
          "text": [
            "Ridge predict: 0.5464212326380842\n",
            "Linear regression predict: 0.6237733492660494\n",
            "SGD regressor predict: 0.4514548080592501\n"
          ]
        }
      ]
    },
    {
      "cell_type": "code",
      "metadata": {
        "colab": {
          "base_uri": "https://localhost:8080/"
        },
        "id": "iLvJiCdwRkIb",
        "outputId": "86096a8a-030a-48b5-d356-0570ce4031be"
      },
      "source": [
        "name='천재홍'\n",
        "company= '케이존'\n",
        "print(f'{company}의 {name} 개발자 3회차 과제 - scikit learn의 ML model로 학습하는 regression 제출합니다. 감사합니다.')"
      ],
      "execution_count": 41,
      "outputs": [
        {
          "output_type": "stream",
          "name": "stdout",
          "text": [
            "케이존의 천재홍 개발자 3회차 과제 - scikit learn의 ML model로 학습하는 regression 제출합니다. 감사합니다.\n"
          ]
        }
      ]
    },
    {
      "cell_type": "code",
      "metadata": {
        "id": "D980Fc1HhbpF"
      },
      "source": [
        ""
      ],
      "execution_count": null,
      "outputs": []
    }
  ]
}