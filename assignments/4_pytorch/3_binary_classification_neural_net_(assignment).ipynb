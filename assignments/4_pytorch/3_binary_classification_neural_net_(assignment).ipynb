{
  "nbformat": 4,
  "nbformat_minor": 0,
  "metadata": {
    "kernelspec": {
      "display_name": "Python 3",
      "language": "python",
      "name": "python3"
    },
    "language_info": {
      "codemirror_mode": {
        "name": "ipython",
        "version": 3
      },
      "file_extension": ".py",
      "mimetype": "text/x-python",
      "name": "python",
      "nbconvert_exporter": "python",
      "pygments_lexer": "ipython3",
      "version": "3.8.3"
    },
    "latex_envs": {
      "LaTeX_envs_menu_present": true,
      "autoclose": false,
      "autocomplete": true,
      "bibliofile": "biblio.bib",
      "cite_by": "apalike",
      "current_citInitial": 1,
      "eqLabelWithNumbers": true,
      "eqNumInitial": 1,
      "hotkeys": {
        "equation": "Ctrl-E",
        "itemize": "Ctrl-I"
      },
      "labels_anchors": false,
      "latex_user_defs": false,
      "report_style_numbering": false,
      "user_envs_cfg": false
    },
    "toc": {
      "base_numbering": 1,
      "nav_menu": {},
      "number_sections": true,
      "sideBar": true,
      "skip_h1_title": false,
      "title_cell": "Table of Contents",
      "title_sidebar": "Contents",
      "toc_cell": false,
      "toc_position": {},
      "toc_section_display": true,
      "toc_window_display": false
    },
    "varInspector": {
      "cols": {
        "lenName": 16,
        "lenType": 16,
        "lenVar": 40
      },
      "kernels_config": {
        "python": {
          "delete_cmd_postfix": "",
          "delete_cmd_prefix": "del ",
          "library": "var_list.py",
          "varRefreshCmd": "print(var_dic_list())"
        },
        "r": {
          "delete_cmd_postfix": ") ",
          "delete_cmd_prefix": "rm(",
          "library": "var_list.r",
          "varRefreshCmd": "cat(var_dic_list()) "
        }
      },
      "types_to_exclude": [
        "module",
        "function",
        "builtin_function_or_method",
        "instance",
        "_Feature"
      ],
      "window_display": false
    },
    "colab": {
      "name": "3_binary_classification_neural_net_(assignment).ipynb",
      "provenance": [],
      "collapsed_sections": []
    },
    "accelerator": "GPU"
  },
  "cells": [
    {
      "cell_type": "markdown",
      "metadata": {
        "id": "tQbVFOyIbPeB"
      },
      "source": [
        "## Binary Classification - Titanic: Machine Learning from Disaster\n",
        "\n",
        "https://www.kaggle.com/c/titanic\n",
        "\n",
        "- 유명한 자료인 타이타닉 데이터 셋으로 생존과 사망에 대한 분류 문제를 풀어보도록 하겠습니다."
      ]
    },
    {
      "cell_type": "markdown",
      "metadata": {
        "id": "RmkGD5QbbPeI"
      },
      "source": [
        "![대체 텍스트](../figures2/binary.png)"
      ]
    },
    {
      "cell_type": "code",
      "metadata": {
        "ExecuteTime": {
          "end_time": "2018-10-28T07:34:29.202719Z",
          "start_time": "2018-10-28T07:34:29.192102Z"
        },
        "scrolled": true,
        "id": "k7QpTypJbPeJ",
        "colab": {
          "base_uri": "https://localhost:8080/"
        },
        "outputId": "f9f77789-1c02-4c82-e5c3-31c99c1a4672"
      },
      "source": [
        "import torch\n",
        "import torch.nn as nn\n",
        "import torch.optim as optim\n",
        "import numpy as np\n",
        "import random\n",
        "import pandas as pd\n",
        "import matplotlib.pyplot as plt \n",
        "\n",
        "random.seed(1215)\n",
        "torch.manual_seed(1215)"
      ],
      "execution_count": 7,
      "outputs": [
        {
          "output_type": "execute_result",
          "data": {
            "text/plain": [
              "<torch._C.Generator at 0x7fd63cdaa710>"
            ]
          },
          "metadata": {},
          "execution_count": 7
        }
      ]
    },
    {
      "cell_type": "code",
      "metadata": {
        "ExecuteTime": {
          "end_time": "2018-10-28T06:53:30.685976Z",
          "start_time": "2018-10-28T06:53:25.255348Z"
        },
        "id": "vcXrQjzYbPeM"
      },
      "source": [
        "from torch.utils.data import Dataset\n",
        "from torch.utils.data import DataLoader\n",
        "\n",
        "from sklearn.preprocessing import StandardScaler\n",
        "from sklearn.metrics import accuracy_score\n",
        "from sklearn.model_selection import train_test_split"
      ],
      "execution_count": 8,
      "outputs": []
    },
    {
      "cell_type": "markdown",
      "metadata": {
        "id": "e8pEEQILbPeN"
      },
      "source": [
        "# Load Data"
      ]
    },
    {
      "cell_type": "code",
      "metadata": {
        "id": "PaVrdTsSrVHL",
        "colab": {
          "resources": {
            "http://localhost:8080/nbextensions/google.colab/files.js": {
              "data": "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",
              "ok": true,
              "headers": [
                [
                  "content-type",
                  "application/javascript"
                ]
              ],
              "status": 200,
              "status_text": ""
            }
          },
          "base_uri": "https://localhost:8080/",
          "height": 140
        },
        "outputId": "95565943-575c-4799-88ca-e58399aad25e"
      },
      "source": [
        "from google.colab import files\n",
        "uploaded = files.upload()\n",
        "for fn in uploaded.keys():\n",
        "  print('{name} Uploaded.'.format(name=fn))"
      ],
      "execution_count": 9,
      "outputs": [
        {
          "output_type": "display_data",
          "data": {
            "text/html": [
              "\n",
              "     <input type=\"file\" id=\"files-3dc9b6cb-65c1-464c-8a05-885cf6fd19fc\" name=\"files[]\" multiple disabled\n",
              "        style=\"border:none\" />\n",
              "     <output id=\"result-3dc9b6cb-65c1-464c-8a05-885cf6fd19fc\">\n",
              "      Upload widget is only available when the cell has been executed in the\n",
              "      current browser session. Please rerun this cell to enable.\n",
              "      </output>\n",
              "      <script src=\"/nbextensions/google.colab/files.js\"></script> "
            ],
            "text/plain": [
              "<IPython.core.display.HTML object>"
            ]
          },
          "metadata": {}
        },
        {
          "output_type": "stream",
          "name": "stdout",
          "text": [
            "Saving test.csv to test (1).csv\n",
            "Saving train.csv to train (1).csv\n",
            "test.csv Uploaded.\n",
            "train.csv Uploaded.\n"
          ]
        }
      ]
    },
    {
      "cell_type": "code",
      "metadata": {
        "ExecuteTime": {
          "end_time": "2018-10-28T07:48:19.716052Z",
          "start_time": "2018-10-28T07:48:19.695224Z"
        },
        "id": "EQb7w0WFbPeO"
      },
      "source": [
        "import pandas as pd\n",
        "\n",
        "train_data = pd.read_csv(\"./train.csv\")\n",
        "test_data = pd.read_csv(\"./test.csv\")"
      ],
      "execution_count": 4,
      "outputs": []
    },
    {
      "cell_type": "code",
      "metadata": {
        "ExecuteTime": {
          "end_time": "2018-10-28T07:48:20.005530Z",
          "start_time": "2018-10-28T07:48:19.985459Z"
        },
        "id": "dIMMZZobbPeP",
        "colab": {
          "base_uri": "https://localhost:8080/",
          "height": 359
        },
        "outputId": "afb750c7-2397-48f8-aee1-a86f34c2f79e"
      },
      "source": [
        "train_data.head(10)"
      ],
      "execution_count": 10,
      "outputs": [
        {
          "output_type": "execute_result",
          "data": {
            "text/html": [
              "<div>\n",
              "<style scoped>\n",
              "    .dataframe tbody tr th:only-of-type {\n",
              "        vertical-align: middle;\n",
              "    }\n",
              "\n",
              "    .dataframe tbody tr th {\n",
              "        vertical-align: top;\n",
              "    }\n",
              "\n",
              "    .dataframe thead th {\n",
              "        text-align: right;\n",
              "    }\n",
              "</style>\n",
              "<table border=\"1\" class=\"dataframe\">\n",
              "  <thead>\n",
              "    <tr style=\"text-align: right;\">\n",
              "      <th></th>\n",
              "      <th>PassengerId</th>\n",
              "      <th>Survived</th>\n",
              "      <th>Pclass</th>\n",
              "      <th>Name</th>\n",
              "      <th>Sex</th>\n",
              "      <th>Age</th>\n",
              "      <th>SibSp</th>\n",
              "      <th>Parch</th>\n",
              "      <th>Ticket</th>\n",
              "      <th>Fare</th>\n",
              "      <th>Cabin</th>\n",
              "      <th>Embarked</th>\n",
              "    </tr>\n",
              "  </thead>\n",
              "  <tbody>\n",
              "    <tr>\n",
              "      <th>0</th>\n",
              "      <td>1</td>\n",
              "      <td>0</td>\n",
              "      <td>3</td>\n",
              "      <td>Braund, Mr. Owen Harris</td>\n",
              "      <td>male</td>\n",
              "      <td>22.0</td>\n",
              "      <td>1</td>\n",
              "      <td>0</td>\n",
              "      <td>A/5 21171</td>\n",
              "      <td>7.2500</td>\n",
              "      <td>NaN</td>\n",
              "      <td>S</td>\n",
              "    </tr>\n",
              "    <tr>\n",
              "      <th>1</th>\n",
              "      <td>2</td>\n",
              "      <td>1</td>\n",
              "      <td>1</td>\n",
              "      <td>Cumings, Mrs. John Bradley (Florence Briggs Th...</td>\n",
              "      <td>female</td>\n",
              "      <td>38.0</td>\n",
              "      <td>1</td>\n",
              "      <td>0</td>\n",
              "      <td>PC 17599</td>\n",
              "      <td>71.2833</td>\n",
              "      <td>C85</td>\n",
              "      <td>C</td>\n",
              "    </tr>\n",
              "    <tr>\n",
              "      <th>2</th>\n",
              "      <td>3</td>\n",
              "      <td>1</td>\n",
              "      <td>3</td>\n",
              "      <td>Heikkinen, Miss. Laina</td>\n",
              "      <td>female</td>\n",
              "      <td>26.0</td>\n",
              "      <td>0</td>\n",
              "      <td>0</td>\n",
              "      <td>STON/O2. 3101282</td>\n",
              "      <td>7.9250</td>\n",
              "      <td>NaN</td>\n",
              "      <td>S</td>\n",
              "    </tr>\n",
              "    <tr>\n",
              "      <th>3</th>\n",
              "      <td>4</td>\n",
              "      <td>1</td>\n",
              "      <td>1</td>\n",
              "      <td>Futrelle, Mrs. Jacques Heath (Lily May Peel)</td>\n",
              "      <td>female</td>\n",
              "      <td>35.0</td>\n",
              "      <td>1</td>\n",
              "      <td>0</td>\n",
              "      <td>113803</td>\n",
              "      <td>53.1000</td>\n",
              "      <td>C123</td>\n",
              "      <td>S</td>\n",
              "    </tr>\n",
              "    <tr>\n",
              "      <th>4</th>\n",
              "      <td>5</td>\n",
              "      <td>0</td>\n",
              "      <td>3</td>\n",
              "      <td>Allen, Mr. William Henry</td>\n",
              "      <td>male</td>\n",
              "      <td>35.0</td>\n",
              "      <td>0</td>\n",
              "      <td>0</td>\n",
              "      <td>373450</td>\n",
              "      <td>8.0500</td>\n",
              "      <td>NaN</td>\n",
              "      <td>S</td>\n",
              "    </tr>\n",
              "    <tr>\n",
              "      <th>5</th>\n",
              "      <td>6</td>\n",
              "      <td>0</td>\n",
              "      <td>3</td>\n",
              "      <td>Moran, Mr. James</td>\n",
              "      <td>male</td>\n",
              "      <td>NaN</td>\n",
              "      <td>0</td>\n",
              "      <td>0</td>\n",
              "      <td>330877</td>\n",
              "      <td>8.4583</td>\n",
              "      <td>NaN</td>\n",
              "      <td>Q</td>\n",
              "    </tr>\n",
              "    <tr>\n",
              "      <th>6</th>\n",
              "      <td>7</td>\n",
              "      <td>0</td>\n",
              "      <td>1</td>\n",
              "      <td>McCarthy, Mr. Timothy J</td>\n",
              "      <td>male</td>\n",
              "      <td>54.0</td>\n",
              "      <td>0</td>\n",
              "      <td>0</td>\n",
              "      <td>17463</td>\n",
              "      <td>51.8625</td>\n",
              "      <td>E46</td>\n",
              "      <td>S</td>\n",
              "    </tr>\n",
              "    <tr>\n",
              "      <th>7</th>\n",
              "      <td>8</td>\n",
              "      <td>0</td>\n",
              "      <td>3</td>\n",
              "      <td>Palsson, Master. Gosta Leonard</td>\n",
              "      <td>male</td>\n",
              "      <td>2.0</td>\n",
              "      <td>3</td>\n",
              "      <td>1</td>\n",
              "      <td>349909</td>\n",
              "      <td>21.0750</td>\n",
              "      <td>NaN</td>\n",
              "      <td>S</td>\n",
              "    </tr>\n",
              "    <tr>\n",
              "      <th>8</th>\n",
              "      <td>9</td>\n",
              "      <td>1</td>\n",
              "      <td>3</td>\n",
              "      <td>Johnson, Mrs. Oscar W (Elisabeth Vilhelmina Berg)</td>\n",
              "      <td>female</td>\n",
              "      <td>27.0</td>\n",
              "      <td>0</td>\n",
              "      <td>2</td>\n",
              "      <td>347742</td>\n",
              "      <td>11.1333</td>\n",
              "      <td>NaN</td>\n",
              "      <td>S</td>\n",
              "    </tr>\n",
              "    <tr>\n",
              "      <th>9</th>\n",
              "      <td>10</td>\n",
              "      <td>1</td>\n",
              "      <td>2</td>\n",
              "      <td>Nasser, Mrs. Nicholas (Adele Achem)</td>\n",
              "      <td>female</td>\n",
              "      <td>14.0</td>\n",
              "      <td>1</td>\n",
              "      <td>0</td>\n",
              "      <td>237736</td>\n",
              "      <td>30.0708</td>\n",
              "      <td>NaN</td>\n",
              "      <td>C</td>\n",
              "    </tr>\n",
              "  </tbody>\n",
              "</table>\n",
              "</div>"
            ],
            "text/plain": [
              "   PassengerId  Survived  Pclass  ...     Fare Cabin  Embarked\n",
              "0            1         0       3  ...   7.2500   NaN         S\n",
              "1            2         1       1  ...  71.2833   C85         C\n",
              "2            3         1       3  ...   7.9250   NaN         S\n",
              "3            4         1       1  ...  53.1000  C123         S\n",
              "4            5         0       3  ...   8.0500   NaN         S\n",
              "5            6         0       3  ...   8.4583   NaN         Q\n",
              "6            7         0       1  ...  51.8625   E46         S\n",
              "7            8         0       3  ...  21.0750   NaN         S\n",
              "8            9         1       3  ...  11.1333   NaN         S\n",
              "9           10         1       2  ...  30.0708   NaN         C\n",
              "\n",
              "[10 rows x 12 columns]"
            ]
          },
          "metadata": {},
          "execution_count": 10
        }
      ]
    },
    {
      "cell_type": "code",
      "metadata": {
        "id": "rjj0lHYjbPeQ",
        "colab": {
          "base_uri": "https://localhost:8080/",
          "height": 359
        },
        "outputId": "0ffb7728-4551-4dc4-e125-93cc2b3345be"
      },
      "source": [
        "test_data.head(10)"
      ],
      "execution_count": 11,
      "outputs": [
        {
          "output_type": "execute_result",
          "data": {
            "text/html": [
              "<div>\n",
              "<style scoped>\n",
              "    .dataframe tbody tr th:only-of-type {\n",
              "        vertical-align: middle;\n",
              "    }\n",
              "\n",
              "    .dataframe tbody tr th {\n",
              "        vertical-align: top;\n",
              "    }\n",
              "\n",
              "    .dataframe thead th {\n",
              "        text-align: right;\n",
              "    }\n",
              "</style>\n",
              "<table border=\"1\" class=\"dataframe\">\n",
              "  <thead>\n",
              "    <tr style=\"text-align: right;\">\n",
              "      <th></th>\n",
              "      <th>PassengerId</th>\n",
              "      <th>Pclass</th>\n",
              "      <th>Name</th>\n",
              "      <th>Sex</th>\n",
              "      <th>Age</th>\n",
              "      <th>SibSp</th>\n",
              "      <th>Parch</th>\n",
              "      <th>Ticket</th>\n",
              "      <th>Fare</th>\n",
              "      <th>Cabin</th>\n",
              "      <th>Embarked</th>\n",
              "    </tr>\n",
              "  </thead>\n",
              "  <tbody>\n",
              "    <tr>\n",
              "      <th>0</th>\n",
              "      <td>892</td>\n",
              "      <td>3</td>\n",
              "      <td>Kelly, Mr. James</td>\n",
              "      <td>male</td>\n",
              "      <td>34.5</td>\n",
              "      <td>0</td>\n",
              "      <td>0</td>\n",
              "      <td>330911</td>\n",
              "      <td>7.8292</td>\n",
              "      <td>NaN</td>\n",
              "      <td>Q</td>\n",
              "    </tr>\n",
              "    <tr>\n",
              "      <th>1</th>\n",
              "      <td>893</td>\n",
              "      <td>3</td>\n",
              "      <td>Wilkes, Mrs. James (Ellen Needs)</td>\n",
              "      <td>female</td>\n",
              "      <td>47.0</td>\n",
              "      <td>1</td>\n",
              "      <td>0</td>\n",
              "      <td>363272</td>\n",
              "      <td>7.0000</td>\n",
              "      <td>NaN</td>\n",
              "      <td>S</td>\n",
              "    </tr>\n",
              "    <tr>\n",
              "      <th>2</th>\n",
              "      <td>894</td>\n",
              "      <td>2</td>\n",
              "      <td>Myles, Mr. Thomas Francis</td>\n",
              "      <td>male</td>\n",
              "      <td>62.0</td>\n",
              "      <td>0</td>\n",
              "      <td>0</td>\n",
              "      <td>240276</td>\n",
              "      <td>9.6875</td>\n",
              "      <td>NaN</td>\n",
              "      <td>Q</td>\n",
              "    </tr>\n",
              "    <tr>\n",
              "      <th>3</th>\n",
              "      <td>895</td>\n",
              "      <td>3</td>\n",
              "      <td>Wirz, Mr. Albert</td>\n",
              "      <td>male</td>\n",
              "      <td>27.0</td>\n",
              "      <td>0</td>\n",
              "      <td>0</td>\n",
              "      <td>315154</td>\n",
              "      <td>8.6625</td>\n",
              "      <td>NaN</td>\n",
              "      <td>S</td>\n",
              "    </tr>\n",
              "    <tr>\n",
              "      <th>4</th>\n",
              "      <td>896</td>\n",
              "      <td>3</td>\n",
              "      <td>Hirvonen, Mrs. Alexander (Helga E Lindqvist)</td>\n",
              "      <td>female</td>\n",
              "      <td>22.0</td>\n",
              "      <td>1</td>\n",
              "      <td>1</td>\n",
              "      <td>3101298</td>\n",
              "      <td>12.2875</td>\n",
              "      <td>NaN</td>\n",
              "      <td>S</td>\n",
              "    </tr>\n",
              "    <tr>\n",
              "      <th>5</th>\n",
              "      <td>897</td>\n",
              "      <td>3</td>\n",
              "      <td>Svensson, Mr. Johan Cervin</td>\n",
              "      <td>male</td>\n",
              "      <td>14.0</td>\n",
              "      <td>0</td>\n",
              "      <td>0</td>\n",
              "      <td>7538</td>\n",
              "      <td>9.2250</td>\n",
              "      <td>NaN</td>\n",
              "      <td>S</td>\n",
              "    </tr>\n",
              "    <tr>\n",
              "      <th>6</th>\n",
              "      <td>898</td>\n",
              "      <td>3</td>\n",
              "      <td>Connolly, Miss. Kate</td>\n",
              "      <td>female</td>\n",
              "      <td>30.0</td>\n",
              "      <td>0</td>\n",
              "      <td>0</td>\n",
              "      <td>330972</td>\n",
              "      <td>7.6292</td>\n",
              "      <td>NaN</td>\n",
              "      <td>Q</td>\n",
              "    </tr>\n",
              "    <tr>\n",
              "      <th>7</th>\n",
              "      <td>899</td>\n",
              "      <td>2</td>\n",
              "      <td>Caldwell, Mr. Albert Francis</td>\n",
              "      <td>male</td>\n",
              "      <td>26.0</td>\n",
              "      <td>1</td>\n",
              "      <td>1</td>\n",
              "      <td>248738</td>\n",
              "      <td>29.0000</td>\n",
              "      <td>NaN</td>\n",
              "      <td>S</td>\n",
              "    </tr>\n",
              "    <tr>\n",
              "      <th>8</th>\n",
              "      <td>900</td>\n",
              "      <td>3</td>\n",
              "      <td>Abrahim, Mrs. Joseph (Sophie Halaut Easu)</td>\n",
              "      <td>female</td>\n",
              "      <td>18.0</td>\n",
              "      <td>0</td>\n",
              "      <td>0</td>\n",
              "      <td>2657</td>\n",
              "      <td>7.2292</td>\n",
              "      <td>NaN</td>\n",
              "      <td>C</td>\n",
              "    </tr>\n",
              "    <tr>\n",
              "      <th>9</th>\n",
              "      <td>901</td>\n",
              "      <td>3</td>\n",
              "      <td>Davies, Mr. John Samuel</td>\n",
              "      <td>male</td>\n",
              "      <td>21.0</td>\n",
              "      <td>2</td>\n",
              "      <td>0</td>\n",
              "      <td>A/4 48871</td>\n",
              "      <td>24.1500</td>\n",
              "      <td>NaN</td>\n",
              "      <td>S</td>\n",
              "    </tr>\n",
              "  </tbody>\n",
              "</table>\n",
              "</div>"
            ],
            "text/plain": [
              "   PassengerId  Pclass  ... Cabin Embarked\n",
              "0          892       3  ...   NaN        Q\n",
              "1          893       3  ...   NaN        S\n",
              "2          894       2  ...   NaN        Q\n",
              "3          895       3  ...   NaN        S\n",
              "4          896       3  ...   NaN        S\n",
              "5          897       3  ...   NaN        S\n",
              "6          898       3  ...   NaN        Q\n",
              "7          899       2  ...   NaN        S\n",
              "8          900       3  ...   NaN        C\n",
              "9          901       3  ...   NaN        S\n",
              "\n",
              "[10 rows x 11 columns]"
            ]
          },
          "metadata": {},
          "execution_count": 11
        }
      ]
    },
    {
      "cell_type": "markdown",
      "metadata": {
        "id": "jX3Yc_HxbPeS"
      },
      "source": [
        "# Preprocessing\n",
        "- Pclass, Sex, Age, SibSp, Parch, Fare 총 6개의 feature를 사용하겠습니다.\n",
        "- 별도의 feature engineering은 하지 않겠습니다.\n",
        "- kaggle data이기 때문에 test_data의 \"Survived\" 열은 없습니다.\n",
        "- 우리가 예측한 결과를 csv 파일로 제출하는 형태입니다."
      ]
    },
    {
      "cell_type": "markdown",
      "metadata": {
        "id": "JxGugBSebPeT"
      },
      "source": [
        "### categorical variable 처리"
      ]
    },
    {
      "cell_type": "code",
      "metadata": {
        "id": "K48FXiY1bPeU",
        "colab": {
          "base_uri": "https://localhost:8080/"
        },
        "outputId": "ab70af1c-a228-44f4-a326-bc1c989492cc"
      },
      "source": [
        "train_data[\"Sex\"].head(10)"
      ],
      "execution_count": 12,
      "outputs": [
        {
          "output_type": "execute_result",
          "data": {
            "text/plain": [
              "0      male\n",
              "1    female\n",
              "2    female\n",
              "3    female\n",
              "4      male\n",
              "5      male\n",
              "6      male\n",
              "7      male\n",
              "8    female\n",
              "9    female\n",
              "Name: Sex, dtype: object"
            ]
          },
          "metadata": {},
          "execution_count": 12
        }
      ]
    },
    {
      "cell_type": "code",
      "metadata": {
        "id": "IqOsr-jsbPeU"
      },
      "source": [
        "train_data[\"Sex\"] = train_data[\"Sex\"].map({\"male\": 1, \"female\": 0}) # 남자는 1, 여자는 0으로 성별 매핑함\n",
        "test_data[\"Sex\"] = test_data[\"Sex\"].map({\"male\": 1, \"female\": 0})"
      ],
      "execution_count": 13,
      "outputs": []
    },
    {
      "cell_type": "code",
      "metadata": {
        "id": "G_Yej7DybPeV",
        "colab": {
          "base_uri": "https://localhost:8080/"
        },
        "outputId": "56ca189f-d344-416b-8048-1a6480902017"
      },
      "source": [
        "train_data[\"Sex\"].head(10)"
      ],
      "execution_count": 14,
      "outputs": [
        {
          "output_type": "execute_result",
          "data": {
            "text/plain": [
              "0    1\n",
              "1    0\n",
              "2    0\n",
              "3    0\n",
              "4    1\n",
              "5    1\n",
              "6    1\n",
              "7    1\n",
              "8    0\n",
              "9    0\n",
              "Name: Sex, dtype: int64"
            ]
          },
          "metadata": {},
          "execution_count": 14
        }
      ]
    },
    {
      "cell_type": "markdown",
      "metadata": {
        "id": "QmwsvSsxbPeV"
      },
      "source": [
        "### 데이터셋 구성"
      ]
    },
    {
      "cell_type": "code",
      "metadata": {
        "ExecuteTime": {
          "end_time": "2018-10-28T07:48:21.754377Z",
          "start_time": "2018-10-28T07:48:21.739961Z"
        },
        "id": "0mWGmlM-bPeW"
      },
      "source": [
        "data_X = train_data[[\"Pclass\", \"Sex\", \"Age\", \"SibSp\", \"Parch\", \"Fare\"]]\n",
        "data_y = train_data[\"Survived\"]"
      ],
      "execution_count": 15,
      "outputs": []
    },
    {
      "cell_type": "code",
      "metadata": {
        "colab": {
          "base_uri": "https://localhost:8080/"
        },
        "id": "UikAHO6OMpPB",
        "outputId": "860318d3-8544-4e5d-cb7d-d2c8ea2fd2a1"
      },
      "source": [
        "data_y"
      ],
      "execution_count": 16,
      "outputs": [
        {
          "output_type": "execute_result",
          "data": {
            "text/plain": [
              "0      0\n",
              "1      1\n",
              "2      1\n",
              "3      1\n",
              "4      0\n",
              "      ..\n",
              "886    0\n",
              "887    1\n",
              "888    0\n",
              "889    1\n",
              "890    0\n",
              "Name: Survived, Length: 891, dtype: int64"
            ]
          },
          "metadata": {},
          "execution_count": 16
        }
      ]
    },
    {
      "cell_type": "code",
      "metadata": {
        "id": "J8vdM8qTbPeW",
        "colab": {
          "base_uri": "https://localhost:8080/"
        },
        "outputId": "49ac6f46-ad8a-48d9-c419-09afbd6969f0"
      },
      "source": [
        "len(data_X)"
      ],
      "execution_count": 17,
      "outputs": [
        {
          "output_type": "execute_result",
          "data": {
            "text/plain": [
              "891"
            ]
          },
          "metadata": {},
          "execution_count": 17
        }
      ]
    },
    {
      "cell_type": "code",
      "metadata": {
        "colab": {
          "base_uri": "https://localhost:8080/"
        },
        "id": "evmGYtesOXgf",
        "outputId": "3c0a34eb-b3a1-4903-d22e-cf1f272eae82"
      },
      "source": [
        "len(data_y)"
      ],
      "execution_count": 19,
      "outputs": [
        {
          "output_type": "execute_result",
          "data": {
            "text/plain": [
              "891"
            ]
          },
          "metadata": {},
          "execution_count": 19
        }
      ]
    },
    {
      "cell_type": "code",
      "metadata": {
        "id": "8ssi3wHUbPeX"
      },
      "source": [
        "train_X, test_X, train_y, test_y = train_test_split(data_X, data_y, test_size=0.3)"
      ],
      "execution_count": 20,
      "outputs": []
    },
    {
      "cell_type": "code",
      "metadata": {
        "id": "rV5ZXqYcbPeX",
        "colab": {
          "base_uri": "https://localhost:8080/"
        },
        "outputId": "af6ee74c-fb12-4db4-e68d-eb3a31dfdae1"
      },
      "source": [
        "len(train_X), len(data_X)*.7"
      ],
      "execution_count": 21,
      "outputs": [
        {
          "output_type": "execute_result",
          "data": {
            "text/plain": [
              "(623, 623.6999999999999)"
            ]
          },
          "metadata": {},
          "execution_count": 21
        }
      ]
    },
    {
      "cell_type": "code",
      "metadata": {
        "id": "s9_Wvzx5bPeY",
        "colab": {
          "base_uri": "https://localhost:8080/"
        },
        "outputId": "51e27624-41d7-4b9b-d32d-308996296626"
      },
      "source": [
        "len(test_X), len(data_X)*.3"
      ],
      "execution_count": 22,
      "outputs": [
        {
          "output_type": "execute_result",
          "data": {
            "text/plain": [
              "(268, 267.3)"
            ]
          },
          "metadata": {},
          "execution_count": 22
        }
      ]
    },
    {
      "cell_type": "markdown",
      "metadata": {
        "id": "-y0MK3h3bPeY"
      },
      "source": [
        "### null 값 확인 (결측값)"
      ]
    },
    {
      "cell_type": "code",
      "metadata": {
        "ExecuteTime": {
          "end_time": "2018-10-28T07:48:22.020698Z",
          "start_time": "2018-10-28T07:48:22.006813Z"
        },
        "id": "LEdpyMEvbPeY",
        "colab": {
          "base_uri": "https://localhost:8080/"
        },
        "outputId": "1beaad57-3ef6-40c7-e4b0-da1eee034e0d"
      },
      "source": [
        "print('Number of null in train_X:', train_X.isnull().sum())\n",
        "print(\"\\n\",'Number of null in test_X:', test_X.isnull().sum())\n",
        "print(\"\\n\",'Number of nullin train y:', train_y.isnull().sum())\n",
        "print(\"\\n\",'Number of nullin train y:', test_y.isnull().sum())\n",
        "\n",
        "print(\"\\n\",np.mean(train_X[\"Age\"]))"
      ],
      "execution_count": 23,
      "outputs": [
        {
          "output_type": "stream",
          "name": "stdout",
          "text": [
            "Number of null in train_X: Pclass      0\n",
            "Sex         0\n",
            "Age       129\n",
            "SibSp       0\n",
            "Parch       0\n",
            "Fare        0\n",
            "dtype: int64\n",
            "\n",
            " Number of null in test_X: Pclass     0\n",
            "Sex        0\n",
            "Age       48\n",
            "SibSp      0\n",
            "Parch      0\n",
            "Fare       0\n",
            "dtype: int64\n",
            "\n",
            " Number of nullin train y: 0\n",
            "\n",
            " Number of nullin train y: 0\n",
            "\n",
            " 29.731963562753037\n"
          ]
        }
      ]
    },
    {
      "cell_type": "markdown",
      "metadata": {
        "id": "A16J7K_jbPeY"
      },
      "source": [
        "- 간단하게 age와 fare의 na 값은 평균으로 대체"
      ]
    },
    {
      "cell_type": "code",
      "metadata": {
        "ExecuteTime": {
          "end_time": "2018-10-28T07:48:23.836865Z",
          "start_time": "2018-10-28T07:48:23.823969Z"
        },
        "scrolled": false,
        "id": "E9Ls0c0lbPeY"
      },
      "source": [
        "pd.options.mode.chained_assignment = None\n",
        "\n",
        "train_X.loc[:,\"Age\"] = train_X.loc[:,\"Age\"].replace(np.nan,30)\n",
        "test_X.loc[:,\"Age\"] = test_X.loc[:,\"Age\"].replace(np.nan,30)"
      ],
      "execution_count": 24,
      "outputs": []
    },
    {
      "cell_type": "code",
      "metadata": {
        "ExecuteTime": {
          "end_time": "2018-10-28T07:48:24.418285Z",
          "start_time": "2018-10-28T07:48:24.406782Z"
        },
        "id": "PiDW3rlNbPeZ",
        "colab": {
          "base_uri": "https://localhost:8080/"
        },
        "outputId": "9a20f24e-e9fb-42ab-b2f6-2823deae392b"
      },
      "source": [
        "print('Number of null:', train_X.isnull().sum())\n",
        "print(\"\\n\",'Number of null:', test_X.isnull().sum())"
      ],
      "execution_count": 25,
      "outputs": [
        {
          "output_type": "stream",
          "name": "stdout",
          "text": [
            "Number of null: Pclass    0\n",
            "Sex       0\n",
            "Age       0\n",
            "SibSp     0\n",
            "Parch     0\n",
            "Fare      0\n",
            "dtype: int64\n",
            "\n",
            " Number of null: Pclass    0\n",
            "Sex       0\n",
            "Age       0\n",
            "SibSp     0\n",
            "Parch     0\n",
            "Fare      0\n",
            "dtype: int64\n"
          ]
        }
      ]
    },
    {
      "cell_type": "code",
      "metadata": {
        "ExecuteTime": {
          "end_time": "2018-10-28T07:48:26.498112Z",
          "start_time": "2018-10-28T07:48:26.492656Z"
        },
        "id": "kGHwYg-vbPeZ",
        "colab": {
          "base_uri": "https://localhost:8080/"
        },
        "outputId": "e02bc04c-6491-4f8d-dc30-bad1966e9823"
      },
      "source": [
        "train_y.head()"
      ],
      "execution_count": 26,
      "outputs": [
        {
          "output_type": "execute_result",
          "data": {
            "text/plain": [
              "659    0\n",
              "318    1\n",
              "830    1\n",
              "671    0\n",
              "345    1\n",
              "Name: Survived, dtype: int64"
            ]
          },
          "metadata": {},
          "execution_count": 26
        }
      ]
    },
    {
      "cell_type": "code",
      "metadata": {
        "ExecuteTime": {
          "end_time": "2018-10-28T07:48:27.198668Z",
          "start_time": "2018-10-28T07:48:27.192577Z"
        },
        "id": "rtuNWEeEbPeZ",
        "colab": {
          "base_uri": "https://localhost:8080/"
        },
        "outputId": "fdb9fc98-2022-4e8b-af1e-c76c8aef2d04"
      },
      "source": [
        "len(train_X), len(test_X), len(train_y), len(test_y)"
      ],
      "execution_count": 27,
      "outputs": [
        {
          "output_type": "execute_result",
          "data": {
            "text/plain": [
              "(623, 268, 623, 268)"
            ]
          },
          "metadata": {},
          "execution_count": 27
        }
      ]
    },
    {
      "cell_type": "markdown",
      "metadata": {
        "id": "dV3Y1PC5bPeZ"
      },
      "source": [
        "# Train model (PyTorch)\n",
        "1. dataset, dataloader 정의\n",
        "2. 모델 정의\n",
        "3. 모델 학습 \n",
        "4. 모델 평가"
      ]
    },
    {
      "cell_type": "markdown",
      "metadata": {
        "id": "pz7bvYSPbPeZ"
      },
      "source": [
        "- train, test dataset을 출력할 수 있는 class를 만듭니다."
      ]
    },
    {
      "cell_type": "code",
      "metadata": {
        "ExecuteTime": {
          "end_time": "2018-10-28T07:48:30.938583Z",
          "start_time": "2018-10-28T07:48:30.931143Z"
        },
        "id": "Ze53fTkIbPeZ"
      },
      "source": [
        "class simple_dataset(Dataset):\n",
        "    \n",
        "    def __init__(self, X_data, y_data):\n",
        "        self.X_data = X_data\n",
        "        self.y_data = y_data\n",
        "        \n",
        "    def __getitem__(self, index):\n",
        "        return self.X_data[index], self.y_data[index]\n",
        "        \n",
        "    def __len__ (self):\n",
        "        return len(self.X_data)"
      ],
      "execution_count": 28,
      "outputs": []
    },
    {
      "cell_type": "code",
      "metadata": {
        "id": "0bQ6b8_QbPea",
        "colab": {
          "base_uri": "https://localhost:8080/"
        },
        "outputId": "e5253410-dc13-47d9-de67-0facd5d13424"
      },
      "source": [
        "type(test_X)"
      ],
      "execution_count": 29,
      "outputs": [
        {
          "output_type": "execute_result",
          "data": {
            "text/plain": [
              "pandas.core.frame.DataFrame"
            ]
          },
          "metadata": {},
          "execution_count": 29
        }
      ]
    },
    {
      "cell_type": "code",
      "metadata": {
        "ExecuteTime": {
          "end_time": "2018-10-28T07:48:32.125111Z",
          "start_time": "2018-10-28T07:48:32.117187Z"
        },
        "id": "iTTmOkOcbPea"
      },
      "source": [
        "# 정규화합니다\n",
        "scaler = StandardScaler()\n",
        "train_data = simple_dataset(torch.FloatTensor(scaler.fit_transform(train_X.to_numpy())), torch.LongTensor(train_y.to_numpy()))\n",
        "test_data = simple_dataset(torch.FloatTensor(scaler.fit_transform(test_X.to_numpy())), torch.LongTensor(test_y.to_numpy()))"
      ],
      "execution_count": 30,
      "outputs": []
    },
    {
      "cell_type": "code",
      "metadata": {
        "id": "vt8OOW_7bPea",
        "colab": {
          "base_uri": "https://localhost:8080/"
        },
        "outputId": "8aed5daf-9f54-4fe5-dcd1-a3f3c4454583"
      },
      "source": [
        "len(train_data), len(test_data)"
      ],
      "execution_count": 31,
      "outputs": [
        {
          "output_type": "execute_result",
          "data": {
            "text/plain": [
              "(623, 268)"
            ]
          },
          "metadata": {},
          "execution_count": 31
        }
      ]
    },
    {
      "cell_type": "code",
      "metadata": {
        "ExecuteTime": {
          "end_time": "2018-10-28T07:48:51.854783Z",
          "start_time": "2018-10-28T07:48:51.849359Z"
        },
        "id": "rHGspM79bPea",
        "colab": {
          "base_uri": "https://localhost:8080/"
        },
        "outputId": "b1d42fb8-699c-4d26-842f-419f0a378d01"
      },
      "source": [
        "train_data.__getitem__(0)"
      ],
      "execution_count": 32,
      "outputs": [
        {
          "output_type": "execute_result",
          "data": {
            "text/plain": [
              "(tensor([-1.5868,  0.7311,  2.1754, -0.4555,  1.8589,  1.7178]), tensor(0))"
            ]
          },
          "metadata": {},
          "execution_count": 32
        }
      ]
    },
    {
      "cell_type": "code",
      "metadata": {
        "id": "uygHmaGDbPea",
        "colab": {
          "base_uri": "https://localhost:8080/"
        },
        "outputId": "1235e0b1-c9d6-4172-eced-2890e6ce1f25"
      },
      "source": [
        "train_data[0]"
      ],
      "execution_count": 33,
      "outputs": [
        {
          "output_type": "execute_result",
          "data": {
            "text/plain": [
              "(tensor([-1.5868,  0.7311,  2.1754, -0.4555,  1.8589,  1.7178]), tensor(0))"
            ]
          },
          "metadata": {},
          "execution_count": 33
        }
      ]
    },
    {
      "cell_type": "code",
      "metadata": {
        "id": "qK4pX6ASbPeb"
      },
      "source": [
        ""
      ],
      "execution_count": null,
      "outputs": []
    },
    {
      "cell_type": "markdown",
      "metadata": {
        "id": "kLFSK0k8bPeb"
      },
      "source": [
        "## Modeling"
      ]
    },
    {
      "cell_type": "code",
      "metadata": {
        "ExecuteTime": {
          "end_time": "2018-10-28T08:24:00.698892Z",
          "start_time": "2018-10-28T08:24:00.685532Z"
        },
        "id": "gc1UlS5ybPeb"
      },
      "source": [
        "class Binary_Classification(nn.Module):\n",
        "    \n",
        "    def __init__(self, num_features, num_classes):\n",
        "        super(Binary_Classification, self).__init__()\n",
        "        \n",
        "        self.Layer_1 = nn.Linear(num_features, 30)\n",
        "        self.Layer_2 = nn.Linear(30, 20)\n",
        "        self.Layer_3 = nn.Linear(20, 10)\n",
        "        self.Layer_out = nn.Linear(10, num_classes)  # num_classes -> 2개 (0,1) 둘 뿐이라서\n",
        "\n",
        "        # Y = AX + B # X: (k), A: (k, w), b: (w) Y: (w)\n",
        "        \n",
        "        ################################################\n",
        "        #  가능한 답은 하나가 아니므로 성능이 더 좋을  #\n",
        "        #  법할 모델을 다양하게 시도해보시길 바랍니다  #\n",
        "        ################################################\n",
        "\n",
        "        self.relu = nn.ReLU()\n",
        "        \n",
        "    def forward(self, inputs):\n",
        "                \n",
        "        ################################################\n",
        "        #  TODO       feature를 layer를 통과시키기     #\n",
        "        ################################################\n",
        "        x = self.Layer_1(inputs)\n",
        "        x = self.relu(x)\n",
        "        x = self.Layer_2(x)\n",
        "        x = self.relu(x)\n",
        "        x = self.Layer_3(x)\n",
        "        x = self.relu(x)\n",
        "\n",
        "\n",
        "        ################################################\n",
        "        #  가능한 답은 하나가 아니므로 성능이 더 좋을  #\n",
        "        #  법할 모델을 다양하게 시도해보시길 바랍니다  #\n",
        "        ################################################\n",
        "        \n",
        "        x = self.Layer_out(x)\n",
        "\n",
        "        return x"
      ],
      "execution_count": 34,
      "outputs": []
    },
    {
      "cell_type": "code",
      "metadata": {
        "id": "pGQc2LCKbPeb"
      },
      "source": [
        ""
      ],
      "execution_count": null,
      "outputs": []
    },
    {
      "cell_type": "markdown",
      "metadata": {
        "id": "FrZ560kLbPeb"
      },
      "source": [
        "## Training"
      ]
    },
    {
      "cell_type": "code",
      "metadata": {
        "id": "Bqone0Y2bPeb"
      },
      "source": [
        "EPOCHS = 3000\n",
        "BATCH_SIZE =  891\n",
        "\n",
        "train_loader = DataLoader(dataset=train_data, batch_size=BATCH_SIZE, shuffle=True)\n",
        "test_loader = DataLoader(dataset=test_data, batch_size=1, shuffle=False)\n",
        "\n",
        "model = Binary_Classification(num_features=6, num_classes=2)\n",
        "\n",
        "criterion = nn.CrossEntropyLoss() # https://pytorch.org/docs/stable/nn.html\n",
        "optimizer = optim.Adam(model.parameters(), lr=0.001)"
      ],
      "execution_count": 35,
      "outputs": []
    },
    {
      "cell_type": "markdown",
      "metadata": {
        "id": "Ah9wBbeibPec"
      },
      "source": [
        "### 데이터 사이즈 확인 "
      ]
    },
    {
      "cell_type": "code",
      "metadata": {
        "id": "Tv3vBuC4bPec",
        "colab": {
          "base_uri": "https://localhost:8080/"
        },
        "outputId": "53025c65-4295-4285-9740-77dce3249b71"
      },
      "source": [
        "for epoch in range(EPOCHS):\n",
        "    for X_batch, y_batch in train_loader:\n",
        "        print(X_batch.size(), y_batch.size())\n",
        "        break\n",
        "    break"
      ],
      "execution_count": 36,
      "outputs": [
        {
          "output_type": "stream",
          "name": "stdout",
          "text": [
            "torch.Size([623, 6]) torch.Size([623])\n"
          ]
        }
      ]
    },
    {
      "cell_type": "code",
      "metadata": {
        "ExecuteTime": {
          "end_time": "2018-10-28T08:26:29.145512Z",
          "start_time": "2018-10-28T08:24:02.302520Z"
        },
        "scrolled": true,
        "id": "zJv6oWY-bPec",
        "colab": {
          "base_uri": "https://localhost:8080/"
        },
        "outputId": "d18319ff-8094-40af-add6-279ad52c10a6"
      },
      "source": [
        "loss_list = []\n",
        "acc_list = []\n",
        "for epoch in range(EPOCHS):\n",
        "    for i, (X_batch, y_batch) in enumerate(train_loader):\n",
        "        \n",
        "        #Forward \n",
        "        y_output = model(X_batch)\n",
        "        loss = criterion(y_output, y_batch) #CELoss: The input is expected to contain raw, unnormalized scores for each class.\n",
        "        \n",
        "        #Backward\n",
        "        optimizer.zero_grad()\n",
        "        loss.backward()\n",
        "        optimizer.step()\n",
        "        \n",
        "        #misc (acc 계산, etc) \n",
        "        y_pred = torch.max(y_output, 1)[1]\n",
        "        acc = accuracy_score(y_pred.data.cpu(), y_batch.data.cpu())\n",
        "        loss_list.append(loss.item())\n",
        "        acc_list.append(acc)\n",
        "\n",
        "    if (epoch+1) % 30 == 0:\n",
        "        print('Epoch [{}/{}] Step [{}/{}] Loss: [{:.4f}] Train ACC [{:.2f}%]'.format(epoch+1, EPOCHS, \\\n",
        "                                                                                   i+1, len(train_loader), loss.item(), acc*100))"
      ],
      "execution_count": 37,
      "outputs": [
        {
          "output_type": "stream",
          "name": "stdout",
          "text": [
            "Epoch [30/3000] Step [1/1] Loss: [0.6207] Train ACC [65.49%]\n",
            "Epoch [60/3000] Step [1/1] Loss: [0.4911] Train ACC [80.10%]\n",
            "Epoch [90/3000] Step [1/1] Loss: [0.4346] Train ACC [81.70%]\n",
            "Epoch [120/3000] Step [1/1] Loss: [0.4174] Train ACC [81.86%]\n",
            "Epoch [150/3000] Step [1/1] Loss: [0.4091] Train ACC [82.99%]\n",
            "Epoch [180/3000] Step [1/1] Loss: [0.4029] Train ACC [82.66%]\n",
            "Epoch [210/3000] Step [1/1] Loss: [0.3961] Train ACC [82.99%]\n",
            "Epoch [240/3000] Step [1/1] Loss: [0.3879] Train ACC [83.47%]\n",
            "Epoch [270/3000] Step [1/1] Loss: [0.3791] Train ACC [84.43%]\n",
            "Epoch [300/3000] Step [1/1] Loss: [0.3711] Train ACC [85.39%]\n",
            "Epoch [330/3000] Step [1/1] Loss: [0.3641] Train ACC [85.55%]\n",
            "Epoch [360/3000] Step [1/1] Loss: [0.3578] Train ACC [85.71%]\n",
            "Epoch [390/3000] Step [1/1] Loss: [0.3517] Train ACC [85.55%]\n",
            "Epoch [420/3000] Step [1/1] Loss: [0.3446] Train ACC [85.55%]\n",
            "Epoch [450/3000] Step [1/1] Loss: [0.3376] Train ACC [85.71%]\n",
            "Epoch [480/3000] Step [1/1] Loss: [0.3291] Train ACC [85.87%]\n",
            "Epoch [510/3000] Step [1/1] Loss: [0.3209] Train ACC [86.20%]\n",
            "Epoch [540/3000] Step [1/1] Loss: [0.3139] Train ACC [86.36%]\n",
            "Epoch [570/3000] Step [1/1] Loss: [0.3077] Train ACC [86.68%]\n",
            "Epoch [600/3000] Step [1/1] Loss: [0.3018] Train ACC [87.16%]\n",
            "Epoch [630/3000] Step [1/1] Loss: [0.2960] Train ACC [87.96%]\n",
            "Epoch [660/3000] Step [1/1] Loss: [0.2899] Train ACC [88.12%]\n",
            "Epoch [690/3000] Step [1/1] Loss: [0.2834] Train ACC [88.12%]\n",
            "Epoch [720/3000] Step [1/1] Loss: [0.2779] Train ACC [87.96%]\n",
            "Epoch [750/3000] Step [1/1] Loss: [0.2736] Train ACC [88.76%]\n",
            "Epoch [780/3000] Step [1/1] Loss: [0.2702] Train ACC [89.73%]\n",
            "Epoch [810/3000] Step [1/1] Loss: [0.2666] Train ACC [89.57%]\n",
            "Epoch [840/3000] Step [1/1] Loss: [0.2637] Train ACC [89.25%]\n",
            "Epoch [870/3000] Step [1/1] Loss: [0.2606] Train ACC [89.57%]\n",
            "Epoch [900/3000] Step [1/1] Loss: [0.2577] Train ACC [89.25%]\n",
            "Epoch [930/3000] Step [1/1] Loss: [0.2549] Train ACC [89.09%]\n",
            "Epoch [960/3000] Step [1/1] Loss: [0.2523] Train ACC [89.89%]\n",
            "Epoch [990/3000] Step [1/1] Loss: [0.2485] Train ACC [90.05%]\n",
            "Epoch [1020/3000] Step [1/1] Loss: [0.2445] Train ACC [90.53%]\n",
            "Epoch [1050/3000] Step [1/1] Loss: [0.2411] Train ACC [90.53%]\n",
            "Epoch [1080/3000] Step [1/1] Loss: [0.2378] Train ACC [90.37%]\n",
            "Epoch [1110/3000] Step [1/1] Loss: [0.2360] Train ACC [90.37%]\n",
            "Epoch [1140/3000] Step [1/1] Loss: [0.2345] Train ACC [90.69%]\n",
            "Epoch [1170/3000] Step [1/1] Loss: [0.2323] Train ACC [90.69%]\n",
            "Epoch [1200/3000] Step [1/1] Loss: [0.2313] Train ACC [90.37%]\n",
            "Epoch [1230/3000] Step [1/1] Loss: [0.2300] Train ACC [90.85%]\n",
            "Epoch [1260/3000] Step [1/1] Loss: [0.2277] Train ACC [90.69%]\n",
            "Epoch [1290/3000] Step [1/1] Loss: [0.2270] Train ACC [90.53%]\n",
            "Epoch [1320/3000] Step [1/1] Loss: [0.2257] Train ACC [90.69%]\n",
            "Epoch [1350/3000] Step [1/1] Loss: [0.2242] Train ACC [90.85%]\n",
            "Epoch [1380/3000] Step [1/1] Loss: [0.2232] Train ACC [91.01%]\n",
            "Epoch [1410/3000] Step [1/1] Loss: [0.2222] Train ACC [91.01%]\n",
            "Epoch [1440/3000] Step [1/1] Loss: [0.2211] Train ACC [90.69%]\n",
            "Epoch [1470/3000] Step [1/1] Loss: [0.2208] Train ACC [91.17%]\n",
            "Epoch [1500/3000] Step [1/1] Loss: [0.2191] Train ACC [91.17%]\n",
            "Epoch [1530/3000] Step [1/1] Loss: [0.2201] Train ACC [90.69%]\n",
            "Epoch [1560/3000] Step [1/1] Loss: [0.2173] Train ACC [91.01%]\n",
            "Epoch [1590/3000] Step [1/1] Loss: [0.2166] Train ACC [91.01%]\n",
            "Epoch [1620/3000] Step [1/1] Loss: [0.2161] Train ACC [91.49%]\n",
            "Epoch [1650/3000] Step [1/1] Loss: [0.2151] Train ACC [91.97%]\n",
            "Epoch [1680/3000] Step [1/1] Loss: [0.2140] Train ACC [91.49%]\n",
            "Epoch [1710/3000] Step [1/1] Loss: [0.2133] Train ACC [91.33%]\n",
            "Epoch [1740/3000] Step [1/1] Loss: [0.2125] Train ACC [91.49%]\n",
            "Epoch [1770/3000] Step [1/1] Loss: [0.2111] Train ACC [92.13%]\n",
            "Epoch [1800/3000] Step [1/1] Loss: [0.2105] Train ACC [92.13%]\n",
            "Epoch [1830/3000] Step [1/1] Loss: [0.2092] Train ACC [91.81%]\n",
            "Epoch [1860/3000] Step [1/1] Loss: [0.2089] Train ACC [91.97%]\n",
            "Epoch [1890/3000] Step [1/1] Loss: [0.2078] Train ACC [92.30%]\n",
            "Epoch [1920/3000] Step [1/1] Loss: [0.2067] Train ACC [91.97%]\n",
            "Epoch [1950/3000] Step [1/1] Loss: [0.2064] Train ACC [92.46%]\n",
            "Epoch [1980/3000] Step [1/1] Loss: [0.2053] Train ACC [92.62%]\n",
            "Epoch [2010/3000] Step [1/1] Loss: [0.2045] Train ACC [92.78%]\n",
            "Epoch [2040/3000] Step [1/1] Loss: [0.2041] Train ACC [92.46%]\n",
            "Epoch [2070/3000] Step [1/1] Loss: [0.2042] Train ACC [92.62%]\n",
            "Epoch [2100/3000] Step [1/1] Loss: [0.2026] Train ACC [92.78%]\n",
            "Epoch [2130/3000] Step [1/1] Loss: [0.2030] Train ACC [91.65%]\n",
            "Epoch [2160/3000] Step [1/1] Loss: [0.2013] Train ACC [92.78%]\n",
            "Epoch [2190/3000] Step [1/1] Loss: [0.2017] Train ACC [91.81%]\n",
            "Epoch [2220/3000] Step [1/1] Loss: [0.2000] Train ACC [93.10%]\n",
            "Epoch [2250/3000] Step [1/1] Loss: [0.1994] Train ACC [93.10%]\n",
            "Epoch [2280/3000] Step [1/1] Loss: [0.1991] Train ACC [92.94%]\n",
            "Epoch [2310/3000] Step [1/1] Loss: [0.1983] Train ACC [92.78%]\n",
            "Epoch [2340/3000] Step [1/1] Loss: [0.1977] Train ACC [92.78%]\n",
            "Epoch [2370/3000] Step [1/1] Loss: [0.1971] Train ACC [92.78%]\n",
            "Epoch [2400/3000] Step [1/1] Loss: [0.1967] Train ACC [92.78%]\n",
            "Epoch [2430/3000] Step [1/1] Loss: [0.1963] Train ACC [92.78%]\n",
            "Epoch [2460/3000] Step [1/1] Loss: [0.1968] Train ACC [91.81%]\n",
            "Epoch [2490/3000] Step [1/1] Loss: [0.1962] Train ACC [92.94%]\n",
            "Epoch [2520/3000] Step [1/1] Loss: [0.1945] Train ACC [92.94%]\n",
            "Epoch [2550/3000] Step [1/1] Loss: [0.1941] Train ACC [93.26%]\n",
            "Epoch [2580/3000] Step [1/1] Loss: [0.1936] Train ACC [92.78%]\n",
            "Epoch [2610/3000] Step [1/1] Loss: [0.1943] Train ACC [92.94%]\n",
            "Epoch [2640/3000] Step [1/1] Loss: [0.1925] Train ACC [93.10%]\n",
            "Epoch [2670/3000] Step [1/1] Loss: [0.1927] Train ACC [92.46%]\n",
            "Epoch [2700/3000] Step [1/1] Loss: [0.1919] Train ACC [92.62%]\n",
            "Epoch [2730/3000] Step [1/1] Loss: [0.1911] Train ACC [92.78%]\n",
            "Epoch [2760/3000] Step [1/1] Loss: [0.1908] Train ACC [92.78%]\n",
            "Epoch [2790/3000] Step [1/1] Loss: [0.1903] Train ACC [92.78%]\n",
            "Epoch [2820/3000] Step [1/1] Loss: [0.1910] Train ACC [92.30%]\n",
            "Epoch [2850/3000] Step [1/1] Loss: [0.1894] Train ACC [93.10%]\n",
            "Epoch [2880/3000] Step [1/1] Loss: [0.1891] Train ACC [92.94%]\n",
            "Epoch [2910/3000] Step [1/1] Loss: [0.1889] Train ACC [92.94%]\n",
            "Epoch [2940/3000] Step [1/1] Loss: [0.1883] Train ACC [92.94%]\n",
            "Epoch [2970/3000] Step [1/1] Loss: [0.1877] Train ACC [92.94%]\n",
            "Epoch [3000/3000] Step [1/1] Loss: [0.1874] Train ACC [92.94%]\n"
          ]
        }
      ]
    },
    {
      "cell_type": "code",
      "metadata": {
        "id": "e3qILiMrbPec",
        "colab": {
          "base_uri": "https://localhost:8080/",
          "height": 282
        },
        "outputId": "b253ba14-054c-472c-cf0b-41ee74adbc57"
      },
      "source": [
        "plt.plot(loss_list)"
      ],
      "execution_count": 38,
      "outputs": [
        {
          "output_type": "execute_result",
          "data": {
            "text/plain": [
              "[<matplotlib.lines.Line2D at 0x7fd62ac0cb50>]"
            ]
          },
          "metadata": {},
          "execution_count": 38
        },
        {
          "output_type": "display_data",
          "data": {
            "image/png": "[encoded data removed]",
            "text/plain": [
              "<Figure size 432x288 with 1 Axes>"
            ]
          },
          "metadata": {
            "needs_background": "light"
          }
        }
      ]
    },
    {
      "cell_type": "code",
      "metadata": {
        "id": "Apu0vOPEbPec",
        "colab": {
          "base_uri": "https://localhost:8080/",
          "height": 282
        },
        "outputId": "6c203df3-2539-4288-eb6d-e1cf052c1c84"
      },
      "source": [
        "plt.plot(acc_list)"
      ],
      "execution_count": 39,
      "outputs": [
        {
          "output_type": "execute_result",
          "data": {
            "text/plain": [
              "[<matplotlib.lines.Line2D at 0x7fd62a6db1d0>]"
            ]
          },
          "metadata": {},
          "execution_count": 39
        },
        {
          "output_type": "display_data",
          "data": {
            "image/png": "[encoded data removed]",
            "text/plain": [
              "<Figure size 432x288 with 1 Axes>"
            ]
          },
          "metadata": {
            "needs_background": "light"
          }
        }
      ]
    },
    {
      "cell_type": "code",
      "metadata": {
        "id": "XA4HBkCkbPec"
      },
      "source": [
        ""
      ],
      "execution_count": null,
      "outputs": []
    },
    {
      "cell_type": "markdown",
      "metadata": {
        "id": "Hrze5UzxbPec"
      },
      "source": [
        "## Test"
      ]
    },
    {
      "cell_type": "code",
      "metadata": {
        "ExecuteTime": {
          "end_time": "2018-10-28T08:26:31.968976Z",
          "start_time": "2018-10-28T08:26:31.839523Z"
        },
        "id": "6dSCL2O7bPec",
        "colab": {
          "base_uri": "https://localhost:8080/"
        },
        "outputId": "a7335c31-032b-4572-9265-9f36da8084a6"
      },
      "source": [
        "test_y_pred = []\n",
        "test_acc_list = []\n",
        "with torch.no_grad():\n",
        "    model.eval() # batch size 1짜리 모델을 테스트할 때는 이게 필요함\n",
        "    for X_batch, y_batch in test_loader:    \n",
        "        #Forward\n",
        "        y_output = model(X_batch)\n",
        "        \n",
        "        #misc (acc 계산, etc) \n",
        "        y_pred = torch.max(y_output, 1)[1]\n",
        "        test_y_pred.append(y_pred) ##\n",
        "        \n",
        "        acc = accuracy_score(y_pred.data.cpu(), y_batch.data.cpu())\n",
        "        test_acc_list.append(acc)\n",
        "    test_acc = np.mean(test_acc_list)\n",
        "print('Test ACC: [{:.2f}%]'.format(test_acc*100))"
      ],
      "execution_count": 40,
      "outputs": [
        {
          "output_type": "stream",
          "name": "stdout",
          "text": [
            "Test ACC: [68.28%]\n"
          ]
        }
      ]
    },
    {
      "cell_type": "code",
      "metadata": {
        "id": "ddAmd6SObPed",
        "colab": {
          "base_uri": "https://localhost:8080/"
        },
        "outputId": "c3556cca-7aa2-475c-d85b-d1c2a1c148ce"
      },
      "source": [
        "len(test_y_pred), test_y_pred[:10]"
      ],
      "execution_count": 41,
      "outputs": [
        {
          "output_type": "execute_result",
          "data": {
            "text/plain": [
              "(268,\n",
              " [tensor([1]),\n",
              "  tensor([1]),\n",
              "  tensor([0]),\n",
              "  tensor([1]),\n",
              "  tensor([0]),\n",
              "  tensor([0]),\n",
              "  tensor([1]),\n",
              "  tensor([1]),\n",
              "  tensor([1]),\n",
              "  tensor([1])])"
            ]
          },
          "metadata": {},
          "execution_count": 41
        }
      ]
    },
    {
      "cell_type": "code",
      "metadata": {
        "id": "OpcAU_eqbPed"
      },
      "source": [
        ""
      ],
      "execution_count": null,
      "outputs": []
    },
    {
      "cell_type": "code",
      "metadata": {
        "id": "FQ1W_jVjdz3W"
      },
      "source": [
        ""
      ],
      "execution_count": null,
      "outputs": []
    },
    {
      "cell_type": "markdown",
      "metadata": {
        "id": "HJlhsjj5bPed"
      },
      "source": [
        "# *Alternative code*"
      ]
    },
    {
      "cell_type": "code",
      "metadata": {
        "id": "vWk8fjEobPed"
      },
      "source": [
        "class Binary_Classification_layer(nn.Module):\n",
        "    \n",
        "    def __init__(self, num_features, num_classes):\n",
        "        super(Binary_Classification_layer, self).__init__()\n",
        "\n",
        "        ################################################\n",
        "        #       TODO                                   #\n",
        "        ################################################\n",
        "\n",
        "        self.Layer_1 = nn.Linear(num_features, 64)\n",
        "        self.Layer_2 = nn.Linear(64, 32)             \n",
        "        self.Layer_3 = nn.Linear(32, 16)\n",
        "        self.Layer_4 = nn.Linear(16, 10)\n",
        "        self.Layer_out = nn.Linear(10, num_classes)\n",
        "        \n",
        "        self.relu = nn.ReLU()\n",
        "\n",
        "        ################################################\n",
        "        #  가능한 답은 하나가 아니므로 성능이 더 좋을  #\n",
        "        #  법할 모델을 다양하게 시도해보시길 바랍니다  #\n",
        "        ################################################\n",
        "\n",
        "\n",
        "    def forward(self, inputs):\n",
        "        \n",
        "        x = self.Layer_1(inputs)      \n",
        "        x = self.relu(x)\n",
        "        x = self.Layer_2(x)      \n",
        "        x = self.relu(x)\n",
        "        x = self.Layer_3(x)      \n",
        "        x = self.relu(x)\n",
        "        x = self.Layer_4(x)      \n",
        "        x = self.relu(x)\n",
        "        ################################################\n",
        "        #       TODO                                   #\n",
        "        ################################################    \n",
        "        \n",
        "        ################################################\n",
        "        #  가능한 답은 하나가 아니므로 성능이 더 좋을  #\n",
        "        #  법할 모델을 다양하게 시도해보시길 바랍니다  #\n",
        "        ################################################\n",
        "        x = self.Layer_out(x)\n",
        "\n",
        "        return x"
      ],
      "execution_count": 47,
      "outputs": []
    },
    {
      "cell_type": "markdown",
      "metadata": {
        "id": "nnDnz7Uvd6LK"
      },
      "source": [
        "# *Assignment*\n",
        "\n",
        "- 본인만의 모델을 만들어 Test ACC 79%를 달성해보세요!"
      ]
    },
    {
      "cell_type": "code",
      "metadata": {
        "id": "NfJsasUdbPed"
      },
      "source": [
        "EPOCHS = 1000\n",
        "BATCH_SIZE = 200\n",
        "\n",
        "train_loader = DataLoader(dataset=train_data, batch_size=BATCH_SIZE, shuffle=True)\n",
        "test_loader = DataLoader(dataset=test_data, batch_size=200, shuffle=False)\n",
        "\n",
        "model = Binary_Classification_layer(num_features=6, num_classes=2)\n",
        "\n",
        "criterion = nn.CrossEntropyLoss() # https://pytorch.org/docs/stable/nn.html\n",
        "optimizer = optim.Adam(model.parameters(), lr=0.001)"
      ],
      "execution_count": 55,
      "outputs": []
    },
    {
      "cell_type": "code",
      "metadata": {
        "id": "W9_R_auBbPed",
        "colab": {
          "base_uri": "https://localhost:8080/"
        },
        "outputId": "b52f4fd6-d9e7-474e-b02a-27bc1212abed"
      },
      "source": [
        "train_loss_list = []\n",
        "train_acc_list = []\n",
        "\n",
        "test_acc_list = []\n",
        "\n",
        "model.cuda()\n",
        "\n",
        "for epoch in range(EPOCHS):\n",
        "    # train\n",
        "    model.train()\n",
        "    for x,y in train_loader:\n",
        "        ################################################\n",
        "        #       TODO                                   #\n",
        "        ################################################ \n",
        "        X_batch = x.cuda()\n",
        "        y_batch = y.cuda()\n",
        "        \n",
        "        #Forward \n",
        "        y_output = model(X_batch) # 그럼 이 아웃풋은 어디에 있을까? 아웃풋도 gpu에 있다. \n",
        "        loss =  criterion(y_output, y_batch)  #CELoss: The input is expected to contain raw, unnormalized scores for each class.\n",
        "        \n",
        "        #Backward\n",
        "        optimizer.zero_grad()\n",
        "        loss.backward()\n",
        "        optimizer.step()\n",
        "        \n",
        "        #misc (acc 계산, etc) \n",
        "        y_pred = torch.max(y_output, 1)[1]\n",
        "        train_acc = accuracy_score(y_pred.data.cpu(), y_batch.data.cpu())\n",
        "        \n",
        "        train_loss_list.append(loss.item())\n",
        "        train_acc_list.append(train_acc)\n",
        "\n",
        "        ################################################\n",
        "        #  가능한 답은 하나가 아니므로 성능이 더 좋을  #\n",
        "        #  법할 모델을 다양하게 시도해보시길 바랍니다  #\n",
        "        ################################################\n",
        "\n",
        "    \n",
        "        \n",
        "    # test\n",
        "    with torch.no_grad():\n",
        "        ################################################\n",
        "        model.eval()\n",
        "        for x, y in test_loader:\n",
        "            X_batch = x.cuda()\n",
        "            y_batch = y.cuda()\n",
        "        ################################################ \n",
        "        #Forward\n",
        "        y_output = model(X_batch)\n",
        "        \n",
        "        #misc (acc 계산, etc) \n",
        "        y_pred = torch.max(y_output, 1)[1]\n",
        "        test_acc = accuracy_score(y_pred.data.cpu(), y_batch.data.cpu())\n",
        "        test_acc_list.append(test_acc)\n",
        "        ################################################\n",
        "        #  가능한 답은 하나가 아니므로 성능이 더 좋을  #\n",
        "        #  법할 모델을 다양하게 시도해보시길 바랍니다  #\n",
        "        ################################################\n",
        "\n",
        "    \n",
        "    if (epoch+1) % 30 == 0:\n",
        "        print('Epoch [{}/{}] Step [{}/{}] Loss: [{:.4f}] Train avg ACC [{:.2f}%] Test ACC [{:.2f}%]'.format(epoch+1, EPOCHS, \\\n",
        "                                                                                   i+1, len(train_loader), np.mean(train_loss_list), \\\n",
        "                                                                                                        np.mean(train_acc_list)*100, np.mean(test_acc_list)*100))"
      ],
      "execution_count": 56,
      "outputs": [
        {
          "output_type": "stream",
          "name": "stdout",
          "text": [
            "Epoch [30/1000] Step [1/4] Loss: [0.5490] Train avg ACC [72.28%] Test ACC [77.55%]\n",
            "Epoch [60/1000] Step [1/4] Loss: [0.4884] Train avg ACC [76.59%] Test ACC [82.01%]\n",
            "Epoch [90/1000] Step [1/4] Loss: [0.4634] Train avg ACC [78.37%] Test ACC [83.24%]\n",
            "Epoch [120/1000] Step [1/4] Loss: [0.4473] Train avg ACC [79.36%] Test ACC [83.32%]\n",
            "Epoch [150/1000] Step [1/4] Loss: [0.4371] Train avg ACC [80.09%] Test ACC [83.97%]\n",
            "Epoch [180/1000] Step [1/4] Loss: [0.4289] Train avg ACC [80.58%] Test ACC [84.24%]\n",
            "Epoch [210/1000] Step [1/4] Loss: [0.4240] Train avg ACC [80.94%] Test ACC [84.50%]\n",
            "Epoch [240/1000] Step [1/4] Loss: [0.4192] Train avg ACC [81.28%] Test ACC [84.65%]\n",
            "Epoch [270/1000] Step [1/4] Loss: [0.4135] Train avg ACC [81.61%] Test ACC [84.87%]\n",
            "Epoch [300/1000] Step [1/4] Loss: [0.4091] Train avg ACC [81.86%] Test ACC [85.06%]\n",
            "Epoch [330/1000] Step [1/4] Loss: [0.4046] Train avg ACC [82.11%] Test ACC [85.17%]\n",
            "Epoch [360/1000] Step [1/4] Loss: [0.4005] Train avg ACC [82.34%] Test ACC [85.29%]\n",
            "Epoch [390/1000] Step [1/4] Loss: [0.3963] Train avg ACC [82.58%] Test ACC [85.32%]\n",
            "Epoch [420/1000] Step [1/4] Loss: [0.3929] Train avg ACC [82.81%] Test ACC [85.42%]\n",
            "Epoch [450/1000] Step [1/4] Loss: [0.3900] Train avg ACC [82.97%] Test ACC [85.48%]\n",
            "Epoch [480/1000] Step [1/4] Loss: [0.3878] Train avg ACC [83.08%] Test ACC [85.55%]\n",
            "Epoch [510/1000] Step [1/4] Loss: [0.3856] Train avg ACC [83.20%] Test ACC [85.63%]\n",
            "Epoch [540/1000] Step [1/4] Loss: [0.3830] Train avg ACC [83.34%] Test ACC [85.69%]\n",
            "Epoch [570/1000] Step [1/4] Loss: [0.3807] Train avg ACC [83.49%] Test ACC [85.72%]\n",
            "Epoch [600/1000] Step [1/4] Loss: [0.3785] Train avg ACC [83.63%] Test ACC [85.77%]\n",
            "Epoch [630/1000] Step [1/4] Loss: [0.3761] Train avg ACC [83.78%] Test ACC [85.79%]\n",
            "Epoch [660/1000] Step [1/4] Loss: [0.3743] Train avg ACC [83.90%] Test ACC [85.82%]\n",
            "Epoch [690/1000] Step [1/4] Loss: [0.3718] Train avg ACC [84.03%] Test ACC [85.85%]\n",
            "Epoch [720/1000] Step [1/4] Loss: [0.3695] Train avg ACC [84.15%] Test ACC [85.89%]\n",
            "Epoch [750/1000] Step [1/4] Loss: [0.3678] Train avg ACC [84.25%] Test ACC [85.91%]\n",
            "Epoch [780/1000] Step [1/4] Loss: [0.3660] Train avg ACC [84.35%] Test ACC [85.92%]\n",
            "Epoch [810/1000] Step [1/4] Loss: [0.3639] Train avg ACC [84.45%] Test ACC [85.91%]\n",
            "Epoch [840/1000] Step [1/4] Loss: [0.3619] Train avg ACC [84.57%] Test ACC [85.94%]\n",
            "Epoch [870/1000] Step [1/4] Loss: [0.3602] Train avg ACC [84.66%] Test ACC [85.97%]\n",
            "Epoch [900/1000] Step [1/4] Loss: [0.3586] Train avg ACC [84.75%] Test ACC [85.96%]\n",
            "Epoch [930/1000] Step [1/4] Loss: [0.3569] Train avg ACC [84.84%] Test ACC [85.99%]\n",
            "Epoch [960/1000] Step [1/4] Loss: [0.3547] Train avg ACC [84.95%] Test ACC [86.00%]\n",
            "Epoch [990/1000] Step [1/4] Loss: [0.3531] Train avg ACC [85.02%] Test ACC [86.01%]\n"
          ]
        }
      ]
    },
    {
      "cell_type": "code",
      "metadata": {
        "id": "7xsNHdndbPee",
        "colab": {
          "base_uri": "https://localhost:8080/"
        },
        "outputId": "58959b93-0753-4f88-b0aa-3932acafbc25"
      },
      "source": [
        "name = \"천재홍\"\n",
        "company = \"케이존\"\n",
        "\n",
        "print(f'{company}의 {name} 개발자 4회차 binary classification 모델 구현 및 평가 성능 충족 과제 이행 후 제출합니다. 감사합니다.')"
      ],
      "execution_count": 58,
      "outputs": [
        {
          "output_type": "stream",
          "name": "stdout",
          "text": [
            "케이존의 천재홍 개발자 4회차 binary classification 모델 구현 및 평가 성능 충족 과제 이행 후 제출합니다. 감사합니다.\n"
          ]
        }
      ]
    },
    {
      "cell_type": "code",
      "metadata": {
        "id": "ILMmUPyOh_gO"
      },
      "source": [
        ""
      ],
      "execution_count": null,
      "outputs": []
    }
  ]
}