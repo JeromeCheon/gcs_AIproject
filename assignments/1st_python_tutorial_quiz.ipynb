{
  "nbformat": 4,
  "nbformat_minor": 0,
  "metadata": {
    "colab": {
      "name": "1st_python_tutorial_quiz.ipynb",
      "provenance": [],
      "collapsed_sections": [
        "ZSvlwQ2MTs9O"
      ],
      "include_colab_link": true
    },
    "kernelspec": {
      "name": "python3",
      "display_name": "Python 3"
    },
    "language_info": {
      "name": "python"
    },
    "accelerator": "GPU"
  },
  "cells": [
    {
      "cell_type": "markdown",
      "metadata": {
        "id": "view-in-github",
        "colab_type": "text"
      },
      "source": [
        "<a href=\"https://colab.research.google.com/github/JeromeCheon/gcs_AIproject/blob/master/assignments/1st_python_tutorial_quiz.ipynb\" target=\"_parent\"><img src=\"https://colab.research.google.com/assets/colab-badge.svg\" alt=\"Open In Colab\"/></a>"
      ]
    },
    {
      "cell_type": "markdown",
      "metadata": {
        "id": "p6BVx7SnRQph"
      },
      "source": [
        "### Q1. fruit 이라는 list 안에 다양한 과일이 들어가 있어요. 이 과일들이 몇개 있는지를 dictionary 형태로 저장해봅시다! \n",
        "\n",
        "- key : 과일이름, value : 과일개수\n",
        "\n",
        "```\n",
        "# 정답\n",
        "{'apple': 5, 'banana': 3, 'blueberry': 1, 'melon': 5}\n",
        "```"
      ]
    },
    {
      "cell_type": "code",
      "metadata": {
        "id": "iHeeU-evRlyp"
      },
      "source": [
        "fruit = ['apple','banana','banana','blueberry','melon','banana','melon',\n",
        "         'melon','apple','apple','melon','melon','apple','apple']"
      ],
      "execution_count": null,
      "outputs": []
    },
    {
      "cell_type": "code",
      "metadata": {
        "id": "DSefXaS0_2Tj"
      },
      "source": [
        "fruit_dict = "
      ],
      "execution_count": null,
      "outputs": []
    },
    {
      "cell_type": "markdown",
      "metadata": {
        "id": "74iye1_GwaX1"
      },
      "source": [
        "### Q2. 음료이름과 가격,재고가 담긴 사전 `a` 에서 다음 조건을 만족하는 음료를 출력해주세요! \n",
        "\n",
        "- key : 음료이름, value : `[가격, 재고]`\n",
        "- 조건 : 재고가 100개 이상이면서, 가격이 2500원 초과\n",
        "\n",
        "\n",
        "```\n",
        "# 정답\n",
        "바닐라라떼\n",
        "```"
      ]
    },
    {
      "cell_type": "code",
      "metadata": {
        "id": "6CJAuhZdwaYW"
      },
      "source": [
        "a = {'아메리카노': [1900,50], '카페모카': [3300,99], '에스프레소': [1900,165], '카페라떼': [2500,55], '카푸치노': [2500,150], '바닐라라떼': [2900,200]}"
      ],
      "execution_count": null,
      "outputs": []
    },
    {
      "cell_type": "markdown",
      "metadata": {
        "id": "0j0Qfmk9OwxI"
      },
      "source": [
        "### Q3. 총 4명의 수강생의 출석여부를 다음과 같이 기입하고 있습니다. \n",
        "- 결석 :  'A' \n",
        "- 지각 :  'L'\n",
        "- 출석 :  'P'\n",
        "\n",
        "총 10일치를 기록한 출석부에서 다음과 같은 기준을 만족하면 'F'를 주고, 그 외의 경우는 'S' 를 주려고 해요. \n",
        "- [1] 1번 초과해서 결석한 경우\n",
        "- [2] 3번 연속해서 지각한 경우\n",
        "\n",
        "각 학생의 출석 Grade 를 구해주세요!\n",
        "\n",
        "```\n",
        "# 정답 \n",
        "Ailee, F\n",
        "Bob, F\n",
        "Chris, S\n",
        "David, F\n",
        "```"
      ]
    },
    {
      "cell_type": "code",
      "metadata": {
        "id": "ECtBAKzjQILh"
      },
      "source": [
        "# 이 문제는 함수를 이용해 풀어주세요!\n",
        "# check() 함수를 정의해 주세요.\n",
        "# 매개변수: 출석부(ex. 'AAPPP...')\n",
        "\n",
        "\n",
        "# 학생들의 출석부예요.\n",
        "Ailee = 'AAPPPPPPPP'\n",
        "Bob = 'PPPLLLPPPP'\n",
        "Chris = 'APPPPPLLPP'\n",
        "David = 'PPPLLLAAPP'\n",
        "\n"
      ],
      "execution_count": null,
      "outputs": []
    },
    {
      "cell_type": "markdown",
      "metadata": {
        "id": "aYf-SRujLmkq"
      },
      "source": [
        "### Q4. scores 라는 변수에 10명 학생에 대한 국어, 수학, 영어, 사회, 과학 시험 성적이 있습니다. 이 때, \n",
        "- [1] 각 과목의 성적의 평균 점수\n",
        "- [2] 각 학생의 과목 평균 점수\n",
        "\n",
        "를 구해주세요!\n",
        "\n",
        "```\n",
        "# 정답 \n",
        "# [1] \n",
        "52.1, 53.0, 41.0, 56.0, 52.8\n",
        "\n",
        "# [2]\n",
        "59.0, 82.8, 33.8, 57.6, 33.6, 74.8, 37.0, 31.4, 44.4, 55.4\n",
        "```"
      ]
    },
    {
      "cell_type": "code",
      "metadata": {
        "id": "8KUyQIONLpvm"
      },
      "source": [
        "## 이 셀의 코드는 고치면 안됩니다!\n",
        "scores = [[28, 81, 75, 39, 10, 99, 20, 83, 11, 75],\n",
        "          [52, 97, 36, 82, 46, 24, 4, 25, 83, 81],\n",
        "          [99, 77, 11, 58, 14, 79, 9, 1, 52, 10],\n",
        "          [45, 80, 47, 72, 98, 100, 62, 1, 43, 12],\n",
        "          [71, 79, 0, 37, 0, 72, 90, 47, 33, 99]]"
      ],
      "execution_count": null,
      "outputs": []
    },
    {
      "cell_type": "code",
      "metadata": {
        "id": "ieDneKrfMi-2"
      },
      "source": [
        "## 아래에 정답을 구하는 코드를 작성해주세요.\n"
      ],
      "execution_count": null,
      "outputs": []
    },
    {
      "cell_type": "markdown",
      "metadata": {
        "id": "xraqW3sjSnlQ"
      },
      "source": [
        "### Q5. 클래스 만들기. \n",
        "가로, 세로 정보을 갖고, 사각형의 면적을 계산하는 메서드를 갖는 Rectangle 클래스를 정의하고, 생성한 객체의 사각형의 면적을 출력하는 프로그램을 작성해주세요."
      ]
    },
    {
      "cell_type": "code",
      "metadata": {
        "id": "laP9G8XVSyjk"
      },
      "source": [
        "## 클래스 작성\n",
        "\n",
        "\n",
        "\n",
        "\n",
        "## 아래 코드는 수정하면 안됩니다!\n",
        "s1 = Rectangle(4,5)\n",
        "print(s1.width, s1.height) # 4, 5\n",
        "s1.getArea() # s1 의 width 와 height 를 이용해서 면적을 구하는 메소드입니다!\n",
        "print(s1) # s1 의 면적이 출력되어야함"
      ],
      "execution_count": null,
      "outputs": []
    },
    {
      "cell_type": "markdown",
      "metadata": {
        "id": "oEMSx39WUwVO"
      },
      "source": [
        "### Q6. 에러 고치기.\n",
        "\n",
        "아래 셀들은 다 동작하지 않는 코드예요. 아래 코드가 정상적으로 동작할 수 있도록 코드를 수정해봅시다 !\n"
      ]
    },
    {
      "cell_type": "code",
      "metadata": {
        "id": "dYfNPw_0VGiZ"
      },
      "source": [
        "# 0부터 9까지의 수가 짝수인지 홀수인지 구별해주는 반복문입니다.\n",
        "for i in range(10):\n",
        "    if i % 2 == 0:\n",
        "        print('짝수')\n",
        "    else:\n",
        "    print('홀수')"
      ],
      "execution_count": null,
      "outputs": []
    },
    {
      "cell_type": "code",
      "metadata": {
        "id": "D_VtzWCwVGmR"
      },
      "source": [
        "# 0부터 9까지 문자열을 출력하는 프로그램이에요.\n",
        "for i in 10:\n",
        "    print(i + \"마리 아기 고양이\")"
      ],
      "execution_count": null,
      "outputs": []
    },
    {
      "cell_type": "code",
      "metadata": {
        "id": "M9_Olb39VGqp"
      },
      "source": [
        "# 0부터 9까지의 수중 3의 배수를 출력하는 반복문입니다.\n",
        "for i in range(10):\n",
        "    if i % 3 = 0:\n",
        "        print(i, '는 3의 배수')"
      ],
      "execution_count": null,
      "outputs": []
    },
    {
      "cell_type": "code",
      "metadata": {
        "id": "wfSc6jJEVGvB"
      },
      "source": [
        "# divisor 라는 함수는 n 을 매개변수로 받고, n 이라는 수의 약수의 개수를 반환해주는 함수입니다.\n",
        "def divisor(n) :\n",
        "    result = \"\"\n",
        "    for i in range(0, n) :\n",
        "        mod = n % i\n",
        "        if mod = 0 :\n",
        "            resutl.append(n)\n",
        "            \n",
        "    return result\n",
        "\n",
        "# [1, 2, 3, 4, 6, 12] 가 출력돼야 해요.\n",
        "print(divisor(12))"
      ],
      "execution_count": null,
      "outputs": []
    },
    {
      "cell_type": "code",
      "metadata": {
        "id": "EaF7X0ZZV1kK"
      },
      "source": [
        "a = [1,2,3,4,5,6,7,8,9]\n",
        "b = [20,3012,3,12,3,23,1]\n",
        "\n",
        "print(a[1]) \n",
        "print(b[2])\n",
        "print(a[9])\n",
        "print(b[-1])"
      ],
      "execution_count": null,
      "outputs": []
    },
    {
      "cell_type": "code",
      "metadata": {
        "id": "0agjgyTpWzfU"
      },
      "source": [
        "a = 1.0\n",
        "b = 2\n",
        "\n",
        "print(a + b)\n",
        "\n",
        "a = '1'\n",
        "c = 1\n",
        "print( a + c)"
      ],
      "execution_count": null,
      "outputs": []
    },
    {
      "cell_type": "markdown",
      "metadata": {
        "id": "ZSvlwQ2MTs9O"
      },
      "source": [
        "### 미션. \n",
        "`numpy` 라이브러리를 import 해서 아래 `data` 변수를 numpy array 로 바꾸고, data 의 평균, 전체 합을 구해주세요!"
      ]
    },
    {
      "cell_type": "code",
      "metadata": {
        "id": "JEIcFutrUAP3"
      },
      "source": [
        "# numpy 라이브러리를 import 해주세요! \n",
        "# *주의 아래 코드에서 numpy 라이브러리를 np 라는 약자로 부르고 있습니다!\n",
        "\n",
        "\n",
        "data = [1,2,3,4,5,6,7,8]\n",
        "data = np.array(data) # data 의 list 를 numpy array 로 만들어주는 함수입니다!\n",
        "\n",
        "## 아래에 data의 합과 평균을 구하는 코드를 작성해주세요!\n",
        "\n"
      ],
      "execution_count": null,
      "outputs": []
    }
  ]
}