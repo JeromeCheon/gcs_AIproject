{
  "nbformat": 4,
  "nbformat_minor": 0,
  "metadata": {
    "colab": {
      "name": "2021_10_14_NLP_HW10.ipynb",
      "provenance": [],
      "collapsed_sections": []
    },
    "kernelspec": {
      "name": "python3",
      "display_name": "Python 3"
    },
    "language_info": {
      "name": "python"
    },
    "accelerator": "GPU",
    "widgets": {
      "application/vnd.jupyter.widget-state+json": {
        "da3c29dbc1084f6aa4a0e4882cf6cd30": {
          "model_module": "@jupyter-widgets/controls",
          "model_name": "HBoxModel",
          "model_module_version": "1.5.0",
          "state": {
            "_view_name": "HBoxView",
            "_dom_classes": [],
            "_model_name": "HBoxModel",
            "_view_module": "@jupyter-widgets/controls",
            "_model_module_version": "1.5.0",
            "_view_count": null,
            "_view_module_version": "1.5.0",
            "box_style": "",
            "layout": "IPY_MODEL_05d89f3454324674a7eab79ea3c0cbbd",
            "_model_module": "@jupyter-widgets/controls",
            "children": [
              "IPY_MODEL_7037aaf5947b4f3ca14c9966e9834d9c",
              "IPY_MODEL_e7ab8628db274b87b94e71372ea14ff3",
              "IPY_MODEL_a2951967d64e48eb8e7f6ade624d2f99"
            ]
          }
        },
        "05d89f3454324674a7eab79ea3c0cbbd": {
          "model_module": "@jupyter-widgets/base",
          "model_name": "LayoutModel",
          "model_module_version": "1.2.0",
          "state": {
            "_view_name": "LayoutView",
            "grid_template_rows": null,
            "right": null,
            "justify_content": null,
            "_view_module": "@jupyter-widgets/base",
            "overflow": null,
            "_model_module_version": "1.2.0",
            "_view_count": null,
            "flex_flow": null,
            "width": null,
            "min_width": null,
            "border": null,
            "align_items": null,
            "bottom": null,
            "_model_module": "@jupyter-widgets/base",
            "top": null,
            "grid_column": null,
            "overflow_y": null,
            "overflow_x": null,
            "grid_auto_flow": null,
            "grid_area": null,
            "grid_template_columns": null,
            "flex": null,
            "_model_name": "LayoutModel",
            "justify_items": null,
            "grid_row": null,
            "max_height": null,
            "align_content": null,
            "visibility": null,
            "align_self": null,
            "height": null,
            "min_height": null,
            "padding": null,
            "grid_auto_rows": null,
            "grid_gap": null,
            "max_width": null,
            "order": null,
            "_view_module_version": "1.2.0",
            "grid_template_areas": null,
            "object_position": null,
            "object_fit": null,
            "grid_auto_columns": null,
            "margin": null,
            "display": null,
            "left": null
          }
        },
        "7037aaf5947b4f3ca14c9966e9834d9c": {
          "model_module": "@jupyter-widgets/controls",
          "model_name": "HTMLModel",
          "model_module_version": "1.5.0",
          "state": {
            "_view_name": "HTMLView",
            "style": "IPY_MODEL_645a6f5de5d64dada8fd792dcca1a9dc",
            "_dom_classes": [],
            "description": "",
            "_model_name": "HTMLModel",
            "placeholder": "​",
            "_view_module": "@jupyter-widgets/controls",
            "_model_module_version": "1.5.0",
            "value": "Downloading: 100%",
            "_view_count": null,
            "_view_module_version": "1.5.0",
            "description_tooltip": null,
            "_model_module": "@jupyter-widgets/controls",
            "layout": "IPY_MODEL_343ded95eb7d4e3c9acda0584814f32e"
          }
        },
        "e7ab8628db274b87b94e71372ea14ff3": {
          "model_module": "@jupyter-widgets/controls",
          "model_name": "FloatProgressModel",
          "model_module_version": "1.5.0",
          "state": {
            "_view_name": "ProgressView",
            "style": "IPY_MODEL_eab38779e53a4904b107da225aef6ef0",
            "_dom_classes": [],
            "description": "",
            "_model_name": "FloatProgressModel",
            "bar_style": "success",
            "max": 440473133,
            "_view_module": "@jupyter-widgets/controls",
            "_model_module_version": "1.5.0",
            "value": 440473133,
            "_view_count": null,
            "_view_module_version": "1.5.0",
            "orientation": "horizontal",
            "min": 0,
            "description_tooltip": null,
            "_model_module": "@jupyter-widgets/controls",
            "layout": "IPY_MODEL_ec3d20e35b7d4b8f86f52386d5305860"
          }
        },
        "a2951967d64e48eb8e7f6ade624d2f99": {
          "model_module": "@jupyter-widgets/controls",
          "model_name": "HTMLModel",
          "model_module_version": "1.5.0",
          "state": {
            "_view_name": "HTMLView",
            "style": "IPY_MODEL_2127a921ce3949aeb9413c2c563b99f5",
            "_dom_classes": [],
            "description": "",
            "_model_name": "HTMLModel",
            "placeholder": "​",
            "_view_module": "@jupyter-widgets/controls",
            "_model_module_version": "1.5.0",
            "value": " 420M/420M [00:13&lt;00:00, 29.6MB/s]",
            "_view_count": null,
            "_view_module_version": "1.5.0",
            "description_tooltip": null,
            "_model_module": "@jupyter-widgets/controls",
            "layout": "IPY_MODEL_fc5fa51656a9425781f11ea2ca81e101"
          }
        },
        "645a6f5de5d64dada8fd792dcca1a9dc": {
          "model_module": "@jupyter-widgets/controls",
          "model_name": "DescriptionStyleModel",
          "model_module_version": "1.5.0",
          "state": {
            "_view_name": "StyleView",
            "_model_name": "DescriptionStyleModel",
            "description_width": "",
            "_view_module": "@jupyter-widgets/base",
            "_model_module_version": "1.5.0",
            "_view_count": null,
            "_view_module_version": "1.2.0",
            "_model_module": "@jupyter-widgets/controls"
          }
        },
        "343ded95eb7d4e3c9acda0584814f32e": {
          "model_module": "@jupyter-widgets/base",
          "model_name": "LayoutModel",
          "model_module_version": "1.2.0",
          "state": {
            "_view_name": "LayoutView",
            "grid_template_rows": null,
            "right": null,
            "justify_content": null,
            "_view_module": "@jupyter-widgets/base",
            "overflow": null,
            "_model_module_version": "1.2.0",
            "_view_count": null,
            "flex_flow": null,
            "width": null,
            "min_width": null,
            "border": null,
            "align_items": null,
            "bottom": null,
            "_model_module": "@jupyter-widgets/base",
            "top": null,
            "grid_column": null,
            "overflow_y": null,
            "overflow_x": null,
            "grid_auto_flow": null,
            "grid_area": null,
            "grid_template_columns": null,
            "flex": null,
            "_model_name": "LayoutModel",
            "justify_items": null,
            "grid_row": null,
            "max_height": null,
            "align_content": null,
            "visibility": null,
            "align_self": null,
            "height": null,
            "min_height": null,
            "padding": null,
            "grid_auto_rows": null,
            "grid_gap": null,
            "max_width": null,
            "order": null,
            "_view_module_version": "1.2.0",
            "grid_template_areas": null,
            "object_position": null,
            "object_fit": null,
            "grid_auto_columns": null,
            "margin": null,
            "display": null,
            "left": null
          }
        },
        "eab38779e53a4904b107da225aef6ef0": {
          "model_module": "@jupyter-widgets/controls",
          "model_name": "ProgressStyleModel",
          "model_module_version": "1.5.0",
          "state": {
            "_view_name": "StyleView",
            "_model_name": "ProgressStyleModel",
            "description_width": "",
            "_view_module": "@jupyter-widgets/base",
            "_model_module_version": "1.5.0",
            "_view_count": null,
            "_view_module_version": "1.2.0",
            "bar_color": null,
            "_model_module": "@jupyter-widgets/controls"
          }
        },
        "ec3d20e35b7d4b8f86f52386d5305860": {
          "model_module": "@jupyter-widgets/base",
          "model_name": "LayoutModel",
          "model_module_version": "1.2.0",
          "state": {
            "_view_name": "LayoutView",
            "grid_template_rows": null,
            "right": null,
            "justify_content": null,
            "_view_module": "@jupyter-widgets/base",
            "overflow": null,
            "_model_module_version": "1.2.0",
            "_view_count": null,
            "flex_flow": null,
            "width": null,
            "min_width": null,
            "border": null,
            "align_items": null,
            "bottom": null,
            "_model_module": "@jupyter-widgets/base",
            "top": null,
            "grid_column": null,
            "overflow_y": null,
            "overflow_x": null,
            "grid_auto_flow": null,
            "grid_area": null,
            "grid_template_columns": null,
            "flex": null,
            "_model_name": "LayoutModel",
            "justify_items": null,
            "grid_row": null,
            "max_height": null,
            "align_content": null,
            "visibility": null,
            "align_self": null,
            "height": null,
            "min_height": null,
            "padding": null,
            "grid_auto_rows": null,
            "grid_gap": null,
            "max_width": null,
            "order": null,
            "_view_module_version": "1.2.0",
            "grid_template_areas": null,
            "object_position": null,
            "object_fit": null,
            "grid_auto_columns": null,
            "margin": null,
            "display": null,
            "left": null
          }
        },
        "2127a921ce3949aeb9413c2c563b99f5": {
          "model_module": "@jupyter-widgets/controls",
          "model_name": "DescriptionStyleModel",
          "model_module_version": "1.5.0",
          "state": {
            "_view_name": "StyleView",
            "_model_name": "DescriptionStyleModel",
            "description_width": "",
            "_view_module": "@jupyter-widgets/base",
            "_model_module_version": "1.5.0",
            "_view_count": null,
            "_view_module_version": "1.2.0",
            "_model_module": "@jupyter-widgets/controls"
          }
        },
        "fc5fa51656a9425781f11ea2ca81e101": {
          "model_module": "@jupyter-widgets/base",
          "model_name": "LayoutModel",
          "model_module_version": "1.2.0",
          "state": {
            "_view_name": "LayoutView",
            "grid_template_rows": null,
            "right": null,
            "justify_content": null,
            "_view_module": "@jupyter-widgets/base",
            "overflow": null,
            "_model_module_version": "1.2.0",
            "_view_count": null,
            "flex_flow": null,
            "width": null,
            "min_width": null,
            "border": null,
            "align_items": null,
            "bottom": null,
            "_model_module": "@jupyter-widgets/base",
            "top": null,
            "grid_column": null,
            "overflow_y": null,
            "overflow_x": null,
            "grid_auto_flow": null,
            "grid_area": null,
            "grid_template_columns": null,
            "flex": null,
            "_model_name": "LayoutModel",
            "justify_items": null,
            "grid_row": null,
            "max_height": null,
            "align_content": null,
            "visibility": null,
            "align_self": null,
            "height": null,
            "min_height": null,
            "padding": null,
            "grid_auto_rows": null,
            "grid_gap": null,
            "max_width": null,
            "order": null,
            "_view_module_version": "1.2.0",
            "grid_template_areas": null,
            "object_position": null,
            "object_fit": null,
            "grid_auto_columns": null,
            "margin": null,
            "display": null,
            "left": null
          }
        }
      }
    }
  },
  "cells": [
    {
      "cell_type": "markdown",
      "metadata": {
        "id": "MrVrkzEKgNpF"
      },
      "source": [
        "1. 상단 메뉴 -> 런타임-> 런타임 유형 변경 -> GPU\n",
        "2.  transformers 설치\n",
        "3. Reviews.csv 업로드"
      ]
    },
    {
      "cell_type": "code",
      "metadata": {
        "id": "6l_4MLdlSr7S",
        "colab": {
          "base_uri": "https://localhost:8080/"
        },
        "outputId": "caa044d7-5045-41ca-f636-ea2864399cf9"
      },
      "source": [
        "!pip install transformers"
      ],
      "execution_count": null,
      "outputs": [
        {
          "output_type": "stream",
          "name": "stdout",
          "text": [
            "Collecting transformers\n",
            "  Downloading transformers-4.11.3-py3-none-any.whl (2.9 MB)\n",
            "\u001b[K     |████████████████████████████████| 2.9 MB 4.3 MB/s \n",
            "\u001b[?25hRequirement already satisfied: tqdm>=4.27 in /usr/local/lib/python3.7/dist-packages (from transformers) (4.62.3)\n",
            "Collecting tokenizers<0.11,>=0.10.1\n",
            "  Downloading tokenizers-0.10.3-cp37-cp37m-manylinux_2_5_x86_64.manylinux1_x86_64.manylinux_2_12_x86_64.manylinux2010_x86_64.whl (3.3 MB)\n",
            "\u001b[K     |████████████████████████████████| 3.3 MB 22.7 MB/s \n",
            "\u001b[?25hCollecting huggingface-hub>=0.0.17\n",
            "  Downloading huggingface_hub-0.0.19-py3-none-any.whl (56 kB)\n",
            "\u001b[K     |████████████████████████████████| 56 kB 4.9 MB/s \n",
            "\u001b[?25hCollecting sacremoses\n",
            "  Downloading sacremoses-0.0.46-py3-none-any.whl (895 kB)\n",
            "\u001b[K     |████████████████████████████████| 895 kB 51.7 MB/s \n",
            "\u001b[?25hRequirement already satisfied: packaging>=20.0 in /usr/local/lib/python3.7/dist-packages (from transformers) (21.0)\n",
            "Requirement already satisfied: importlib-metadata in /usr/local/lib/python3.7/dist-packages (from transformers) (4.8.1)\n",
            "Requirement already satisfied: requests in /usr/local/lib/python3.7/dist-packages (from transformers) (2.23.0)\n",
            "Requirement already satisfied: numpy>=1.17 in /usr/local/lib/python3.7/dist-packages (from transformers) (1.19.5)\n",
            "Requirement already satisfied: regex!=2019.12.17 in /usr/local/lib/python3.7/dist-packages (from transformers) (2019.12.20)\n",
            "Requirement already satisfied: filelock in /usr/local/lib/python3.7/dist-packages (from transformers) (3.3.0)\n",
            "Collecting pyyaml>=5.1\n",
            "  Downloading PyYAML-6.0-cp37-cp37m-manylinux_2_5_x86_64.manylinux1_x86_64.manylinux_2_12_x86_64.manylinux2010_x86_64.whl (596 kB)\n",
            "\u001b[K     |████████████████████████████████| 596 kB 49.2 MB/s \n",
            "\u001b[?25hRequirement already satisfied: typing-extensions in /usr/local/lib/python3.7/dist-packages (from huggingface-hub>=0.0.17->transformers) (3.7.4.3)\n",
            "Requirement already satisfied: pyparsing>=2.0.2 in /usr/local/lib/python3.7/dist-packages (from packaging>=20.0->transformers) (2.4.7)\n",
            "Requirement already satisfied: zipp>=0.5 in /usr/local/lib/python3.7/dist-packages (from importlib-metadata->transformers) (3.6.0)\n",
            "Requirement already satisfied: urllib3!=1.25.0,!=1.25.1,<1.26,>=1.21.1 in /usr/local/lib/python3.7/dist-packages (from requests->transformers) (1.24.3)\n",
            "Requirement already satisfied: chardet<4,>=3.0.2 in /usr/local/lib/python3.7/dist-packages (from requests->transformers) (3.0.4)\n",
            "Requirement already satisfied: idna<3,>=2.5 in /usr/local/lib/python3.7/dist-packages (from requests->transformers) (2.10)\n",
            "Requirement already satisfied: certifi>=2017.4.17 in /usr/local/lib/python3.7/dist-packages (from requests->transformers) (2021.5.30)\n",
            "Requirement already satisfied: joblib in /usr/local/lib/python3.7/dist-packages (from sacremoses->transformers) (1.0.1)\n",
            "Requirement already satisfied: click in /usr/local/lib/python3.7/dist-packages (from sacremoses->transformers) (7.1.2)\n",
            "Requirement already satisfied: six in /usr/local/lib/python3.7/dist-packages (from sacremoses->transformers) (1.15.0)\n",
            "Installing collected packages: pyyaml, tokenizers, sacremoses, huggingface-hub, transformers\n",
            "  Attempting uninstall: pyyaml\n",
            "    Found existing installation: PyYAML 3.13\n",
            "    Uninstalling PyYAML-3.13:\n",
            "      Successfully uninstalled PyYAML-3.13\n",
            "Successfully installed huggingface-hub-0.0.19 pyyaml-6.0 sacremoses-0.0.46 tokenizers-0.10.3 transformers-4.11.3\n"
          ]
        }
      ]
    },
    {
      "cell_type": "code",
      "metadata": {
        "id": "_fE9MWMm8-yU",
        "colab": {
          "base_uri": "https://localhost:8080/"
        },
        "outputId": "f5e8aeaf-dba9-42f0-af83-cd82e2deb13c"
      },
      "source": [
        "!wget -O Reviews.csv https://www.dropbox.com/s/igsnbo24jifkdjr/Reviews_mini.csv?dl=0\n"
      ],
      "execution_count": null,
      "outputs": [
        {
          "output_type": "stream",
          "name": "stdout",
          "text": [
            "--2021-10-14 06:22:28--  https://www.dropbox.com/s/igsnbo24jifkdjr/Reviews_mini.csv?dl=0\n",
            "Resolving www.dropbox.com (www.dropbox.com)... 162.125.80.18, 2620:100:6035:18::a27d:5512\n",
            "Connecting to www.dropbox.com (www.dropbox.com)|162.125.80.18|:443... connected.\n",
            "HTTP request sent, awaiting response... 301 Moved Permanently\n",
            "Location: /s/raw/igsnbo24jifkdjr/Reviews_mini.csv [following]\n",
            "--2021-10-14 06:22:29--  https://www.dropbox.com/s/raw/igsnbo24jifkdjr/Reviews_mini.csv\n",
            "Reusing existing connection to www.dropbox.com:443.\n",
            "HTTP request sent, awaiting response... 302 Found\n",
            "Location: https://ucf30b5d115f12e5f66dd8e62d3f.dl.dropboxusercontent.com/cd/0/inline/BYCDgTUa335A45NvClCEvtdI95No-B1mHBpPFUrGtvDLIDJhH8Kxqnyu6HcRlNpiJ7s9gdFOzTmgsfD1HFC7MzSb-qgPc-J9f4ErD7cLbchVaH7MFBEVkZ3iPLn1c2LHrmH3c6mkX9rFq5kUIOev8QPJ/file# [following]\n",
            "--2021-10-14 06:22:29--  https://ucf30b5d115f12e5f66dd8e62d3f.dl.dropboxusercontent.com/cd/0/inline/BYCDgTUa335A45NvClCEvtdI95No-B1mHBpPFUrGtvDLIDJhH8Kxqnyu6HcRlNpiJ7s9gdFOzTmgsfD1HFC7MzSb-qgPc-J9f4ErD7cLbchVaH7MFBEVkZ3iPLn1c2LHrmH3c6mkX9rFq5kUIOev8QPJ/file\n",
            "Resolving ucf30b5d115f12e5f66dd8e62d3f.dl.dropboxusercontent.com (ucf30b5d115f12e5f66dd8e62d3f.dl.dropboxusercontent.com)... 162.125.81.15, 2620:100:6035:15::a27d:550f\n",
            "Connecting to ucf30b5d115f12e5f66dd8e62d3f.dl.dropboxusercontent.com (ucf30b5d115f12e5f66dd8e62d3f.dl.dropboxusercontent.com)|162.125.81.15|:443... connected.\n",
            "HTTP request sent, awaiting response... 200 OK\n",
            "Length: 2550523 (2.4M) [text/plain]\n",
            "Saving to: ‘Reviews.csv’\n",
            "\n",
            "Reviews.csv         100%[===================>]   2.43M  4.66MB/s    in 0.5s    \n",
            "\n",
            "2021-10-14 06:22:30 (4.66 MB/s) - ‘Reviews.csv’ saved [2550523/2550523]\n",
            "\n"
          ]
        }
      ]
    },
    {
      "cell_type": "code",
      "metadata": {
        "id": "2QUlrHgSTa4E"
      },
      "source": [
        "import matplotlib.pyplot as plt\n",
        "import pandas as pd\n",
        "import torch\n",
        "import csv\n",
        "import torchtext\n",
        "import torch.nn as nn\n",
        "from transformers import BertTokenizer, BertForSequenceClassification\n",
        "import torch.optim as optim\n",
        "from sklearn.metrics import accuracy_score as ACC\n",
        "from torch.nn.utils.rnn import pad_sequence\n",
        "import numpy as np"
      ],
      "execution_count": null,
      "outputs": []
    },
    {
      "cell_type": "code",
      "metadata": {
        "id": "ohmUe7AYg4zK"
      },
      "source": [
        "df=pd.read_csv('Reviews.csv',error_bad_lines=False, engine=\"python\")"
      ],
      "execution_count": null,
      "outputs": []
    },
    {
      "cell_type": "code",
      "metadata": {
        "id": "mSKCTiBcg_85"
      },
      "source": [
        "df = df[['Score','Text']]"
      ],
      "execution_count": null,
      "outputs": []
    },
    {
      "cell_type": "code",
      "metadata": {
        "id": "mykld5I9hExt",
        "colab": {
          "base_uri": "https://localhost:8080/",
          "height": 419
        },
        "outputId": "e7fd9b9c-4115-468a-ae64-7da0a9e885c5"
      },
      "source": [
        "df"
      ],
      "execution_count": null,
      "outputs": [
        {
          "output_type": "execute_result",
          "data": {
            "text/html": [
              "<div>\n",
              "<style scoped>\n",
              "    .dataframe tbody tr th:only-of-type {\n",
              "        vertical-align: middle;\n",
              "    }\n",
              "\n",
              "    .dataframe tbody tr th {\n",
              "        vertical-align: top;\n",
              "    }\n",
              "\n",
              "    .dataframe thead th {\n",
              "        text-align: right;\n",
              "    }\n",
              "</style>\n",
              "<table border=\"1\" class=\"dataframe\">\n",
              "  <thead>\n",
              "    <tr style=\"text-align: right;\">\n",
              "      <th></th>\n",
              "      <th>Score</th>\n",
              "      <th>Text</th>\n",
              "    </tr>\n",
              "  </thead>\n",
              "  <tbody>\n",
              "    <tr>\n",
              "      <th>0</th>\n",
              "      <td>5</td>\n",
              "      <td>I have bought several of the Vitality canned d...</td>\n",
              "    </tr>\n",
              "    <tr>\n",
              "      <th>1</th>\n",
              "      <td>1</td>\n",
              "      <td>Product arrived labeled as Jumbo Salted Peanut...</td>\n",
              "    </tr>\n",
              "    <tr>\n",
              "      <th>2</th>\n",
              "      <td>4</td>\n",
              "      <td>This is a confection that has been around a fe...</td>\n",
              "    </tr>\n",
              "    <tr>\n",
              "      <th>3</th>\n",
              "      <td>2</td>\n",
              "      <td>If you are looking for the secret ingredient i...</td>\n",
              "    </tr>\n",
              "    <tr>\n",
              "      <th>4</th>\n",
              "      <td>5</td>\n",
              "      <td>Great taffy at a great price.  There was a wid...</td>\n",
              "    </tr>\n",
              "    <tr>\n",
              "      <th>...</th>\n",
              "      <td>...</td>\n",
              "      <td>...</td>\n",
              "    </tr>\n",
              "    <tr>\n",
              "      <th>4995</th>\n",
              "      <td>2</td>\n",
              "      <td>I really wanted to like these.&lt;br /&gt;&lt;br /&gt;Firs...</td>\n",
              "    </tr>\n",
              "    <tr>\n",
              "      <th>4996</th>\n",
              "      <td>1</td>\n",
              "      <td>I was not impressed with these cookies when I ...</td>\n",
              "    </tr>\n",
              "    <tr>\n",
              "      <th>4997</th>\n",
              "      <td>3</td>\n",
              "      <td>The cookies came sealed and seem to be high qu...</td>\n",
              "    </tr>\n",
              "    <tr>\n",
              "      <th>4998</th>\n",
              "      <td>4</td>\n",
              "      <td>These taste very good, but aren't like the BES...</td>\n",
              "    </tr>\n",
              "    <tr>\n",
              "      <th>4999</th>\n",
              "      <td>5</td>\n",
              "      <td>I love these cookies. I am on the paleo diet r...</td>\n",
              "    </tr>\n",
              "  </tbody>\n",
              "</table>\n",
              "<p>5000 rows × 2 columns</p>\n",
              "</div>"
            ],
            "text/plain": [
              "      Score                                               Text\n",
              "0         5  I have bought several of the Vitality canned d...\n",
              "1         1  Product arrived labeled as Jumbo Salted Peanut...\n",
              "2         4  This is a confection that has been around a fe...\n",
              "3         2  If you are looking for the secret ingredient i...\n",
              "4         5  Great taffy at a great price.  There was a wid...\n",
              "...     ...                                                ...\n",
              "4995      2  I really wanted to like these.<br /><br />Firs...\n",
              "4996      1  I was not impressed with these cookies when I ...\n",
              "4997      3  The cookies came sealed and seem to be high qu...\n",
              "4998      4  These taste very good, but aren't like the BES...\n",
              "4999      5  I love these cookies. I am on the paleo diet r...\n",
              "\n",
              "[5000 rows x 2 columns]"
            ]
          },
          "metadata": {},
          "execution_count": 6
        }
      ]
    },
    {
      "cell_type": "code",
      "metadata": {
        "id": "ke8ZwbydOIib",
        "colab": {
          "base_uri": "https://localhost:8080/",
          "height": 282
        },
        "outputId": "30dc304a-e46e-433b-930b-f76f942fb24d"
      },
      "source": [
        "df['Score'].hist()"
      ],
      "execution_count": null,
      "outputs": [
        {
          "output_type": "execute_result",
          "data": {
            "text/plain": [
              "<matplotlib.axes._subplots.AxesSubplot at 0x7fade2a17c50>"
            ]
          },
          "metadata": {},
          "execution_count": 7
        },
        {
          "output_type": "display_data",
          "data": {
            "image/png": "[encoded data removed]",
            "text/plain": [
              "<Figure size 432x288 with 1 Axes>"
            ]
          },
          "metadata": {
            "needs_background": "light"
          }
        }
      ]
    },
    {
      "cell_type": "code",
      "metadata": {
        "id": "-bxbvTsSTfET",
        "colab": {
          "base_uri": "https://localhost:8080/",
          "height": 145,
          "referenced_widgets": [
            "0af9c0bdcbba407caf1dbf29069d1cc8",
            "a06a4beeb3f242cb9958feff1c5c6142",
            "afd351047fd34715aa1a337fdb86de02",
            "5c4547c63254445095660f3a713c92ac"
          ]
        },
        "outputId": "32e483c6-402e-4a9d-dbe3-e467b59d81d0"
      },
      "source": [
        "tokenizer = BertTokenizer.from_pretrained('bert-base-uncased')"
      ],
      "execution_count": null,
      "outputs": [
        {
          "output_type": "display_data",
          "data": {
            "application/vnd.jupyter.widget-view+json": {
              "model_id": "0af9c0bdcbba407caf1dbf29069d1cc8",
              "version_minor": 0,
              "version_major": 2
            },
            "text/plain": [
              "Downloading:   0%|          | 0.00/226k [00:00<?, ?B/s]"
            ]
          },
          "metadata": {}
        },
        {
          "output_type": "display_data",
          "data": {
            "application/vnd.jupyter.widget-view+json": {
              "model_id": "a06a4beeb3f242cb9958feff1c5c6142",
              "version_minor": 0,
              "version_major": 2
            },
            "text/plain": [
              "Downloading:   0%|          | 0.00/28.0 [00:00<?, ?B/s]"
            ]
          },
          "metadata": {}
        },
        {
          "output_type": "display_data",
          "data": {
            "application/vnd.jupyter.widget-view+json": {
              "model_id": "afd351047fd34715aa1a337fdb86de02",
              "version_minor": 0,
              "version_major": 2
            },
            "text/plain": [
              "Downloading:   0%|          | 0.00/455k [00:00<?, ?B/s]"
            ]
          },
          "metadata": {}
        },
        {
          "output_type": "display_data",
          "data": {
            "application/vnd.jupyter.widget-view+json": {
              "model_id": "5c4547c63254445095660f3a713c92ac",
              "version_minor": 0,
              "version_major": 2
            },
            "text/plain": [
              "Downloading:   0%|          | 0.00/570 [00:00<?, ?B/s]"
            ]
          },
          "metadata": {}
        }
      ]
    },
    {
      "cell_type": "code",
      "metadata": {
        "id": "RUe27N1lgR5R",
        "colab": {
          "base_uri": "https://localhost:8080/"
        },
        "outputId": "62535a80-75ed-48b9-c80d-7e4640a62b11"
      },
      "source": [
        "tokenizer"
      ],
      "execution_count": null,
      "outputs": [
        {
          "output_type": "execute_result",
          "data": {
            "text/plain": [
              "PreTrainedTokenizer(name_or_path='bert-base-uncased', vocab_size=30522, model_max_len=512, is_fast=False, padding_side='right', special_tokens={'unk_token': '[UNK]', 'sep_token': '[SEP]', 'pad_token': '[PAD]', 'cls_token': '[CLS]', 'mask_token': '[MASK]'})"
            ]
          },
          "metadata": {},
          "execution_count": 9
        }
      ]
    },
    {
      "cell_type": "code",
      "metadata": {
        "id": "ieQvZR63e58p"
      },
      "source": [
        "# tokenizer"
      ],
      "execution_count": null,
      "outputs": []
    },
    {
      "cell_type": "code",
      "metadata": {
        "id": "xQqHOavggzaR",
        "colab": {
          "base_uri": "https://localhost:8080/",
          "height": 52
        },
        "outputId": "0b91e555-e386-44fc-a019-43bf7c44deb1"
      },
      "source": [
        "example_sentence = df['Text'].iloc[0]\n",
        "example_sentence"
      ],
      "execution_count": null,
      "outputs": [
        {
          "output_type": "execute_result",
          "data": {
            "application/vnd.google.colaboratory.intrinsic+json": {
              "type": "string"
            },
            "text/plain": [
              "'I have bought several of the Vitality canned dog food products and have found them all to be of good quality. The product looks more like a stew than a processed meat and it smells better. My Labrador is finicky and she appreciates this product better than  most.'"
            ]
          },
          "metadata": {},
          "execution_count": 10
        }
      ]
    },
    {
      "cell_type": "code",
      "metadata": {
        "id": "dfado3NugX1l",
        "colab": {
          "base_uri": "https://localhost:8080/"
        },
        "outputId": "f408d5ca-8f23-4947-99aa-266c49f5d59c"
      },
      "source": [
        "tokenizer.encode(example_sentence)"
      ],
      "execution_count": null,
      "outputs": [
        {
          "output_type": "execute_result",
          "data": {
            "text/plain": [
              "[101,\n",
              " 1045,\n",
              " 2031,\n",
              " 4149,\n",
              " 2195,\n",
              " 1997,\n",
              " 1996,\n",
              " 8995,\n",
              " 3012,\n",
              " 27141,\n",
              " 3899,\n",
              " 2833,\n",
              " 3688,\n",
              " 1998,\n",
              " 2031,\n",
              " 2179,\n",
              " 2068,\n",
              " 2035,\n",
              " 2000,\n",
              " 2022,\n",
              " 1997,\n",
              " 2204,\n",
              " 3737,\n",
              " 1012,\n",
              " 1996,\n",
              " 4031,\n",
              " 3504,\n",
              " 2062,\n",
              " 2066,\n",
              " 1037,\n",
              " 20717,\n",
              " 2084,\n",
              " 1037,\n",
              " 13995,\n",
              " 6240,\n",
              " 1998,\n",
              " 2009,\n",
              " 14747,\n",
              " 2488,\n",
              " 1012,\n",
              " 2026,\n",
              " 18604,\n",
              " 2003,\n",
              " 10346,\n",
              " 6799,\n",
              " 2100,\n",
              " 1998,\n",
              " 2016,\n",
              " 9120,\n",
              " 2015,\n",
              " 2023,\n",
              " 4031,\n",
              " 2488,\n",
              " 2084,\n",
              " 2087,\n",
              " 1012,\n",
              " 102]"
            ]
          },
          "metadata": {},
          "execution_count": 11
        }
      ]
    },
    {
      "cell_type": "code",
      "metadata": {
        "id": "iijPw9qpi4c8"
      },
      "source": [
        "class textDataset(torch.utils.data.Dataset):\n",
        "    def __init__(self, data, tokenizer):\n",
        "        self.data = data\n",
        "        self.tokenizer = tokenizer\n",
        "        \n",
        "    def __len__(self):\n",
        "        return len(self.data)\n",
        "\n",
        "    def __getitem__(self, idx):\n",
        "        text = self.data['Text'].iloc[idx]\n",
        "        score = self.data['Score'].iloc[idx]\n",
        "\n",
        "        encoded_text = self.tokenizer.encode(text)\n",
        "\n",
        "        encoded_text = torch.tensor(encoded_text).long()\n",
        "        score = torch.tensor(score).long()\n",
        "        score = score-1 # 1~5->0~4\n",
        "        return encoded_text, score"
      ],
      "execution_count": null,
      "outputs": []
    },
    {
      "cell_type": "code",
      "metadata": {
        "id": "1wDJshv-jWiE"
      },
      "source": [
        "split_idx = int(len(df)*0.9)\n",
        "train_data = df.iloc[:split_idx]\n",
        "test_data = df.iloc[split_idx:]"
      ],
      "execution_count": null,
      "outputs": []
    },
    {
      "cell_type": "code",
      "metadata": {
        "id": "XwVGDTA0f-h7",
        "colab": {
          "base_uri": "https://localhost:8080/"
        },
        "outputId": "61c376c3-b97f-48e7-b20f-f3edd013a584"
      },
      "source": [
        "len(train_data), len(test_data)"
      ],
      "execution_count": null,
      "outputs": [
        {
          "output_type": "execute_result",
          "data": {
            "text/plain": [
              "(4500, 500)"
            ]
          },
          "metadata": {},
          "execution_count": 17
        }
      ]
    },
    {
      "cell_type": "code",
      "metadata": {
        "id": "h6AueY5jgyHl",
        "colab": {
          "base_uri": "https://localhost:8080/"
        },
        "outputId": "233b45f1-a8bc-45a4-f6c8-79184a005fc0"
      },
      "source": [
        "batch = [[train_dataset[i][0], train_dataset[i][1]] for i in [34, 52, 62, 13]]\n",
        "batch"
      ],
      "execution_count": null,
      "outputs": [
        {
          "output_type": "execute_result",
          "data": {
            "text/plain": [
              "[[tensor([  101,  7107,  1051,  4017,  4168,  2389,  2064,  2468,  2061, 22772,\n",
              "           1996,  3371,  1996,  2300,  4978,  1996,  4605,  1012, 28641,  1005,\n",
              "           1055,  7107,  1051,  4017,  4168,  2389,  4324,  2049, 14902,  1010,\n",
              "           2038,  6581, 14894,  1010,  1998,  2003,  2204,  2005,  2017,  2035,\n",
              "           2012,  1996,  2168,  2051,  1012, 28641,  1005,  1055,  3180,  1051,\n",
              "           4017,  7954,  2003,  6581,  1010,  2205,  1010,  2021,  2089,  2202,\n",
              "           1037,  2978,  2936,  2000,  7374,  2084,  2087,  2031,  2051,  2005,\n",
              "           1999,  1996,  2851,  1012,  2023,  2003,  1996,  2190,  7107,  4435,\n",
              "           1045,  1005,  2310,  2412,  8828,  1010,  1998,  1037,  2200,  2485,\n",
              "           2117,  2000,  1996,  2512,  1011,  7107,  3528,  1012,  1026,  7987,\n",
              "           1013,  1028,  1026,  7987,  1013,  1028, 28641,  1005,  1055,  7107,\n",
              "           3493,  1051,  4017,  4168,  2389,  1010,  3528,  5308,  1997,  3180,\n",
              "           1010, 18108,  1004, 21229,  1010,  1998, 11035,  1004,  2829,  5699,\n",
              "           1010,  2184,  1011,  4175,  8378,  1006,  5308,  1997,  1020,  1007,\n",
              "            102]), tensor(4)],\n",
              " [tensor([  101,  2023,  2347,  1005,  1056,  1999,  4518,  1996,  2197,  2051,\n",
              "           1045,  2246,  1012,  1045,  2018,  2000,  2175,  2000,  1996,  8839,\n",
              "           2406,  3573,  1999, 12755,  2000,  2424,  2009,  2247,  2007,  1037,\n",
              "           5730, 14601,  1010, 13675,  2319,  9766,  3586, 12173,  4509, 12901,\n",
              "           1010,  2521,  9286,  4757,  2304, 14068, 26509,  1010,  6207, 28744,\n",
              "           2121, 20919,  1010,  8446,  1005,  1055, 18293,  2396,  1999,  4367,\n",
              "           1998,  1996, 18785,  8839, 11035, 23353,  1012,  1026,  7987,  1013,\n",
              "           1028,  1026,  7987,  1013,  1028,  2067,  2000,  1996,  4632,  5926,\n",
              "           2378, 27613,  1012,  2027,  2024,  2980,  1012,  2027,  2097, 20544,\n",
              "           1996,  2566, 13102,  7895,  3508, 23340,  2369,  2115,  5551,  1998,\n",
              "           2104,  2115,  2608,  1012,  2009,  5942,  1037, 19645,  2004, 17099,\n",
              "           1010,  1037,  3221,  1997,  2200,  3147,  6501,  1010,  1998,  1037,\n",
              "           3482,  1997,  1047, 24129, 10288,  2144,  2009,  2097,  2191,  2115,\n",
              "           4451,  2448,  1012,  2027,  2298,  2066,  6623, 27613,  2029,  2003,\n",
              "           2525,  3228,  2033,  4784,  2005,  2147,  1012,  1045,  8343,  2008,\n",
              "           2070,  2111,  2031,  2042,  7294,  2026,  2204,  3111,  1999,  2026,\n",
              "           6438,  1010,  2926,  2026, 11729,  6754,  1012,  1045,  1005,  1049,\n",
              "           2183,  2000,  2202,  2023,  2000,  2147,  2012,  5700,  4495,  1998,\n",
              "           4064,  1996,  8417,  1997,  2023,  2064,  2046,  2019,  6623,  3269,\n",
              "           2545, 27613,  2064,  1010,  1998,  2059,  2156,  3005,  6933,  2030,\n",
              "           3005,  4451,  2003,  2770,  2043,  1045,  2709,  1012,  1026,  7987,\n",
              "           1013,  1028,  1026,  7987,  1013,  1028,  1996,  2064,  2323,  2022,\n",
              "          16697,  2000,  5676,  1996, 21729,  2024, 18030,  5500,  1012,  2009,\n",
              "           2003,  2590,  2000,  9378,  2115,  2398,  2044,  8381,  1998,  2025,\n",
              "           3543,  1996,  2159,  1012,  1026,  7987,  1013,  1028,  1026,  7987,\n",
              "           1013,  1028,  2017,  1005,  2222,  2175, 12264,  2058,  2122,  4632,\n",
              "           1011,  5926,  2378,  1005, 27613,  1012,  1026,  7987,  1013,  1028,\n",
              "           1026,  7987,  1013,  1028,  1052,  1012,  1055,  1012,  1045,  1005,\n",
              "           1049,  2025,  6631,  1996, 27613,  1010,  2025,  9969,  1010,  1998,\n",
              "           1045,  1005,  2222,  2763,  2507,  6754,  1996,  5730, 14601,  2005,\n",
              "           4234,  1012,  2002,  1005,  2222,  2022,  2061, 23637,  1012,   102]),\n",
              "  tensor(3)],\n",
              " [tensor([  101,  3369,  1999,  1020,  2420,  1998,  2020,  2061, 26729,  1045,\n",
              "           2071,  2025,  4521,  2151,  1997,  1996,  1020,  8641,   999,   999,\n",
              "            102]), tensor(0)],\n",
              " [tensor([  101,  2204, 14894,   999,  2122,  2234, 28999,  8966,  1012,  1012,\n",
              "           1012,  2027,  2020,  4840,  1998, 12090,   999,  1045,  2293,  2122,\n",
              "           1056,  9148, 17644,  2869,   999,   102]), tensor(3)]]"
            ]
          },
          "metadata": {},
          "execution_count": 19
        }
      ]
    },
    {
      "cell_type": "code",
      "metadata": {
        "id": "Go55bdGbhQu4",
        "colab": {
          "base_uri": "https://localhost:8080/"
        },
        "outputId": "d453c476-87b7-42aa-9adb-1f2c832d4e6a"
      },
      "source": [
        "A, B, C = zip(['A', 'B', 'C'], ['a', 'b', 'c'])\n",
        "A, B, C"
      ],
      "execution_count": null,
      "outputs": [
        {
          "output_type": "execute_result",
          "data": {
            "text/plain": [
              "(('A', 'a'), ('B', 'b'), ('C', 'c'))"
            ]
          },
          "metadata": {},
          "execution_count": 20
        }
      ]
    },
    {
      "cell_type": "code",
      "metadata": {
        "id": "yC5N8v1ghO9P"
      },
      "source": [
        "texts, scores = zip(*batch)"
      ],
      "execution_count": null,
      "outputs": []
    },
    {
      "cell_type": "code",
      "metadata": {
        "id": "q49El2fbhoVS",
        "colab": {
          "base_uri": "https://localhost:8080/"
        },
        "outputId": "225dd672-16f8-4544-a2d0-49c687e4e0aa"
      },
      "source": [
        "scores # 얘를 하나의 tensor로 만들고 싶다.\n",
        "torch.stack(scores)"
      ],
      "execution_count": null,
      "outputs": [
        {
          "output_type": "execute_result",
          "data": {
            "text/plain": [
              "tensor([4, 3, 0, 3])"
            ]
          },
          "metadata": {},
          "execution_count": 25
        }
      ]
    },
    {
      "cell_type": "code",
      "metadata": {
        "id": "f9XK6N4Bh49q"
      },
      "source": [
        ""
      ],
      "execution_count": null,
      "outputs": []
    },
    {
      "cell_type": "code",
      "metadata": {
        "id": "VEr3fVbTe3Lf"
      },
      "source": [
        "batch_size = 4\n",
        "device = torch.device('cuda')\n",
        "\n",
        "# Data set\n",
        "train_dataset = textDataset(train_data, tokenizer)\n",
        "test_dataset = textDataset(test_data, tokenizer)\n",
        "\n",
        "# dataset의 여러 index로부터 나온 정보들을 어떻게 취합해서 내보낼지 결정하는 함수 \n",
        "def collate_fn(batch):\n",
        "  texts, scores = zip(*batch)\n",
        "  texts_pad = pad_sequence(texts, batch_first=True, padding_value=0)\n",
        "  texts_pad = texts_pad[:,:512]\n",
        "  return texts_pad, torch.stack(scores)\n",
        "\n",
        "# Data loader\n",
        "train_loader = torch.utils.data.DataLoader(train_dataset, batch_size=batch_size, shuffle=True, collate_fn=collate_fn, num_workers=2)\n",
        "test_loader =  torch.utils.data.DataLoader(test_dataset, batch_size=batch_size, shuffle=False, collate_fn=collate_fn, num_workers=2)\n"
      ],
      "execution_count": null,
      "outputs": []
    },
    {
      "cell_type": "code",
      "metadata": {
        "id": "DVLMNB_cjw_H"
      },
      "source": [
        "class simpleRNN(nn.Module):\n",
        "  def __init__(self):\n",
        "        super(simpleRNN, self).__init__()\n",
        "\n",
        "        self.embedding_layer = nn.Embedding(30522, embedding_dim=256) # word embedding \n",
        "        \n",
        "        self.num_layers = 1\n",
        "        self.RNN = nn.RNN(256, 256, num_layers=self.num_layers, dropout=0.1, batch_first=True) # RNN layer\n",
        "        \n",
        "        self.out = nn.Linear(256, 5) # output layer\n",
        "\n",
        "      \n",
        "  def forward(self, text):\n",
        "    # 1. 입력 text\n",
        "    # 2. 임베딩 레이어. \n",
        "        x=self.embedding_layer(text)\n",
        "        # 3. RNN layer\n",
        "        h0 = torch.zeros(self.num_layers,x.shape[0],256)\n",
        "        if torch.cuda.is_available():\n",
        "            h0 = h0.cuda()\n",
        "        x, h = self.RNN(x, h0)\n",
        "        x = self.out(x[:,-1,:])\n",
        "\n",
        "\n",
        "        return x"
      ],
      "execution_count": null,
      "outputs": []
    },
    {
      "cell_type": "code",
      "metadata": {
        "id": "dTg0f6SaklzZ"
      },
      "source": [
        "class simpleLSTM(nn.Module):\n",
        "  def __init__(self):\n",
        "        super(simpleRNN, self).__init__()\n",
        "\n",
        "        self.embedding_layer = nn.Embedding(30522, embedding_dim=256) # word embedding \n",
        "        \n",
        "        self.num_layers = 1\n",
        "        self.LSTM = nn.LSTM(256, 256, num_layers=self.num_layers, dropout=0.1, batch_first=True) # RNN layer\n",
        "        \n",
        "        self.out = nn.Linear(256, 5) # output layer\n",
        "\n",
        "      \n",
        "  def forward(self, text):\n",
        "    # 1. 입력 text\n",
        "    # 2. 임베딩 레이어. \n",
        "        x=self.embedding_layer(text)\n",
        "        # 3. LSTM layer\n",
        "        c0 = torch.zeros(self.num_layers, x.shape[0], 256)\n",
        "        h0 = torch.zeros(self.num_layers,x.shape[0],256)\n",
        "        if torch.cuda.is_available():\n",
        "            h0 = h0.cuda()\n",
        "            c0 = c0.cuda()\n",
        "        x, (h,c) = self.LSTM(x, (h0, c0))\n",
        "        x = self.out(x[:,-1,:])\n",
        "        # 최종적으로 5개의 logit value를 뱉어내게 됨 \n",
        "\n",
        "        return x"
      ],
      "execution_count": null,
      "outputs": []
    },
    {
      "cell_type": "code",
      "metadata": {
        "id": "SbBcAs6Ff4vd"
      },
      "source": [
        "class BERT(nn.Module):\n",
        "\n",
        "    def __init__(self):\n",
        "        super(BERT, self).__init__()\n",
        "\n",
        "        options_name = \"bert-base-uncased\"\n",
        "        self.bert = BertForSequenceClassification.from_pretrained(options_name, num_labels=5) # 분류해야 할 클래스는 5개임 \n",
        "\n",
        "    def forward(self, text):\n",
        "        x = self.bert(text)[0]\n",
        "\n",
        "        return x"
      ],
      "execution_count": null,
      "outputs": []
    },
    {
      "cell_type": "code",
      "metadata": {
        "id": "2XK-_2XzfWv3",
        "colab": {
          "base_uri": "https://localhost:8080/",
          "height": 154,
          "referenced_widgets": [
            "da3c29dbc1084f6aa4a0e4882cf6cd30",
            "05d89f3454324674a7eab79ea3c0cbbd",
            "7037aaf5947b4f3ca14c9966e9834d9c",
            "e7ab8628db274b87b94e71372ea14ff3",
            "a2951967d64e48eb8e7f6ade624d2f99",
            "645a6f5de5d64dada8fd792dcca1a9dc",
            "343ded95eb7d4e3c9acda0584814f32e",
            "eab38779e53a4904b107da225aef6ef0",
            "ec3d20e35b7d4b8f86f52386d5305860",
            "2127a921ce3949aeb9413c2c563b99f5",
            "fc5fa51656a9425781f11ea2ca81e101"
          ]
        },
        "outputId": "f12c1abf-553e-4c1c-ae85-292b398b7f3e"
      },
      "source": [
        "learning_rate = 1e-5\n",
        "model = BERT() # 사전학습된 모델을 download 받는다. \n",
        "# model = simpleRNN()\n",
        "# model = simpleLSTM()\n",
        "if torch.cuda.is_available():\n",
        "  model = model.cuda()\n",
        "criterion = nn.CrossEntropyLoss()\n",
        "# optimizer = torch.optim.Adam(model.bert.classifier.parameters(), lr=learning_rate)\n",
        "optimizer = torch.optim.Adam(model.parameters(), lr=learning_rate)\n"
      ],
      "execution_count": null,
      "outputs": [
        {
          "output_type": "display_data",
          "data": {
            "application/vnd.jupyter.widget-view+json": {
              "model_id": "da3c29dbc1084f6aa4a0e4882cf6cd30",
              "version_minor": 0,
              "version_major": 2
            },
            "text/plain": [
              "Downloading:   0%|          | 0.00/420M [00:00<?, ?B/s]"
            ]
          },
          "metadata": {}
        },
        {
          "output_type": "stream",
          "name": "stderr",
          "text": [
            "Some weights of the model checkpoint at bert-base-uncased were not used when initializing BertForSequenceClassification: ['cls.predictions.bias', 'cls.seq_relationship.weight', 'cls.predictions.transform.dense.bias', 'cls.predictions.transform.LayerNorm.weight', 'cls.predictions.decoder.weight', 'cls.predictions.transform.dense.weight', 'cls.predictions.transform.LayerNorm.bias', 'cls.seq_relationship.bias']\n",
            "- This IS expected if you are initializing BertForSequenceClassification from the checkpoint of a model trained on another task or with another architecture (e.g. initializing a BertForSequenceClassification model from a BertForPreTraining model).\n",
            "- This IS NOT expected if you are initializing BertForSequenceClassification from the checkpoint of a model that you expect to be exactly identical (initializing a BertForSequenceClassification model from a BertForSequenceClassification model).\n",
            "Some weights of BertForSequenceClassification were not initialized from the model checkpoint at bert-base-uncased and are newly initialized: ['classifier.bias', 'classifier.weight']\n",
            "You should probably TRAIN this model on a down-stream task to be able to use it for predictions and inference.\n"
          ]
        }
      ]
    },
    {
      "cell_type": "code",
      "metadata": {
        "id": "_18TT7IZk873",
        "colab": {
          "base_uri": "https://localhost:8080/"
        },
        "outputId": "f3769703-c155-4acc-aa72-363fc9920822"
      },
      "source": [
        "EPOCHS=1\n",
        "\n",
        "losses = []\n",
        "for epoch in range(EPOCHS):\n",
        "    loss_list = []\n",
        "    acc_list = []\n",
        "\n",
        "    loss_list2 = []\n",
        "    acc_list2 = []\n",
        "    for i, (X_batch, y_batch) in enumerate(train_loader):\n",
        "        if torch.cuda.is_available():\n",
        "            X_batch = X_batch.cuda()\n",
        "            y_batch = y_batch.cuda()\n",
        "        #Forward \n",
        "        y_output = model(X_batch)\n",
        "        loss = criterion(y_output, y_batch) #CELoss: The input is expected to contain raw, unnormalized scores for each class.\n",
        "        \n",
        "        #Backward\n",
        "        optimizer.zero_grad()\n",
        "        loss.backward()\n",
        "        optimizer.step()\n",
        "        \n",
        "        #misc (acc 계산, etc) \n",
        "        y_pred = torch.max(y_output, 1)[1]\n",
        "        acc = ACC(y_batch.data.cpu(), y_pred.data.cpu())\n",
        "        loss_list.append(loss.item())\n",
        "        acc_list.append(acc)\n",
        "        loss_list2.append(loss.item())\n",
        "        acc_list2.append(acc)\n",
        "        losses.append(loss.item())\n",
        "        if (i+1) % 20 == 0:\n",
        "            print('Epoch [{}/{}] Step [{}/{}] Loss: [{:.4f}] Train ACC [{:.2f}%]'.format(epoch+1, EPOCHS, \\\n",
        "                                                                                       i+1, len(train_loader), np.mean(loss_list2), np.mean(acc_list2)*100))\n",
        "            loss_list2 = []\n",
        "            acc_list2 = [] \n",
        "    print('Epoch [{}/{}] Loss: [{:.4f}] Train ACC [{:.2f}%]'.format(epoch+1, EPOCHS, np.mean(loss_list), np.mean(acc_list)*100))"
      ],
      "execution_count": null,
      "outputs": [
        {
          "output_type": "stream",
          "name": "stderr",
          "text": [
            "Token indices sequence length is longer than the specified maximum sequence length for this model (601 > 512). Running this sequence through the model will result in indexing errors\n"
          ]
        },
        {
          "output_type": "stream",
          "name": "stdout",
          "text": [
            "Epoch [1/1] Step [20/1125] Loss: [1.1876] Train ACC [71.25%]\n"
          ]
        },
        {
          "output_type": "stream",
          "name": "stderr",
          "text": [
            "Token indices sequence length is longer than the specified maximum sequence length for this model (585 > 512). Running this sequence through the model will result in indexing errors\n"
          ]
        },
        {
          "output_type": "stream",
          "name": "stdout",
          "text": [
            "Epoch [1/1] Step [40/1125] Loss: [1.2972] Train ACC [56.25%]\n",
            "Epoch [1/1] Step [60/1125] Loss: [1.2417] Train ACC [58.75%]\n",
            "Epoch [1/1] Step [80/1125] Loss: [1.1212] Train ACC [66.25%]\n",
            "Epoch [1/1] Step [100/1125] Loss: [1.2600] Train ACC [56.25%]\n",
            "Epoch [1/1] Step [120/1125] Loss: [1.1329] Train ACC [60.00%]\n",
            "Epoch [1/1] Step [140/1125] Loss: [1.1196] Train ACC [60.00%]\n",
            "Epoch [1/1] Step [160/1125] Loss: [0.9755] Train ACC [67.50%]\n",
            "Epoch [1/1] Step [180/1125] Loss: [1.0281] Train ACC [62.50%]\n",
            "Epoch [1/1] Step [200/1125] Loss: [0.8293] Train ACC [68.75%]\n",
            "Epoch [1/1] Step [220/1125] Loss: [0.9811] Train ACC [60.00%]\n",
            "Epoch [1/1] Step [240/1125] Loss: [1.1251] Train ACC [60.00%]\n",
            "Epoch [1/1] Step [260/1125] Loss: [0.9323] Train ACC [63.75%]\n",
            "Epoch [1/1] Step [280/1125] Loss: [0.9108] Train ACC [66.25%]\n",
            "Epoch [1/1] Step [300/1125] Loss: [0.8903] Train ACC [66.25%]\n",
            "Epoch [1/1] Step [320/1125] Loss: [0.9658] Train ACC [67.50%]\n",
            "Epoch [1/1] Step [340/1125] Loss: [0.9768] Train ACC [61.25%]\n",
            "Epoch [1/1] Step [360/1125] Loss: [0.9048] Train ACC [65.00%]\n",
            "Epoch [1/1] Step [380/1125] Loss: [0.8822] Train ACC [63.75%]\n",
            "Epoch [1/1] Step [400/1125] Loss: [0.9769] Train ACC [62.50%]\n",
            "Epoch [1/1] Step [420/1125] Loss: [0.8954] Train ACC [70.00%]\n",
            "Epoch [1/1] Step [440/1125] Loss: [0.7610] Train ACC [72.50%]\n",
            "Epoch [1/1] Step [460/1125] Loss: [0.8292] Train ACC [68.75%]\n",
            "Epoch [1/1] Step [480/1125] Loss: [0.7373] Train ACC [81.25%]\n",
            "Epoch [1/1] Step [500/1125] Loss: [0.6392] Train ACC [81.25%]\n",
            "Epoch [1/1] Step [520/1125] Loss: [0.9808] Train ACC [58.75%]\n",
            "Epoch [1/1] Step [540/1125] Loss: [0.7196] Train ACC [73.75%]\n",
            "Epoch [1/1] Step [560/1125] Loss: [0.7386] Train ACC [68.75%]\n",
            "Epoch [1/1] Step [580/1125] Loss: [0.6588] Train ACC [78.75%]\n",
            "Epoch [1/1] Step [600/1125] Loss: [0.6743] Train ACC [80.00%]\n",
            "Epoch [1/1] Step [620/1125] Loss: [0.7176] Train ACC [73.75%]\n",
            "Epoch [1/1] Step [640/1125] Loss: [0.8410] Train ACC [68.75%]\n",
            "Epoch [1/1] Step [660/1125] Loss: [0.8267] Train ACC [68.75%]\n",
            "Epoch [1/1] Step [680/1125] Loss: [0.8268] Train ACC [71.25%]\n",
            "Epoch [1/1] Step [700/1125] Loss: [0.5822] Train ACC [82.50%]\n",
            "Epoch [1/1] Step [720/1125] Loss: [0.8659] Train ACC [67.50%]\n",
            "Epoch [1/1] Step [740/1125] Loss: [0.9282] Train ACC [62.50%]\n",
            "Epoch [1/1] Step [760/1125] Loss: [0.5565] Train ACC [78.75%]\n",
            "Epoch [1/1] Step [780/1125] Loss: [0.7364] Train ACC [75.00%]\n",
            "Epoch [1/1] Step [800/1125] Loss: [0.8027] Train ACC [73.75%]\n",
            "Epoch [1/1] Step [820/1125] Loss: [0.7772] Train ACC [72.50%]\n",
            "Epoch [1/1] Step [840/1125] Loss: [0.7885] Train ACC [67.50%]\n",
            "Epoch [1/1] Step [860/1125] Loss: [0.7828] Train ACC [71.25%]\n",
            "Epoch [1/1] Step [880/1125] Loss: [0.8900] Train ACC [63.75%]\n",
            "Epoch [1/1] Step [900/1125] Loss: [0.7417] Train ACC [67.50%]\n",
            "Epoch [1/1] Step [920/1125] Loss: [0.6857] Train ACC [73.75%]\n",
            "Epoch [1/1] Step [940/1125] Loss: [0.6921] Train ACC [75.00%]\n",
            "Epoch [1/1] Step [960/1125] Loss: [0.6926] Train ACC [73.75%]\n",
            "Epoch [1/1] Step [980/1125] Loss: [0.8160] Train ACC [68.75%]\n",
            "Epoch [1/1] Step [1000/1125] Loss: [0.8379] Train ACC [71.25%]\n",
            "Epoch [1/1] Step [1020/1125] Loss: [0.6488] Train ACC [80.00%]\n",
            "Epoch [1/1] Step [1040/1125] Loss: [0.8038] Train ACC [65.00%]\n",
            "Epoch [1/1] Step [1060/1125] Loss: [0.7804] Train ACC [71.25%]\n",
            "Epoch [1/1] Step [1080/1125] Loss: [0.6976] Train ACC [75.00%]\n",
            "Epoch [1/1] Step [1100/1125] Loss: [0.7333] Train ACC [72.50%]\n",
            "Epoch [1/1] Step [1120/1125] Loss: [0.7042] Train ACC [71.25%]\n",
            "Epoch [1/1] Loss: [0.8592] Train ACC [68.93%]\n"
          ]
        }
      ]
    },
    {
      "cell_type": "code",
      "metadata": {
        "id": "UBQ3Zksh95q2",
        "colab": {
          "base_uri": "https://localhost:8080/",
          "height": 281
        },
        "outputId": "80e51614-c022-404f-8e03-366cac8e99c6"
      },
      "source": [
        "plt.figure(figsize=(8,4))\n",
        "plt.plot(losses)\n",
        "plt.title('Loss graph')\n",
        "plt.show()"
      ],
      "execution_count": null,
      "outputs": [
        {
          "output_type": "display_data",
          "data": {
            "image/png": "[encoded data removed]",
            "text/plain": [
              "<Figure size 576x288 with 1 Axes>"
            ]
          },
          "metadata": {
            "needs_background": "light"
          }
        }
      ]
    },
    {
      "cell_type": "code",
      "metadata": {
        "id": "J2xMV8PYlDsX",
        "colab": {
          "base_uri": "https://localhost:8080/"
        },
        "outputId": "92b855b7-832e-433e-b7c3-d68d7f82847a"
      },
      "source": [
        "test_acc_list = []\n",
        "with torch.no_grad():\n",
        "    model.eval()\n",
        "    for X_batch, y_batch in test_loader:    \n",
        "        if torch.cuda.is_available():\n",
        "            X_batch = X_batch.cuda()\n",
        "            y_batch = y_batch.cuda()\n",
        "        \n",
        "        y_output = model(X_batch)\n",
        "        y_pred = torch.max(y_output, 1)[1]\n",
        "        \n",
        "        acc = ACC(y_batch.data.cpu(), y_pred.data.cpu())\n",
        "        test_acc_list.append(acc)\n",
        "    test_acc = np.mean(test_acc_list)\n",
        "print('Test ACC: [{:.2f}%]'.format(test_acc*100))"
      ],
      "execution_count": null,
      "outputs": [
        {
          "output_type": "stream",
          "name": "stderr",
          "text": [
            "Token indices sequence length is longer than the specified maximum sequence length for this model (576 > 512). Running this sequence through the model will result in indexing errors\n",
            "Token indices sequence length is longer than the specified maximum sequence length for this model (572 > 512). Running this sequence through the model will result in indexing errors\n"
          ]
        },
        {
          "output_type": "stream",
          "name": "stdout",
          "text": [
            "Test ACC: [67.40%]\n"
          ]
        }
      ]
    },
    {
      "cell_type": "markdown",
      "metadata": {
        "id": "i2BbVC0Oaj9m"
      },
      "source": [
        "# 과제\n",
        "\n",
        "65% accuracy를 달성해보세요! (Hint: BERT를 낮은 learning rate로 학습해보세요.)"
      ]
    },
    {
      "cell_type": "code",
      "metadata": {
        "id": "Xia316RAaran"
      },
      "source": [
        ""
      ],
      "execution_count": null,
      "outputs": []
    }
  ]
}