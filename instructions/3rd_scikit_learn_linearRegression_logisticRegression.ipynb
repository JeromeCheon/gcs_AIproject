{
  "nbformat": 4,
  "nbformat_minor": 0,
  "metadata": {
    "colab": {
      "name": "Untitled2.ipynb",
      "provenance": []
    },
    "kernelspec": {
      "name": "python3",
      "display_name": "Python 3"
    },
    "language_info": {
      "name": "python"
    }
  },
  "cells": [
    {
      "cell_type": "code",
      "metadata": {
        "id": "0Bh_kiTHPQqg"
      },
      "source": [
        "import sklearn # scikit-learn \n",
        "import matplotlib.pyplot as plt\n",
        "import numpy as np"
      ],
      "execution_count": null,
      "outputs": []
    },
    {
      "cell_type": "code",
      "metadata": {
        "colab": {
          "base_uri": "https://localhost:8080/"
        },
        "id": "gQ_T6c2fXPYo",
        "outputId": "1e4f8267-9f05-48b2-d1da-dfc534f5e072"
      },
      "source": [
        "# 1. linear regression\n",
        "# 1.1. data 생성\n",
        "\n",
        "X = np.array([[i,i] for i in range(10)])\n",
        "# (0,0), (1,1), (2,2), (3,3) ,... (9,9)\n",
        "Y = range(10) # 0,1,2,3,..., 9\n",
        "\n",
        "\n",
        "# y = ax1 + bx2 = 0.5 x1 + 0.5 x2\n",
        "X = np.array(X)#(10, 2)\n",
        "Y = np.array(Y)\n",
        "\n",
        "from sklearn import linear_model\n",
        "\n",
        "model = linear_model.LinearRegression()\n",
        "# training\n",
        "model.fit(X,Y)\n",
        "\n"
      ],
      "execution_count": null,
      "outputs": [
        {
          "output_type": "execute_result",
          "data": {
            "text/plain": [
              "LinearRegression(copy_X=True, fit_intercept=True, n_jobs=None, normalize=False)"
            ]
          },
          "metadata": {},
          "execution_count": 15
        }
      ]
    },
    {
      "cell_type": "code",
      "metadata": {
        "colab": {
          "base_uri": "https://localhost:8080/"
        },
        "id": "Z904jyl9a_4V",
        "outputId": "7b672e62-2fcc-4786-d999-99120621e0a8"
      },
      "source": [
        "model.coef_"
      ],
      "execution_count": null,
      "outputs": [
        {
          "output_type": "execute_result",
          "data": {
            "text/plain": [
              "array([0.5, 0.5])"
            ]
          },
          "metadata": {},
          "execution_count": 16
        }
      ]
    },
    {
      "cell_type": "code",
      "metadata": {
        "colab": {
          "base_uri": "https://localhost:8080/"
        },
        "id": "CfhiMY2sblhe",
        "outputId": "8f74f30c-c26c-4704-c710-6ba3164c6d92"
      },
      "source": [
        "X = [[5,3]]\n",
        "model.predict(X)"
      ],
      "execution_count": null,
      "outputs": [
        {
          "output_type": "execute_result",
          "data": {
            "text/plain": [
              "array([4.])"
            ]
          },
          "metadata": {},
          "execution_count": 17
        }
      ]
    },
    {
      "cell_type": "code",
      "metadata": {
        "colab": {
          "base_uri": "https://localhost:8080/"
        },
        "id": "XQzx_zrIc_5_",
        "outputId": "1299cde7-07d1-43a1-a684-771bc7ba12d1"
      },
      "source": [
        "X = np.array([[i,1] for i in range(1000)])\n",
        "X[:,1] = np.array()\n",
        "\n",
        "\n",
        "# (0,1), (1,1), (2,1), (3,1) ,... (9,1), ... (999, 1)\n",
        "Y = np.random.rand(1000) * 100 + np.array(range(1000)) * 3 # 0, 3, 6, 9, ..., 3 * 999 \n",
        "\n",
        "\n",
        "\n",
        "# y = ax1 + bx2 = x1 + x2\n",
        "X = np.array(X) #(10, 2)\n",
        "Y = np.array(Y)\n",
        "\n",
        "model = linear_model.LinearRegression()\n",
        "# training\n",
        "model.fit(X,Y)"
      ],
      "execution_count": null,
      "outputs": [
        {
          "output_type": "execute_result",
          "data": {
            "text/plain": [
              "LinearRegression(copy_X=True, fit_intercept=True, n_jobs=None, normalize=False)"
            ]
          },
          "metadata": {},
          "execution_count": 24
        }
      ]
    },
    {
      "cell_type": "code",
      "metadata": {
        "colab": {
          "base_uri": "https://localhost:8080/",
          "height": 265
        },
        "id": "PbyFNXqldcCz",
        "outputId": "22eafda0-1a11-4c3d-d0c5-9e2f619b631e"
      },
      "source": [
        "plt.plot(range(1000), Y)\n",
        "\n",
        "plt.show()"
      ],
      "execution_count": null,
      "outputs": [
        {
          "output_type": "display_data",
          "data": {
            "image/png": "[encoded data removed]",
            "text/plain": [
              "<Figure size 432x288 with 1 Axes>"
            ]
          },
          "metadata": {
            "needs_background": "light"
          }
        }
      ]
    },
    {
      "cell_type": "code",
      "metadata": {
        "colab": {
          "base_uri": "https://localhost:8080/",
          "height": 265
        },
        "id": "iq4pAHyyeG3k",
        "outputId": "62bfaa42-317f-4205-de69-72673ca2bd95"
      },
      "source": [
        "plt.plot(range(1000), Y)\n",
        "\n",
        "prediction_value = model.predict(X)\n",
        "plt.plot(range(1000), prediction_value)\n",
        "\n",
        "plt.show()"
      ],
      "execution_count": null,
      "outputs": [
        {
          "output_type": "display_data",
          "data": {
            "image/png": "[encoded data removed]",
            "text/plain": [
              "<Figure size 432x288 with 1 Axes>"
            ]
          },
          "metadata": {
            "needs_background": "light"
          }
        }
      ]
    },
    {
      "cell_type": "code",
      "metadata": {
        "colab": {
          "base_uri": "https://localhost:8080/"
        },
        "id": "Pl1hzHcueRGx",
        "outputId": "430491fc-6ebc-45f7-a466-b32d3c1528ea"
      },
      "source": [
        "# logistic regression\n",
        "# classification\n",
        "\n",
        "\n",
        "model = linear_model.LogisticRegression()\n",
        "\n",
        "X = np.array([-np.random.rand() for i in range(300)] + [np.random.rand() for i in range(200)] + [-np.random.rand() for i in range(200)] + [np.random.rand() for i in range(300)] )[:,None]\n",
        "Y = [0 for i in range(300)] + [1 for i in range(200)] + [0 for i in range(200)] + [1 for i in range(300)]\n",
        "\n",
        "X = np.array(X)\n",
        "Y = np.array(Y)\n",
        "\n",
        "model.fit(X,Y)\n"
      ],
      "execution_count": null,
      "outputs": [
        {
          "output_type": "execute_result",
          "data": {
            "text/plain": [
              "LogisticRegression(C=1.0, class_weight=None, dual=False, fit_intercept=True,\n",
              "                   intercept_scaling=1, l1_ratio=None, max_iter=100,\n",
              "                   multi_class='auto', n_jobs=None, penalty='l2',\n",
              "                   random_state=None, solver='lbfgs', tol=0.0001, verbose=0,\n",
              "                   warm_start=False)"
            ]
          },
          "metadata": {},
          "execution_count": 56
        }
      ]
    },
    {
      "cell_type": "code",
      "metadata": {
        "id": "6CmyuesQjIV0"
      },
      "source": [
        "X"
      ],
      "execution_count": null,
      "outputs": []
    },
    {
      "cell_type": "code",
      "metadata": {
        "id": "d_hszvkJi_5M"
      },
      "source": [
        "X[:,1]"
      ],
      "execution_count": null,
      "outputs": []
    },
    {
      "cell_type": "code",
      "metadata": {
        "colab": {
          "base_uri": "https://localhost:8080/"
        },
        "id": "-aBk5tfpix91",
        "outputId": "c932daa0-d54a-446e-86ad-58243ba3a5cc"
      },
      "source": [
        "model.coef_"
      ],
      "execution_count": null,
      "outputs": [
        {
          "output_type": "execute_result",
          "data": {
            "text/plain": [
              "array([[9.30607554]])"
            ]
          },
          "metadata": {},
          "execution_count": 58
        }
      ]
    },
    {
      "cell_type": "code",
      "metadata": {
        "colab": {
          "base_uri": "https://localhost:8080/",
          "height": 265
        },
        "id": "JA8Gcux-fL1O",
        "outputId": "8a5ee6d2-4691-475d-acd5-807f8c8aec7b"
      },
      "source": [
        "plt.plot(range(1000), Y)\n",
        "\n",
        "prediction_value = model.predict(X)\n",
        "plt.plot(range(1000), prediction_value)\n",
        "\n",
        "plt.show()"
      ],
      "execution_count": null,
      "outputs": [
        {
          "output_type": "display_data",
          "data": {
            "image/png": "[encoded data removed]",
            "text/plain": [
              "<Figure size 432x288 with 1 Axes>"
            ]
          },
          "metadata": {
            "needs_background": "light"
          }
        }
      ]
    },
    {
      "cell_type": "code",
      "metadata": {
        "id": "3U4fIXnufQJL"
      },
      "source": [
        "# linear regression\n",
        "\n",
        "y = ax1 + bx2 + cx3 + dx4 + ... \n",
        "\n",
        "y = exp(ax+b) / (1+ exp(ax+b))\n",
        "\n"
      ],
      "execution_count": null,
      "outputs": []
    },
    {
      "cell_type": "code",
      "metadata": {
        "id": "2uIkjkrkfwRB"
      },
      "source": [
        "x = (np.array((range(1000))) - 500 )/50 # -10~10\n",
        "y = np.exp(x)/ (1+np.exp(x))\n",
        "\n",
        "# y = np.exp(ax+b) / (1+np.exp(ax+b))"
      ],
      "execution_count": null,
      "outputs": []
    },
    {
      "cell_type": "code",
      "metadata": {
        "colab": {
          "base_uri": "https://localhost:8080/",
          "height": 265
        },
        "id": "v0FAO3bdf7Yz",
        "outputId": "92a1eb73-ad96-4173-ef36-dff6f5b427a8"
      },
      "source": [
        "plt.plot(x,y)\n",
        "plt.show()"
      ],
      "execution_count": null,
      "outputs": [
        {
          "output_type": "display_data",
          "data": {
            "image/png": "[encoded data removed]",
            "text/plain": [
              "<Figure size 432x288 with 1 Axes>"
            ]
          },
          "metadata": {
            "needs_background": "light"
          }
        }
      ]
    },
    {
      "cell_type": "code",
      "metadata": {
        "id": "hpwHVQingJ7H"
      },
      "source": [
        ""
      ],
      "execution_count": null,
      "outputs": []
    }
  ]
}