{
  "nbformat": 4,
  "nbformat_minor": 0,
  "metadata": {
    "kernelspec": {
      "display_name": "Python 3",
      "language": "python",
      "name": "python3"
    },
    "language_info": {
      "codemirror_mode": {
        "name": "ipython",
        "version": 3
      },
      "file_extension": ".py",
      "mimetype": "text/x-python",
      "name": "python",
      "nbconvert_exporter": "python",
      "pygments_lexer": "ipython3",
      "version": "3.6.6"
    },
    "colab": {
      "name": "2nd_numpy_tutorial_for_beginners.ipynb",
      "provenance": [],
      "collapsed_sections": [
        "xQ5F1vIt8gYI"
      ],
      "include_colab_link": true
    }
  },
  "cells": [
    {
      "cell_type": "markdown",
      "metadata": {
        "id": "view-in-github",
        "colab_type": "text"
      },
      "source": [
        "<a href=\"https://colab.research.google.com/github/JeromeCheon/gcs_AIproject/blob/master/instructions/2nd_numpy_tutorial_for_beginners.ipynb\" target=\"_parent\"><img src=\"https://colab.research.google.com/assets/colab-badge.svg\" alt=\"Open In Colab\"/></a>"
      ]
    },
    {
      "cell_type": "markdown",
      "metadata": {
        "id": "_ZzKOcMa8gXo"
      },
      "source": [
        "<img src=\"https://upload.wikimedia.org/wikipedia/commons/thumb/1/1a/NumPy_logo.svg/1200px-NumPy_logo.svg.png\" alt=\"cce\" border=\"0\">"
      ]
    },
    {
      "cell_type": "markdown",
      "metadata": {
        "id": "pBDcoHTK8gXq"
      },
      "source": [
        "### Resources that help me prepare this kernel:\n",
        "\n",
        "* https://www.oreilly.com/library/view/python-data-science/9781491912126/"
      ]
    },
    {
      "cell_type": "markdown",
      "metadata": {
        "id": "hlaU73oL8gXr"
      },
      "source": [
        "\n",
        "### In this kernel, we will cover NumPy in detail.\n",
        "\n",
        "**Content:**\n",
        "\n",
        "1. [Introduction to NumPy](#1)\n",
        "2. [Understanding Data Types in Python](#2)\n",
        "      * [Creating Arrays from Scratch](#3)\n",
        "      * [NumPy Standard Data Types](#4)\n",
        "3. [The Basics of NumPy Arrays](#5)\n",
        "      * [NumPy Array Attributes](#6)\n",
        "      * [Array Indexing: Accessing Single Elements](#7)\n",
        "      * [Array Slicing: Accessing Subarrays](#8)\n",
        "         * 1- [One-dimensional subarrays](#43)  \n",
        "         * 2- [Multidimensional subarrays](#44)\n",
        "         * 3- [Accessing array rows and columns](#45)\n",
        "         * 4- [Subarrays as no-copy views](#46)\n",
        "         * 5- [Creating copies of arrays](#47)\n",
        "      * [Reshaping of Arrays](#9)\n",
        "      * [Array Concatenation and Splitting](#10)\n",
        "4. [Computation on NumPy Arrays: Universal Functions](#11)\n",
        "      * [Exploring NumPy’s UFuncs](#12)\n",
        "         * 1- [Array arithmetic](#13)  \n",
        "         * 2- [Exponents and logarithms](#14)\n",
        "         * 3- [Absolute value](#15)\n",
        "         * 4- [Trigonometric functions](#16)\n",
        "      * [Advanced Ufunc Features](#17)\n",
        "         * 1- [Specifying output](#18)  \n",
        "         * 2- [Aggregates](#19)\n",
        "         * 3- [Outer products](#20)\n",
        "5. [Aggregations: Min, Max, and Everything in Between](#21)\n",
        "      * [Summing the Values in an Array](#22)\n",
        "      * [Minimum and Maximum](#23)\n",
        "      * [Multidimensional aggregates](#24)\n",
        "6. [Computation on Arrays: Broadcasting](#25)\n",
        "      * [Introducing Broadcasting](#26)\n",
        "      * [Visualization of NumPy broadcasting](#27)\n",
        "      * [Broadcasting example 1](#28)\n",
        "      * [Broadcasting example 2](#29)\n",
        "      * [Broadcasting example 3](#30)\n",
        "7. [Comparisons, Masks, and Boolean Logic](#31)\n",
        "      * [Comparison Operators as ufuncs](#32)\n",
        "      * [Working with Boolean Arrays ](#33)\n",
        "8. [Fancy Indexing](#34)\n",
        "      * [Exploring Fancy Indexing](#35)   \n",
        "      * [Combined Indexing](#36) \n",
        "      * [Modifying Values with Fancy Indexing](#37)\n",
        "9. [Fancy Indexing](#38)\n",
        "      * [Fast Sorting in NumPy: np.sort and np.argsort](#39)   \n",
        "      * [Sorting along rows or columns](#40) \n",
        "      * [Partial Sorts: Partitioning](#41)\n",
        "10. [Conclusion](#42)   "
      ]
    },
    {
      "cell_type": "markdown",
      "metadata": {
        "id": "B3vV-JzW8gXr"
      },
      "source": [
        "<a id=\"1\"></a> <br>\n",
        "# Introduction to NumPy\n",
        "\n",
        "* NumPy is the fundamental package for scientific computing in Python"
      ]
    },
    {
      "cell_type": "code",
      "metadata": {
        "id": "i4Fmnfyo8gXs",
        "colab": {
          "base_uri": "https://localhost:8080/"
        },
        "outputId": "db65d654-bda8-4cef-9e8a-41d7bbefa41a"
      },
      "source": [
        "!pip install numpy\n",
        "import numpy as np"
      ],
      "execution_count": 1,
      "outputs": [
        {
          "output_type": "stream",
          "name": "stdout",
          "text": [
            "Requirement already satisfied: numpy in /usr/local/lib/python3.7/dist-packages (1.19.5)\n"
          ]
        }
      ]
    },
    {
      "cell_type": "code",
      "metadata": {
        "colab": {
          "base_uri": "https://localhost:8080/"
        },
        "id": "HFUpOPei8gXt",
        "outputId": "f8b00d4f-0e5a-48f6-e433-665acdb82b90"
      },
      "source": [
        "np.array([3.2,4,6,5])\n"
      ],
      "execution_count": 2,
      "outputs": [
        {
          "output_type": "execute_result",
          "data": {
            "text/plain": [
              "array([3.2, 4. , 6. , 5. ])"
            ]
          },
          "metadata": {},
          "execution_count": 2
        }
      ]
    },
    {
      "cell_type": "code",
      "metadata": {
        "colab": {
          "base_uri": "https://localhost:8080/"
        },
        "id": "HflUQCtx8gXt",
        "outputId": "a4142fa3-51f9-4eca-ee17-33f52393457b"
      },
      "source": [
        "np.array([1,4,2,5,3]) ## integer array:"
      ],
      "execution_count": 3,
      "outputs": [
        {
          "output_type": "execute_result",
          "data": {
            "text/plain": [
              "array([1, 4, 2, 5, 3])"
            ]
          },
          "metadata": {},
          "execution_count": 3
        }
      ]
    },
    {
      "cell_type": "markdown",
      "metadata": {
        "id": "FsgnbQ3O8gXu"
      },
      "source": [
        "<a id=\"2\"></a> <br>\n",
        "# Understanding Data Types in Python"
      ]
    },
    {
      "cell_type": "code",
      "metadata": {
        "colab": {
          "base_uri": "https://localhost:8080/"
        },
        "id": "y38UYo-L8gXu",
        "outputId": "26490379-60dc-4909-ee4f-1ac2f5c93c61"
      },
      "source": [
        "# 데이터 타입을 다음과 같이 dtype 옵션을 이용해서 지정해 줄 수 있다. \n",
        "np.array([1,2,3,4], dtype=\"str\")"
      ],
      "execution_count": 4,
      "outputs": [
        {
          "output_type": "execute_result",
          "data": {
            "text/plain": [
              "array(['1', '2', '3', '4'], dtype='<U1')"
            ]
          },
          "metadata": {},
          "execution_count": 4
        }
      ]
    },
    {
      "cell_type": "code",
      "metadata": {
        "colab": {
          "base_uri": "https://localhost:8080/"
        },
        "id": "A5RQ4dTR8gXv",
        "outputId": "86423249-2621-4d4f-f65a-84bd226e208b"
      },
      "source": [
        "np.array([3,6,2,3], dtype=\"float32\")"
      ],
      "execution_count": 5,
      "outputs": [
        {
          "output_type": "execute_result",
          "data": {
            "text/plain": [
              "array([3., 6., 2., 3.], dtype=float32)"
            ]
          },
          "metadata": {},
          "execution_count": 5
        }
      ]
    },
    {
      "cell_type": "code",
      "metadata": {
        "colab": {
          "base_uri": "https://localhost:8080/"
        },
        "id": "LlqnN0OuIANl",
        "outputId": "c0cd3a77-39ef-46f0-e2ac-f3dc07eaacc3"
      },
      "source": [
        "# 이렇게 range를 갖는 원소를 만들어서 이에 대한 list 를 생성할 수 있음 \n",
        "[range(i,i+3) for i in [2,4,6]]"
      ],
      "execution_count": null,
      "outputs": [
        {
          "output_type": "execute_result",
          "data": {
            "text/plain": [
              "[range(2, 5), range(4, 7), range(6, 9)]"
            ]
          },
          "metadata": {},
          "execution_count": 11
        }
      ]
    },
    {
      "cell_type": "code",
      "metadata": {
        "colab": {
          "base_uri": "https://localhost:8080/"
        },
        "id": "C_0-XOcY8gXv",
        "outputId": "4fe16b78-7203-4ed9-fcc7-a9484c440d1f"
      },
      "source": [
        "# nested lists result in multidimensional arrays\n",
        "\n",
        "np.array([range(i,i+3) for i in [2,4,6]])\n",
        "np.array([[2,3,4], [4,5,6], [7,8,9]])"
      ],
      "execution_count": 6,
      "outputs": [
        {
          "output_type": "execute_result",
          "data": {
            "text/plain": [
              "array([[2, 3, 4],\n",
              "       [4, 5, 6],\n",
              "       [7, 8, 9]])"
            ]
          },
          "metadata": {},
          "execution_count": 6
        }
      ]
    },
    {
      "cell_type": "markdown",
      "metadata": {
        "id": "9mql9wCU8gXv"
      },
      "source": [
        "<a id=\"3\"></a> <br>\n",
        "### Creating Arrays from Scratch"
      ]
    },
    {
      "cell_type": "code",
      "metadata": {
        "id": "Wiq6BLxl8gXv",
        "colab": {
          "base_uri": "https://localhost:8080/"
        },
        "outputId": "768b9e15-3b59-40f7-c668-72b147818559"
      },
      "source": [
        "# Create a length-10 integer array filled with zeros\n",
        "\n",
        "np.zeros(10, dtype=\"int\") "
      ],
      "execution_count": 7,
      "outputs": [
        {
          "output_type": "execute_result",
          "data": {
            "text/plain": [
              "array([0, 0, 0, 0, 0, 0, 0, 0, 0, 0])"
            ]
          },
          "metadata": {},
          "execution_count": 7
        }
      ]
    },
    {
      "cell_type": "code",
      "metadata": {
        "id": "40nUpivb8gXw",
        "colab": {
          "base_uri": "https://localhost:8080/"
        },
        "outputId": "725267f0-f7a3-4811-cbeb-c201ad3cd249"
      },
      "source": [
        "# 3 x 3 영행렬 생성\n",
        "np.zeros((3,3,3), dtype=\"float\")"
      ],
      "execution_count": 9,
      "outputs": [
        {
          "output_type": "execute_result",
          "data": {
            "text/plain": [
              "array([[[0., 0., 0.],\n",
              "        [0., 0., 0.],\n",
              "        [0., 0., 0.]],\n",
              "\n",
              "       [[0., 0., 0.],\n",
              "        [0., 0., 0.],\n",
              "        [0., 0., 0.]],\n",
              "\n",
              "       [[0., 0., 0.],\n",
              "        [0., 0., 0.],\n",
              "        [0., 0., 0.]]])"
            ]
          },
          "metadata": {},
          "execution_count": 9
        }
      ]
    },
    {
      "cell_type": "code",
      "metadata": {
        "id": "TFf3Ddpa8gXw",
        "colab": {
          "base_uri": "https://localhost:8080/"
        },
        "outputId": "debe7236-223b-4ab0-cc9f-96716400cd17"
      },
      "source": [
        "# Create a 3x5 floating-point array filled with 1s\n",
        "\n",
        "np.ones((3,5), dtype=\"float\")"
      ],
      "execution_count": 10,
      "outputs": [
        {
          "output_type": "execute_result",
          "data": {
            "text/plain": [
              "array([[1., 1., 1., 1., 1.],\n",
              "       [1., 1., 1., 1., 1.],\n",
              "       [1., 1., 1., 1., 1.]])"
            ]
          },
          "metadata": {},
          "execution_count": 10
        }
      ]
    },
    {
      "cell_type": "code",
      "metadata": {
        "id": "k4MCf_IU8gXw",
        "colab": {
          "base_uri": "https://localhost:8080/"
        },
        "outputId": "8506f33a-d5db-4a7b-be0f-6e488cdae36f"
      },
      "source": [
        "# Create a 3x5 array filled with 3.14\n",
        "np.full((3,5), 3.14)"
      ],
      "execution_count": 11,
      "outputs": [
        {
          "output_type": "execute_result",
          "data": {
            "text/plain": [
              "array([[3.14, 3.14, 3.14, 3.14, 3.14],\n",
              "       [3.14, 3.14, 3.14, 3.14, 3.14],\n",
              "       [3.14, 3.14, 3.14, 3.14, 3.14]])"
            ]
          },
          "metadata": {},
          "execution_count": 11
        }
      ]
    },
    {
      "cell_type": "code",
      "metadata": {
        "id": "eyuX1JiS8gXx",
        "colab": {
          "base_uri": "https://localhost:8080/"
        },
        "outputId": "d0f791ca-888a-4925-8b76-98a75574d6c1"
      },
      "source": [
        "# Create an array filled with a linear sequence\n",
        "# Starting at 0, ending at 20, stepping by 2\n",
        "# (this is similar to the built-in range() function)\n",
        "\n",
        "np.arange(0,20,2)"
      ],
      "execution_count": 12,
      "outputs": [
        {
          "output_type": "execute_result",
          "data": {
            "text/plain": [
              "array([ 0,  2,  4,  6,  8, 10, 12, 14, 16, 18])"
            ]
          },
          "metadata": {},
          "execution_count": 12
        }
      ]
    },
    {
      "cell_type": "code",
      "metadata": {
        "id": "bWPfySQ-8gXz",
        "colab": {
          "base_uri": "https://localhost:8080/"
        },
        "outputId": "7d4b32d8-5255-4a4a-8de5-9079491c8616"
      },
      "source": [
        "# Create an array of five values evenly spaced between 0 and 1\n",
        "np.linspace(0,1,100)"
      ],
      "execution_count": 13,
      "outputs": [
        {
          "output_type": "execute_result",
          "data": {
            "text/plain": [
              "array([0.        , 0.01010101, 0.02020202, 0.03030303, 0.04040404,\n",
              "       0.05050505, 0.06060606, 0.07070707, 0.08080808, 0.09090909,\n",
              "       0.1010101 , 0.11111111, 0.12121212, 0.13131313, 0.14141414,\n",
              "       0.15151515, 0.16161616, 0.17171717, 0.18181818, 0.19191919,\n",
              "       0.2020202 , 0.21212121, 0.22222222, 0.23232323, 0.24242424,\n",
              "       0.25252525, 0.26262626, 0.27272727, 0.28282828, 0.29292929,\n",
              "       0.3030303 , 0.31313131, 0.32323232, 0.33333333, 0.34343434,\n",
              "       0.35353535, 0.36363636, 0.37373737, 0.38383838, 0.39393939,\n",
              "       0.4040404 , 0.41414141, 0.42424242, 0.43434343, 0.44444444,\n",
              "       0.45454545, 0.46464646, 0.47474747, 0.48484848, 0.49494949,\n",
              "       0.50505051, 0.51515152, 0.52525253, 0.53535354, 0.54545455,\n",
              "       0.55555556, 0.56565657, 0.57575758, 0.58585859, 0.5959596 ,\n",
              "       0.60606061, 0.61616162, 0.62626263, 0.63636364, 0.64646465,\n",
              "       0.65656566, 0.66666667, 0.67676768, 0.68686869, 0.6969697 ,\n",
              "       0.70707071, 0.71717172, 0.72727273, 0.73737374, 0.74747475,\n",
              "       0.75757576, 0.76767677, 0.77777778, 0.78787879, 0.7979798 ,\n",
              "       0.80808081, 0.81818182, 0.82828283, 0.83838384, 0.84848485,\n",
              "       0.85858586, 0.86868687, 0.87878788, 0.88888889, 0.8989899 ,\n",
              "       0.90909091, 0.91919192, 0.92929293, 0.93939394, 0.94949495,\n",
              "       0.95959596, 0.96969697, 0.97979798, 0.98989899, 1.        ])"
            ]
          },
          "metadata": {},
          "execution_count": 13
        }
      ]
    },
    {
      "cell_type": "code",
      "metadata": {
        "id": "q9PfUWsI8gXz",
        "colab": {
          "base_uri": "https://localhost:8080/"
        },
        "outputId": "d7810636-3f3d-4199-e28f-9f6f58dd3230"
      },
      "source": [
        "# Create a 3x3 array of uniformly distributed\n",
        "# random values between 0 and 1\n",
        "\n",
        "np.random.random((3,3))"
      ],
      "execution_count": 14,
      "outputs": [
        {
          "output_type": "execute_result",
          "data": {
            "text/plain": [
              "array([[0.88838518, 0.15280967, 0.68800881],\n",
              "       [0.27586775, 0.49234631, 0.8296056 ],\n",
              "       [0.58389826, 0.93954382, 0.03775906]])"
            ]
          },
          "metadata": {},
          "execution_count": 14
        }
      ]
    },
    {
      "cell_type": "code",
      "metadata": {
        "id": "nXqsclqb8gXz",
        "colab": {
          "base_uri": "https://localhost:8080/"
        },
        "outputId": "719ed60e-9973-4651-a92b-a7ceaed04a5f"
      },
      "source": [
        "# Create a 3x3 array of normally distributed random values\n",
        "# with mean 0 and standard deviation 1\n",
        "\n",
        "np.random.normal(0,1,(3,3))"
      ],
      "execution_count": 15,
      "outputs": [
        {
          "output_type": "execute_result",
          "data": {
            "text/plain": [
              "array([[-0.82825345, -1.77047055,  1.17156305],\n",
              "       [-0.91433101,  1.07426074,  1.47995225],\n",
              "       [ 0.33554647, -1.66435378, -0.53105951]])"
            ]
          },
          "metadata": {},
          "execution_count": 15
        }
      ]
    },
    {
      "cell_type": "code",
      "metadata": {
        "id": "JAFxh-F18gX0",
        "colab": {
          "base_uri": "https://localhost:8080/"
        },
        "outputId": "247dd1f5-4222-42cc-811d-85101ae989da"
      },
      "source": [
        "# Create a 3x3 array of random integers in the interval [0, 10)\n",
        "\n",
        "np.random.randint(0,10,(3,3))"
      ],
      "execution_count": 16,
      "outputs": [
        {
          "output_type": "execute_result",
          "data": {
            "text/plain": [
              "array([[3, 2, 0],\n",
              "       [6, 5, 3],\n",
              "       [2, 8, 0]])"
            ]
          },
          "metadata": {},
          "execution_count": 16
        }
      ]
    },
    {
      "cell_type": "code",
      "metadata": {
        "id": "6LBsz7tX8gX0",
        "colab": {
          "base_uri": "https://localhost:8080/"
        },
        "outputId": "2611507e-13c2-49ac-bc6e-de70dbea87ba"
      },
      "source": [
        "# Create a 3x3 identity matrix\n",
        "\n",
        "np.eye(3)"
      ],
      "execution_count": 17,
      "outputs": [
        {
          "output_type": "execute_result",
          "data": {
            "text/plain": [
              "array([[1., 0., 0.],\n",
              "       [0., 1., 0.],\n",
              "       [0., 0., 1.]])"
            ]
          },
          "metadata": {},
          "execution_count": 17
        }
      ]
    },
    {
      "cell_type": "markdown",
      "metadata": {
        "id": "D3xduqMX8gX0"
      },
      "source": [
        "<a id=\"4\"></a> <br>\n",
        "### NumPy Standard Data Types"
      ]
    },
    {
      "cell_type": "code",
      "metadata": {
        "colab": {
          "base_uri": "https://localhost:8080/"
        },
        "id": "SzzIG69w8gX0",
        "outputId": "97fd360c-e971-443d-ccf7-46ed7f349247"
      },
      "source": [
        "#Return a new array of given shape and type, with random values\n",
        "\n",
        "np.empty((3,3),dtype=\"int\")"
      ],
      "execution_count": 18,
      "outputs": [
        {
          "output_type": "execute_result",
          "data": {
            "text/plain": [
              "array([[4607182418800017408,                   0,                   0],\n",
              "       [                  0, 4607182418800017408,                   0],\n",
              "       [                  0,                   0, 4607182418800017408]])"
            ]
          },
          "metadata": {},
          "execution_count": 18
        }
      ]
    },
    {
      "cell_type": "code",
      "metadata": {
        "colab": {
          "base_uri": "https://localhost:8080/"
        },
        "id": "b716E9dA8gX0",
        "outputId": "7c5d7057-d649-4a61-a039-207da275b2c9"
      },
      "source": [
        "np.zeros(10,dtype=\"int16\")"
      ],
      "execution_count": 19,
      "outputs": [
        {
          "output_type": "execute_result",
          "data": {
            "text/plain": [
              "array([0, 0, 0, 0, 0, 0, 0, 0, 0, 0], dtype=int16)"
            ]
          },
          "metadata": {},
          "execution_count": 19
        }
      ]
    },
    {
      "cell_type": "code",
      "metadata": {
        "colab": {
          "base_uri": "https://localhost:8080/"
        },
        "id": "4CdPE4p98gX1",
        "outputId": "81092ec0-65cf-4a15-bffd-94a931b4bd39"
      },
      "source": [
        "#or using the associated NumPy object:\n",
        "\n",
        "np.zeros(10,dtype=np.int16)"
      ],
      "execution_count": 20,
      "outputs": [
        {
          "output_type": "execute_result",
          "data": {
            "text/plain": [
              "array([0, 0, 0, 0, 0, 0, 0, 0, 0, 0], dtype=int16)"
            ]
          },
          "metadata": {},
          "execution_count": 20
        }
      ]
    },
    {
      "cell_type": "markdown",
      "metadata": {
        "id": "R-rh-8EO8gX1"
      },
      "source": [
        "<img src=\"https://1.bp.blogspot.com/-xrnk-4zD2Ac/W1LCbjrSjjI/AAAAAAAAXUY/8QJ0AZBxsQ0h6BgUV4kml0NqIO_hOs2KwCLcBGAs/s1600/4212_t2-1.PNG\" alt=\"cce\" border=\"0\">"
      ]
    },
    {
      "cell_type": "markdown",
      "metadata": {
        "id": "JOygCEYp8gX1"
      },
      "source": [
        "<a id=\"5\"></a> <br>\n",
        "# The Basics of NumPy Arrays"
      ]
    },
    {
      "cell_type": "markdown",
      "metadata": {
        "id": "5ACvMH3f8gX1"
      },
      "source": [
        "* **We’ll cover a few categories of basic array manipulations here:**\n",
        "* Attributes of arrays\n",
        "   * Determining the size, shape, memory consumption, and data types of arrays\n",
        "* Indexing of arrays\n",
        "   * Getting and setting the value of individual array elements\n",
        "* Slicing of arrays\n",
        "   * Getting and setting smaller subarrays within a larger array\n",
        "* Reshaping of arrays\n",
        "   * Changing the shape of a given array\n",
        "* Joining and splitting of arrays\n",
        "   * Combining multiple arrays into one, and splitting one array into many"
      ]
    },
    {
      "cell_type": "markdown",
      "metadata": {
        "id": "4wHjhv5x8gX1"
      },
      "source": [
        "<a id=\"6\"></a> <br>\n",
        "### NumPy Array Attributes"
      ]
    },
    {
      "cell_type": "code",
      "metadata": {
        "id": "jmClvQD28gX2"
      },
      "source": [
        "#NumPy Array Attributes\n",
        "#We’ll use NumPy’s random number generator, which we will seed with a set value in order to ensure that the same random arrays are generated each time this code is run:\n",
        "\n",
        "np.random.seed(0) # seed for reproducibility\n",
        "x1 = np.random.randint(10, size=6) # One-dimensional array"
      ],
      "execution_count": 21,
      "outputs": []
    },
    {
      "cell_type": "code",
      "metadata": {
        "id": "vC0eL0ov8gX2",
        "colab": {
          "base_uri": "https://localhost:8080/"
        },
        "outputId": "97f4f3be-a9f6-402b-8999-8f18d10cd26a"
      },
      "source": [
        "#Each array has attributes ndim (the number of dimensions), shape (the size of each dimension), and size (the total size of the array):\n",
        "\n",
        "np.random.seed(0) # seed for reproducibility\n",
        "x1 = np.random.randint(10, size=6) #it's same ((np.random.randint((0,10), size=6))) # One-dimensional array\n",
        "x2 = np.random.randint(10, size=(3,4)) # Two-dimensional array\n",
        "x3 = np.random.randint(10, size=(3,4,5)) # Three-dimensional array\n",
        "\n",
        "print(\"x1 ndim: \",x1.ndim)\n",
        "print(\"x1 shape: \",x1.shape)\n",
        "print(\"x1 size: \",x1.size) #totaly,6 elements\n",
        "\n",
        "print(\"x1 ndim: \",x2.ndim)\n",
        "print(\"x1 shape: \",x2.shape)\n",
        "print(\"x1 size: \",x2.size) #totaly,12 elements\n",
        "\n",
        "print(\"x1 ndim: \",x3.ndim)\n",
        "print(\"x1 shape: \",x3.shape)\n",
        "print(\"x1 size: \",x3.size)#totaly,60 elements\n",
        "\n",
        "print(\"dtype: \",x1.dtype) #the data type of the array\n",
        "# Other attributes include itemsize, which lists the size (in bytes) of each array element,\n",
        "# and nbytes, which lists the total size (in bytes) of the array:\n",
        "print(\"itemsize:\",x1.itemsize,\"bytes\")\n",
        "print(\"nbytes:\",x1.nbytes,\"bytes\")\n",
        "\n",
        "print(\"dtype: \",x2.dtype) #the data type of the array\n",
        "print(\"itemsize:\",x2.itemsize,\"bytes\")\n",
        "print(\"nbytes:\",x2.nbytes,\"bytes\")\n",
        "\n",
        "print(\"dtype: \",x3.dtype) #the data type of the array\n",
        "print(\"itemsize:\",x3.itemsize,\"bytes\")\n",
        "print(\"nbytes:\",x3.nbytes,\"bytes\") \n",
        "\n",
        "#In general, we expect that nbytes is equal to itemsize times size."
      ],
      "execution_count": 22,
      "outputs": [
        {
          "output_type": "stream",
          "name": "stdout",
          "text": [
            "x1 ndim:  1\n",
            "x1 shape:  (6,)\n",
            "x1 size:  6\n",
            "x1 ndim:  2\n",
            "x1 shape:  (3, 4)\n",
            "x1 size:  12\n",
            "x1 ndim:  3\n",
            "x1 shape:  (3, 4, 5)\n",
            "x1 size:  60\n",
            "dtype:  int64\n",
            "itemsize: 8 bytes\n",
            "nbytes: 48 bytes\n",
            "dtype:  int64\n",
            "itemsize: 8 bytes\n",
            "nbytes: 96 bytes\n",
            "dtype:  int64\n",
            "itemsize: 8 bytes\n",
            "nbytes: 480 bytes\n"
          ]
        }
      ]
    },
    {
      "cell_type": "markdown",
      "metadata": {
        "id": "9ckFipRM8gX2"
      },
      "source": [
        "<a id=\"7\"></a> <br>\n",
        "### Array Indexing: Accessing Single Elements"
      ]
    },
    {
      "cell_type": "markdown",
      "metadata": {
        "id": "ag-QBQ_A8gX2"
      },
      "source": [
        "* If you are familiar with Python’s standard list indexing, indexing in NumPy will feel\n",
        "quite familiar. In a one-dimensional array, you can access the ith value (counting from\n",
        "zero) by specifying the desired index in square brackets, just as with Python lists:"
      ]
    },
    {
      "cell_type": "code",
      "metadata": {
        "id": "VKjnhkLI8gX2",
        "colab": {
          "base_uri": "https://localhost:8080/"
        },
        "outputId": "9601fbfd-0f99-4b37-974d-c46ac8ed4973"
      },
      "source": [
        "x1"
      ],
      "execution_count": 23,
      "outputs": [
        {
          "output_type": "execute_result",
          "data": {
            "text/plain": [
              "array([5, 0, 3, 3, 7, 9])"
            ]
          },
          "metadata": {},
          "execution_count": 23
        }
      ]
    },
    {
      "cell_type": "code",
      "metadata": {
        "id": "jgVhC9P48gX2",
        "colab": {
          "base_uri": "https://localhost:8080/"
        },
        "outputId": "3bb19dbc-4279-46f5-af7e-2c3c04c94266"
      },
      "source": [
        "x1[0]"
      ],
      "execution_count": 24,
      "outputs": [
        {
          "output_type": "execute_result",
          "data": {
            "text/plain": [
              "5"
            ]
          },
          "metadata": {},
          "execution_count": 24
        }
      ]
    },
    {
      "cell_type": "code",
      "metadata": {
        "id": "apSooAp68gX3",
        "colab": {
          "base_uri": "https://localhost:8080/"
        },
        "outputId": "313961df-278f-4fd5-aeaa-43d61d715221"
      },
      "source": [
        "x1[4]"
      ],
      "execution_count": 25,
      "outputs": [
        {
          "output_type": "execute_result",
          "data": {
            "text/plain": [
              "7"
            ]
          },
          "metadata": {},
          "execution_count": 25
        }
      ]
    },
    {
      "cell_type": "code",
      "metadata": {
        "id": "dANomBl18gX3",
        "colab": {
          "base_uri": "https://localhost:8080/"
        },
        "outputId": "d26b1791-e1e1-4e5e-cb1f-281660f7e5cc"
      },
      "source": [
        "#To index from the end of the array, you can use negative indices:\n",
        "\n",
        "x1[-1]"
      ],
      "execution_count": 26,
      "outputs": [
        {
          "output_type": "execute_result",
          "data": {
            "text/plain": [
              "9"
            ]
          },
          "metadata": {},
          "execution_count": 26
        }
      ]
    },
    {
      "cell_type": "code",
      "metadata": {
        "id": "QnA8Ehav8gX3",
        "colab": {
          "base_uri": "https://localhost:8080/"
        },
        "outputId": "aa0d3ce8-9ad9-4cab-b119-2e834a233473"
      },
      "source": [
        "x1[-2]"
      ],
      "execution_count": 27,
      "outputs": [
        {
          "output_type": "execute_result",
          "data": {
            "text/plain": [
              "7"
            ]
          },
          "metadata": {},
          "execution_count": 27
        }
      ]
    },
    {
      "cell_type": "markdown",
      "metadata": {
        "id": "fJbCZ7Qu8gX3"
      },
      "source": [
        "* In a multidimensional array, you access items using a comma-separated tuple of indices:"
      ]
    },
    {
      "cell_type": "code",
      "metadata": {
        "id": "ee8no2aK8gX3",
        "colab": {
          "base_uri": "https://localhost:8080/"
        },
        "outputId": "8e8c1b21-a5cb-4c4a-9bd1-f8e20face64d"
      },
      "source": [
        "x2"
      ],
      "execution_count": 28,
      "outputs": [
        {
          "output_type": "execute_result",
          "data": {
            "text/plain": [
              "array([[3, 5, 2, 4],\n",
              "       [7, 6, 8, 8],\n",
              "       [1, 6, 7, 7]])"
            ]
          },
          "metadata": {},
          "execution_count": 28
        }
      ]
    },
    {
      "cell_type": "code",
      "metadata": {
        "id": "A7c2H_g78gX3",
        "colab": {
          "base_uri": "https://localhost:8080/"
        },
        "outputId": "0a424c04-8e76-4b4a-a4ab-eeb60f6a1446"
      },
      "source": [
        "x2[2,1]"
      ],
      "execution_count": 29,
      "outputs": [
        {
          "output_type": "execute_result",
          "data": {
            "text/plain": [
              "6"
            ]
          },
          "metadata": {},
          "execution_count": 29
        }
      ]
    },
    {
      "cell_type": "code",
      "metadata": {
        "id": "3HSLXjXf8gX3",
        "colab": {
          "base_uri": "https://localhost:8080/"
        },
        "outputId": "316662b2-60a8-406e-9010-1cefbc93736a"
      },
      "source": [
        "x2[2,0]"
      ],
      "execution_count": 30,
      "outputs": [
        {
          "output_type": "execute_result",
          "data": {
            "text/plain": [
              "1"
            ]
          },
          "metadata": {},
          "execution_count": 30
        }
      ]
    },
    {
      "cell_type": "code",
      "metadata": {
        "id": "v9qlYP1e8gX3",
        "colab": {
          "base_uri": "https://localhost:8080/"
        },
        "outputId": "5efbe19a-4a61-4751-85ff-d8a3865a5b62"
      },
      "source": [
        "x2[2,-4]"
      ],
      "execution_count": 31,
      "outputs": [
        {
          "output_type": "execute_result",
          "data": {
            "text/plain": [
              "1"
            ]
          },
          "metadata": {},
          "execution_count": 31
        }
      ]
    },
    {
      "cell_type": "code",
      "metadata": {
        "id": "sdrXIiIn8gX4",
        "colab": {
          "base_uri": "https://localhost:8080/"
        },
        "outputId": "2dad7fc7-7260-4194-dacb-1f1242d037b7"
      },
      "source": [
        "x2[-2,-3]"
      ],
      "execution_count": 32,
      "outputs": [
        {
          "output_type": "execute_result",
          "data": {
            "text/plain": [
              "6"
            ]
          },
          "metadata": {},
          "execution_count": 32
        }
      ]
    },
    {
      "cell_type": "code",
      "metadata": {
        "id": "1Nv7UWR-8gX4",
        "colab": {
          "base_uri": "https://localhost:8080/"
        },
        "outputId": "86ff0acb-b180-4014-8e49-bf04ed1a30c2"
      },
      "source": [
        "#You can also modify values using any of the above index notation:\n",
        "\n",
        "x2[0,0]=12\n",
        "x2"
      ],
      "execution_count": 33,
      "outputs": [
        {
          "output_type": "execute_result",
          "data": {
            "text/plain": [
              "array([[12,  5,  2,  4],\n",
              "       [ 7,  6,  8,  8],\n",
              "       [ 1,  6,  7,  7]])"
            ]
          },
          "metadata": {},
          "execution_count": 33
        }
      ]
    },
    {
      "cell_type": "code",
      "metadata": {
        "id": "YmJunbx58gX4",
        "colab": {
          "base_uri": "https://localhost:8080/"
        },
        "outputId": "95f58220-7ffa-400c-9557-80ba05db59f2"
      },
      "source": [
        "x1"
      ],
      "execution_count": 34,
      "outputs": [
        {
          "output_type": "execute_result",
          "data": {
            "text/plain": [
              "array([5, 0, 3, 3, 7, 9])"
            ]
          },
          "metadata": {},
          "execution_count": 34
        }
      ]
    },
    {
      "cell_type": "code",
      "metadata": {
        "id": "CWYm-rFk8gX4",
        "colab": {
          "base_uri": "https://localhost:8080/"
        },
        "outputId": "733e34fb-bb04-4fb4-f92f-396489e984e0"
      },
      "source": [
        "x1[0] = 3.14159 # this will be truncated!\n",
        "x1"
      ],
      "execution_count": 35,
      "outputs": [
        {
          "output_type": "execute_result",
          "data": {
            "text/plain": [
              "array([3, 0, 3, 3, 7, 9])"
            ]
          },
          "metadata": {},
          "execution_count": 35
        }
      ]
    },
    {
      "cell_type": "markdown",
      "metadata": {
        "id": "kqNx67b38gX4"
      },
      "source": [
        "<a id=\"8\"></a> <br>\n",
        "### Array Slicing: Accessing Subarrays"
      ]
    },
    {
      "cell_type": "markdown",
      "metadata": {
        "id": "526IiPwx8gX4"
      },
      "source": [
        "* Just as we can use square brackets to access individual array elements, we can also use\n",
        "them to access subarrays with the slice notation, marked by the colon (:) character.\n",
        "The NumPy slicing syntax follows that of the standard Python list; to access a slice of\n",
        "an array x, use this:\n",
        "* x[start:stop:step]\n",
        "* If any of these are unspecified, they default to the values start=0, stop=size of\n",
        "dimension, step=1. We’ll take a look at accessing subarrays in one dimension and in\n",
        "multiple dimensions."
      ]
    },
    {
      "cell_type": "markdown",
      "metadata": {
        "id": "sVl8Wze28gX4"
      },
      "source": [
        "<a id=\"43\"></a> <br>\n",
        "#### One-dimensional subarrays"
      ]
    },
    {
      "cell_type": "code",
      "metadata": {
        "id": "1ka0UGs_8gX4",
        "colab": {
          "base_uri": "https://localhost:8080/"
        },
        "outputId": "b2fe65fe-ed4d-49cf-a006-45186baee2fc"
      },
      "source": [
        "x = np.arange(10)\n",
        "x"
      ],
      "execution_count": 64,
      "outputs": [
        {
          "output_type": "execute_result",
          "data": {
            "text/plain": [
              "array([0, 1, 2, 3, 4, 5, 6, 7, 8, 9])"
            ]
          },
          "metadata": {},
          "execution_count": 64
        }
      ]
    },
    {
      "cell_type": "code",
      "metadata": {
        "id": "sUvarVen8gX5",
        "colab": {
          "base_uri": "https://localhost:8080/"
        },
        "outputId": "734b82b1-ac42-41c0-92e4-9f5a745d571d"
      },
      "source": [
        "x[:5] # first five elements"
      ],
      "execution_count": 65,
      "outputs": [
        {
          "output_type": "execute_result",
          "data": {
            "text/plain": [
              "array([0, 1, 2, 3, 4])"
            ]
          },
          "metadata": {},
          "execution_count": 65
        }
      ]
    },
    {
      "cell_type": "code",
      "metadata": {
        "id": "GK_2G1kd8gX5",
        "colab": {
          "base_uri": "https://localhost:8080/"
        },
        "outputId": "1ed071e8-2acc-45bd-c4f5-a14395145c6f"
      },
      "source": [
        "x[5:] # elements after index 5"
      ],
      "execution_count": 66,
      "outputs": [
        {
          "output_type": "execute_result",
          "data": {
            "text/plain": [
              "array([5, 6, 7, 8, 9])"
            ]
          },
          "metadata": {},
          "execution_count": 66
        }
      ]
    },
    {
      "cell_type": "code",
      "metadata": {
        "id": "KKOT5Alq8gX5",
        "colab": {
          "base_uri": "https://localhost:8080/"
        },
        "outputId": "babb94fb-aa8d-431d-db6b-5291fb04f507"
      },
      "source": [
        "x[4:7]# middle subarray"
      ],
      "execution_count": 67,
      "outputs": [
        {
          "output_type": "execute_result",
          "data": {
            "text/plain": [
              "array([4, 5, 6])"
            ]
          },
          "metadata": {},
          "execution_count": 67
        }
      ]
    },
    {
      "cell_type": "code",
      "metadata": {
        "id": "kwGpCZ3w8gX5",
        "colab": {
          "base_uri": "https://localhost:8080/"
        },
        "outputId": "18953465-2e12-47fc-8f06-4c72f65532bf"
      },
      "source": [
        "x[::2] # every other element"
      ],
      "execution_count": 68,
      "outputs": [
        {
          "output_type": "execute_result",
          "data": {
            "text/plain": [
              "array([0, 2, 4, 6, 8])"
            ]
          },
          "metadata": {},
          "execution_count": 68
        }
      ]
    },
    {
      "cell_type": "code",
      "metadata": {
        "id": "MCWGqnxB8gX5",
        "colab": {
          "base_uri": "https://localhost:8080/"
        },
        "outputId": "6443c07b-844d-4513-bc4d-60c8214dfce7"
      },
      "source": [
        "x[1::2] #every other element, starting at index 1"
      ],
      "execution_count": 69,
      "outputs": [
        {
          "output_type": "execute_result",
          "data": {
            "text/plain": [
              "array([1, 3, 5, 7, 9])"
            ]
          },
          "metadata": {},
          "execution_count": 69
        }
      ]
    },
    {
      "cell_type": "code",
      "metadata": {
        "id": "MBBPKh3I8gX5",
        "colab": {
          "base_uri": "https://localhost:8080/"
        },
        "outputId": "f0217ea9-4b0b-47ce-b369-72269eea536a"
      },
      "source": [
        "x[-7:-2:2]"
      ],
      "execution_count": 70,
      "outputs": [
        {
          "output_type": "execute_result",
          "data": {
            "text/plain": [
              "array([3, 5, 7])"
            ]
          },
          "metadata": {},
          "execution_count": 70
        }
      ]
    },
    {
      "cell_type": "code",
      "metadata": {
        "id": "Dkqj4sDb8gX5",
        "colab": {
          "base_uri": "https://localhost:8080/"
        },
        "outputId": "8049ba0b-cd4c-411b-d70b-39327e0f5941"
      },
      "source": [
        "x[-4:-2:1]"
      ],
      "execution_count": 71,
      "outputs": [
        {
          "output_type": "execute_result",
          "data": {
            "text/plain": [
              "array([6, 7])"
            ]
          },
          "metadata": {},
          "execution_count": 71
        }
      ]
    },
    {
      "cell_type": "code",
      "metadata": {
        "id": "AMaYjZTO8gX5",
        "colab": {
          "base_uri": "https://localhost:8080/"
        },
        "outputId": "adbfab40-f3ea-40c8-b148-e054bfea3e94"
      },
      "source": [
        "# A potentially confusing case is when the step value is negative. In this case, the\n",
        "# defaults for start and stop are swapped. This becomes a convenient way to reverse\n",
        "# an array:\n",
        "\n",
        "x[::-1] # all elements, reversed"
      ],
      "execution_count": 72,
      "outputs": [
        {
          "output_type": "execute_result",
          "data": {
            "text/plain": [
              "array([9, 8, 7, 6, 5, 4, 3, 2, 1, 0])"
            ]
          },
          "metadata": {},
          "execution_count": 72
        }
      ]
    },
    {
      "cell_type": "code",
      "metadata": {
        "id": "At1wsq0l8gX6",
        "colab": {
          "base_uri": "https://localhost:8080/"
        },
        "outputId": "ad261d3c-d615-445b-b638-8a771b611dac"
      },
      "source": [
        "x[5::-2]# reversed every other from index 5"
      ],
      "execution_count": 73,
      "outputs": [
        {
          "output_type": "execute_result",
          "data": {
            "text/plain": [
              "array([5, 3, 1])"
            ]
          },
          "metadata": {},
          "execution_count": 73
        }
      ]
    },
    {
      "cell_type": "code",
      "metadata": {
        "id": "uZuWyvEA8gX6",
        "colab": {
          "base_uri": "https://localhost:8080/"
        },
        "outputId": "661c85c1-98fc-46a8-ea43-13f9691c4e45"
      },
      "source": [
        "x[5:1:-2]"
      ],
      "execution_count": 74,
      "outputs": [
        {
          "output_type": "execute_result",
          "data": {
            "text/plain": [
              "array([5, 3])"
            ]
          },
          "metadata": {},
          "execution_count": 74
        }
      ]
    },
    {
      "cell_type": "code",
      "metadata": {
        "id": "BsoXsp8C8gX6",
        "colab": {
          "base_uri": "https://localhost:8080/"
        },
        "outputId": "030fd697-1bf7-4f46-e3dc-7191625f21cb"
      },
      "source": [
        "x[5:-8:-1]"
      ],
      "execution_count": 75,
      "outputs": [
        {
          "output_type": "execute_result",
          "data": {
            "text/plain": [
              "array([5, 4, 3])"
            ]
          },
          "metadata": {},
          "execution_count": 75
        }
      ]
    },
    {
      "cell_type": "code",
      "metadata": {
        "id": "AniomAkc8gX6",
        "colab": {
          "base_uri": "https://localhost:8080/"
        },
        "outputId": "5b582b70-e072-4af3-b6b9-9d6d3a62c438"
      },
      "source": [
        "x[7:-6:-1]"
      ],
      "execution_count": 76,
      "outputs": [
        {
          "output_type": "execute_result",
          "data": {
            "text/plain": [
              "array([7, 6, 5])"
            ]
          },
          "metadata": {},
          "execution_count": 76
        }
      ]
    },
    {
      "cell_type": "code",
      "metadata": {
        "id": "WsgfLUlq8gX6",
        "colab": {
          "base_uri": "https://localhost:8080/"
        },
        "outputId": "7ec43dae-f857-4394-e1bf-5a479a405a21"
      },
      "source": [
        "x[-7:-8:-1]"
      ],
      "execution_count": 77,
      "outputs": [
        {
          "output_type": "execute_result",
          "data": {
            "text/plain": [
              "array([3])"
            ]
          },
          "metadata": {},
          "execution_count": 77
        }
      ]
    },
    {
      "cell_type": "markdown",
      "metadata": {
        "id": "VsogBAWM8gX6"
      },
      "source": [
        "<a id=\"44\"></a> <br>\n",
        "#### Multidimensional subarrays"
      ]
    },
    {
      "cell_type": "code",
      "metadata": {
        "id": "GRMAHmeE8gX6",
        "colab": {
          "base_uri": "https://localhost:8080/"
        },
        "outputId": "1cee9d5b-19fd-432e-a85f-776a4cddd5dc"
      },
      "source": [
        "# Multidimensional slices work in the same way, with multiple slices separated by commas.\n",
        "# For example:\n",
        "\n",
        "x2"
      ],
      "execution_count": 78,
      "outputs": [
        {
          "output_type": "execute_result",
          "data": {
            "text/plain": [
              "array([[99,  5,  2,  4],\n",
              "       [ 7,  6,  8,  8],\n",
              "       [ 1,  6,  7,  7]])"
            ]
          },
          "metadata": {},
          "execution_count": 78
        }
      ]
    },
    {
      "cell_type": "code",
      "metadata": {
        "id": "PV9ya7ci8gX6",
        "colab": {
          "base_uri": "https://localhost:8080/"
        },
        "outputId": "b890766a-4929-4eb1-a6f6-fc35f1f80947"
      },
      "source": [
        "# two rows, three columns\n",
        "\n",
        "x2[:2, :3]"
      ],
      "execution_count": 79,
      "outputs": [
        {
          "output_type": "execute_result",
          "data": {
            "text/plain": [
              "array([[99,  5,  2],\n",
              "       [ 7,  6,  8]])"
            ]
          },
          "metadata": {},
          "execution_count": 79
        }
      ]
    },
    {
      "cell_type": "code",
      "metadata": {
        "id": "UqSATJeq8gX7",
        "colab": {
          "base_uri": "https://localhost:8080/"
        },
        "outputId": "cc0589ff-2ed9-4954-a207-a1d36431113f"
      },
      "source": [
        "# all rows, every other column\n",
        "\n",
        "x2[:3,::2]"
      ],
      "execution_count": 80,
      "outputs": [
        {
          "output_type": "execute_result",
          "data": {
            "text/plain": [
              "array([[99,  2],\n",
              "       [ 7,  8],\n",
              "       [ 1,  7]])"
            ]
          },
          "metadata": {},
          "execution_count": 80
        }
      ]
    },
    {
      "cell_type": "code",
      "metadata": {
        "id": "l4HkzVvw8gX7",
        "colab": {
          "base_uri": "https://localhost:8080/"
        },
        "outputId": "6dc808f2-cb36-494a-b867-14db1492bc2e"
      },
      "source": [
        "#Finally, subarray dimensions can even be reversed together:\n",
        "\n",
        "x2[::-1,::-1]"
      ],
      "execution_count": 81,
      "outputs": [
        {
          "output_type": "execute_result",
          "data": {
            "text/plain": [
              "array([[ 7,  7,  6,  1],\n",
              "       [ 8,  8,  6,  7],\n",
              "       [ 4,  2,  5, 99]])"
            ]
          },
          "metadata": {},
          "execution_count": 81
        }
      ]
    },
    {
      "cell_type": "markdown",
      "metadata": {
        "id": "2bz7K1n98gX7"
      },
      "source": [
        "<a id=\"45\"></a> <br>\n",
        "#### Accessing array rows and columns"
      ]
    },
    {
      "cell_type": "code",
      "metadata": {
        "id": "ku5B4Mcq8gX7",
        "colab": {
          "base_uri": "https://localhost:8080/"
        },
        "outputId": "2f86638f-c188-4aa9-b19f-58746830dfe0"
      },
      "source": [
        "# One commonly needed routine is accessing single\n",
        "# rows or columns of an array. You can do this by combining indexing and slicing,\n",
        "# using an empty slice marked by a single colon (:):\n",
        "\n",
        "print(x2[:, 0]) # first column of x2"
      ],
      "execution_count": 82,
      "outputs": [
        {
          "output_type": "stream",
          "name": "stdout",
          "text": [
            "[99  7  1]\n"
          ]
        }
      ]
    },
    {
      "cell_type": "code",
      "metadata": {
        "id": "CHrhD81g8gX7",
        "colab": {
          "base_uri": "https://localhost:8080/"
        },
        "outputId": "13d304b7-ef2b-4672-ab52-283b91e318b3"
      },
      "source": [
        "print(x2[0,:]) # first row of x2"
      ],
      "execution_count": 83,
      "outputs": [
        {
          "output_type": "stream",
          "name": "stdout",
          "text": [
            "[99  5  2  4]\n"
          ]
        }
      ]
    },
    {
      "cell_type": "code",
      "metadata": {
        "id": "Ldoaqakx8gX7",
        "colab": {
          "base_uri": "https://localhost:8080/"
        },
        "outputId": "bac56777-fa15-4005-f98b-71490c7a4eca"
      },
      "source": [
        "#In the case of row access, the empty slice can be omitted for a more compact syntax:\n",
        "\n",
        "print(x2[0]) # equivalent to x2[0, :]"
      ],
      "execution_count": 84,
      "outputs": [
        {
          "output_type": "stream",
          "name": "stdout",
          "text": [
            "[99  5  2  4]\n"
          ]
        }
      ]
    },
    {
      "cell_type": "markdown",
      "metadata": {
        "id": "pt3XX_C68gX7"
      },
      "source": [
        "<a id=\"46\"></a> <br>\n",
        "#### Subarrays as no-copy views"
      ]
    },
    {
      "cell_type": "markdown",
      "metadata": {
        "id": "W7qjo0zi8gX7"
      },
      "source": [
        "* One important—and extremely useful—thing to know about array slices is that they\n",
        "return views rather than copies of the array data. This is one area in which NumPy\n",
        "array slicing differs from Python list slicing: in lists, slices will be copies. Consider our\n",
        "two-dimensional array from before:"
      ]
    },
    {
      "cell_type": "code",
      "metadata": {
        "id": "EAWaaK7t8gX7",
        "colab": {
          "base_uri": "https://localhost:8080/"
        },
        "outputId": "afb01478-8ae2-4ca7-8d80-8cc598c5faa2"
      },
      "source": [
        "print(x2)"
      ],
      "execution_count": 85,
      "outputs": [
        {
          "output_type": "stream",
          "name": "stdout",
          "text": [
            "[[99  5  2  4]\n",
            " [ 7  6  8  8]\n",
            " [ 1  6  7  7]]\n"
          ]
        }
      ]
    },
    {
      "cell_type": "code",
      "metadata": {
        "id": "S6-xwOCC8gX8",
        "colab": {
          "base_uri": "https://localhost:8080/"
        },
        "outputId": "9f8d29dc-cf11-4a42-b37e-ef49998f984e"
      },
      "source": [
        "#Let’s extract a 2×2 subarray from this:\n",
        "\n",
        "x2_sub = x2[:2,:2]\n",
        "print(x2_sub)"
      ],
      "execution_count": 86,
      "outputs": [
        {
          "output_type": "stream",
          "name": "stdout",
          "text": [
            "[[99  5]\n",
            " [ 7  6]]\n"
          ]
        }
      ]
    },
    {
      "cell_type": "code",
      "metadata": {
        "id": "UibkAw5j8gX8",
        "colab": {
          "base_uri": "https://localhost:8080/"
        },
        "outputId": "30699e89-95f8-4132-c5ce-85499f7da898"
      },
      "source": [
        "#Now if we modify this subarray, we’ll see that the original array is changed! Observe:\n",
        "\n",
        "x2_sub[0,0] = 99\n",
        "print(x2_sub)"
      ],
      "execution_count": 87,
      "outputs": [
        {
          "output_type": "stream",
          "name": "stdout",
          "text": [
            "[[99  5]\n",
            " [ 7  6]]\n"
          ]
        }
      ]
    },
    {
      "cell_type": "code",
      "metadata": {
        "id": "mHktWlZN8gX8",
        "colab": {
          "base_uri": "https://localhost:8080/"
        },
        "outputId": "64bb4e16-9019-4edf-dc97-524355e29526"
      },
      "source": [
        "print(x2)"
      ],
      "execution_count": 88,
      "outputs": [
        {
          "output_type": "stream",
          "name": "stdout",
          "text": [
            "[[99  5  2  4]\n",
            " [ 7  6  8  8]\n",
            " [ 1  6  7  7]]\n"
          ]
        }
      ]
    },
    {
      "cell_type": "markdown",
      "metadata": {
        "id": "0pd5Or1S8gX8"
      },
      "source": [
        "* This default behavior is actually quite useful: it means that when we work with large\n",
        "datasets, we can access and process pieces of these datasets without the need to copy\n",
        "the underlying data buffer."
      ]
    },
    {
      "cell_type": "markdown",
      "metadata": {
        "id": "xaz_65AV8gX8"
      },
      "source": [
        "<a id=\"47\"></a> <br>\n",
        "#### Creating copies of arrays"
      ]
    },
    {
      "cell_type": "markdown",
      "metadata": {
        "id": "WEGY5b1J8gX8"
      },
      "source": [
        "* Despite the nice features of array views, it is sometimes useful to instead explicitly\n",
        "copy the data within an array or a subarray. This can be most easily done with the\n",
        "copy() method:"
      ]
    },
    {
      "cell_type": "code",
      "metadata": {
        "id": "LjihnRHL8gX8",
        "colab": {
          "base_uri": "https://localhost:8080/"
        },
        "outputId": "6bc8ea75-a788-4ff2-c369-345dd32d7a0d"
      },
      "source": [
        "x2_sub_copy = x2[:2,:2].copy()\n",
        "print(x2_sub_copy)"
      ],
      "execution_count": 89,
      "outputs": [
        {
          "output_type": "stream",
          "name": "stdout",
          "text": [
            "[[99  5]\n",
            " [ 7  6]]\n"
          ]
        }
      ]
    },
    {
      "cell_type": "code",
      "metadata": {
        "id": "dlUzSNVb8gX8",
        "colab": {
          "base_uri": "https://localhost:8080/"
        },
        "outputId": "aaedfaa0-6a2e-4d09-d15b-6b32d5d06385"
      },
      "source": [
        "#If we now modify this subarray, the original array is not touched:\n",
        "\n",
        "x2_sub_copy[0,0] = 42\n",
        "print(x2_sub_copy)"
      ],
      "execution_count": 90,
      "outputs": [
        {
          "output_type": "stream",
          "name": "stdout",
          "text": [
            "[[42  5]\n",
            " [ 7  6]]\n"
          ]
        }
      ]
    },
    {
      "cell_type": "code",
      "metadata": {
        "id": "TJQB7OZe8gX8",
        "colab": {
          "base_uri": "https://localhost:8080/"
        },
        "outputId": "e68da349-c1ce-4983-ddcf-3bc236fa0cd9"
      },
      "source": [
        "print(x2)"
      ],
      "execution_count": 91,
      "outputs": [
        {
          "output_type": "stream",
          "name": "stdout",
          "text": [
            "[[99  5  2  4]\n",
            " [ 7  6  8  8]\n",
            " [ 1  6  7  7]]\n"
          ]
        }
      ]
    },
    {
      "cell_type": "markdown",
      "metadata": {
        "id": "B_JyptN88gX9"
      },
      "source": [
        "<a id=\"9\"></a> <br>\n",
        "### Reshaping of Arrays"
      ]
    },
    {
      "cell_type": "code",
      "metadata": {
        "id": "P_1QbBs28gX9",
        "colab": {
          "base_uri": "https://localhost:8080/"
        },
        "outputId": "11571305-6cb7-44f7-c2e0-eeffab657b95"
      },
      "source": [
        "# Another useful type of operation is reshaping of arrays. The most flexible way of\n",
        "# doing this is with the reshape() method. For example, if you want to put the numbers\n",
        "# 1 through 9 in a 3×3 grid, you can do the following:\n",
        "\n",
        "grid = np.arange(1,10,1).reshape(3,3)\n",
        "print(grid)"
      ],
      "execution_count": 92,
      "outputs": [
        {
          "output_type": "stream",
          "name": "stdout",
          "text": [
            "[[1 2 3]\n",
            " [4 5 6]\n",
            " [7 8 9]]\n"
          ]
        }
      ]
    },
    {
      "cell_type": "markdown",
      "metadata": {
        "id": "e83iGofD8gX9"
      },
      "source": [
        "* Where possible, the reshape method will use a no-copy view of the\n",
        "initial array, but with noncontiguous memory buffers this is not always the case.\n",
        "\n",
        "* Another common reshaping pattern is the conversion of a one-dimensional array\n",
        "into a two-dimensional row or column matrix. You can do this with the reshape\n",
        "method, or more easily by making use of the newaxis keyword within a slice operation:"
      ]
    },
    {
      "cell_type": "code",
      "metadata": {
        "id": "Qx4wknZm8gX9",
        "colab": {
          "base_uri": "https://localhost:8080/"
        },
        "outputId": "4add1a4a-69c1-4bab-88fd-704ce1f5c9e8"
      },
      "source": [
        "x = np.array([1, 2, 3])\n",
        "x.shape # x is a vector (3,)"
      ],
      "execution_count": 93,
      "outputs": [
        {
          "output_type": "execute_result",
          "data": {
            "text/plain": [
              "(3,)"
            ]
          },
          "metadata": {},
          "execution_count": 93
        }
      ]
    },
    {
      "cell_type": "code",
      "metadata": {
        "id": "zIEAPyCL8gX9",
        "colab": {
          "base_uri": "https://localhost:8080/"
        },
        "outputId": "829edf93-8f60-4879-a2c7-caa4459e1945"
      },
      "source": [
        "# row vector via reshape\n",
        "\n",
        "x.reshape(1,3).shape"
      ],
      "execution_count": 94,
      "outputs": [
        {
          "output_type": "execute_result",
          "data": {
            "text/plain": [
              "(1, 3)"
            ]
          },
          "metadata": {},
          "execution_count": 94
        }
      ]
    },
    {
      "cell_type": "code",
      "metadata": {
        "id": "jDriC0RQ8gX9",
        "colab": {
          "base_uri": "https://localhost:8080/"
        },
        "outputId": "477d2a9e-0416-4623-ee9a-f6e180f0e8b2"
      },
      "source": [
        "# row vector via newaxis\n",
        "\n",
        "x[np.newaxis, :].shape"
      ],
      "execution_count": 95,
      "outputs": [
        {
          "output_type": "execute_result",
          "data": {
            "text/plain": [
              "(1, 3)"
            ]
          },
          "metadata": {},
          "execution_count": 95
        }
      ]
    },
    {
      "cell_type": "code",
      "metadata": {
        "id": "-4wJjKcS8gX9",
        "colab": {
          "base_uri": "https://localhost:8080/"
        },
        "outputId": "dd10d002-3c06-4608-9295-91f8ba12db06"
      },
      "source": [
        "x.reshape(1,-1).shape"
      ],
      "execution_count": 96,
      "outputs": [
        {
          "output_type": "execute_result",
          "data": {
            "text/plain": [
              "(1, 3)"
            ]
          },
          "metadata": {},
          "execution_count": 96
        }
      ]
    },
    {
      "cell_type": "code",
      "metadata": {
        "id": "hIg5HwY48gX9",
        "colab": {
          "base_uri": "https://localhost:8080/"
        },
        "outputId": "0754b23c-bd8f-4e73-9e56-8869ba188f58"
      },
      "source": [
        "# column vector via reshape\n",
        "\n",
        "x.reshape((3, 1))"
      ],
      "execution_count": 97,
      "outputs": [
        {
          "output_type": "execute_result",
          "data": {
            "text/plain": [
              "array([[1],\n",
              "       [2],\n",
              "       [3]])"
            ]
          },
          "metadata": {},
          "execution_count": 97
        }
      ]
    },
    {
      "cell_type": "code",
      "metadata": {
        "id": "P7pRCWG98gX-",
        "colab": {
          "base_uri": "https://localhost:8080/"
        },
        "outputId": "f66696b8-ec70-489d-cfaa-910cf41cd256"
      },
      "source": [
        "# column vector via newaxis\n",
        "\n",
        "x[:, np.newaxis]"
      ],
      "execution_count": 98,
      "outputs": [
        {
          "output_type": "execute_result",
          "data": {
            "text/plain": [
              "array([[1],\n",
              "       [2],\n",
              "       [3]])"
            ]
          },
          "metadata": {},
          "execution_count": 98
        }
      ]
    },
    {
      "cell_type": "code",
      "metadata": {
        "id": "DSWDYeo58gX-",
        "colab": {
          "base_uri": "https://localhost:8080/"
        },
        "outputId": "d49871e0-1ecd-4341-c807-2bda36c7ef0e"
      },
      "source": [
        "x.reshape(-1,1).shape"
      ],
      "execution_count": 99,
      "outputs": [
        {
          "output_type": "execute_result",
          "data": {
            "text/plain": [
              "(3, 1)"
            ]
          },
          "metadata": {},
          "execution_count": 99
        }
      ]
    },
    {
      "cell_type": "markdown",
      "metadata": {
        "id": "GJo9duQK8gX-"
      },
      "source": [
        "<img src=\"https://i.stack.imgur.com/zkMBy.png\" alt=\"cce\" border=\"0\">"
      ]
    },
    {
      "cell_type": "markdown",
      "metadata": {
        "id": "shadeOJm8gX-"
      },
      "source": [
        "<a id=\"10\"></a> <br>\n",
        "### Array Concatenation and Splitting"
      ]
    },
    {
      "cell_type": "markdown",
      "metadata": {
        "id": "tMlv5iV38gX-"
      },
      "source": [
        "#### Concatenation of arrays"
      ]
    },
    {
      "cell_type": "code",
      "metadata": {
        "id": "qArMtjv28gX-",
        "colab": {
          "base_uri": "https://localhost:8080/"
        },
        "outputId": "d3289d5f-16f2-4c3d-a4a0-54ccc87527ef"
      },
      "source": [
        "x = np.array([1,2,3])\n",
        "y = np.array([3,2,1])\n",
        "np.concatenate((x, y))\n"
      ],
      "execution_count": 100,
      "outputs": [
        {
          "output_type": "execute_result",
          "data": {
            "text/plain": [
              "array([1, 2, 3, 3, 2, 1])"
            ]
          },
          "metadata": {},
          "execution_count": 100
        }
      ]
    },
    {
      "cell_type": "markdown",
      "metadata": {
        "id": "srtuxqPp8gX-"
      },
      "source": [
        "* You can also concatenate more than two arrays at once:"
      ]
    },
    {
      "cell_type": "code",
      "metadata": {
        "id": "ITFpL1ZL8gX-",
        "colab": {
          "base_uri": "https://localhost:8080/"
        },
        "outputId": "b4fd3b09-42da-4e2c-c681-21f48cb32259"
      },
      "source": [
        "z = np.array([99,99,99]) #z =[99,99,99]\n",
        "\n",
        "print(np.concatenate((x,y,z)))"
      ],
      "execution_count": 101,
      "outputs": [
        {
          "output_type": "stream",
          "name": "stdout",
          "text": [
            "[ 1  2  3  3  2  1 99 99 99]\n"
          ]
        }
      ]
    },
    {
      "cell_type": "markdown",
      "metadata": {
        "id": "5aIK1qL68gX-"
      },
      "source": [
        "* np.concatenate can also be used for two-dimensional arrays:"
      ]
    },
    {
      "cell_type": "code",
      "metadata": {
        "id": "1J8MnpiX8gX_"
      },
      "source": [
        "grid = np.array([[1,2,3],\n",
        "                [4,5,6]])"
      ],
      "execution_count": 102,
      "outputs": []
    },
    {
      "cell_type": "code",
      "metadata": {
        "id": "Jfowttur8gX_",
        "colab": {
          "base_uri": "https://localhost:8080/"
        },
        "outputId": "d97a9943-9a4d-40c7-8863-81aa8723b2af"
      },
      "source": [
        "# concatenate along the first axis\n",
        "\n",
        "np.concatenate((grid,grid))"
      ],
      "execution_count": 103,
      "outputs": [
        {
          "output_type": "execute_result",
          "data": {
            "text/plain": [
              "array([[1, 2, 3],\n",
              "       [4, 5, 6],\n",
              "       [1, 2, 3],\n",
              "       [4, 5, 6]])"
            ]
          },
          "metadata": {},
          "execution_count": 103
        }
      ]
    },
    {
      "cell_type": "code",
      "metadata": {
        "id": "c9a2PEMp8gX_",
        "colab": {
          "base_uri": "https://localhost:8080/"
        },
        "outputId": "2f1e1558-a940-45de-b26e-3e586e872388"
      },
      "source": [
        "# concatenate along the second axis (zero-indexed)\n",
        "\n",
        "np.concatenate((grid, grid), axis=1)"
      ],
      "execution_count": 104,
      "outputs": [
        {
          "output_type": "execute_result",
          "data": {
            "text/plain": [
              "array([[1, 2, 3, 1, 2, 3],\n",
              "       [4, 5, 6, 4, 5, 6]])"
            ]
          },
          "metadata": {},
          "execution_count": 104
        }
      ]
    },
    {
      "cell_type": "code",
      "metadata": {
        "id": "xs3rS7HV8gX_",
        "colab": {
          "base_uri": "https://localhost:8080/"
        },
        "outputId": "793bb1d1-9902-4c69-9314-bd84b979dab9"
      },
      "source": [
        "# For working with arrays of mixed dimensions, it can be clearer to use the np.vstack\n",
        "# (vertical stack) and np.hstack (horizontal stack) functions:\n",
        "\n",
        "x = np.array([1,2,3])\n",
        "grid = np.array([[9,8,7],\n",
        "                 [6,5,4]])\n",
        "\n",
        "\n",
        "# vertically stack the arrays\n",
        "np.vstack([x,grid])"
      ],
      "execution_count": 105,
      "outputs": [
        {
          "output_type": "execute_result",
          "data": {
            "text/plain": [
              "array([[1, 2, 3],\n",
              "       [9, 8, 7],\n",
              "       [6, 5, 4]])"
            ]
          },
          "metadata": {},
          "execution_count": 105
        }
      ]
    },
    {
      "cell_type": "code",
      "metadata": {
        "id": "e5WGw3li8gX_",
        "colab": {
          "base_uri": "https://localhost:8080/"
        },
        "outputId": "c32c9740-8282-457d-abad-d9a0093780b9"
      },
      "source": [
        "#horizontally stack the arrays\n",
        "\n",
        "y = np.array([[99],\n",
        "            [99]])\n",
        "np.hstack([grid,y])"
      ],
      "execution_count": 106,
      "outputs": [
        {
          "output_type": "execute_result",
          "data": {
            "text/plain": [
              "array([[ 9,  8,  7, 99],\n",
              "       [ 6,  5,  4, 99]])"
            ]
          },
          "metadata": {},
          "execution_count": 106
        }
      ]
    },
    {
      "cell_type": "markdown",
      "metadata": {
        "id": "DRLNFbbW8gX_"
      },
      "source": [
        "* Similarly, np.dstack will stack arrays along the third axis."
      ]
    },
    {
      "cell_type": "markdown",
      "metadata": {
        "id": "9_Gbxg-08gX_"
      },
      "source": [
        "### Splitting of arrays"
      ]
    },
    {
      "cell_type": "markdown",
      "metadata": {
        "id": "LN7uqZQd8gX_"
      },
      "source": [
        "* The opposite of concatenation is splitting, which is implemented by the functions\n",
        "np.split, np.hsplit, and np.vsplit. For each of these, we can pass a list of indices\n",
        "giving the split points:"
      ]
    },
    {
      "cell_type": "code",
      "metadata": {
        "id": "TYcQ_O2L8gYA",
        "colab": {
          "base_uri": "https://localhost:8080/"
        },
        "outputId": "6eb2730b-697e-44e3-f00f-1efbdfe3bb1b"
      },
      "source": [
        "x = [1,2,3,99,99,3,2,1]\n",
        "x1, x2, x3 = np.split(x, [3,5])\n",
        "print(x1, x2, x3)"
      ],
      "execution_count": 114,
      "outputs": [
        {
          "output_type": "stream",
          "name": "stdout",
          "text": [
            "[1 2 3] [99 99] [3 2 1]\n"
          ]
        }
      ]
    },
    {
      "cell_type": "code",
      "metadata": {
        "id": "2txkAjiq8gYA",
        "colab": {
          "base_uri": "https://localhost:8080/"
        },
        "outputId": "6faecd17-7f8a-486b-ddc2-e137bbc8501a"
      },
      "source": [
        "x = np.array([1,2,3,99,99,3,2,1])\n",
        "x1, x2, x3, x4 = np.split(x, [3,4,5])\n",
        "print(x1, x2, x3,x4)"
      ],
      "execution_count": 115,
      "outputs": [
        {
          "output_type": "stream",
          "name": "stdout",
          "text": [
            "[1 2 3] [99] [99] [3 2 1]\n"
          ]
        }
      ]
    },
    {
      "cell_type": "markdown",
      "metadata": {
        "id": "PB6xRa1p8gYA"
      },
      "source": [
        "* Notice that N split points lead to N + 1 subarrays. The related functions np.hsplit\n",
        "and np.vsplit are similar:"
      ]
    },
    {
      "cell_type": "code",
      "metadata": {
        "id": "Utp-B_Nu8gYA",
        "colab": {
          "base_uri": "https://localhost:8080/"
        },
        "outputId": "58eb04ce-319f-4f44-f845-8b29f34cb767"
      },
      "source": [
        "grid = np.arange(36,dtype=np.float).reshape((6,6))\n",
        "grid"
      ],
      "execution_count": 116,
      "outputs": [
        {
          "output_type": "execute_result",
          "data": {
            "text/plain": [
              "array([[ 0.,  1.,  2.,  3.,  4.,  5.],\n",
              "       [ 6.,  7.,  8.,  9., 10., 11.],\n",
              "       [12., 13., 14., 15., 16., 17.],\n",
              "       [18., 19., 20., 21., 22., 23.],\n",
              "       [24., 25., 26., 27., 28., 29.],\n",
              "       [30., 31., 32., 33., 34., 35.]])"
            ]
          },
          "metadata": {},
          "execution_count": 116
        }
      ]
    },
    {
      "cell_type": "code",
      "metadata": {
        "id": "jl00H46x8gYA",
        "colab": {
          "base_uri": "https://localhost:8080/"
        },
        "outputId": "e1d84bf2-b445-442d-cc52-ec227051566e"
      },
      "source": [
        "upper, lower = np.vsplit(grid, [2])\n",
        "print(upper)\n",
        "print(lower)"
      ],
      "execution_count": 117,
      "outputs": [
        {
          "output_type": "stream",
          "name": "stdout",
          "text": [
            "[[ 0.  1.  2.  3.  4.  5.]\n",
            " [ 6.  7.  8.  9. 10. 11.]]\n",
            "[[12. 13. 14. 15. 16. 17.]\n",
            " [18. 19. 20. 21. 22. 23.]\n",
            " [24. 25. 26. 27. 28. 29.]\n",
            " [30. 31. 32. 33. 34. 35.]]\n"
          ]
        }
      ]
    },
    {
      "cell_type": "code",
      "metadata": {
        "id": "aJRqItFX8gYA",
        "colab": {
          "base_uri": "https://localhost:8080/"
        },
        "outputId": "62ce3ef3-9d8f-4262-b5dd-86fc00bcc57a"
      },
      "source": [
        "upper,middle, lower = np.vsplit(grid, [2,3])\n",
        "print(\"upper: \",upper)\n",
        "print(\"middle: \",middle)\n",
        "print(\"lower: \",lower)"
      ],
      "execution_count": 118,
      "outputs": [
        {
          "output_type": "stream",
          "name": "stdout",
          "text": [
            "upper:  [[ 0.  1.  2.  3.  4.  5.]\n",
            " [ 6.  7.  8.  9. 10. 11.]]\n",
            "middle:  [[12. 13. 14. 15. 16. 17.]]\n",
            "lower:  [[18. 19. 20. 21. 22. 23.]\n",
            " [24. 25. 26. 27. 28. 29.]\n",
            " [30. 31. 32. 33. 34. 35.]]\n"
          ]
        }
      ]
    },
    {
      "cell_type": "code",
      "metadata": {
        "id": "M09nkyVg8gYA",
        "colab": {
          "base_uri": "https://localhost:8080/"
        },
        "outputId": "e2ebc249-0b47-49ab-8ac7-2e1bfc368d3f"
      },
      "source": [
        "left, right = np.hsplit(grid, [2])\n",
        "print(left)\n",
        "print(right)"
      ],
      "execution_count": 119,
      "outputs": [
        {
          "output_type": "stream",
          "name": "stdout",
          "text": [
            "[[ 0.  1.]\n",
            " [ 6.  7.]\n",
            " [12. 13.]\n",
            " [18. 19.]\n",
            " [24. 25.]\n",
            " [30. 31.]]\n",
            "[[ 2.  3.  4.  5.]\n",
            " [ 8.  9. 10. 11.]\n",
            " [14. 15. 16. 17.]\n",
            " [20. 21. 22. 23.]\n",
            " [26. 27. 28. 29.]\n",
            " [32. 33. 34. 35.]]\n"
          ]
        }
      ]
    },
    {
      "cell_type": "code",
      "metadata": {
        "id": "ong9ghVR8gYA",
        "colab": {
          "base_uri": "https://localhost:8080/"
        },
        "outputId": "e30da4d0-d157-43ee-c9d9-6ba4e3b1abcf"
      },
      "source": [
        "left, right = np.hsplit(grid, 2)\n",
        "print(left)\n",
        "print(right)"
      ],
      "execution_count": 120,
      "outputs": [
        {
          "output_type": "stream",
          "name": "stdout",
          "text": [
            "[[ 0.  1.  2.]\n",
            " [ 6.  7.  8.]\n",
            " [12. 13. 14.]\n",
            " [18. 19. 20.]\n",
            " [24. 25. 26.]\n",
            " [30. 31. 32.]]\n",
            "[[ 3.  4.  5.]\n",
            " [ 9. 10. 11.]\n",
            " [15. 16. 17.]\n",
            " [21. 22. 23.]\n",
            " [27. 28. 29.]\n",
            " [33. 34. 35.]]\n"
          ]
        }
      ]
    },
    {
      "cell_type": "markdown",
      "metadata": {
        "id": "_wx23ChP8gYB"
      },
      "source": [
        "* Similarly, np.dsplit will split arrays along the third axis."
      ]
    },
    {
      "cell_type": "markdown",
      "metadata": {
        "id": "iaep8DOq8gYB"
      },
      "source": [
        "<a id=\"11\"></a> <br>\n",
        "# Computation on NumPy Arrays: Universal Functions"
      ]
    },
    {
      "cell_type": "markdown",
      "metadata": {
        "id": "OJufc5GN8gYB"
      },
      "source": [
        "<a id=\"12\"></a> <br>\n",
        "### Exploring NumPy’s UFuncs"
      ]
    },
    {
      "cell_type": "markdown",
      "metadata": {
        "id": "gwCUt5eQ8gYB"
      },
      "source": [
        "* Ufuncs exist in two flavors: unary ufuncs, which operate on a single input, and binary\n",
        "ufuncs, which operate on two inputs. We’ll see examples of both these types of functions here."
      ]
    },
    {
      "cell_type": "markdown",
      "metadata": {
        "id": "6jR3GjHO8gYB"
      },
      "source": [
        "<a id=\"13\"></a> <br>\n",
        "#### Array arithmetic"
      ]
    },
    {
      "cell_type": "code",
      "metadata": {
        "id": "lqrYkeLy8gYB",
        "colab": {
          "base_uri": "https://localhost:8080/"
        },
        "outputId": "ef8792af-76b3-43ee-86e3-6ae1432e7eb2"
      },
      "source": [
        "# NumPy’s ufuncs feel very natural to use because they make use of Python’s native\n",
        "# arithmetic operators. The standard addition, subtraction, multiplication, and division\n",
        "# can all be used:\n",
        "\n",
        "x = np.arange(4)\n",
        "print(\"x =\", x)\n",
        "print(\"x + 5 =\", x + 5)\n",
        "print(\"x - 5 =\", x - 5)\n",
        "print(\"x * 2 =\", x * 2)\n",
        "print(\"x / 2 =\", x / 2)\n",
        "print(\"x // 2 =\", x // 2) # floor division"
      ],
      "execution_count": 121,
      "outputs": [
        {
          "output_type": "stream",
          "name": "stdout",
          "text": [
            "x = [0 1 2 3]\n",
            "x + 5 = [5 6 7 8]\n",
            "x - 5 = [-5 -4 -3 -2]\n",
            "x * 2 = [0 2 4 6]\n",
            "x / 2 = [0.  0.5 1.  1.5]\n",
            "x // 2 = [0 0 1 1]\n"
          ]
        }
      ]
    },
    {
      "cell_type": "code",
      "metadata": {
        "id": "hpXXpApa8gYB",
        "colab": {
          "base_uri": "https://localhost:8080/"
        },
        "outputId": "0825d250-2073-41dd-b1cf-2e0366fc79c2"
      },
      "source": [
        "#There is also a unary ufunc for negation, a ** operator for exponentiation, and a %\n",
        "#operator for modulus:\n",
        "\n",
        "print(\"-x = \", -x)\n",
        "print(\"x ** 2 = \", x ** 2)\n",
        "print(\"x % 2 = \", x % 2)"
      ],
      "execution_count": 122,
      "outputs": [
        {
          "output_type": "stream",
          "name": "stdout",
          "text": [
            "-x =  [ 0 -1 -2 -3]\n",
            "x ** 2 =  [0 1 4 9]\n",
            "x % 2 =  [0 1 0 1]\n"
          ]
        }
      ]
    },
    {
      "cell_type": "code",
      "metadata": {
        "id": "vFGsB_gD8gYB",
        "colab": {
          "base_uri": "https://localhost:8080/"
        },
        "outputId": "1d40139d-1493-483b-c7f0-e8ae7ba41f2f"
      },
      "source": [
        "# In addition, these can be strung together however you wish, and the standard order\n",
        "# of operations is respected:\n",
        "\n",
        "-(0.5*x+1) ** 2"
      ],
      "execution_count": 123,
      "outputs": [
        {
          "output_type": "execute_result",
          "data": {
            "text/plain": [
              "array([-1.  , -2.25, -4.  , -6.25])"
            ]
          },
          "metadata": {},
          "execution_count": 123
        }
      ]
    },
    {
      "cell_type": "code",
      "metadata": {
        "id": "jRZCtDW98gYB",
        "colab": {
          "base_uri": "https://localhost:8080/"
        },
        "outputId": "80d9fd13-a2d6-4a81-86af-5c86ad62852a"
      },
      "source": [
        "# All of these arithmetic operations are simply convenient wrappers around specific\n",
        "# functions built into NumPy; for example, the + operator is a wrapper for the add\n",
        "# function:\n",
        "\n",
        "print(np.add(3,2))\n",
        "\n",
        "print(np.add(x,2)) #Addition +\n",
        "print(np.subtract(x,5)) #Subtraction -\n",
        "print(np.negative(x)) #Unary negation -\n",
        "print(np.multiply(x,3)) #Multiplication *\n",
        "print(np.divide(x,2)) #Division /\n",
        "print(np.floor_divide(x,2)) #Floor division //\n",
        "print(np.power(x,2)) #Exponentiation **\n",
        "print(np.mod(x,2)) #Modulus/remainder **\n",
        "\n",
        "print(np.multiply(x, x))"
      ],
      "execution_count": 124,
      "outputs": [
        {
          "output_type": "stream",
          "name": "stdout",
          "text": [
            "5\n",
            "[2 3 4 5]\n",
            "[-5 -4 -3 -2]\n",
            "[ 0 -1 -2 -3]\n",
            "[0 3 6 9]\n",
            "[0.  0.5 1.  1.5]\n",
            "[0 0 1 1]\n",
            "[0 1 4 9]\n",
            "[0 1 0 1]\n",
            "[0 1 4 9]\n"
          ]
        }
      ]
    },
    {
      "cell_type": "markdown",
      "metadata": {
        "id": "bEQsNeCG8gYC"
      },
      "source": [
        "<a id=\"14\"></a> <br>\n",
        "#### Absolute value"
      ]
    },
    {
      "cell_type": "code",
      "metadata": {
        "id": "Y6HCKElB8gYC",
        "colab": {
          "base_uri": "https://localhost:8080/"
        },
        "outputId": "04c7d8ba-0407-4af3-e119-d7b52ba3c2af"
      },
      "source": [
        "# Just as NumPy understands Python’s built-in arithmetic operators, it also understands\n",
        "# Python’s built-in absolute value function:\n",
        "\n",
        "x = np.array([-2,-1,0,1,2])\n",
        "abs(x)"
      ],
      "execution_count": 125,
      "outputs": [
        {
          "output_type": "execute_result",
          "data": {
            "text/plain": [
              "array([2, 1, 0, 1, 2])"
            ]
          },
          "metadata": {},
          "execution_count": 125
        }
      ]
    },
    {
      "cell_type": "code",
      "metadata": {
        "id": "0-vguvaT8gYC",
        "colab": {
          "base_uri": "https://localhost:8080/"
        },
        "outputId": "e63ac144-177d-461c-8f24-0bcf9570e926"
      },
      "source": [
        "# The corresponding NumPy ufunc is np.absolute, which is also available under the\n",
        "# alias np.abs:\n",
        "\n",
        "print(np.absolute(x))\n",
        "print(np.abs(x))"
      ],
      "execution_count": 126,
      "outputs": [
        {
          "output_type": "stream",
          "name": "stdout",
          "text": [
            "[2 1 0 1 2]\n",
            "[2 1 0 1 2]\n"
          ]
        }
      ]
    },
    {
      "cell_type": "code",
      "metadata": {
        "id": "A01xlngG8gYC",
        "colab": {
          "base_uri": "https://localhost:8080/"
        },
        "outputId": "ca8cfc13-0be4-41b8-83f2-6557dde1ecfe"
      },
      "source": [
        "# This ufunc can also handle complex data, in which the absolute value returns the\n",
        "# magnitude:\n",
        "\n",
        "x = np.array([7-24j,4-3j,2+0j,1+3j])\n",
        "np.abs(x)"
      ],
      "execution_count": 127,
      "outputs": [
        {
          "output_type": "execute_result",
          "data": {
            "text/plain": [
              "array([25.        ,  5.        ,  2.        ,  3.16227766])"
            ]
          },
          "metadata": {},
          "execution_count": 127
        }
      ]
    },
    {
      "cell_type": "markdown",
      "metadata": {
        "id": "cIjWNRW_8gYC"
      },
      "source": [
        "<a id=\"15\"></a> <br>\n",
        "#### Trigonometric functions"
      ]
    },
    {
      "cell_type": "code",
      "metadata": {
        "id": "dS0k8XOj8gYC",
        "colab": {
          "base_uri": "https://localhost:8080/"
        },
        "outputId": "3e63f07f-76fd-430c-98c5-a4005ff5e5ee"
      },
      "source": [
        "# NumPy provides a large number of useful ufuncs, and some of the most useful for the\n",
        "# data scientist are the trigonometric functions. We’ll start by defining an array of\n",
        "# angles:\n",
        "\n",
        "theta = np.linspace(0,np.pi,3)\n",
        "\n",
        "\n",
        "#Now we can compute some trigonometric fuctions on these values:\n",
        "print(\"theta      =\",theta)\n",
        "print(\"sin(theta) =\",np.sin(theta))\n",
        "print(\"cos(theta) =\",np.cos(theta))\n",
        "print(\"tan(theta) =\",np.tan(theta))"
      ],
      "execution_count": 128,
      "outputs": [
        {
          "output_type": "stream",
          "name": "stdout",
          "text": [
            "theta      = [0.         1.57079633 3.14159265]\n",
            "sin(theta) = [0.0000000e+00 1.0000000e+00 1.2246468e-16]\n",
            "cos(theta) = [ 1.000000e+00  6.123234e-17 -1.000000e+00]\n",
            "tan(theta) = [ 0.00000000e+00  1.63312394e+16 -1.22464680e-16]\n"
          ]
        }
      ]
    },
    {
      "cell_type": "code",
      "metadata": {
        "id": "hqBxFetd8gYD",
        "colab": {
          "base_uri": "https://localhost:8080/"
        },
        "outputId": "5e8ca9ba-4f5a-4517-ce6d-8c02fdcdbee6"
      },
      "source": [
        "x = [-1, 0, 1]\n",
        "\n",
        "print(\"x = \", x)\n",
        "print(\"arcsin(x) = \", np.arcsin(x))\n",
        "print(\"arccos(x) = \", np.arccos(x))\n",
        "print(\"arctan(x) = \", np.arctan(x))"
      ],
      "execution_count": 129,
      "outputs": [
        {
          "output_type": "stream",
          "name": "stdout",
          "text": [
            "x =  [-1, 0, 1]\n",
            "arcsin(x) =  [-1.57079633  0.          1.57079633]\n",
            "arccos(x) =  [3.14159265 1.57079633 0.        ]\n",
            "arctan(x) =  [-0.78539816  0.          0.78539816]\n"
          ]
        }
      ]
    },
    {
      "cell_type": "markdown",
      "metadata": {
        "id": "yfOS0dEC8gYD"
      },
      "source": [
        "<a id=\"16\"></a> <br>\n",
        "#### Exponents and logarithms"
      ]
    },
    {
      "cell_type": "markdown",
      "metadata": {
        "id": "UpdQmpwA8gYD"
      },
      "source": [
        "* Another common type of operation available in a NumPy ufunc are the exponentials:"
      ]
    },
    {
      "cell_type": "code",
      "metadata": {
        "id": "Z26tZBmL8gYD",
        "colab": {
          "base_uri": "https://localhost:8080/"
        },
        "outputId": "f77aa69c-dfac-4d09-fd2f-86dc0047e06f"
      },
      "source": [
        "x = [1,2,3]\n",
        "print(\"x      =\",x)\n",
        "print(\"e^x    =\",np.exp(x))\n",
        "print(\"2^x    =\",np.exp2(x))\n",
        "print(\"3^x    =\",np.power(3,x))"
      ],
      "execution_count": 130,
      "outputs": [
        {
          "output_type": "stream",
          "name": "stdout",
          "text": [
            "x      = [1, 2, 3]\n",
            "e^x    = [ 2.71828183  7.3890561  20.08553692]\n",
            "2^x    = [2. 4. 8.]\n",
            "3^x    = [ 3  9 27]\n"
          ]
        }
      ]
    },
    {
      "cell_type": "code",
      "metadata": {
        "id": "YYcXtiUo8gYD",
        "colab": {
          "base_uri": "https://localhost:8080/"
        },
        "outputId": "f240b28f-55f7-42aa-b5ca-1bce70698fdf"
      },
      "source": [
        "# The inverse of the exponentials, the logarithms, are also available. The basic np.log\n",
        "# gives the natural logarithm; if you prefer to compute the base-2 logarithm or the\n",
        "# base-10 logarithm, these are available as well:\n",
        "\n",
        "x = [1, 2, 4, 10]\n",
        "print(\"x        =\", x)\n",
        "print(\"ln(x)    =\", np.log(x))\n",
        "print(\"log2(x)  =\", np.log2(x))\n",
        "print(\"log10(x) =\", np.log10(x))"
      ],
      "execution_count": 131,
      "outputs": [
        {
          "output_type": "stream",
          "name": "stdout",
          "text": [
            "x        = [1, 2, 4, 10]\n",
            "ln(x)    = [0.         0.69314718 1.38629436 2.30258509]\n",
            "log2(x)  = [0.         1.         2.         3.32192809]\n",
            "log10(x) = [0.         0.30103    0.60205999 1.        ]\n"
          ]
        }
      ]
    },
    {
      "cell_type": "code",
      "metadata": {
        "id": "COeeJ2KQ8gYD",
        "colab": {
          "base_uri": "https://localhost:8080/"
        },
        "outputId": "13390adc-27fe-4b8f-8129-13635c074a31"
      },
      "source": [
        "# There are also some specialized versions that are useful for maintaining precision\n",
        "# with very small input:\n",
        "\n",
        "x = [0, 0.001, 0.01, 0.1]\n",
        "print(\"exp(x) - 1 =\", np.expm1(x))\n",
        "print(\"log(1 + x) =\", np.log1p(x))"
      ],
      "execution_count": 132,
      "outputs": [
        {
          "output_type": "stream",
          "name": "stdout",
          "text": [
            "exp(x) - 1 = [0.         0.0010005  0.01005017 0.10517092]\n",
            "log(1 + x) = [0.         0.0009995  0.00995033 0.09531018]\n"
          ]
        }
      ]
    },
    {
      "cell_type": "markdown",
      "metadata": {
        "id": "OXdk0PcC8gYE"
      },
      "source": [
        "<a id=\"17\"></a> <br>\n",
        "### Advanced Ufunc Features"
      ]
    },
    {
      "cell_type": "markdown",
      "metadata": {
        "id": "ib-4FarG8gYE"
      },
      "source": [
        "<a id=\"18\"></a> <br>\n",
        "#### Specifying output"
      ]
    },
    {
      "cell_type": "markdown",
      "metadata": {
        "id": "l1IW1fKO8gYE"
      },
      "source": [
        "* For large calculations, it is sometimes useful to be able to specify the array where the\n",
        "result of the calculation will be stored. Rather than creating a temporary array, you\n",
        "can use this to write computation results directly to the memory location where you’d\n",
        "like them to be. For all ufuncs, you can do this using the out argument of the\n",
        "function:"
      ]
    },
    {
      "cell_type": "code",
      "metadata": {
        "id": "sFUFSSLB8gYE",
        "colab": {
          "base_uri": "https://localhost:8080/"
        },
        "outputId": "9d3ebce1-1aa1-4f77-f169-98c0bc5195f3"
      },
      "source": [
        "x = np.arange(5)\n",
        "y = np.empty(5)\n",
        "np.multiply(x, 10, out=y)\n",
        "print(y)"
      ],
      "execution_count": 133,
      "outputs": [
        {
          "output_type": "stream",
          "name": "stdout",
          "text": [
            "[ 0. 10. 20. 30. 40.]\n"
          ]
        }
      ]
    },
    {
      "cell_type": "code",
      "metadata": {
        "id": "8rEx_By88gYE",
        "colab": {
          "base_uri": "https://localhost:8080/"
        },
        "outputId": "af09acdc-4cfe-4ff8-b5bc-8778a53791f2"
      },
      "source": [
        "#This can even be used with array views. For example, we can write the results of a\n",
        "#computation to every other element of a specified array:\n",
        "\n",
        "y = np.zeros(10)\n",
        "np.power(2, x, out=y[::2])\n",
        "print(y)\n",
        "\n",
        "# If we had instead written y[::2] = 2 ** x, this would have resulted in the creation\n",
        "# of a temporary array to hold the results of 2 ** x, followed by a second operation\n",
        "# copying those values into the y array. This doesn’t make much of a difference for such\n",
        "# a small computation, but for very large arrays the memory savings from careful use of\n",
        "# the out argument can be significant."
      ],
      "execution_count": 134,
      "outputs": [
        {
          "output_type": "stream",
          "name": "stdout",
          "text": [
            "[ 1.  0.  2.  0.  4.  0.  8.  0. 16.  0.]\n"
          ]
        }
      ]
    },
    {
      "cell_type": "code",
      "metadata": {
        "id": "gZ8wVCO48gYE",
        "colab": {
          "base_uri": "https://localhost:8080/"
        },
        "outputId": "22f5bcd3-463c-4eec-c90f-7021a1bc3bba"
      },
      "source": [
        "y = np.zeros(10)\n",
        "y[::2] = 2 ** x\n",
        "print(y)"
      ],
      "execution_count": 135,
      "outputs": [
        {
          "output_type": "stream",
          "name": "stdout",
          "text": [
            "[ 1.  0.  2.  0.  4.  0.  8.  0. 16.  0.]\n"
          ]
        }
      ]
    },
    {
      "cell_type": "markdown",
      "metadata": {
        "id": "nacTd5ha8gYE"
      },
      "source": [
        "<a id=\"19\"></a> <br>\n",
        "#### Aggregates"
      ]
    },
    {
      "cell_type": "markdown",
      "metadata": {
        "id": "ZFWrFbFV8gYE"
      },
      "source": [
        "* For binary ufuncs, there are some interesting aggregates that can be computed\n",
        "directly from the object. For example, if we’d like to reduce an array with a particular\n",
        "operation, we can use the reduce method of any ufunc. A reduce repeatedly applies a\n",
        "given operation to the elements of an array until only a single result remains.\n",
        "For example, calling reduce on the add ufunc returns the sum of all elements in the\n",
        "array:"
      ]
    },
    {
      "cell_type": "code",
      "metadata": {
        "id": "WJ0dS0pD8gYE",
        "colab": {
          "base_uri": "https://localhost:8080/"
        },
        "outputId": "deccff40-9910-458a-9d1e-e7df90830dff"
      },
      "source": [
        "x = np.arange(1,6)\n",
        "print(np.add.reduce(x))\n",
        "print(np.subtract.reduce(x))\n",
        "print(np.multiply.reduce(x))"
      ],
      "execution_count": 136,
      "outputs": [
        {
          "output_type": "stream",
          "name": "stdout",
          "text": [
            "15\n",
            "-13\n",
            "120\n"
          ]
        }
      ]
    },
    {
      "cell_type": "code",
      "metadata": {
        "id": "zNGC2LiJ8gYF",
        "colab": {
          "base_uri": "https://localhost:8080/"
        },
        "outputId": "0e0a0eb1-d576-4dd8-9a8b-e792faa03d9f"
      },
      "source": [
        "#If we’d like to store all the intermediate results of the computation, we can instead use\n",
        "#accumulate:\n",
        "\n",
        "print(np.add.accumulate(x))\n",
        "print(np.subtract.accumulate(x))\n",
        "print(np.multiply.accumulate(x))\n",
        "print(np.divide.accumulate(x))\n",
        "print(np.floor_divide.accumulate(x))"
      ],
      "execution_count": 137,
      "outputs": [
        {
          "output_type": "stream",
          "name": "stdout",
          "text": [
            "[ 1  3  6 10 15]\n",
            "[  1  -1  -4  -8 -13]\n",
            "[  1   2   6  24 120]\n",
            "[1.         0.5        0.16666667 0.04166667 0.00833333]\n",
            "[1 0 0 0 0]\n"
          ]
        }
      ]
    },
    {
      "cell_type": "markdown",
      "metadata": {
        "id": "MucORjTy8gYF"
      },
      "source": [
        "<a id=\"20\"></a> <br>\n",
        "#### Outer products"
      ]
    },
    {
      "cell_type": "markdown",
      "metadata": {
        "id": "NWSzlrbd8gYF"
      },
      "source": [
        "* Finally, any ufunc can compute the output of all pairs of two different inputs using\n",
        "the outer method. This allows you, in one line, to do things like create a multiplica‐\n",
        "tion table:"
      ]
    },
    {
      "cell_type": "code",
      "metadata": {
        "id": "tN4E-xXM8gYF",
        "colab": {
          "base_uri": "https://localhost:8080/"
        },
        "outputId": "976f3b57-436d-4096-e599-fc7e1b47ec82"
      },
      "source": [
        "x = np.arange(1,6)\n",
        "np.multiply.outer(x, x)"
      ],
      "execution_count": 139,
      "outputs": [
        {
          "output_type": "execute_result",
          "data": {
            "text/plain": [
              "array([[ 1,  2,  3,  4,  5],\n",
              "       [ 2,  4,  6,  8, 10],\n",
              "       [ 3,  6,  9, 12, 15],\n",
              "       [ 4,  8, 12, 16, 20],\n",
              "       [ 5, 10, 15, 20, 25]])"
            ]
          },
          "metadata": {},
          "execution_count": 139
        }
      ]
    },
    {
      "cell_type": "markdown",
      "metadata": {
        "id": "WufX2EBi8gYF"
      },
      "source": [
        "<a id=\"21\"></a> <br>\n",
        "# Aggregations: Min, Max, and Everything in Between"
      ]
    },
    {
      "cell_type": "markdown",
      "metadata": {
        "id": "xdY5aoQr8gYF"
      },
      "source": [
        "* NumPy has fast built-in aggregation functions for working on arrays; we’ll discuss\n",
        "and demonstrate some of them here."
      ]
    },
    {
      "cell_type": "markdown",
      "metadata": {
        "id": "VsrHFTxP8gYF"
      },
      "source": [
        "<a id=\"22\"></a> <br>\n",
        "### Summing the Values in an Array"
      ]
    },
    {
      "cell_type": "code",
      "metadata": {
        "id": "l6E_qcrg8gYF",
        "colab": {
          "base_uri": "https://localhost:8080/"
        },
        "outputId": "d8be6d04-6352-4259-cd32-547ce2c8f92f"
      },
      "source": [
        "# As a quick example, consider computing the sum of all values in an array. Python\n",
        "# itself can do this using the built-in sum function:\n",
        "\n",
        "L = np.random.random(100)\n",
        "sum(L)"
      ],
      "execution_count": 140,
      "outputs": [
        {
          "output_type": "execute_result",
          "data": {
            "text/plain": [
              "52.12818058833704"
            ]
          },
          "metadata": {},
          "execution_count": 140
        }
      ]
    },
    {
      "cell_type": "code",
      "metadata": {
        "id": "cRfLH3eT8gYF",
        "colab": {
          "base_uri": "https://localhost:8080/"
        },
        "outputId": "35d2ce7c-9f4a-4ef4-f63e-4e59cae993c9"
      },
      "source": [
        "#The syntax is quite similar to that of NumPy’s sum function, and the result is the same\n",
        "#in the simplest case:\n",
        "\n",
        "np.sum(L)"
      ],
      "execution_count": 141,
      "outputs": [
        {
          "output_type": "execute_result",
          "data": {
            "text/plain": [
              "52.12818058833702"
            ]
          },
          "metadata": {},
          "execution_count": 141
        }
      ]
    },
    {
      "cell_type": "code",
      "metadata": {
        "id": "xIeqkeFP8gYG",
        "colab": {
          "base_uri": "https://localhost:8080/"
        },
        "outputId": "76bd27a9-ac99-4c43-89ff-dea1e445d3a9"
      },
      "source": [
        "# However, because it executes the operation in compiled code, NumPy’s version of the\n",
        "# operation is computed much more quickly:\n",
        "\n",
        "big_array = np.random.rand(1000000)\n",
        "%timeit sum(big_array)\n",
        "%timeit np.sum(big_array)"
      ],
      "execution_count": 142,
      "outputs": [
        {
          "output_type": "stream",
          "name": "stdout",
          "text": [
            "10 loops, best of 5: 160 ms per loop\n",
            "1000 loops, best of 5: 351 µs per loop\n"
          ]
        }
      ]
    },
    {
      "cell_type": "markdown",
      "metadata": {
        "id": "VqTV0GRv8gYG"
      },
      "source": [
        "<a id=\"23\"></a> <br>\n",
        "### Minimum and Maximum"
      ]
    },
    {
      "cell_type": "code",
      "metadata": {
        "id": "_qZBSr6v8gYG",
        "colab": {
          "base_uri": "https://localhost:8080/"
        },
        "outputId": "5b019e49-1b5b-441b-de98-d9a963c9c662"
      },
      "source": [
        "#Similarly, Python has built-in min and max functions, used to find the minimum value\n",
        "#and maximum value of any given array:\n",
        "\n",
        "min(big_array),max(big_array)"
      ],
      "execution_count": 143,
      "outputs": [
        {
          "output_type": "execute_result",
          "data": {
            "text/plain": [
              "(1.4057692298008462e-06, 0.9999994392723005)"
            ]
          },
          "metadata": {},
          "execution_count": 143
        }
      ]
    },
    {
      "cell_type": "code",
      "metadata": {
        "id": "vIwUdZGw8gYG",
        "colab": {
          "base_uri": "https://localhost:8080/"
        },
        "outputId": "af148d82-af2b-4cb4-9c5a-c71812149ec2"
      },
      "source": [
        "#NumPy’s corresponding functions have similar syntax, and again operate much more\n",
        "#quickly:\n",
        "\n",
        "np.min(big_array),np.max(big_array)"
      ],
      "execution_count": 144,
      "outputs": [
        {
          "output_type": "execute_result",
          "data": {
            "text/plain": [
              "(1.4057692298008462e-06, 0.9999994392723005)"
            ]
          },
          "metadata": {},
          "execution_count": 144
        }
      ]
    },
    {
      "cell_type": "code",
      "metadata": {
        "id": "_hGPrNKR8gYG",
        "colab": {
          "base_uri": "https://localhost:8080/"
        },
        "outputId": "c841ce36-97aa-4fd0-f16f-5e70d35b3cc8"
      },
      "source": [
        "%timeit min(big_array)\n",
        "%timeit np.min(big_array)"
      ],
      "execution_count": 145,
      "outputs": [
        {
          "output_type": "stream",
          "name": "stdout",
          "text": [
            "10 loops, best of 5: 98.3 ms per loop\n",
            "1000 loops, best of 5: 393 µs per loop\n"
          ]
        }
      ]
    },
    {
      "cell_type": "code",
      "metadata": {
        "id": "ibRrNzGi8gYG",
        "colab": {
          "base_uri": "https://localhost:8080/"
        },
        "outputId": "2252d099-9962-4d8e-cbc7-95f04eb88282"
      },
      "source": [
        "# For min, max, sum, and several other NumPy aggregates, a shorter syntax is to use\n",
        "# methods of the array object itself:\n",
        "\n",
        "print(big_array.min(), big_array.max(), big_array.sum())\n",
        "# Whenever possible, make sure that you are using the NumPy version of these aggre‐\n",
        "#gates when operating on NumPy arrays!\n",
        "%timeit np.min(big_array)\n",
        "%timeit big_array.min()"
      ],
      "execution_count": 146,
      "outputs": [
        {
          "output_type": "stream",
          "name": "stdout",
          "text": [
            "1.4057692298008462e-06 0.9999994392723005 500202.5348847683\n",
            "1000 loops, best of 5: 400 µs per loop\n",
            "1000 loops, best of 5: 395 µs per loop\n"
          ]
        }
      ]
    },
    {
      "cell_type": "markdown",
      "metadata": {
        "id": "rCUM938L8gYG"
      },
      "source": [
        "<a id=\"24\"></a> <br>\n",
        "### Multidimensional aggregates"
      ]
    },
    {
      "cell_type": "code",
      "metadata": {
        "id": "LI6INc0u8gYH",
        "colab": {
          "base_uri": "https://localhost:8080/"
        },
        "outputId": "630fa41e-8d20-49af-ddaf-974029062334"
      },
      "source": [
        "# One common type of aggregation operation is an aggregate along a row or column.\n",
        "# Say you have some data stored in a two-dimensional array:\n",
        "\n",
        "M = np.random.random((3,4))\n",
        "print(M)\n",
        "\n",
        "M.sum()"
      ],
      "execution_count": 147,
      "outputs": [
        {
          "output_type": "stream",
          "name": "stdout",
          "text": [
            "[[0.50063048 0.07383653 0.49018646 0.72521956]\n",
            " [0.84926562 0.10226215 0.99559424 0.59250301]\n",
            " [0.53509    0.88518089 0.25518136 0.13130483]]\n"
          ]
        },
        {
          "output_type": "execute_result",
          "data": {
            "text/plain": [
              "6.1362551272647154"
            ]
          },
          "metadata": {},
          "execution_count": 147
        }
      ]
    },
    {
      "cell_type": "code",
      "metadata": {
        "id": "i1Jvx9iY8gYH",
        "colab": {
          "base_uri": "https://localhost:8080/"
        },
        "outputId": "8af58321-eefb-40f8-e3da-75c08b87f5ab"
      },
      "source": [
        "# Aggregation functions take an additional argument specifying the axis along which\n",
        "# the aggregate is computed. For example, we can find the minimum value within each\n",
        "# column by specifying axis=0:\n",
        "\n",
        "print(M.min(axis=0))\n",
        "#or use that way\n",
        "print(np.min(M,axis=0))\n",
        "M"
      ],
      "execution_count": 148,
      "outputs": [
        {
          "output_type": "stream",
          "name": "stdout",
          "text": [
            "[0.50063048 0.07383653 0.25518136 0.13130483]\n",
            "[0.50063048 0.07383653 0.25518136 0.13130483]\n"
          ]
        },
        {
          "output_type": "execute_result",
          "data": {
            "text/plain": [
              "array([[0.50063048, 0.07383653, 0.49018646, 0.72521956],\n",
              "       [0.84926562, 0.10226215, 0.99559424, 0.59250301],\n",
              "       [0.53509   , 0.88518089, 0.25518136, 0.13130483]])"
            ]
          },
          "metadata": {},
          "execution_count": 148
        }
      ]
    },
    {
      "cell_type": "code",
      "metadata": {
        "id": "YYKlhnro8gYH",
        "colab": {
          "base_uri": "https://localhost:8080/"
        },
        "outputId": "7b1c9997-b193-4a42-bd0c-2844eb765990"
      },
      "source": [
        "# Similarly, we can find the maximum value within each row:\n",
        "\n",
        "M.max(axis=1)"
      ],
      "execution_count": 149,
      "outputs": [
        {
          "output_type": "execute_result",
          "data": {
            "text/plain": [
              "array([0.72521956, 0.99559424, 0.88518089])"
            ]
          },
          "metadata": {},
          "execution_count": 149
        }
      ]
    },
    {
      "cell_type": "code",
      "metadata": {
        "id": "LZgwkW0b8gYH",
        "colab": {
          "base_uri": "https://localhost:8080/"
        },
        "outputId": "2b952a6d-ee97-41e7-e99a-4a07929b0228"
      },
      "source": [
        "# Note that some of these NaN-safe functions were not added until\n",
        "# NumPy 1.8, so they will not be available in older NumPy versions.\n",
        "\n",
        "x = np.array([1,2,np.nan,4,5])\n",
        "\n",
        "print(\"np.sum       =\",np.sum(x))\n",
        "print(\"np.nansum    =\",np.nansum(x))\n",
        "\n",
        "print(\"np.mean      =\",np.mean(x))\n",
        "print(\"np.nanmean   =\",np.nanmean(x))\n",
        "\n",
        "print(\"np.std       =\",np.std(x))\n",
        "print(\"np.nanstd    =\",np.nanstd(x))\n",
        "\n",
        "\n",
        "#Be careful that this is not a real index of minimum value.\n",
        "print(\"np.argmin    =\",np.argmin(x)) \n",
        "#if there is a nan value in an array, it returns index of nan value.\n",
        "\n",
        "\n",
        "print(\"np.nanargmin =\",np.nanargmin(x))\n"
      ],
      "execution_count": 150,
      "outputs": [
        {
          "output_type": "stream",
          "name": "stdout",
          "text": [
            "np.sum       = nan\n",
            "np.nansum    = 12.0\n",
            "np.mean      = nan\n",
            "np.nanmean   = 3.0\n",
            "np.std       = nan\n",
            "np.nanstd    = 1.5811388300841898\n",
            "np.argmin    = 2\n",
            "np.nanargmin = 0\n"
          ]
        }
      ]
    },
    {
      "cell_type": "markdown",
      "metadata": {
        "id": "XDXStKEH8gYH"
      },
      "source": [
        "<img src=\"https://3.bp.blogspot.com/-2pjqt9Ga6IM/W20-sIVK0II/AAAAAAAAXVM/BB74tRGTiwgcYTgezVLD3LKH7NFj4pjpgCLcBGAs/s1600/4214_t2-3.PNG\" alt=\"cce\" border=\"0\">"
      ]
    },
    {
      "cell_type": "markdown",
      "metadata": {
        "id": "RzVEFfoO8gYH"
      },
      "source": [
        "<a id=\"25\"></a> <br>\n",
        "# Computation on Arrays: Broadcasting"
      ]
    },
    {
      "cell_type": "markdown",
      "metadata": {
        "id": "QDsndMvK8gYH"
      },
      "source": [
        "* Broadcasting is simply a\n",
        "set of rules for applying binary ufuncs (addition, subtraction, multiplication, etc.) on\n",
        "arrays of different sizes."
      ]
    },
    {
      "cell_type": "markdown",
      "metadata": {
        "id": "pZWB9_oq8gYH"
      },
      "source": [
        "<a id=\"26\"></a> <br>\n",
        "### Introducing Broadcasting"
      ]
    },
    {
      "cell_type": "code",
      "metadata": {
        "id": "me4qLriF8gYI",
        "colab": {
          "base_uri": "https://localhost:8080/"
        },
        "outputId": "5fd78e1e-6cf7-489f-c84a-79be220a5a6c"
      },
      "source": [
        "import numpy as np\n",
        "\n",
        "a = np.array([0,1,2])\n",
        "b = np.array([5,5,5])\n",
        "a+b"
      ],
      "execution_count": 151,
      "outputs": [
        {
          "output_type": "execute_result",
          "data": {
            "text/plain": [
              "array([5, 6, 7])"
            ]
          },
          "metadata": {},
          "execution_count": 151
        }
      ]
    },
    {
      "cell_type": "code",
      "metadata": {
        "id": "wRpzVp9F8gYI",
        "colab": {
          "base_uri": "https://localhost:8080/"
        },
        "outputId": "27c6f6b6-b754-40bf-cdc6-0d4f924c5566"
      },
      "source": [
        "a+5"
      ],
      "execution_count": 152,
      "outputs": [
        {
          "output_type": "execute_result",
          "data": {
            "text/plain": [
              "array([5, 6, 7])"
            ]
          },
          "metadata": {},
          "execution_count": 152
        }
      ]
    },
    {
      "cell_type": "code",
      "metadata": {
        "id": "OHm2C6Nj8gYI",
        "colab": {
          "base_uri": "https://localhost:8080/"
        },
        "outputId": "2c6ad773-4559-4977-8b39-446ca9c92ab9"
      },
      "source": [
        "# We can similarly extend this to arrays of higher dimension. Observe the result when\n",
        "# we add a one-dimensional array to a two-dimensional array:\n",
        "\n",
        "M = np.ones((3,3))\n",
        "M"
      ],
      "execution_count": 153,
      "outputs": [
        {
          "output_type": "execute_result",
          "data": {
            "text/plain": [
              "array([[1., 1., 1.],\n",
              "       [1., 1., 1.],\n",
              "       [1., 1., 1.]])"
            ]
          },
          "metadata": {},
          "execution_count": 153
        }
      ]
    },
    {
      "cell_type": "code",
      "metadata": {
        "id": "XuwoU4dA8gYI",
        "colab": {
          "base_uri": "https://localhost:8080/"
        },
        "outputId": "c94e5988-cb80-4991-82f3-532f6701031a"
      },
      "source": [
        "M+a\n",
        "\n",
        "# Here the one-dimensional array a is stretched, or broadcast, across the second\n",
        "# dimension in order to match the shape of M ."
      ],
      "execution_count": 154,
      "outputs": [
        {
          "output_type": "execute_result",
          "data": {
            "text/plain": [
              "array([[1., 2., 3.],\n",
              "       [1., 2., 3.],\n",
              "       [1., 2., 3.]])"
            ]
          },
          "metadata": {},
          "execution_count": 154
        }
      ]
    },
    {
      "cell_type": "code",
      "metadata": {
        "id": "IIgeSb3O8gYI",
        "colab": {
          "base_uri": "https://localhost:8080/"
        },
        "outputId": "e05d97ce-118f-4bc4-f360-7b9885e5d765"
      },
      "source": [
        "# here we’ve stretched both a and b to match a common shape, and the result is a two-\n",
        "# dimensional array!\n",
        "\n",
        "a = np.arange(3) #(3,) 1 dimensional\n",
        "b = np.arange(3)[:,np.newaxis] #(3,1) 2 dimensional\n",
        "print(a)\n",
        "print(b)"
      ],
      "execution_count": 155,
      "outputs": [
        {
          "output_type": "stream",
          "name": "stdout",
          "text": [
            "[0 1 2]\n",
            "[[0]\n",
            " [1]\n",
            " [2]]\n"
          ]
        }
      ]
    },
    {
      "cell_type": "code",
      "metadata": {
        "id": "Xi34FcF58gYI",
        "colab": {
          "base_uri": "https://localhost:8080/"
        },
        "outputId": "2284249d-a539-4a00-fa2a-0eb163da2efb"
      },
      "source": [
        "a+b"
      ],
      "execution_count": 156,
      "outputs": [
        {
          "output_type": "execute_result",
          "data": {
            "text/plain": [
              "array([[0, 1, 2],\n",
              "       [1, 2, 3],\n",
              "       [2, 3, 4]])"
            ]
          },
          "metadata": {},
          "execution_count": 156
        }
      ]
    },
    {
      "cell_type": "markdown",
      "metadata": {
        "id": "PbhJfR388gYI"
      },
      "source": [
        "<a id=\"27\"></a> <br>\n",
        "### Visualization of NumPy broadcasting\n",
        "\n",
        "<img src=\"https://jakevdp.github.io/PythonDataScienceHandbook/figures/02.05-broadcasting.png\" alt=\"broadcasting\" border=\"0\">"
      ]
    },
    {
      "cell_type": "markdown",
      "metadata": {
        "id": "xQ5F1vIt8gYI"
      },
      "source": [
        "#### Rules of Broadcasting"
      ]
    },
    {
      "cell_type": "markdown",
      "metadata": {
        "id": "56Lehzs48gYJ"
      },
      "source": [
        "* **Broadcasting in NumPy follows a strict set of rules to determine the interaction\n",
        "between the two arrays:**\n",
        "    \n",
        "* Rule 1: If the two arrays differ in their number of dimensions, the shape of the\n",
        "one with fewer dimensions is padded with ones on its leading (left) side.\n",
        "* Rule 2: If the shape of the two arrays does not match in any dimension, the array\n",
        "with shape equal to 1 in that dimension is stretched to match the other shape.\n",
        "* Rule 3: If in any dimension the sizes disagree and neither is equal to 1, an error is\n",
        "raised."
      ]
    },
    {
      "cell_type": "markdown",
      "metadata": {
        "id": "gfRXPN_v8gYJ"
      },
      "source": [
        "<a id=\"28\"></a> <br>\n",
        "### Broadcasting example 1"
      ]
    },
    {
      "cell_type": "code",
      "metadata": {
        "id": "mq-TkH6A8gYJ",
        "colab": {
          "base_uri": "https://localhost:8080/"
        },
        "outputId": "4ba4ed61-827d-4b73-bb34-c822d537176d"
      },
      "source": [
        "#Let’s look at adding a two-dimensional array to a one-dimensional array:\n",
        "M = np.ones((2,3))\n",
        "a = np.arange(3)\n",
        "\n",
        "# Let’s consider an operation on these two arrays. The shapes of the arrays are:\n",
        "# M.shape = (2, 3)\n",
        "# a.shape = (3,)\n",
        "# We see by rule 1 that the array a has fewer dimensions, so we pad it on the left with\n",
        "# ones:\n",
        "# M.shape -> (2, 3)\n",
        "# a.shape -> (1, 3)\n",
        "# By rule 2, we now see that the first dimension disagrees, so we stretch this dimension\n",
        "# to match:\n",
        "# M.shape -> (2, 3)\n",
        "# a.shape -> (2, 3)\n",
        "# The shapes match, and we see that the final shape will be (2, 3) :\n",
        "# 이렇게 더하면? \n",
        "M+a"
      ],
      "execution_count": 157,
      "outputs": [
        {
          "output_type": "execute_result",
          "data": {
            "text/plain": [
              "array([[1., 2., 3.],\n",
              "       [1., 2., 3.]])"
            ]
          },
          "metadata": {},
          "execution_count": 157
        }
      ]
    },
    {
      "cell_type": "markdown",
      "metadata": {
        "id": "jv2JCm9y8gYJ"
      },
      "source": [
        "<a id=\"29\"></a> <br>\n",
        "### Broadcasting example 2"
      ]
    },
    {
      "cell_type": "code",
      "metadata": {
        "id": "Gr0Sv7lx8gYJ",
        "colab": {
          "base_uri": "https://localhost:8080/"
        },
        "outputId": "effb1563-c9f8-4bb3-f726-3fcc64bdd46d"
      },
      "source": [
        "# Let’s take a look at an example where both arrays need to be broadcast:\n",
        "a = np.arange(3).reshape((3,1))\n",
        "b = np.arange(3)\n",
        "# Again, we’ll start by writing out the shape of the arrays:\n",
        "\n",
        "# a.shape = (3, 1)\n",
        "# b.shape = (3,)\n",
        "# |\n",
        "# Rule 1 says we must pad the shape of b with ones:\n",
        "# a.shape -> (3, 1)\n",
        "# b.shape -> (1, 3)\n",
        "# And rule 2 tells us that we upgrade each of these ones to match the corresponding\n",
        "# size of the other array:\n",
        "# a.shape -> (3, 3)\n",
        "# b.shape -> (3, 3)\n",
        "# Because the result matches, these shapes are compatible. We can see this here:\n",
        "a+b"
      ],
      "execution_count": 159,
      "outputs": [
        {
          "output_type": "execute_result",
          "data": {
            "text/plain": [
              "array([[0, 1, 2],\n",
              "       [1, 2, 3],\n",
              "       [2, 3, 4]])"
            ]
          },
          "metadata": {},
          "execution_count": 159
        }
      ]
    },
    {
      "cell_type": "markdown",
      "metadata": {
        "id": "WS6gPhyq8gYJ"
      },
      "source": [
        "<a id=\"30\"></a> <br>\n",
        "### Broadcasting example 3"
      ]
    },
    {
      "cell_type": "code",
      "metadata": {
        "id": "0woLwjzP8gYJ"
      },
      "source": [
        "# Now let’s take a look at an example in which the two arrays are not compatible:\n",
        "\n",
        "M = np.ones((3,2))\n",
        "a = np.arange(3)\n",
        "\n",
        "# This is just a slightly different situation than in the first example: the matrix M is\n",
        "# transposed. How does this affect the calculation? The shapes of the arrays are:\n",
        "# M.shape = (3, 2)\n",
        "# a.shape = (3,)\n",
        "# Again, rule 1 tells us that we must pad the shape of a with ones:\n",
        "# M.shape -> (3, 2)\n",
        "# a.shape -> (1, 3)\n",
        "# By rule 2, the first dimension of a is stretched to match that of M :\n",
        "# M.shape -> (3, 2)\n",
        "# a.shape -> (3, 3)\n",
        "# Now we hit rule 3—the final shapes do not match, so these two arrays are incompati‐\n",
        "# ble, as we can observe by attempting this operation:\n",
        "\n",
        "# print(M+a) #ERROR! operands could not be broadcast together with shapes"
      ],
      "execution_count": 160,
      "outputs": []
    },
    {
      "cell_type": "code",
      "metadata": {
        "id": "XvS-6HxF8gYJ",
        "colab": {
          "base_uri": "https://localhost:8080/"
        },
        "outputId": "178720d6-dcea-4556-98ce-b4d0b0a8e57e"
      },
      "source": [
        "print(a[:, np.newaxis].shape)\n",
        "M + a[:, np.newaxis]"
      ],
      "execution_count": 161,
      "outputs": [
        {
          "output_type": "stream",
          "name": "stdout",
          "text": [
            "(3, 1)\n"
          ]
        },
        {
          "output_type": "execute_result",
          "data": {
            "text/plain": [
              "array([[1., 1.],\n",
              "       [2., 2.],\n",
              "       [3., 3.]])"
            ]
          },
          "metadata": {},
          "execution_count": 161
        }
      ]
    },
    {
      "cell_type": "markdown",
      "metadata": {
        "id": "Px_sOrIK8gYK"
      },
      "source": [
        "<a id=\"31\"></a> <br>\n",
        "# Comparisons, Masks, and Boolean Logic"
      ]
    },
    {
      "cell_type": "markdown",
      "metadata": {
        "id": "H_X165N58gYK"
      },
      "source": [
        "<a id=\"32\"></a> <br>\n",
        "### Comparison Operators as ufuncs"
      ]
    },
    {
      "cell_type": "markdown",
      "metadata": {
        "id": "HKNgKKJP8gYK"
      },
      "source": [
        "* The result of these comparison operators is always an array with a Boolean data type.\n",
        "All six of the standard comparison operations are available:\n",
        "\n",
        "* for example, you might wish to count all values greater than a certain value,\n",
        "or perhaps remove all outliers that are above some threshold. In NumPy,\n",
        "Boolean masking is often the most efficient way to accomplish these types of tasks."
      ]
    },
    {
      "cell_type": "code",
      "metadata": {
        "id": "Ubr5ElnN8gYK",
        "colab": {
          "base_uri": "https://localhost:8080/"
        },
        "outputId": "48cbbd2b-afdc-46ea-9797-b04beba56c8a"
      },
      "source": [
        "x = np.array([1,2,3,4,5])\n",
        "\n",
        "print(x<3)  # less than\n",
        "print(x>3)  # greater than\n",
        "print(x<=3) #less than or equal\n",
        "print(x>=3) #greater than or equal\n",
        "print(x!=3) #not equal\n",
        "print(x==3) #equal"
      ],
      "execution_count": 162,
      "outputs": [
        {
          "output_type": "stream",
          "name": "stdout",
          "text": [
            "[ True  True False False False]\n",
            "[False False False  True  True]\n",
            "[ True  True  True False False]\n",
            "[False False  True  True  True]\n",
            "[ True  True False  True  True]\n",
            "[False False  True False False]\n"
          ]
        }
      ]
    },
    {
      "cell_type": "code",
      "metadata": {
        "id": "FBQkmSyc8gYK",
        "colab": {
          "base_uri": "https://localhost:8080/"
        },
        "outputId": "29529019-b074-4613-ddc3-9c5132f4ce09"
      },
      "source": [
        "# It is also possible to do an element-by-element comparison of two arrays, and to\n",
        "# include compound expressions:\n",
        "\n",
        "(2*x) == (2**x)"
      ],
      "execution_count": 163,
      "outputs": [
        {
          "output_type": "execute_result",
          "data": {
            "text/plain": [
              "array([ True,  True, False, False, False])"
            ]
          },
          "metadata": {},
          "execution_count": 163
        }
      ]
    },
    {
      "cell_type": "code",
      "metadata": {
        "id": "fXDpQGHe8gYK"
      },
      "source": [
        "# As in the case of arithmetic operators, the comparison operators are implemented as\n",
        "# ufuncs in NumPy; for example, when you write x < 3 , internally NumPy uses\n",
        "# np.less(x, 3) . A summary of the comparison operators and their equivalent ufunc\n",
        "# is shown here:"
      ],
      "execution_count": null,
      "outputs": []
    },
    {
      "cell_type": "markdown",
      "metadata": {
        "id": "lsGWvTlE8gYK"
      },
      "source": [
        "<a id=\"33\"></a> <br>\n",
        "### Comparison operators and their equivalent\n",
        "\n",
        "<img src=\"https://3.bp.blogspot.com/-ePv8m0F9BaI/W4nwyN2vb2I/AAAAAAAAXWs/zF0LYfQGYzI4u4JILeHSnH4-jRoUgk-TwCLcBGAs/s1600/4229_2.PNG\" alt=\"Comparison operators and their equivalent\" border=\"0\">"
      ]
    },
    {
      "cell_type": "code",
      "metadata": {
        "id": "Lu3XpM4x8gYK",
        "colab": {
          "base_uri": "https://localhost:8080/"
        },
        "outputId": "9f1fb0d4-2aa5-47b5-942b-f0cd19ccd57d"
      },
      "source": [
        "rng = np.random.RandomState(seed=0)\n",
        "x = rng.randint(10, size=(3,4))\n",
        "print(x)\n",
        "\n",
        "x<6"
      ],
      "execution_count": 164,
      "outputs": [
        {
          "output_type": "stream",
          "name": "stdout",
          "text": [
            "[[5 0 3 3]\n",
            " [7 9 3 5]\n",
            " [2 4 7 6]]\n"
          ]
        },
        {
          "output_type": "execute_result",
          "data": {
            "text/plain": [
              "array([[ True,  True,  True,  True],\n",
              "       [False, False,  True,  True],\n",
              "       [ True,  True, False, False]])"
            ]
          },
          "metadata": {},
          "execution_count": 164
        }
      ]
    },
    {
      "cell_type": "markdown",
      "metadata": {
        "id": "qOKwej6J8gYL"
      },
      "source": [
        "<a id=\"34\"></a> <br>\n",
        "### Working with Boolean Arrays "
      ]
    },
    {
      "cell_type": "code",
      "metadata": {
        "id": "U3q7DPz48gYL",
        "colab": {
          "base_uri": "https://localhost:8080/"
        },
        "outputId": "646b3e16-2404-48aa-dcf8-93b112641f3e"
      },
      "source": [
        "print(x)\n",
        "\n",
        "# To count the number of True entries in a Boolean array, np.count_nonzero is useful:\n",
        "\n",
        "# how many values less than 6?\n",
        "print(\"1-: \",np.count_nonzero(x<6))\n",
        "\n",
        "# We see that there are eight array entries that are less than 6. Another way to get at this\n",
        "# information is to use np.sum ; in this case, False is interpreted as 0 , and True is inter‐\n",
        "# preted as 1 :\n",
        "\n",
        "print(\"2-: \",np.sum(x<6))\n",
        "\n",
        "print(\"3-: \",np.sum(x!=np.nan))\n",
        "print(\"4-: \",np.count_nonzero(x!=np.nan))"
      ],
      "execution_count": 165,
      "outputs": [
        {
          "output_type": "stream",
          "name": "stdout",
          "text": [
            "[[5 0 3 3]\n",
            " [7 9 3 5]\n",
            " [2 4 7 6]]\n",
            "1-:  8\n",
            "2-:  8\n",
            "3-:  12\n",
            "4-:  12\n"
          ]
        }
      ]
    },
    {
      "cell_type": "code",
      "metadata": {
        "id": "Zmzj892k8gYL",
        "colab": {
          "base_uri": "https://localhost:8080/"
        },
        "outputId": "e86a43b5-2e2b-4685-dbe9-58daa3b7a2cf"
      },
      "source": [
        "# how many values less than 6 in each row?\n",
        "print(np.sum(x < 6, axis=1))\n",
        "\n",
        "# how many values less than 6 in each column?\n",
        "print(np.sum(x < 6, axis=0))"
      ],
      "execution_count": 166,
      "outputs": [
        {
          "output_type": "stream",
          "name": "stdout",
          "text": [
            "[4 2 2]\n",
            "[2 2 2 2]\n"
          ]
        }
      ]
    },
    {
      "cell_type": "code",
      "metadata": {
        "id": "giiHkQKL8gYL",
        "colab": {
          "base_uri": "https://localhost:8080/"
        },
        "outputId": "9673875f-925e-4151-a0dd-98591e8a571c"
      },
      "source": [
        "# If we’re interested in quickly checking whether any or all the values are true, we can\n",
        "# use (you guessed it) np.any() or np.all() :\n",
        "\n",
        "# are there any values greater than 8?\n",
        "print(np.any(x>8))\n",
        "\n",
        "# are there any values less than zero?\n",
        "print(np.any(x<0))\n",
        "\n",
        "# are all values less than 10?\n",
        "print(np.all(x<10))\n",
        "\n",
        "# are all values equal to 6?\n",
        "print(np.all(x==6))"
      ],
      "execution_count": 167,
      "outputs": [
        {
          "output_type": "stream",
          "name": "stdout",
          "text": [
            "True\n",
            "False\n",
            "True\n",
            "False\n"
          ]
        }
      ]
    },
    {
      "cell_type": "code",
      "metadata": {
        "id": "c_hZyuz38gYL",
        "colab": {
          "base_uri": "https://localhost:8080/"
        },
        "outputId": "f9be7ec7-4c48-4774-c005-66fabf1fbdf9"
      },
      "source": [
        "# are all values in each row less than 8?\n",
        "print(np.all(x<8, axis=1))\n",
        "\n",
        "# are all values in each column less than 3?\n",
        "print(np.all(x<3, axis=0))"
      ],
      "execution_count": 168,
      "outputs": [
        {
          "output_type": "stream",
          "name": "stdout",
          "text": [
            "[ True False  True]\n",
            "[False False False False]\n"
          ]
        }
      ]
    },
    {
      "cell_type": "code",
      "metadata": {
        "id": "qntVlCq68gYL",
        "colab": {
          "base_uri": "https://localhost:8080/"
        },
        "outputId": "2cef249e-2009-4a5c-d98a-600e3e8296bf"
      },
      "source": [
        "print(x)\n",
        "print(x<5)\n",
        "print(x[x<5])"
      ],
      "execution_count": 169,
      "outputs": [
        {
          "output_type": "stream",
          "name": "stdout",
          "text": [
            "[[5 0 3 3]\n",
            " [7 9 3 5]\n",
            " [2 4 7 6]]\n",
            "[[False  True  True  True]\n",
            " [False False  True False]\n",
            " [ True  True False False]]\n",
            "[0 3 3 3 2 4]\n"
          ]
        }
      ]
    },
    {
      "cell_type": "code",
      "metadata": {
        "id": "jXP1Cvcs8gYL",
        "colab": {
          "base_uri": "https://localhost:8080/"
        },
        "outputId": "49ce4c74-6ce5-4c1d-e11f-14a129477a7b"
      },
      "source": [
        "# In Python, all nonzero integers will evaluate as True .\n",
        "bool(42), bool(0), bool(-1)"
      ],
      "execution_count": 170,
      "outputs": [
        {
          "output_type": "execute_result",
          "data": {
            "text/plain": [
              "(True, False, True)"
            ]
          },
          "metadata": {},
          "execution_count": 170
        }
      ]
    },
    {
      "cell_type": "code",
      "metadata": {
        "id": "LiyUwvb98gYM",
        "colab": {
          "base_uri": "https://localhost:8080/"
        },
        "outputId": "3df48184-9288-4c2f-fc8b-63beacebb48e"
      },
      "source": [
        "bool(42 and 0)"
      ],
      "execution_count": 171,
      "outputs": [
        {
          "output_type": "execute_result",
          "data": {
            "text/plain": [
              "False"
            ]
          },
          "metadata": {},
          "execution_count": 171
        }
      ]
    },
    {
      "cell_type": "code",
      "metadata": {
        "id": "3iSMT4XN8gYM",
        "colab": {
          "base_uri": "https://localhost:8080/"
        },
        "outputId": "c9fdcefc-ec43-4729-887f-4b5a2d4fa97b"
      },
      "source": [
        "bool(42 or 0)"
      ],
      "execution_count": 172,
      "outputs": [
        {
          "output_type": "execute_result",
          "data": {
            "text/plain": [
              "True"
            ]
          },
          "metadata": {},
          "execution_count": 172
        }
      ]
    },
    {
      "cell_type": "code",
      "metadata": {
        "id": "c24iQ5Iw8gYM",
        "colab": {
          "base_uri": "https://localhost:8080/"
        },
        "outputId": "281596d4-bac7-47ac-b7ae-b517b8f4c970"
      },
      "source": [
        "# When you have an array of Boolean values in NumPy, this can be thought of as a\n",
        "# string of bits where 1 = True and 0 = False , and the result of & and | operates in a\n",
        "# similar manner as before:\n",
        "\n",
        "A = np.array([1, 0, 1, 0, 1, 0], dtype=bool)\n",
        "B = np.array([1, 1, 1, 0, 1, 1], dtype=bool)\n",
        "A | B"
      ],
      "execution_count": 173,
      "outputs": [
        {
          "output_type": "execute_result",
          "data": {
            "text/plain": [
              "array([ True,  True,  True, False,  True,  True])"
            ]
          },
          "metadata": {},
          "execution_count": 173
        }
      ]
    },
    {
      "cell_type": "code",
      "metadata": {
        "id": "MZUT_4LI8gYM",
        "colab": {
          "base_uri": "https://localhost:8080/"
        },
        "outputId": "de26dfa2-32d0-4a8b-9eac-dcf07318639c"
      },
      "source": [
        "x = np.arange(10)\n",
        "(x > 4) & (x < 8)"
      ],
      "execution_count": 174,
      "outputs": [
        {
          "output_type": "execute_result",
          "data": {
            "text/plain": [
              "array([False, False, False, False, False,  True,  True,  True, False,\n",
              "       False])"
            ]
          },
          "metadata": {},
          "execution_count": 174
        }
      ]
    },
    {
      "cell_type": "markdown",
      "metadata": {
        "id": "u0BrB-Dg8gYM"
      },
      "source": [
        "<a id=\"35\"></a> <br>\n",
        "# Fancy Indexing"
      ]
    },
    {
      "cell_type": "markdown",
      "metadata": {
        "id": "X6uYoAQd8gYM"
      },
      "source": [
        "<a id=\"36\"></a> <br>\n",
        "### Exploring Fancy Indexing"
      ]
    },
    {
      "cell_type": "code",
      "metadata": {
        "id": "IrfFK0bC8gYN",
        "colab": {
          "base_uri": "https://localhost:8080/"
        },
        "outputId": "7a0f11f0-18ed-4259-eb30-c7db19e56017"
      },
      "source": [
        "import numpy as np\n",
        "\n",
        "rand = np.random.RandomState(42)\n",
        "x = rand.randint(100, size=10)\n",
        "print(x)"
      ],
      "execution_count": 183,
      "outputs": [
        {
          "output_type": "stream",
          "name": "stdout",
          "text": [
            "[51 92 14 71 60 20 82 86 74 74]\n"
          ]
        }
      ]
    },
    {
      "cell_type": "code",
      "metadata": {
        "id": "huX4WkJS8gYN",
        "colab": {
          "base_uri": "https://localhost:8080/"
        },
        "outputId": "72c01116-de21-4059-c1db-6c3aadacb009"
      },
      "source": [
        "[x[3],x[7],x[2]]"
      ],
      "execution_count": 184,
      "outputs": [
        {
          "output_type": "execute_result",
          "data": {
            "text/plain": [
              "[71, 86, 14]"
            ]
          },
          "metadata": {},
          "execution_count": 184
        }
      ]
    },
    {
      "cell_type": "code",
      "metadata": {
        "id": "hSwacEKu8gYN",
        "colab": {
          "base_uri": "https://localhost:8080/"
        },
        "outputId": "5c641b9f-254c-410e-8d3d-f84584fafadf"
      },
      "source": [
        "ind = [3,7,4]\n",
        "x[ind]"
      ],
      "execution_count": 185,
      "outputs": [
        {
          "output_type": "execute_result",
          "data": {
            "text/plain": [
              "array([71, 86, 60])"
            ]
          },
          "metadata": {},
          "execution_count": 185
        }
      ]
    },
    {
      "cell_type": "code",
      "metadata": {
        "id": "Bz3qhrc38gYN",
        "colab": {
          "base_uri": "https://localhost:8080/"
        },
        "outputId": "aac8bc36-235d-4b13-960b-8e2a0c1f4f3b"
      },
      "source": [
        "ind = np.array([[3, 7],\n",
        "                [4, 5]])\n",
        "x[ind]"
      ],
      "execution_count": 186,
      "outputs": [
        {
          "output_type": "execute_result",
          "data": {
            "text/plain": [
              "array([[71, 86],\n",
              "       [60, 20]])"
            ]
          },
          "metadata": {},
          "execution_count": 186
        }
      ]
    },
    {
      "cell_type": "code",
      "metadata": {
        "id": "U5ddD61f8gYO",
        "colab": {
          "base_uri": "https://localhost:8080/"
        },
        "outputId": "372315a1-cca7-4567-f51c-750cb616255c"
      },
      "source": [
        "X = np.arange(12).reshape((3,4))\n",
        "X"
      ],
      "execution_count": 187,
      "outputs": [
        {
          "output_type": "execute_result",
          "data": {
            "text/plain": [
              "array([[ 0,  1,  2,  3],\n",
              "       [ 4,  5,  6,  7],\n",
              "       [ 8,  9, 10, 11]])"
            ]
          },
          "metadata": {},
          "execution_count": 187
        }
      ]
    },
    {
      "cell_type": "code",
      "metadata": {
        "id": "Vo4K5FZv8gYO",
        "colab": {
          "base_uri": "https://localhost:8080/"
        },
        "outputId": "dbdaa7f6-2754-48d5-a4eb-184df22efbc3"
      },
      "source": [
        "row = np.array([0,1,2])\n",
        "col = np.array([2,1,3])\n",
        "X[row,col]"
      ],
      "execution_count": 188,
      "outputs": [
        {
          "output_type": "execute_result",
          "data": {
            "text/plain": [
              "array([ 2,  5, 11])"
            ]
          },
          "metadata": {},
          "execution_count": 188
        }
      ]
    },
    {
      "cell_type": "code",
      "metadata": {
        "id": "IkxBONs78gYO",
        "colab": {
          "base_uri": "https://localhost:8080/"
        },
        "outputId": "77f10dfd-f232-433c-ec88-31a74c484ed5"
      },
      "source": [
        "X[row[:, np.newaxis], col] #row[:, np.newaxis].shape (3,1)"
      ],
      "execution_count": 189,
      "outputs": [
        {
          "output_type": "execute_result",
          "data": {
            "text/plain": [
              "array([[ 2,  1,  3],\n",
              "       [ 6,  5,  7],\n",
              "       [10,  9, 11]])"
            ]
          },
          "metadata": {},
          "execution_count": 189
        }
      ]
    },
    {
      "cell_type": "code",
      "metadata": {
        "id": "xJDbyRj28gYO",
        "colab": {
          "base_uri": "https://localhost:8080/"
        },
        "outputId": "704d442f-e79a-4157-e4a7-b174d8eb8079"
      },
      "source": [
        "# Here, each row value is matched with each column vector, exactly as we saw in broad‐\n",
        "# casting of arithmetic operations. For example:\n",
        "\n",
        "row[:, np.newaxis] * col"
      ],
      "execution_count": 190,
      "outputs": [
        {
          "output_type": "execute_result",
          "data": {
            "text/plain": [
              "array([[0, 0, 0],\n",
              "       [2, 1, 3],\n",
              "       [4, 2, 6]])"
            ]
          },
          "metadata": {},
          "execution_count": 190
        }
      ]
    },
    {
      "cell_type": "markdown",
      "metadata": {
        "id": "FC1P-i3I8gYO"
      },
      "source": [
        "<a id=\"37\"></a> <br>\n",
        "### Combined Indexing"
      ]
    },
    {
      "cell_type": "code",
      "metadata": {
        "id": "xhlOOMmT8gYO",
        "colab": {
          "base_uri": "https://localhost:8080/"
        },
        "outputId": "b1fd8518-076f-4a15-8243-5abe38b56c34"
      },
      "source": [
        "print(X)"
      ],
      "execution_count": 191,
      "outputs": [
        {
          "output_type": "stream",
          "name": "stdout",
          "text": [
            "[[ 0  1  2  3]\n",
            " [ 4  5  6  7]\n",
            " [ 8  9 10 11]]\n"
          ]
        }
      ]
    },
    {
      "cell_type": "code",
      "metadata": {
        "id": "YB1wdoMw8gYO",
        "colab": {
          "base_uri": "https://localhost:8080/"
        },
        "outputId": "767e821d-8da2-46a0-9d04-dcfd11f7209b"
      },
      "source": [
        "X[2,[2,0,1]]"
      ],
      "execution_count": 192,
      "outputs": [
        {
          "output_type": "execute_result",
          "data": {
            "text/plain": [
              "array([10,  8,  9])"
            ]
          },
          "metadata": {},
          "execution_count": 192
        }
      ]
    },
    {
      "cell_type": "code",
      "metadata": {
        "id": "q8rg_WqM8gYP",
        "colab": {
          "base_uri": "https://localhost:8080/"
        },
        "outputId": "29bd95c5-ec09-4555-e643-5410dc8fbd3d"
      },
      "source": [
        "X[1:, [2, 0, 1]]"
      ],
      "execution_count": 193,
      "outputs": [
        {
          "output_type": "execute_result",
          "data": {
            "text/plain": [
              "array([[ 6,  4,  5],\n",
              "       [10,  8,  9]])"
            ]
          },
          "metadata": {},
          "execution_count": 193
        }
      ]
    },
    {
      "cell_type": "code",
      "metadata": {
        "id": "sEK7SeLU8gYP",
        "colab": {
          "base_uri": "https://localhost:8080/"
        },
        "outputId": "4e7d6454-0a2b-4816-ff36-15fad6932743"
      },
      "source": [
        "mask = np.array([1, 0, 1, 0], dtype=bool)\n",
        "X[row[:, np.newaxis], mask]  # mask 0 and 2 indixes are true!"
      ],
      "execution_count": 194,
      "outputs": [
        {
          "output_type": "execute_result",
          "data": {
            "text/plain": [
              "array([[ 0,  2],\n",
              "       [ 4,  6],\n",
              "       [ 8, 10]])"
            ]
          },
          "metadata": {},
          "execution_count": 194
        }
      ]
    },
    {
      "cell_type": "markdown",
      "metadata": {
        "id": "-Il_fzY98gYP"
      },
      "source": [
        "<a id=\"38\"></a> <br>\n",
        "### Modifying Values with Fancy Indexing"
      ]
    },
    {
      "cell_type": "code",
      "metadata": {
        "id": "aFrrnx5b8gYP",
        "colab": {
          "base_uri": "https://localhost:8080/"
        },
        "outputId": "ee4baf24-2937-488f-c676-6e5afebac725"
      },
      "source": [
        "x = np.arange(10)\n",
        "i = np.array([2,1,8,4])\n",
        "x[i] = 99\n",
        "print(x)"
      ],
      "execution_count": 195,
      "outputs": [
        {
          "output_type": "stream",
          "name": "stdout",
          "text": [
            "[ 0 99 99  3 99  5  6  7 99  9]\n"
          ]
        }
      ]
    },
    {
      "cell_type": "code",
      "metadata": {
        "id": "EtxcOo008gYP",
        "colab": {
          "base_uri": "https://localhost:8080/"
        },
        "outputId": "bb87b0f3-5ef9-43a4-e144-35cc821e527a"
      },
      "source": [
        "x[i] -= 10\n",
        "print(x)"
      ],
      "execution_count": 196,
      "outputs": [
        {
          "output_type": "stream",
          "name": "stdout",
          "text": [
            "[ 0 89 89  3 89  5  6  7 89  9]\n"
          ]
        }
      ]
    },
    {
      "cell_type": "code",
      "metadata": {
        "id": "E86L6D4F8gYP",
        "colab": {
          "base_uri": "https://localhost:8080/"
        },
        "outputId": "1ab38707-2c64-4648-bcb1-f4543b7cd6d1"
      },
      "source": [
        "x = np.zeros(10)\n",
        "x[[0, 2]] = [4, 6]\n",
        "print(x)"
      ],
      "execution_count": 197,
      "outputs": [
        {
          "output_type": "stream",
          "name": "stdout",
          "text": [
            "[4. 0. 6. 0. 0. 0. 0. 0. 0. 0.]\n"
          ]
        }
      ]
    },
    {
      "cell_type": "code",
      "metadata": {
        "id": "bKZMKcnz8gYP",
        "colab": {
          "base_uri": "https://localhost:8080/"
        },
        "outputId": "c979258c-93d9-4848-f342-88f8df91a7aa"
      },
      "source": [
        "x = np.zeros(10)\n",
        "x[[0, 0]] = [4, 6]\n",
        "print(x)\n",
        "\n",
        "# Where did the 4 go? The result of this operation is to first assign x[0] = 4 , followed\n",
        "# by x[0] = 6 . The result, of course, is that x[0] contains the value 6."
      ],
      "execution_count": 198,
      "outputs": [
        {
          "output_type": "stream",
          "name": "stdout",
          "text": [
            "[6. 0. 0. 0. 0. 0. 0. 0. 0. 0.]\n"
          ]
        }
      ]
    },
    {
      "cell_type": "code",
      "metadata": {
        "id": "ziMnU-_w8gYP",
        "colab": {
          "base_uri": "https://localhost:8080/"
        },
        "outputId": "b975e2f8-d099-4f98-946a-b79db91da4aa"
      },
      "source": [
        "i = [2, 3, 3, 4, 4, 4]\n",
        "x[i] += 1\n",
        "x"
      ],
      "execution_count": 199,
      "outputs": [
        {
          "output_type": "execute_result",
          "data": {
            "text/plain": [
              "array([6., 0., 1., 1., 1., 0., 0., 0., 0., 0.])"
            ]
          },
          "metadata": {},
          "execution_count": 199
        }
      ]
    },
    {
      "cell_type": "code",
      "metadata": {
        "id": "TNPLPU_B8gYQ",
        "colab": {
          "base_uri": "https://localhost:8080/"
        },
        "outputId": "4298a017-f549-4e6e-c456-b8ffe3d460ee"
      },
      "source": [
        "x = np.zeros(10)\n",
        "np.add.at(x, i, 1)\n",
        "print(x)"
      ],
      "execution_count": 200,
      "outputs": [
        {
          "output_type": "stream",
          "name": "stdout",
          "text": [
            "[0. 0. 1. 2. 3. 0. 0. 0. 0. 0.]\n"
          ]
        }
      ]
    },
    {
      "cell_type": "markdown",
      "metadata": {
        "id": "v21IJAgs8gYQ"
      },
      "source": [
        "<a id=\"39\"></a> <br>\n",
        "# Sorting Arrays"
      ]
    },
    {
      "cell_type": "markdown",
      "metadata": {
        "id": "VP4XqVw_8gYQ"
      },
      "source": [
        "<a id=\"40\"></a> <br>\n",
        "### Fast Sorting in NumPy: np.sort and np.argsort"
      ]
    },
    {
      "cell_type": "code",
      "metadata": {
        "id": "r_I2CiRi8gYQ",
        "colab": {
          "base_uri": "https://localhost:8080/"
        },
        "outputId": "2b46a5c1-9ec9-4194-9184-0195bb75a0b3"
      },
      "source": [
        "x = np.array([2,1,4,3,5])\n",
        "np.sort(x)"
      ],
      "execution_count": 201,
      "outputs": [
        {
          "output_type": "execute_result",
          "data": {
            "text/plain": [
              "array([1, 2, 3, 4, 5])"
            ]
          },
          "metadata": {},
          "execution_count": 201
        }
      ]
    },
    {
      "cell_type": "code",
      "metadata": {
        "id": "pncnD3Df8gYQ",
        "colab": {
          "base_uri": "https://localhost:8080/"
        },
        "outputId": "e137cd30-9f1f-428f-e3a9-3725aa5068ce"
      },
      "source": [
        "x.sort()\n",
        "print(x)"
      ],
      "execution_count": 202,
      "outputs": [
        {
          "output_type": "stream",
          "name": "stdout",
          "text": [
            "[1 2 3 4 5]\n"
          ]
        }
      ]
    },
    {
      "cell_type": "code",
      "metadata": {
        "id": "VWXUuc8e8gYQ",
        "colab": {
          "base_uri": "https://localhost:8080/"
        },
        "outputId": "4d1e0b03-5ba7-4999-ee99-5c1c27f5f247"
      },
      "source": [
        "#return indices\n",
        "x = np.array([2,1,4,3,5])\n",
        "i = np.argsort(x)\n",
        "print(i)\n",
        "\n",
        "x[i]"
      ],
      "execution_count": 203,
      "outputs": [
        {
          "output_type": "stream",
          "name": "stdout",
          "text": [
            "[1 0 3 2 4]\n"
          ]
        },
        {
          "output_type": "execute_result",
          "data": {
            "text/plain": [
              "array([1, 2, 3, 4, 5])"
            ]
          },
          "metadata": {},
          "execution_count": 203
        }
      ]
    },
    {
      "cell_type": "markdown",
      "metadata": {
        "id": "JidAzbNI8gYR"
      },
      "source": [
        "<a id=\"41\"></a> <br>\n",
        "### Sorting along rows or columns"
      ]
    },
    {
      "cell_type": "code",
      "metadata": {
        "id": "JtuTalty8gYR",
        "colab": {
          "base_uri": "https://localhost:8080/"
        },
        "outputId": "642903f9-a441-4d75-84f6-2958a551d16e"
      },
      "source": [
        "# A useful feature of NumPy’s sorting algorithms is the ability to sort along specific\n",
        "# rows or columns of a multidimensional array using the axis argument. For example:\n",
        "\n",
        "rand = np.random.RandomState(42)\n",
        "X = rand.randint(0,10,(4,6))\n",
        "print(X)"
      ],
      "execution_count": 204,
      "outputs": [
        {
          "output_type": "stream",
          "name": "stdout",
          "text": [
            "[[6 3 7 4 6 9]\n",
            " [2 6 7 4 3 7]\n",
            " [7 2 5 4 1 7]\n",
            " [5 1 4 0 9 5]]\n"
          ]
        }
      ]
    },
    {
      "cell_type": "code",
      "metadata": {
        "id": "U0pARIct8gYR",
        "colab": {
          "base_uri": "https://localhost:8080/"
        },
        "outputId": "63c37825-6d3d-4ebb-d336-eaaa65f86cc1"
      },
      "source": [
        "# sort each column of X\n",
        "\n",
        "np.sort(X, axis=0)"
      ],
      "execution_count": 205,
      "outputs": [
        {
          "output_type": "execute_result",
          "data": {
            "text/plain": [
              "array([[2, 1, 4, 0, 1, 5],\n",
              "       [5, 2, 5, 4, 3, 7],\n",
              "       [6, 3, 7, 4, 6, 7],\n",
              "       [7, 6, 7, 4, 9, 9]])"
            ]
          },
          "metadata": {},
          "execution_count": 205
        }
      ]
    },
    {
      "cell_type": "code",
      "metadata": {
        "id": "7KWq6opc8gYR",
        "colab": {
          "base_uri": "https://localhost:8080/"
        },
        "outputId": "23cce30c-3f07-4aaf-b228-b243a1b38c3f"
      },
      "source": [
        "# sort each row of X\n",
        "\n",
        "np.sort(X, axis=1)"
      ],
      "execution_count": 206,
      "outputs": [
        {
          "output_type": "execute_result",
          "data": {
            "text/plain": [
              "array([[3, 4, 6, 6, 7, 9],\n",
              "       [2, 3, 4, 6, 7, 7],\n",
              "       [1, 2, 4, 5, 7, 7],\n",
              "       [0, 1, 4, 5, 5, 9]])"
            ]
          },
          "metadata": {},
          "execution_count": 206
        }
      ]
    },
    {
      "cell_type": "markdown",
      "metadata": {
        "id": "bvt_W7i08gYR"
      },
      "source": [
        "<a id=\"42\"></a> <br>\n",
        "### Partial Sorts: Partitioning"
      ]
    },
    {
      "cell_type": "code",
      "metadata": {
        "id": "zzFC2nyv8gYR",
        "colab": {
          "base_uri": "https://localhost:8080/"
        },
        "outputId": "3ffeb8a1-32a7-43fd-c840-9bd2e43aa45e"
      },
      "source": [
        "# Note that the first three values in the resulting array are the three smallest in the\n",
        "# array, and the remaining array positions contain the remaining values. Within the\n",
        "# two partitions, the elements have arbitrary order.\n",
        "\n",
        "x = np.array([7, 2, 1, 3, 6, 5, 4])\n",
        "np.partition(x, 3)"
      ],
      "execution_count": 207,
      "outputs": [
        {
          "output_type": "execute_result",
          "data": {
            "text/plain": [
              "array([2, 3, 1, 4, 6, 5, 7])"
            ]
          },
          "metadata": {},
          "execution_count": 207
        }
      ]
    },
    {
      "cell_type": "code",
      "metadata": {
        "id": "Oq84nTJ18gYR",
        "colab": {
          "base_uri": "https://localhost:8080/"
        },
        "outputId": "04b65349-bd6a-4797-c333-43549845a66d"
      },
      "source": [
        "# The result is an array where the first two slots in each row contain the smallest values\n",
        "# from that row, with the remaining values filling the remaining slots.\n",
        "\n",
        "np.partition(X, 2, axis=1)"
      ],
      "execution_count": 208,
      "outputs": [
        {
          "output_type": "execute_result",
          "data": {
            "text/plain": [
              "array([[3, 4, 6, 7, 6, 9],\n",
              "       [2, 3, 4, 7, 6, 7],\n",
              "       [1, 2, 4, 5, 7, 7],\n",
              "       [0, 1, 4, 5, 9, 5]])"
            ]
          },
          "metadata": {},
          "execution_count": 208
        }
      ]
    },
    {
      "cell_type": "code",
      "metadata": {
        "id": "jidsXDI48gYR",
        "colab": {
          "base_uri": "https://localhost:8080/"
        },
        "outputId": "0b66b50e-26ee-4410-8081-1fe07f9b8766"
      },
      "source": [
        "np.partition(X, 2, axis=0)"
      ],
      "execution_count": 209,
      "outputs": [
        {
          "output_type": "execute_result",
          "data": {
            "text/plain": [
              "array([[2, 1, 4, 0, 1, 5],\n",
              "       [5, 2, 5, 4, 3, 7],\n",
              "       [6, 3, 7, 4, 6, 7],\n",
              "       [7, 6, 7, 4, 9, 9]])"
            ]
          },
          "metadata": {},
          "execution_count": 209
        }
      ]
    },
    {
      "cell_type": "code",
      "metadata": {
        "id": "EJXe1VE58gYS",
        "colab": {
          "base_uri": "https://localhost:8080/"
        },
        "outputId": "abb4afe3-fc20-4fdc-ecd8-6ab01948a57c"
      },
      "source": [
        "np.argpartition(X, 2, axis=1)"
      ],
      "execution_count": 210,
      "outputs": [
        {
          "output_type": "execute_result",
          "data": {
            "text/plain": [
              "array([[1, 3, 0, 2, 4, 5],\n",
              "       [0, 4, 3, 2, 1, 5],\n",
              "       [4, 1, 3, 2, 0, 5],\n",
              "       [3, 1, 2, 0, 4, 5]])"
            ]
          },
          "metadata": {},
          "execution_count": 210
        }
      ]
    },
    {
      "cell_type": "code",
      "metadata": {
        "id": "dI7Qd3zP8gYS",
        "colab": {
          "base_uri": "https://localhost:8080/"
        },
        "outputId": "1966c566-8986-41d3-c217-fc6eb6b29cb9"
      },
      "source": [
        "np.argpartition(X, 2, axis=0)"
      ],
      "execution_count": 211,
      "outputs": [
        {
          "output_type": "execute_result",
          "data": {
            "text/plain": [
              "array([[1, 3, 3, 3, 2, 3],\n",
              "       [3, 2, 2, 1, 1, 1],\n",
              "       [0, 0, 1, 2, 0, 2],\n",
              "       [2, 1, 0, 0, 3, 0]])"
            ]
          },
          "metadata": {},
          "execution_count": 211
        }
      ]
    },
    {
      "cell_type": "markdown",
      "metadata": {
        "id": "K-tEOgZe8gYS"
      },
      "source": [
        "# This kernel will be updated regularly."
      ]
    },
    {
      "cell_type": "markdown",
      "metadata": {
        "id": "Ki_Qzwxm8gYS"
      },
      "source": [
        "<a id=\"42\"></a>\n",
        "# Conclusion\n",
        "* **If you like it, please upvote   :)**\n",
        "* **If you have any question, I will be appreciate to hear it   :)**"
      ]
    }
  ]
}