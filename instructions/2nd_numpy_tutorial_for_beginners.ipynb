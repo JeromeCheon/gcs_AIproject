{
  "nbformat": 4,
  "nbformat_minor": 0,
  "metadata": {
    "kernelspec": {
      "display_name": "Python 3",
      "language": "python",
      "name": "python3"
    },
    "language_info": {
      "codemirror_mode": {
        "name": "ipython",
        "version": 3
      },
      "file_extension": ".py",
      "mimetype": "text/x-python",
      "name": "python",
      "nbconvert_exporter": "python",
      "pygments_lexer": "ipython3",
      "version": "3.6.6"
    },
    "colab": {
      "name": "numpy-tutorial-for-beginners.ipynb",
      "provenance": [],
      "collapsed_sections": [
        "D3xduqMX8gX0",
        "4wHjhv5x8gX1",
        "9ckFipRM8gX2",
        "kqNx67b38gX4",
        "sVl8Wze28gX4",
        "VsogBAWM8gX6",
        "2bz7K1n98gX7",
        "pt3XX_C68gX7",
        "xaz_65AV8gX8",
        "B_JyptN88gX9",
        "shadeOJm8gX-",
        "tMlv5iV38gX-",
        "9_Gbxg-08gX_",
        "OJufc5GN8gYB",
        "6jR3GjHO8gYB",
        "bEQsNeCG8gYC",
        "cIjWNRW_8gYC",
        "yfOS0dEC8gYD",
        "OXdk0PcC8gYE",
        "ib-4FarG8gYE",
        "nacTd5ha8gYE",
        "MucORjTy8gYF",
        "VsrHFTxP8gYF",
        "VqTV0GRv8gYG",
        "rCUM938L8gYG",
        "pZWB9_oq8gYH",
        "PbhJfR388gYI",
        "xQ5F1vIt8gYI",
        "gfRXPN_v8gYJ",
        "jv2JCm9y8gYJ",
        "WS6gPhyq8gYJ",
        "H_X165N58gYK",
        "lsGWvTlE8gYK",
        "qOKwej6J8gYL",
        "X6uYoAQd8gYM",
        "FC1P-i3I8gYO",
        "-Il_fzY98gYP",
        "VP4XqVw_8gYQ",
        "JidAzbNI8gYR",
        "bvt_W7i08gYR"
      ],
      "include_colab_link": true
    }
  },
  "cells": [
    {
      "cell_type": "markdown",
      "metadata": {
        "id": "view-in-github",
        "colab_type": "text"
      },
      "source": [
        "<a href=\"https://colab.research.google.com/github/JeromeCheon/gcs_AIproject/blob/master/instructions/2nd_numpy_tutorial_for_beginners.ipynb\" target=\"_parent\"><img src=\"https://colab.research.google.com/assets/colab-badge.svg\" alt=\"Open In Colab\"/></a>"
      ]
    },
    {
      "cell_type": "markdown",
      "metadata": {
        "id": "_ZzKOcMa8gXo"
      },
      "source": [
        "<img src=\"https://upload.wikimedia.org/wikipedia/commons/thumb/1/1a/NumPy_logo.svg/1200px-NumPy_logo.svg.png\" alt=\"cce\" border=\"0\">"
      ]
    },
    {
      "cell_type": "markdown",
      "metadata": {
        "id": "pBDcoHTK8gXq"
      },
      "source": [
        "### Resources that help me prepare this kernel:\n",
        "\n",
        "* https://www.oreilly.com/library/view/python-data-science/9781491912126/"
      ]
    },
    {
      "cell_type": "markdown",
      "metadata": {
        "id": "hlaU73oL8gXr"
      },
      "source": [
        "\n",
        "### In this kernel, we will cover NumPy in detail.\n",
        "\n",
        "**Content:**\n",
        "\n",
        "1. [Introduction to NumPy](#1)\n",
        "2. [Understanding Data Types in Python](#2)\n",
        "      * [Creating Arrays from Scratch](#3)\n",
        "      * [NumPy Standard Data Types](#4)\n",
        "3. [The Basics of NumPy Arrays](#5)\n",
        "      * [NumPy Array Attributes](#6)\n",
        "      * [Array Indexing: Accessing Single Elements](#7)\n",
        "      * [Array Slicing: Accessing Subarrays](#8)\n",
        "         * 1- [One-dimensional subarrays](#43)  \n",
        "         * 2- [Multidimensional subarrays](#44)\n",
        "         * 3- [Accessing array rows and columns](#45)\n",
        "         * 4- [Subarrays as no-copy views](#46)\n",
        "         * 5- [Creating copies of arrays](#47)\n",
        "      * [Reshaping of Arrays](#9)\n",
        "      * [Array Concatenation and Splitting](#10)\n",
        "4. [Computation on NumPy Arrays: Universal Functions](#11)\n",
        "      * [Exploring NumPy’s UFuncs](#12)\n",
        "         * 1- [Array arithmetic](#13)  \n",
        "         * 2- [Exponents and logarithms](#14)\n",
        "         * 3- [Absolute value](#15)\n",
        "         * 4- [Trigonometric functions](#16)\n",
        "      * [Advanced Ufunc Features](#17)\n",
        "         * 1- [Specifying output](#18)  \n",
        "         * 2- [Aggregates](#19)\n",
        "         * 3- [Outer products](#20)\n",
        "5. [Aggregations: Min, Max, and Everything in Between](#21)\n",
        "      * [Summing the Values in an Array](#22)\n",
        "      * [Minimum and Maximum](#23)\n",
        "      * [Multidimensional aggregates](#24)\n",
        "6. [Computation on Arrays: Broadcasting](#25)\n",
        "      * [Introducing Broadcasting](#26)\n",
        "      * [Visualization of NumPy broadcasting](#27)\n",
        "      * [Broadcasting example 1](#28)\n",
        "      * [Broadcasting example 2](#29)\n",
        "      * [Broadcasting example 3](#30)\n",
        "7. [Comparisons, Masks, and Boolean Logic](#31)\n",
        "      * [Comparison Operators as ufuncs](#32)\n",
        "      * [Working with Boolean Arrays ](#33)\n",
        "8. [Fancy Indexing](#34)\n",
        "      * [Exploring Fancy Indexing](#35)   \n",
        "      * [Combined Indexing](#36) \n",
        "      * [Modifying Values with Fancy Indexing](#37)\n",
        "9. [Fancy Indexing](#38)\n",
        "      * [Fast Sorting in NumPy: np.sort and np.argsort](#39)   \n",
        "      * [Sorting along rows or columns](#40) \n",
        "      * [Partial Sorts: Partitioning](#41)\n",
        "10. [Conclusion](#42)   "
      ]
    },
    {
      "cell_type": "markdown",
      "metadata": {
        "id": "B3vV-JzW8gXr"
      },
      "source": [
        "<a id=\"1\"></a> <br>\n",
        "# Introduction to NumPy\n",
        "\n",
        "* NumPy is the fundamental package for scientific computing in Python"
      ]
    },
    {
      "cell_type": "code",
      "metadata": {
        "id": "i4Fmnfyo8gXs",
        "colab": {
          "base_uri": "https://localhost:8080/"
        },
        "outputId": "567c28a4-9366-4637-bc17-1abbe04e1479"
      },
      "source": [
        "!pip install numpy\n",
        "import numpy as np"
      ],
      "execution_count": null,
      "outputs": [
        {
          "output_type": "stream",
          "name": "stdout",
          "text": [
            "Requirement already satisfied: numpy in /usr/local/lib/python3.7/dist-packages (1.19.5)\n"
          ]
        }
      ]
    },
    {
      "cell_type": "code",
      "metadata": {
        "colab": {
          "base_uri": "https://localhost:8080/"
        },
        "id": "HFUpOPei8gXt",
        "outputId": "66384b0c-255d-4b06-d332-3914f259a8a0"
      },
      "source": [
        "np.array([3.2,4,6,5])\n"
      ],
      "execution_count": null,
      "outputs": [
        {
          "output_type": "execute_result",
          "data": {
            "text/plain": [
              "array([3.2, 4. , 6. , 5. ])"
            ]
          },
          "metadata": {},
          "execution_count": 5
        }
      ]
    },
    {
      "cell_type": "code",
      "metadata": {
        "colab": {
          "base_uri": "https://localhost:8080/"
        },
        "id": "HflUQCtx8gXt",
        "outputId": "207e6c8f-78ec-426b-b1ce-70717d69f0a5"
      },
      "source": [
        "np.array([1,4,2,5,3]) ## integer array:"
      ],
      "execution_count": null,
      "outputs": [
        {
          "output_type": "execute_result",
          "data": {
            "text/plain": [
              "array([1, 4, 2, 5, 3])"
            ]
          },
          "metadata": {},
          "execution_count": 3
        }
      ]
    },
    {
      "cell_type": "markdown",
      "metadata": {
        "id": "FsgnbQ3O8gXu"
      },
      "source": [
        "<a id=\"2\"></a> <br>\n",
        "# Understanding Data Types in Python"
      ]
    },
    {
      "cell_type": "code",
      "metadata": {
        "colab": {
          "base_uri": "https://localhost:8080/"
        },
        "id": "y38UYo-L8gXu",
        "outputId": "021e77a0-bb5e-4314-c017-670824fc7ce2"
      },
      "source": [
        "np.array([1,2,3,4], dtype=\"str\")"
      ],
      "execution_count": null,
      "outputs": [
        {
          "output_type": "execute_result",
          "data": {
            "text/plain": [
              "array(['1', '2', '3', '4'], dtype='<U1')"
            ]
          },
          "metadata": {},
          "execution_count": 6
        }
      ]
    },
    {
      "cell_type": "code",
      "metadata": {
        "colab": {
          "base_uri": "https://localhost:8080/"
        },
        "id": "A5RQ4dTR8gXv",
        "outputId": "3169aba1-2a65-409a-82f5-eefc555c68c7"
      },
      "source": [
        "np.array([3,6,2,3], dtype=\"float32\")"
      ],
      "execution_count": null,
      "outputs": [
        {
          "output_type": "execute_result",
          "data": {
            "text/plain": [
              "array([3., 6., 2., 3.], dtype=float32)"
            ]
          },
          "metadata": {},
          "execution_count": 7
        }
      ]
    },
    {
      "cell_type": "code",
      "metadata": {
        "colab": {
          "base_uri": "https://localhost:8080/"
        },
        "id": "LlqnN0OuIANl",
        "outputId": "c0cd3a77-39ef-46f0-e2ac-f3dc07eaacc3"
      },
      "source": [
        "[range(i,i+3) for i in [2,4,6]]"
      ],
      "execution_count": null,
      "outputs": [
        {
          "output_type": "execute_result",
          "data": {
            "text/plain": [
              "[range(2, 5), range(4, 7), range(6, 9)]"
            ]
          },
          "metadata": {},
          "execution_count": 11
        }
      ]
    },
    {
      "cell_type": "code",
      "metadata": {
        "colab": {
          "base_uri": "https://localhost:8080/"
        },
        "id": "C_0-XOcY8gXv",
        "outputId": "57497650-fdf9-4b19-c7e0-6a7baa449b82"
      },
      "source": [
        "# nested lists result in multidimensional arrays\n",
        "\n",
        "np.array([range(i,i+3) for i in [2,4,6]])\n",
        "np.array([[2,3,4], [4,5,6], [7,8,9]])"
      ],
      "execution_count": null,
      "outputs": [
        {
          "output_type": "execute_result",
          "data": {
            "text/plain": [
              "array([[2, 3, 4],\n",
              "       [4, 5, 6],\n",
              "       [7, 8, 9]])"
            ]
          },
          "metadata": {},
          "execution_count": 12
        }
      ]
    },
    {
      "cell_type": "markdown",
      "metadata": {
        "id": "9mql9wCU8gXv"
      },
      "source": [
        "<a id=\"3\"></a> <br>\n",
        "### Creating Arrays from Scratch"
      ]
    },
    {
      "cell_type": "code",
      "metadata": {
        "id": "Wiq6BLxl8gXv",
        "colab": {
          "base_uri": "https://localhost:8080/"
        },
        "outputId": "677bd6be-6faf-4ec6-b47d-b6f4254eb4ee"
      },
      "source": [
        "# Create a length-10 integer array filled with zeros\n",
        "\n",
        "np.zeros(10, dtype=\"int\") "
      ],
      "execution_count": null,
      "outputs": [
        {
          "output_type": "execute_result",
          "data": {
            "text/plain": [
              "array([0, 0, 0, 0, 0, 0, 0, 0, 0, 0])"
            ]
          },
          "metadata": {},
          "execution_count": 14
        }
      ]
    },
    {
      "cell_type": "code",
      "metadata": {
        "id": "40nUpivb8gXw",
        "colab": {
          "base_uri": "https://localhost:8080/"
        },
        "outputId": "8c432db2-191a-4d71-9236-9d23afe9544b"
      },
      "source": [
        "np.zeros((3,3,3), dtype=\"float\")"
      ],
      "execution_count": null,
      "outputs": [
        {
          "output_type": "execute_result",
          "data": {
            "text/plain": [
              "array([[[0., 0., 0.],\n",
              "        [0., 0., 0.],\n",
              "        [0., 0., 0.]],\n",
              "\n",
              "       [[0., 0., 0.],\n",
              "        [0., 0., 0.],\n",
              "        [0., 0., 0.]],\n",
              "\n",
              "       [[0., 0., 0.],\n",
              "        [0., 0., 0.],\n",
              "        [0., 0., 0.]]])"
            ]
          },
          "metadata": {},
          "execution_count": 17
        }
      ]
    },
    {
      "cell_type": "code",
      "metadata": {
        "id": "TFf3Ddpa8gXw",
        "colab": {
          "base_uri": "https://localhost:8080/"
        },
        "outputId": "d892a220-d2cc-4fa8-f9ab-91335852e3f7"
      },
      "source": [
        "# Create a 3x5 floating-point array filled with 1s\n",
        "\n",
        "np.ones((3,5), dtype=\"float\")"
      ],
      "execution_count": null,
      "outputs": [
        {
          "output_type": "execute_result",
          "data": {
            "text/plain": [
              "array([[1., 1., 1., 1., 1.],\n",
              "       [1., 1., 1., 1., 1.],\n",
              "       [1., 1., 1., 1., 1.]])"
            ]
          },
          "metadata": {},
          "execution_count": 18
        }
      ]
    },
    {
      "cell_type": "code",
      "metadata": {
        "id": "k4MCf_IU8gXw",
        "colab": {
          "base_uri": "https://localhost:8080/"
        },
        "outputId": "f44eb7d3-101c-48d2-ff08-ef9e5ca5d012"
      },
      "source": [
        "# Create a 3x5 array filled with 3.14\n",
        "np.full((3,5), 3.14)"
      ],
      "execution_count": null,
      "outputs": [
        {
          "output_type": "execute_result",
          "data": {
            "text/plain": [
              "array([[3.14, 3.14, 3.14, 3.14, 3.14],\n",
              "       [3.14, 3.14, 3.14, 3.14, 3.14],\n",
              "       [3.14, 3.14, 3.14, 3.14, 3.14]])"
            ]
          },
          "metadata": {},
          "execution_count": 20
        }
      ]
    },
    {
      "cell_type": "code",
      "metadata": {
        "id": "eyuX1JiS8gXx",
        "colab": {
          "base_uri": "https://localhost:8080/"
        },
        "outputId": "c2f0029e-9a02-49b5-8da3-619fcb234c17"
      },
      "source": [
        "# Create an array filled with a linear sequence\n",
        "# Starting at 0, ending at 20, stepping by 2\n",
        "# (this is similar to the built-in range() function)\n",
        "\n",
        "np.arange(0,20,2)"
      ],
      "execution_count": null,
      "outputs": [
        {
          "output_type": "execute_result",
          "data": {
            "text/plain": [
              "array([ 0,  2,  4,  6,  8, 10, 12, 14, 16, 18])"
            ]
          },
          "metadata": {},
          "execution_count": 23
        }
      ]
    },
    {
      "cell_type": "code",
      "metadata": {
        "id": "bWPfySQ-8gXz",
        "colab": {
          "base_uri": "https://localhost:8080/"
        },
        "outputId": "82e15ff2-6fae-4f2a-b8ea-c9140a74e8cf"
      },
      "source": [
        "# Create an array of five values evenly spaced between 0 and 1\n",
        "np.linspace(0,1,100)"
      ],
      "execution_count": null,
      "outputs": [
        {
          "output_type": "execute_result",
          "data": {
            "text/plain": [
              "array([0.        , 0.01010101, 0.02020202, 0.03030303, 0.04040404,\n",
              "       0.05050505, 0.06060606, 0.07070707, 0.08080808, 0.09090909,\n",
              "       0.1010101 , 0.11111111, 0.12121212, 0.13131313, 0.14141414,\n",
              "       0.15151515, 0.16161616, 0.17171717, 0.18181818, 0.19191919,\n",
              "       0.2020202 , 0.21212121, 0.22222222, 0.23232323, 0.24242424,\n",
              "       0.25252525, 0.26262626, 0.27272727, 0.28282828, 0.29292929,\n",
              "       0.3030303 , 0.31313131, 0.32323232, 0.33333333, 0.34343434,\n",
              "       0.35353535, 0.36363636, 0.37373737, 0.38383838, 0.39393939,\n",
              "       0.4040404 , 0.41414141, 0.42424242, 0.43434343, 0.44444444,\n",
              "       0.45454545, 0.46464646, 0.47474747, 0.48484848, 0.49494949,\n",
              "       0.50505051, 0.51515152, 0.52525253, 0.53535354, 0.54545455,\n",
              "       0.55555556, 0.56565657, 0.57575758, 0.58585859, 0.5959596 ,\n",
              "       0.60606061, 0.61616162, 0.62626263, 0.63636364, 0.64646465,\n",
              "       0.65656566, 0.66666667, 0.67676768, 0.68686869, 0.6969697 ,\n",
              "       0.70707071, 0.71717172, 0.72727273, 0.73737374, 0.74747475,\n",
              "       0.75757576, 0.76767677, 0.77777778, 0.78787879, 0.7979798 ,\n",
              "       0.80808081, 0.81818182, 0.82828283, 0.83838384, 0.84848485,\n",
              "       0.85858586, 0.86868687, 0.87878788, 0.88888889, 0.8989899 ,\n",
              "       0.90909091, 0.91919192, 0.92929293, 0.93939394, 0.94949495,\n",
              "       0.95959596, 0.96969697, 0.97979798, 0.98989899, 1.        ])"
            ]
          },
          "metadata": {},
          "execution_count": 27
        }
      ]
    },
    {
      "cell_type": "code",
      "metadata": {
        "id": "q9PfUWsI8gXz",
        "outputId": "6af4689e-18d9-47b7-9f0e-dbec9367da69"
      },
      "source": [
        "# Create a 3x3 array of uniformly distributed\n",
        "# random values between 0 and 1\n",
        "\n",
        "np.random.random((3,3))"
      ],
      "execution_count": null,
      "outputs": [
        {
          "data": {
            "text/plain": [
              "array([[0.18982383, 0.1461329 , 0.57870763],\n",
              "       [0.35136621, 0.58920273, 0.50757273],\n",
              "       [0.94271029, 0.29314635, 0.75861329]])"
            ]
          },
          "execution_count": 13,
          "metadata": {},
          "output_type": "execute_result"
        }
      ]
    },
    {
      "cell_type": "code",
      "metadata": {
        "id": "nXqsclqb8gXz",
        "outputId": "e26e8bdb-04a0-4edc-ec89-9a4335c2703a"
      },
      "source": [
        "# Create a 3x3 array of normally distributed random values\n",
        "# with mean 0 and standard deviation 1\n",
        "\n",
        "np.random.normal(0,1,(3,3))"
      ],
      "execution_count": null,
      "outputs": [
        {
          "data": {
            "text/plain": [
              "array([[-0.43128343, -0.61515018,  0.59815971],\n",
              "       [-0.93477176,  0.69950552,  0.00899997],\n",
              "       [ 0.53256089, -0.18081988, -0.21246299]])"
            ]
          },
          "execution_count": 14,
          "metadata": {},
          "output_type": "execute_result"
        }
      ]
    },
    {
      "cell_type": "code",
      "metadata": {
        "id": "JAFxh-F18gX0",
        "outputId": "caa22d00-b3df-4289-d266-6e2366539951"
      },
      "source": [
        "# Create a 3x3 array of random integers in the interval [0, 10)\n",
        "\n",
        "np.random.randint(0,10,(3,3))"
      ],
      "execution_count": null,
      "outputs": [
        {
          "data": {
            "text/plain": [
              "array([[9, 0, 1],\n",
              "       [9, 1, 5],\n",
              "       [2, 9, 4]])"
            ]
          },
          "execution_count": 15,
          "metadata": {},
          "output_type": "execute_result"
        }
      ]
    },
    {
      "cell_type": "code",
      "metadata": {
        "id": "6LBsz7tX8gX0",
        "outputId": "92a0e359-e394-4e19-8a94-5324a09a9bef"
      },
      "source": [
        "# Create a 3x3 identity matrix\n",
        "\n",
        "np.eye(3)"
      ],
      "execution_count": null,
      "outputs": [
        {
          "data": {
            "text/plain": [
              "array([[1., 0., 0.],\n",
              "       [0., 1., 0.],\n",
              "       [0., 0., 1.]])"
            ]
          },
          "execution_count": 16,
          "metadata": {},
          "output_type": "execute_result"
        }
      ]
    },
    {
      "cell_type": "markdown",
      "metadata": {
        "id": "D3xduqMX8gX0"
      },
      "source": [
        "<a id=\"4\"></a> <br>\n",
        "### NumPy Standard Data Types"
      ]
    },
    {
      "cell_type": "code",
      "metadata": {
        "colab": {
          "base_uri": "https://localhost:8080/"
        },
        "id": "SzzIG69w8gX0",
        "outputId": "257a48a8-8775-4918-e199-6ea9aa899a23"
      },
      "source": [
        "#Return a new array of given shape and type, with random values\n",
        "\n",
        "np.empty((3,3),dtype=\"int\")"
      ],
      "execution_count": null,
      "outputs": [
        {
          "output_type": "execute_result",
          "data": {
            "text/plain": [
              "array([[94867208036912,              0,              0],\n",
              "       [             0,              0,              0],\n",
              "       [             0,              0,              0]])"
            ]
          },
          "metadata": {},
          "execution_count": 10
        }
      ]
    },
    {
      "cell_type": "code",
      "metadata": {
        "colab": {
          "base_uri": "https://localhost:8080/"
        },
        "id": "b716E9dA8gX0",
        "outputId": "08c81299-ec2e-415a-dd98-02fb03e9603c"
      },
      "source": [
        "np.zeros(10,dtype=\"int16\")"
      ],
      "execution_count": null,
      "outputs": [
        {
          "output_type": "execute_result",
          "data": {
            "text/plain": [
              "array([0, 0, 0, 0, 0, 0, 0, 0, 0, 0], dtype=int16)"
            ]
          },
          "metadata": {},
          "execution_count": 11
        }
      ]
    },
    {
      "cell_type": "code",
      "metadata": {
        "colab": {
          "base_uri": "https://localhost:8080/"
        },
        "id": "4CdPE4p98gX1",
        "outputId": "5012b2c0-843f-4869-d79c-ffbf676cb28d"
      },
      "source": [
        "#or using the associated NumPy object:\n",
        "\n",
        "np.zeros(10,dtype=np.int16)"
      ],
      "execution_count": null,
      "outputs": [
        {
          "output_type": "execute_result",
          "data": {
            "text/plain": [
              "array([0, 0, 0, 0, 0, 0, 0, 0, 0, 0], dtype=int16)"
            ]
          },
          "metadata": {},
          "execution_count": 12
        }
      ]
    },
    {
      "cell_type": "markdown",
      "metadata": {
        "id": "R-rh-8EO8gX1"
      },
      "source": [
        "<img src=\"https://1.bp.blogspot.com/-xrnk-4zD2Ac/W1LCbjrSjjI/AAAAAAAAXUY/8QJ0AZBxsQ0h6BgUV4kml0NqIO_hOs2KwCLcBGAs/s1600/4212_t2-1.PNG\" alt=\"cce\" border=\"0\">"
      ]
    },
    {
      "cell_type": "markdown",
      "metadata": {
        "id": "JOygCEYp8gX1"
      },
      "source": [
        "<a id=\"5\"></a> <br>\n",
        "# The Basics of NumPy Arrays"
      ]
    },
    {
      "cell_type": "markdown",
      "metadata": {
        "id": "5ACvMH3f8gX1"
      },
      "source": [
        "* **We’ll cover a few categories of basic array manipulations here:**\n",
        "* Attributes of arrays\n",
        "   * Determining the size, shape, memory consumption, and data types of arrays\n",
        "* Indexing of arrays\n",
        "   * Getting and setting the value of individual array elements\n",
        "* Slicing of arrays\n",
        "   * Getting and setting smaller subarrays within a larger array\n",
        "* Reshaping of arrays\n",
        "   * Changing the shape of a given array\n",
        "* Joining and splitting of arrays\n",
        "   * Combining multiple arrays into one, and splitting one array into many"
      ]
    },
    {
      "cell_type": "markdown",
      "metadata": {
        "id": "4wHjhv5x8gX1"
      },
      "source": [
        "<a id=\"6\"></a> <br>\n",
        "### NumPy Array Attributes"
      ]
    },
    {
      "cell_type": "code",
      "metadata": {
        "id": "jmClvQD28gX2"
      },
      "source": [
        "#NumPy Array Attributes\n",
        "#We’ll use NumPy’s random number generator, which we will seed with a set value in order to ensure that the same random arrays are generated each time this code is run:\n",
        "\n",
        "np.random.seed(0) # seed for reproducibility\n",
        "x1 = np.random.randint(10, size=6) # One-dimensional array"
      ],
      "execution_count": null,
      "outputs": []
    },
    {
      "cell_type": "code",
      "metadata": {
        "id": "vC0eL0ov8gX2",
        "outputId": "4a85aff3-2a87-4583-e051-c9d5d03a4a5d"
      },
      "source": [
        "#Each array has attributes ndim (the number of dimensions), shape (the size of each dimension), and size (the total size of the array):\n",
        "\n",
        "np.random.seed(0) # seed for reproducibility\n",
        "x1 = np.random.randint(10, size=6) #it's same ((np.random.randint((0,10), size=6))) # One-dimensional array\n",
        "x2 = np.random.randint(10, size=(3,4)) # Two-dimensional array\n",
        "x3 = np.random.randint(10, size=(3,4,5)) # Three-dimensional array\n",
        "\n",
        "print(\"x1 ndim: \",x1.ndim)\n",
        "print(\"x1 shape: \",x1.shape)\n",
        "print(\"x1 size: \",x1.size) #totaly,6 elements\n",
        "\n",
        "print(\"x1 ndim: \",x2.ndim)\n",
        "print(\"x1 shape: \",x2.shape)\n",
        "print(\"x1 size: \",x2.size) #totaly,12 elements\n",
        "\n",
        "print(\"x1 ndim: \",x3.ndim)\n",
        "print(\"x1 shape: \",x3.shape)\n",
        "print(\"x1 size: \",x3.size)#totaly,60 elements\n",
        "\n",
        "print(\"dtype: \",x1.dtype) #the data type of the array\n",
        "# Other attributes include itemsize, which lists the size (in bytes) of each array element,\n",
        "# and nbytes, which lists the total size (in bytes) of the array:\n",
        "print(\"itemsize:\",x1.itemsize,\"bytes\")\n",
        "print(\"nbytes:\",x1.nbytes,\"bytes\")\n",
        "\n",
        "print(\"dtype: \",x2.dtype) #the data type of the array\n",
        "print(\"itemsize:\",x2.itemsize,\"bytes\")\n",
        "print(\"nbytes:\",x2.nbytes,\"bytes\")\n",
        "\n",
        "print(\"dtype: \",x3.dtype) #the data type of the array\n",
        "print(\"itemsize:\",x3.itemsize,\"bytes\")\n",
        "print(\"nbytes:\",x3.nbytes,\"bytes\") \n",
        "\n",
        "#In general, we expect that nbytes is equal to itemsize times size."
      ],
      "execution_count": null,
      "outputs": [
        {
          "name": "stdout",
          "output_type": "stream",
          "text": [
            "x1 ndim:  1\n",
            "x1 shape:  (6,)\n",
            "x1 size:  6\n",
            "x1 ndim:  2\n",
            "x1 shape:  (3, 4)\n",
            "x1 size:  12\n",
            "x1 ndim:  3\n",
            "x1 shape:  (3, 4, 5)\n",
            "x1 size:  60\n",
            "dtype:  int64\n",
            "itemsize: 8 bytes\n",
            "nbytes: 48 bytes\n",
            "dtype:  int64\n",
            "itemsize: 8 bytes\n",
            "nbytes: 96 bytes\n",
            "dtype:  int64\n",
            "itemsize: 8 bytes\n",
            "nbytes: 480 bytes\n"
          ]
        }
      ]
    },
    {
      "cell_type": "markdown",
      "metadata": {
        "id": "9ckFipRM8gX2"
      },
      "source": [
        "<a id=\"7\"></a> <br>\n",
        "### Array Indexing: Accessing Single Elements"
      ]
    },
    {
      "cell_type": "markdown",
      "metadata": {
        "id": "ag-QBQ_A8gX2"
      },
      "source": [
        "* If you are familiar with Python’s standard list indexing, indexing in NumPy will feel\n",
        "quite familiar. In a one-dimensional array, you can access the ith value (counting from\n",
        "zero) by specifying the desired index in square brackets, just as with Python lists:"
      ]
    },
    {
      "cell_type": "code",
      "metadata": {
        "id": "VKjnhkLI8gX2",
        "outputId": "d06af460-1675-499a-edc8-a9f7eeebc165"
      },
      "source": [
        "x1"
      ],
      "execution_count": null,
      "outputs": [
        {
          "data": {
            "text/plain": [
              "array([5, 0, 3, 3, 7, 9])"
            ]
          },
          "execution_count": 22,
          "metadata": {},
          "output_type": "execute_result"
        }
      ]
    },
    {
      "cell_type": "code",
      "metadata": {
        "id": "jgVhC9P48gX2",
        "outputId": "59d0899d-7521-4ac3-a87a-23a505a17131"
      },
      "source": [
        "x1[0]"
      ],
      "execution_count": null,
      "outputs": [
        {
          "data": {
            "text/plain": [
              "5"
            ]
          },
          "execution_count": 23,
          "metadata": {},
          "output_type": "execute_result"
        }
      ]
    },
    {
      "cell_type": "code",
      "metadata": {
        "id": "apSooAp68gX3",
        "outputId": "617bfee0-8381-4909-f3b7-9de6c715d169"
      },
      "source": [
        "x1[4]"
      ],
      "execution_count": null,
      "outputs": [
        {
          "data": {
            "text/plain": [
              "7"
            ]
          },
          "execution_count": 24,
          "metadata": {},
          "output_type": "execute_result"
        }
      ]
    },
    {
      "cell_type": "code",
      "metadata": {
        "id": "dANomBl18gX3",
        "outputId": "1da11145-d9ae-471f-8305-2ad2bedc2361"
      },
      "source": [
        "#To index from the end of the array, you can use negative indices:\n",
        "\n",
        "x1[-1]"
      ],
      "execution_count": null,
      "outputs": [
        {
          "data": {
            "text/plain": [
              "9"
            ]
          },
          "execution_count": 25,
          "metadata": {},
          "output_type": "execute_result"
        }
      ]
    },
    {
      "cell_type": "code",
      "metadata": {
        "id": "QnA8Ehav8gX3",
        "outputId": "98cf1bb0-08c6-47d0-ea39-5df602be19a1"
      },
      "source": [
        "x1[-2]"
      ],
      "execution_count": null,
      "outputs": [
        {
          "data": {
            "text/plain": [
              "7"
            ]
          },
          "execution_count": 26,
          "metadata": {},
          "output_type": "execute_result"
        }
      ]
    },
    {
      "cell_type": "markdown",
      "metadata": {
        "id": "fJbCZ7Qu8gX3"
      },
      "source": [
        "* In a multidimensional array, you access items using a comma-separated tuple of indices:"
      ]
    },
    {
      "cell_type": "code",
      "metadata": {
        "id": "ee8no2aK8gX3",
        "outputId": "cd8d6990-f7dc-417a-d346-6076069527f5"
      },
      "source": [
        "x2"
      ],
      "execution_count": null,
      "outputs": [
        {
          "data": {
            "text/plain": [
              "array([[3, 5, 2, 4],\n",
              "       [7, 6, 8, 8],\n",
              "       [1, 6, 7, 7]])"
            ]
          },
          "execution_count": 27,
          "metadata": {},
          "output_type": "execute_result"
        }
      ]
    },
    {
      "cell_type": "code",
      "metadata": {
        "id": "A7c2H_g78gX3",
        "outputId": "cf3fa4e4-0204-4de0-82c2-e8501742787e"
      },
      "source": [
        "x2[2,1]"
      ],
      "execution_count": null,
      "outputs": [
        {
          "data": {
            "text/plain": [
              "6"
            ]
          },
          "execution_count": 28,
          "metadata": {},
          "output_type": "execute_result"
        }
      ]
    },
    {
      "cell_type": "code",
      "metadata": {
        "id": "3HSLXjXf8gX3",
        "outputId": "8d5c7847-03c5-4261-e990-47b570936264"
      },
      "source": [
        "x2[2,0]"
      ],
      "execution_count": null,
      "outputs": [
        {
          "data": {
            "text/plain": [
              "1"
            ]
          },
          "execution_count": 29,
          "metadata": {},
          "output_type": "execute_result"
        }
      ]
    },
    {
      "cell_type": "code",
      "metadata": {
        "id": "v9qlYP1e8gX3",
        "outputId": "cacd2db6-0219-42bf-9dd1-19b2f9655fb1"
      },
      "source": [
        "x2[2,-4]"
      ],
      "execution_count": null,
      "outputs": [
        {
          "data": {
            "text/plain": [
              "1"
            ]
          },
          "execution_count": 30,
          "metadata": {},
          "output_type": "execute_result"
        }
      ]
    },
    {
      "cell_type": "code",
      "metadata": {
        "id": "sdrXIiIn8gX4",
        "outputId": "5bb7fb58-1203-4750-b1fa-9b6d93cc2ece"
      },
      "source": [
        "x2[-2,-3]"
      ],
      "execution_count": null,
      "outputs": [
        {
          "data": {
            "text/plain": [
              "6"
            ]
          },
          "execution_count": 31,
          "metadata": {},
          "output_type": "execute_result"
        }
      ]
    },
    {
      "cell_type": "code",
      "metadata": {
        "id": "1Nv7UWR-8gX4",
        "outputId": "334dd5c0-a1f4-43be-94f4-d2f1615c57a7"
      },
      "source": [
        "#You can also modify values using any of the above index notation:\n",
        "\n",
        "x2[0,0]=12\n",
        "x2"
      ],
      "execution_count": null,
      "outputs": [
        {
          "data": {
            "text/plain": [
              "array([[12,  5,  2,  4],\n",
              "       [ 7,  6,  8,  8],\n",
              "       [ 1,  6,  7,  7]])"
            ]
          },
          "execution_count": 32,
          "metadata": {},
          "output_type": "execute_result"
        }
      ]
    },
    {
      "cell_type": "code",
      "metadata": {
        "id": "YmJunbx58gX4",
        "outputId": "981e878b-68f0-4737-dae9-504fe00da0da"
      },
      "source": [
        "x1"
      ],
      "execution_count": null,
      "outputs": [
        {
          "data": {
            "text/plain": [
              "array([5, 0, 3, 3, 7, 9])"
            ]
          },
          "execution_count": 33,
          "metadata": {},
          "output_type": "execute_result"
        }
      ]
    },
    {
      "cell_type": "code",
      "metadata": {
        "id": "CWYm-rFk8gX4",
        "outputId": "9a791e3a-3b92-4fb7-cd19-3df031ef5311"
      },
      "source": [
        "x1[0] = 3.14159 # this will be truncated!\n",
        "x1"
      ],
      "execution_count": null,
      "outputs": [
        {
          "data": {
            "text/plain": [
              "array([3, 0, 3, 3, 7, 9])"
            ]
          },
          "execution_count": 34,
          "metadata": {},
          "output_type": "execute_result"
        }
      ]
    },
    {
      "cell_type": "markdown",
      "metadata": {
        "id": "kqNx67b38gX4"
      },
      "source": [
        "<a id=\"8\"></a> <br>\n",
        "### Array Slicing: Accessing Subarrays"
      ]
    },
    {
      "cell_type": "markdown",
      "metadata": {
        "id": "526IiPwx8gX4"
      },
      "source": [
        "* Just as we can use square brackets to access individual array elements, we can also use\n",
        "them to access subarrays with the slice notation, marked by the colon (:) character.\n",
        "The NumPy slicing syntax follows that of the standard Python list; to access a slice of\n",
        "an array x, use this:\n",
        "* x[start:stop:step]\n",
        "* If any of these are unspecified, they default to the values start=0, stop=size of\n",
        "dimension, step=1. We’ll take a look at accessing subarrays in one dimension and in\n",
        "multiple dimensions."
      ]
    },
    {
      "cell_type": "markdown",
      "metadata": {
        "id": "sVl8Wze28gX4"
      },
      "source": [
        "<a id=\"43\"></a> <br>\n",
        "#### One-dimensional subarrays"
      ]
    },
    {
      "cell_type": "code",
      "metadata": {
        "id": "1ka0UGs_8gX4",
        "outputId": "38a03f39-0078-4aee-d4c8-1577ba898d9a"
      },
      "source": [
        "x = np.arange(10)\n",
        "x"
      ],
      "execution_count": null,
      "outputs": [
        {
          "data": {
            "text/plain": [
              "array([0, 1, 2, 3, 4, 5, 6, 7, 8, 9])"
            ]
          },
          "execution_count": 35,
          "metadata": {},
          "output_type": "execute_result"
        }
      ]
    },
    {
      "cell_type": "code",
      "metadata": {
        "id": "sUvarVen8gX5",
        "outputId": "38f788ab-3dcb-423f-8ad3-b5c2bdf23de4"
      },
      "source": [
        "x[:5] # first five elements"
      ],
      "execution_count": null,
      "outputs": [
        {
          "data": {
            "text/plain": [
              "array([0, 1, 2, 3, 4])"
            ]
          },
          "execution_count": 36,
          "metadata": {},
          "output_type": "execute_result"
        }
      ]
    },
    {
      "cell_type": "code",
      "metadata": {
        "id": "GK_2G1kd8gX5",
        "outputId": "837e9fb1-3031-4536-c54e-1374bb6acd86"
      },
      "source": [
        "x[5:] # elements after index 5"
      ],
      "execution_count": null,
      "outputs": [
        {
          "data": {
            "text/plain": [
              "array([5, 6, 7, 8, 9])"
            ]
          },
          "execution_count": 37,
          "metadata": {},
          "output_type": "execute_result"
        }
      ]
    },
    {
      "cell_type": "code",
      "metadata": {
        "id": "KKOT5Alq8gX5",
        "outputId": "3faf5b63-6ec2-4d93-f347-4336b32bb5b0"
      },
      "source": [
        "x[4:7]# middle subarray"
      ],
      "execution_count": null,
      "outputs": [
        {
          "data": {
            "text/plain": [
              "array([4, 5, 6])"
            ]
          },
          "execution_count": 38,
          "metadata": {},
          "output_type": "execute_result"
        }
      ]
    },
    {
      "cell_type": "code",
      "metadata": {
        "id": "kwGpCZ3w8gX5",
        "outputId": "38b18d63-8609-487b-f8d8-1b3d879fddfa"
      },
      "source": [
        "x[::2] # every other element"
      ],
      "execution_count": null,
      "outputs": [
        {
          "data": {
            "text/plain": [
              "array([0, 2, 4, 6, 8])"
            ]
          },
          "execution_count": 39,
          "metadata": {},
          "output_type": "execute_result"
        }
      ]
    },
    {
      "cell_type": "code",
      "metadata": {
        "id": "MCWGqnxB8gX5",
        "outputId": "e34f694f-c21f-49ba-9451-9a8ff4931796"
      },
      "source": [
        "x[1::2] #every other element, starting at index 1"
      ],
      "execution_count": null,
      "outputs": [
        {
          "data": {
            "text/plain": [
              "array([1, 3, 5, 7, 9])"
            ]
          },
          "execution_count": 40,
          "metadata": {},
          "output_type": "execute_result"
        }
      ]
    },
    {
      "cell_type": "code",
      "metadata": {
        "id": "MBBPKh3I8gX5",
        "outputId": "954e30ff-19fb-4a08-f848-17ca6cbd7bfd"
      },
      "source": [
        "x[-7:-2:2]"
      ],
      "execution_count": null,
      "outputs": [
        {
          "data": {
            "text/plain": [
              "array([3, 5, 7])"
            ]
          },
          "execution_count": 41,
          "metadata": {},
          "output_type": "execute_result"
        }
      ]
    },
    {
      "cell_type": "code",
      "metadata": {
        "id": "Dkqj4sDb8gX5",
        "outputId": "22d992f3-3c26-476c-9e7b-a49b33adad9c"
      },
      "source": [
        "x[-4:-2:1]"
      ],
      "execution_count": null,
      "outputs": [
        {
          "data": {
            "text/plain": [
              "array([6, 7])"
            ]
          },
          "execution_count": 42,
          "metadata": {},
          "output_type": "execute_result"
        }
      ]
    },
    {
      "cell_type": "code",
      "metadata": {
        "id": "AMaYjZTO8gX5",
        "outputId": "8d791bd6-3c32-43ed-ec99-51cc86b0be96"
      },
      "source": [
        "# A potentially confusing case is when the step value is negative. In this case, the\n",
        "# defaults for start and stop are swapped. This becomes a convenient way to reverse\n",
        "# an array:\n",
        "\n",
        "x[::-1] # all elements, reversed"
      ],
      "execution_count": null,
      "outputs": [
        {
          "data": {
            "text/plain": [
              "array([9, 8, 7, 6, 5, 4, 3, 2, 1, 0])"
            ]
          },
          "execution_count": 43,
          "metadata": {},
          "output_type": "execute_result"
        }
      ]
    },
    {
      "cell_type": "code",
      "metadata": {
        "id": "At1wsq0l8gX6",
        "outputId": "f550e96d-594e-4f41-be0b-cf3198030ead"
      },
      "source": [
        "x[5::-2]# reversed every other from index 5"
      ],
      "execution_count": null,
      "outputs": [
        {
          "data": {
            "text/plain": [
              "array([5, 3, 1])"
            ]
          },
          "execution_count": 44,
          "metadata": {},
          "output_type": "execute_result"
        }
      ]
    },
    {
      "cell_type": "code",
      "metadata": {
        "id": "uZuWyvEA8gX6",
        "outputId": "42b3a064-64ed-4e88-9650-2bc38d5711e3"
      },
      "source": [
        "x[5:1:-2]"
      ],
      "execution_count": null,
      "outputs": [
        {
          "data": {
            "text/plain": [
              "array([5, 3])"
            ]
          },
          "execution_count": 45,
          "metadata": {},
          "output_type": "execute_result"
        }
      ]
    },
    {
      "cell_type": "code",
      "metadata": {
        "id": "BsoXsp8C8gX6",
        "outputId": "e42f2167-80ee-4a63-db98-28713d602f2d"
      },
      "source": [
        "x[5:-8:-1]"
      ],
      "execution_count": null,
      "outputs": [
        {
          "data": {
            "text/plain": [
              "array([5, 4, 3])"
            ]
          },
          "execution_count": 46,
          "metadata": {},
          "output_type": "execute_result"
        }
      ]
    },
    {
      "cell_type": "code",
      "metadata": {
        "id": "AniomAkc8gX6",
        "outputId": "3ec15103-fa02-447b-f6d9-4af61e614630"
      },
      "source": [
        "x[7:-6:-1]"
      ],
      "execution_count": null,
      "outputs": [
        {
          "data": {
            "text/plain": [
              "array([7, 6, 5])"
            ]
          },
          "execution_count": 47,
          "metadata": {},
          "output_type": "execute_result"
        }
      ]
    },
    {
      "cell_type": "code",
      "metadata": {
        "id": "WsgfLUlq8gX6",
        "outputId": "06e1a15e-5fbd-4183-e178-aac402242d5c"
      },
      "source": [
        "x[-7:-8:-1]"
      ],
      "execution_count": null,
      "outputs": [
        {
          "data": {
            "text/plain": [
              "array([3])"
            ]
          },
          "execution_count": 48,
          "metadata": {},
          "output_type": "execute_result"
        }
      ]
    },
    {
      "cell_type": "markdown",
      "metadata": {
        "id": "VsogBAWM8gX6"
      },
      "source": [
        "<a id=\"44\"></a> <br>\n",
        "#### Multidimensional subarrays"
      ]
    },
    {
      "cell_type": "code",
      "metadata": {
        "id": "GRMAHmeE8gX6",
        "outputId": "d640c4ad-4d7a-480f-ca30-26d089cbcaca"
      },
      "source": [
        "# Multidimensional slices work in the same way, with multiple slices separated by commas.\n",
        "# For example:\n",
        "\n",
        "x2"
      ],
      "execution_count": null,
      "outputs": [
        {
          "data": {
            "text/plain": [
              "array([[12,  5,  2,  4],\n",
              "       [ 7,  6,  8,  8],\n",
              "       [ 1,  6,  7,  7]])"
            ]
          },
          "execution_count": 49,
          "metadata": {},
          "output_type": "execute_result"
        }
      ]
    },
    {
      "cell_type": "code",
      "metadata": {
        "id": "PV9ya7ci8gX6",
        "outputId": "3eb615bc-c81a-4586-c26c-e7ebb5f85da6"
      },
      "source": [
        "# two rows, three columns\n",
        "\n",
        "x2[:2, :3]"
      ],
      "execution_count": null,
      "outputs": [
        {
          "data": {
            "text/plain": [
              "array([[12,  5,  2],\n",
              "       [ 7,  6,  8]])"
            ]
          },
          "execution_count": 50,
          "metadata": {},
          "output_type": "execute_result"
        }
      ]
    },
    {
      "cell_type": "code",
      "metadata": {
        "id": "UqSATJeq8gX7",
        "outputId": "032a6b5d-b6c0-4630-ed4f-a9f767b0854f"
      },
      "source": [
        "# all rows, every other column\n",
        "\n",
        "x2[:3,::2]"
      ],
      "execution_count": null,
      "outputs": [
        {
          "data": {
            "text/plain": [
              "array([[12,  2],\n",
              "       [ 7,  8],\n",
              "       [ 1,  7]])"
            ]
          },
          "execution_count": 51,
          "metadata": {},
          "output_type": "execute_result"
        }
      ]
    },
    {
      "cell_type": "code",
      "metadata": {
        "id": "l4HkzVvw8gX7",
        "outputId": "bdecffcf-84f1-4643-c30a-934b503e35b5"
      },
      "source": [
        "#Finally, subarray dimensions can even be reversed together:\n",
        "\n",
        "x2[::-1,::-1]"
      ],
      "execution_count": null,
      "outputs": [
        {
          "data": {
            "text/plain": [
              "array([[ 7,  7,  6,  1],\n",
              "       [ 8,  8,  6,  7],\n",
              "       [ 4,  2,  5, 12]])"
            ]
          },
          "execution_count": 52,
          "metadata": {},
          "output_type": "execute_result"
        }
      ]
    },
    {
      "cell_type": "markdown",
      "metadata": {
        "id": "2bz7K1n98gX7"
      },
      "source": [
        "<a id=\"45\"></a> <br>\n",
        "#### Accessing array rows and columns"
      ]
    },
    {
      "cell_type": "code",
      "metadata": {
        "id": "ku5B4Mcq8gX7",
        "outputId": "8fdefd5e-1f84-4caa-d769-87146499fb4e"
      },
      "source": [
        "# One commonly needed routine is accessing single\n",
        "# rows or columns of an array. You can do this by combining indexing and slicing,\n",
        "# using an empty slice marked by a single colon (:):\n",
        "\n",
        "print(x2[:, 0]) # first column of x2"
      ],
      "execution_count": null,
      "outputs": [
        {
          "name": "stdout",
          "output_type": "stream",
          "text": [
            "[12  7  1]\n"
          ]
        }
      ]
    },
    {
      "cell_type": "code",
      "metadata": {
        "id": "CHrhD81g8gX7",
        "outputId": "1bcde676-0ab6-4aa3-b453-7299d0c3d63f"
      },
      "source": [
        "print(x2[0,:]) # first row of x2"
      ],
      "execution_count": null,
      "outputs": [
        {
          "name": "stdout",
          "output_type": "stream",
          "text": [
            "[12  5  2  4]\n"
          ]
        }
      ]
    },
    {
      "cell_type": "code",
      "metadata": {
        "id": "Ldoaqakx8gX7",
        "outputId": "af58cc4b-fb96-4cdd-d9bd-20e14742eb8d"
      },
      "source": [
        "#In the case of row access, the empty slice can be omitted for a more compact syntax:\n",
        "\n",
        "print(x2[0]) # equivalent to x2[0, :]"
      ],
      "execution_count": null,
      "outputs": [
        {
          "name": "stdout",
          "output_type": "stream",
          "text": [
            "[12  5  2  4]\n"
          ]
        }
      ]
    },
    {
      "cell_type": "markdown",
      "metadata": {
        "id": "pt3XX_C68gX7"
      },
      "source": [
        "<a id=\"46\"></a> <br>\n",
        "#### Subarrays as no-copy views"
      ]
    },
    {
      "cell_type": "markdown",
      "metadata": {
        "id": "W7qjo0zi8gX7"
      },
      "source": [
        "* One important—and extremely useful—thing to know about array slices is that they\n",
        "return views rather than copies of the array data. This is one area in which NumPy\n",
        "array slicing differs from Python list slicing: in lists, slices will be copies. Consider our\n",
        "two-dimensional array from before:"
      ]
    },
    {
      "cell_type": "code",
      "metadata": {
        "id": "EAWaaK7t8gX7",
        "outputId": "bc11de93-0eaf-4aa4-9350-2f4dc3d689af"
      },
      "source": [
        "print(x2)"
      ],
      "execution_count": null,
      "outputs": [
        {
          "name": "stdout",
          "output_type": "stream",
          "text": [
            "[[12  5  2  4]\n",
            " [ 7  6  8  8]\n",
            " [ 1  6  7  7]]\n"
          ]
        }
      ]
    },
    {
      "cell_type": "code",
      "metadata": {
        "id": "S6-xwOCC8gX8",
        "outputId": "39985592-be2e-4147-9d6e-f81534d99f2f"
      },
      "source": [
        "#Let’s extract a 2×2 subarray from this:\n",
        "\n",
        "x2_sub = x2[:2,:2]\n",
        "print(x2_sub)"
      ],
      "execution_count": null,
      "outputs": [
        {
          "name": "stdout",
          "output_type": "stream",
          "text": [
            "[[12  5]\n",
            " [ 7  6]]\n"
          ]
        }
      ]
    },
    {
      "cell_type": "code",
      "metadata": {
        "id": "UibkAw5j8gX8",
        "outputId": "62a2bd54-bacf-4de6-c7ce-2f5a14c887af"
      },
      "source": [
        "#Now if we modify this subarray, we’ll see that the original array is changed! Observe:\n",
        "\n",
        "x2_sub[0,0] = 99\n",
        "print(x2_sub)"
      ],
      "execution_count": null,
      "outputs": [
        {
          "name": "stdout",
          "output_type": "stream",
          "text": [
            "[[99  5]\n",
            " [ 7  6]]\n"
          ]
        }
      ]
    },
    {
      "cell_type": "code",
      "metadata": {
        "id": "mHktWlZN8gX8",
        "outputId": "fa8351a7-2022-4217-ea7c-7417139f88ed"
      },
      "source": [
        "print(x2)"
      ],
      "execution_count": null,
      "outputs": [
        {
          "name": "stdout",
          "output_type": "stream",
          "text": [
            "[[99  5  2  4]\n",
            " [ 7  6  8  8]\n",
            " [ 1  6  7  7]]\n"
          ]
        }
      ]
    },
    {
      "cell_type": "markdown",
      "metadata": {
        "id": "0pd5Or1S8gX8"
      },
      "source": [
        "* This default behavior is actually quite useful: it means that when we work with large\n",
        "datasets, we can access and process pieces of these datasets without the need to copy\n",
        "the underlying data buffer."
      ]
    },
    {
      "cell_type": "markdown",
      "metadata": {
        "id": "xaz_65AV8gX8"
      },
      "source": [
        "<a id=\"47\"></a> <br>\n",
        "#### Creating copies of arrays"
      ]
    },
    {
      "cell_type": "markdown",
      "metadata": {
        "id": "WEGY5b1J8gX8"
      },
      "source": [
        "* Despite the nice features of array views, it is sometimes useful to instead explicitly\n",
        "copy the data within an array or a subarray. This can be most easily done with the\n",
        "copy() method:"
      ]
    },
    {
      "cell_type": "code",
      "metadata": {
        "id": "LjihnRHL8gX8",
        "outputId": "f437908b-2cc8-4550-ec90-8a186c2d42f9"
      },
      "source": [
        "x2_sub_copy = x2[:2,:2].copy()\n",
        "print(x2_sub_copy)"
      ],
      "execution_count": null,
      "outputs": [
        {
          "name": "stdout",
          "output_type": "stream",
          "text": [
            "[[99  5]\n",
            " [ 7  6]]\n"
          ]
        }
      ]
    },
    {
      "cell_type": "code",
      "metadata": {
        "id": "dlUzSNVb8gX8",
        "outputId": "5f87b15a-399d-41bd-af26-e724388ae353"
      },
      "source": [
        "#If we now modify this subarray, the original array is not touched:\n",
        "\n",
        "x2_sub_copy[0,0] = 42\n",
        "print(x2_sub_copy)"
      ],
      "execution_count": null,
      "outputs": [
        {
          "name": "stdout",
          "output_type": "stream",
          "text": [
            "[[42  5]\n",
            " [ 7  6]]\n"
          ]
        }
      ]
    },
    {
      "cell_type": "code",
      "metadata": {
        "id": "TJQB7OZe8gX8",
        "outputId": "50a64adb-07fa-4b6d-d03f-6aa927fbc271"
      },
      "source": [
        "print(x2)"
      ],
      "execution_count": null,
      "outputs": [
        {
          "name": "stdout",
          "output_type": "stream",
          "text": [
            "[[99  5  2  4]\n",
            " [ 7  6  8  8]\n",
            " [ 1  6  7  7]]\n"
          ]
        }
      ]
    },
    {
      "cell_type": "markdown",
      "metadata": {
        "id": "B_JyptN88gX9"
      },
      "source": [
        "<a id=\"9\"></a> <br>\n",
        "### Reshaping of Arrays"
      ]
    },
    {
      "cell_type": "code",
      "metadata": {
        "id": "P_1QbBs28gX9",
        "outputId": "16d62380-5a1b-4dfe-ea0e-59375dd278b8"
      },
      "source": [
        "# Another useful type of operation is reshaping of arrays. The most flexible way of\n",
        "# doing this is with the reshape() method. For example, if you want to put the numbers\n",
        "# 1 through 9 in a 3×3 grid, you can do the following:\n",
        "\n",
        "grid = np.arange(1,10,1).reshape(3,3)\n",
        "print(grid)"
      ],
      "execution_count": null,
      "outputs": [
        {
          "name": "stdout",
          "output_type": "stream",
          "text": [
            "[[1 2 3]\n",
            " [4 5 6]\n",
            " [7 8 9]]\n"
          ]
        }
      ]
    },
    {
      "cell_type": "markdown",
      "metadata": {
        "id": "e83iGofD8gX9"
      },
      "source": [
        "* Where possible, the reshape method will use a no-copy view of the\n",
        "initial array, but with noncontiguous memory buffers this is not always the case.\n",
        "\n",
        "* Another common reshaping pattern is the conversion of a one-dimensional array\n",
        "into a two-dimensional row or column matrix. You can do this with the reshape\n",
        "method, or more easily by making use of the newaxis keyword within a slice operation:"
      ]
    },
    {
      "cell_type": "code",
      "metadata": {
        "id": "Qx4wknZm8gX9",
        "outputId": "fe708801-f437-405f-938b-66586fd3be53"
      },
      "source": [
        "x = np.array([1, 2, 3])\n",
        "x.shape # x is a vector (3,)"
      ],
      "execution_count": null,
      "outputs": [
        {
          "data": {
            "text/plain": [
              "(3,)"
            ]
          },
          "execution_count": 64,
          "metadata": {},
          "output_type": "execute_result"
        }
      ]
    },
    {
      "cell_type": "code",
      "metadata": {
        "id": "zIEAPyCL8gX9",
        "outputId": "b5eb940f-89f2-4f92-de10-9b5aabe27d26"
      },
      "source": [
        "# row vector via reshape\n",
        "\n",
        "x.reshape(1,3).shape"
      ],
      "execution_count": null,
      "outputs": [
        {
          "data": {
            "text/plain": [
              "(1, 3)"
            ]
          },
          "execution_count": 65,
          "metadata": {},
          "output_type": "execute_result"
        }
      ]
    },
    {
      "cell_type": "code",
      "metadata": {
        "id": "jDriC0RQ8gX9",
        "outputId": "faea90c2-3cfc-4848-fb98-da2bb96bffd8"
      },
      "source": [
        "# row vector via newaxis\n",
        "\n",
        "x[np.newaxis, :].shape"
      ],
      "execution_count": null,
      "outputs": [
        {
          "data": {
            "text/plain": [
              "(1, 3)"
            ]
          },
          "execution_count": 66,
          "metadata": {},
          "output_type": "execute_result"
        }
      ]
    },
    {
      "cell_type": "code",
      "metadata": {
        "id": "-4wJjKcS8gX9",
        "outputId": "c01f6717-5699-4d93-891a-678f8e4fa2af"
      },
      "source": [
        "x.reshape(1,-1).shape"
      ],
      "execution_count": null,
      "outputs": [
        {
          "data": {
            "text/plain": [
              "(1, 3)"
            ]
          },
          "execution_count": 67,
          "metadata": {},
          "output_type": "execute_result"
        }
      ]
    },
    {
      "cell_type": "code",
      "metadata": {
        "id": "hIg5HwY48gX9",
        "outputId": "33673904-2fc6-4931-a287-1a441605e5fc"
      },
      "source": [
        "# column vector via reshape\n",
        "\n",
        "x.reshape((3, 1))"
      ],
      "execution_count": null,
      "outputs": [
        {
          "data": {
            "text/plain": [
              "array([[1],\n",
              "       [2],\n",
              "       [3]])"
            ]
          },
          "execution_count": 68,
          "metadata": {},
          "output_type": "execute_result"
        }
      ]
    },
    {
      "cell_type": "code",
      "metadata": {
        "id": "P7pRCWG98gX-",
        "outputId": "bdc27a54-ba6d-4d83-aeac-ef631de9e29f"
      },
      "source": [
        "# column vector via newaxis\n",
        "\n",
        "x[:, np.newaxis]"
      ],
      "execution_count": null,
      "outputs": [
        {
          "data": {
            "text/plain": [
              "array([[1],\n",
              "       [2],\n",
              "       [3]])"
            ]
          },
          "execution_count": 69,
          "metadata": {},
          "output_type": "execute_result"
        }
      ]
    },
    {
      "cell_type": "code",
      "metadata": {
        "id": "DSWDYeo58gX-",
        "outputId": "ec021b88-a750-4f08-9469-3bf8ccc1dfbe"
      },
      "source": [
        "x.reshape(-1,1).shape"
      ],
      "execution_count": null,
      "outputs": [
        {
          "data": {
            "text/plain": [
              "(3, 1)"
            ]
          },
          "execution_count": 70,
          "metadata": {},
          "output_type": "execute_result"
        }
      ]
    },
    {
      "cell_type": "markdown",
      "metadata": {
        "id": "GJo9duQK8gX-"
      },
      "source": [
        "<img src=\"https://i.stack.imgur.com/zkMBy.png\" alt=\"cce\" border=\"0\">"
      ]
    },
    {
      "cell_type": "markdown",
      "metadata": {
        "id": "shadeOJm8gX-"
      },
      "source": [
        "<a id=\"10\"></a> <br>\n",
        "### Array Concatenation and Splitting"
      ]
    },
    {
      "cell_type": "markdown",
      "metadata": {
        "id": "tMlv5iV38gX-"
      },
      "source": [
        "#### Concatenation of arrays"
      ]
    },
    {
      "cell_type": "code",
      "metadata": {
        "id": "qArMtjv28gX-",
        "outputId": "b887b600-71e7-4719-9e2c-9295566aba84"
      },
      "source": [
        "x = np.array([1,2,3])\n",
        "y = np.array([3,2,1])\n",
        "np.concatenate((x, y))\n"
      ],
      "execution_count": null,
      "outputs": [
        {
          "data": {
            "text/plain": [
              "array([1, 2, 3, 3, 2, 1])"
            ]
          },
          "execution_count": 71,
          "metadata": {},
          "output_type": "execute_result"
        }
      ]
    },
    {
      "cell_type": "markdown",
      "metadata": {
        "id": "srtuxqPp8gX-"
      },
      "source": [
        "* You can also concatenate more than two arrays at once:"
      ]
    },
    {
      "cell_type": "code",
      "metadata": {
        "id": "ITFpL1ZL8gX-",
        "outputId": "5d99a27f-bc39-4e5f-94f9-f685110ff581"
      },
      "source": [
        "z = np.array([99,99,99]) #z =[99,99,99]\n",
        "\n",
        "print(np.concatenate((x,y,z)))"
      ],
      "execution_count": null,
      "outputs": [
        {
          "name": "stdout",
          "output_type": "stream",
          "text": [
            "[ 1  2  3  3  2  1 99 99 99]\n"
          ]
        }
      ]
    },
    {
      "cell_type": "markdown",
      "metadata": {
        "id": "5aIK1qL68gX-"
      },
      "source": [
        "* np.concatenate can also be used for two-dimensional arrays:"
      ]
    },
    {
      "cell_type": "code",
      "metadata": {
        "id": "1J8MnpiX8gX_"
      },
      "source": [
        "grid = np.array([[1,2,3],\n",
        "                [4,5,6]])"
      ],
      "execution_count": null,
      "outputs": []
    },
    {
      "cell_type": "code",
      "metadata": {
        "id": "Jfowttur8gX_",
        "outputId": "3f2ef8d3-4e54-4d54-ab8a-251aa67bd3db"
      },
      "source": [
        "# concatenate along the first axis\n",
        "\n",
        "np.concatenate((grid,grid))"
      ],
      "execution_count": null,
      "outputs": [
        {
          "data": {
            "text/plain": [
              "array([[1, 2, 3],\n",
              "       [4, 5, 6],\n",
              "       [1, 2, 3],\n",
              "       [4, 5, 6]])"
            ]
          },
          "execution_count": 74,
          "metadata": {},
          "output_type": "execute_result"
        }
      ]
    },
    {
      "cell_type": "code",
      "metadata": {
        "id": "c9a2PEMp8gX_",
        "outputId": "af015343-1e6b-4054-ea5b-1dfd8b6a7a05"
      },
      "source": [
        "# concatenate along the second axis (zero-indexed)\n",
        "\n",
        "np.concatenate((grid, grid), axis=1)"
      ],
      "execution_count": null,
      "outputs": [
        {
          "data": {
            "text/plain": [
              "array([[1, 2, 3, 1, 2, 3],\n",
              "       [4, 5, 6, 4, 5, 6]])"
            ]
          },
          "execution_count": 75,
          "metadata": {},
          "output_type": "execute_result"
        }
      ]
    },
    {
      "cell_type": "code",
      "metadata": {
        "id": "xs3rS7HV8gX_",
        "outputId": "5c26a8fb-b94d-4f14-ec12-fc9b67f0688f"
      },
      "source": [
        "# For working with arrays of mixed dimensions, it can be clearer to use the np.vstack\n",
        "# (vertical stack) and np.hstack (horizontal stack) functions:\n",
        "\n",
        "x = np.array([1,2,3])\n",
        "grid = np.array([[9,8,7],\n",
        "                 [6,5,4]])\n",
        "\n",
        "\n",
        "# vertically stack the arrays\n",
        "np.vstack([x,grid])"
      ],
      "execution_count": null,
      "outputs": [
        {
          "data": {
            "text/plain": [
              "array([[1, 2, 3],\n",
              "       [9, 8, 7],\n",
              "       [6, 5, 4]])"
            ]
          },
          "execution_count": 76,
          "metadata": {},
          "output_type": "execute_result"
        }
      ]
    },
    {
      "cell_type": "code",
      "metadata": {
        "id": "e5WGw3li8gX_",
        "outputId": "2f6e1d96-bbc0-4609-ce2b-66dc59a2d8fc"
      },
      "source": [
        "#horizontally stack the arrays\n",
        "\n",
        "y = np.array([[99],\n",
        "            [99]])\n",
        "np.hstack([grid,y])"
      ],
      "execution_count": null,
      "outputs": [
        {
          "data": {
            "text/plain": [
              "array([[ 9,  8,  7, 99],\n",
              "       [ 6,  5,  4, 99]])"
            ]
          },
          "execution_count": 77,
          "metadata": {},
          "output_type": "execute_result"
        }
      ]
    },
    {
      "cell_type": "markdown",
      "metadata": {
        "id": "DRLNFbbW8gX_"
      },
      "source": [
        "* Similarly, np.dstack will stack arrays along the third axis."
      ]
    },
    {
      "cell_type": "markdown",
      "metadata": {
        "id": "9_Gbxg-08gX_"
      },
      "source": [
        "### Splitting of arrays"
      ]
    },
    {
      "cell_type": "markdown",
      "metadata": {
        "id": "LN7uqZQd8gX_"
      },
      "source": [
        "* The opposite of concatenation is splitting, which is implemented by the functions\n",
        "np.split, np.hsplit, and np.vsplit. For each of these, we can pass a list of indices\n",
        "giving the split points:"
      ]
    },
    {
      "cell_type": "code",
      "metadata": {
        "id": "TYcQ_O2L8gYA",
        "outputId": "2602d56e-f13b-4917-892a-9bda9e470609"
      },
      "source": [
        "x = [1,2,3,99,99,3,2,1]\n",
        "x1, x2, x3 = np.split(x, [3,5])\n",
        "print(x1, x2, x3)"
      ],
      "execution_count": null,
      "outputs": [
        {
          "name": "stdout",
          "output_type": "stream",
          "text": [
            "[1 2 3] [99 99] [3 2 1]\n"
          ]
        }
      ]
    },
    {
      "cell_type": "code",
      "metadata": {
        "id": "2txkAjiq8gYA",
        "outputId": "d731280a-1d3f-4535-9770-33d2b76b73db"
      },
      "source": [
        "x = np.array([1,2,3,99,99,3,2,1])\n",
        "x1, x2, x3, x4 = np.split(x, [3,4,5])\n",
        "print(x1, x2, x3,x4)"
      ],
      "execution_count": null,
      "outputs": [
        {
          "name": "stdout",
          "output_type": "stream",
          "text": [
            "[1 2 3] [99] [99] [3 2 1]\n"
          ]
        }
      ]
    },
    {
      "cell_type": "markdown",
      "metadata": {
        "id": "PB6xRa1p8gYA"
      },
      "source": [
        "* Notice that N split points lead to N + 1 subarrays. The related functions np.hsplit\n",
        "and np.vsplit are similar:"
      ]
    },
    {
      "cell_type": "code",
      "metadata": {
        "id": "Utp-B_Nu8gYA",
        "outputId": "d33316e7-2285-43a4-ef6e-14bbb4fa3941"
      },
      "source": [
        "grid = np.arange(36,dtype=np.float).reshape((6,6))\n",
        "grid"
      ],
      "execution_count": null,
      "outputs": [
        {
          "data": {
            "text/plain": [
              "array([[ 0.,  1.,  2.,  3.,  4.,  5.],\n",
              "       [ 6.,  7.,  8.,  9., 10., 11.],\n",
              "       [12., 13., 14., 15., 16., 17.],\n",
              "       [18., 19., 20., 21., 22., 23.],\n",
              "       [24., 25., 26., 27., 28., 29.],\n",
              "       [30., 31., 32., 33., 34., 35.]])"
            ]
          },
          "execution_count": 80,
          "metadata": {},
          "output_type": "execute_result"
        }
      ]
    },
    {
      "cell_type": "code",
      "metadata": {
        "id": "jl00H46x8gYA",
        "outputId": "3d67e2a3-1b55-4804-a662-09472dc0451f"
      },
      "source": [
        "upper, lower = np.vsplit(grid, [2])\n",
        "print(upper)\n",
        "print(lower)"
      ],
      "execution_count": null,
      "outputs": [
        {
          "name": "stdout",
          "output_type": "stream",
          "text": [
            "[[ 0.  1.  2.  3.  4.  5.]\n",
            " [ 6.  7.  8.  9. 10. 11.]]\n",
            "[[12. 13. 14. 15. 16. 17.]\n",
            " [18. 19. 20. 21. 22. 23.]\n",
            " [24. 25. 26. 27. 28. 29.]\n",
            " [30. 31. 32. 33. 34. 35.]]\n"
          ]
        }
      ]
    },
    {
      "cell_type": "code",
      "metadata": {
        "id": "aJRqItFX8gYA",
        "outputId": "5a6ac731-9697-4ffe-9578-5135077da55b"
      },
      "source": [
        "upper,middle, lower = np.vsplit(grid, [2,3])\n",
        "print(\"upper: \",upper)\n",
        "print(\"middle: \",middle)\n",
        "print(\"lower: \",lower)"
      ],
      "execution_count": null,
      "outputs": [
        {
          "name": "stdout",
          "output_type": "stream",
          "text": [
            "upper:  [[ 0.  1.  2.  3.  4.  5.]\n",
            " [ 6.  7.  8.  9. 10. 11.]]\n",
            "middle:  [[12. 13. 14. 15. 16. 17.]]\n",
            "lower:  [[18. 19. 20. 21. 22. 23.]\n",
            " [24. 25. 26. 27. 28. 29.]\n",
            " [30. 31. 32. 33. 34. 35.]]\n"
          ]
        }
      ]
    },
    {
      "cell_type": "code",
      "metadata": {
        "id": "M09nkyVg8gYA",
        "outputId": "20e4153a-b1fb-4648-c3b6-7d56f51ae379"
      },
      "source": [
        "left, right = np.hsplit(grid, [2])\n",
        "print(left)\n",
        "print(right)"
      ],
      "execution_count": null,
      "outputs": [
        {
          "name": "stdout",
          "output_type": "stream",
          "text": [
            "[[ 0.  1.]\n",
            " [ 6.  7.]\n",
            " [12. 13.]\n",
            " [18. 19.]\n",
            " [24. 25.]\n",
            " [30. 31.]]\n",
            "[[ 2.  3.  4.  5.]\n",
            " [ 8.  9. 10. 11.]\n",
            " [14. 15. 16. 17.]\n",
            " [20. 21. 22. 23.]\n",
            " [26. 27. 28. 29.]\n",
            " [32. 33. 34. 35.]]\n"
          ]
        }
      ]
    },
    {
      "cell_type": "code",
      "metadata": {
        "id": "ong9ghVR8gYA",
        "outputId": "86567ee7-d780-4769-e2ca-e2d9332dff19"
      },
      "source": [
        "left, right = np.hsplit(grid, 2)\n",
        "print(left)\n",
        "print(right)"
      ],
      "execution_count": null,
      "outputs": [
        {
          "name": "stdout",
          "output_type": "stream",
          "text": [
            "[[ 0.  1.  2.]\n",
            " [ 6.  7.  8.]\n",
            " [12. 13. 14.]\n",
            " [18. 19. 20.]\n",
            " [24. 25. 26.]\n",
            " [30. 31. 32.]]\n",
            "[[ 3.  4.  5.]\n",
            " [ 9. 10. 11.]\n",
            " [15. 16. 17.]\n",
            " [21. 22. 23.]\n",
            " [27. 28. 29.]\n",
            " [33. 34. 35.]]\n"
          ]
        }
      ]
    },
    {
      "cell_type": "markdown",
      "metadata": {
        "id": "_wx23ChP8gYB"
      },
      "source": [
        "* Similarly, np.dsplit will split arrays along the third axis."
      ]
    },
    {
      "cell_type": "markdown",
      "metadata": {
        "id": "iaep8DOq8gYB"
      },
      "source": [
        "<a id=\"11\"></a> <br>\n",
        "# Computation on NumPy Arrays: Universal Functions"
      ]
    },
    {
      "cell_type": "markdown",
      "metadata": {
        "id": "OJufc5GN8gYB"
      },
      "source": [
        "<a id=\"12\"></a> <br>\n",
        "### Exploring NumPy’s UFuncs"
      ]
    },
    {
      "cell_type": "markdown",
      "metadata": {
        "id": "gwCUt5eQ8gYB"
      },
      "source": [
        "* Ufuncs exist in two flavors: unary ufuncs, which operate on a single input, and binary\n",
        "ufuncs, which operate on two inputs. We’ll see examples of both these types of functions here."
      ]
    },
    {
      "cell_type": "markdown",
      "metadata": {
        "id": "6jR3GjHO8gYB"
      },
      "source": [
        "<a id=\"13\"></a> <br>\n",
        "#### Array arithmetic"
      ]
    },
    {
      "cell_type": "code",
      "metadata": {
        "id": "lqrYkeLy8gYB",
        "outputId": "a59fb2bb-bd33-4783-e3a1-16cdc55a8f40"
      },
      "source": [
        "# NumPy’s ufuncs feel very natural to use because they make use of Python’s native\n",
        "# arithmetic operators. The standard addition, subtraction, multiplication, and division\n",
        "# can all be used:\n",
        "\n",
        "x = np.arange(4)\n",
        "print(\"x =\", x)\n",
        "print(\"x + 5 =\", x + 5)\n",
        "print(\"x - 5 =\", x - 5)\n",
        "print(\"x * 2 =\", x * 2)\n",
        "print(\"x / 2 =\", x / 2)\n",
        "print(\"x // 2 =\", x // 2) # floor division"
      ],
      "execution_count": null,
      "outputs": [
        {
          "name": "stdout",
          "output_type": "stream",
          "text": [
            "x = [0 1 2 3]\n",
            "x + 5 = [5 6 7 8]\n",
            "x - 5 = [-5 -4 -3 -2]\n",
            "x * 2 = [0 2 4 6]\n",
            "x / 2 = [0.  0.5 1.  1.5]\n",
            "x // 2 = [0 0 1 1]\n"
          ]
        }
      ]
    },
    {
      "cell_type": "code",
      "metadata": {
        "id": "hpXXpApa8gYB",
        "outputId": "4ee3f184-48c0-4eba-a5eb-fceb2abf5e55"
      },
      "source": [
        "#There is also a unary ufunc for negation, a ** operator for exponentiation, and a %\n",
        "#operator for modulus:\n",
        "\n",
        "print(\"-x = \", -x)\n",
        "print(\"x ** 2 = \", x ** 2)\n",
        "print(\"x % 2 = \", x % 2)"
      ],
      "execution_count": null,
      "outputs": [
        {
          "name": "stdout",
          "output_type": "stream",
          "text": [
            "-x =  [ 0 -1 -2 -3]\n",
            "x ** 2 =  [0 1 4 9]\n",
            "x % 2 =  [0 1 0 1]\n"
          ]
        }
      ]
    },
    {
      "cell_type": "code",
      "metadata": {
        "id": "vFGsB_gD8gYB",
        "outputId": "08419e6b-b48c-4d3a-d762-cc03d7f277dd"
      },
      "source": [
        "# In addition, these can be strung together however you wish, and the standard order\n",
        "# of operations is respected:\n",
        "\n",
        "-(0.5*x+1) ** 2"
      ],
      "execution_count": null,
      "outputs": [
        {
          "data": {
            "text/plain": [
              "array([-1.  , -2.25, -4.  , -6.25])"
            ]
          },
          "execution_count": 87,
          "metadata": {},
          "output_type": "execute_result"
        }
      ]
    },
    {
      "cell_type": "code",
      "metadata": {
        "id": "jRZCtDW98gYB",
        "outputId": "92b5ee56-7e93-49f5-e092-4f25f2009606"
      },
      "source": [
        "# All of these arithmetic operations are simply convenient wrappers around specific\n",
        "# functions built into NumPy; for example, the + operator is a wrapper for the add\n",
        "# function:\n",
        "\n",
        "print(np.add(3,2))\n",
        "\n",
        "print(np.add(x,2)) #Addition +\n",
        "print(np.subtract(x,5)) #Subtraction -\n",
        "print(np.negative(x)) #Unary negation -\n",
        "print(np.multiply(x,3)) #Multiplication *\n",
        "print(np.divide(x,2)) #Division /\n",
        "print(np.floor_divide(x,2)) #Floor division //\n",
        "print(np.power(x,2)) #Exponentiation **\n",
        "print(np.mod(x,2)) #Modulus/remainder **\n",
        "\n",
        "print(np.multiply(x, x))"
      ],
      "execution_count": null,
      "outputs": [
        {
          "name": "stdout",
          "output_type": "stream",
          "text": [
            "5\n",
            "[2 3 4 5]\n",
            "[-5 -4 -3 -2]\n",
            "[ 0 -1 -2 -3]\n",
            "[0 3 6 9]\n",
            "[0.  0.5 1.  1.5]\n",
            "[0 0 1 1]\n",
            "[0 1 4 9]\n",
            "[0 1 0 1]\n",
            "[0 1 4 9]\n"
          ]
        }
      ]
    },
    {
      "cell_type": "markdown",
      "metadata": {
        "id": "bEQsNeCG8gYC"
      },
      "source": [
        "<a id=\"14\"></a> <br>\n",
        "#### Absolute value"
      ]
    },
    {
      "cell_type": "code",
      "metadata": {
        "id": "Y6HCKElB8gYC",
        "outputId": "de5b1b47-6468-4946-a928-a832da46be9e"
      },
      "source": [
        "# Just as NumPy understands Python’s built-in arithmetic operators, it also understands\n",
        "# Python’s built-in absolute value function:\n",
        "\n",
        "x = np.array([-2,-1,0,1,2])\n",
        "abs(x)"
      ],
      "execution_count": null,
      "outputs": [
        {
          "data": {
            "text/plain": [
              "array([2, 1, 0, 1, 2])"
            ]
          },
          "execution_count": 89,
          "metadata": {},
          "output_type": "execute_result"
        }
      ]
    },
    {
      "cell_type": "code",
      "metadata": {
        "id": "0-vguvaT8gYC",
        "outputId": "45dcc6d3-6832-4b04-ac6b-6e75374f5c31"
      },
      "source": [
        "# The corresponding NumPy ufunc is np.absolute, which is also available under the\n",
        "# alias np.abs:\n",
        "\n",
        "print(np.absolute(x))\n",
        "print(np.abs(x))"
      ],
      "execution_count": null,
      "outputs": [
        {
          "name": "stdout",
          "output_type": "stream",
          "text": [
            "[2 1 0 1 2]\n",
            "[2 1 0 1 2]\n"
          ]
        }
      ]
    },
    {
      "cell_type": "code",
      "metadata": {
        "id": "A01xlngG8gYC",
        "outputId": "fdb21a92-31c4-4483-a9dc-02c0da886030"
      },
      "source": [
        "# This ufunc can also handle complex data, in which the absolute value returns the\n",
        "# magnitude:\n",
        "\n",
        "x = np.array([7-24j,4-3j,2+0j,1+3j])\n",
        "np.abs(x)"
      ],
      "execution_count": null,
      "outputs": [
        {
          "data": {
            "text/plain": [
              "array([25.        ,  5.        ,  2.        ,  3.16227766])"
            ]
          },
          "execution_count": 91,
          "metadata": {},
          "output_type": "execute_result"
        }
      ]
    },
    {
      "cell_type": "markdown",
      "metadata": {
        "id": "cIjWNRW_8gYC"
      },
      "source": [
        "<a id=\"15\"></a> <br>\n",
        "#### Trigonometric functions"
      ]
    },
    {
      "cell_type": "code",
      "metadata": {
        "id": "dS0k8XOj8gYC",
        "outputId": "aabee56f-80f0-4f43-f44b-2326992bd378"
      },
      "source": [
        "# NumPy provides a large number of useful ufuncs, and some of the most useful for the\n",
        "# data scientist are the trigonometric functions. We’ll start by defining an array of\n",
        "# angles:\n",
        "\n",
        "theta = np.linspace(0,np.pi,3)\n",
        "\n",
        "\n",
        "#Now we can compute some trigonometric fuctions on these values:\n",
        "print(\"theta      =\",theta)\n",
        "print(\"sin(theta) =\",np.sin(theta))\n",
        "print(\"cos(theta) =\",np.cos(theta))\n",
        "print(\"tan(theta) =\",np.tan(theta))"
      ],
      "execution_count": null,
      "outputs": [
        {
          "name": "stdout",
          "output_type": "stream",
          "text": [
            "theta      = [0.         1.57079633 3.14159265]\n",
            "sin(theta) = [0.0000000e+00 1.0000000e+00 1.2246468e-16]\n",
            "cos(theta) = [ 1.000000e+00  6.123234e-17 -1.000000e+00]\n",
            "tan(theta) = [ 0.00000000e+00  1.63312394e+16 -1.22464680e-16]\n"
          ]
        }
      ]
    },
    {
      "cell_type": "code",
      "metadata": {
        "id": "hqBxFetd8gYD",
        "outputId": "77e5a697-0ef8-4a21-a026-7e1d266569de"
      },
      "source": [
        "x = [-1, 0, 1]\n",
        "\n",
        "print(\"x = \", x)\n",
        "print(\"arcsin(x) = \", np.arcsin(x))\n",
        "print(\"arccos(x) = \", np.arccos(x))\n",
        "print(\"arctan(x) = \", np.arctan(x))"
      ],
      "execution_count": null,
      "outputs": [
        {
          "name": "stdout",
          "output_type": "stream",
          "text": [
            "x =  [-1, 0, 1]\n",
            "arcsin(x) =  [-1.57079633  0.          1.57079633]\n",
            "arccos(x) =  [3.14159265 1.57079633 0.        ]\n",
            "arctan(x) =  [-0.78539816  0.          0.78539816]\n"
          ]
        }
      ]
    },
    {
      "cell_type": "markdown",
      "metadata": {
        "id": "yfOS0dEC8gYD"
      },
      "source": [
        "<a id=\"16\"></a> <br>\n",
        "#### Exponents and logarithms"
      ]
    },
    {
      "cell_type": "markdown",
      "metadata": {
        "id": "UpdQmpwA8gYD"
      },
      "source": [
        "* Another common type of operation available in a NumPy ufunc are the exponentials:"
      ]
    },
    {
      "cell_type": "code",
      "metadata": {
        "id": "Z26tZBmL8gYD",
        "outputId": "bd113c32-ace4-41d5-9490-90715505cd6f"
      },
      "source": [
        "x = [1,2,3]\n",
        "print(\"x      =\",x)\n",
        "print(\"e^x    =\",np.exp(x))\n",
        "print(\"2^x    =\",np.exp2(x))\n",
        "print(\"3^x    =\",np.power(3,x))"
      ],
      "execution_count": null,
      "outputs": [
        {
          "name": "stdout",
          "output_type": "stream",
          "text": [
            "x      = [1, 2, 3]\n",
            "e^x    = [ 2.71828183  7.3890561  20.08553692]\n",
            "2^x    = [2. 4. 8.]\n",
            "3^x    = [ 3  9 27]\n"
          ]
        }
      ]
    },
    {
      "cell_type": "code",
      "metadata": {
        "id": "YYcXtiUo8gYD",
        "outputId": "c2baaa81-162d-4daa-c0e3-85cd6191c342"
      },
      "source": [
        "# The inverse of the exponentials, the logarithms, are also available. The basic np.log\n",
        "# gives the natural logarithm; if you prefer to compute the base-2 logarithm or the\n",
        "# base-10 logarithm, these are available as well:\n",
        "\n",
        "x = [1, 2, 4, 10]\n",
        "print(\"x        =\", x)\n",
        "print(\"ln(x)    =\", np.log(x))\n",
        "print(\"log2(x)  =\", np.log2(x))\n",
        "print(\"log10(x) =\", np.log10(x))"
      ],
      "execution_count": null,
      "outputs": [
        {
          "name": "stdout",
          "output_type": "stream",
          "text": [
            "x        = [1, 2, 4, 10]\n",
            "ln(x)    = [0.         0.69314718 1.38629436 2.30258509]\n",
            "log2(x)  = [0.         1.         2.         3.32192809]\n",
            "log10(x) = [0.         0.30103    0.60205999 1.        ]\n"
          ]
        }
      ]
    },
    {
      "cell_type": "code",
      "metadata": {
        "id": "COeeJ2KQ8gYD",
        "outputId": "c291b774-7c8a-4987-eea1-a82c6a69e707"
      },
      "source": [
        "# There are also some specialized versions that are useful for maintaining precision\n",
        "# with very small input:\n",
        "\n",
        "x = [0, 0.001, 0.01, 0.1]\n",
        "print(\"exp(x) - 1 =\", np.expm1(x))\n",
        "print(\"log(1 + x) =\", np.log1p(x))"
      ],
      "execution_count": null,
      "outputs": [
        {
          "name": "stdout",
          "output_type": "stream",
          "text": [
            "exp(x) - 1 = [0.         0.0010005  0.01005017 0.10517092]\n",
            "log(1 + x) = [0.         0.0009995  0.00995033 0.09531018]\n"
          ]
        }
      ]
    },
    {
      "cell_type": "markdown",
      "metadata": {
        "id": "OXdk0PcC8gYE"
      },
      "source": [
        "<a id=\"17\"></a> <br>\n",
        "### Advanced Ufunc Features"
      ]
    },
    {
      "cell_type": "markdown",
      "metadata": {
        "id": "ib-4FarG8gYE"
      },
      "source": [
        "<a id=\"18\"></a> <br>\n",
        "#### Specifying output"
      ]
    },
    {
      "cell_type": "markdown",
      "metadata": {
        "id": "l1IW1fKO8gYE"
      },
      "source": [
        "* For large calculations, it is sometimes useful to be able to specify the array where the\n",
        "result of the calculation will be stored. Rather than creating a temporary array, you\n",
        "can use this to write computation results directly to the memory location where you’d\n",
        "like them to be. For all ufuncs, you can do this using the out argument of the\n",
        "function:"
      ]
    },
    {
      "cell_type": "code",
      "metadata": {
        "id": "sFUFSSLB8gYE",
        "outputId": "c3aff636-a969-4a96-a2cf-35596c46866e"
      },
      "source": [
        "x = np.arange(5)\n",
        "y = np.empty(5)\n",
        "np.multiply(x, 10, out=y)\n",
        "print(y)"
      ],
      "execution_count": null,
      "outputs": [
        {
          "name": "stdout",
          "output_type": "stream",
          "text": [
            "[ 0. 10. 20. 30. 40.]\n"
          ]
        }
      ]
    },
    {
      "cell_type": "code",
      "metadata": {
        "id": "8rEx_By88gYE",
        "outputId": "e13103d8-f6ff-4ec9-e00c-16e0bbbdffef"
      },
      "source": [
        "#This can even be used with array views. For example, we can write the results of a\n",
        "#computation to every other element of a specified array:\n",
        "\n",
        "y = np.zeros(10)\n",
        "np.power(2, x, out=y[::2])\n",
        "print(y)\n",
        "\n",
        "# If we had instead written y[::2] = 2 ** x, this would have resulted in the creation\n",
        "# of a temporary array to hold the results of 2 ** x, followed by a second operation\n",
        "# copying those values into the y array. This doesn’t make much of a difference for such\n",
        "# a small computation, but for very large arrays the memory savings from careful use of\n",
        "# the out argument can be significant."
      ],
      "execution_count": null,
      "outputs": [
        {
          "name": "stdout",
          "output_type": "stream",
          "text": [
            "[ 1.  0.  2.  0.  4.  0.  8.  0. 16.  0.]\n"
          ]
        }
      ]
    },
    {
      "cell_type": "code",
      "metadata": {
        "id": "gZ8wVCO48gYE",
        "outputId": "e85883af-b3ff-4466-e65f-825a3424bd7a"
      },
      "source": [
        "y = np.zeros(10)\n",
        "y[::2] = 2 ** x\n",
        "print(y)"
      ],
      "execution_count": null,
      "outputs": [
        {
          "name": "stdout",
          "output_type": "stream",
          "text": [
            "[ 1.  0.  2.  0.  4.  0.  8.  0. 16.  0.]\n"
          ]
        }
      ]
    },
    {
      "cell_type": "markdown",
      "metadata": {
        "id": "nacTd5ha8gYE"
      },
      "source": [
        "<a id=\"19\"></a> <br>\n",
        "#### Aggregates"
      ]
    },
    {
      "cell_type": "markdown",
      "metadata": {
        "id": "ZFWrFbFV8gYE"
      },
      "source": [
        "* For binary ufuncs, there are some interesting aggregates that can be computed\n",
        "directly from the object. For example, if we’d like to reduce an array with a particular\n",
        "operation, we can use the reduce method of any ufunc. A reduce repeatedly applies a\n",
        "given operation to the elements of an array until only a single result remains.\n",
        "For example, calling reduce on the add ufunc returns the sum of all elements in the\n",
        "array:"
      ]
    },
    {
      "cell_type": "code",
      "metadata": {
        "id": "WJ0dS0pD8gYE",
        "outputId": "2ab3366e-a3ec-4c3d-928f-bc94cc3e3a74"
      },
      "source": [
        "x = np.arange(1,6)\n",
        "print(np.add.reduce(x))\n",
        "print(np.subtract.reduce(x))\n",
        "print(np.multiply.reduce(x))"
      ],
      "execution_count": null,
      "outputs": [
        {
          "name": "stdout",
          "output_type": "stream",
          "text": [
            "15\n",
            "-13\n",
            "120\n"
          ]
        }
      ]
    },
    {
      "cell_type": "code",
      "metadata": {
        "id": "zNGC2LiJ8gYF",
        "outputId": "265b94b9-24be-4bfd-8c03-080622c0e28f"
      },
      "source": [
        "#If we’d like to store all the intermediate results of the computation, we can instead use\n",
        "#accumulate:\n",
        "\n",
        "print(np.add.accumulate(x))\n",
        "print(np.subtract.accumulate(x))\n",
        "print(np.multiply.accumulate(x))\n",
        "print(np.divide.accumulate(x))\n",
        "print(np.floor_divide.accumulate(x))"
      ],
      "execution_count": null,
      "outputs": [
        {
          "name": "stdout",
          "output_type": "stream",
          "text": [
            "[ 1  3  6 10 15]\n",
            "[  1  -1  -4  -8 -13]\n",
            "[  1   2   6  24 120]\n",
            "[1.         0.5        0.16666667 0.04166667 0.00833333]\n",
            "[1 0 0 0 0]\n"
          ]
        }
      ]
    },
    {
      "cell_type": "markdown",
      "metadata": {
        "id": "MucORjTy8gYF"
      },
      "source": [
        "<a id=\"20\"></a> <br>\n",
        "#### Outer products"
      ]
    },
    {
      "cell_type": "markdown",
      "metadata": {
        "id": "NWSzlrbd8gYF"
      },
      "source": [
        "* Finally, any ufunc can compute the output of all pairs of two different inputs using\n",
        "the outer method. This allows you, in one line, to do things like create a multiplica‐\n",
        "tion table:"
      ]
    },
    {
      "cell_type": "code",
      "metadata": {
        "id": "tN4E-xXM8gYF",
        "outputId": "31e0fc8d-43a6-4db7-892c-544606af79d8"
      },
      "source": [
        "x = np.arange(1,6)\n",
        "np.multiply.outer(x, x)"
      ],
      "execution_count": null,
      "outputs": [
        {
          "data": {
            "text/plain": [
              "array([[ 1,  2,  3,  4,  5],\n",
              "       [ 2,  4,  6,  8, 10],\n",
              "       [ 3,  6,  9, 12, 15],\n",
              "       [ 4,  8, 12, 16, 20],\n",
              "       [ 5, 10, 15, 20, 25]])"
            ]
          },
          "execution_count": 102,
          "metadata": {},
          "output_type": "execute_result"
        }
      ]
    },
    {
      "cell_type": "markdown",
      "metadata": {
        "id": "WufX2EBi8gYF"
      },
      "source": [
        "<a id=\"21\"></a> <br>\n",
        "# Aggregations: Min, Max, and Everything in Between"
      ]
    },
    {
      "cell_type": "markdown",
      "metadata": {
        "id": "xdY5aoQr8gYF"
      },
      "source": [
        "* NumPy has fast built-in aggregation functions for working on arrays; we’ll discuss\n",
        "and demonstrate some of them here."
      ]
    },
    {
      "cell_type": "markdown",
      "metadata": {
        "id": "VsrHFTxP8gYF"
      },
      "source": [
        "<a id=\"22\"></a> <br>\n",
        "### Summing the Values in an Array"
      ]
    },
    {
      "cell_type": "code",
      "metadata": {
        "id": "l6E_qcrg8gYF",
        "outputId": "c0e6f34e-1dc5-48ab-b337-c2248ea6b086"
      },
      "source": [
        "# As a quick example, consider computing the sum of all values in an array. Python\n",
        "# itself can do this using the built-in sum function:\n",
        "\n",
        "L = np.random.random(100)\n",
        "sum(L)"
      ],
      "execution_count": null,
      "outputs": [
        {
          "data": {
            "text/plain": [
              "52.12818058833704"
            ]
          },
          "execution_count": 103,
          "metadata": {},
          "output_type": "execute_result"
        }
      ]
    },
    {
      "cell_type": "code",
      "metadata": {
        "id": "cRfLH3eT8gYF",
        "outputId": "b112baaa-7642-4837-fbff-01c7df0ea1ea"
      },
      "source": [
        "#The syntax is quite similar to that of NumPy’s sum function, and the result is the same\n",
        "#in the simplest case:\n",
        "\n",
        "np.sum(L)"
      ],
      "execution_count": null,
      "outputs": [
        {
          "data": {
            "text/plain": [
              "52.12818058833702"
            ]
          },
          "execution_count": 104,
          "metadata": {},
          "output_type": "execute_result"
        }
      ]
    },
    {
      "cell_type": "code",
      "metadata": {
        "id": "xIeqkeFP8gYG",
        "outputId": "13b1aa89-6f1e-4110-d072-551b4f13a31d"
      },
      "source": [
        "# However, because it executes the operation in compiled code, NumPy’s version of the\n",
        "# operation is computed much more quickly:\n",
        "\n",
        "big_array = np.random.rand(1000000)\n",
        "%timeit sum(big_array)\n",
        "%timeit np.sum(big_array)"
      ],
      "execution_count": null,
      "outputs": [
        {
          "name": "stdout",
          "output_type": "stream",
          "text": [
            "84.8 ms ± 788 µs per loop (mean ± std. dev. of 7 runs, 10 loops each)\n",
            "339 µs ± 24.5 µs per loop (mean ± std. dev. of 7 runs, 1000 loops each)\n"
          ]
        }
      ]
    },
    {
      "cell_type": "markdown",
      "metadata": {
        "id": "VqTV0GRv8gYG"
      },
      "source": [
        "<a id=\"23\"></a> <br>\n",
        "### Minimum and Maximum"
      ]
    },
    {
      "cell_type": "code",
      "metadata": {
        "id": "_qZBSr6v8gYG",
        "outputId": "5e735e5f-bb22-434e-9669-b50df4303d94"
      },
      "source": [
        "#Similarly, Python has built-in min and max functions, used to find the minimum value\n",
        "#and maximum value of any given array:\n",
        "\n",
        "min(big_array),max(big_array)"
      ],
      "execution_count": null,
      "outputs": [
        {
          "data": {
            "text/plain": [
              "(1.4057692298008462e-06, 0.9999994392723005)"
            ]
          },
          "execution_count": 106,
          "metadata": {},
          "output_type": "execute_result"
        }
      ]
    },
    {
      "cell_type": "code",
      "metadata": {
        "id": "vIwUdZGw8gYG",
        "outputId": "25982c7c-26aa-4976-ef91-a6e384ce9495"
      },
      "source": [
        "#NumPy’s corresponding functions have similar syntax, and again operate much more\n",
        "#quickly:\n",
        "\n",
        "np.min(big_array),np.max(big_array)"
      ],
      "execution_count": null,
      "outputs": [
        {
          "data": {
            "text/plain": [
              "(1.4057692298008462e-06, 0.9999994392723005)"
            ]
          },
          "execution_count": 107,
          "metadata": {},
          "output_type": "execute_result"
        }
      ]
    },
    {
      "cell_type": "code",
      "metadata": {
        "id": "_hGPrNKR8gYG",
        "outputId": "b4cf4ff1-bbc8-4a45-f78c-f175acd746d7"
      },
      "source": [
        "%timeit min(big_array)\n",
        "%timeit np.min(big_array)"
      ],
      "execution_count": null,
      "outputs": [
        {
          "name": "stdout",
          "output_type": "stream",
          "text": [
            "59.9 ms ± 1.33 ms per loop (mean ± std. dev. of 7 runs, 10 loops each)\n",
            "382 µs ± 6.65 µs per loop (mean ± std. dev. of 7 runs, 1000 loops each)\n"
          ]
        }
      ]
    },
    {
      "cell_type": "code",
      "metadata": {
        "id": "ibRrNzGi8gYG",
        "outputId": "7e0993f2-1d42-46f9-ff00-a663770c9a5f"
      },
      "source": [
        "# For min, max, sum, and several other NumPy aggregates, a shorter syntax is to use\n",
        "# methods of the array object itself:\n",
        "\n",
        "print(big_array.min(), big_array.max(), big_array.sum())\n",
        "# Whenever possible, make sure that you are using the NumPy version of these aggre‐\n",
        "#gates when operating on NumPy arrays!\n",
        "%timeit np.min(big_array)\n",
        "%timeit big_array.min()"
      ],
      "execution_count": null,
      "outputs": [
        {
          "name": "stdout",
          "output_type": "stream",
          "text": [
            "1.4057692298008462e-06 0.9999994392723005 500202.5348847683\n",
            "425 µs ± 11.5 µs per loop (mean ± std. dev. of 7 runs, 1000 loops each)\n",
            "412 µs ± 4.47 µs per loop (mean ± std. dev. of 7 runs, 1000 loops each)\n"
          ]
        }
      ]
    },
    {
      "cell_type": "markdown",
      "metadata": {
        "id": "rCUM938L8gYG"
      },
      "source": [
        "<a id=\"24\"></a> <br>\n",
        "### Multidimensional aggregates"
      ]
    },
    {
      "cell_type": "code",
      "metadata": {
        "id": "LI6INc0u8gYH",
        "outputId": "ac50365f-2f79-4f06-d344-bd9d578c5511"
      },
      "source": [
        "# One common type of aggregation operation is an aggregate along a row or column.\n",
        "# Say you have some data stored in a two-dimensional array:\n",
        "\n",
        "M = np.random.random((3,4))\n",
        "print(M)\n",
        "\n",
        "M.sum()"
      ],
      "execution_count": null,
      "outputs": [
        {
          "name": "stdout",
          "output_type": "stream",
          "text": [
            "[[0.50063048 0.07383653 0.49018646 0.72521956]\n",
            " [0.84926562 0.10226215 0.99559424 0.59250301]\n",
            " [0.53509    0.88518089 0.25518136 0.13130483]]\n"
          ]
        },
        {
          "data": {
            "text/plain": [
              "6.1362551272647154"
            ]
          },
          "execution_count": 110,
          "metadata": {},
          "output_type": "execute_result"
        }
      ]
    },
    {
      "cell_type": "code",
      "metadata": {
        "id": "i1Jvx9iY8gYH",
        "outputId": "98c76427-00b2-4376-947e-1d4b4d703fef"
      },
      "source": [
        "# Aggregation functions take an additional argument specifying the axis along which\n",
        "# the aggregate is computed. For example, we can find the minimum value within each\n",
        "# column by specifying axis=0:\n",
        "\n",
        "print(M.min(axis=0))\n",
        "#or use that way\n",
        "print(np.min(M,axis=0))\n",
        "M"
      ],
      "execution_count": null,
      "outputs": [
        {
          "name": "stdout",
          "output_type": "stream",
          "text": [
            "[0.50063048 0.07383653 0.25518136 0.13130483]\n",
            "[0.50063048 0.07383653 0.25518136 0.13130483]\n"
          ]
        },
        {
          "data": {
            "text/plain": [
              "array([[0.50063048, 0.07383653, 0.49018646, 0.72521956],\n",
              "       [0.84926562, 0.10226215, 0.99559424, 0.59250301],\n",
              "       [0.53509   , 0.88518089, 0.25518136, 0.13130483]])"
            ]
          },
          "execution_count": 111,
          "metadata": {},
          "output_type": "execute_result"
        }
      ]
    },
    {
      "cell_type": "code",
      "metadata": {
        "id": "YYKlhnro8gYH",
        "outputId": "307d673a-764a-4d85-b6f9-b5593df06cf7"
      },
      "source": [
        "# Similarly, we can find the maximum value within each row:\n",
        "\n",
        "M.max(axis=1)"
      ],
      "execution_count": null,
      "outputs": [
        {
          "data": {
            "text/plain": [
              "array([0.72521956, 0.99559424, 0.88518089])"
            ]
          },
          "execution_count": 112,
          "metadata": {},
          "output_type": "execute_result"
        }
      ]
    },
    {
      "cell_type": "code",
      "metadata": {
        "id": "LZgwkW0b8gYH",
        "outputId": "d6c7164c-3e21-4825-9c14-e6804474394d"
      },
      "source": [
        "# Note that some of these NaN-safe functions were not added until\n",
        "# NumPy 1.8, so they will not be available in older NumPy versions.\n",
        "\n",
        "x = np.array([1,2,np.nan,4,5])\n",
        "\n",
        "print(\"np.sum       =\",np.sum(x))\n",
        "print(\"np.nansum    =\",np.nansum(x))\n",
        "\n",
        "print(\"np.mean      =\",np.mean(x))\n",
        "print(\"np.nanmean   =\",np.nanmean(x))\n",
        "\n",
        "print(\"np.std       =\",np.std(x))\n",
        "print(\"np.nanstd    =\",np.nanstd(x))\n",
        "\n",
        "\n",
        "#Be careful that this is not a real index of minimum value.\n",
        "print(\"np.argmin    =\",np.argmin(x)) \n",
        "#if there is a nan value in an array, it returns index of nan value.\n",
        "\n",
        "\n",
        "print(\"np.nanargmin =\",np.nanargmin(x))\n"
      ],
      "execution_count": null,
      "outputs": [
        {
          "name": "stdout",
          "output_type": "stream",
          "text": [
            "np.sum       = nan\n",
            "np.nansum    = 12.0\n",
            "np.mean      = nan\n",
            "np.nanmean   = 3.0\n",
            "np.std       = nan\n",
            "np.nanstd    = 1.5811388300841898\n",
            "np.argmin    = 2\n",
            "np.nanargmin = 0\n"
          ]
        }
      ]
    },
    {
      "cell_type": "markdown",
      "metadata": {
        "id": "XDXStKEH8gYH"
      },
      "source": [
        "<img src=\"https://3.bp.blogspot.com/-2pjqt9Ga6IM/W20-sIVK0II/AAAAAAAAXVM/BB74tRGTiwgcYTgezVLD3LKH7NFj4pjpgCLcBGAs/s1600/4214_t2-3.PNG\" alt=\"cce\" border=\"0\">"
      ]
    },
    {
      "cell_type": "markdown",
      "metadata": {
        "id": "RzVEFfoO8gYH"
      },
      "source": [
        "<a id=\"25\"></a> <br>\n",
        "# Computation on Arrays: Broadcasting"
      ]
    },
    {
      "cell_type": "markdown",
      "metadata": {
        "id": "QDsndMvK8gYH"
      },
      "source": [
        "* Broadcasting is simply a\n",
        "set of rules for applying binary ufuncs (addition, subtraction, multiplication, etc.) on\n",
        "arrays of different sizes."
      ]
    },
    {
      "cell_type": "markdown",
      "metadata": {
        "id": "pZWB9_oq8gYH"
      },
      "source": [
        "<a id=\"26\"></a> <br>\n",
        "### Introducing Broadcasting"
      ]
    },
    {
      "cell_type": "code",
      "metadata": {
        "id": "me4qLriF8gYI",
        "outputId": "24752f1e-cced-4f1f-c893-c2b83446961a"
      },
      "source": [
        "import numpy as np\n",
        "\n",
        "a = np.array([0,1,2])\n",
        "b = np.array([5,5,5])\n",
        "a+b"
      ],
      "execution_count": null,
      "outputs": [
        {
          "data": {
            "text/plain": [
              "array([5, 6, 7])"
            ]
          },
          "execution_count": 114,
          "metadata": {},
          "output_type": "execute_result"
        }
      ]
    },
    {
      "cell_type": "code",
      "metadata": {
        "id": "wRpzVp9F8gYI",
        "outputId": "b168a58e-73b9-43b0-e96c-fda053afea3c"
      },
      "source": [
        "a+5"
      ],
      "execution_count": null,
      "outputs": [
        {
          "data": {
            "text/plain": [
              "array([5, 6, 7])"
            ]
          },
          "execution_count": 115,
          "metadata": {},
          "output_type": "execute_result"
        }
      ]
    },
    {
      "cell_type": "code",
      "metadata": {
        "id": "OHm2C6Nj8gYI",
        "outputId": "e9c6133a-183c-4a94-bb51-5b2539b03894"
      },
      "source": [
        "# We can similarly extend this to arrays of higher dimension. Observe the result when\n",
        "# we add a one-dimensional array to a two-dimensional array:\n",
        "\n",
        "M = np.ones((3,3))\n",
        "M"
      ],
      "execution_count": null,
      "outputs": [
        {
          "data": {
            "text/plain": [
              "array([[1., 1., 1.],\n",
              "       [1., 1., 1.],\n",
              "       [1., 1., 1.]])"
            ]
          },
          "execution_count": 116,
          "metadata": {},
          "output_type": "execute_result"
        }
      ]
    },
    {
      "cell_type": "code",
      "metadata": {
        "id": "XuwoU4dA8gYI",
        "outputId": "db41958e-445c-4683-f442-7386b7747c43"
      },
      "source": [
        "M+a\n",
        "\n",
        "# Here the one-dimensional array a is stretched, or broadcast, across the second\n",
        "# dimension in order to match the shape of M ."
      ],
      "execution_count": null,
      "outputs": [
        {
          "data": {
            "text/plain": [
              "array([[1., 2., 3.],\n",
              "       [1., 2., 3.],\n",
              "       [1., 2., 3.]])"
            ]
          },
          "execution_count": 117,
          "metadata": {},
          "output_type": "execute_result"
        }
      ]
    },
    {
      "cell_type": "code",
      "metadata": {
        "id": "IIgeSb3O8gYI",
        "outputId": "5fb19885-419e-4faa-80d3-0561f12513ad"
      },
      "source": [
        "# here we’ve stretched both a and b to match a common shape, and the result is a two-\n",
        "# dimensional array!\n",
        "\n",
        "a = np.arange(3) #(3,) 1 dimensional\n",
        "b = np.arange(3)[:,np.newaxis] #(3,1) 2 dimensional\n",
        "print(a)\n",
        "print(b)"
      ],
      "execution_count": null,
      "outputs": [
        {
          "name": "stdout",
          "output_type": "stream",
          "text": [
            "[0 1 2]\n",
            "[[0]\n",
            " [1]\n",
            " [2]]\n"
          ]
        }
      ]
    },
    {
      "cell_type": "code",
      "metadata": {
        "id": "Xi34FcF58gYI",
        "outputId": "2d415332-70b9-4296-c6eb-3edc09193557"
      },
      "source": [
        "a+b"
      ],
      "execution_count": null,
      "outputs": [
        {
          "data": {
            "text/plain": [
              "array([[0, 1, 2],\n",
              "       [1, 2, 3],\n",
              "       [2, 3, 4]])"
            ]
          },
          "execution_count": 119,
          "metadata": {},
          "output_type": "execute_result"
        }
      ]
    },
    {
      "cell_type": "markdown",
      "metadata": {
        "id": "PbhJfR388gYI"
      },
      "source": [
        "<a id=\"27\"></a> <br>\n",
        "### Visualization of NumPy broadcasting\n",
        "\n",
        "<img src=\"https://jakevdp.github.io/PythonDataScienceHandbook/figures/02.05-broadcasting.png\" alt=\"broadcasting\" border=\"0\">"
      ]
    },
    {
      "cell_type": "markdown",
      "metadata": {
        "id": "xQ5F1vIt8gYI"
      },
      "source": [
        "#### Rules of Broadcasting"
      ]
    },
    {
      "cell_type": "markdown",
      "metadata": {
        "id": "56Lehzs48gYJ"
      },
      "source": [
        "* **Broadcasting in NumPy follows a strict set of rules to determine the interaction\n",
        "between the two arrays:**\n",
        "    \n",
        "* Rule 1: If the two arrays differ in their number of dimensions, the shape of the\n",
        "one with fewer dimensions is padded with ones on its leading (left) side.\n",
        "* Rule 2: If the shape of the two arrays does not match in any dimension, the array\n",
        "with shape equal to 1 in that dimension is stretched to match the other shape.\n",
        "* Rule 3: If in any dimension the sizes disagree and neither is equal to 1, an error is\n",
        "raised."
      ]
    },
    {
      "cell_type": "markdown",
      "metadata": {
        "id": "gfRXPN_v8gYJ"
      },
      "source": [
        "<a id=\"28\"></a> <br>\n",
        "### Broadcasting example 1"
      ]
    },
    {
      "cell_type": "code",
      "metadata": {
        "id": "mq-TkH6A8gYJ",
        "outputId": "e149bd69-d6f4-4d2a-9076-8a711a3aab0a"
      },
      "source": [
        "#Let’s look at adding a two-dimensional array to a one-dimensional array:\n",
        "M = np.ones((2,3))\n",
        "a = np.arange(3)\n",
        "\n",
        "# Let’s consider an operation on these two arrays. The shapes of the arrays are:\n",
        "# M.shape = (2, 3)\n",
        "# a.shape = (3,)\n",
        "# We see by rule 1 that the array a has fewer dimensions, so we pad it on the left with\n",
        "# ones:\n",
        "# M.shape -> (2, 3)\n",
        "# a.shape -> (1, 3)\n",
        "# By rule 2, we now see that the first dimension disagrees, so we stretch this dimension\n",
        "# to match:\n",
        "# M.shape -> (2, 3)\n",
        "# a.shape -> (2, 3)\n",
        "# The shapes match, and we see that the final shape will be (2, 3) :\n",
        "\n",
        "M+a"
      ],
      "execution_count": null,
      "outputs": [
        {
          "data": {
            "text/plain": [
              "array([[1., 2., 3.],\n",
              "       [1., 2., 3.]])"
            ]
          },
          "execution_count": 120,
          "metadata": {},
          "output_type": "execute_result"
        }
      ]
    },
    {
      "cell_type": "markdown",
      "metadata": {
        "id": "jv2JCm9y8gYJ"
      },
      "source": [
        "<a id=\"29\"></a> <br>\n",
        "### Broadcasting example 2"
      ]
    },
    {
      "cell_type": "code",
      "metadata": {
        "id": "Gr0Sv7lx8gYJ",
        "outputId": "4b945a4b-91cf-472a-a436-0bb133fbe49c"
      },
      "source": [
        "# Let’s take a look at an example where both arrays need to be broadcast:\n",
        "a = np.arange(3).reshape((3,1))\n",
        "b = np.arange(3)\n",
        "# Again, we’ll start by writing out the shape of the arrays:\n",
        "\n",
        "# a.shape = (3, 1)\n",
        "# b.shape = (3,)\n",
        "# |\n",
        "# Rule 1 says we must pad the shape of b with ones:\n",
        "# a.shape -> (3, 1)\n",
        "# b.shape -> (1, 3)\n",
        "# And rule 2 tells us that we upgrade each of these ones to match the corresponding\n",
        "# size of the other array:\n",
        "# a.shape -> (3, 3)\n",
        "# b.shape -> (3, 3)\n",
        "# Because the result matches, these shapes are compatible. We can see this here:\n",
        "a+b"
      ],
      "execution_count": null,
      "outputs": [
        {
          "data": {
            "text/plain": [
              "array([[0, 1, 2],\n",
              "       [1, 2, 3],\n",
              "       [2, 3, 4]])"
            ]
          },
          "execution_count": 121,
          "metadata": {},
          "output_type": "execute_result"
        }
      ]
    },
    {
      "cell_type": "markdown",
      "metadata": {
        "id": "WS6gPhyq8gYJ"
      },
      "source": [
        "<a id=\"30\"></a> <br>\n",
        "### Broadcasting example 3"
      ]
    },
    {
      "cell_type": "code",
      "metadata": {
        "id": "0woLwjzP8gYJ"
      },
      "source": [
        "# Now let’s take a look at an example in which the two arrays are not compatible:\n",
        "\n",
        "M = np.ones((3,2))\n",
        "a = np.arange(3)\n",
        "\n",
        "# This is just a slightly different situation than in the first example: the matrix M is\n",
        "# transposed. How does this affect the calculation? The shapes of the arrays are:\n",
        "# M.shape = (3, 2)\n",
        "# a.shape = (3,)\n",
        "# Again, rule 1 tells us that we must pad the shape of a with ones:\n",
        "# M.shape -> (3, 2)\n",
        "# a.shape -> (1, 3)\n",
        "# By rule 2, the first dimension of a is stretched to match that of M :\n",
        "# M.shape -> (3, 2)\n",
        "# a.shape -> (3, 3)\n",
        "# Now we hit rule 3—the final shapes do not match, so these two arrays are incompati‐\n",
        "# ble, as we can observe by attempting this operation:\n",
        "\n",
        "# print(M+a) #ERROR! operands could not be broadcast together with shapes"
      ],
      "execution_count": null,
      "outputs": []
    },
    {
      "cell_type": "code",
      "metadata": {
        "id": "XvS-6HxF8gYJ",
        "outputId": "5ab3ef7d-9249-40f6-fb88-b88962f0343a"
      },
      "source": [
        "print(a[:, np.newaxis].shape)\n",
        "M + a[:, np.newaxis]"
      ],
      "execution_count": null,
      "outputs": [
        {
          "name": "stdout",
          "output_type": "stream",
          "text": [
            "(3, 1)\n"
          ]
        },
        {
          "data": {
            "text/plain": [
              "array([[1., 1.],\n",
              "       [2., 2.],\n",
              "       [3., 3.]])"
            ]
          },
          "execution_count": 123,
          "metadata": {},
          "output_type": "execute_result"
        }
      ]
    },
    {
      "cell_type": "markdown",
      "metadata": {
        "id": "Px_sOrIK8gYK"
      },
      "source": [
        "<a id=\"31\"></a> <br>\n",
        "# Comparisons, Masks, and Boolean Logic"
      ]
    },
    {
      "cell_type": "markdown",
      "metadata": {
        "id": "H_X165N58gYK"
      },
      "source": [
        "<a id=\"32\"></a> <br>\n",
        "### Comparison Operators as ufuncs"
      ]
    },
    {
      "cell_type": "markdown",
      "metadata": {
        "id": "HKNgKKJP8gYK"
      },
      "source": [
        "* The result of these comparison operators is always an array with a Boolean data type.\n",
        "All six of the standard comparison operations are available:\n",
        "\n",
        "* for example, you might wish to count all values greater than a certain value,\n",
        "or perhaps remove all outliers that are above some threshold. In NumPy,\n",
        "Boolean masking is often the most efficient way to accomplish these types of tasks."
      ]
    },
    {
      "cell_type": "code",
      "metadata": {
        "id": "Ubr5ElnN8gYK",
        "outputId": "a86e4411-85d4-4ee8-c04f-5bf31e9b4c27"
      },
      "source": [
        "x = np.array([1,2,3,4,5])\n",
        "\n",
        "print(x<3)  # less than\n",
        "print(x>3)  # greater than\n",
        "print(x<=3) #less than or equal\n",
        "print(x>=3) #greater than or equal\n",
        "print(x!=3) #not equal\n",
        "print(x==3) #equal"
      ],
      "execution_count": null,
      "outputs": [
        {
          "name": "stdout",
          "output_type": "stream",
          "text": [
            "[ True  True False False False]\n",
            "[False False False  True  True]\n",
            "[ True  True  True False False]\n",
            "[False False  True  True  True]\n",
            "[ True  True False  True  True]\n",
            "[False False  True False False]\n"
          ]
        }
      ]
    },
    {
      "cell_type": "code",
      "metadata": {
        "id": "FBQkmSyc8gYK",
        "outputId": "abf15c6e-0742-4dde-e7e6-68d3be79127a"
      },
      "source": [
        "# It is also possible to do an element-by-element comparison of two arrays, and to\n",
        "# include compound expressions:\n",
        "\n",
        "(2*x) == (2**x)"
      ],
      "execution_count": null,
      "outputs": [
        {
          "data": {
            "text/plain": [
              "array([ True,  True, False, False, False])"
            ]
          },
          "execution_count": 125,
          "metadata": {},
          "output_type": "execute_result"
        }
      ]
    },
    {
      "cell_type": "code",
      "metadata": {
        "id": "fXDpQGHe8gYK"
      },
      "source": [
        "# As in the case of arithmetic operators, the comparison operators are implemented as\n",
        "# ufuncs in NumPy; for example, when you write x < 3 , internally NumPy uses\n",
        "# np.less(x, 3) . A summary of the comparison operators and their equivalent ufunc\n",
        "# is shown here:"
      ],
      "execution_count": null,
      "outputs": []
    },
    {
      "cell_type": "markdown",
      "metadata": {
        "id": "lsGWvTlE8gYK"
      },
      "source": [
        "<a id=\"33\"></a> <br>\n",
        "### Comparison operators and their equivalent\n",
        "\n",
        "<img src=\"https://3.bp.blogspot.com/-ePv8m0F9BaI/W4nwyN2vb2I/AAAAAAAAXWs/zF0LYfQGYzI4u4JILeHSnH4-jRoUgk-TwCLcBGAs/s1600/4229_2.PNG\" alt=\"Comparison operators and their equivalent\" border=\"0\">"
      ]
    },
    {
      "cell_type": "code",
      "metadata": {
        "id": "Lu3XpM4x8gYK",
        "outputId": "8298923f-ffce-49f3-e640-8c856f87339d"
      },
      "source": [
        "rng = np.random.RandomState(seed=0)\n",
        "x = rng.randint(10, size=(3,4))\n",
        "print(x)\n",
        "\n",
        "x<6"
      ],
      "execution_count": null,
      "outputs": [
        {
          "name": "stdout",
          "output_type": "stream",
          "text": [
            "[[5 0 3 3]\n",
            " [7 9 3 5]\n",
            " [2 4 7 6]]\n"
          ]
        },
        {
          "data": {
            "text/plain": [
              "array([[ True,  True,  True,  True],\n",
              "       [False, False,  True,  True],\n",
              "       [ True,  True, False, False]])"
            ]
          },
          "execution_count": 127,
          "metadata": {},
          "output_type": "execute_result"
        }
      ]
    },
    {
      "cell_type": "markdown",
      "metadata": {
        "id": "qOKwej6J8gYL"
      },
      "source": [
        "<a id=\"34\"></a> <br>\n",
        "### Working with Boolean Arrays "
      ]
    },
    {
      "cell_type": "code",
      "metadata": {
        "id": "U3q7DPz48gYL",
        "outputId": "889688fd-0191-49c8-da1b-8e2d516d887c"
      },
      "source": [
        "print(x)\n",
        "\n",
        "# To count the number of True entries in a Boolean array, np.count_nonzero is useful:\n",
        "\n",
        "# how many values less than 6?\n",
        "print(\"1-: \",np.count_nonzero(x<6))\n",
        "\n",
        "# We see that there are eight array entries that are less than 6. Another way to get at this\n",
        "# information is to use np.sum ; in this case, False is interpreted as 0 , and True is inter‐\n",
        "# preted as 1 :\n",
        "\n",
        "print(\"2-: \",np.sum(x<6))\n",
        "\n",
        "print(\"3-: \",np.sum(x!=np.nan))\n",
        "print(\"4-: \",np.count_nonzero(x!=np.nan))"
      ],
      "execution_count": null,
      "outputs": [
        {
          "name": "stdout",
          "output_type": "stream",
          "text": [
            "[[5 0 3 3]\n",
            " [7 9 3 5]\n",
            " [2 4 7 6]]\n",
            "1-:  8\n",
            "2-:  8\n",
            "3-:  12\n",
            "4-:  12\n"
          ]
        }
      ]
    },
    {
      "cell_type": "code",
      "metadata": {
        "id": "Zmzj892k8gYL",
        "outputId": "45e0e688-82fd-45a3-dc80-3706528ff200"
      },
      "source": [
        "# how many values less than 6 in each row?\n",
        "print(np.sum(x < 6, axis=1))\n",
        "\n",
        "# how many values less than 6 in each column?\n",
        "print(np.sum(x < 6, axis=0))"
      ],
      "execution_count": null,
      "outputs": [
        {
          "name": "stdout",
          "output_type": "stream",
          "text": [
            "[4 2 2]\n",
            "[2 2 2 2]\n"
          ]
        }
      ]
    },
    {
      "cell_type": "code",
      "metadata": {
        "id": "giiHkQKL8gYL",
        "outputId": "305875ca-94b1-4cd1-84d3-9ddaa41d5f28"
      },
      "source": [
        "# If we’re interested in quickly checking whether any or all the values are true, we can\n",
        "# use (you guessed it) np.any() or np.all() :\n",
        "\n",
        "# are there any values greater than 8?\n",
        "print(np.any(x>8))\n",
        "\n",
        "# are there any values less than zero?\n",
        "print(np.any(x<0))\n",
        "\n",
        "# are all values less than 10?\n",
        "print(np.all(x<10))\n",
        "\n",
        "# are all values equal to 6?\n",
        "print(np.all(x==6))"
      ],
      "execution_count": null,
      "outputs": [
        {
          "name": "stdout",
          "output_type": "stream",
          "text": [
            "True\n",
            "False\n",
            "True\n",
            "False\n"
          ]
        }
      ]
    },
    {
      "cell_type": "code",
      "metadata": {
        "id": "c_hZyuz38gYL",
        "outputId": "bc8091d8-76aa-40e2-8455-29abb647447d"
      },
      "source": [
        "# are all values in each row less than 8?\n",
        "print(np.all(x<8, axis=1))\n",
        "\n",
        "# are all values in each column less than 3?\n",
        "print(np.all(x<3, axis=0))"
      ],
      "execution_count": null,
      "outputs": [
        {
          "name": "stdout",
          "output_type": "stream",
          "text": [
            "[ True False  True]\n",
            "[False False False False]\n"
          ]
        }
      ]
    },
    {
      "cell_type": "code",
      "metadata": {
        "id": "qntVlCq68gYL",
        "outputId": "0591d5e6-7c72-4573-e5e8-aea37d3411bf"
      },
      "source": [
        "print(x)\n",
        "print(x<5)\n",
        "print(x[x<5])"
      ],
      "execution_count": null,
      "outputs": [
        {
          "name": "stdout",
          "output_type": "stream",
          "text": [
            "[[5 0 3 3]\n",
            " [7 9 3 5]\n",
            " [2 4 7 6]]\n",
            "[[False  True  True  True]\n",
            " [False False  True False]\n",
            " [ True  True False False]]\n",
            "[0 3 3 3 2 4]\n"
          ]
        }
      ]
    },
    {
      "cell_type": "code",
      "metadata": {
        "id": "jXP1Cvcs8gYL",
        "outputId": "df2b41fe-9d41-4645-bc01-e5e595433e90"
      },
      "source": [
        "# In Python, all nonzero integers will evaluate as True .\n",
        "bool(42), bool(0), bool(-1)"
      ],
      "execution_count": null,
      "outputs": [
        {
          "data": {
            "text/plain": [
              "(True, False, True)"
            ]
          },
          "execution_count": 133,
          "metadata": {},
          "output_type": "execute_result"
        }
      ]
    },
    {
      "cell_type": "code",
      "metadata": {
        "id": "LiyUwvb98gYM",
        "outputId": "ba79207f-6597-4de5-964e-2921000baec0"
      },
      "source": [
        "bool(42 and 0)"
      ],
      "execution_count": null,
      "outputs": [
        {
          "data": {
            "text/plain": [
              "False"
            ]
          },
          "execution_count": 134,
          "metadata": {},
          "output_type": "execute_result"
        }
      ]
    },
    {
      "cell_type": "code",
      "metadata": {
        "id": "3iSMT4XN8gYM",
        "outputId": "fa398ecf-1b8a-48cf-fd41-952c4010ac67"
      },
      "source": [
        "bool(42 or 0)"
      ],
      "execution_count": null,
      "outputs": [
        {
          "data": {
            "text/plain": [
              "True"
            ]
          },
          "execution_count": 135,
          "metadata": {},
          "output_type": "execute_result"
        }
      ]
    },
    {
      "cell_type": "code",
      "metadata": {
        "id": "c24iQ5Iw8gYM",
        "outputId": "5c451de2-a021-462a-c5c8-2a0971734cca"
      },
      "source": [
        "# When you have an array of Boolean values in NumPy, this can be thought of as a\n",
        "# string of bits where 1 = True and 0 = False , and the result of & and | operates in a\n",
        "# similar manner as before:\n",
        "\n",
        "A = np.array([1, 0, 1, 0, 1, 0], dtype=bool)\n",
        "B = np.array([1, 1, 1, 0, 1, 1], dtype=bool)\n",
        "A | B"
      ],
      "execution_count": null,
      "outputs": [
        {
          "data": {
            "text/plain": [
              "array([ True,  True,  True, False,  True,  True])"
            ]
          },
          "execution_count": 136,
          "metadata": {},
          "output_type": "execute_result"
        }
      ]
    },
    {
      "cell_type": "code",
      "metadata": {
        "id": "MZUT_4LI8gYM",
        "outputId": "5701a322-d145-4c0f-e60b-56cd5802ed80"
      },
      "source": [
        "x = np.arange(10)\n",
        "(x > 4) & (x < 8)"
      ],
      "execution_count": null,
      "outputs": [
        {
          "data": {
            "text/plain": [
              "array([False, False, False, False, False,  True,  True,  True, False,\n",
              "       False])"
            ]
          },
          "execution_count": 137,
          "metadata": {},
          "output_type": "execute_result"
        }
      ]
    },
    {
      "cell_type": "markdown",
      "metadata": {
        "id": "u0BrB-Dg8gYM"
      },
      "source": [
        "<a id=\"35\"></a> <br>\n",
        "# Fancy Indexing"
      ]
    },
    {
      "cell_type": "markdown",
      "metadata": {
        "id": "X6uYoAQd8gYM"
      },
      "source": [
        "<a id=\"36\"></a> <br>\n",
        "### Exploring Fancy Indexing"
      ]
    },
    {
      "cell_type": "code",
      "metadata": {
        "id": "IrfFK0bC8gYN",
        "outputId": "a17954e6-f8eb-47db-cf43-e10a7cc07ec3"
      },
      "source": [
        "import numpy as np\n",
        "\n",
        "rand = np.random.RandomState(42)\n",
        "x = rand.randint(100, size=10)\n",
        "print(x)"
      ],
      "execution_count": null,
      "outputs": [
        {
          "name": "stdout",
          "output_type": "stream",
          "text": [
            "[51 92 14 71 60 20 82 86 74 74]\n"
          ]
        }
      ]
    },
    {
      "cell_type": "code",
      "metadata": {
        "id": "huX4WkJS8gYN",
        "outputId": "91c62bad-9246-438c-d5d4-e59249d47a46"
      },
      "source": [
        "[x[3],x[7],x[2]]"
      ],
      "execution_count": null,
      "outputs": [
        {
          "data": {
            "text/plain": [
              "[71, 86, 14]"
            ]
          },
          "execution_count": 139,
          "metadata": {},
          "output_type": "execute_result"
        }
      ]
    },
    {
      "cell_type": "code",
      "metadata": {
        "id": "hSwacEKu8gYN",
        "outputId": "4478c922-9189-41de-cead-fcad1c4203d6"
      },
      "source": [
        "ind = [3,7,4]\n",
        "x[ind]"
      ],
      "execution_count": null,
      "outputs": [
        {
          "data": {
            "text/plain": [
              "array([71, 86, 60])"
            ]
          },
          "execution_count": 140,
          "metadata": {},
          "output_type": "execute_result"
        }
      ]
    },
    {
      "cell_type": "code",
      "metadata": {
        "id": "Bz3qhrc38gYN",
        "outputId": "f7b8da1d-0218-465e-f621-2dad0741defa"
      },
      "source": [
        "ind = np.array([[3, 7],\n",
        "                [4, 5]])\n",
        "x[ind]"
      ],
      "execution_count": null,
      "outputs": [
        {
          "data": {
            "text/plain": [
              "array([[71, 86],\n",
              "       [60, 20]])"
            ]
          },
          "execution_count": 141,
          "metadata": {},
          "output_type": "execute_result"
        }
      ]
    },
    {
      "cell_type": "code",
      "metadata": {
        "id": "U5ddD61f8gYO",
        "outputId": "1661b469-a673-466d-c5d1-a85da359edb8"
      },
      "source": [
        "X = np.arange(12).reshape((3,4))\n",
        "X"
      ],
      "execution_count": null,
      "outputs": [
        {
          "data": {
            "text/plain": [
              "array([[ 0,  1,  2,  3],\n",
              "       [ 4,  5,  6,  7],\n",
              "       [ 8,  9, 10, 11]])"
            ]
          },
          "execution_count": 142,
          "metadata": {},
          "output_type": "execute_result"
        }
      ]
    },
    {
      "cell_type": "code",
      "metadata": {
        "id": "Vo4K5FZv8gYO",
        "outputId": "3da97589-01ba-44c9-d0aa-ac7a93699e06"
      },
      "source": [
        "row = np.array([0,1,2])\n",
        "col = np.array([2,1,3])\n",
        "X[row,col]"
      ],
      "execution_count": null,
      "outputs": [
        {
          "data": {
            "text/plain": [
              "array([ 2,  5, 11])"
            ]
          },
          "execution_count": 143,
          "metadata": {},
          "output_type": "execute_result"
        }
      ]
    },
    {
      "cell_type": "code",
      "metadata": {
        "id": "IkxBONs78gYO",
        "outputId": "8bcea3b8-4636-4c95-918d-a49656ce38f8"
      },
      "source": [
        "X[row[:, np.newaxis], col] #row[:, np.newaxis].shape (3,1)"
      ],
      "execution_count": null,
      "outputs": [
        {
          "data": {
            "text/plain": [
              "array([[ 2,  1,  3],\n",
              "       [ 6,  5,  7],\n",
              "       [10,  9, 11]])"
            ]
          },
          "execution_count": 144,
          "metadata": {},
          "output_type": "execute_result"
        }
      ]
    },
    {
      "cell_type": "code",
      "metadata": {
        "id": "xJDbyRj28gYO",
        "outputId": "b8dcdd3b-00bf-4920-865e-54540afa8ac7"
      },
      "source": [
        "# Here, each row value is matched with each column vector, exactly as we saw in broad‐\n",
        "# casting of arithmetic operations. For example:\n",
        "\n",
        "row[:, np.newaxis] * col"
      ],
      "execution_count": null,
      "outputs": [
        {
          "data": {
            "text/plain": [
              "array([[0, 0, 0],\n",
              "       [2, 1, 3],\n",
              "       [4, 2, 6]])"
            ]
          },
          "execution_count": 145,
          "metadata": {},
          "output_type": "execute_result"
        }
      ]
    },
    {
      "cell_type": "markdown",
      "metadata": {
        "id": "FC1P-i3I8gYO"
      },
      "source": [
        "<a id=\"37\"></a> <br>\n",
        "### Combined Indexing"
      ]
    },
    {
      "cell_type": "code",
      "metadata": {
        "id": "xhlOOMmT8gYO",
        "outputId": "e9a5b8c4-d3c8-4c85-8bba-f2f07ed16550"
      },
      "source": [
        "print(X)"
      ],
      "execution_count": null,
      "outputs": [
        {
          "name": "stdout",
          "output_type": "stream",
          "text": [
            "[[ 0  1  2  3]\n",
            " [ 4  5  6  7]\n",
            " [ 8  9 10 11]]\n"
          ]
        }
      ]
    },
    {
      "cell_type": "code",
      "metadata": {
        "id": "YB1wdoMw8gYO",
        "outputId": "fe19e216-abd5-4fa4-f86f-7545785be8b0"
      },
      "source": [
        "X[2,[2,0,1]]"
      ],
      "execution_count": null,
      "outputs": [
        {
          "data": {
            "text/plain": [
              "array([10,  8,  9])"
            ]
          },
          "execution_count": 147,
          "metadata": {},
          "output_type": "execute_result"
        }
      ]
    },
    {
      "cell_type": "code",
      "metadata": {
        "id": "q8rg_WqM8gYP",
        "outputId": "06d73fd6-09c3-4f3a-ad83-f6a704013552"
      },
      "source": [
        "X[1:, [2, 0, 1]]"
      ],
      "execution_count": null,
      "outputs": [
        {
          "data": {
            "text/plain": [
              "array([[ 6,  4,  5],\n",
              "       [10,  8,  9]])"
            ]
          },
          "execution_count": 148,
          "metadata": {},
          "output_type": "execute_result"
        }
      ]
    },
    {
      "cell_type": "code",
      "metadata": {
        "id": "sEK7SeLU8gYP",
        "outputId": "b800cb71-a545-4c2e-f90e-4a98136bdcf6"
      },
      "source": [
        "mask = np.array([1, 0, 1, 0], dtype=bool)\n",
        "X[row[:, np.newaxis], mask]  # mask 0 and 2 indixes are true!"
      ],
      "execution_count": null,
      "outputs": [
        {
          "data": {
            "text/plain": [
              "array([[ 0,  2],\n",
              "       [ 4,  6],\n",
              "       [ 8, 10]])"
            ]
          },
          "execution_count": 149,
          "metadata": {},
          "output_type": "execute_result"
        }
      ]
    },
    {
      "cell_type": "markdown",
      "metadata": {
        "id": "-Il_fzY98gYP"
      },
      "source": [
        "<a id=\"38\"></a> <br>\n",
        "### Modifying Values with Fancy Indexing"
      ]
    },
    {
      "cell_type": "code",
      "metadata": {
        "id": "aFrrnx5b8gYP",
        "outputId": "71b86219-9038-44df-9422-20314e052cfb"
      },
      "source": [
        "x = np.arange(10)\n",
        "i = np.array([2,1,8,4])\n",
        "x[i] = 99\n",
        "print(x)"
      ],
      "execution_count": null,
      "outputs": [
        {
          "name": "stdout",
          "output_type": "stream",
          "text": [
            "[ 0 99 99  3 99  5  6  7 99  9]\n"
          ]
        }
      ]
    },
    {
      "cell_type": "code",
      "metadata": {
        "id": "EtxcOo008gYP",
        "outputId": "0897181e-6c0a-45b1-9d5f-3dc7a0b69bbc"
      },
      "source": [
        "x[i] -= 10\n",
        "print(x)"
      ],
      "execution_count": null,
      "outputs": [
        {
          "name": "stdout",
          "output_type": "stream",
          "text": [
            "[ 0 89 89  3 89  5  6  7 89  9]\n"
          ]
        }
      ]
    },
    {
      "cell_type": "code",
      "metadata": {
        "id": "E86L6D4F8gYP",
        "outputId": "718af6c3-9cf1-4521-de9a-0224cd426f84"
      },
      "source": [
        "x = np.zeros(10)\n",
        "x[[0, 2]] = [4, 6]\n",
        "print(x)"
      ],
      "execution_count": null,
      "outputs": [
        {
          "name": "stdout",
          "output_type": "stream",
          "text": [
            "[4. 0. 6. 0. 0. 0. 0. 0. 0. 0.]\n"
          ]
        }
      ]
    },
    {
      "cell_type": "code",
      "metadata": {
        "id": "bKZMKcnz8gYP",
        "outputId": "0b5f1430-0628-4309-f6cf-43bead118477"
      },
      "source": [
        "x = np.zeros(10)\n",
        "x[[0, 0]] = [4, 6]\n",
        "print(x)\n",
        "\n",
        "# Where did the 4 go? The result of this operation is to first assign x[0] = 4 , followed\n",
        "# by x[0] = 6 . The result, of course, is that x[0] contains the value 6."
      ],
      "execution_count": null,
      "outputs": [
        {
          "name": "stdout",
          "output_type": "stream",
          "text": [
            "[6. 0. 0. 0. 0. 0. 0. 0. 0. 0.]\n"
          ]
        }
      ]
    },
    {
      "cell_type": "code",
      "metadata": {
        "id": "ziMnU-_w8gYP",
        "outputId": "de3e3188-84bb-4fb5-bedb-5ec3617fea4b"
      },
      "source": [
        "i = [2, 3, 3, 4, 4, 4]\n",
        "x[i] += 1\n",
        "x"
      ],
      "execution_count": null,
      "outputs": [
        {
          "data": {
            "text/plain": [
              "array([6., 0., 1., 1., 1., 0., 0., 0., 0., 0.])"
            ]
          },
          "execution_count": 154,
          "metadata": {},
          "output_type": "execute_result"
        }
      ]
    },
    {
      "cell_type": "code",
      "metadata": {
        "id": "TNPLPU_B8gYQ",
        "outputId": "41d7f542-17b1-4aa8-e3d3-31fa80aad756"
      },
      "source": [
        "x = np.zeros(10)\n",
        "np.add.at(x, i, 1)\n",
        "print(x)"
      ],
      "execution_count": null,
      "outputs": [
        {
          "name": "stdout",
          "output_type": "stream",
          "text": [
            "[0. 0. 1. 2. 3. 0. 0. 0. 0. 0.]\n"
          ]
        }
      ]
    },
    {
      "cell_type": "markdown",
      "metadata": {
        "id": "v21IJAgs8gYQ"
      },
      "source": [
        "<a id=\"39\"></a> <br>\n",
        "# Sorting Arrays"
      ]
    },
    {
      "cell_type": "markdown",
      "metadata": {
        "id": "VP4XqVw_8gYQ"
      },
      "source": [
        "<a id=\"40\"></a> <br>\n",
        "### Fast Sorting in NumPy: np.sort and np.argsort"
      ]
    },
    {
      "cell_type": "code",
      "metadata": {
        "id": "r_I2CiRi8gYQ",
        "outputId": "2b4d5869-6585-4714-9db2-c7e1a23af904"
      },
      "source": [
        "x = np.array([2,1,4,3,5])\n",
        "np.sort(x)"
      ],
      "execution_count": null,
      "outputs": [
        {
          "data": {
            "text/plain": [
              "array([1, 2, 3, 4, 5])"
            ]
          },
          "execution_count": 156,
          "metadata": {},
          "output_type": "execute_result"
        }
      ]
    },
    {
      "cell_type": "code",
      "metadata": {
        "id": "pncnD3Df8gYQ",
        "outputId": "a6fedf1c-6b3f-4b2d-9922-5c26d6d167aa"
      },
      "source": [
        "x.sort()\n",
        "print(x)"
      ],
      "execution_count": null,
      "outputs": [
        {
          "name": "stdout",
          "output_type": "stream",
          "text": [
            "[1 2 3 4 5]\n"
          ]
        }
      ]
    },
    {
      "cell_type": "code",
      "metadata": {
        "id": "VWXUuc8e8gYQ",
        "outputId": "085c1b03-30fb-462f-b967-e1ee43ed6709"
      },
      "source": [
        "#return indices\n",
        "x = np.array([2,1,4,3,5])\n",
        "i = np.argsort(x)\n",
        "print(i)\n",
        "\n",
        "x[i]"
      ],
      "execution_count": null,
      "outputs": [
        {
          "name": "stdout",
          "output_type": "stream",
          "text": [
            "[1 0 3 2 4]\n"
          ]
        },
        {
          "data": {
            "text/plain": [
              "array([1, 2, 3, 4, 5])"
            ]
          },
          "execution_count": 158,
          "metadata": {},
          "output_type": "execute_result"
        }
      ]
    },
    {
      "cell_type": "markdown",
      "metadata": {
        "id": "JidAzbNI8gYR"
      },
      "source": [
        "<a id=\"41\"></a> <br>\n",
        "### Sorting along rows or columns"
      ]
    },
    {
      "cell_type": "code",
      "metadata": {
        "id": "JtuTalty8gYR",
        "outputId": "eee4a065-868a-4f14-dfa5-0a6aa58a540f"
      },
      "source": [
        "# A useful feature of NumPy’s sorting algorithms is the ability to sort along specific\n",
        "# rows or columns of a multidimensional array using the axis argument. For example:\n",
        "\n",
        "rand = np.random.RandomState(42)\n",
        "X = rand.randint(0,10,(4,6))\n",
        "print(X)"
      ],
      "execution_count": null,
      "outputs": [
        {
          "name": "stdout",
          "output_type": "stream",
          "text": [
            "[[6 3 7 4 6 9]\n",
            " [2 6 7 4 3 7]\n",
            " [7 2 5 4 1 7]\n",
            " [5 1 4 0 9 5]]\n"
          ]
        }
      ]
    },
    {
      "cell_type": "code",
      "metadata": {
        "id": "U0pARIct8gYR",
        "outputId": "0e989fcc-eeaf-4c56-f14f-303d70a433d3"
      },
      "source": [
        "# sort each column of X\n",
        "\n",
        "np.sort(X, axis=0)"
      ],
      "execution_count": null,
      "outputs": [
        {
          "data": {
            "text/plain": [
              "array([[2, 1, 4, 0, 1, 5],\n",
              "       [5, 2, 5, 4, 3, 7],\n",
              "       [6, 3, 7, 4, 6, 7],\n",
              "       [7, 6, 7, 4, 9, 9]])"
            ]
          },
          "execution_count": 160,
          "metadata": {},
          "output_type": "execute_result"
        }
      ]
    },
    {
      "cell_type": "code",
      "metadata": {
        "id": "7KWq6opc8gYR",
        "outputId": "355b6acf-894f-4887-f221-3c3895106a65"
      },
      "source": [
        "# sort each row of X\n",
        "\n",
        "np.sort(X, axis=1)"
      ],
      "execution_count": null,
      "outputs": [
        {
          "data": {
            "text/plain": [
              "array([[3, 4, 6, 6, 7, 9],\n",
              "       [2, 3, 4, 6, 7, 7],\n",
              "       [1, 2, 4, 5, 7, 7],\n",
              "       [0, 1, 4, 5, 5, 9]])"
            ]
          },
          "execution_count": 161,
          "metadata": {},
          "output_type": "execute_result"
        }
      ]
    },
    {
      "cell_type": "markdown",
      "metadata": {
        "id": "bvt_W7i08gYR"
      },
      "source": [
        "<a id=\"42\"></a> <br>\n",
        "### Partial Sorts: Partitioning"
      ]
    },
    {
      "cell_type": "code",
      "metadata": {
        "id": "zzFC2nyv8gYR",
        "outputId": "09df3045-91da-456c-95bf-97f1901b66be"
      },
      "source": [
        "# Note that the first three values in the resulting array are the three smallest in the\n",
        "# array, and the remaining array positions contain the remaining values. Within the\n",
        "# two partitions, the elements have arbitrary order.\n",
        "\n",
        "x = np.array([7, 2, 1, 3, 6, 5, 4])\n",
        "np.partition(x, 3)"
      ],
      "execution_count": null,
      "outputs": [
        {
          "data": {
            "text/plain": [
              "array([2, 3, 1, 4, 6, 5, 7])"
            ]
          },
          "execution_count": 162,
          "metadata": {},
          "output_type": "execute_result"
        }
      ]
    },
    {
      "cell_type": "code",
      "metadata": {
        "id": "Oq84nTJ18gYR",
        "outputId": "98dec153-3411-4d79-df7e-3ff717d8579a"
      },
      "source": [
        "# The result is an array where the first two slots in each row contain the smallest values\n",
        "# from that row, with the remaining values filling the remaining slots.\n",
        "\n",
        "np.partition(X, 2, axis=1)"
      ],
      "execution_count": null,
      "outputs": [
        {
          "data": {
            "text/plain": [
              "array([[3, 4, 6, 7, 6, 9],\n",
              "       [2, 3, 4, 7, 6, 7],\n",
              "       [1, 2, 4, 5, 7, 7],\n",
              "       [0, 1, 4, 5, 9, 5]])"
            ]
          },
          "execution_count": 163,
          "metadata": {},
          "output_type": "execute_result"
        }
      ]
    },
    {
      "cell_type": "code",
      "metadata": {
        "id": "jidsXDI48gYR",
        "outputId": "f0dcc19e-3dec-45dd-a189-c3ef12cbb857"
      },
      "source": [
        "np.partition(X, 2, axis=0)"
      ],
      "execution_count": null,
      "outputs": [
        {
          "data": {
            "text/plain": [
              "array([[2, 1, 4, 0, 1, 5],\n",
              "       [5, 2, 5, 4, 3, 7],\n",
              "       [6, 3, 7, 4, 6, 7],\n",
              "       [7, 6, 7, 4, 9, 9]])"
            ]
          },
          "execution_count": 164,
          "metadata": {},
          "output_type": "execute_result"
        }
      ]
    },
    {
      "cell_type": "code",
      "metadata": {
        "id": "EJXe1VE58gYS",
        "outputId": "9ca8ddab-b67e-4525-9925-7fede95bde9f"
      },
      "source": [
        "np.argpartition(X, 2, axis=1)"
      ],
      "execution_count": null,
      "outputs": [
        {
          "data": {
            "text/plain": [
              "array([[1, 3, 0, 2, 4, 5],\n",
              "       [0, 4, 3, 2, 1, 5],\n",
              "       [4, 1, 3, 2, 0, 5],\n",
              "       [3, 1, 2, 0, 4, 5]])"
            ]
          },
          "execution_count": 165,
          "metadata": {},
          "output_type": "execute_result"
        }
      ]
    },
    {
      "cell_type": "code",
      "metadata": {
        "id": "dI7Qd3zP8gYS",
        "outputId": "d515040a-2c70-4d6e-9ec9-13a43bef1d15"
      },
      "source": [
        "np.argpartition(X, 2, axis=0)"
      ],
      "execution_count": null,
      "outputs": [
        {
          "data": {
            "text/plain": [
              "array([[1, 3, 3, 3, 2, 3],\n",
              "       [3, 2, 2, 1, 1, 1],\n",
              "       [0, 0, 1, 2, 0, 2],\n",
              "       [2, 1, 0, 0, 3, 0]])"
            ]
          },
          "execution_count": 166,
          "metadata": {},
          "output_type": "execute_result"
        }
      ]
    },
    {
      "cell_type": "markdown",
      "metadata": {
        "id": "K-tEOgZe8gYS"
      },
      "source": [
        "# This kernel will be updated regularly."
      ]
    },
    {
      "cell_type": "markdown",
      "metadata": {
        "id": "Ki_Qzwxm8gYS"
      },
      "source": [
        "<a id=\"42\"></a>\n",
        "# Conclusion\n",
        "* **If you like it, please upvote   :)**\n",
        "* **If you have any question, I will be appreciate to hear it   :)**"
      ]
    }
  ]
}