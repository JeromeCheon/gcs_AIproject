{
 "cells": [
  {
   "cell_type": "markdown",
   "id": "0cef1d40",
   "metadata": {},
   "source": [
    "# Transformer?\n",
    "\n",
    "Vaswani, Ashish, et al. \"Attention is all you need.\" Advances in neural information processing systems. 2017\n",
    "\n",
    "![screensh](https://blog.kakaocdn.net/dn/blla7d/btqBPXAzWdA/1yMKSf4SYWRT9t0yDt2lM1/img.jpg)"
   ]
  },
  {
   "cell_type": "markdown",
   "id": "c33e6460",
   "metadata": {},
   "source": [
    "- attention mechanism을 이용하여 기존 RNN 모델의 한계를 극복\n",
    "![screensh](https://jalammar.github.io/images/t/transformer_self-attention_visualization.png)"
   ]
  },
  {
   "cell_type": "markdown",
   "id": "7792b1dd",
   "metadata": {},
   "source": [
    "![screensh](https://user-images.githubusercontent.com/56193069/94324712-03cbe600-ffd6-11ea-8456-9077ed933c0c.png)"
   ]
  },
  {
   "attachments": {
    "image.png": {
     "image/png": "[encoded data removed]"
    }
   },
   "cell_type": "markdown",
   "id": "ce0d5d58",
   "metadata": {},
   "source": [
    "# Scaled dot-product attention\n",
    "![image.png](attachment:image.png)\n",
    "![screensh](https://jalammar.github.io/images/t/self-attention-matrix-calculation-2.png)\n"
   ]
  },
  {
   "cell_type": "markdown",
   "id": "6a77e16f",
   "metadata": {},
   "source": [
    "![image.png](https://jalammar.github.io/images/t/transformer_self-attention_visualization_3.png)"
   ]
  },
  {
   "cell_type": "markdown",
   "id": "a5761156",
   "metadata": {},
   "source": [
    "# BERT"
   ]
  },
  {
   "cell_type": "markdown",
   "id": "c5e4a2ca",
   "metadata": {},
   "source": [
    "![image.png](https://paul-hyun.github.io/assets/2020-01-02/bert-pretrain.png)"
   ]
  },
  {
   "cell_type": "markdown",
   "id": "cc04c2f7",
   "metadata": {},
   "source": [
    "# BERT - code implementation"
   ]
  },
  {
   "cell_type": "code",
   "execution_count": 1,
   "id": "2116b7f6",
   "metadata": {},
   "outputs": [],
   "source": [
    "import os\n",
    "\n",
    "# 수학 관련 라이브러리\n",
    "import numpy as np\n",
    "import math\n",
    "\n",
    "# pytorch 관련 라이브러리\n",
    "import torch\n",
    "import torch.nn as nn \n",
    "import torch.nn.functional as F "
   ]
  },
  {
   "cell_type": "code",
   "execution_count": 2,
   "id": "86840ea4",
   "metadata": {},
   "outputs": [],
   "source": [
    "def gelu(x):\n",
    "    return x * 0.5 * (1.0 + torch.erf(x / math.sqrt(2.0)))"
   ]
  },
  {
   "cell_type": "code",
   "execution_count": 3,
   "id": "c40ff202",
   "metadata": {},
   "outputs": [],
   "source": [
    "class LayerNorm(nn.Module):\n",
    "    def __init__(self, cfg, variance_epsilon=1e-12):\n",
    "        super().__init__()\n",
    "        self.gamma = nn.Parameter(torch.ones(cfg.dim))\n",
    "        self.beta  = nn.Parameter(torch.zeros(cfg.dim))\n",
    "        self.variance_epsilon = variance_epsilon\n",
    "\n",
    "    def forward(self, x):\n",
    "        # get mean, variance\n",
    "        u = x.mean(-1, keepdim=True) # sequence 방향 mean\n",
    "        s = (x - u).pow(2).mean(-1, keepdim=True) # sequence 방향 variance\n",
    "        \n",
    "        # normalize\n",
    "        x = (x - u) / torch.sqrt(s + self.variance_epsilon) # (x - mean)/std \n",
    "        \n",
    "        return self.gamma * x + self.beta # gamma, beta를 이용해 mean, std 조정"
   ]
  },
  {
   "cell_type": "code",
   "execution_count": 4,
   "id": "73c7ff5b",
   "metadata": {},
   "outputs": [],
   "source": [
    "class Embeddings(nn.Module):\n",
    "    \"The embedding module from word, position and token_type embeddings.\"\n",
    "    def __init__(self, cfg):\n",
    "        super().__init__()\n",
    "        self.tok_embed = nn.Embedding(cfg.vocab_size, cfg.dim) # token embedding\n",
    "        self.pos_embed = nn.Embedding(cfg.max_len, cfg.dim) # position embedding\n",
    "        self.seg_embed = nn.Embedding(cfg.n_segments, cfg.dim) # segment(token type) embedding\n",
    "\n",
    "        self.norm = LayerNorm(cfg)\n",
    "        self.drop = nn.Dropout(cfg.p_drop_hidden)\n",
    "\n",
    "    def forward(self, x, seg):\n",
    "        seq_len = x.size(1)\n",
    "        pos = torch.arange(seq_len, dtype=torch.long, device=x.device) # 0,1,2,3,4,5, ..., seq_len-1\n",
    "        pos = pos.unsqueeze(0).expand_as(x) # (S,) -> (B, S)\n",
    "\n",
    "        e = self.tok_embed(x) + self.pos_embed(pos) + self.seg_embed(seg)\n",
    "        return self.drop(self.norm(e))"
   ]
  },
  {
   "cell_type": "code",
   "execution_count": 5,
   "id": "ad40dc64",
   "metadata": {},
   "outputs": [],
   "source": [
    "class Attention(nn.Module):\n",
    "    #Scaled Dot Product Attention\n",
    "    \n",
    "    def forward(self, query, key, value, mask=None, dropout=None):\n",
    "        scores = torch.matmul(query, key.transpose(-2, -1)) \\\n",
    "                 / math.sqrt(query.size(-1)) # scale\n",
    "\n",
    "        if mask is not None:\n",
    "            scores = scores.masked_fill(mask == 0, -1e9)\n",
    "\n",
    "        p_attn = F.softmax(scores, dim=-1)\n",
    "\n",
    "        if dropout is not None:\n",
    "            p_attn = dropout(p_attn)\n",
    "\n",
    "        return torch.matmul(p_attn, value), p_attn"
   ]
  },
  {
   "cell_type": "code",
   "execution_count": 6,
   "id": "22bc9e67",
   "metadata": {},
   "outputs": [],
   "source": [
    "class MultiHeadedSelfAttention(nn.Module):\n",
    "    \"\"\" Multi-Headed Dot Product Attention \"\"\"\n",
    "    def __init__(self, cfg):\n",
    "        super().__init__()\n",
    "        self.proj_q = nn.Linear(cfg.dim, cfg.dim)\n",
    "        self.proj_k = nn.Linear(cfg.dim, cfg.dim)\n",
    "        self.proj_v = nn.Linear(cfg.dim, cfg.dim)\n",
    "        self.drop = nn.Dropout(cfg.p_drop_attn)\n",
    "        self.scores = None # for visualization\n",
    "        self.n_heads = cfg.n_heads\n",
    "\n",
    "    def forward(self, x, mask):\n",
    "        \"\"\"\n",
    "        x, q(query), k(key), v(value) : (B(batch_size), S(seq_len), D(dim))\n",
    "        mask : (B(batch_size) x S(seq_len))\n",
    "        * split D(dim) into (H(n_heads), W(width of head)) ; D = H * W\n",
    "        \"\"\"\n",
    "        # (B, S, D) -proj-> (B, S, D) -split-> (B, S, H, W) -trans-> (B, H, S, W)\n",
    "        q, k, v = self.proj_q(x), self.proj_k(x), self.proj_v(x)\n",
    "        q, k, v = (split_last(x, (self.n_heads, -1)).transpose(1, 2)\n",
    "                   for x in [q, k, v])\n",
    "        # (B, H, S, W) @ (B, H, W, S) -> (B, H, S, S) -softmax-> (B, H, S, S)\n",
    "        scores = q @ k.transpose(-2, -1) / np.sqrt(k.size(-1)) # @ == torch.matmul (dot product)\n",
    "        if mask is not None:\n",
    "            mask = mask[:, None, None, :].float()\n",
    "            scores -= 10000.0 * (1.0 - mask)\n",
    "        scores = self.drop(F.softmax(scores, dim=-1))\n",
    "        # (B, H, S, S) @ (B, H, S, W) -> (B, H, S, W) -trans-> (B, S, H, W)\n",
    "        h = (scores @ v).transpose(1, 2).contiguous()\n",
    "        # -merge-> (B, S, D)\n",
    "        h = merge_last(h, 2)\n",
    "        self.scores = scores\n",
    "        return h"
   ]
  },
  {
   "cell_type": "code",
   "execution_count": 7,
   "id": "e83cf747",
   "metadata": {},
   "outputs": [],
   "source": [
    "class PositionWiseFeedForward(nn.Module):\n",
    "    \"\"\" FeedForward Neural Networks for each position \"\"\"\n",
    "    def __init__(self, cfg):\n",
    "        super().__init__()\n",
    "        self.fc1 = nn.Linear(cfg.dim, cfg.dim_ff)\n",
    "        self.fc2 = nn.Linear(cfg.dim_ff, cfg.dim)\n",
    "\n",
    "    def forward(self, x):\n",
    "        # (B, S, D) -> (B, S, D_ff) -> (B, S, D)\n",
    "        return self.fc2(gelu(self.fc1(x)))"
   ]
  },
  {
   "cell_type": "code",
   "execution_count": 8,
   "id": "d7726e41",
   "metadata": {},
   "outputs": [],
   "source": [
    "class Block(nn.Module):\n",
    "    \"\"\" Transformer Block \"\"\"\n",
    "    def __init__(self, cfg):\n",
    "        super().__init__()\n",
    "        self.attn = MultiHeadedSelfAttention(cfg)\n",
    "        self.proj = nn.Linear(cfg.dim, cfg.dim)\n",
    "        self.norm1 = LayerNorm(cfg)\n",
    "        self.pwff = PositionWiseFeedForward(cfg)\n",
    "        self.norm2 = LayerNorm(cfg)\n",
    "        self.drop = nn.Dropout(cfg.p_drop_hidden)\n",
    "\n",
    "    def forward(self, x, mask):\n",
    "        h = self.attn(x, mask)\n",
    "        h = self.norm1(x + self.drop(self.proj(h)))\n",
    "        h = self.norm2(h + self.drop(self.pwff(h)))\n",
    "        return h\n",
    "\n",
    "\n",
    "class Transformer(nn.Module):\n",
    "    \"\"\" Transformer with Self-Attentive Blocks\"\"\"\n",
    "    def __init__(self, cfg):\n",
    "        super().__init__()\n",
    "        self.embed = Embeddings(cfg)\n",
    "        self.blocks = nn.ModuleList([Block(cfg) for _ in range(cfg.n_layers)])\n",
    "\n",
    "    def forward(self, x, seg, mask):\n",
    "        h = self.embed(x, seg)\n",
    "        for block in self.blocks:\n",
    "            h = block(h, mask)\n",
    "        return h"
   ]
  },
  {
   "cell_type": "code",
   "execution_count": 9,
   "id": "8077736e",
   "metadata": {},
   "outputs": [],
   "source": [
    "class BERT(nn.Module):\n",
    "    \"\"\" Classifier with Transformer \"\"\"\n",
    "    def __init__(self, cfg, n_labels):\n",
    "        super().__init__()\n",
    "        self.transformer = Transformer(cfg)\n",
    "        self.fc = nn.Linear(cfg.dim, cfg.dim)\n",
    "        self.activ = nn.Tanh()\n",
    "        self.drop = nn.Dropout(cfg.p_drop_hidden)\n",
    "        self.classifier = nn.Linear(cfg.dim, n_labels)\n",
    "\n",
    "    def forward(self, input_ids, segment_ids, input_mask):\n",
    "        h = self.transformer(input_ids, segment_ids, input_mask)\n",
    "        logits = self.classifier(self.drop(h))\n",
    "        return logits"
   ]
  },
  {
   "cell_type": "markdown",
   "id": "793cf4ea",
   "metadata": {},
   "source": [
    "# BERT - huggingface library"
   ]
  },
  {
   "cell_type": "code",
   "execution_count": 10,
   "id": "d7c5068e",
   "metadata": {},
   "outputs": [],
   "source": [
    "# !pip install transformers"
   ]
  },
  {
   "cell_type": "code",
   "execution_count": 11,
   "id": "418712f4",
   "metadata": {},
   "outputs": [],
   "source": [
    "import torch"
   ]
  },
  {
   "cell_type": "code",
   "execution_count": 12,
   "id": "53426ff4",
   "metadata": {},
   "outputs": [
    {
     "name": "stderr",
     "output_type": "stream",
     "text": [
      "Some weights of the model checkpoint at bert-base-uncased were not used when initializing BertForTokenClassification: ['cls.predictions.transform.dense.bias', 'cls.seq_relationship.bias', 'cls.predictions.transform.LayerNorm.weight', 'cls.predictions.transform.dense.weight', 'cls.predictions.transform.LayerNorm.bias', 'cls.predictions.bias', 'cls.predictions.decoder.weight', 'cls.seq_relationship.weight']\n",
      "- This IS expected if you are initializing BertForTokenClassification from the checkpoint of a model trained on another task or with another architecture (e.g. initializing a BertForSequenceClassification model from a BertForPreTraining model).\n",
      "- This IS NOT expected if you are initializing BertForTokenClassification from the checkpoint of a model that you expect to be exactly identical (initializing a BertForSequenceClassification model from a BertForSequenceClassification model).\n",
      "Some weights of BertForTokenClassification were not initialized from the model checkpoint at bert-base-uncased and are newly initialized: ['classifier.weight', 'classifier.bias']\n",
      "You should probably TRAIN this model on a down-stream task to be able to use it for predictions and inference.\n"
     ]
    }
   ],
   "source": [
    "from transformers import BertTokenizer, BertForTokenClassification\n",
    "\n",
    "tokenizer = BertTokenizer.from_pretrained('bert-base-uncased')\n",
    "model = BertForTokenClassification.from_pretrained('bert-base-uncased')\n",
    "\n",
    "inputs = tokenizer.encode(\"Hello, my dog is cute\", return_tensors=\"pt\")\n",
    "outputs = model(inputs)[0]"
   ]
  },
  {
   "cell_type": "code",
   "execution_count": 13,
   "id": "2ce8cd63",
   "metadata": {},
   "outputs": [
    {
     "data": {
      "text/plain": [
       "torch.Size([1, 8])"
      ]
     },
     "execution_count": 13,
     "metadata": {},
     "output_type": "execute_result"
    }
   ],
   "source": [
    "inputs.shape"
   ]
  },
  {
   "cell_type": "code",
   "execution_count": 14,
   "id": "62798e54",
   "metadata": {},
   "outputs": [
    {
     "data": {
      "text/plain": [
       "torch.Size([1, 8, 2])"
      ]
     },
     "execution_count": 14,
     "metadata": {},
     "output_type": "execute_result"
    }
   ],
   "source": [
    "outputs.shape"
   ]
  },
  {
   "cell_type": "code",
   "execution_count": 15,
   "id": "3e909cc2",
   "metadata": {},
   "outputs": [
    {
     "data": {
      "text/plain": [
       "tensor([[[ 0.2252,  0.2219],\n",
       "         [-0.2756, -0.0755],\n",
       "         [-0.5061, -0.3203],\n",
       "         [-0.1736, -0.3505],\n",
       "         [ 0.1144,  0.4508],\n",
       "         [-0.3161, -0.0997],\n",
       "         [-0.0828,  0.0972],\n",
       "         [ 0.0715,  0.3396]]], grad_fn=<AddBackward0>)"
      ]
     },
     "execution_count": 15,
     "metadata": {},
     "output_type": "execute_result"
    }
   ],
   "source": [
    "outputs"
   ]
  },
  {
   "cell_type": "code",
   "execution_count": 16,
   "id": "701c0b2a",
   "metadata": {},
   "outputs": [
    {
     "data": {
      "text/plain": [
       "tensor([[[0.5008, 0.4992],\n",
       "         [0.4501, 0.5499],\n",
       "         [0.4537, 0.5463],\n",
       "         [0.5441, 0.4559],\n",
       "         [0.4167, 0.5833],\n",
       "         [0.4461, 0.5539],\n",
       "         [0.4551, 0.5449],\n",
       "         [0.4334, 0.5666]]], grad_fn=<SoftmaxBackward>)"
      ]
     },
     "execution_count": 16,
     "metadata": {},
     "output_type": "execute_result"
    }
   ],
   "source": [
    "outputs.softmax(-1)"
   ]
  },
  {
   "cell_type": "code",
   "execution_count": 17,
   "id": "6cee6d93",
   "metadata": {},
   "outputs": [
    {
     "name": "stderr",
     "output_type": "stream",
     "text": [
      "Some weights of the model checkpoint at bert-base-uncased were not used when initializing BertForMaskedLM: ['cls.seq_relationship.bias', 'cls.seq_relationship.weight']\n",
      "- This IS expected if you are initializing BertForMaskedLM from the checkpoint of a model trained on another task or with another architecture (e.g. initializing a BertForSequenceClassification model from a BertForPreTraining model).\n",
      "- This IS NOT expected if you are initializing BertForMaskedLM from the checkpoint of a model that you expect to be exactly identical (initializing a BertForSequenceClassification model from a BertForSequenceClassification model).\n"
     ]
    }
   ],
   "source": [
    "from transformers import pipeline\n",
    "unmasker = pipeline('fill-mask', model='bert-base-uncased')\n"
   ]
  },
  {
   "cell_type": "code",
   "execution_count": 18,
   "id": "22d2fdab",
   "metadata": {},
   "outputs": [
    {
     "data": {
      "text/plain": [
       "[{'sequence': 'the man worked as a carpenter.',\n",
       "  'score': 0.09747554361820221,\n",
       "  'token': 10533,\n",
       "  'token_str': 'carpenter'},\n",
       " {'sequence': 'the man worked as a waiter.',\n",
       "  'score': 0.052383050322532654,\n",
       "  'token': 15610,\n",
       "  'token_str': 'waiter'},\n",
       " {'sequence': 'the man worked as a barber.',\n",
       "  'score': 0.049627210944890976,\n",
       "  'token': 13362,\n",
       "  'token_str': 'barber'},\n",
       " {'sequence': 'the man worked as a mechanic.',\n",
       "  'score': 0.0378861129283905,\n",
       "  'token': 15893,\n",
       "  'token_str': 'mechanic'},\n",
       " {'sequence': 'the man worked as a salesman.',\n",
       "  'score': 0.037680868059396744,\n",
       "  'token': 18968,\n",
       "  'token_str': 'salesman'}]"
      ]
     },
     "execution_count": 18,
     "metadata": {},
     "output_type": "execute_result"
    }
   ],
   "source": [
    "unmasker(\"The man worked as a [MASK].\")"
   ]
  },
  {
   "cell_type": "code",
   "execution_count": 19,
   "id": "481dad49",
   "metadata": {},
   "outputs": [
    {
     "data": {
      "text/plain": [
       "[{'sequence': 'the woman worked as a nurse.',\n",
       "  'score': 0.21981467306613922,\n",
       "  'token': 6821,\n",
       "  'token_str': 'nurse'},\n",
       " {'sequence': 'the woman worked as a waitress.',\n",
       "  'score': 0.15974129736423492,\n",
       "  'token': 13877,\n",
       "  'token_str': 'waitress'},\n",
       " {'sequence': 'the woman worked as a maid.',\n",
       "  'score': 0.11547297984361649,\n",
       "  'token': 10850,\n",
       "  'token_str': 'maid'},\n",
       " {'sequence': 'the woman worked as a prostitute.',\n",
       "  'score': 0.03796885535120964,\n",
       "  'token': 19215,\n",
       "  'token_str': 'prostitute'},\n",
       " {'sequence': 'the woman worked as a cook.',\n",
       "  'score': 0.030423816293478012,\n",
       "  'token': 5660,\n",
       "  'token_str': 'cook'}]"
      ]
     },
     "execution_count": 19,
     "metadata": {},
     "output_type": "execute_result"
    }
   ],
   "source": [
    "unmasker(\"The woman worked as a [MASK].\")"
   ]
  },
  {
   "cell_type": "code",
   "execution_count": 20,
   "id": "a9d6a9c8",
   "metadata": {},
   "outputs": [
    {
     "data": {
      "text/plain": [
       "[{'sequence': 'i have a plan.',\n",
       "  'score': 0.09119047224521637,\n",
       "  'token': 2933,\n",
       "  'token_str': 'plan'},\n",
       " {'sequence': 'i have a problem.',\n",
       "  'score': 0.04680362343788147,\n",
       "  'token': 3291,\n",
       "  'token_str': 'problem'},\n",
       " {'sequence': 'i have a girlfriend.',\n",
       "  'score': 0.03035159222781658,\n",
       "  'token': 6513,\n",
       "  'token_str': 'girlfriend'},\n",
       " {'sequence': 'i have a point.',\n",
       "  'score': 0.02990017645061016,\n",
       "  'token': 2391,\n",
       "  'token_str': 'point'},\n",
       " {'sequence': 'i have a boyfriend.',\n",
       "  'score': 0.027309177443385124,\n",
       "  'token': 6898,\n",
       "  'token_str': 'boyfriend'}]"
      ]
     },
     "execution_count": 20,
     "metadata": {},
     "output_type": "execute_result"
    }
   ],
   "source": [
    "unmasker(\"I have a [MASK].\")"
   ]
  },
  {
   "cell_type": "markdown",
   "id": "9d9d14a3",
   "metadata": {},
   "source": [
    "# After BERT\n",
    "\n",
    "### RoBERTa\n",
    "Liu, Yinhan, et al. \"Roberta: A robustly optimized bert pretraining approach.\" arXiv preprint arXiv:1907.11692 (2019).\n",
    "\n",
    "1. 더 많은 데이터셋\n",
    "2. 더 큰 배치 사이즈\n",
    "3. dynamic masking\n",
    "4. next sentence prediction 제외\n",
    "\n",
    "### ELECTRA\n",
    "Clark, Kevin, et al. \"Electra: Pre-training text encoders as discriminators rather than generators.\" arXiv preprint arXiv:2003.10555 (2020).\n",
    "\n",
    "![screensh](https://kozistr.tech/static/ba24ab4614d13b7326c0087955f7257e/c5394/disc_gen_overview.png)\n",
    "\n",
    "### ALBERT\n",
    "Lan, Zhenzhong, et al. \"Albert: A lite bert for self-supervised learning of language representations.\" arXiv preprint arXiv:1909.11942 (2019).\n",
    "\n",
    "- 적은 parameter로 BERT에 버금가는, 혹은 더 좋은 성능 달성\n"
   ]
  },
  {
   "cell_type": "code",
   "execution_count": 22,
   "id": "d0a8b010",
   "metadata": {
    "scrolled": true
   },
   "outputs": [
    {
     "name": "stderr",
     "output_type": "stream",
     "text": [
      "Some weights of the model checkpoint at google/electra-large-discriminator were not used when initializing ElectraModel: ['discriminator_predictions.dense.bias', 'discriminator_predictions.dense_prediction.weight', 'discriminator_predictions.dense.weight', 'discriminator_predictions.dense_prediction.bias']\n",
      "- This IS expected if you are initializing ElectraModel from the checkpoint of a model trained on another task or with another architecture (e.g. initializing a BertForSequenceClassification model from a BertForPreTraining model).\n",
      "- This IS NOT expected if you are initializing ElectraModel from the checkpoint of a model that you expect to be exactly identical (initializing a BertForSequenceClassification model from a BertForSequenceClassification model).\n"
     ]
    }
   ],
   "source": [
    "from transformers import ElectraTokenizer, ElectraModel\n",
    "\n",
    "tokenizer = ElectraTokenizer.from_pretrained('google/electra-large-discriminator')\n",
    "model = ElectraModel.from_pretrained('google/electra-large-discriminator')\n",
    "\n",
    "inputs = tokenizer.encode(\"The capital of France is [MASK].\", return_tensors=\"pt\")\n",
    "\n",
    "outputs = model(inputs)"
   ]
  },
  {
   "cell_type": "code",
   "execution_count": 23,
   "id": "8053d744",
   "metadata": {},
   "outputs": [
    {
     "data": {
      "text/plain": [
       "tensor([[[-0.1712,  0.0506,  0.6153,  ...,  0.3136,  0.0033, -0.1737],\n",
       "         [ 0.2136,  0.2114,  0.0852,  ...,  0.0938, -0.4353, -0.0061],\n",
       "         [-0.0450,  0.1075,  0.2639,  ..., -0.0869, -0.2249,  0.2051],\n",
       "         ...,\n",
       "         [-0.1608,  0.1831,  0.5355,  ...,  0.1005, -0.0964, -0.2321],\n",
       "         [ 0.2983,  0.0679,  0.1625,  ..., -0.0437, -0.1851,  0.4285],\n",
       "         [-0.1704,  0.1914,  0.5484,  ...,  0.1241, -0.0846, -0.2425]]],\n",
       "       grad_fn=<NativeLayerNormBackward>)"
      ]
     },
     "execution_count": 23,
     "metadata": {},
     "output_type": "execute_result"
    }
   ],
   "source": [
    "outputs.last_hidden_state"
   ]
  },
  {
   "cell_type": "code",
   "execution_count": 26,
   "id": "af2502e7",
   "metadata": {},
   "outputs": [
    {
     "data": {
      "text/plain": [
       "torch.Size([1, 9, 1024])"
      ]
     },
     "execution_count": 26,
     "metadata": {},
     "output_type": "execute_result"
    }
   ],
   "source": [
    "outputs.last_hidden_state.shape"
   ]
  },
  {
   "cell_type": "code",
   "execution_count": null,
   "id": "b11a1eef",
   "metadata": {},
   "outputs": [],
   "source": []
  }
 ],
 "metadata": {
  "kernelspec": {
   "display_name": "torch_cuda111",
   "language": "python",
   "name": "torch_cuda111"
  },
  "language_info": {
   "codemirror_mode": {
    "name": "ipython",
    "version": 3
   },
   "file_extension": ".py",
   "mimetype": "text/x-python",
   "name": "python",
   "nbconvert_exporter": "python",
   "pygments_lexer": "ipython3",
   "version": "3.9.4"
  }
 },
 "nbformat": 4,
 "nbformat_minor": 5
}
