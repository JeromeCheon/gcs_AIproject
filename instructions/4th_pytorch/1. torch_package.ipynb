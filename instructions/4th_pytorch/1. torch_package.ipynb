{
  "nbformat": 4,
  "nbformat_minor": 0,
  "metadata": {
    "kernelspec": {
      "display_name": "Python 3",
      "language": "python",
      "name": "python3"
    },
    "language_info": {
      "codemirror_mode": {
        "name": "ipython",
        "version": 3
      },
      "file_extension": ".py",
      "mimetype": "text/x-python",
      "name": "python",
      "nbconvert_exporter": "python",
      "pygments_lexer": "ipython3",
      "version": "3.8.3"
    },
    "latex_envs": {
      "LaTeX_envs_menu_present": true,
      "autoclose": false,
      "autocomplete": true,
      "bibliofile": "biblio.bib",
      "cite_by": "apalike",
      "current_citInitial": 1,
      "eqLabelWithNumbers": true,
      "eqNumInitial": 1,
      "hotkeys": {
        "equation": "Ctrl-E",
        "itemize": "Ctrl-I"
      },
      "labels_anchors": false,
      "latex_user_defs": false,
      "report_style_numbering": false,
      "user_envs_cfg": false
    },
    "toc": {
      "base_numbering": 1,
      "nav_menu": {},
      "number_sections": false,
      "sideBar": true,
      "skip_h1_title": false,
      "title_cell": "Table of Contents",
      "title_sidebar": "Contents",
      "toc_cell": false,
      "toc_position": {},
      "toc_section_display": true,
      "toc_window_display": false
    },
    "varInspector": {
      "cols": {
        "lenName": 16,
        "lenType": 16,
        "lenVar": 40
      },
      "kernels_config": {
        "python": {
          "delete_cmd_postfix": "",
          "delete_cmd_prefix": "del ",
          "library": "var_list.py",
          "varRefreshCmd": "print(var_dic_list())"
        },
        "r": {
          "delete_cmd_postfix": ") ",
          "delete_cmd_prefix": "rm(",
          "library": "var_list.r",
          "varRefreshCmd": "cat(var_dic_list()) "
        }
      },
      "types_to_exclude": [
        "module",
        "function",
        "builtin_function_or_method",
        "instance",
        "_Feature"
      ],
      "window_display": false
    },
    "colab": {
      "name": "1. torch package.ipynb",
      "provenance": [],
      "collapsed_sections": [
        "tRLzDccDhcoX",
        "EmcZ5H5xhcoY"
      ]
    }
  },
  "cells": [
    {
      "cell_type": "markdown",
      "metadata": {
        "id": "b-K6INxahcoH"
      },
      "source": [
        "# Pytorch"
      ]
    },
    {
      "cell_type": "markdown",
      "metadata": {
        "id": "39yuqw-ShcoK"
      },
      "source": [
        "# Pytorch Packages\n",
        "\n",
        " - **torch**\n",
        " - torch.autograd\n",
        " - torch.nn\n",
        " - torch.optim\n",
        " - torch.multiprocessing\n",
        " - torch.utils"
      ]
    },
    {
      "cell_type": "markdown",
      "metadata": {
        "id": "xDEiWc3ehcoK"
      },
      "source": [
        "# Pytorch Tensor Basic Usage\n",
        "\n",
        "- Create Tensor\n",
        "- Indexing, Joining, Slicing\n",
        "- Initialization\n",
        "- Math Operations"
      ]
    },
    {
      "cell_type": "markdown",
      "metadata": {
        "id": "K88rdd8xhcoL"
      },
      "source": [
        "## 1. Create Tensor"
      ]
    },
    {
      "cell_type": "markdown",
      "metadata": {
        "id": "50F4CWBjhcoL"
      },
      "source": [
        "### 1) random numbers"
      ]
    },
    {
      "cell_type": "code",
      "metadata": {
        "ExecuteTime": {
          "end_time": "2018-10-28T08:41:16.573579Z",
          "start_time": "2018-10-28T08:41:16.262616Z"
        },
        "id": "hcdlLKZWhcoL"
      },
      "source": [
        "from __future__ import print_function\n",
        "import torch"
      ],
      "execution_count": 1,
      "outputs": []
    },
    {
      "cell_type": "code",
      "metadata": {
        "ExecuteTime": {
          "end_time": "2018-10-18T13:49:52.638893Z",
          "start_time": "2018-10-18T13:49:52.631452Z"
        },
        "id": "5nWt8vY2hcoM",
        "colab": {
          "base_uri": "https://localhost:8080/"
        },
        "outputId": "84da45df-57b0-4c51-edfb-320185fd9bea"
      },
      "source": [
        "# torch.rand(size)\n",
        "# 0~1 사이의 연속균등분포에서 값을 뽑아 5x3 텐서를 생성합니다. ~U(0,1)\n",
        "x = torch.rand(2,3)\n",
        "x"
      ],
      "execution_count": 2,
      "outputs": [
        {
          "output_type": "execute_result",
          "data": {
            "text/plain": [
              "tensor([[0.9629, 0.6577, 0.9516],\n",
              "        [0.3372, 0.0503, 0.9426]])"
            ]
          },
          "metadata": {},
          "execution_count": 2
        }
      ]
    },
    {
      "cell_type": "code",
      "metadata": {
        "ExecuteTime": {
          "end_time": "2018-10-18T13:49:53.118988Z",
          "start_time": "2018-10-18T13:49:53.110556Z"
        },
        "id": "8KW4ntrDhcoN",
        "colab": {
          "base_uri": "https://localhost:8080/"
        },
        "outputId": "b5f5d912-3011-4863-f145-5d2ee30e7cf4"
      },
      "source": [
        "# torch.randn(size)\n",
        "# randn의 경우 평균은 0, 표준편차는 1인 정규분포에서 값을 가져옵니다. ~z(0,1)\n",
        "x = torch.randn(2,3)\n",
        "x"
      ],
      "execution_count": 3,
      "outputs": [
        {
          "output_type": "execute_result",
          "data": {
            "text/plain": [
              "tensor([[ 1.9806, -0.9301,  0.8238],\n",
              "        [ 0.5261,  0.6744,  1.0010]])"
            ]
          },
          "metadata": {},
          "execution_count": 3
        }
      ]
    },
    {
      "cell_type": "code",
      "metadata": {
        "ExecuteTime": {
          "end_time": "2018-10-18T13:49:53.762464Z",
          "start_time": "2018-10-18T13:49:53.757526Z"
        },
        "id": "-guYdUoZhcoO",
        "colab": {
          "base_uri": "https://localhost:8080/"
        },
        "outputId": "55ac4308-980d-4ae6-9001-9874aabf4fb6"
      },
      "source": [
        "# torch.randperm(n)\n",
        "# 0부터 n-1까지 1씩 늘어나며 값을 랜덤으로 정렬합니다.\n",
        "x = torch.randperm(5)\n",
        "x"
      ],
      "execution_count": 4,
      "outputs": [
        {
          "output_type": "execute_result",
          "data": {
            "text/plain": [
              "tensor([1, 4, 2, 0, 3])"
            ]
          },
          "metadata": {},
          "execution_count": 4
        }
      ]
    },
    {
      "cell_type": "markdown",
      "metadata": {
        "id": "6AB7yoM_hcoP"
      },
      "source": [
        "### 2) empty, zeros, ones, arange, max"
      ]
    },
    {
      "cell_type": "code",
      "metadata": {
        "ExecuteTime": {
          "end_time": "2018-10-18T13:49:54.685975Z",
          "start_time": "2018-10-18T13:49:54.681021Z"
        },
        "id": "yfaQMLafhcoP",
        "colab": {
          "base_uri": "https://localhost:8080/"
        },
        "outputId": "e97b2851-5de5-448c-c154-aa7ab9884cf3"
      },
      "source": [
        "# torch.empty(size)\n",
        "# 원하는 크기의 아주 작은 값을 가진 텐서를 생성합니다. dtype은 input에 따라 결정됩니다.\n",
        "x = torch.empty(2,3)\n",
        "x[0]"
      ],
      "execution_count": 5,
      "outputs": [
        {
          "output_type": "execute_result",
          "data": {
            "text/plain": [
              "tensor([3.4839e+28, 3.0966e-41, 3.3631e-44])"
            ]
          },
          "metadata": {},
          "execution_count": 5
        }
      ]
    },
    {
      "cell_type": "code",
      "metadata": {
        "id": "2JtCX1t-hcoQ",
        "colab": {
          "base_uri": "https://localhost:8080/"
        },
        "outputId": "29ce99cb-e20a-4b72-e14f-7ecbbb85d444"
      },
      "source": [
        "x.size()"
      ],
      "execution_count": 6,
      "outputs": [
        {
          "output_type": "execute_result",
          "data": {
            "text/plain": [
              "torch.Size([2, 3])"
            ]
          },
          "metadata": {},
          "execution_count": 6
        }
      ]
    },
    {
      "cell_type": "code",
      "metadata": {
        "ExecuteTime": {
          "end_time": "2018-10-18T13:49:55.172440Z",
          "start_time": "2018-10-18T13:49:55.168472Z"
        },
        "id": "d2nA0B2mhcoQ",
        "colab": {
          "base_uri": "https://localhost:8080/"
        },
        "outputId": "6b455616-3175-459d-b274-1a781a44cf8e"
      },
      "source": [
        "# torch.zeros(size)\n",
        "# 원하는 크기의 0 값을 가진 텐서를 생성합니다.\n",
        "x = torch.zeros(2,3)\n",
        "x[0]"
      ],
      "execution_count": 7,
      "outputs": [
        {
          "output_type": "execute_result",
          "data": {
            "text/plain": [
              "tensor([0., 0., 0.])"
            ]
          },
          "metadata": {},
          "execution_count": 7
        }
      ]
    },
    {
      "cell_type": "code",
      "metadata": {
        "ExecuteTime": {
          "end_time": "2018-10-18T13:49:55.722504Z",
          "start_time": "2018-10-18T13:49:55.718536Z"
        },
        "id": "dnIuuBWKhcoQ",
        "colab": {
          "base_uri": "https://localhost:8080/"
        },
        "outputId": "d61be290-d9d2-4814-cad6-1f172ff0b3c8"
      },
      "source": [
        "# torch.ones(size)\n",
        "# 원하는 크기의 1의 값을 가진 텐서를 생성합니다.\n",
        "x = torch.ones(2,3)\n",
        "x"
      ],
      "execution_count": 8,
      "outputs": [
        {
          "output_type": "execute_result",
          "data": {
            "text/plain": [
              "tensor([[1., 1., 1.],\n",
              "        [1., 1., 1.]])"
            ]
          },
          "metadata": {},
          "execution_count": 8
        }
      ]
    },
    {
      "cell_type": "code",
      "metadata": {
        "ExecuteTime": {
          "end_time": "2018-10-18T13:49:56.246613Z",
          "start_time": "2018-10-18T13:49:56.238677Z"
        },
        "id": "Llh7XGs-hcoR",
        "colab": {
          "base_uri": "https://localhost:8080/"
        },
        "outputId": "26c5f2d0-8d0e-4fd6-c125-9c47651277ae"
      },
      "source": [
        "# torch.arange(start,end,step=1)\n",
        "# start값부터 end값 전까지 step만큼 더하며 텐서를 생성합니다.\n",
        "x = torch.arange(0,3,step=0.5)\n",
        "x"
      ],
      "execution_count": 9,
      "outputs": [
        {
          "output_type": "execute_result",
          "data": {
            "text/plain": [
              "tensor([0.0000, 0.5000, 1.0000, 1.5000, 2.0000, 2.5000])"
            ]
          },
          "metadata": {},
          "execution_count": 9
        }
      ]
    },
    {
      "cell_type": "code",
      "metadata": {
        "id": "of7Y4weuhcoR",
        "colab": {
          "base_uri": "https://localhost:8080/"
        },
        "outputId": "e35fa5fb-05aa-41ef-b300-174f10cb3941"
      },
      "source": [
        "x.size()"
      ],
      "execution_count": 10,
      "outputs": [
        {
          "output_type": "execute_result",
          "data": {
            "text/plain": [
              "torch.Size([6])"
            ]
          },
          "metadata": {},
          "execution_count": 10
        }
      ]
    },
    {
      "cell_type": "code",
      "metadata": {
        "id": "i1jthgHvhcoR",
        "colab": {
          "base_uri": "https://localhost:8080/"
        },
        "outputId": "429de3b8-3738-4535-a453-b99a9ba7170d"
      },
      "source": [
        "# torch.max(input, dim, keepdim=False, out=None) -> (Tensor, LongTensor)\n",
        "# tensor의 최대값을 산출합니다.\n",
        "\n",
        "x = torch.rand(2,3)\n",
        "print(x)"
      ],
      "execution_count": 11,
      "outputs": [
        {
          "output_type": "stream",
          "name": "stdout",
          "text": [
            "tensor([[0.6989, 0.6921, 0.0271],\n",
            "        [0.4069, 0.0194, 0.4914]])\n"
          ]
        }
      ]
    },
    {
      "cell_type": "code",
      "metadata": {
        "id": "PZdBGct5hcoS",
        "colab": {
          "base_uri": "https://localhost:8080/"
        },
        "outputId": "d11e6904-630d-4970-b9a0-fc7a27faede7"
      },
      "source": [
        "# 최대값을 출력합니다.\n",
        "print(torch.max(x))"
      ],
      "execution_count": 12,
      "outputs": [
        {
          "output_type": "stream",
          "name": "stdout",
          "text": [
            "tensor(0.6989)\n"
          ]
        }
      ]
    },
    {
      "cell_type": "code",
      "metadata": {
        "id": "XSvvLVWQhcoS",
        "colab": {
          "base_uri": "https://localhost:8080/"
        },
        "outputId": "7661d936-e7d4-414f-de6a-72efffa9048c"
      },
      "source": [
        "# 해당 차원에서 최대값과 그 위치를 출력합니다.\n",
        "print(torch.max(x,0))"
      ],
      "execution_count": 26,
      "outputs": [
        {
          "output_type": "stream",
          "name": "stdout",
          "text": [
            "torch.return_types.max(\n",
            "values=tensor([1.0325, 0.3451, 3.3639]),\n",
            "indices=tensor([0, 2, 1]))\n"
          ]
        }
      ]
    },
    {
      "cell_type": "code",
      "metadata": {
        "colab": {
          "base_uri": "https://localhost:8080/"
        },
        "id": "7PK8vLG58eXa",
        "outputId": "45d5133d-a275-4810-a93c-e9e76e1b3688"
      },
      "source": [
        "print(torch.max(x, 0).values.shape)"
      ],
      "execution_count": 24,
      "outputs": [
        {
          "output_type": "stream",
          "name": "stdout",
          "text": [
            "torch.Size([3])\n"
          ]
        }
      ]
    },
    {
      "cell_type": "code",
      "metadata": {
        "id": "Hxt9_qgIhcoS",
        "colab": {
          "base_uri": "https://localhost:8080/"
        },
        "outputId": "13a5b56a-1b7a-4da0-c074-5ede2f9ed65a"
      },
      "source": [
        "print(torch.max(x,0)[1])\n",
        "print(x.size(), torch.max(x,0)[1].size())"
      ],
      "execution_count": 14,
      "outputs": [
        {
          "output_type": "stream",
          "name": "stdout",
          "text": [
            "tensor([0, 0, 1])\n",
            "torch.Size([2, 3]) torch.Size([3])\n"
          ]
        }
      ]
    },
    {
      "cell_type": "code",
      "metadata": {
        "ExecuteTime": {
          "end_time": "2018-10-28T08:43:56.357472Z",
          "start_time": "2018-10-28T08:43:56.348021Z"
        },
        "scrolled": true,
        "id": "41VB0YX4hcoS",
        "colab": {
          "base_uri": "https://localhost:8080/"
        },
        "outputId": "780d6cdc-f64d-4fdb-c12c-221503eed463"
      },
      "source": [
        "# 위치를 출력합니다.\n",
        "print(torch.max(x,1)[1])\n",
        "print(x.size(), torch.max(x,1)[1].size())"
      ],
      "execution_count": 15,
      "outputs": [
        {
          "output_type": "stream",
          "name": "stdout",
          "text": [
            "tensor([0, 2])\n",
            "torch.Size([2, 3]) torch.Size([2])\n"
          ]
        }
      ]
    },
    {
      "cell_type": "markdown",
      "metadata": {
        "id": "6Cc7ZNljhcoT"
      },
      "source": [
        "### 3) Tensor Data Type"
      ]
    },
    {
      "cell_type": "markdown",
      "metadata": {
        "id": "mZYP8evnhcoT"
      },
      "source": [
        "| Data type               | dtype                                         | Tensor types                 |\n",
        "|:-------------------------|:-----------------------------------------------|:------------------------------|\n",
        "| 32-bit floating point   | ``` torch.float32 ``` or ``` torch.float ```  | ``` torch.*.FloatTensor ```  |\n",
        "| 64-bit floating point   | ``` torch.float64 ``` or ``` torch.double ``` | ``` torch.*.DoubleTensor ``` |\n",
        "| 16-bit floating point   | ``` torch.float16 ``` or ``` torch.half ```   | ``` torch.*.HalfTensor ```   |\n",
        "| 16-bit integer (signed) | ``` torch.int16 ``` or ``` torch.short ```    | ``` torch.*.ShortTensor ```  |\n",
        "| 32-bit integer (signed) | ``` torch.int32 ``` or ``` torch.int ```      | ``` torch.*.IntTensor ```    |\n",
        "| 64-bit integer (signed) | ``` torch.int64 ``` or ``` torch.long ```     | ``` torch.*.LongTensor ```   |"
      ]
    },
    {
      "cell_type": "code",
      "metadata": {
        "ExecuteTime": {
          "end_time": "2018-10-18T13:50:14.106543Z",
          "start_time": "2018-10-18T13:50:14.100075Z"
        },
        "scrolled": true,
        "id": "W7844UPhhcoT",
        "colab": {
          "base_uri": "https://localhost:8080/"
        },
        "outputId": "ac876adc-2dec-4da2-ab8f-cd16e440f14a"
      },
      "source": [
        "# torch.empty(size, dtype=)\n",
        "# torch.zeros(size, dtype=)\n",
        "# torch.arange(start,end,dtype=)\n",
        "\n",
        "# torch에서 지원하는 다양한 data type을 옵션으로 지정할 수 있습니다.\n",
        "\n",
        "x = torch.empty(2,3, dtype=torch.float)\n",
        "y = torch.zeros(2,3, dtype = torch.long)\n",
        "z = torch.arange(0,3,step=0.5,dtype=torch.double)\n",
        "\n",
        "print(x)\n",
        "print(y)\n",
        "print(z)"
      ],
      "execution_count": 16,
      "outputs": [
        {
          "output_type": "stream",
          "name": "stdout",
          "text": [
            "tensor([[3.4840e+28, 3.0966e-41, 7.1990e+24],\n",
            "        [3.0966e-41, 3.2230e-44, 0.0000e+00]])\n",
            "tensor([[0, 0, 0],\n",
            "        [0, 0, 0]])\n",
            "tensor([0.0000, 0.5000, 1.0000, 1.5000, 2.0000, 2.5000], dtype=torch.float64)\n"
          ]
        }
      ]
    },
    {
      "cell_type": "code",
      "metadata": {
        "ExecuteTime": {
          "end_time": "2018-10-18T13:52:45.755168Z",
          "start_time": "2018-10-18T13:52:45.748223Z"
        },
        "id": "mvLUDHCqhcoU",
        "colab": {
          "base_uri": "https://localhost:8080/"
        },
        "outputId": "285dca0d-0d96-4dfc-b707-6c1f27336cc4"
      },
      "source": [
        "# torch.tensor(size or list, dtype = torch.floattensor) \n",
        "# 원하는 텐서를 바로 생성합니다.\n",
        "x = torch.tensor([5.5,3])\n",
        "x"
      ],
      "execution_count": 17,
      "outputs": [
        {
          "output_type": "execute_result",
          "data": {
            "text/plain": [
              "tensor([5.5000, 3.0000])"
            ]
          },
          "metadata": {},
          "execution_count": 17
        }
      ]
    },
    {
      "cell_type": "code",
      "metadata": {
        "ExecuteTime": {
          "end_time": "2018-10-18T14:01:15.180723Z",
          "start_time": "2018-10-18T14:01:15.174242Z"
        },
        "id": "qoipRRkThcoU",
        "colab": {
          "base_uri": "https://localhost:8080/"
        },
        "outputId": "7101f91a-c6b6-4bee-eb13-716f6b9556c6"
      },
      "source": [
        "# torch.FloatTensor(size or list)\n",
        "x = torch.FloatTensor(2,3)\n",
        "print(x)\n",
        "x = torch.FloatTensor([2,3])\n",
        "print(x)"
      ],
      "execution_count": 18,
      "outputs": [
        {
          "output_type": "stream",
          "name": "stdout",
          "text": [
            "tensor([[3.4841e+28, 3.0966e-41, 3.7835e-44],\n",
            "        [0.0000e+00,        nan, 1.9375e+00]])\n",
            "tensor([2., 3.])\n"
          ]
        }
      ]
    },
    {
      "cell_type": "code",
      "metadata": {
        "ExecuteTime": {
          "end_time": "2018-10-18T14:01:45.322911Z",
          "start_time": "2018-10-18T14:01:45.306086Z"
        },
        "id": "Kgvof8FLhcoU",
        "colab": {
          "base_uri": "https://localhost:8080/"
        },
        "outputId": "26a49fac-da77-4024-8cd6-4ab73ba4d6b8"
      },
      "source": [
        "# tensor.type_as(tensor_type)\n",
        "# tensor 형 변환\n",
        "x = x.type_as(torch.IntTensor())\n",
        "x"
      ],
      "execution_count": 19,
      "outputs": [
        {
          "output_type": "execute_result",
          "data": {
            "text/plain": [
              "tensor([2, 3], dtype=torch.int32)"
            ]
          },
          "metadata": {},
          "execution_count": 19
        }
      ]
    },
    {
      "cell_type": "markdown",
      "metadata": {
        "id": "GzPipFOuhcoU"
      },
      "source": [
        "### 4) Tensor Size"
      ]
    },
    {
      "cell_type": "code",
      "metadata": {
        "ExecuteTime": {
          "end_time": "2018-10-18T14:07:04.655354Z",
          "start_time": "2018-10-18T14:07:04.650890Z"
        },
        "id": "NnOpZWIbhcoU",
        "colab": {
          "base_uri": "https://localhost:8080/"
        },
        "outputId": "53d562e2-a5e3-4626-f4da-c86889b2de4d"
      },
      "source": [
        "# tensor.size()\n",
        "\n",
        "x = torch.FloatTensor(10,12,3,3)\n",
        "\n",
        "print(x.size()[:])\n",
        "print(x.size()[0])"
      ],
      "execution_count": 27,
      "outputs": [
        {
          "output_type": "stream",
          "name": "stdout",
          "text": [
            "torch.Size([10, 12, 3, 3])\n",
            "10\n"
          ]
        }
      ]
    },
    {
      "cell_type": "code",
      "metadata": {
        "ExecuteTime": {
          "end_time": "2018-10-16T11:39:17.332380Z",
          "start_time": "2018-10-16T11:39:17.325443Z"
        },
        "id": "VJaG64PZhcoV",
        "colab": {
          "base_uri": "https://localhost:8080/"
        },
        "outputId": "257796a2-02f7-4cb3-e264-0b34fdcb70f0"
      },
      "source": [
        "x = x.new_ones(5,3, dtype=torch.double) #5,3 차원의 새로운 텐서를 생성합니다.\n",
        "print(x)\n",
        "\n",
        "x = torch.randn_like(x,dtype=torch.float) # 같은 size에서 랜덤한 숫자로 채워진 텐서를 생성합니다.\n",
        "print(x)"
      ],
      "execution_count": 29,
      "outputs": [
        {
          "output_type": "stream",
          "name": "stdout",
          "text": [
            "tensor([[1., 1., 1.],\n",
            "        [1., 1., 1.],\n",
            "        [1., 1., 1.],\n",
            "        [1., 1., 1.],\n",
            "        [1., 1., 1.]], dtype=torch.float64)\n",
            "tensor([[-1.2886, -1.9133,  2.7732],\n",
            "        [-0.4944, -0.4170,  1.0939],\n",
            "        [-0.8291, -0.5580, -1.5951],\n",
            "        [-2.8714,  0.4912,  0.2980],\n",
            "        [-1.7624,  0.2294, -0.3070]])\n"
          ]
        }
      ]
    },
    {
      "cell_type": "code",
      "metadata": {
        "colab": {
          "base_uri": "https://localhost:8080/"
        },
        "id": "e62W6XKI-WOu",
        "outputId": "04b424a5-33e2-4b73-f252-4120471032b7"
      },
      "source": [
        "y = torch.randn_like(x, dtype=torch.float)\n",
        "print(y)"
      ],
      "execution_count": 30,
      "outputs": [
        {
          "output_type": "stream",
          "name": "stdout",
          "text": [
            "tensor([[-0.0080,  0.6689, -0.3814],\n",
            "        [-0.2841, -1.9196, -0.1028],\n",
            "        [ 1.0469, -0.4606,  0.0523],\n",
            "        [ 1.4945, -0.6984, -0.1865],\n",
            "        [ 0.1046, -1.1631,  0.6586]])\n"
          ]
        }
      ]
    },
    {
      "cell_type": "markdown",
      "metadata": {
        "id": "XV_Yghw9hcoV"
      },
      "source": [
        "## 2. Math Operations\n",
        "\n",
        "### 1) add, mul, div"
      ]
    },
    {
      "cell_type": "code",
      "metadata": {
        "ExecuteTime": {
          "end_time": "2018-10-18T14:13:27.357191Z",
          "start_time": "2018-10-18T14:13:27.348772Z"
        },
        "id": "0U0w50WhhcoV",
        "colab": {
          "base_uri": "https://localhost:8080/"
        },
        "outputId": "d09ee0f8-712d-41b0-8fcd-bbb6368850fc"
      },
      "source": [
        "# torch.add()\n",
        "# 텐서의 값끼리 더합니다.\n",
        "\n",
        "x1 = torch.FloatTensor([[1,2,3],[4,5,6]])\n",
        "x2 = torch.FloatTensor([[1,2,3],[4,5,6]])\n",
        "add = torch.add(x1, x2)\n",
        "\n",
        "x1,x2,add,x1+x2,x1-x2"
      ],
      "execution_count": 31,
      "outputs": [
        {
          "output_type": "execute_result",
          "data": {
            "text/plain": [
              "(tensor([[1., 2., 3.],\n",
              "         [4., 5., 6.]]), tensor([[1., 2., 3.],\n",
              "         [4., 5., 6.]]), tensor([[ 2.,  4.,  6.],\n",
              "         [ 8., 10., 12.]]), tensor([[ 2.,  4.,  6.],\n",
              "         [ 8., 10., 12.]]), tensor([[0., 0., 0.],\n",
              "         [0., 0., 0.]]))"
            ]
          },
          "metadata": {},
          "execution_count": 31
        }
      ]
    },
    {
      "cell_type": "code",
      "metadata": {
        "ExecuteTime": {
          "end_time": "2018-10-16T11:41:37.076027Z",
          "start_time": "2018-10-16T11:41:37.068067Z"
        },
        "id": "GTHHGi74hcoV",
        "colab": {
          "base_uri": "https://localhost:8080/"
        },
        "outputId": "c2f72278-b7ab-4901-b3eb-8d601b223dc2"
      },
      "source": [
        "#차원이 다르더라도 안쪽 차원만 같으면 연산이 가능합니다.\n",
        "\n",
        "x = torch.rand(1,5,3)\n",
        "y = torch.rand(5,3)\n",
        "x, y, torch.add(x,y)"
      ],
      "execution_count": 32,
      "outputs": [
        {
          "output_type": "execute_result",
          "data": {
            "text/plain": [
              "(tensor([[[0.8392, 0.9776, 0.4064],\n",
              "          [0.6682, 0.9204, 0.3231],\n",
              "          [0.1818, 0.9919, 0.6610],\n",
              "          [0.6590, 0.5642, 0.1190],\n",
              "          [0.6417, 0.3754, 0.3147]]]), tensor([[0.7304, 0.0864, 0.5552],\n",
              "         [0.3899, 0.2051, 0.6578],\n",
              "         [0.5758, 0.2886, 0.2122],\n",
              "         [0.0943, 0.3316, 0.7877],\n",
              "         [0.1884, 0.2939, 0.3514]]), tensor([[[1.5697, 1.0641, 0.9616],\n",
              "          [1.0580, 1.1255, 0.9809],\n",
              "          [0.7576, 1.2805, 0.8732],\n",
              "          [0.7533, 0.8957, 0.9068],\n",
              "          [0.8301, 0.6693, 0.6661]]]))"
            ]
          },
          "metadata": {},
          "execution_count": 32
        }
      ]
    },
    {
      "cell_type": "code",
      "metadata": {
        "ExecuteTime": {
          "end_time": "2018-10-16T11:47:51.415692Z",
          "start_time": "2018-10-16T11:47:51.411729Z"
        },
        "id": "FQubYJy6hcoV",
        "colab": {
          "base_uri": "https://localhost:8080/"
        },
        "outputId": "d05285c8-93f1-413d-fbfd-fe8adb596479"
      },
      "source": [
        "# torch.add 말고 add_의 경우에는 이러한 연산 기능이 지원되지 않습니다. 따라서 먼저 x를 같은 차원으로 바꿔줍니다.\n",
        "\n",
        "x = torch.rand(5,3)\n",
        "y.add_(x)\n",
        "print(y)"
      ],
      "execution_count": 33,
      "outputs": [
        {
          "output_type": "stream",
          "name": "stdout",
          "text": [
            "tensor([[0.8310, 0.5459, 1.3148],\n",
            "        [0.6371, 0.7359, 1.2510],\n",
            "        [0.5810, 0.8241, 1.0105],\n",
            "        [0.8701, 1.2465, 1.7216],\n",
            "        [0.4559, 1.2575, 0.5101]])\n"
          ]
        }
      ]
    },
    {
      "cell_type": "code",
      "metadata": {
        "ExecuteTime": {
          "end_time": "2018-10-18T14:17:37.639499Z",
          "start_time": "2018-10-18T14:17:37.627620Z"
        },
        "id": "V1r-PHruhcoW",
        "colab": {
          "base_uri": "https://localhost:8080/"
        },
        "outputId": "b5e5f76d-023d-40cc-ac7f-34038cf7271e"
      },
      "source": [
        "# x 텐서의 2열을 불러옵니다. numpy 연산이 지원됩니다.\n",
        "\n",
        "print(x)\n",
        "print(x.shape)\n",
        "print(x[:,1])\n",
        "print(x[:,1].shape)"
      ],
      "execution_count": 34,
      "outputs": [
        {
          "output_type": "stream",
          "name": "stdout",
          "text": [
            "tensor([[0.1006, 0.4595, 0.7595],\n",
            "        [0.2472, 0.5308, 0.5933],\n",
            "        [0.0052, 0.5354, 0.7983],\n",
            "        [0.7758, 0.9149, 0.9338],\n",
            "        [0.2675, 0.9637, 0.1587]])\n",
            "torch.Size([5, 3])\n",
            "tensor([0.4595, 0.5308, 0.5354, 0.9149, 0.9637])\n",
            "torch.Size([5])\n"
          ]
        }
      ]
    },
    {
      "cell_type": "code",
      "metadata": {
        "ExecuteTime": {
          "end_time": "2018-10-18T14:21:21.937483Z",
          "start_time": "2018-10-18T14:21:21.929079Z"
        },
        "id": "uZ6N9YWMhcoW",
        "colab": {
          "base_uri": "https://localhost:8080/"
        },
        "outputId": "e184ff36-dec7-4dfb-f51c-a6d339d108ae"
      },
      "source": [
        "# torch.mul()\n",
        "# hadamard product, mxn, mxn 행렬 2개를 곱합니다. 덧셈에 대해 분배법칙을 따릅니다.\n",
        "\n",
        "x1 = torch.FloatTensor([[1,2,3],[4,5,6]])\n",
        "x2 = torch.FloatTensor([[1,2,3],[4,5,6]])\n",
        "x3 = torch.mul(x1,x2)\n",
        "\n",
        "x1.size(), x2.size(), x3.size(), x1, x2, x3"
      ],
      "execution_count": 35,
      "outputs": [
        {
          "output_type": "execute_result",
          "data": {
            "text/plain": [
              "(torch.Size([2, 3]),\n",
              " torch.Size([2, 3]),\n",
              " torch.Size([2, 3]),\n",
              " tensor([[1., 2., 3.],\n",
              "         [4., 5., 6.]]),\n",
              " tensor([[1., 2., 3.],\n",
              "         [4., 5., 6.]]),\n",
              " tensor([[ 1.,  4.,  9.],\n",
              "         [16., 25., 36.]]))"
            ]
          },
          "metadata": {},
          "execution_count": 35
        }
      ]
    },
    {
      "cell_type": "code",
      "metadata": {
        "ExecuteTime": {
          "end_time": "2018-10-18T14:22:18.900911Z",
          "start_time": "2018-10-18T14:22:18.894439Z"
        },
        "id": "6457vjIEhcoW",
        "colab": {
          "base_uri": "https://localhost:8080/"
        },
        "outputId": "d1c1cf92-82fe-45f3-fb14-cc3c7b6ac166"
      },
      "source": [
        "# torch.mul()\n",
        "\n",
        "x1 = torch.FloatTensor([[1,2,3,],[4,5,6]])\n",
        "x2 = x1*10\n",
        "\n",
        "x2"
      ],
      "execution_count": 36,
      "outputs": [
        {
          "output_type": "execute_result",
          "data": {
            "text/plain": [
              "tensor([[10., 20., 30.],\n",
              "        [40., 50., 60.]])"
            ]
          },
          "metadata": {},
          "execution_count": 36
        }
      ]
    },
    {
      "cell_type": "code",
      "metadata": {
        "ExecuteTime": {
          "end_time": "2018-10-18T14:22:59.876800Z",
          "start_time": "2018-10-18T14:22:59.868342Z"
        },
        "id": "bIYB5NCPhcoW",
        "colab": {
          "base_uri": "https://localhost:8080/"
        },
        "outputId": "89ac1753-3abf-494c-d246-3c4d156173ee"
      },
      "source": [
        "# torch.div()\n",
        "\n",
        "x1 = torch.FloatTensor([[1,2,3],[4,5,6]])\n",
        "x2 = torch.FloatTensor([[1,2,3],[4,5,6]])\n",
        "x3 = torch.div(x1,x2)\n",
        "\n",
        "x3"
      ],
      "execution_count": 37,
      "outputs": [
        {
          "output_type": "execute_result",
          "data": {
            "text/plain": [
              "tensor([[1., 1., 1.],\n",
              "        [1., 1., 1.]])"
            ]
          },
          "metadata": {},
          "execution_count": 37
        }
      ]
    },
    {
      "cell_type": "code",
      "metadata": {
        "ExecuteTime": {
          "end_time": "2018-10-18T14:24:04.752373Z",
          "start_time": "2018-10-18T14:24:04.739488Z"
        },
        "id": "08AvMvzjhcoW",
        "colab": {
          "base_uri": "https://localhost:8080/"
        },
        "outputId": "07a73eab-65cb-46f7-ea79-0b4473848f9f"
      },
      "source": [
        "# torch.div()\n",
        "\n",
        "x1 = torch.FloatTensor([[1,2,3],[4,5,6]])\n",
        "\n",
        "x1/5"
      ],
      "execution_count": 38,
      "outputs": [
        {
          "output_type": "execute_result",
          "data": {
            "text/plain": [
              "tensor([[0.2000, 0.4000, 0.6000],\n",
              "        [0.8000, 1.0000, 1.2000]])"
            ]
          },
          "metadata": {},
          "execution_count": 38
        }
      ]
    },
    {
      "cell_type": "markdown",
      "metadata": {
        "id": "tRLzDccDhcoX"
      },
      "source": [
        "### 2) pow, exp, log"
      ]
    },
    {
      "cell_type": "code",
      "metadata": {
        "ExecuteTime": {
          "end_time": "2018-10-18T14:26:45.051237Z",
          "start_time": "2018-10-18T14:26:45.045284Z"
        },
        "id": "PbaW8-b9hcoX",
        "colab": {
          "base_uri": "https://localhost:8080/"
        },
        "outputId": "f9e368be-4355-46dc-de02-06050e4a7402"
      },
      "source": [
        "# torch.pow(input,exponent)\n",
        "\n",
        "x1 = torch.rand(3,4)\n",
        "\n",
        "print(x1)\n",
        "print(torch.pow(x1,2),\"\\n\",x1**2)"
      ],
      "execution_count": 39,
      "outputs": [
        {
          "output_type": "stream",
          "name": "stdout",
          "text": [
            "tensor([[0.5213, 0.2100, 0.6503, 0.0953],\n",
            "        [0.0596, 0.0573, 0.1457, 0.0563],\n",
            "        [0.3034, 0.8380, 0.0460, 0.3454]])\n",
            "tensor([[0.2718, 0.0441, 0.4228, 0.0091],\n",
            "        [0.0036, 0.0033, 0.0212, 0.0032],\n",
            "        [0.0920, 0.7022, 0.0021, 0.1193]]) \n",
            " tensor([[0.2718, 0.0441, 0.4228, 0.0091],\n",
            "        [0.0036, 0.0033, 0.0212, 0.0032],\n",
            "        [0.0920, 0.7022, 0.0021, 0.1193]])\n"
          ]
        }
      ]
    },
    {
      "cell_type": "code",
      "metadata": {
        "ExecuteTime": {
          "end_time": "2018-10-18T14:27:39.869050Z",
          "start_time": "2018-10-18T14:27:39.864586Z"
        },
        "id": "Ls9OcY6UhcoX",
        "colab": {
          "base_uri": "https://localhost:8080/"
        },
        "outputId": "bea254aa-37f7-4938-91c7-7617beee9f02"
      },
      "source": [
        "# torch.exp(tensor,out=None)\n",
        "\n",
        "x1 = torch.rand(3,4)\n",
        "\n",
        "print(x1)\n",
        "print(torch.exp(x1))"
      ],
      "execution_count": 40,
      "outputs": [
        {
          "output_type": "stream",
          "name": "stdout",
          "text": [
            "tensor([[0.8250, 0.9294, 0.4137, 0.4493],\n",
            "        [0.0165, 0.6050, 0.6953, 0.6565],\n",
            "        [0.2529, 0.3576, 0.3179, 0.1220]])\n",
            "tensor([[2.2819, 2.5329, 1.5124, 1.5672],\n",
            "        [1.0166, 1.8313, 2.0043, 1.9280],\n",
            "        [1.2877, 1.4299, 1.3743, 1.1297]])\n"
          ]
        }
      ]
    },
    {
      "cell_type": "code",
      "metadata": {
        "ExecuteTime": {
          "end_time": "2018-10-18T14:28:38.622326Z",
          "start_time": "2018-10-18T14:28:38.607413Z"
        },
        "id": "jkGgx-6zhcoX",
        "colab": {
          "base_uri": "https://localhost:8080/"
        },
        "outputId": "873c89eb-84a2-454d-ce06-85c0256c402f"
      },
      "source": [
        "# torch.log(input,out=None)\n",
        "\n",
        "x1 = torch.rand(3,4)\n",
        "\n",
        "print(x1)\n",
        "print(torch.log(x1))"
      ],
      "execution_count": 41,
      "outputs": [
        {
          "output_type": "stream",
          "name": "stdout",
          "text": [
            "tensor([[0.5840, 0.3539, 0.1617, 0.4945],\n",
            "        [0.6757, 0.3539, 0.5941, 0.5618],\n",
            "        [0.8324, 0.8696, 0.2187, 0.7190]])\n",
            "tensor([[-0.5378, -1.0388, -1.8219, -0.7043],\n",
            "        [-0.3920, -1.0386, -0.5206, -0.5767],\n",
            "        [-0.1834, -0.1398, -1.5199, -0.3299]])\n"
          ]
        }
      ]
    },
    {
      "cell_type": "code",
      "metadata": {
        "ExecuteTime": {
          "end_time": "2018-10-18T14:30:17.992784Z",
          "start_time": "2018-10-18T14:30:17.976412Z"
        },
        "id": "JHIV6T1PhcoX",
        "colab": {
          "base_uri": "https://localhost:8080/"
        },
        "outputId": "1f1d5e23-0f0e-4189-f674-1e7463efb91b"
      },
      "source": [
        "# torch.mm(matrix1, matrix2)\n",
        "\n",
        "x1 = torch.rand(3,4)\n",
        "x2 = torch.rand(4,5)\n",
        "\n",
        "torch.mm(x1,x2)"
      ],
      "execution_count": 42,
      "outputs": [
        {
          "output_type": "execute_result",
          "data": {
            "text/plain": [
              "tensor([[1.7647, 0.8764, 0.9232, 1.2133, 1.1562],\n",
              "        [2.3452, 1.3747, 1.0703, 1.0651, 1.2637],\n",
              "        [1.9100, 0.9020, 0.9789, 1.3322, 1.2199]])"
            ]
          },
          "metadata": {},
          "execution_count": 42
        }
      ]
    },
    {
      "cell_type": "code",
      "metadata": {
        "ExecuteTime": {
          "end_time": "2018-10-18T14:31:40.819367Z",
          "start_time": "2018-10-18T14:31:40.815375Z"
        },
        "id": "7-CiDY-xhcoX",
        "colab": {
          "base_uri": "https://localhost:8080/"
        },
        "outputId": "66d336d8-1aaf-4f0b-f534-bce4c24dc93f"
      },
      "source": [
        "# torch.bmm(batch_matrix1, batch_matrix2)\n",
        "\n",
        "x1 = torch.rand(10,3,4)\n",
        "x2 = torch.rand(10,4,5)\n",
        "\n",
        "torch.bmm(x1,x2) #.size()"
      ],
      "execution_count": 44,
      "outputs": [
        {
          "output_type": "execute_result",
          "data": {
            "text/plain": [
              "tensor([[[0.5877, 1.7023, 1.0118, 1.1061, 1.4521],\n",
              "         [0.6196, 0.9983, 0.5613, 0.6542, 0.6107],\n",
              "         [1.1401, 1.6422, 0.8279, 1.3868, 1.1359]],\n",
              "\n",
              "        [[1.1758, 0.7845, 1.1640, 0.7056, 1.0075],\n",
              "         [1.7036, 0.9417, 1.0917, 0.7366, 1.1637],\n",
              "         [1.1272, 0.9196, 1.1624, 0.7723, 1.0692]],\n",
              "\n",
              "        [[1.0087, 1.0127, 0.6056, 1.4826, 0.8809],\n",
              "         [0.8493, 0.6201, 0.5417, 0.9679, 0.7292],\n",
              "         [1.0311, 0.5297, 0.6071, 0.9293, 0.7824]],\n",
              "\n",
              "        [[0.6957, 0.6101, 0.1363, 0.3598, 0.6733],\n",
              "         [1.2915, 1.3163, 0.1860, 0.8622, 1.4764],\n",
              "         [0.8569, 0.9067, 0.2326, 0.1886, 0.6058]],\n",
              "\n",
              "        [[0.9895, 0.9459, 0.2026, 1.0693, 0.7441],\n",
              "         [1.2693, 1.0448, 0.3099, 1.0431, 0.7877],\n",
              "         [1.2804, 1.0249, 0.3718, 0.6237, 0.6102]],\n",
              "\n",
              "        [[1.5690, 1.1696, 1.0180, 1.5707, 1.1322],\n",
              "         [0.8776, 0.7752, 0.6030, 0.8614, 0.6211],\n",
              "         [1.4224, 0.5796, 1.2953, 0.9461, 1.2066]],\n",
              "\n",
              "        [[1.7199, 1.1778, 1.6419, 1.4172, 2.1410],\n",
              "         [1.3276, 0.9034, 1.5587, 1.1250, 1.7356],\n",
              "         [0.9545, 0.7477, 1.3637, 0.8643, 1.2868]],\n",
              "\n",
              "        [[1.0958, 1.4968, 2.2321, 0.5529, 0.7487],\n",
              "         [0.9813, 1.8311, 2.1247, 0.7657, 0.6062],\n",
              "         [0.7386, 0.9124, 1.7320, 0.5373, 0.5327]],\n",
              "\n",
              "        [[1.3621, 1.0558, 0.9765, 1.0917, 1.0509],\n",
              "         [1.4364, 1.4281, 0.9425, 1.4352, 1.3407],\n",
              "         [1.3834, 1.0743, 1.0036, 0.9105, 1.0405]],\n",
              "\n",
              "        [[0.7274, 0.6378, 0.9835, 0.7875, 0.8416],\n",
              "         [1.5504, 1.8253, 2.1423, 1.7909, 1.8477],\n",
              "         [1.1426, 1.4612, 1.7572, 1.4271, 1.4007]]])"
            ]
          },
          "metadata": {},
          "execution_count": 44
        }
      ]
    },
    {
      "cell_type": "markdown",
      "metadata": {
        "id": "asahyjjghcoX"
      },
      "source": [
        "![img](https://github.com/shwksl101/Pytorch-A-to-Z/blob/master/img/innerproduct.PNG?raw=true)"
      ]
    },
    {
      "cell_type": "code",
      "metadata": {
        "ExecuteTime": {
          "end_time": "2018-10-18T14:35:25.100038Z",
          "start_time": "2018-10-18T14:35:25.092602Z"
        },
        "id": "ddniDfwFhcoY",
        "colab": {
          "base_uri": "https://localhost:8080/"
        },
        "outputId": "4e563f2c-45eb-402c-9813-9bf3610d958c"
      },
      "source": [
        "# torch.dot(tensor1, tensor2)\n",
        "\n",
        "torch.dot(torch.tensor([2,3]), torch.tensor([2,1]))"
      ],
      "execution_count": 45,
      "outputs": [
        {
          "output_type": "execute_result",
          "data": {
            "text/plain": [
              "tensor(7)"
            ]
          },
          "metadata": {},
          "execution_count": 45
        }
      ]
    },
    {
      "cell_type": "code",
      "metadata": {
        "ExecuteTime": {
          "end_time": "2018-10-18T14:42:57.524955Z",
          "start_time": "2018-10-18T14:42:57.514572Z"
        },
        "id": "1DubOvFBhcoY",
        "colab": {
          "base_uri": "https://localhost:8080/"
        },
        "outputId": "02881dc6-83b7-4245-9780-a56a08664b84"
      },
      "source": [
        "# torch.t(matrix)\n",
        "# tranpose\n",
        "\n",
        "x1 = torch.rand(3,4)\n",
        "print(x1.size(), x1.t().size())"
      ],
      "execution_count": 46,
      "outputs": [
        {
          "output_type": "stream",
          "name": "stdout",
          "text": [
            "torch.Size([3, 4]) torch.Size([4, 3])\n"
          ]
        }
      ]
    },
    {
      "cell_type": "code",
      "metadata": {
        "id": "HDWUxaIShcoY",
        "colab": {
          "base_uri": "https://localhost:8080/"
        },
        "outputId": "11e4a0e7-c7f7-41d9-c711-80b91b4fba02"
      },
      "source": [
        "# torch.transpose(input,dim0,dim1)\n",
        "\n",
        "x1 = torch.rand(10,3,4)\n",
        "x1.size(), torch.transpose(x1,1,2).size(), x1.transpose(1,2).size() #contiguous"
      ],
      "execution_count": 47,
      "outputs": [
        {
          "output_type": "execute_result",
          "data": {
            "text/plain": [
              "(torch.Size([10, 3, 4]), torch.Size([10, 4, 3]), torch.Size([10, 4, 3]))"
            ]
          },
          "metadata": {},
          "execution_count": 47
        }
      ]
    },
    {
      "cell_type": "code",
      "metadata": {
        "ExecuteTime": {
          "end_time": "2018-10-18T14:44:18.688704Z",
          "start_time": "2018-10-18T14:44:18.679781Z"
        },
        "id": "oA8NIl85hcoY",
        "colab": {
          "base_uri": "https://localhost:8080/",
          "height": 130
        },
        "outputId": "0d07e7f6-46b0-4591-95cb-2c5de2dd0f69"
      },
      "source": [
        "# torch.eig(a,eigenvectors=Flase)\n",
        "# eigen_value, eigen_vector\n",
        "\n",
        "x1 = torch.rand(2,2)\n",
        "\n",
        "print(x1,\"\\n\",torch.eig(x1,True)"
      ],
      "execution_count": 48,
      "outputs": [
        {
          "output_type": "error",
          "ename": "SyntaxError",
          "evalue": "ignored",
          "traceback": [
            "\u001b[0;36m  File \u001b[0;32m\"<ipython-input-48-7f7eb24f222e>\"\u001b[0;36m, line \u001b[0;32m6\u001b[0m\n\u001b[0;31m    print(x1,\"\\n\",torch.eig(x1,True)\u001b[0m\n\u001b[0m                                    ^\u001b[0m\n\u001b[0;31mSyntaxError\u001b[0m\u001b[0;31m:\u001b[0m unexpected EOF while parsing\n"
          ]
        }
      ]
    },
    {
      "cell_type": "markdown",
      "metadata": {
        "id": "EmcZ5H5xhcoY"
      },
      "source": [
        "### 3) view, item"
      ]
    },
    {
      "cell_type": "code",
      "metadata": {
        "ExecuteTime": {
          "end_time": "2018-10-16T11:51:42.774580Z",
          "start_time": "2018-10-16T11:51:42.767140Z"
        },
        "id": "fPpqODlmhcoY",
        "colab": {
          "base_uri": "https://localhost:8080/"
        },
        "outputId": "6f53e1a5-4c63-47d2-f282-b4def3f83af0"
      },
      "source": [
        "# view()\n",
        "\n",
        "x = torch.randn(4,4)\n",
        "y = x.view(16)\n",
        "# -1은 나머지\n",
        "z = x.view(-1,8) # -1의 경우 다른 차원들로 유추합니다. 이 경우에는 2로 유추합니다.\n",
        "print(x.size())\n",
        "print(y.size(),y)\n",
        "print(z.size(),z)"
      ],
      "execution_count": 49,
      "outputs": [
        {
          "output_type": "stream",
          "name": "stdout",
          "text": [
            "torch.Size([4, 4])\n",
            "torch.Size([16]) tensor([-0.1111, -0.7352,  0.6114,  0.1637,  0.1044, -1.1038,  0.8522, -0.8792,\n",
            "         1.8940,  0.5406, -0.1192, -0.6366, -0.0095, -2.2817,  0.0426, -1.3755])\n",
            "torch.Size([2, 8]) tensor([[-0.1111, -0.7352,  0.6114,  0.1637,  0.1044, -1.1038,  0.8522, -0.8792],\n",
            "        [ 1.8940,  0.5406, -0.1192, -0.6366, -0.0095, -2.2817,  0.0426, -1.3755]])\n"
          ]
        }
      ]
    },
    {
      "cell_type": "code",
      "metadata": {
        "ExecuteTime": {
          "end_time": "2018-10-16T11:54:28.425390Z",
          "start_time": "2018-10-16T11:54:28.417952Z"
        },
        "id": "1-a9__RHhcoZ",
        "colab": {
          "base_uri": "https://localhost:8080/"
        },
        "outputId": "91044c86-046f-4f55-980b-ca097047dbfe"
      },
      "source": [
        "# item()\n",
        "\n",
        "x = torch.randn(1)\n",
        "print(x)\n",
        "print(x.item())"
      ],
      "execution_count": 50,
      "outputs": [
        {
          "output_type": "stream",
          "name": "stdout",
          "text": [
            "tensor([1.0348])\n",
            "1.0348130464553833\n"
          ]
        }
      ]
    },
    {
      "cell_type": "markdown",
      "metadata": {
        "id": "K2QXWWe0hcoZ"
      },
      "source": [
        "- 더 많은 연산은 다음의 링크에서 참고하세요 https://pytorch.org/docs/stable/torch.html"
      ]
    },
    {
      "cell_type": "markdown",
      "metadata": {
        "id": "jj4YK2zthcoZ"
      },
      "source": [
        "## 3. Tensor to Numpy, Numpy to Tensor"
      ]
    },
    {
      "cell_type": "code",
      "metadata": {
        "ExecuteTime": {
          "end_time": "2018-10-16T12:05:14.994111Z",
          "start_time": "2018-10-16T12:05:14.990154Z"
        },
        "id": "ZNAnGHGQhcoZ"
      },
      "source": [
        "import numpy as np"
      ],
      "execution_count": 51,
      "outputs": []
    },
    {
      "cell_type": "code",
      "metadata": {
        "ExecuteTime": {
          "end_time": "2018-10-16T12:03:49.835180Z",
          "start_time": "2018-10-16T12:03:49.830247Z"
        },
        "id": "b88nt7v0hcoZ",
        "colab": {
          "base_uri": "https://localhost:8080/"
        },
        "outputId": "3097bc7f-f4f8-4064-960f-49bdec750995"
      },
      "source": [
        "a = torch.ones(5) # 1로 채워진 텐서를 생성합니다.\n",
        "print(a)"
      ],
      "execution_count": 52,
      "outputs": [
        {
          "output_type": "stream",
          "name": "stdout",
          "text": [
            "tensor([1., 1., 1., 1., 1.])\n"
          ]
        }
      ]
    },
    {
      "cell_type": "code",
      "metadata": {
        "ExecuteTime": {
          "end_time": "2018-10-16T12:04:03.331822Z",
          "start_time": "2018-10-16T12:04:03.320915Z"
        },
        "id": "Go7MCPl_hcoZ",
        "colab": {
          "base_uri": "https://localhost:8080/"
        },
        "outputId": "c12f12e9-9a6c-472d-fb9d-fa0a6f22847b"
      },
      "source": [
        "# tensor.numpy()\n",
        "\n",
        "b = a.numpy()\n",
        "print(b)"
      ],
      "execution_count": 53,
      "outputs": [
        {
          "output_type": "stream",
          "name": "stdout",
          "text": [
            "[1. 1. 1. 1. 1.]\n"
          ]
        }
      ]
    },
    {
      "cell_type": "code",
      "metadata": {
        "ExecuteTime": {
          "end_time": "2018-10-16T12:05:53.759506Z",
          "start_time": "2018-10-16T12:05:53.752563Z"
        },
        "id": "HTwDpIgKhcoZ",
        "colab": {
          "base_uri": "https://localhost:8080/"
        },
        "outputId": "35747bb3-0273-4c56-8205-4862ec5e609e"
      },
      "source": [
        "# torch.from_numpy(ndarray)\n",
        "\n",
        "a = np.ones(5) #a와 b는 연동됩니다.\n",
        "b = torch.from_numpy(a)\n",
        "\n",
        "np.add(a,1,out=a)\n",
        "\n",
        "print(a)\n",
        "print(b) #chartensor를 제외한 모든 tensor는 numpy로의 변환을 지원합니다."
      ],
      "execution_count": 54,
      "outputs": [
        {
          "output_type": "stream",
          "name": "stdout",
          "text": [
            "[2. 2. 2. 2. 2.]\n",
            "tensor([2., 2., 2., 2., 2.], dtype=torch.float64)\n"
          ]
        }
      ]
    },
    {
      "cell_type": "markdown",
      "metadata": {
        "id": "OAKz0E0Mhcoa"
      },
      "source": [
        "## 4. Tensor on GPU"
      ]
    },
    {
      "cell_type": "code",
      "metadata": {
        "ExecuteTime": {
          "end_time": "2018-10-18T14:52:44.993367Z",
          "start_time": "2018-10-18T14:52:44.988429Z"
        },
        "id": "GH_ANQSehcoa",
        "colab": {
          "base_uri": "https://localhost:8080/"
        },
        "outputId": "fc972016-f266-46ee-dd75-68278d02c9de"
      },
      "source": [
        "x= torch.FloatTensor([[1,2,3],[4,5,6]])\n",
        "\n",
        "if torch.cuda.is_available():\n",
        "    x_cuda = x.cuda()\n",
        "else:\n",
        "    x_cuda = x.cpu()\n",
        "    \n",
        "print(x_cuda)"
      ],
      "execution_count": 55,
      "outputs": [
        {
          "output_type": "stream",
          "name": "stdout",
          "text": [
            "tensor([[1., 2., 3.],\n",
            "        [4., 5., 6.]])\n"
          ]
        }
      ]
    },
    {
      "cell_type": "code",
      "metadata": {
        "ExecuteTime": {
          "end_time": "2018-10-16T12:09:27.092831Z",
          "start_time": "2018-10-16T12:09:27.086847Z"
        },
        "id": "co-vbhrmhcoa"
      },
      "source": [
        "if torch.cuda.is_available():\n",
        "    device = torch.device(\"cuda\")\n",
        "    \n",
        "    y = torch.ones_like(x,device=device)\n",
        "    x = x.to(device)\n",
        "    z = x+y\n",
        "    print(z)\n",
        "    print(z.to(\"cpu\")) #.to 기능을 tensor를 GPU로 연산할 수 있습니다\n",
        "    print(z.to(\"cuda\"))"
      ],
      "execution_count": 62,
      "outputs": []
    },
    {
      "cell_type": "code",
      "metadata": {
        "id": "fR_HXND9Cs8l"
      },
      "source": [
        "# cuda 사용이 가능하면 아래 연산은 gpu 자원을 사용해서 해결하겠다 하는 것 \n",
        "# a = torch.randn(3, device=torch.device('cuda'))\n",
        "# b = torch.randn(3).cuda()\n",
        "# c = a + b"
      ],
      "execution_count": 64,
      "outputs": []
    },
    {
      "cell_type": "markdown",
      "metadata": {
        "id": "B6iDIDM4hcoa"
      },
      "source": [
        "## 5. Indexing, Slicing, Joining\n",
        "\n",
        "### 1) Indexing"
      ]
    },
    {
      "cell_type": "code",
      "metadata": {
        "ExecuteTime": {
          "end_time": "2018-10-18T14:56:58.868223Z",
          "start_time": "2018-10-18T14:56:58.861290Z"
        },
        "id": "8MpsaT_ohcoa",
        "colab": {
          "base_uri": "https://localhost:8080/"
        },
        "outputId": "ac6e3678-a9d3-4e48-f056-5c06444f9a39"
      },
      "source": [
        "# tensor.index_select(input,dim,index)\n",
        "\n",
        "x = torch.rand(4,3)\n",
        "out = torch.index_select(x,0,torch.LongTensor([0,3]))\n",
        "# index는 꼭 Longtensor로 입력해야 합니다.\n",
        "\n",
        "print(x.size(), out.size())\n",
        "print(x, \"\\n\", out)"
      ],
      "execution_count": 57,
      "outputs": [
        {
          "output_type": "stream",
          "name": "stdout",
          "text": [
            "torch.Size([4, 3]) torch.Size([2, 3])\n",
            "tensor([[0.6862, 0.1188, 0.4020],\n",
            "        [0.2579, 0.1952, 0.7264],\n",
            "        [0.8753, 0.7649, 0.6421],\n",
            "        [0.3006, 0.6476, 0.0405]]) \n",
            " tensor([[0.6862, 0.1188, 0.4020],\n",
            "        [0.3006, 0.6476, 0.0405]])\n"
          ]
        }
      ]
    },
    {
      "cell_type": "code",
      "metadata": {
        "ExecuteTime": {
          "end_time": "2018-10-18T14:58:17.485947Z",
          "start_time": "2018-10-18T14:58:17.476527Z"
        },
        "id": "R609qqAGhcoa",
        "colab": {
          "base_uri": "https://localhost:8080/"
        },
        "outputId": "70e91d78-1c18-49e2-e986-7e9a1319b19e"
      },
      "source": [
        "print(x.size(),'\\n', x)\n",
        "print(x[:,0].size(),x[:,0])\n",
        "print(x[0,:].size(),x[0,:])\n",
        "print(x[0:2,0:2].size(),'\\n', x[0:2,0:2])"
      ],
      "execution_count": 58,
      "outputs": [
        {
          "output_type": "stream",
          "name": "stdout",
          "text": [
            "torch.Size([4, 3]) \n",
            " tensor([[0.6862, 0.1188, 0.4020],\n",
            "        [0.2579, 0.1952, 0.7264],\n",
            "        [0.8753, 0.7649, 0.6421],\n",
            "        [0.3006, 0.6476, 0.0405]])\n",
            "torch.Size([4]) tensor([0.6862, 0.2579, 0.8753, 0.3006])\n",
            "torch.Size([3]) tensor([0.6862, 0.1188, 0.4020])\n",
            "torch.Size([2, 2]) \n",
            " tensor([[0.6862, 0.1188],\n",
            "        [0.2579, 0.1952]])\n"
          ]
        }
      ]
    },
    {
      "cell_type": "markdown",
      "metadata": {
        "id": "Hl_njbgFhcob"
      },
      "source": [
        "### 2) Joining"
      ]
    },
    {
      "cell_type": "code",
      "metadata": {
        "ExecuteTime": {
          "end_time": "2018-10-18T15:03:42.155801Z",
          "start_time": "2018-10-18T15:03:42.147864Z"
        },
        "id": "GueZ8ysUhcob",
        "colab": {
          "base_uri": "https://localhost:8080/"
        },
        "outputId": "29bc5d4e-428c-4ba8-a82e-6a6bd0e526b7"
      },
      "source": [
        "# torch.cat(seq, dim=0)\n",
        "# dim을 기준으로 tensor를 합칩니다.\n",
        "# dim = 0은 행, dim = 1은 열 기준입니다.\n",
        "\n",
        "x = torch.FloatTensor([[1,2,3],\n",
        "                       [4,5,6]])\n",
        "y = torch.FloatTensor([[7,8,9],\n",
        "                       [10,11,12]])\n",
        "z1 = torch.cat([x,y],dim = 0)\n",
        "z2 = torch.cat([x,y],dim = 1)\n",
        "\n",
        "print(x)\n",
        "print(y)\n",
        "print(z1)\n",
        "print(z2)"
      ],
      "execution_count": 59,
      "outputs": [
        {
          "output_type": "stream",
          "name": "stdout",
          "text": [
            "tensor([[1., 2., 3.],\n",
            "        [4., 5., 6.]])\n",
            "tensor([[ 7.,  8.,  9.],\n",
            "        [10., 11., 12.]])\n",
            "tensor([[ 1.,  2.,  3.],\n",
            "        [ 4.,  5.,  6.],\n",
            "        [ 7.,  8.,  9.],\n",
            "        [10., 11., 12.]])\n",
            "tensor([[ 1.,  2.,  3.,  7.,  8.,  9.],\n",
            "        [ 4.,  5.,  6., 10., 11., 12.]])\n"
          ]
        }
      ]
    },
    {
      "cell_type": "code",
      "metadata": {
        "ExecuteTime": {
          "end_time": "2018-10-18T15:06:42.528676Z",
          "start_time": "2018-10-18T15:06:42.521732Z"
        },
        "id": "TtVbwcLFhcob",
        "colab": {
          "base_uri": "https://localhost:8080/"
        },
        "outputId": "fd5e5c29-2067-4173-fdfb-e449ee8e05ed"
      },
      "source": [
        "# torch.stack(sequence,dim=0)\n",
        "# dim을 기준으로 쌓습니다.\n",
        "\n",
        "x = torch.FloatTensor([1,2,3])\n",
        "x_stack = torch.stack([x,x],dim=0)\n",
        "x_stack2 = torch.stack([x,x],dim=1)\n",
        "\n",
        "print(x_stack,\"\\n\",x_stack2)"
      ],
      "execution_count": 65,
      "outputs": [
        {
          "output_type": "stream",
          "name": "stdout",
          "text": [
            "tensor([[1., 2., 3.],\n",
            "        [1., 2., 3.]]) \n",
            " tensor([[1., 1.],\n",
            "        [2., 2.],\n",
            "        [3., 3.]])\n"
          ]
        }
      ]
    },
    {
      "cell_type": "markdown",
      "metadata": {
        "id": "ffO3MIhuhcob"
      },
      "source": [
        "### 3) Slicing"
      ]
    },
    {
      "cell_type": "code",
      "metadata": {
        "ExecuteTime": {
          "end_time": "2018-10-18T15:26:40.350021Z",
          "start_time": "2018-10-18T15:26:40.340105Z"
        },
        "id": "oxQrhzAjhcob",
        "colab": {
          "base_uri": "https://localhost:8080/"
        },
        "outputId": "220ef931-8613-4fae-b02f-e499cb1dfae1"
      },
      "source": [
        "# torch.chunk(tensor, chunks, dim=0)\n",
        "# tensor를 chunk 단위로 쪼갭니다. chunk 개수 만큼 생성합니다.\n",
        "\n",
        "x = torch.FloatTensor([[1,2,3],\n",
        "                       [4,5,6]])\n",
        "y = torch.FloatTensor([[7,8,9],\n",
        "                       [10,11,12]])\n",
        "z1 = torch.cat([x,y],dim = 0)\n",
        "\n",
        "# 동일한 사이즈로 자르는 함수이다\n",
        "x_1, x_2 = torch.chunk(z1,2,dim=0)\n",
        "y_1, y_2, y_3 = torch.chunk(z1,3,dim=1)\n",
        "\n",
        "print(z1)\n",
        "print(x_1)\n",
        "print(x_2)\n",
        "print(y_1)\n",
        "print(y_2)\n",
        "print(y_3)"
      ],
      "execution_count": 66,
      "outputs": [
        {
          "output_type": "stream",
          "name": "stdout",
          "text": [
            "tensor([[ 1.,  2.,  3.],\n",
            "        [ 4.,  5.,  6.],\n",
            "        [ 7.,  8.,  9.],\n",
            "        [10., 11., 12.]])\n",
            "tensor([[1., 2., 3.],\n",
            "        [4., 5., 6.]])\n",
            "tensor([[ 7.,  8.,  9.],\n",
            "        [10., 11., 12.]])\n",
            "tensor([[ 1.],\n",
            "        [ 4.],\n",
            "        [ 7.],\n",
            "        [10.]])\n",
            "tensor([[ 2.],\n",
            "        [ 5.],\n",
            "        [ 8.],\n",
            "        [11.]])\n",
            "tensor([[ 3.],\n",
            "        [ 6.],\n",
            "        [ 9.],\n",
            "        [12.]])\n"
          ]
        }
      ]
    },
    {
      "cell_type": "code",
      "metadata": {
        "ExecuteTime": {
          "end_time": "2018-10-18T15:30:36.566401Z",
          "start_time": "2018-10-18T15:30:36.560913Z"
        },
        "id": "JxurVBy-hcob",
        "colab": {
          "base_uri": "https://localhost:8080/"
        },
        "outputId": "fe9bde41-30db-4732-d3d5-01b5ff2d0f65"
      },
      "source": [
        "# torch.split(tensor,split_size,dim=0) 각 size가 split_size만큼인 것을 생성합니다.\n",
        "\n",
        "x = torch.FloatTensor([[1,2,3],\n",
        "                       [4,5,6]])\n",
        "y = torch.FloatTensor([[7,8,9],\n",
        "                       [10,11,12]])\n",
        "z1 = torch.cat([x,y],dim = 0)\n",
        "\n",
        "x1,x2 = torch.split(z1,2,dim=0)\n",
        "y1,y2 = torch.split(z1,2,dim=1)\n",
        "\n",
        "print(z1)\n",
        "print(x1)\n",
        "print(x2)\n",
        "print(y1)\n",
        "print(y2)"
      ],
      "execution_count": 67,
      "outputs": [
        {
          "output_type": "stream",
          "name": "stdout",
          "text": [
            "tensor([[ 1.,  2.,  3.],\n",
            "        [ 4.,  5.,  6.],\n",
            "        [ 7.,  8.,  9.],\n",
            "        [10., 11., 12.]])\n",
            "tensor([[1., 2., 3.],\n",
            "        [4., 5., 6.]])\n",
            "tensor([[ 7.,  8.,  9.],\n",
            "        [10., 11., 12.]])\n",
            "tensor([[ 1.,  2.],\n",
            "        [ 4.,  5.],\n",
            "        [ 7.,  8.],\n",
            "        [10., 11.]])\n",
            "tensor([[ 3.],\n",
            "        [ 6.],\n",
            "        [ 9.],\n",
            "        [12.]])\n"
          ]
        }
      ]
    },
    {
      "cell_type": "markdown",
      "metadata": {
        "id": "zP38yguFhcoc"
      },
      "source": [
        "### 4) squeezing"
      ]
    },
    {
      "cell_type": "code",
      "metadata": {
        "ExecuteTime": {
          "end_time": "2018-10-18T15:32:18.274598Z",
          "start_time": "2018-10-18T15:32:18.270607Z"
        },
        "id": "jQNNQSA_hcoc",
        "colab": {
          "base_uri": "https://localhost:8080/"
        },
        "outputId": "99a43904-1b83-43c8-823d-c64c4ffc9d43"
      },
      "source": [
        "# torch.squeeze(input, dim=None)\n",
        "# 1짜리 차원을 줄입니다.\n",
        "\n",
        "x1 = torch.FloatTensor(10,1,3,1,4)\n",
        "x2 = torch.squeeze(x1)\n",
        "\n",
        "x1.size(), x2.size()"
      ],
      "execution_count": 68,
      "outputs": [
        {
          "output_type": "execute_result",
          "data": {
            "text/plain": [
              "(torch.Size([10, 1, 3, 1, 4]), torch.Size([10, 3, 4]))"
            ]
          },
          "metadata": {},
          "execution_count": 68
        }
      ]
    },
    {
      "cell_type": "code",
      "metadata": {
        "ExecuteTime": {
          "end_time": "2018-10-18T15:33:42.680785Z",
          "start_time": "2018-10-18T15:33:42.668846Z"
        },
        "id": "oLbcvo1thcoc",
        "colab": {
          "base_uri": "https://localhost:8080/"
        },
        "outputId": "409c5045-308d-4b03-8319-caa0ae6bfea3"
      },
      "source": [
        "# torch.unsqueeze(input,dim=None)\n",
        "# 1짜리 차원을 더합니다.\n",
        "\n",
        "x1 = torch.FloatTensor(10,3,4)\n",
        "x2 = torch.unsqueeze(x1,dim=0)\n",
        "\n",
        "x.size(), x2.size()"
      ],
      "execution_count": 69,
      "outputs": [
        {
          "output_type": "execute_result",
          "data": {
            "text/plain": [
              "(torch.Size([2, 3]), torch.Size([1, 10, 3, 4]))"
            ]
          },
          "metadata": {},
          "execution_count": 69
        }
      ]
    },
    {
      "cell_type": "markdown",
      "metadata": {
        "id": "61SllZ3yhcoc"
      },
      "source": [
        "## 6. Initialization"
      ]
    },
    {
      "cell_type": "code",
      "metadata": {
        "ExecuteTime": {
          "end_time": "2018-10-18T15:34:35.243740Z",
          "start_time": "2018-10-18T15:34:35.234338Z"
        },
        "id": "0Rvr3joRhcoc",
        "colab": {
          "base_uri": "https://localhost:8080/"
        },
        "outputId": "80c674a3-bf1a-4b60-9da5-e492e5acfdb7"
      },
      "source": [
        "import torch.nn.init as init\n",
        "\n",
        "x1 = init.uniform_(torch.FloatTensor(3,4),a=0,b=9) \n",
        "x2 = init.normal_(torch.FloatTensor(3,4),std=0.2)\n",
        "x3 = init.constant_(torch.FloatTensor(3,4),3.1415)\n",
        "\n",
        "x1,x2,x3"
      ],
      "execution_count": 70,
      "outputs": [
        {
          "output_type": "execute_result",
          "data": {
            "text/plain": [
              "(tensor([[1.1029, 7.5003, 7.8914, 4.5186],\n",
              "         [4.9061, 8.0658, 0.8865, 7.3221],\n",
              "         [1.1308, 2.4205, 5.9126, 3.4688]]),\n",
              " tensor([[-0.1468, -0.2421,  0.1406, -0.1289],\n",
              "         [ 0.0665,  0.0538, -0.4931, -0.2037],\n",
              "         [-0.1422, -0.0704,  0.0289,  0.0061]]),\n",
              " tensor([[3.1415, 3.1415, 3.1415, 3.1415],\n",
              "         [3.1415, 3.1415, 3.1415, 3.1415],\n",
              "         [3.1415, 3.1415, 3.1415, 3.1415]]))"
            ]
          },
          "metadata": {},
          "execution_count": 70
        }
      ]
    },
    {
      "cell_type": "code",
      "metadata": {
        "id": "qEpMDgg2hcoc"
      },
      "source": [
        ""
      ],
      "execution_count": null,
      "outputs": []
    }
  ]
}