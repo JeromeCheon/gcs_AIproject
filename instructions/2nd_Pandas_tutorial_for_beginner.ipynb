{
  "nbformat": 4,
  "nbformat_minor": 0,
  "metadata": {
    "kernelspec": {
      "display_name": "Python 3",
      "language": "python",
      "name": "python3"
    },
    "language_info": {
      "name": "python",
      "version": "3.6.6",
      "mimetype": "text/x-python",
      "codemirror_mode": {
        "name": "ipython",
        "version": 3
      },
      "pygments_lexer": "ipython3",
      "nbconvert_exporter": "python",
      "file_extension": ".py"
    },
    "colab": {
      "name": "Pandas-tutorial-for-beginner.ipynb",
      "provenance": [],
      "collapsed_sections": [
        "QeCZr_gqQoA2"
      ],
      "include_colab_link": true
    }
  },
  "cells": [
    {
      "cell_type": "markdown",
      "metadata": {
        "id": "view-in-github",
        "colab_type": "text"
      },
      "source": [
        "<a href=\"https://colab.research.google.com/github/JeromeCheon/gcs_AIproject/blob/master/instructions/2nd_Pandas_tutorial_for_beginner.ipynb\" target=\"_parent\"><img src=\"https://colab.research.google.com/assets/colab-badge.svg\" alt=\"Open In Colab\"/></a>"
      ]
    },
    {
      "cell_type": "markdown",
      "metadata": {
        "_uuid": "fdb0a9b3640bb8e12c6ce9ab2b9b64f9b0fbff65",
        "id": "FaBcktlSQoAf"
      },
      "source": [
        "# **Pandas Tutorial** <a id=\"0\"></a>\n"
      ]
    },
    {
      "cell_type": "markdown",
      "metadata": {
        "_uuid": "8851575f447385ce4440ddb0247c64bca54fd46e",
        "id": "Hng5XJ4FQoAj"
      },
      "source": [
        "# **What is the pandas?** <a id=\"2\"></a>\n",
        "<mark>[Return Contents](#0)\n",
        "<hr>\n",
        "\n",
        "pandas is an open source, BSD-licensed library providing high-performance, easy-to-use data structures and data analysis tools for the Python programming language.\n",
        "\n",
        "pandas is a NumFOCUS sponsored project. This will help ensure the success of development of pandas as a world-class open-source project, and makes it possible to donate to the project."
      ]
    },
    {
      "cell_type": "markdown",
      "metadata": {
        "_uuid": "4f0d13801b0c7e0cac286cb5219ccf2d39047225",
        "id": "_blAjPLiQoAk"
      },
      "source": [
        "# **Import Library** <a id=\"3\"></a>\n",
        "<mark>[Return Contents](#0)\n",
        "<hr>"
      ]
    },
    {
      "cell_type": "code",
      "metadata": {
        "_uuid": "8f2839f25d086af736a60e9eeb907d3b93b6e0e5",
        "_cell_guid": "b1076dfc-b9ad-4769-8c92-a6c4dae69d19",
        "trusted": true,
        "colab": {
          "base_uri": "https://localhost:8080/"
        },
        "id": "H_dSPZvzQoAk",
        "outputId": "5b8a6da2-5493-43d2-eeae-04ae3d2a3da8"
      },
      "source": [
        "import numpy as np # linear algebra\n",
        "import pandas as pd # import in pandas\n",
        "\n",
        "import os\n",
        "print(os.listdir(\"./sample_data\"))\n",
        "# os.listdir('./sample_data/california_housing_train')"
      ],
      "execution_count": null,
      "outputs": [
        {
          "output_type": "stream",
          "name": "stdout",
          "text": [
            "['anscombe.json', 'README.md', 'mnist_test.csv', 'mnist_train_small.csv', 'california_housing_test.csv', 'california_housing_train.csv']\n"
          ]
        }
      ]
    },
    {
      "cell_type": "markdown",
      "metadata": {
        "_uuid": "a426ae53d18d45d00983d551db00a7467187d619",
        "id": "HGn7Noc5QoAl"
      },
      "source": [
        "# **Pandas Data Structure** <a id=\"4\"></a>\n",
        "<mark>[Return Contents](#0)\n",
        "<hr>\n",
        "\n",
        "Pandas has two types of data structures. These are series and dataframe.\n",
        "\n",
        "### **Series** <a id=\"5\"></a>\n",
        "\n",
        "The series is a one-dimensional labeled array. It can accommodate any type of data in it."
      ]
    },
    {
      "cell_type": "code",
      "metadata": {
        "trusted": true,
        "_uuid": "1263fb3f8afa0fc2b233693bb8b14305be64a868",
        "colab": {
          "base_uri": "https://localhost:8080/"
        },
        "id": "qdNdA7dSQoAl",
        "outputId": "19b318bc-bebd-483d-d32b-0feb97b1d8b1"
      },
      "source": [
        "mySeries = pd.Series([3,-5,7,4], index=['a','b','c','d'])\n",
        "type(mySeries)"
      ],
      "execution_count": null,
      "outputs": [
        {
          "output_type": "execute_result",
          "data": {
            "text/plain": [
              "pandas.core.series.Series"
            ]
          },
          "metadata": {},
          "execution_count": 2
        }
      ]
    },
    {
      "cell_type": "markdown",
      "metadata": {
        "_uuid": "2b73b3f939dde85b87b827c6ce48887598c5f206",
        "id": "xYa6NnbQQoAm"
      },
      "source": [
        "### **DataFrame** <a id=\"6\"></a>\n",
        "\n",
        "The dataframe is a two-dimensional data structure. It contains columns."
      ]
    },
    {
      "cell_type": "code",
      "metadata": {
        "trusted": true,
        "_uuid": "5fe39122825e7b4ad3b51dd48fc265326343f289",
        "colab": {
          "base_uri": "https://localhost:8080/"
        },
        "id": "SMAzheYLQoAm",
        "outputId": "b915f388-43b2-45bf-a092-fd62d0a8596b"
      },
      "source": [
        "data = {'Country' : ['Belgium', 'India', 'Brazil' ],\n",
        "        'Capital': ['Brussels', 'New Delhi', 'Brassilia'],\n",
        "        'Population': [1234,1234,1234]}\n",
        "datas = pd.DataFrame(data, columns=['Country','Capital','Population'])\n",
        "print(type(data))\n",
        "print(type(datas))"
      ],
      "execution_count": null,
      "outputs": [
        {
          "output_type": "stream",
          "name": "stdout",
          "text": [
            "<class 'dict'>\n",
            "<class 'pandas.core.frame.DataFrame'>\n"
          ]
        }
      ]
    },
    {
      "cell_type": "markdown",
      "metadata": {
        "_uuid": "1316f32ba568af226f868caf2b0e693130a5bb5f",
        "id": "1esTLv4FQoAm"
      },
      "source": [
        "# **Import Library** <a id=\"7\"></a>\n",
        "<mark>[Return Contents](#0)\n",
        "<hr>\n",
        "\n",
        "With pandas, we can open CSV, Excel and SQL databases. I will show you how to use this method for CSV and Excel files only.\n",
        "\n",
        "### **CSV(comma - separated values)** <a id=\"8\"></a>\n",
        "\n",
        "It is very easy to open and read CSV files and to overwrite the CSV file."
      ]
    },
    {
      "cell_type": "code",
      "metadata": {
        "trusted": true,
        "_uuid": "504c6eeb8668b0a46380e5e24f314269284e119d",
        "colab": {
          "base_uri": "https://localhost:8080/"
        },
        "id": "HJfbtdxGQoAn",
        "outputId": "ed659dc9-900b-4b20-d54e-3aedd32236fb"
      },
      "source": [
        "df = pd.read_csv('./sample_data/california_housing_train.csv')\n",
        "type(df)\n",
        "# If your Python file is not in the same folder as your CSV file, you should do this as follows.\n",
        "# df = pd.read_csv('/home/desktop/Iris.csv')"
      ],
      "execution_count": null,
      "outputs": [
        {
          "output_type": "execute_result",
          "data": {
            "text/plain": [
              "pandas.core.frame.DataFrame"
            ]
          },
          "metadata": {},
          "execution_count": 5
        }
      ]
    },
    {
      "cell_type": "markdown",
      "metadata": {
        "_uuid": "644c4eceafba990426b635cd66cb49a4be34de0a",
        "id": "eKL7rprYQoAn"
      },
      "source": [
        "### **Excel** <a id=\"9\"></a>\n",
        "\n",
        "When we want to work with Excel files, we need to type the following code."
      ]
    },
    {
      "cell_type": "code",
      "metadata": {
        "trusted": true,
        "_uuid": "468b5105d9feffb1d54cb7752cc57a07687e61dc",
        "id": "f03lVLjlQoAn"
      },
      "source": [
        "# pd.read_excel('filename')\n",
        "# pd.to_excel('dir/dataFrame.xlsx', sheet_name='Sheet1')"
      ],
      "execution_count": null,
      "outputs": []
    },
    {
      "cell_type": "markdown",
      "metadata": {
        "_uuid": "91d6e54d29a522606c7c843ff0efc9fb0ddbf2ca",
        "id": "ZTZ4fXpVQoAo"
      },
      "source": [
        "### **Others(json, SQL, table, html)** <a id=\"10\"></a>"
      ]
    },
    {
      "cell_type": "code",
      "metadata": {
        "trusted": true,
        "_uuid": "5fb0849e539bc6afdfa70fcbcba38b869e74f195",
        "id": "vOhFgu_TQoAo"
      },
      "source": [
        "# pd.read_sql(query,connection_object) -> Reads from a SQL table/database\n",
        "# pd.read_table(filename) -> From a delimited text file(like TSV)\n",
        "# pd.read_json(json_string) -> Reads from a json formatted string, URL or file\n",
        "# pd.read_html(url) -> Parses an html URL, string or file and extracts tables to a list of dataframes\n",
        "# pd.read_clipboard() -> Takes the contentes of your clipboard and passes it to read_table()\n",
        "# pd.DataFrame(dict) -> From a dict, keys for columns names, values for data as lists"
      ],
      "execution_count": null,
      "outputs": []
    },
    {
      "cell_type": "markdown",
      "metadata": {
        "_uuid": "caaf40c4674f87d855900e5223f51e2a4dd07cfc",
        "id": "zchjKAFQQoAo"
      },
      "source": [
        "# **Exporting Data** <a id=\"11\"></a>\n",
        "<mark>[Return Contents](#0)\n",
        "<hr>"
      ]
    },
    {
      "cell_type": "code",
      "metadata": {
        "trusted": true,
        "_uuid": "91ef5e0bc13b063b95ae1e4424c303bd684c02ce",
        "id": "F_3dxDiNQoAo"
      },
      "source": [
        "# df.to_csv(filename) -> Writes to a CSV file\n",
        "# df.to_excel(filename) -> Writes on an Excel file\n",
        "# df.to_sql(table_name, connection_object) -> Writes to a SQL table\n",
        "# df.to_json(filename) -> Writes to a file in JSON format\n",
        "# df.to_html(filename) -> Saves as an HTML table\n",
        "# df.to_clipboard() -> Writes to the clipboard"
      ],
      "execution_count": null,
      "outputs": []
    },
    {
      "cell_type": "markdown",
      "metadata": {
        "_uuid": "3b7d9b79a7b22a994648e4fe7cd7cd5622aae105",
        "id": "e-tTMOJBQoAo"
      },
      "source": [
        "# **Create Test Objects** <a id=\"12\"></a>\n",
        "<mark>[Return Contents](#0)\n",
        "<hr>"
      ]
    },
    {
      "cell_type": "code",
      "metadata": {
        "trusted": true,
        "_uuid": "0cf5537b0c3930da09e825bdf5a0058456c10715",
        "colab": {
          "base_uri": "https://localhost:8080/",
          "height": 676
        },
        "id": "3PJdqy2AQoAp",
        "outputId": "a4a82505-0a38-425a-d659-7df79a4846bb"
      },
      "source": [
        "pd.DataFrame(np.random.rand(20,5)) # 5 columns and 20 rows of random floats"
      ],
      "execution_count": null,
      "outputs": [
        {
          "output_type": "execute_result",
          "data": {
            "text/html": [
              "<div>\n",
              "<style scoped>\n",
              "    .dataframe tbody tr th:only-of-type {\n",
              "        vertical-align: middle;\n",
              "    }\n",
              "\n",
              "    .dataframe tbody tr th {\n",
              "        vertical-align: top;\n",
              "    }\n",
              "\n",
              "    .dataframe thead th {\n",
              "        text-align: right;\n",
              "    }\n",
              "</style>\n",
              "<table border=\"1\" class=\"dataframe\">\n",
              "  <thead>\n",
              "    <tr style=\"text-align: right;\">\n",
              "      <th></th>\n",
              "      <th>0</th>\n",
              "      <th>1</th>\n",
              "      <th>2</th>\n",
              "      <th>3</th>\n",
              "      <th>4</th>\n",
              "    </tr>\n",
              "  </thead>\n",
              "  <tbody>\n",
              "    <tr>\n",
              "      <th>0</th>\n",
              "      <td>0.140667</td>\n",
              "      <td>0.441477</td>\n",
              "      <td>0.738782</td>\n",
              "      <td>0.971723</td>\n",
              "      <td>0.245822</td>\n",
              "    </tr>\n",
              "    <tr>\n",
              "      <th>1</th>\n",
              "      <td>0.822632</td>\n",
              "      <td>0.653322</td>\n",
              "      <td>0.832708</td>\n",
              "      <td>0.902521</td>\n",
              "      <td>0.759869</td>\n",
              "    </tr>\n",
              "    <tr>\n",
              "      <th>2</th>\n",
              "      <td>0.099325</td>\n",
              "      <td>0.907436</td>\n",
              "      <td>0.251987</td>\n",
              "      <td>0.892479</td>\n",
              "      <td>0.428663</td>\n",
              "    </tr>\n",
              "    <tr>\n",
              "      <th>3</th>\n",
              "      <td>0.960666</td>\n",
              "      <td>0.652649</td>\n",
              "      <td>0.703919</td>\n",
              "      <td>0.361877</td>\n",
              "      <td>0.131625</td>\n",
              "    </tr>\n",
              "    <tr>\n",
              "      <th>4</th>\n",
              "      <td>0.567076</td>\n",
              "      <td>0.933775</td>\n",
              "      <td>0.906584</td>\n",
              "      <td>0.182230</td>\n",
              "      <td>0.140333</td>\n",
              "    </tr>\n",
              "    <tr>\n",
              "      <th>5</th>\n",
              "      <td>0.463226</td>\n",
              "      <td>0.120056</td>\n",
              "      <td>0.033154</td>\n",
              "      <td>0.931688</td>\n",
              "      <td>0.247157</td>\n",
              "    </tr>\n",
              "    <tr>\n",
              "      <th>6</th>\n",
              "      <td>0.399374</td>\n",
              "      <td>0.347554</td>\n",
              "      <td>0.554090</td>\n",
              "      <td>0.459794</td>\n",
              "      <td>0.647230</td>\n",
              "    </tr>\n",
              "    <tr>\n",
              "      <th>7</th>\n",
              "      <td>0.941602</td>\n",
              "      <td>0.457928</td>\n",
              "      <td>0.307894</td>\n",
              "      <td>0.168446</td>\n",
              "      <td>0.045849</td>\n",
              "    </tr>\n",
              "    <tr>\n",
              "      <th>8</th>\n",
              "      <td>0.641014</td>\n",
              "      <td>0.873669</td>\n",
              "      <td>0.368126</td>\n",
              "      <td>0.453964</td>\n",
              "      <td>0.111511</td>\n",
              "    </tr>\n",
              "    <tr>\n",
              "      <th>9</th>\n",
              "      <td>0.787512</td>\n",
              "      <td>0.506257</td>\n",
              "      <td>0.341974</td>\n",
              "      <td>0.422327</td>\n",
              "      <td>0.984308</td>\n",
              "    </tr>\n",
              "    <tr>\n",
              "      <th>10</th>\n",
              "      <td>0.032391</td>\n",
              "      <td>0.828348</td>\n",
              "      <td>0.806197</td>\n",
              "      <td>0.150905</td>\n",
              "      <td>0.234855</td>\n",
              "    </tr>\n",
              "    <tr>\n",
              "      <th>11</th>\n",
              "      <td>0.448876</td>\n",
              "      <td>0.307708</td>\n",
              "      <td>0.747134</td>\n",
              "      <td>0.264298</td>\n",
              "      <td>0.967136</td>\n",
              "    </tr>\n",
              "    <tr>\n",
              "      <th>12</th>\n",
              "      <td>0.472805</td>\n",
              "      <td>0.080612</td>\n",
              "      <td>0.724535</td>\n",
              "      <td>0.069600</td>\n",
              "      <td>0.917210</td>\n",
              "    </tr>\n",
              "    <tr>\n",
              "      <th>13</th>\n",
              "      <td>0.384924</td>\n",
              "      <td>0.490690</td>\n",
              "      <td>0.287430</td>\n",
              "      <td>0.077702</td>\n",
              "      <td>0.732502</td>\n",
              "    </tr>\n",
              "    <tr>\n",
              "      <th>14</th>\n",
              "      <td>0.685956</td>\n",
              "      <td>0.801111</td>\n",
              "      <td>0.836703</td>\n",
              "      <td>0.036652</td>\n",
              "      <td>0.188851</td>\n",
              "    </tr>\n",
              "    <tr>\n",
              "      <th>15</th>\n",
              "      <td>0.324063</td>\n",
              "      <td>0.273532</td>\n",
              "      <td>0.540468</td>\n",
              "      <td>0.294587</td>\n",
              "      <td>0.566295</td>\n",
              "    </tr>\n",
              "    <tr>\n",
              "      <th>16</th>\n",
              "      <td>0.539197</td>\n",
              "      <td>0.046889</td>\n",
              "      <td>0.294060</td>\n",
              "      <td>0.532738</td>\n",
              "      <td>0.402324</td>\n",
              "    </tr>\n",
              "    <tr>\n",
              "      <th>17</th>\n",
              "      <td>0.450286</td>\n",
              "      <td>0.346433</td>\n",
              "      <td>0.785531</td>\n",
              "      <td>0.937179</td>\n",
              "      <td>0.372747</td>\n",
              "    </tr>\n",
              "    <tr>\n",
              "      <th>18</th>\n",
              "      <td>0.605103</td>\n",
              "      <td>0.649494</td>\n",
              "      <td>0.007687</td>\n",
              "      <td>0.244214</td>\n",
              "      <td>0.492102</td>\n",
              "    </tr>\n",
              "    <tr>\n",
              "      <th>19</th>\n",
              "      <td>0.848415</td>\n",
              "      <td>0.411651</td>\n",
              "      <td>0.115110</td>\n",
              "      <td>0.236019</td>\n",
              "      <td>0.519674</td>\n",
              "    </tr>\n",
              "  </tbody>\n",
              "</table>\n",
              "</div>"
            ],
            "text/plain": [
              "           0         1         2         3         4\n",
              "0   0.140667  0.441477  0.738782  0.971723  0.245822\n",
              "1   0.822632  0.653322  0.832708  0.902521  0.759869\n",
              "2   0.099325  0.907436  0.251987  0.892479  0.428663\n",
              "3   0.960666  0.652649  0.703919  0.361877  0.131625\n",
              "4   0.567076  0.933775  0.906584  0.182230  0.140333\n",
              "5   0.463226  0.120056  0.033154  0.931688  0.247157\n",
              "6   0.399374  0.347554  0.554090  0.459794  0.647230\n",
              "7   0.941602  0.457928  0.307894  0.168446  0.045849\n",
              "8   0.641014  0.873669  0.368126  0.453964  0.111511\n",
              "9   0.787512  0.506257  0.341974  0.422327  0.984308\n",
              "10  0.032391  0.828348  0.806197  0.150905  0.234855\n",
              "11  0.448876  0.307708  0.747134  0.264298  0.967136\n",
              "12  0.472805  0.080612  0.724535  0.069600  0.917210\n",
              "13  0.384924  0.490690  0.287430  0.077702  0.732502\n",
              "14  0.685956  0.801111  0.836703  0.036652  0.188851\n",
              "15  0.324063  0.273532  0.540468  0.294587  0.566295\n",
              "16  0.539197  0.046889  0.294060  0.532738  0.402324\n",
              "17  0.450286  0.346433  0.785531  0.937179  0.372747\n",
              "18  0.605103  0.649494  0.007687  0.244214  0.492102\n",
              "19  0.848415  0.411651  0.115110  0.236019  0.519674"
            ]
          },
          "metadata": {},
          "execution_count": 11
        }
      ]
    },
    {
      "cell_type": "markdown",
      "metadata": {
        "_uuid": "4b6898acc1f32bab20b37fe7b0dee8f47a321301",
        "id": "Th1PAYPYQoAp"
      },
      "source": [
        "# **Summarize Data** <a id=\"13\"></a>\n",
        "<mark>[Return Contents](#0)\n",
        "<hr>\n",
        "\n",
        "It's easy to get information about data with pandas. It makes it easier for us. Let's examine the existing functions one by one"
      ]
    },
    {
      "cell_type": "markdown",
      "metadata": {
        "_uuid": "bd615451f4c5670bd4e8fa3f727d1c0f1d82dbed",
        "id": "v47CMf6wQoAp"
      },
      "source": [
        "### **df.info()** <a id=\"14\"></a>\n",
        "This Code provides detailed information about our data.\n",
        "\n",
        "* **RangeIndex:** Specifies how many data there is.\n",
        "* **Data Columns:** Specifies how many columns are found.\n",
        "* **Columns:** Gives information about Columns.\n",
        "* **dtypes:** It says what kind of data you have and how many of these data you have.\n",
        "* **Memory Usage:** It says how much memory usage is.\n",
        "\n",
        "<mark>[Return Contents](#0)\n",
        "<hr>"
      ]
    },
    {
      "cell_type": "code",
      "metadata": {
        "trusted": true,
        "_uuid": "10c546875a26f15d71ae9517d1f165b3e9a70781",
        "colab": {
          "base_uri": "https://localhost:8080/"
        },
        "id": "GHCpyZxlQoAp",
        "outputId": "7bad75bf-1c67-456b-cfff-6b7e1bf95aaf"
      },
      "source": [
        "df.info()"
      ],
      "execution_count": null,
      "outputs": [
        {
          "output_type": "stream",
          "name": "stdout",
          "text": [
            "<class 'pandas.core.frame.DataFrame'>\n",
            "RangeIndex: 17000 entries, 0 to 16999\n",
            "Data columns (total 9 columns):\n",
            " #   Column              Non-Null Count  Dtype  \n",
            "---  ------              --------------  -----  \n",
            " 0   longitude           17000 non-null  float64\n",
            " 1   latitude            17000 non-null  float64\n",
            " 2   housing_median_age  17000 non-null  float64\n",
            " 3   total_rooms         17000 non-null  float64\n",
            " 4   total_bedrooms      17000 non-null  float64\n",
            " 5   population          17000 non-null  float64\n",
            " 6   households          17000 non-null  float64\n",
            " 7   median_income       17000 non-null  float64\n",
            " 8   median_house_value  17000 non-null  float64\n",
            "dtypes: float64(9)\n",
            "memory usage: 1.2 MB\n"
          ]
        }
      ]
    },
    {
      "cell_type": "markdown",
      "metadata": {
        "_uuid": "f885b5ef0f5cde44dc5fbdffac16695503b35fc6",
        "id": "z7Gj5AoRQoAp"
      },
      "source": [
        "### **df.shape()** <a id=\"15\"></a>\n",
        "This code shows us the number of rows and columns.\n",
        "\n",
        "<mark>[Return Contents](#0)\n",
        "<hr>"
      ]
    },
    {
      "cell_type": "code",
      "metadata": {
        "trusted": true,
        "_uuid": "6a2f6f6ef1d420c6ccdb2d52b1ab531fb1148d24",
        "colab": {
          "base_uri": "https://localhost:8080/"
        },
        "id": "QroA5ZyvQoAp",
        "outputId": "cc37586f-f031-4fbf-9631-6e189b1c8a13"
      },
      "source": [
        "df.shape"
      ],
      "execution_count": null,
      "outputs": [
        {
          "output_type": "execute_result",
          "data": {
            "text/plain": [
              "(17000, 9)"
            ]
          },
          "metadata": {},
          "execution_count": 13
        }
      ]
    },
    {
      "cell_type": "markdown",
      "metadata": {
        "_uuid": "617ea072afc3ca84a35ccd9b451ea32ead59823f",
        "id": "5_x9J9j1QoAp"
      },
      "source": [
        "### **df.index** <a id=\"16\"></a>\n",
        "This code shows the total number of index found.\n",
        "\n",
        "<mark>[Return Contents](#0)\n",
        "<hr>"
      ]
    },
    {
      "cell_type": "code",
      "metadata": {
        "trusted": true,
        "_uuid": "7faf88abf28731ab59c9838c665026b6348ce32d",
        "colab": {
          "base_uri": "https://localhost:8080/"
        },
        "id": "yEqsTqYmQoAq",
        "outputId": "aaac7330-7c20-4adf-f1ea-0225ef2de7cb"
      },
      "source": [
        "df.index"
      ],
      "execution_count": null,
      "outputs": [
        {
          "output_type": "execute_result",
          "data": {
            "text/plain": [
              "RangeIndex(start=0, stop=17000, step=1)"
            ]
          },
          "metadata": {},
          "execution_count": 14
        }
      ]
    },
    {
      "cell_type": "markdown",
      "metadata": {
        "_uuid": "35bc3f0f534f3882d7462fa91d51f57e8361327b",
        "id": "6JzuC-SnQoAq"
      },
      "source": [
        "### **df.columns** <a id=\"17\"></a>\n",
        "This code shows all the columns contained in the data we have examined.\n",
        "\n",
        "<mark>[Return Contents](#0)\n",
        "<hr>"
      ]
    },
    {
      "cell_type": "code",
      "metadata": {
        "trusted": true,
        "_uuid": "e31b26213b05a838e5376d370e14acba61790a2e",
        "colab": {
          "base_uri": "https://localhost:8080/"
        },
        "id": "YBPtLGtpQoAq",
        "outputId": "5b6682d9-3226-436e-922d-29a6662f8b5f"
      },
      "source": [
        "df.columns"
      ],
      "execution_count": null,
      "outputs": [
        {
          "output_type": "execute_result",
          "data": {
            "text/plain": [
              "Index(['longitude', 'latitude', 'housing_median_age', 'total_rooms',\n",
              "       'total_bedrooms', 'population', 'households', 'median_income',\n",
              "       'median_house_value'],\n",
              "      dtype='object')"
            ]
          },
          "metadata": {},
          "execution_count": 15
        }
      ]
    },
    {
      "cell_type": "markdown",
      "metadata": {
        "_uuid": "9c1b1229f876a1791c34337b13b789106d0bcfef",
        "id": "fZTQLkuKQoAq"
      },
      "source": [
        "### **df.count()** <a id=\"18\"></a>\n",
        "This code shows us how many pieces of data are in each column.\n",
        "\n",
        "<mark>[Return Contents](#0)\n",
        "<hr>"
      ]
    },
    {
      "cell_type": "code",
      "metadata": {
        "trusted": true,
        "_uuid": "3509654c02ace990c098b9cdef6d43a4d35c2454",
        "colab": {
          "base_uri": "https://localhost:8080/"
        },
        "id": "Ma6gPyqFQoAq",
        "outputId": "34ceea70-0656-4108-d51c-1b0255208191"
      },
      "source": [
        "df.count()"
      ],
      "execution_count": null,
      "outputs": [
        {
          "output_type": "execute_result",
          "data": {
            "text/plain": [
              "longitude             17000\n",
              "latitude              17000\n",
              "housing_median_age    17000\n",
              "total_rooms           17000\n",
              "total_bedrooms        17000\n",
              "population            17000\n",
              "households            17000\n",
              "median_income         17000\n",
              "median_house_value    17000\n",
              "dtype: int64"
            ]
          },
          "metadata": {},
          "execution_count": 16
        }
      ]
    },
    {
      "cell_type": "markdown",
      "metadata": {
        "_uuid": "4756f4d3ee72fd0d5a02ff0c48bc27ee0438854a",
        "id": "pOvKnfBBQoAq"
      },
      "source": [
        "### **df.sum()** <a id=\"19\"></a>\n",
        "This code shows us the sum of the data in each column.\n",
        "\n",
        "<mark>[Return Contents](#0)\n",
        "<hr>"
      ]
    },
    {
      "cell_type": "code",
      "metadata": {
        "trusted": true,
        "_uuid": "01420020ad3f68adc9ae8000c26101d03009fbef",
        "colab": {
          "base_uri": "https://localhost:8080/"
        },
        "id": "nJh9l0x2QoAq",
        "outputId": "8b467821-27c5-4301-c922-336a6742837d"
      },
      "source": [
        "df.sum()"
      ],
      "execution_count": null,
      "outputs": [
        {
          "output_type": "execute_result",
          "data": {
            "text/plain": [
              "longitude            -2.032556e+06\n",
              "latitude              6.056288e+05\n",
              "housing_median_age    4.860190e+05\n",
              "total_rooms           4.494230e+07\n",
              "total_bedrooms        9.169984e+06\n",
              "population            2.430276e+07\n",
              "households            8.520773e+06\n",
              "median_income         6.602083e+04\n",
              "median_house_value    3.524116e+09\n",
              "dtype: float64"
            ]
          },
          "metadata": {},
          "execution_count": 17
        }
      ]
    },
    {
      "cell_type": "markdown",
      "metadata": {
        "_uuid": "b2695908688bf1ab5811768b35209483f6a14ae8",
        "id": "2TA_TGpfQoAq"
      },
      "source": [
        "### **df.cumsum()** <a id=\"20\"></a>\n",
        "This code gives us cumulative sum of the data.\n",
        "\n",
        "<mark>[Return Contents](#0)\n",
        "<hr>"
      ]
    },
    {
      "cell_type": "code",
      "metadata": {
        "trusted": true,
        "_uuid": "82827d42ae7bb44b20a5c960135430e497391895",
        "colab": {
          "base_uri": "https://localhost:8080/",
          "height": 206
        },
        "id": "3FWBX1ubQoAq",
        "outputId": "b39bde91-71bd-4217-b314-06abf6a118ba"
      },
      "source": [
        "df.cumsum().head()"
      ],
      "execution_count": null,
      "outputs": [
        {
          "output_type": "execute_result",
          "data": {
            "text/html": [
              "<div>\n",
              "<style scoped>\n",
              "    .dataframe tbody tr th:only-of-type {\n",
              "        vertical-align: middle;\n",
              "    }\n",
              "\n",
              "    .dataframe tbody tr th {\n",
              "        vertical-align: top;\n",
              "    }\n",
              "\n",
              "    .dataframe thead th {\n",
              "        text-align: right;\n",
              "    }\n",
              "</style>\n",
              "<table border=\"1\" class=\"dataframe\">\n",
              "  <thead>\n",
              "    <tr style=\"text-align: right;\">\n",
              "      <th></th>\n",
              "      <th>longitude</th>\n",
              "      <th>latitude</th>\n",
              "      <th>housing_median_age</th>\n",
              "      <th>total_rooms</th>\n",
              "      <th>total_bedrooms</th>\n",
              "      <th>population</th>\n",
              "      <th>households</th>\n",
              "      <th>median_income</th>\n",
              "      <th>median_house_value</th>\n",
              "    </tr>\n",
              "  </thead>\n",
              "  <tbody>\n",
              "    <tr>\n",
              "      <th>0</th>\n",
              "      <td>-114.31</td>\n",
              "      <td>34.19</td>\n",
              "      <td>15.0</td>\n",
              "      <td>5612.0</td>\n",
              "      <td>1283.0</td>\n",
              "      <td>1015.0</td>\n",
              "      <td>472.0</td>\n",
              "      <td>1.4936</td>\n",
              "      <td>66900.0</td>\n",
              "    </tr>\n",
              "    <tr>\n",
              "      <th>1</th>\n",
              "      <td>-228.78</td>\n",
              "      <td>68.59</td>\n",
              "      <td>34.0</td>\n",
              "      <td>13262.0</td>\n",
              "      <td>3184.0</td>\n",
              "      <td>2144.0</td>\n",
              "      <td>935.0</td>\n",
              "      <td>3.3136</td>\n",
              "      <td>147000.0</td>\n",
              "    </tr>\n",
              "    <tr>\n",
              "      <th>2</th>\n",
              "      <td>-343.34</td>\n",
              "      <td>102.28</td>\n",
              "      <td>51.0</td>\n",
              "      <td>13982.0</td>\n",
              "      <td>3358.0</td>\n",
              "      <td>2477.0</td>\n",
              "      <td>1052.0</td>\n",
              "      <td>4.9645</td>\n",
              "      <td>232700.0</td>\n",
              "    </tr>\n",
              "    <tr>\n",
              "      <th>3</th>\n",
              "      <td>-457.91</td>\n",
              "      <td>135.92</td>\n",
              "      <td>65.0</td>\n",
              "      <td>15483.0</td>\n",
              "      <td>3695.0</td>\n",
              "      <td>2992.0</td>\n",
              "      <td>1278.0</td>\n",
              "      <td>8.1562</td>\n",
              "      <td>306100.0</td>\n",
              "    </tr>\n",
              "    <tr>\n",
              "      <th>4</th>\n",
              "      <td>-572.48</td>\n",
              "      <td>169.49</td>\n",
              "      <td>85.0</td>\n",
              "      <td>16937.0</td>\n",
              "      <td>4021.0</td>\n",
              "      <td>3616.0</td>\n",
              "      <td>1540.0</td>\n",
              "      <td>10.0812</td>\n",
              "      <td>371600.0</td>\n",
              "    </tr>\n",
              "  </tbody>\n",
              "</table>\n",
              "</div>"
            ],
            "text/plain": [
              "   longitude  latitude  ...  median_income  median_house_value\n",
              "0    -114.31     34.19  ...         1.4936             66900.0\n",
              "1    -228.78     68.59  ...         3.3136            147000.0\n",
              "2    -343.34    102.28  ...         4.9645            232700.0\n",
              "3    -457.91    135.92  ...         8.1562            306100.0\n",
              "4    -572.48    169.49  ...        10.0812            371600.0\n",
              "\n",
              "[5 rows x 9 columns]"
            ]
          },
          "metadata": {},
          "execution_count": 18
        }
      ]
    },
    {
      "cell_type": "markdown",
      "metadata": {
        "_uuid": "8a36d94e3e0d961dbd674c808dc14be1a0958371",
        "id": "LxzfTKGiQoAr"
      },
      "source": [
        "### **df.min()** <a id=\"21\"></a>\n",
        "This code brings us the smallest of the data.\n",
        "\n",
        "<mark>[Return Contents](#0)\n",
        "<hr>"
      ]
    },
    {
      "cell_type": "code",
      "metadata": {
        "trusted": true,
        "_uuid": "dcef4961748e9eb2b0c1311265d5e2c69a8c8e4a",
        "colab": {
          "base_uri": "https://localhost:8080/"
        },
        "id": "7VW0f3vUQoAr",
        "outputId": "8bb289cc-98e7-45db-8a7b-bc88db0c7ed8"
      },
      "source": [
        "df.min()"
      ],
      "execution_count": null,
      "outputs": [
        {
          "output_type": "execute_result",
          "data": {
            "text/plain": [
              "longitude              -124.3500\n",
              "latitude                 32.5400\n",
              "housing_median_age        1.0000\n",
              "total_rooms               2.0000\n",
              "total_bedrooms            1.0000\n",
              "population                3.0000\n",
              "households                1.0000\n",
              "median_income             0.4999\n",
              "median_house_value    14999.0000\n",
              "dtype: float64"
            ]
          },
          "metadata": {},
          "execution_count": 19
        }
      ]
    },
    {
      "cell_type": "markdown",
      "metadata": {
        "_uuid": "6387ac8877231eeb35e210275d9f0c4fe4bab90b",
        "id": "FLHosB1DQoAr"
      },
      "source": [
        "### **df.max()** <a id=\"22\"></a>\n",
        "This code brings up the largest among the data.\n",
        "\n",
        "<mark>[Return Contents](#0)\n",
        "<hr>"
      ]
    },
    {
      "cell_type": "code",
      "metadata": {
        "trusted": true,
        "_uuid": "bce741708b2a6387ccdf7bccf7bc44d37307ad31",
        "colab": {
          "base_uri": "https://localhost:8080/"
        },
        "id": "SysFElCuQoAr",
        "outputId": "272d13eb-970a-4522-c1a5-69d023ae6c3e"
      },
      "source": [
        "df.max()"
      ],
      "execution_count": null,
      "outputs": [
        {
          "output_type": "execute_result",
          "data": {
            "text/plain": [
              "longitude               -114.3100\n",
              "latitude                  41.9500\n",
              "housing_median_age        52.0000\n",
              "total_rooms            37937.0000\n",
              "total_bedrooms          6445.0000\n",
              "population             35682.0000\n",
              "households              6082.0000\n",
              "median_income             15.0001\n",
              "median_house_value    500001.0000\n",
              "dtype: float64"
            ]
          },
          "metadata": {},
          "execution_count": 20
        }
      ]
    },
    {
      "cell_type": "markdown",
      "metadata": {
        "_uuid": "88b7dea1b9cc468b0c4344cb6c7f3fb94f3c616e",
        "id": "DeOfjwaDQoAr"
      },
      "source": [
        "### **idxmin()**  <a id=\"23\"></a>\n",
        "This code fetches the smallest value in the data. The use on series and dataframe is different.\n",
        "\n",
        "<mark>[Return Contents](#0)\n",
        "<hr>"
      ]
    },
    {
      "cell_type": "code",
      "metadata": {
        "trusted": true,
        "_uuid": "9096b7015c2259e4e4a67beb44d55914a59929a4",
        "colab": {
          "base_uri": "https://localhost:8080/"
        },
        "id": "sS1Y5Q3qQoAr",
        "outputId": "70fa42bb-6e1d-40fb-a749-a81f70b442a0"
      },
      "source": [
        "print(\"df: \",df['total_rooms'].idxmin())\n",
        "print(\"series\", mySeries.idxmin())"
      ],
      "execution_count": null,
      "outputs": [
        {
          "output_type": "stream",
          "name": "stdout",
          "text": [
            "df:  2990\n",
            "series b\n"
          ]
        }
      ]
    },
    {
      "cell_type": "markdown",
      "metadata": {
        "_uuid": "2ad1b3dac499ca9c5e26f1e0f303ef6ea2670e13",
        "id": "pj7yI5L2QoAr"
      },
      "source": [
        "### **idxmax()**  <a id=\"24\"></a>\n",
        "This code returns the largest value in the data.\n",
        "\n",
        "<mark>[Return Contents](#0)\n",
        "<hr>"
      ]
    },
    {
      "cell_type": "code",
      "metadata": {
        "trusted": true,
        "_uuid": "607b8bea1225ccdaa76a2f70076d5fa438e859ab",
        "colab": {
          "base_uri": "https://localhost:8080/"
        },
        "id": "buFTOm9IQoAr",
        "outputId": "b32a4b73-8d3c-468d-ef17-dd221a916bfd"
      },
      "source": [
        "print(\"df: \",df['total_rooms'].idxmax())\n",
        "print(\"series: \",mySeries.idxmax())"
      ],
      "execution_count": null,
      "outputs": [
        {
          "output_type": "stream",
          "name": "stdout",
          "text": [
            "df:  2871\n",
            "series:  c\n"
          ]
        }
      ]
    },
    {
      "cell_type": "markdown",
      "metadata": {
        "_uuid": "97f89c5cc2ca00c8a9848ac77066fee54f935ec3",
        "id": "j995QxVAQoAr"
      },
      "source": [
        "### **df.describe()**  <a id=\"25\"></a>\n",
        "This Code provides basic statistical information about the data. The numerical column is based.\n",
        "\n",
        "* **count:** vnumber of entries\n",
        "* **mean: **average of entries\n",
        "* **std:** standart deviation\n",
        "* **min:** minimum entry\n",
        "* **25%:** first quantile\n",
        "* **50%:** median or second quantile\n",
        "* **75%:** third quantile\n",
        "* **max:** maximum entry\n",
        "\n",
        "<mark>[Return Contents](#0)\n",
        "<hr>"
      ]
    },
    {
      "cell_type": "code",
      "metadata": {
        "trusted": true,
        "_uuid": "f75c57e9f16adc167f8148b2225111056ebbf432",
        "colab": {
          "base_uri": "https://localhost:8080/",
          "height": 300
        },
        "id": "J0vCHKMaQoAr",
        "outputId": "7395a32b-14c0-44fe-c159-9061df5703dd"
      },
      "source": [
        "df.describe()"
      ],
      "execution_count": null,
      "outputs": [
        {
          "output_type": "execute_result",
          "data": {
            "text/html": [
              "<div>\n",
              "<style scoped>\n",
              "    .dataframe tbody tr th:only-of-type {\n",
              "        vertical-align: middle;\n",
              "    }\n",
              "\n",
              "    .dataframe tbody tr th {\n",
              "        vertical-align: top;\n",
              "    }\n",
              "\n",
              "    .dataframe thead th {\n",
              "        text-align: right;\n",
              "    }\n",
              "</style>\n",
              "<table border=\"1\" class=\"dataframe\">\n",
              "  <thead>\n",
              "    <tr style=\"text-align: right;\">\n",
              "      <th></th>\n",
              "      <th>longitude</th>\n",
              "      <th>latitude</th>\n",
              "      <th>housing_median_age</th>\n",
              "      <th>total_rooms</th>\n",
              "      <th>total_bedrooms</th>\n",
              "      <th>population</th>\n",
              "      <th>households</th>\n",
              "      <th>median_income</th>\n",
              "      <th>median_house_value</th>\n",
              "    </tr>\n",
              "  </thead>\n",
              "  <tbody>\n",
              "    <tr>\n",
              "      <th>count</th>\n",
              "      <td>17000.000000</td>\n",
              "      <td>17000.000000</td>\n",
              "      <td>17000.000000</td>\n",
              "      <td>17000.000000</td>\n",
              "      <td>17000.000000</td>\n",
              "      <td>17000.000000</td>\n",
              "      <td>17000.000000</td>\n",
              "      <td>17000.000000</td>\n",
              "      <td>17000.000000</td>\n",
              "    </tr>\n",
              "    <tr>\n",
              "      <th>mean</th>\n",
              "      <td>-119.562108</td>\n",
              "      <td>35.625225</td>\n",
              "      <td>28.589353</td>\n",
              "      <td>2643.664412</td>\n",
              "      <td>539.410824</td>\n",
              "      <td>1429.573941</td>\n",
              "      <td>501.221941</td>\n",
              "      <td>3.883578</td>\n",
              "      <td>207300.912353</td>\n",
              "    </tr>\n",
              "    <tr>\n",
              "      <th>std</th>\n",
              "      <td>2.005166</td>\n",
              "      <td>2.137340</td>\n",
              "      <td>12.586937</td>\n",
              "      <td>2179.947071</td>\n",
              "      <td>421.499452</td>\n",
              "      <td>1147.852959</td>\n",
              "      <td>384.520841</td>\n",
              "      <td>1.908157</td>\n",
              "      <td>115983.764387</td>\n",
              "    </tr>\n",
              "    <tr>\n",
              "      <th>min</th>\n",
              "      <td>-124.350000</td>\n",
              "      <td>32.540000</td>\n",
              "      <td>1.000000</td>\n",
              "      <td>2.000000</td>\n",
              "      <td>1.000000</td>\n",
              "      <td>3.000000</td>\n",
              "      <td>1.000000</td>\n",
              "      <td>0.499900</td>\n",
              "      <td>14999.000000</td>\n",
              "    </tr>\n",
              "    <tr>\n",
              "      <th>25%</th>\n",
              "      <td>-121.790000</td>\n",
              "      <td>33.930000</td>\n",
              "      <td>18.000000</td>\n",
              "      <td>1462.000000</td>\n",
              "      <td>297.000000</td>\n",
              "      <td>790.000000</td>\n",
              "      <td>282.000000</td>\n",
              "      <td>2.566375</td>\n",
              "      <td>119400.000000</td>\n",
              "    </tr>\n",
              "    <tr>\n",
              "      <th>50%</th>\n",
              "      <td>-118.490000</td>\n",
              "      <td>34.250000</td>\n",
              "      <td>29.000000</td>\n",
              "      <td>2127.000000</td>\n",
              "      <td>434.000000</td>\n",
              "      <td>1167.000000</td>\n",
              "      <td>409.000000</td>\n",
              "      <td>3.544600</td>\n",
              "      <td>180400.000000</td>\n",
              "    </tr>\n",
              "    <tr>\n",
              "      <th>75%</th>\n",
              "      <td>-118.000000</td>\n",
              "      <td>37.720000</td>\n",
              "      <td>37.000000</td>\n",
              "      <td>3151.250000</td>\n",
              "      <td>648.250000</td>\n",
              "      <td>1721.000000</td>\n",
              "      <td>605.250000</td>\n",
              "      <td>4.767000</td>\n",
              "      <td>265000.000000</td>\n",
              "    </tr>\n",
              "    <tr>\n",
              "      <th>max</th>\n",
              "      <td>-114.310000</td>\n",
              "      <td>41.950000</td>\n",
              "      <td>52.000000</td>\n",
              "      <td>37937.000000</td>\n",
              "      <td>6445.000000</td>\n",
              "      <td>35682.000000</td>\n",
              "      <td>6082.000000</td>\n",
              "      <td>15.000100</td>\n",
              "      <td>500001.000000</td>\n",
              "    </tr>\n",
              "  </tbody>\n",
              "</table>\n",
              "</div>"
            ],
            "text/plain": [
              "          longitude      latitude  ...  median_income  median_house_value\n",
              "count  17000.000000  17000.000000  ...   17000.000000        17000.000000\n",
              "mean    -119.562108     35.625225  ...       3.883578       207300.912353\n",
              "std        2.005166      2.137340  ...       1.908157       115983.764387\n",
              "min     -124.350000     32.540000  ...       0.499900        14999.000000\n",
              "25%     -121.790000     33.930000  ...       2.566375       119400.000000\n",
              "50%     -118.490000     34.250000  ...       3.544600       180400.000000\n",
              "75%     -118.000000     37.720000  ...       4.767000       265000.000000\n",
              "max     -114.310000     41.950000  ...      15.000100       500001.000000\n",
              "\n",
              "[8 rows x 9 columns]"
            ]
          },
          "metadata": {},
          "execution_count": 23
        }
      ]
    },
    {
      "cell_type": "markdown",
      "metadata": {
        "_uuid": "ee81ed576d22d6e350d59e961697231de83dbd6c",
        "id": "z9OcrclfQoAs"
      },
      "source": [
        "### **df.mean()**  <a id=\"26\"></a>\n",
        "This code returns the mean value for the numeric column.\n",
        "\n",
        "<mark>[Return Contents](#0)\n",
        "<hr>"
      ]
    },
    {
      "cell_type": "code",
      "metadata": {
        "trusted": true,
        "_uuid": "a48fe07b2e9edf425eea43ee8efc7208451053b8",
        "colab": {
          "base_uri": "https://localhost:8080/"
        },
        "id": "vHmvavbHQoAs",
        "outputId": "13d1d203-fc4f-47bf-8b70-802600752600"
      },
      "source": [
        "df.mean()"
      ],
      "execution_count": null,
      "outputs": [
        {
          "output_type": "execute_result",
          "data": {
            "text/plain": [
              "longitude               -119.562108\n",
              "latitude                  35.625225\n",
              "housing_median_age        28.589353\n",
              "total_rooms             2643.664412\n",
              "total_bedrooms           539.410824\n",
              "population              1429.573941\n",
              "households               501.221941\n",
              "median_income              3.883578\n",
              "median_house_value    207300.912353\n",
              "dtype: float64"
            ]
          },
          "metadata": {},
          "execution_count": 24
        }
      ]
    },
    {
      "cell_type": "markdown",
      "metadata": {
        "_uuid": "9505e713279ca2d4f9ee8e9e8f493fc6fc1dffaf",
        "id": "vbyoJEyeQoAs"
      },
      "source": [
        "### **df.median()**  <a id=\"27\"></a>\n",
        "This code returns median for columns with numeric values.\n",
        "\n",
        "<mark>[Return Contents](#0)\n",
        "<hr>"
      ]
    },
    {
      "cell_type": "code",
      "metadata": {
        "trusted": true,
        "_uuid": "e8f946be9ec391af5cf4cdc720bd86f08b1e11f8",
        "colab": {
          "base_uri": "https://localhost:8080/"
        },
        "id": "ZJYQUglzQoAs",
        "outputId": "74da0004-e9f1-4eb9-c1ed-051b2ea1669f"
      },
      "source": [
        "df.median()"
      ],
      "execution_count": null,
      "outputs": [
        {
          "output_type": "execute_result",
          "data": {
            "text/plain": [
              "longitude               -118.4900\n",
              "latitude                  34.2500\n",
              "housing_median_age        29.0000\n",
              "total_rooms             2127.0000\n",
              "total_bedrooms           434.0000\n",
              "population              1167.0000\n",
              "households               409.0000\n",
              "median_income              3.5446\n",
              "median_house_value    180400.0000\n",
              "dtype: float64"
            ]
          },
          "metadata": {},
          "execution_count": 25
        }
      ]
    },
    {
      "cell_type": "markdown",
      "metadata": {
        "_uuid": "e6ef1d3c59446abef4af4e9a8f9e4c7091268d07",
        "id": "4ufyMMuDQoAs"
      },
      "source": [
        "### **df.quantile([0.25,0.75])**  <a id=\"28\"></a>\n",
        "This code calculates the values 0.25 and 0.75 of the columns for each column.\n",
        "\n",
        "<mark>[Return Contents](#0)\n",
        "<hr>"
      ]
    },
    {
      "cell_type": "code",
      "metadata": {
        "trusted": true,
        "_uuid": "8145c67dde8b9aba6803436d28cc7225445343a3",
        "colab": {
          "base_uri": "https://localhost:8080/",
          "height": 112
        },
        "id": "cIag4v28QoAs",
        "outputId": "6d79d82d-1ed7-4068-a127-3835c9de7357"
      },
      "source": [
        "df.quantile([0.25,0.75])"
      ],
      "execution_count": null,
      "outputs": [
        {
          "output_type": "execute_result",
          "data": {
            "text/html": [
              "<div>\n",
              "<style scoped>\n",
              "    .dataframe tbody tr th:only-of-type {\n",
              "        vertical-align: middle;\n",
              "    }\n",
              "\n",
              "    .dataframe tbody tr th {\n",
              "        vertical-align: top;\n",
              "    }\n",
              "\n",
              "    .dataframe thead th {\n",
              "        text-align: right;\n",
              "    }\n",
              "</style>\n",
              "<table border=\"1\" class=\"dataframe\">\n",
              "  <thead>\n",
              "    <tr style=\"text-align: right;\">\n",
              "      <th></th>\n",
              "      <th>longitude</th>\n",
              "      <th>latitude</th>\n",
              "      <th>housing_median_age</th>\n",
              "      <th>total_rooms</th>\n",
              "      <th>total_bedrooms</th>\n",
              "      <th>population</th>\n",
              "      <th>households</th>\n",
              "      <th>median_income</th>\n",
              "      <th>median_house_value</th>\n",
              "    </tr>\n",
              "  </thead>\n",
              "  <tbody>\n",
              "    <tr>\n",
              "      <th>0.25</th>\n",
              "      <td>-121.79</td>\n",
              "      <td>33.93</td>\n",
              "      <td>18.0</td>\n",
              "      <td>1462.00</td>\n",
              "      <td>297.00</td>\n",
              "      <td>790.0</td>\n",
              "      <td>282.00</td>\n",
              "      <td>2.566375</td>\n",
              "      <td>119400.0</td>\n",
              "    </tr>\n",
              "    <tr>\n",
              "      <th>0.75</th>\n",
              "      <td>-118.00</td>\n",
              "      <td>37.72</td>\n",
              "      <td>37.0</td>\n",
              "      <td>3151.25</td>\n",
              "      <td>648.25</td>\n",
              "      <td>1721.0</td>\n",
              "      <td>605.25</td>\n",
              "      <td>4.767000</td>\n",
              "      <td>265000.0</td>\n",
              "    </tr>\n",
              "  </tbody>\n",
              "</table>\n",
              "</div>"
            ],
            "text/plain": [
              "      longitude  latitude  ...  median_income  median_house_value\n",
              "0.25    -121.79     33.93  ...       2.566375            119400.0\n",
              "0.75    -118.00     37.72  ...       4.767000            265000.0\n",
              "\n",
              "[2 rows x 9 columns]"
            ]
          },
          "metadata": {},
          "execution_count": 26
        }
      ]
    },
    {
      "cell_type": "markdown",
      "metadata": {
        "_uuid": "aac3a79b56277361df222d188abf5916e158287c",
        "id": "GTeh10G1QoAs"
      },
      "source": [
        "### **df.var()**  <a id=\"29\"></a>\n",
        "This code calculates the variance value for each column with a numeric value.\n",
        "\n",
        "<mark>[Return Contents](#0)\n",
        "<hr>"
      ]
    },
    {
      "cell_type": "code",
      "metadata": {
        "trusted": true,
        "_uuid": "4d6dc0723b2a02b1a30eba32aee013e618a8c777",
        "colab": {
          "base_uri": "https://localhost:8080/"
        },
        "id": "2xbekgN_QoAs",
        "outputId": "84d124c0-51f4-4301-a8c7-602111b2faa3"
      },
      "source": [
        "df.var()"
      ],
      "execution_count": null,
      "outputs": [
        {
          "output_type": "execute_result",
          "data": {
            "text/plain": [
              "longitude             4.020692e+00\n",
              "latitude              4.568221e+00\n",
              "housing_median_age    1.584310e+02\n",
              "total_rooms           4.752169e+06\n",
              "total_bedrooms        1.776618e+05\n",
              "population            1.317566e+06\n",
              "households            1.478563e+05\n",
              "median_income         3.641061e+00\n",
              "median_house_value    1.345223e+10\n",
              "dtype: float64"
            ]
          },
          "metadata": {},
          "execution_count": 27
        }
      ]
    },
    {
      "cell_type": "markdown",
      "metadata": {
        "_uuid": "9dadcadc50fa2f35d0be27c491706ae64ddb5879",
        "id": "0xYZZ6hdQoAs"
      },
      "source": [
        "### **df.std()** <a id=\"30\"></a>\n",
        "This code calculates the standard deviation value for each column with numeric value.\n",
        "\n",
        "<mark>[Return Contents](#0)\n",
        "<hr>"
      ]
    },
    {
      "cell_type": "code",
      "metadata": {
        "trusted": true,
        "_uuid": "dc29b13723a50b444d0892194aa9c131a6969217",
        "colab": {
          "base_uri": "https://localhost:8080/"
        },
        "id": "sq4BjKawQoAs",
        "outputId": "4b75f68a-b294-4922-b017-4d51569791dd"
      },
      "source": [
        "df.std()"
      ],
      "execution_count": null,
      "outputs": [
        {
          "output_type": "execute_result",
          "data": {
            "text/plain": [
              "longitude                  2.005166\n",
              "latitude                   2.137340\n",
              "housing_median_age        12.586937\n",
              "total_rooms             2179.947071\n",
              "total_bedrooms           421.499452\n",
              "population              1147.852959\n",
              "households               384.520841\n",
              "median_income              1.908157\n",
              "median_house_value    115983.764387\n",
              "dtype: float64"
            ]
          },
          "metadata": {},
          "execution_count": 28
        }
      ]
    },
    {
      "cell_type": "markdown",
      "metadata": {
        "_uuid": "9143f758fa6d821ece2efd8389b09b045bf486c2",
        "id": "SD_WkPZwQoAs"
      },
      "source": [
        "### **df.cummax()** <a id=\"31\"></a>\n",
        "This code calculates the cumulative max value between the data.\n",
        "\n",
        "<mark>[Return Contents](#0)\n",
        "<hr>"
      ]
    },
    {
      "cell_type": "code",
      "metadata": {
        "trusted": true,
        "_uuid": "beac65acb14480ea7c2a3b1db839bda1b700aed8",
        "colab": {
          "base_uri": "https://localhost:8080/",
          "height": 423
        },
        "id": "XsAuBptYQoAt",
        "outputId": "669ef0a6-0c9c-44f1-f1b7-3efc24619943"
      },
      "source": [
        "df.cummax()"
      ],
      "execution_count": null,
      "outputs": [
        {
          "output_type": "execute_result",
          "data": {
            "text/html": [
              "<div>\n",
              "<style scoped>\n",
              "    .dataframe tbody tr th:only-of-type {\n",
              "        vertical-align: middle;\n",
              "    }\n",
              "\n",
              "    .dataframe tbody tr th {\n",
              "        vertical-align: top;\n",
              "    }\n",
              "\n",
              "    .dataframe thead th {\n",
              "        text-align: right;\n",
              "    }\n",
              "</style>\n",
              "<table border=\"1\" class=\"dataframe\">\n",
              "  <thead>\n",
              "    <tr style=\"text-align: right;\">\n",
              "      <th></th>\n",
              "      <th>longitude</th>\n",
              "      <th>latitude</th>\n",
              "      <th>housing_median_age</th>\n",
              "      <th>total_rooms</th>\n",
              "      <th>total_bedrooms</th>\n",
              "      <th>population</th>\n",
              "      <th>households</th>\n",
              "      <th>median_income</th>\n",
              "      <th>median_house_value</th>\n",
              "    </tr>\n",
              "  </thead>\n",
              "  <tbody>\n",
              "    <tr>\n",
              "      <th>0</th>\n",
              "      <td>-114.31</td>\n",
              "      <td>34.19</td>\n",
              "      <td>15.0</td>\n",
              "      <td>5612.0</td>\n",
              "      <td>1283.0</td>\n",
              "      <td>1015.0</td>\n",
              "      <td>472.0</td>\n",
              "      <td>1.4936</td>\n",
              "      <td>66900.0</td>\n",
              "    </tr>\n",
              "    <tr>\n",
              "      <th>1</th>\n",
              "      <td>-114.31</td>\n",
              "      <td>34.40</td>\n",
              "      <td>19.0</td>\n",
              "      <td>7650.0</td>\n",
              "      <td>1901.0</td>\n",
              "      <td>1129.0</td>\n",
              "      <td>472.0</td>\n",
              "      <td>1.8200</td>\n",
              "      <td>80100.0</td>\n",
              "    </tr>\n",
              "    <tr>\n",
              "      <th>2</th>\n",
              "      <td>-114.31</td>\n",
              "      <td>34.40</td>\n",
              "      <td>19.0</td>\n",
              "      <td>7650.0</td>\n",
              "      <td>1901.0</td>\n",
              "      <td>1129.0</td>\n",
              "      <td>472.0</td>\n",
              "      <td>1.8200</td>\n",
              "      <td>85700.0</td>\n",
              "    </tr>\n",
              "    <tr>\n",
              "      <th>3</th>\n",
              "      <td>-114.31</td>\n",
              "      <td>34.40</td>\n",
              "      <td>19.0</td>\n",
              "      <td>7650.0</td>\n",
              "      <td>1901.0</td>\n",
              "      <td>1129.0</td>\n",
              "      <td>472.0</td>\n",
              "      <td>3.1917</td>\n",
              "      <td>85700.0</td>\n",
              "    </tr>\n",
              "    <tr>\n",
              "      <th>4</th>\n",
              "      <td>-114.31</td>\n",
              "      <td>34.40</td>\n",
              "      <td>20.0</td>\n",
              "      <td>7650.0</td>\n",
              "      <td>1901.0</td>\n",
              "      <td>1129.0</td>\n",
              "      <td>472.0</td>\n",
              "      <td>3.1917</td>\n",
              "      <td>85700.0</td>\n",
              "    </tr>\n",
              "    <tr>\n",
              "      <th>...</th>\n",
              "      <td>...</td>\n",
              "      <td>...</td>\n",
              "      <td>...</td>\n",
              "      <td>...</td>\n",
              "      <td>...</td>\n",
              "      <td>...</td>\n",
              "      <td>...</td>\n",
              "      <td>...</td>\n",
              "      <td>...</td>\n",
              "    </tr>\n",
              "    <tr>\n",
              "      <th>16995</th>\n",
              "      <td>-114.31</td>\n",
              "      <td>41.95</td>\n",
              "      <td>52.0</td>\n",
              "      <td>37937.0</td>\n",
              "      <td>6445.0</td>\n",
              "      <td>35682.0</td>\n",
              "      <td>6082.0</td>\n",
              "      <td>15.0001</td>\n",
              "      <td>500001.0</td>\n",
              "    </tr>\n",
              "    <tr>\n",
              "      <th>16996</th>\n",
              "      <td>-114.31</td>\n",
              "      <td>41.95</td>\n",
              "      <td>52.0</td>\n",
              "      <td>37937.0</td>\n",
              "      <td>6445.0</td>\n",
              "      <td>35682.0</td>\n",
              "      <td>6082.0</td>\n",
              "      <td>15.0001</td>\n",
              "      <td>500001.0</td>\n",
              "    </tr>\n",
              "    <tr>\n",
              "      <th>16997</th>\n",
              "      <td>-114.31</td>\n",
              "      <td>41.95</td>\n",
              "      <td>52.0</td>\n",
              "      <td>37937.0</td>\n",
              "      <td>6445.0</td>\n",
              "      <td>35682.0</td>\n",
              "      <td>6082.0</td>\n",
              "      <td>15.0001</td>\n",
              "      <td>500001.0</td>\n",
              "    </tr>\n",
              "    <tr>\n",
              "      <th>16998</th>\n",
              "      <td>-114.31</td>\n",
              "      <td>41.95</td>\n",
              "      <td>52.0</td>\n",
              "      <td>37937.0</td>\n",
              "      <td>6445.0</td>\n",
              "      <td>35682.0</td>\n",
              "      <td>6082.0</td>\n",
              "      <td>15.0001</td>\n",
              "      <td>500001.0</td>\n",
              "    </tr>\n",
              "    <tr>\n",
              "      <th>16999</th>\n",
              "      <td>-114.31</td>\n",
              "      <td>41.95</td>\n",
              "      <td>52.0</td>\n",
              "      <td>37937.0</td>\n",
              "      <td>6445.0</td>\n",
              "      <td>35682.0</td>\n",
              "      <td>6082.0</td>\n",
              "      <td>15.0001</td>\n",
              "      <td>500001.0</td>\n",
              "    </tr>\n",
              "  </tbody>\n",
              "</table>\n",
              "<p>17000 rows × 9 columns</p>\n",
              "</div>"
            ],
            "text/plain": [
              "       longitude  latitude  ...  median_income  median_house_value\n",
              "0        -114.31     34.19  ...         1.4936             66900.0\n",
              "1        -114.31     34.40  ...         1.8200             80100.0\n",
              "2        -114.31     34.40  ...         1.8200             85700.0\n",
              "3        -114.31     34.40  ...         3.1917             85700.0\n",
              "4        -114.31     34.40  ...         3.1917             85700.0\n",
              "...          ...       ...  ...            ...                 ...\n",
              "16995    -114.31     41.95  ...        15.0001            500001.0\n",
              "16996    -114.31     41.95  ...        15.0001            500001.0\n",
              "16997    -114.31     41.95  ...        15.0001            500001.0\n",
              "16998    -114.31     41.95  ...        15.0001            500001.0\n",
              "16999    -114.31     41.95  ...        15.0001            500001.0\n",
              "\n",
              "[17000 rows x 9 columns]"
            ]
          },
          "metadata": {},
          "execution_count": 29
        }
      ]
    },
    {
      "cell_type": "markdown",
      "metadata": {
        "_uuid": "3fcc12a897018a10be30af61dd962ce55783ced6",
        "id": "vY3ExeM_QoAt"
      },
      "source": [
        "### **df.cummin()** <a id=\"32\"></a>\n",
        "This code returns the cumulative min value of the data.\n",
        "\n",
        "<mark>[Return Contents](#0)\n",
        "<hr>"
      ]
    },
    {
      "cell_type": "code",
      "metadata": {
        "trusted": true,
        "_uuid": "1f338476139eeea15cb87f2df4b7f6958daa1e14",
        "colab": {
          "base_uri": "https://localhost:8080/",
          "height": 423
        },
        "id": "dXTtA24hQoAt",
        "outputId": "934fe2ac-77f2-4296-92e4-bb517b3d0fe3"
      },
      "source": [
        "df.cummin()"
      ],
      "execution_count": null,
      "outputs": [
        {
          "output_type": "execute_result",
          "data": {
            "text/html": [
              "<div>\n",
              "<style scoped>\n",
              "    .dataframe tbody tr th:only-of-type {\n",
              "        vertical-align: middle;\n",
              "    }\n",
              "\n",
              "    .dataframe tbody tr th {\n",
              "        vertical-align: top;\n",
              "    }\n",
              "\n",
              "    .dataframe thead th {\n",
              "        text-align: right;\n",
              "    }\n",
              "</style>\n",
              "<table border=\"1\" class=\"dataframe\">\n",
              "  <thead>\n",
              "    <tr style=\"text-align: right;\">\n",
              "      <th></th>\n",
              "      <th>longitude</th>\n",
              "      <th>latitude</th>\n",
              "      <th>housing_median_age</th>\n",
              "      <th>total_rooms</th>\n",
              "      <th>total_bedrooms</th>\n",
              "      <th>population</th>\n",
              "      <th>households</th>\n",
              "      <th>median_income</th>\n",
              "      <th>median_house_value</th>\n",
              "    </tr>\n",
              "  </thead>\n",
              "  <tbody>\n",
              "    <tr>\n",
              "      <th>0</th>\n",
              "      <td>-114.31</td>\n",
              "      <td>34.19</td>\n",
              "      <td>15.0</td>\n",
              "      <td>5612.0</td>\n",
              "      <td>1283.0</td>\n",
              "      <td>1015.0</td>\n",
              "      <td>472.0</td>\n",
              "      <td>1.4936</td>\n",
              "      <td>66900.0</td>\n",
              "    </tr>\n",
              "    <tr>\n",
              "      <th>1</th>\n",
              "      <td>-114.47</td>\n",
              "      <td>34.19</td>\n",
              "      <td>15.0</td>\n",
              "      <td>5612.0</td>\n",
              "      <td>1283.0</td>\n",
              "      <td>1015.0</td>\n",
              "      <td>463.0</td>\n",
              "      <td>1.4936</td>\n",
              "      <td>66900.0</td>\n",
              "    </tr>\n",
              "    <tr>\n",
              "      <th>2</th>\n",
              "      <td>-114.56</td>\n",
              "      <td>33.69</td>\n",
              "      <td>15.0</td>\n",
              "      <td>720.0</td>\n",
              "      <td>174.0</td>\n",
              "      <td>333.0</td>\n",
              "      <td>117.0</td>\n",
              "      <td>1.4936</td>\n",
              "      <td>66900.0</td>\n",
              "    </tr>\n",
              "    <tr>\n",
              "      <th>3</th>\n",
              "      <td>-114.57</td>\n",
              "      <td>33.64</td>\n",
              "      <td>14.0</td>\n",
              "      <td>720.0</td>\n",
              "      <td>174.0</td>\n",
              "      <td>333.0</td>\n",
              "      <td>117.0</td>\n",
              "      <td>1.4936</td>\n",
              "      <td>66900.0</td>\n",
              "    </tr>\n",
              "    <tr>\n",
              "      <th>4</th>\n",
              "      <td>-114.57</td>\n",
              "      <td>33.57</td>\n",
              "      <td>14.0</td>\n",
              "      <td>720.0</td>\n",
              "      <td>174.0</td>\n",
              "      <td>333.0</td>\n",
              "      <td>117.0</td>\n",
              "      <td>1.4936</td>\n",
              "      <td>65500.0</td>\n",
              "    </tr>\n",
              "    <tr>\n",
              "      <th>...</th>\n",
              "      <td>...</td>\n",
              "      <td>...</td>\n",
              "      <td>...</td>\n",
              "      <td>...</td>\n",
              "      <td>...</td>\n",
              "      <td>...</td>\n",
              "      <td>...</td>\n",
              "      <td>...</td>\n",
              "      <td>...</td>\n",
              "    </tr>\n",
              "    <tr>\n",
              "      <th>16995</th>\n",
              "      <td>-124.26</td>\n",
              "      <td>32.54</td>\n",
              "      <td>1.0</td>\n",
              "      <td>2.0</td>\n",
              "      <td>1.0</td>\n",
              "      <td>3.0</td>\n",
              "      <td>1.0</td>\n",
              "      <td>0.4999</td>\n",
              "      <td>14999.0</td>\n",
              "    </tr>\n",
              "    <tr>\n",
              "      <th>16996</th>\n",
              "      <td>-124.27</td>\n",
              "      <td>32.54</td>\n",
              "      <td>1.0</td>\n",
              "      <td>2.0</td>\n",
              "      <td>1.0</td>\n",
              "      <td>3.0</td>\n",
              "      <td>1.0</td>\n",
              "      <td>0.4999</td>\n",
              "      <td>14999.0</td>\n",
              "    </tr>\n",
              "    <tr>\n",
              "      <th>16997</th>\n",
              "      <td>-124.30</td>\n",
              "      <td>32.54</td>\n",
              "      <td>1.0</td>\n",
              "      <td>2.0</td>\n",
              "      <td>1.0</td>\n",
              "      <td>3.0</td>\n",
              "      <td>1.0</td>\n",
              "      <td>0.4999</td>\n",
              "      <td>14999.0</td>\n",
              "    </tr>\n",
              "    <tr>\n",
              "      <th>16998</th>\n",
              "      <td>-124.30</td>\n",
              "      <td>32.54</td>\n",
              "      <td>1.0</td>\n",
              "      <td>2.0</td>\n",
              "      <td>1.0</td>\n",
              "      <td>3.0</td>\n",
              "      <td>1.0</td>\n",
              "      <td>0.4999</td>\n",
              "      <td>14999.0</td>\n",
              "    </tr>\n",
              "    <tr>\n",
              "      <th>16999</th>\n",
              "      <td>-124.35</td>\n",
              "      <td>32.54</td>\n",
              "      <td>1.0</td>\n",
              "      <td>2.0</td>\n",
              "      <td>1.0</td>\n",
              "      <td>3.0</td>\n",
              "      <td>1.0</td>\n",
              "      <td>0.4999</td>\n",
              "      <td>14999.0</td>\n",
              "    </tr>\n",
              "  </tbody>\n",
              "</table>\n",
              "<p>17000 rows × 9 columns</p>\n",
              "</div>"
            ],
            "text/plain": [
              "       longitude  latitude  ...  median_income  median_house_value\n",
              "0        -114.31     34.19  ...         1.4936             66900.0\n",
              "1        -114.47     34.19  ...         1.4936             66900.0\n",
              "2        -114.56     33.69  ...         1.4936             66900.0\n",
              "3        -114.57     33.64  ...         1.4936             66900.0\n",
              "4        -114.57     33.57  ...         1.4936             65500.0\n",
              "...          ...       ...  ...            ...                 ...\n",
              "16995    -124.26     32.54  ...         0.4999             14999.0\n",
              "16996    -124.27     32.54  ...         0.4999             14999.0\n",
              "16997    -124.30     32.54  ...         0.4999             14999.0\n",
              "16998    -124.30     32.54  ...         0.4999             14999.0\n",
              "16999    -124.35     32.54  ...         0.4999             14999.0\n",
              "\n",
              "[17000 rows x 9 columns]"
            ]
          },
          "metadata": {},
          "execution_count": 30
        }
      ]
    },
    {
      "cell_type": "markdown",
      "metadata": {
        "_uuid": "0cd60da3b32d18ebbee2e5c4af63880694ec546a",
        "id": "MOuZ2YlXQoAt"
      },
      "source": [
        "### **df['columnName'].cumproad()** <a id=\"33\"></a>\n",
        "This code returns the cumulative production of the data.\n",
        "\n",
        "<mark>[Return Contents](#0)\n",
        "<hr>"
      ]
    },
    {
      "cell_type": "code",
      "metadata": {
        "trusted": true,
        "_uuid": "b1ada72f4fa74e8caf4962f0901b301b110c4ef0",
        "colab": {
          "base_uri": "https://localhost:8080/"
        },
        "id": "eZbQXXA2QoAt",
        "outputId": "e745d32c-49c3-47cb-f4e0-6dbe574bf768"
      },
      "source": [
        "df['total_rooms'].cumprod().head()"
      ],
      "execution_count": null,
      "outputs": [
        {
          "output_type": "execute_result",
          "data": {
            "text/plain": [
              "0    5.612000e+03\n",
              "1    4.293180e+07\n",
              "2    3.091090e+10\n",
              "3    4.639725e+13\n",
              "4    6.746161e+16\n",
              "Name: total_rooms, dtype: float64"
            ]
          },
          "metadata": {},
          "execution_count": 33
        }
      ]
    },
    {
      "cell_type": "markdown",
      "metadata": {
        "_uuid": "dbbb7f7547fa7499cd81ef2e2ceb6e62e353f193",
        "id": "QeWjc7ePQoAt"
      },
      "source": [
        "### **len(df)** <a id=\"34\"></a>\n",
        "This code gives you how many data there is.\n",
        "\n",
        "<mark>[Return Contents](#0)\n",
        "<hr>"
      ]
    },
    {
      "cell_type": "code",
      "metadata": {
        "trusted": true,
        "_uuid": "e773df58aa59556aea40bbd379b47cb99bfc5629",
        "colab": {
          "base_uri": "https://localhost:8080/"
        },
        "id": "jNQ6bQxqQoAt",
        "outputId": "add31d03-45ef-457d-d04a-12d1623d88fb"
      },
      "source": [
        "len(df)"
      ],
      "execution_count": null,
      "outputs": [
        {
          "output_type": "execute_result",
          "data": {
            "text/plain": [
              "17000"
            ]
          },
          "metadata": {},
          "execution_count": 34
        }
      ]
    },
    {
      "cell_type": "markdown",
      "metadata": {
        "_uuid": "14ff3ff54a24aa3ad8996f3ef68e119a7b03f8f9",
        "id": "WycUJvuvQoAt"
      },
      "source": [
        "### **df.isnull()** <a id=\"35\"></a>\n",
        "Checks for null values, returns boolean.\n",
        "\n",
        "<mark>[Return Contents](#0)\n",
        "<hr>"
      ]
    },
    {
      "cell_type": "code",
      "metadata": {
        "trusted": true,
        "_uuid": "d6c4c3ed8f7bd639db1eb3487a5e61aff1651847",
        "colab": {
          "base_uri": "https://localhost:8080/",
          "height": 206
        },
        "id": "04vcwlg-QoAt",
        "outputId": "626ea9b4-38fd-48fa-c274-06df72441a0e"
      },
      "source": [
        "df.isnull().head()"
      ],
      "execution_count": null,
      "outputs": [
        {
          "output_type": "execute_result",
          "data": {
            "text/html": [
              "<div>\n",
              "<style scoped>\n",
              "    .dataframe tbody tr th:only-of-type {\n",
              "        vertical-align: middle;\n",
              "    }\n",
              "\n",
              "    .dataframe tbody tr th {\n",
              "        vertical-align: top;\n",
              "    }\n",
              "\n",
              "    .dataframe thead th {\n",
              "        text-align: right;\n",
              "    }\n",
              "</style>\n",
              "<table border=\"1\" class=\"dataframe\">\n",
              "  <thead>\n",
              "    <tr style=\"text-align: right;\">\n",
              "      <th></th>\n",
              "      <th>longitude</th>\n",
              "      <th>latitude</th>\n",
              "      <th>housing_median_age</th>\n",
              "      <th>total_rooms</th>\n",
              "      <th>total_bedrooms</th>\n",
              "      <th>population</th>\n",
              "      <th>households</th>\n",
              "      <th>median_income</th>\n",
              "      <th>median_house_value</th>\n",
              "    </tr>\n",
              "  </thead>\n",
              "  <tbody>\n",
              "    <tr>\n",
              "      <th>0</th>\n",
              "      <td>False</td>\n",
              "      <td>False</td>\n",
              "      <td>False</td>\n",
              "      <td>False</td>\n",
              "      <td>False</td>\n",
              "      <td>False</td>\n",
              "      <td>False</td>\n",
              "      <td>False</td>\n",
              "      <td>False</td>\n",
              "    </tr>\n",
              "    <tr>\n",
              "      <th>1</th>\n",
              "      <td>False</td>\n",
              "      <td>False</td>\n",
              "      <td>False</td>\n",
              "      <td>False</td>\n",
              "      <td>False</td>\n",
              "      <td>False</td>\n",
              "      <td>False</td>\n",
              "      <td>False</td>\n",
              "      <td>False</td>\n",
              "    </tr>\n",
              "    <tr>\n",
              "      <th>2</th>\n",
              "      <td>False</td>\n",
              "      <td>False</td>\n",
              "      <td>False</td>\n",
              "      <td>False</td>\n",
              "      <td>False</td>\n",
              "      <td>False</td>\n",
              "      <td>False</td>\n",
              "      <td>False</td>\n",
              "      <td>False</td>\n",
              "    </tr>\n",
              "    <tr>\n",
              "      <th>3</th>\n",
              "      <td>False</td>\n",
              "      <td>False</td>\n",
              "      <td>False</td>\n",
              "      <td>False</td>\n",
              "      <td>False</td>\n",
              "      <td>False</td>\n",
              "      <td>False</td>\n",
              "      <td>False</td>\n",
              "      <td>False</td>\n",
              "    </tr>\n",
              "    <tr>\n",
              "      <th>4</th>\n",
              "      <td>False</td>\n",
              "      <td>False</td>\n",
              "      <td>False</td>\n",
              "      <td>False</td>\n",
              "      <td>False</td>\n",
              "      <td>False</td>\n",
              "      <td>False</td>\n",
              "      <td>False</td>\n",
              "      <td>False</td>\n",
              "    </tr>\n",
              "  </tbody>\n",
              "</table>\n",
              "</div>"
            ],
            "text/plain": [
              "   longitude  latitude  ...  median_income  median_house_value\n",
              "0      False     False  ...          False               False\n",
              "1      False     False  ...          False               False\n",
              "2      False     False  ...          False               False\n",
              "3      False     False  ...          False               False\n",
              "4      False     False  ...          False               False\n",
              "\n",
              "[5 rows x 9 columns]"
            ]
          },
          "metadata": {},
          "execution_count": 35
        }
      ]
    },
    {
      "cell_type": "markdown",
      "metadata": {
        "_uuid": "9c2242ccb54b0cccecd0f5ebdfda70f454cb35d7",
        "id": "GFCdyEnRQoAt"
      },
      "source": [
        "### **df.corr()** <a id=\"81\"></a>\n",
        "it gives information about the correlation between the data.\n",
        "\n",
        "<mark>[Return Contents](#0)\n",
        "<hr>"
      ]
    },
    {
      "cell_type": "code",
      "metadata": {
        "trusted": true,
        "_uuid": "7ad15ffbc630aa1ffbeebe5270844112e1c88b18",
        "colab": {
          "base_uri": "https://localhost:8080/",
          "height": 331
        },
        "id": "HQQhngFfQoAu",
        "outputId": "8d9f820d-7ed6-4828-a7c6-c9156f010be1"
      },
      "source": [
        "df.corr()"
      ],
      "execution_count": null,
      "outputs": [
        {
          "output_type": "execute_result",
          "data": {
            "text/html": [
              "<div>\n",
              "<style scoped>\n",
              "    .dataframe tbody tr th:only-of-type {\n",
              "        vertical-align: middle;\n",
              "    }\n",
              "\n",
              "    .dataframe tbody tr th {\n",
              "        vertical-align: top;\n",
              "    }\n",
              "\n",
              "    .dataframe thead th {\n",
              "        text-align: right;\n",
              "    }\n",
              "</style>\n",
              "<table border=\"1\" class=\"dataframe\">\n",
              "  <thead>\n",
              "    <tr style=\"text-align: right;\">\n",
              "      <th></th>\n",
              "      <th>longitude</th>\n",
              "      <th>latitude</th>\n",
              "      <th>housing_median_age</th>\n",
              "      <th>total_rooms</th>\n",
              "      <th>total_bedrooms</th>\n",
              "      <th>population</th>\n",
              "      <th>households</th>\n",
              "      <th>median_income</th>\n",
              "      <th>median_house_value</th>\n",
              "    </tr>\n",
              "  </thead>\n",
              "  <tbody>\n",
              "    <tr>\n",
              "      <th>longitude</th>\n",
              "      <td>1.000000</td>\n",
              "      <td>-0.925208</td>\n",
              "      <td>-0.114250</td>\n",
              "      <td>0.047010</td>\n",
              "      <td>0.071802</td>\n",
              "      <td>0.101674</td>\n",
              "      <td>0.059628</td>\n",
              "      <td>-0.015485</td>\n",
              "      <td>-0.044982</td>\n",
              "    </tr>\n",
              "    <tr>\n",
              "      <th>latitude</th>\n",
              "      <td>-0.925208</td>\n",
              "      <td>1.000000</td>\n",
              "      <td>0.016454</td>\n",
              "      <td>-0.038773</td>\n",
              "      <td>-0.069373</td>\n",
              "      <td>-0.111261</td>\n",
              "      <td>-0.074902</td>\n",
              "      <td>-0.080303</td>\n",
              "      <td>-0.144917</td>\n",
              "    </tr>\n",
              "    <tr>\n",
              "      <th>housing_median_age</th>\n",
              "      <td>-0.114250</td>\n",
              "      <td>0.016454</td>\n",
              "      <td>1.000000</td>\n",
              "      <td>-0.360984</td>\n",
              "      <td>-0.320434</td>\n",
              "      <td>-0.295890</td>\n",
              "      <td>-0.302754</td>\n",
              "      <td>-0.115932</td>\n",
              "      <td>0.106758</td>\n",
              "    </tr>\n",
              "    <tr>\n",
              "      <th>total_rooms</th>\n",
              "      <td>0.047010</td>\n",
              "      <td>-0.038773</td>\n",
              "      <td>-0.360984</td>\n",
              "      <td>1.000000</td>\n",
              "      <td>0.928403</td>\n",
              "      <td>0.860170</td>\n",
              "      <td>0.919018</td>\n",
              "      <td>0.195383</td>\n",
              "      <td>0.130991</td>\n",
              "    </tr>\n",
              "    <tr>\n",
              "      <th>total_bedrooms</th>\n",
              "      <td>0.071802</td>\n",
              "      <td>-0.069373</td>\n",
              "      <td>-0.320434</td>\n",
              "      <td>0.928403</td>\n",
              "      <td>1.000000</td>\n",
              "      <td>0.881169</td>\n",
              "      <td>0.980920</td>\n",
              "      <td>-0.013495</td>\n",
              "      <td>0.045783</td>\n",
              "    </tr>\n",
              "    <tr>\n",
              "      <th>population</th>\n",
              "      <td>0.101674</td>\n",
              "      <td>-0.111261</td>\n",
              "      <td>-0.295890</td>\n",
              "      <td>0.860170</td>\n",
              "      <td>0.881169</td>\n",
              "      <td>1.000000</td>\n",
              "      <td>0.909247</td>\n",
              "      <td>-0.000638</td>\n",
              "      <td>-0.027850</td>\n",
              "    </tr>\n",
              "    <tr>\n",
              "      <th>households</th>\n",
              "      <td>0.059628</td>\n",
              "      <td>-0.074902</td>\n",
              "      <td>-0.302754</td>\n",
              "      <td>0.919018</td>\n",
              "      <td>0.980920</td>\n",
              "      <td>0.909247</td>\n",
              "      <td>1.000000</td>\n",
              "      <td>0.007644</td>\n",
              "      <td>0.061031</td>\n",
              "    </tr>\n",
              "    <tr>\n",
              "      <th>median_income</th>\n",
              "      <td>-0.015485</td>\n",
              "      <td>-0.080303</td>\n",
              "      <td>-0.115932</td>\n",
              "      <td>0.195383</td>\n",
              "      <td>-0.013495</td>\n",
              "      <td>-0.000638</td>\n",
              "      <td>0.007644</td>\n",
              "      <td>1.000000</td>\n",
              "      <td>0.691871</td>\n",
              "    </tr>\n",
              "    <tr>\n",
              "      <th>median_house_value</th>\n",
              "      <td>-0.044982</td>\n",
              "      <td>-0.144917</td>\n",
              "      <td>0.106758</td>\n",
              "      <td>0.130991</td>\n",
              "      <td>0.045783</td>\n",
              "      <td>-0.027850</td>\n",
              "      <td>0.061031</td>\n",
              "      <td>0.691871</td>\n",
              "      <td>1.000000</td>\n",
              "    </tr>\n",
              "  </tbody>\n",
              "</table>\n",
              "</div>"
            ],
            "text/plain": [
              "                    longitude  latitude  ...  median_income  median_house_value\n",
              "longitude            1.000000 -0.925208  ...      -0.015485           -0.044982\n",
              "latitude            -0.925208  1.000000  ...      -0.080303           -0.144917\n",
              "housing_median_age  -0.114250  0.016454  ...      -0.115932            0.106758\n",
              "total_rooms          0.047010 -0.038773  ...       0.195383            0.130991\n",
              "total_bedrooms       0.071802 -0.069373  ...      -0.013495            0.045783\n",
              "population           0.101674 -0.111261  ...      -0.000638           -0.027850\n",
              "households           0.059628 -0.074902  ...       0.007644            0.061031\n",
              "median_income       -0.015485 -0.080303  ...       1.000000            0.691871\n",
              "median_house_value  -0.044982 -0.144917  ...       0.691871            1.000000\n",
              "\n",
              "[9 rows x 9 columns]"
            ]
          },
          "metadata": {},
          "execution_count": 36
        }
      ]
    },
    {
      "cell_type": "markdown",
      "metadata": {
        "_uuid": "37ec533a2bdbadc4271c1eabe3956ca7f112bf11",
        "id": "AoqGB9TjQoAu"
      },
      "source": [
        "# **Selection & Filtering** <a id=\"36\"></a>\n",
        "<mark>[Return Contents](#0)\n",
        "<hr>\n",
        "\n",
        "This is how we can choose the data we want with pandas, how we can bring unique data."
      ]
    },
    {
      "cell_type": "markdown",
      "metadata": {
        "_uuid": "cd86aed11ba3388bee1c7038fa653bdd0c40b88c",
        "id": "2RgAwUbwQoAu"
      },
      "source": [
        "### **mySeries['b']** <a id=\"37\"></a>\n",
        "This code returns data with a value of B in series.\n",
        "\n",
        "<mark>[Return Contents](#0)\n",
        "<hr>"
      ]
    },
    {
      "cell_type": "code",
      "metadata": {
        "trusted": true,
        "_uuid": "d296ecf3432c28312feb0784abb4967686f7e0bc",
        "colab": {
          "base_uri": "https://localhost:8080/"
        },
        "id": "Igdi5YM0QoAu",
        "outputId": "785b9787-e324-4413-bc02-cb373f4e8ebe"
      },
      "source": [
        "mySeries['b']"
      ],
      "execution_count": null,
      "outputs": [
        {
          "output_type": "execute_result",
          "data": {
            "text/plain": [
              "-5"
            ]
          },
          "metadata": {},
          "execution_count": 37
        }
      ]
    },
    {
      "cell_type": "markdown",
      "metadata": {
        "_uuid": "b0276f695b6ee645cf6c65fc15198973b1bf1b2f",
        "id": "1JD0vvylQoAu"
      },
      "source": [
        "### **df[n:n]** <a id=\"38\"></a>\n",
        "This code fetches data from N to N.\n",
        "\n",
        "<mark>[Return Contents](#0)\n",
        "<hr>"
      ]
    },
    {
      "cell_type": "code",
      "metadata": {
        "trusted": true,
        "_uuid": "68fc73b45d10fbba5dbf09ebcf87621885bf1787",
        "colab": {
          "base_uri": "https://localhost:8080/",
          "height": 423
        },
        "id": "Kks0vgRkQoAu",
        "outputId": "7543e1d7-5f71-40ab-c091-6ce2cacc4118"
      },
      "source": [
        "df[1982:]\n",
        "#Or\n",
        "#df[5:7]"
      ],
      "execution_count": null,
      "outputs": [
        {
          "output_type": "execute_result",
          "data": {
            "text/html": [
              "<div>\n",
              "<style scoped>\n",
              "    .dataframe tbody tr th:only-of-type {\n",
              "        vertical-align: middle;\n",
              "    }\n",
              "\n",
              "    .dataframe tbody tr th {\n",
              "        vertical-align: top;\n",
              "    }\n",
              "\n",
              "    .dataframe thead th {\n",
              "        text-align: right;\n",
              "    }\n",
              "</style>\n",
              "<table border=\"1\" class=\"dataframe\">\n",
              "  <thead>\n",
              "    <tr style=\"text-align: right;\">\n",
              "      <th></th>\n",
              "      <th>longitude</th>\n",
              "      <th>latitude</th>\n",
              "      <th>housing_median_age</th>\n",
              "      <th>total_rooms</th>\n",
              "      <th>total_bedrooms</th>\n",
              "      <th>population</th>\n",
              "      <th>households</th>\n",
              "      <th>median_income</th>\n",
              "      <th>median_house_value</th>\n",
              "    </tr>\n",
              "  </thead>\n",
              "  <tbody>\n",
              "    <tr>\n",
              "      <th>1982</th>\n",
              "      <td>-117.31</td>\n",
              "      <td>34.11</td>\n",
              "      <td>52.0</td>\n",
              "      <td>851.0</td>\n",
              "      <td>190.0</td>\n",
              "      <td>731.0</td>\n",
              "      <td>190.0</td>\n",
              "      <td>1.9044</td>\n",
              "      <td>64900.0</td>\n",
              "    </tr>\n",
              "    <tr>\n",
              "      <th>1983</th>\n",
              "      <td>-117.31</td>\n",
              "      <td>34.11</td>\n",
              "      <td>41.0</td>\n",
              "      <td>1105.0</td>\n",
              "      <td>257.0</td>\n",
              "      <td>816.0</td>\n",
              "      <td>197.0</td>\n",
              "      <td>1.9375</td>\n",
              "      <td>64100.0</td>\n",
              "    </tr>\n",
              "    <tr>\n",
              "      <th>1984</th>\n",
              "      <td>-117.31</td>\n",
              "      <td>34.10</td>\n",
              "      <td>52.0</td>\n",
              "      <td>1457.0</td>\n",
              "      <td>415.0</td>\n",
              "      <td>1238.0</td>\n",
              "      <td>341.0</td>\n",
              "      <td>2.0089</td>\n",
              "      <td>68100.0</td>\n",
              "    </tr>\n",
              "    <tr>\n",
              "      <th>1985</th>\n",
              "      <td>-117.31</td>\n",
              "      <td>34.09</td>\n",
              "      <td>34.0</td>\n",
              "      <td>1336.0</td>\n",
              "      <td>345.0</td>\n",
              "      <td>1009.0</td>\n",
              "      <td>311.0</td>\n",
              "      <td>1.6080</td>\n",
              "      <td>73700.0</td>\n",
              "    </tr>\n",
              "    <tr>\n",
              "      <th>1986</th>\n",
              "      <td>-117.31</td>\n",
              "      <td>34.08</td>\n",
              "      <td>43.0</td>\n",
              "      <td>1697.0</td>\n",
              "      <td>387.0</td>\n",
              "      <td>1181.0</td>\n",
              "      <td>352.0</td>\n",
              "      <td>1.9234</td>\n",
              "      <td>74600.0</td>\n",
              "    </tr>\n",
              "    <tr>\n",
              "      <th>...</th>\n",
              "      <td>...</td>\n",
              "      <td>...</td>\n",
              "      <td>...</td>\n",
              "      <td>...</td>\n",
              "      <td>...</td>\n",
              "      <td>...</td>\n",
              "      <td>...</td>\n",
              "      <td>...</td>\n",
              "      <td>...</td>\n",
              "    </tr>\n",
              "    <tr>\n",
              "      <th>16995</th>\n",
              "      <td>-124.26</td>\n",
              "      <td>40.58</td>\n",
              "      <td>52.0</td>\n",
              "      <td>2217.0</td>\n",
              "      <td>394.0</td>\n",
              "      <td>907.0</td>\n",
              "      <td>369.0</td>\n",
              "      <td>2.3571</td>\n",
              "      <td>111400.0</td>\n",
              "    </tr>\n",
              "    <tr>\n",
              "      <th>16996</th>\n",
              "      <td>-124.27</td>\n",
              "      <td>40.69</td>\n",
              "      <td>36.0</td>\n",
              "      <td>2349.0</td>\n",
              "      <td>528.0</td>\n",
              "      <td>1194.0</td>\n",
              "      <td>465.0</td>\n",
              "      <td>2.5179</td>\n",
              "      <td>79000.0</td>\n",
              "    </tr>\n",
              "    <tr>\n",
              "      <th>16997</th>\n",
              "      <td>-124.30</td>\n",
              "      <td>41.84</td>\n",
              "      <td>17.0</td>\n",
              "      <td>2677.0</td>\n",
              "      <td>531.0</td>\n",
              "      <td>1244.0</td>\n",
              "      <td>456.0</td>\n",
              "      <td>3.0313</td>\n",
              "      <td>103600.0</td>\n",
              "    </tr>\n",
              "    <tr>\n",
              "      <th>16998</th>\n",
              "      <td>-124.30</td>\n",
              "      <td>41.80</td>\n",
              "      <td>19.0</td>\n",
              "      <td>2672.0</td>\n",
              "      <td>552.0</td>\n",
              "      <td>1298.0</td>\n",
              "      <td>478.0</td>\n",
              "      <td>1.9797</td>\n",
              "      <td>85800.0</td>\n",
              "    </tr>\n",
              "    <tr>\n",
              "      <th>16999</th>\n",
              "      <td>-124.35</td>\n",
              "      <td>40.54</td>\n",
              "      <td>52.0</td>\n",
              "      <td>1820.0</td>\n",
              "      <td>300.0</td>\n",
              "      <td>806.0</td>\n",
              "      <td>270.0</td>\n",
              "      <td>3.0147</td>\n",
              "      <td>94600.0</td>\n",
              "    </tr>\n",
              "  </tbody>\n",
              "</table>\n",
              "<p>15018 rows × 9 columns</p>\n",
              "</div>"
            ],
            "text/plain": [
              "       longitude  latitude  ...  median_income  median_house_value\n",
              "1982     -117.31     34.11  ...         1.9044             64900.0\n",
              "1983     -117.31     34.11  ...         1.9375             64100.0\n",
              "1984     -117.31     34.10  ...         2.0089             68100.0\n",
              "1985     -117.31     34.09  ...         1.6080             73700.0\n",
              "1986     -117.31     34.08  ...         1.9234             74600.0\n",
              "...          ...       ...  ...            ...                 ...\n",
              "16995    -124.26     40.58  ...         2.3571            111400.0\n",
              "16996    -124.27     40.69  ...         2.5179             79000.0\n",
              "16997    -124.30     41.84  ...         3.0313            103600.0\n",
              "16998    -124.30     41.80  ...         1.9797             85800.0\n",
              "16999    -124.35     40.54  ...         3.0147             94600.0\n",
              "\n",
              "[15018 rows x 9 columns]"
            ]
          },
          "metadata": {},
          "execution_count": 38
        }
      ]
    },
    {
      "cell_type": "markdown",
      "metadata": {
        "_uuid": "0d16f5649598feb417b990ac8d6e1571a193ef35",
        "id": "Djuu59mkQoAu"
      },
      "source": [
        "### **df.iloc[[n],[n]]** <a id=\"39\"></a>\n",
        "This code brings the data in the N row and N column in the DataFrame.\n",
        "\n",
        "<mark>[Return Contents](#0)\n",
        "<hr>"
      ]
    },
    {
      "cell_type": "code",
      "metadata": {
        "trusted": true,
        "_uuid": "de6796a0684aac7f6c37c9c9ff3e67308ba20adb",
        "colab": {
          "base_uri": "https://localhost:8080/",
          "height": 81
        },
        "id": "xpFjPqOXQoAu",
        "outputId": "9d8e1822-7d0b-480c-bb58-0c8a8378c08b"
      },
      "source": [
        "df.iloc[[0],[3]]"
      ],
      "execution_count": null,
      "outputs": [
        {
          "output_type": "execute_result",
          "data": {
            "text/html": [
              "<div>\n",
              "<style scoped>\n",
              "    .dataframe tbody tr th:only-of-type {\n",
              "        vertical-align: middle;\n",
              "    }\n",
              "\n",
              "    .dataframe tbody tr th {\n",
              "        vertical-align: top;\n",
              "    }\n",
              "\n",
              "    .dataframe thead th {\n",
              "        text-align: right;\n",
              "    }\n",
              "</style>\n",
              "<table border=\"1\" class=\"dataframe\">\n",
              "  <thead>\n",
              "    <tr style=\"text-align: right;\">\n",
              "      <th></th>\n",
              "      <th>total_rooms</th>\n",
              "    </tr>\n",
              "  </thead>\n",
              "  <tbody>\n",
              "    <tr>\n",
              "      <th>0</th>\n",
              "      <td>5612.0</td>\n",
              "    </tr>\n",
              "  </tbody>\n",
              "</table>\n",
              "</div>"
            ],
            "text/plain": [
              "   total_rooms\n",
              "0       5612.0"
            ]
          },
          "metadata": {},
          "execution_count": 39
        }
      ]
    },
    {
      "cell_type": "markdown",
      "metadata": {
        "_uuid": "bb3b27a4c73fa3bccaf3457e8a6a8bacdb7f8b88",
        "id": "34RolW3xQoAu"
      },
      "source": [
        "### **df.loc[n:n]** <a id=\"40\"></a>\n",
        "This code allows us to fetch the data in the range we specify.\n",
        "\n",
        "<mark>[Return Contents](#0)\n",
        "<hr>"
      ]
    },
    {
      "cell_type": "code",
      "metadata": {
        "trusted": true,
        "_uuid": "e0791dc5f7012b248d6216bc3edfc5af591c50ea",
        "colab": {
          "base_uri": "https://localhost:8080/",
          "height": 143
        },
        "id": "84803zILQoAu",
        "outputId": "8f36b60f-e862-48fd-d9f5-80b677da2d70"
      },
      "source": [
        "#df.loc[n:]\n",
        "# OR\n",
        "df.loc[5:7]"
      ],
      "execution_count": null,
      "outputs": [
        {
          "output_type": "execute_result",
          "data": {
            "text/html": [
              "<div>\n",
              "<style scoped>\n",
              "    .dataframe tbody tr th:only-of-type {\n",
              "        vertical-align: middle;\n",
              "    }\n",
              "\n",
              "    .dataframe tbody tr th {\n",
              "        vertical-align: top;\n",
              "    }\n",
              "\n",
              "    .dataframe thead th {\n",
              "        text-align: right;\n",
              "    }\n",
              "</style>\n",
              "<table border=\"1\" class=\"dataframe\">\n",
              "  <thead>\n",
              "    <tr style=\"text-align: right;\">\n",
              "      <th></th>\n",
              "      <th>longitude</th>\n",
              "      <th>latitude</th>\n",
              "      <th>housing_median_age</th>\n",
              "      <th>total_rooms</th>\n",
              "      <th>total_bedrooms</th>\n",
              "      <th>population</th>\n",
              "      <th>households</th>\n",
              "      <th>median_income</th>\n",
              "      <th>median_house_value</th>\n",
              "    </tr>\n",
              "  </thead>\n",
              "  <tbody>\n",
              "    <tr>\n",
              "      <th>5</th>\n",
              "      <td>-114.58</td>\n",
              "      <td>33.63</td>\n",
              "      <td>29.0</td>\n",
              "      <td>1387.0</td>\n",
              "      <td>236.0</td>\n",
              "      <td>671.0</td>\n",
              "      <td>239.0</td>\n",
              "      <td>3.3438</td>\n",
              "      <td>74000.0</td>\n",
              "    </tr>\n",
              "    <tr>\n",
              "      <th>6</th>\n",
              "      <td>-114.58</td>\n",
              "      <td>33.61</td>\n",
              "      <td>25.0</td>\n",
              "      <td>2907.0</td>\n",
              "      <td>680.0</td>\n",
              "      <td>1841.0</td>\n",
              "      <td>633.0</td>\n",
              "      <td>2.6768</td>\n",
              "      <td>82400.0</td>\n",
              "    </tr>\n",
              "    <tr>\n",
              "      <th>7</th>\n",
              "      <td>-114.59</td>\n",
              "      <td>34.83</td>\n",
              "      <td>41.0</td>\n",
              "      <td>812.0</td>\n",
              "      <td>168.0</td>\n",
              "      <td>375.0</td>\n",
              "      <td>158.0</td>\n",
              "      <td>1.7083</td>\n",
              "      <td>48500.0</td>\n",
              "    </tr>\n",
              "  </tbody>\n",
              "</table>\n",
              "</div>"
            ],
            "text/plain": [
              "   longitude  latitude  ...  median_income  median_house_value\n",
              "5    -114.58     33.63  ...         3.3438             74000.0\n",
              "6    -114.58     33.61  ...         2.6768             82400.0\n",
              "7    -114.59     34.83  ...         1.7083             48500.0\n",
              "\n",
              "[3 rows x 9 columns]"
            ]
          },
          "metadata": {},
          "execution_count": 40
        }
      ]
    },
    {
      "cell_type": "markdown",
      "metadata": {
        "_uuid": "5d7dfc275348d58e53436938e96d3233b4d6753e",
        "id": "XqBZ3AyBQoAu"
      },
      "source": [
        "### **df['columnName']** <a id=\"41\"></a>\n",
        "With this code, we can select and bring any column we want.\n",
        "\n",
        "<mark>[Return Contents](#0)\n",
        "<hr>"
      ]
    },
    {
      "cell_type": "code",
      "metadata": {
        "trusted": true,
        "_uuid": "da3167e40f0419054bde6e6d168bb22bce24973b",
        "colab": {
          "base_uri": "https://localhost:8080/"
        },
        "id": "asE3ygEpQoAu",
        "outputId": "924a69e9-5fce-49da-9c8a-1e83ffed09b0"
      },
      "source": [
        "df['total_rooms'].head()\n",
        "# OR\n",
        "# df.Open"
      ],
      "execution_count": null,
      "outputs": [
        {
          "output_type": "execute_result",
          "data": {
            "text/plain": [
              "0    5612.0\n",
              "1    7650.0\n",
              "2     720.0\n",
              "3    1501.0\n",
              "4    1454.0\n",
              "Name: total_rooms, dtype: float64"
            ]
          },
          "metadata": {},
          "execution_count": 41
        }
      ]
    },
    {
      "cell_type": "markdown",
      "metadata": {
        "_uuid": "394d9e7a7b3bd7077a490a264ef4d308e035771f",
        "id": "6M6w8qsNQoAv"
      },
      "source": [
        "### **df['columnName'][n]** <a id=\"42\"></a>\n",
        "With this code, we can select and return any value of the column we want.\n",
        "\n",
        "<mark>[Return Contents](#0)\n",
        "<hr>"
      ]
    },
    {
      "cell_type": "code",
      "metadata": {
        "trusted": true,
        "_uuid": "40f514f220034b9d27c8390147c577f69a5c5dac",
        "colab": {
          "base_uri": "https://localhost:8080/"
        },
        "id": "kfLrEL2wQoAv",
        "outputId": "6a8ad667-9c42-4fc5-d47a-64397c4fbf99"
      },
      "source": [
        "df['total_rooms'][0]\n",
        "# OR\n",
        "# df.Open[0]\n",
        "# df[\"Open\"][1]\n",
        "# df.loc[1,[\"Open\"]]"
      ],
      "execution_count": null,
      "outputs": [
        {
          "output_type": "execute_result",
          "data": {
            "text/plain": [
              "5612.0"
            ]
          },
          "metadata": {},
          "execution_count": 42
        }
      ]
    },
    {
      "cell_type": "markdown",
      "metadata": {
        "_uuid": "714c9cc591916b1bd88f2bc164a76aa37092ab3e",
        "id": "LFq47ou7QoAv"
      },
      "source": [
        "### **df['columnName'].nunique()** <a id=\"43\"></a>\n",
        "This code shows how many of the data that is in the selected column and does not repeat.\n",
        "\n",
        "<mark>[Return Contents](#0)\n",
        "<hr>"
      ]
    },
    {
      "cell_type": "code",
      "metadata": {
        "trusted": true,
        "_uuid": "7e5559e6f63e2d975e99666574f110b87a58e74a",
        "colab": {
          "base_uri": "https://localhost:8080/"
        },
        "id": "kQCuYmb-QoAv",
        "outputId": "911ac063-2f42-47e2-c7bc-15c9bfd619cf"
      },
      "source": [
        "df['total_rooms'].nunique()"
      ],
      "execution_count": null,
      "outputs": [
        {
          "output_type": "execute_result",
          "data": {
            "text/plain": [
              "5533"
            ]
          },
          "metadata": {},
          "execution_count": 43
        }
      ]
    },
    {
      "cell_type": "markdown",
      "metadata": {
        "_uuid": "1326f2c62207fd3345f16bfc5728b8ddf3988257",
        "id": "K_5Xt6lbQoAv"
      },
      "source": [
        "### **df['columnName'].unique()** <a id=\"44\"></a>\n",
        "This code shows which of the data in the selected column repeats.\n",
        "\n",
        "<mark>[Return Contents](#0)\n",
        "<hr>"
      ]
    },
    {
      "cell_type": "code",
      "metadata": {
        "trusted": true,
        "_uuid": "88ffb43d255ad0a471be3a27732e3c5158ba8fd7",
        "colab": {
          "base_uri": "https://localhost:8080/"
        },
        "id": "31bGZAZoQoAv",
        "outputId": "a0dad86f-299a-41da-f202-5c0978ed1688"
      },
      "source": [
        "df['total_rooms'].unique()\n",
        "# We can write the above code as follows:: df.Open.unique()"
      ],
      "execution_count": null,
      "outputs": [
        {
          "output_type": "execute_result",
          "data": {
            "text/plain": [
              "array([5612., 7650.,  720., ..., 3810., 3003., 2694.])"
            ]
          },
          "metadata": {},
          "execution_count": 44
        }
      ]
    },
    {
      "cell_type": "markdown",
      "metadata": {
        "_uuid": "a394405d4c8055ace028e2b360af9a495e3aca79",
        "id": "Vb7dJGQAQoAv"
      },
      "source": [
        "### **df.columnName** <a id=\"45\"></a>\n",
        "This code is another way to select the column we want.\n",
        "\n",
        "<mark>[Return Contents](#0)\n",
        "<hr>"
      ]
    },
    {
      "cell_type": "code",
      "metadata": {
        "trusted": true,
        "_uuid": "5fb80a8a47528d73d77d0369d27ad02855a675e6",
        "colab": {
          "base_uri": "https://localhost:8080/"
        },
        "id": "LSD_yRCrQoAv",
        "outputId": "3f90e383-a640-4a6a-a46d-801884426b26"
      },
      "source": [
        "df.total_rooms.head()"
      ],
      "execution_count": null,
      "outputs": [
        {
          "output_type": "execute_result",
          "data": {
            "text/plain": [
              "0    5612.0\n",
              "1    7650.0\n",
              "2     720.0\n",
              "3    1501.0\n",
              "4    1454.0\n",
              "Name: total_rooms, dtype: float64"
            ]
          },
          "metadata": {},
          "execution_count": 45
        }
      ]
    },
    {
      "cell_type": "markdown",
      "metadata": {
        "_uuid": "260398cf0a5fd7774021f5b85aa651d76869fe61",
        "id": "4Li42szXQoAv"
      },
      "source": [
        "### **df['columnName'].value_counts(dropna =False)** <a id=\"46\"></a>\n",
        "This code counts all of the data in the column we have specified, but does not count the null/none values.\n",
        "\n",
        "<mark>[Return Contents](#0)\n",
        "<hr>"
      ]
    },
    {
      "cell_type": "code",
      "metadata": {
        "trusted": true,
        "_uuid": "6bed66e2f74a1f00e10fad7cf874b962cb3bdfc8",
        "colab": {
          "base_uri": "https://localhost:8080/"
        },
        "id": "b1TF8cgyQoAv",
        "outputId": "c2caeeac-21c0-4679-e4f7-06bb29ffd774"
      },
      "source": [
        "print(df.total_rooms.value_counts(dropna =True).head())\n",
        "# OR\n",
        "# print(df['Item'].value_counts(dropna =False))"
      ],
      "execution_count": null,
      "outputs": [
        {
          "output_type": "stream",
          "name": "stdout",
          "text": [
            "1582.0    16\n",
            "1527.0    15\n",
            "1717.0    14\n",
            "1471.0    14\n",
            "1703.0    14\n",
            "Name: total_rooms, dtype: int64\n"
          ]
        }
      ]
    },
    {
      "cell_type": "markdown",
      "metadata": {
        "_uuid": "f9b78c632be9052e8713a529fd74dd59ae769b71",
        "id": "hPvT9i61QoAv"
      },
      "source": [
        "### **df.head(n)** <a id=\"47\"></a>\n",
        "This code optionally brings in the first 5 data. returns the number of data that you type instead of N.\n",
        "\n",
        "<mark>[Return Contents](#0)\n",
        "<hr>"
      ]
    },
    {
      "cell_type": "code",
      "metadata": {
        "trusted": true,
        "_uuid": "e9751b0512899f2d84eb07d8bd24b45351f564a3",
        "id": "tDa4jg9BQoAv"
      },
      "source": [
        "df.head()\n",
        "# OR\n",
        "# df.head(15)"
      ],
      "execution_count": null,
      "outputs": []
    },
    {
      "cell_type": "markdown",
      "metadata": {
        "_uuid": "be2de7201deaea863247067fe5432746c0d04cba",
        "id": "VSGlVnTZQoAw"
      },
      "source": [
        "### **df.tail(n)** <a id=\"48\"></a>\n",
        "This code optionally brings 5 data at the end. returns the number of data that you type instead of N.\n",
        "\n",
        "<mark>[Return Contents](#0)\n",
        "<hr>"
      ]
    },
    {
      "cell_type": "code",
      "metadata": {
        "trusted": true,
        "_uuid": "318f20d9624d31dc6a3f8150523b266da9acfcc5",
        "colab": {
          "base_uri": "https://localhost:8080/",
          "height": 206
        },
        "id": "2OhEjY9iQoAw",
        "outputId": "c71c1f73-1359-4c5b-9fcb-8ed25ecfe847"
      },
      "source": [
        "df.tail()\n",
        "# OR\n",
        "# df.tail(20)"
      ],
      "execution_count": null,
      "outputs": [
        {
          "output_type": "execute_result",
          "data": {
            "text/html": [
              "<div>\n",
              "<style scoped>\n",
              "    .dataframe tbody tr th:only-of-type {\n",
              "        vertical-align: middle;\n",
              "    }\n",
              "\n",
              "    .dataframe tbody tr th {\n",
              "        vertical-align: top;\n",
              "    }\n",
              "\n",
              "    .dataframe thead th {\n",
              "        text-align: right;\n",
              "    }\n",
              "</style>\n",
              "<table border=\"1\" class=\"dataframe\">\n",
              "  <thead>\n",
              "    <tr style=\"text-align: right;\">\n",
              "      <th></th>\n",
              "      <th>longitude</th>\n",
              "      <th>latitude</th>\n",
              "      <th>housing_median_age</th>\n",
              "      <th>total_rooms</th>\n",
              "      <th>total_bedrooms</th>\n",
              "      <th>population</th>\n",
              "      <th>households</th>\n",
              "      <th>median_income</th>\n",
              "      <th>median_house_value</th>\n",
              "    </tr>\n",
              "  </thead>\n",
              "  <tbody>\n",
              "    <tr>\n",
              "      <th>16995</th>\n",
              "      <td>-124.26</td>\n",
              "      <td>40.58</td>\n",
              "      <td>52.0</td>\n",
              "      <td>2217.0</td>\n",
              "      <td>394.0</td>\n",
              "      <td>907.0</td>\n",
              "      <td>369.0</td>\n",
              "      <td>2.3571</td>\n",
              "      <td>111400.0</td>\n",
              "    </tr>\n",
              "    <tr>\n",
              "      <th>16996</th>\n",
              "      <td>-124.27</td>\n",
              "      <td>40.69</td>\n",
              "      <td>36.0</td>\n",
              "      <td>2349.0</td>\n",
              "      <td>528.0</td>\n",
              "      <td>1194.0</td>\n",
              "      <td>465.0</td>\n",
              "      <td>2.5179</td>\n",
              "      <td>79000.0</td>\n",
              "    </tr>\n",
              "    <tr>\n",
              "      <th>16997</th>\n",
              "      <td>-124.30</td>\n",
              "      <td>41.84</td>\n",
              "      <td>17.0</td>\n",
              "      <td>2677.0</td>\n",
              "      <td>531.0</td>\n",
              "      <td>1244.0</td>\n",
              "      <td>456.0</td>\n",
              "      <td>3.0313</td>\n",
              "      <td>103600.0</td>\n",
              "    </tr>\n",
              "    <tr>\n",
              "      <th>16998</th>\n",
              "      <td>-124.30</td>\n",
              "      <td>41.80</td>\n",
              "      <td>19.0</td>\n",
              "      <td>2672.0</td>\n",
              "      <td>552.0</td>\n",
              "      <td>1298.0</td>\n",
              "      <td>478.0</td>\n",
              "      <td>1.9797</td>\n",
              "      <td>85800.0</td>\n",
              "    </tr>\n",
              "    <tr>\n",
              "      <th>16999</th>\n",
              "      <td>-124.35</td>\n",
              "      <td>40.54</td>\n",
              "      <td>52.0</td>\n",
              "      <td>1820.0</td>\n",
              "      <td>300.0</td>\n",
              "      <td>806.0</td>\n",
              "      <td>270.0</td>\n",
              "      <td>3.0147</td>\n",
              "      <td>94600.0</td>\n",
              "    </tr>\n",
              "  </tbody>\n",
              "</table>\n",
              "</div>"
            ],
            "text/plain": [
              "       longitude  latitude  ...  median_income  median_house_value\n",
              "16995    -124.26     40.58  ...         2.3571            111400.0\n",
              "16996    -124.27     40.69  ...         2.5179             79000.0\n",
              "16997    -124.30     41.84  ...         3.0313            103600.0\n",
              "16998    -124.30     41.80  ...         1.9797             85800.0\n",
              "16999    -124.35     40.54  ...         3.0147             94600.0\n",
              "\n",
              "[5 rows x 9 columns]"
            ]
          },
          "metadata": {},
          "execution_count": 47
        }
      ]
    },
    {
      "cell_type": "markdown",
      "metadata": {
        "_uuid": "fb84fc0ec1005c386ca34948dbc31a2f78482524",
        "id": "lv6QLtBtQoAw"
      },
      "source": [
        "### **df.sample(n)** <a id=\"49\"></a>\n",
        "This code fetches random n data from the data.\n",
        "\n",
        "<mark>[Return Contents](#0)\n",
        "<hr>"
      ]
    },
    {
      "cell_type": "code",
      "metadata": {
        "trusted": true,
        "_uuid": "9b7035347af1daf7a0ad44800c58655ec290a5ad",
        "colab": {
          "base_uri": "https://localhost:8080/",
          "height": 206
        },
        "id": "3XtXLl5kQoAw",
        "outputId": "ec03fabb-7191-44c3-e1c4-5057b0aa5697"
      },
      "source": [
        "df.sample(5)"
      ],
      "execution_count": null,
      "outputs": [
        {
          "output_type": "execute_result",
          "data": {
            "text/html": [
              "<div>\n",
              "<style scoped>\n",
              "    .dataframe tbody tr th:only-of-type {\n",
              "        vertical-align: middle;\n",
              "    }\n",
              "\n",
              "    .dataframe tbody tr th {\n",
              "        vertical-align: top;\n",
              "    }\n",
              "\n",
              "    .dataframe thead th {\n",
              "        text-align: right;\n",
              "    }\n",
              "</style>\n",
              "<table border=\"1\" class=\"dataframe\">\n",
              "  <thead>\n",
              "    <tr style=\"text-align: right;\">\n",
              "      <th></th>\n",
              "      <th>longitude</th>\n",
              "      <th>latitude</th>\n",
              "      <th>housing_median_age</th>\n",
              "      <th>total_rooms</th>\n",
              "      <th>total_bedrooms</th>\n",
              "      <th>population</th>\n",
              "      <th>households</th>\n",
              "      <th>median_income</th>\n",
              "      <th>median_house_value</th>\n",
              "    </tr>\n",
              "  </thead>\n",
              "  <tbody>\n",
              "    <tr>\n",
              "      <th>5366</th>\n",
              "      <td>-118.15</td>\n",
              "      <td>34.04</td>\n",
              "      <td>39.0</td>\n",
              "      <td>1099.0</td>\n",
              "      <td>263.0</td>\n",
              "      <td>787.0</td>\n",
              "      <td>269.0</td>\n",
              "      <td>3.7794</td>\n",
              "      <td>194600.0</td>\n",
              "    </tr>\n",
              "    <tr>\n",
              "      <th>698</th>\n",
              "      <td>-117.05</td>\n",
              "      <td>33.01</td>\n",
              "      <td>17.0</td>\n",
              "      <td>3430.0</td>\n",
              "      <td>425.0</td>\n",
              "      <td>1468.0</td>\n",
              "      <td>433.0</td>\n",
              "      <td>10.6186</td>\n",
              "      <td>429300.0</td>\n",
              "    </tr>\n",
              "    <tr>\n",
              "      <th>3096</th>\n",
              "      <td>-117.82</td>\n",
              "      <td>33.89</td>\n",
              "      <td>21.0</td>\n",
              "      <td>3079.0</td>\n",
              "      <td>509.0</td>\n",
              "      <td>1431.0</td>\n",
              "      <td>480.0</td>\n",
              "      <td>4.0714</td>\n",
              "      <td>278900.0</td>\n",
              "    </tr>\n",
              "    <tr>\n",
              "      <th>8369</th>\n",
              "      <td>-118.46</td>\n",
              "      <td>34.00</td>\n",
              "      <td>37.0</td>\n",
              "      <td>388.0</td>\n",
              "      <td>83.0</td>\n",
              "      <td>248.0</td>\n",
              "      <td>84.0</td>\n",
              "      <td>5.1664</td>\n",
              "      <td>326700.0</td>\n",
              "    </tr>\n",
              "    <tr>\n",
              "      <th>12474</th>\n",
              "      <td>-121.61</td>\n",
              "      <td>37.03</td>\n",
              "      <td>5.0</td>\n",
              "      <td>6529.0</td>\n",
              "      <td>1010.0</td>\n",
              "      <td>3071.0</td>\n",
              "      <td>977.0</td>\n",
              "      <td>5.6754</td>\n",
              "      <td>298500.0</td>\n",
              "    </tr>\n",
              "  </tbody>\n",
              "</table>\n",
              "</div>"
            ],
            "text/plain": [
              "       longitude  latitude  ...  median_income  median_house_value\n",
              "5366     -118.15     34.04  ...         3.7794            194600.0\n",
              "698      -117.05     33.01  ...        10.6186            429300.0\n",
              "3096     -117.82     33.89  ...         4.0714            278900.0\n",
              "8369     -118.46     34.00  ...         5.1664            326700.0\n",
              "12474    -121.61     37.03  ...         5.6754            298500.0\n",
              "\n",
              "[5 rows x 9 columns]"
            ]
          },
          "metadata": {},
          "execution_count": 48
        }
      ]
    },
    {
      "cell_type": "markdown",
      "metadata": {
        "_uuid": "5fc0c9e236247779b6f929004ba980bf2bb3487a",
        "id": "znSxvQZkQoAw"
      },
      "source": [
        "### **df.sample(frac=0.5)** <a id=\"50\"></a>\n",
        "This code selects the fractions of random rows and fetches the data to that extent.\n",
        "\n",
        "<mark>[Return Contents](#0)\n",
        "<hr>"
      ]
    },
    {
      "cell_type": "code",
      "metadata": {
        "trusted": true,
        "_uuid": "501b38a9b6abe3f5fed9da98a0d4d0fb095fe2c5",
        "colab": {
          "base_uri": "https://localhost:8080/",
          "height": 206
        },
        "id": "yz0nABBHQoAw",
        "outputId": "09c24f38-f498-44af-f936-3b9374fe00cf"
      },
      "source": [
        "df.sample(frac=0.5).head()"
      ],
      "execution_count": null,
      "outputs": [
        {
          "output_type": "execute_result",
          "data": {
            "text/html": [
              "<div>\n",
              "<style scoped>\n",
              "    .dataframe tbody tr th:only-of-type {\n",
              "        vertical-align: middle;\n",
              "    }\n",
              "\n",
              "    .dataframe tbody tr th {\n",
              "        vertical-align: top;\n",
              "    }\n",
              "\n",
              "    .dataframe thead th {\n",
              "        text-align: right;\n",
              "    }\n",
              "</style>\n",
              "<table border=\"1\" class=\"dataframe\">\n",
              "  <thead>\n",
              "    <tr style=\"text-align: right;\">\n",
              "      <th></th>\n",
              "      <th>longitude</th>\n",
              "      <th>latitude</th>\n",
              "      <th>housing_median_age</th>\n",
              "      <th>total_rooms</th>\n",
              "      <th>total_bedrooms</th>\n",
              "      <th>population</th>\n",
              "      <th>households</th>\n",
              "      <th>median_income</th>\n",
              "      <th>median_house_value</th>\n",
              "    </tr>\n",
              "  </thead>\n",
              "  <tbody>\n",
              "    <tr>\n",
              "      <th>16698</th>\n",
              "      <td>-122.82</td>\n",
              "      <td>38.39</td>\n",
              "      <td>22.0</td>\n",
              "      <td>1288.0</td>\n",
              "      <td>243.0</td>\n",
              "      <td>593.0</td>\n",
              "      <td>220.0</td>\n",
              "      <td>3.6250</td>\n",
              "      <td>233700.0</td>\n",
              "    </tr>\n",
              "    <tr>\n",
              "      <th>13906</th>\n",
              "      <td>-122.03</td>\n",
              "      <td>37.69</td>\n",
              "      <td>20.0</td>\n",
              "      <td>200.0</td>\n",
              "      <td>25.0</td>\n",
              "      <td>83.0</td>\n",
              "      <td>31.0</td>\n",
              "      <td>6.5000</td>\n",
              "      <td>340000.0</td>\n",
              "    </tr>\n",
              "    <tr>\n",
              "      <th>8840</th>\n",
              "      <td>-118.71</td>\n",
              "      <td>34.29</td>\n",
              "      <td>24.0</td>\n",
              "      <td>2983.0</td>\n",
              "      <td>406.0</td>\n",
              "      <td>1203.0</td>\n",
              "      <td>381.0</td>\n",
              "      <td>6.3236</td>\n",
              "      <td>302000.0</td>\n",
              "    </tr>\n",
              "    <tr>\n",
              "      <th>865</th>\n",
              "      <td>-117.08</td>\n",
              "      <td>33.82</td>\n",
              "      <td>6.0</td>\n",
              "      <td>1771.0</td>\n",
              "      <td>293.0</td>\n",
              "      <td>935.0</td>\n",
              "      <td>279.0</td>\n",
              "      <td>4.0650</td>\n",
              "      <td>148200.0</td>\n",
              "    </tr>\n",
              "    <tr>\n",
              "      <th>321</th>\n",
              "      <td>-116.87</td>\n",
              "      <td>32.72</td>\n",
              "      <td>13.0</td>\n",
              "      <td>3268.0</td>\n",
              "      <td>491.0</td>\n",
              "      <td>1431.0</td>\n",
              "      <td>503.0</td>\n",
              "      <td>5.7652</td>\n",
              "      <td>259900.0</td>\n",
              "    </tr>\n",
              "  </tbody>\n",
              "</table>\n",
              "</div>"
            ],
            "text/plain": [
              "       longitude  latitude  ...  median_income  median_house_value\n",
              "16698    -122.82     38.39  ...         3.6250            233700.0\n",
              "13906    -122.03     37.69  ...         6.5000            340000.0\n",
              "8840     -118.71     34.29  ...         6.3236            302000.0\n",
              "865      -117.08     33.82  ...         4.0650            148200.0\n",
              "321      -116.87     32.72  ...         5.7652            259900.0\n",
              "\n",
              "[5 rows x 9 columns]"
            ]
          },
          "metadata": {},
          "execution_count": 49
        }
      ]
    },
    {
      "cell_type": "markdown",
      "metadata": {
        "_uuid": "f900885737988b1cb56df881fda6920eaa07381c",
        "id": "t5pSncorQoAw"
      },
      "source": [
        "### **df.nlargest(n,'columnName')** <a id=\"51\"></a>\n",
        "This code brings N from the column where we have specified the largest data.\n",
        "\n",
        "<mark>[Return Contents](#0)\n",
        "<hr>"
      ]
    },
    {
      "cell_type": "code",
      "metadata": {
        "trusted": true,
        "_uuid": "2d61d5cb304bf17ef3ec00395152afece27eea42",
        "colab": {
          "base_uri": "https://localhost:8080/",
          "height": 206
        },
        "id": "1_N8V_snQoAw",
        "outputId": "621f5425-637d-41e8-f65c-33777f011293"
      },
      "source": [
        "df.nlargest(5,'total_rooms')"
      ],
      "execution_count": null,
      "outputs": [
        {
          "output_type": "execute_result",
          "data": {
            "text/html": [
              "<div>\n",
              "<style scoped>\n",
              "    .dataframe tbody tr th:only-of-type {\n",
              "        vertical-align: middle;\n",
              "    }\n",
              "\n",
              "    .dataframe tbody tr th {\n",
              "        vertical-align: top;\n",
              "    }\n",
              "\n",
              "    .dataframe thead th {\n",
              "        text-align: right;\n",
              "    }\n",
              "</style>\n",
              "<table border=\"1\" class=\"dataframe\">\n",
              "  <thead>\n",
              "    <tr style=\"text-align: right;\">\n",
              "      <th></th>\n",
              "      <th>longitude</th>\n",
              "      <th>latitude</th>\n",
              "      <th>housing_median_age</th>\n",
              "      <th>total_rooms</th>\n",
              "      <th>total_bedrooms</th>\n",
              "      <th>population</th>\n",
              "      <th>households</th>\n",
              "      <th>median_income</th>\n",
              "      <th>median_house_value</th>\n",
              "    </tr>\n",
              "  </thead>\n",
              "  <tbody>\n",
              "    <tr>\n",
              "      <th>2871</th>\n",
              "      <td>-117.74</td>\n",
              "      <td>33.89</td>\n",
              "      <td>4.0</td>\n",
              "      <td>37937.0</td>\n",
              "      <td>5471.0</td>\n",
              "      <td>16122.0</td>\n",
              "      <td>5189.0</td>\n",
              "      <td>7.4947</td>\n",
              "      <td>366300.0</td>\n",
              "    </tr>\n",
              "    <tr>\n",
              "      <th>12772</th>\n",
              "      <td>-121.79</td>\n",
              "      <td>36.64</td>\n",
              "      <td>11.0</td>\n",
              "      <td>32627.0</td>\n",
              "      <td>6445.0</td>\n",
              "      <td>28566.0</td>\n",
              "      <td>6082.0</td>\n",
              "      <td>2.3087</td>\n",
              "      <td>118800.0</td>\n",
              "    </tr>\n",
              "    <tr>\n",
              "      <th>2969</th>\n",
              "      <td>-117.78</td>\n",
              "      <td>34.03</td>\n",
              "      <td>8.0</td>\n",
              "      <td>32054.0</td>\n",
              "      <td>5290.0</td>\n",
              "      <td>15507.0</td>\n",
              "      <td>5050.0</td>\n",
              "      <td>6.0191</td>\n",
              "      <td>253900.0</td>\n",
              "    </tr>\n",
              "    <tr>\n",
              "      <th>8881</th>\n",
              "      <td>-118.78</td>\n",
              "      <td>34.16</td>\n",
              "      <td>9.0</td>\n",
              "      <td>30405.0</td>\n",
              "      <td>4093.0</td>\n",
              "      <td>12873.0</td>\n",
              "      <td>3931.0</td>\n",
              "      <td>8.0137</td>\n",
              "      <td>399200.0</td>\n",
              "    </tr>\n",
              "    <tr>\n",
              "      <th>1116</th>\n",
              "      <td>-117.12</td>\n",
              "      <td>33.52</td>\n",
              "      <td>4.0</td>\n",
              "      <td>30401.0</td>\n",
              "      <td>4957.0</td>\n",
              "      <td>13251.0</td>\n",
              "      <td>4339.0</td>\n",
              "      <td>4.5841</td>\n",
              "      <td>212300.0</td>\n",
              "    </tr>\n",
              "  </tbody>\n",
              "</table>\n",
              "</div>"
            ],
            "text/plain": [
              "       longitude  latitude  ...  median_income  median_house_value\n",
              "2871     -117.74     33.89  ...         7.4947            366300.0\n",
              "12772    -121.79     36.64  ...         2.3087            118800.0\n",
              "2969     -117.78     34.03  ...         6.0191            253900.0\n",
              "8881     -118.78     34.16  ...         8.0137            399200.0\n",
              "1116     -117.12     33.52  ...         4.5841            212300.0\n",
              "\n",
              "[5 rows x 9 columns]"
            ]
          },
          "metadata": {},
          "execution_count": 50
        }
      ]
    },
    {
      "cell_type": "markdown",
      "metadata": {
        "_uuid": "e925e067c524cabf599b4b4cc36c55332590a4b0",
        "id": "jx9zb708QoAw"
      },
      "source": [
        "### **df.nsmallest(n,'columnName')** <a id=\"52\"></a>\n",
        "This code brings N from the column where we have specified the smallest data.\n",
        "\n",
        "<mark>[Return Contents](#0)\n",
        "<hr>"
      ]
    },
    {
      "cell_type": "code",
      "metadata": {
        "trusted": true,
        "_uuid": "1cb8e5e34abb9f9cbdc2963d9b8fdb0c0109c17d",
        "colab": {
          "base_uri": "https://localhost:8080/",
          "height": 143
        },
        "id": "WXRDgO11QoAw",
        "outputId": "3df04c8a-3af7-467c-a11f-e9d982ee9fac"
      },
      "source": [
        "df.nsmallest(3,'total_rooms')"
      ],
      "execution_count": null,
      "outputs": [
        {
          "output_type": "execute_result",
          "data": {
            "text/html": [
              "<div>\n",
              "<style scoped>\n",
              "    .dataframe tbody tr th:only-of-type {\n",
              "        vertical-align: middle;\n",
              "    }\n",
              "\n",
              "    .dataframe tbody tr th {\n",
              "        vertical-align: top;\n",
              "    }\n",
              "\n",
              "    .dataframe thead th {\n",
              "        text-align: right;\n",
              "    }\n",
              "</style>\n",
              "<table border=\"1\" class=\"dataframe\">\n",
              "  <thead>\n",
              "    <tr style=\"text-align: right;\">\n",
              "      <th></th>\n",
              "      <th>longitude</th>\n",
              "      <th>latitude</th>\n",
              "      <th>housing_median_age</th>\n",
              "      <th>total_rooms</th>\n",
              "      <th>total_bedrooms</th>\n",
              "      <th>population</th>\n",
              "      <th>households</th>\n",
              "      <th>median_income</th>\n",
              "      <th>median_house_value</th>\n",
              "    </tr>\n",
              "  </thead>\n",
              "  <tbody>\n",
              "    <tr>\n",
              "      <th>2990</th>\n",
              "      <td>-117.79</td>\n",
              "      <td>35.21</td>\n",
              "      <td>4.0</td>\n",
              "      <td>2.0</td>\n",
              "      <td>2.0</td>\n",
              "      <td>6.0</td>\n",
              "      <td>2.0</td>\n",
              "      <td>2.3750</td>\n",
              "      <td>137500.0</td>\n",
              "    </tr>\n",
              "    <tr>\n",
              "      <th>16309</th>\n",
              "      <td>-122.50</td>\n",
              "      <td>37.79</td>\n",
              "      <td>52.0</td>\n",
              "      <td>8.0</td>\n",
              "      <td>1.0</td>\n",
              "      <td>13.0</td>\n",
              "      <td>1.0</td>\n",
              "      <td>15.0001</td>\n",
              "      <td>500001.0</td>\n",
              "    </tr>\n",
              "    <tr>\n",
              "      <th>8188</th>\n",
              "      <td>-118.44</td>\n",
              "      <td>34.28</td>\n",
              "      <td>46.0</td>\n",
              "      <td>11.0</td>\n",
              "      <td>11.0</td>\n",
              "      <td>24.0</td>\n",
              "      <td>13.0</td>\n",
              "      <td>2.8750</td>\n",
              "      <td>162500.0</td>\n",
              "    </tr>\n",
              "  </tbody>\n",
              "</table>\n",
              "</div>"
            ],
            "text/plain": [
              "       longitude  latitude  ...  median_income  median_house_value\n",
              "2990     -117.79     35.21  ...         2.3750            137500.0\n",
              "16309    -122.50     37.79  ...        15.0001            500001.0\n",
              "8188     -118.44     34.28  ...         2.8750            162500.0\n",
              "\n",
              "[3 rows x 9 columns]"
            ]
          },
          "metadata": {},
          "execution_count": 51
        }
      ]
    },
    {
      "cell_type": "markdown",
      "metadata": {
        "_uuid": "a51ee840ca8cd0400f2c4d95221158b25133d12f",
        "id": "Onk-PbwBQoAw"
      },
      "source": [
        "### **df[df.columnName < 5]** <a id=\"53\"></a>\n",
        "This code returns the column name we have specified, which is less than 5.\n",
        "\n",
        "<mark>[Return Contents](#0)\n",
        "<hr>"
      ]
    },
    {
      "cell_type": "code",
      "metadata": {
        "trusted": true,
        "_uuid": "52be41ac78b67ca5c95a18199fa7f09f2d2efc4c",
        "colab": {
          "base_uri": "https://localhost:8080/",
          "height": 1000
        },
        "id": "U-hh1_RpQoAw",
        "outputId": "922d7c92-053b-45d8-af3e-e402591164bf"
      },
      "source": [
        "df[df.total_rooms > 18281.949219]"
      ],
      "execution_count": null,
      "outputs": [
        {
          "output_type": "execute_result",
          "data": {
            "text/html": [
              "<div>\n",
              "<style scoped>\n",
              "    .dataframe tbody tr th:only-of-type {\n",
              "        vertical-align: middle;\n",
              "    }\n",
              "\n",
              "    .dataframe tbody tr th {\n",
              "        vertical-align: top;\n",
              "    }\n",
              "\n",
              "    .dataframe thead th {\n",
              "        text-align: right;\n",
              "    }\n",
              "</style>\n",
              "<table border=\"1\" class=\"dataframe\">\n",
              "  <thead>\n",
              "    <tr style=\"text-align: right;\">\n",
              "      <th></th>\n",
              "      <th>longitude</th>\n",
              "      <th>latitude</th>\n",
              "      <th>housing_median_age</th>\n",
              "      <th>total_rooms</th>\n",
              "      <th>total_bedrooms</th>\n",
              "      <th>population</th>\n",
              "      <th>households</th>\n",
              "      <th>median_income</th>\n",
              "      <th>median_house_value</th>\n",
              "    </tr>\n",
              "  </thead>\n",
              "  <tbody>\n",
              "    <tr>\n",
              "      <th>186</th>\n",
              "      <td>-116.33</td>\n",
              "      <td>33.75</td>\n",
              "      <td>5.0</td>\n",
              "      <td>19107.0</td>\n",
              "      <td>3923.0</td>\n",
              "      <td>2880.0</td>\n",
              "      <td>1376.0</td>\n",
              "      <td>4.0360</td>\n",
              "      <td>158500.0</td>\n",
              "    </tr>\n",
              "    <tr>\n",
              "      <th>1116</th>\n",
              "      <td>-117.12</td>\n",
              "      <td>33.52</td>\n",
              "      <td>4.0</td>\n",
              "      <td>30401.0</td>\n",
              "      <td>4957.0</td>\n",
              "      <td>13251.0</td>\n",
              "      <td>4339.0</td>\n",
              "      <td>4.5841</td>\n",
              "      <td>212300.0</td>\n",
              "    </tr>\n",
              "    <tr>\n",
              "      <th>1321</th>\n",
              "      <td>-117.16</td>\n",
              "      <td>33.57</td>\n",
              "      <td>2.0</td>\n",
              "      <td>20391.0</td>\n",
              "      <td>3245.0</td>\n",
              "      <td>7132.0</td>\n",
              "      <td>2716.0</td>\n",
              "      <td>3.9443</td>\n",
              "      <td>187300.0</td>\n",
              "    </tr>\n",
              "    <tr>\n",
              "      <th>1408</th>\n",
              "      <td>-117.18</td>\n",
              "      <td>32.95</td>\n",
              "      <td>4.0</td>\n",
              "      <td>19001.0</td>\n",
              "      <td>2688.0</td>\n",
              "      <td>8980.0</td>\n",
              "      <td>2441.0</td>\n",
              "      <td>6.3237</td>\n",
              "      <td>260900.0</td>\n",
              "    </tr>\n",
              "    <tr>\n",
              "      <th>1444</th>\n",
              "      <td>-117.19</td>\n",
              "      <td>33.90</td>\n",
              "      <td>3.0</td>\n",
              "      <td>21060.0</td>\n",
              "      <td>3366.0</td>\n",
              "      <td>9623.0</td>\n",
              "      <td>2812.0</td>\n",
              "      <td>4.1890</td>\n",
              "      <td>143000.0</td>\n",
              "    </tr>\n",
              "    <tr>\n",
              "      <th>1514</th>\n",
              "      <td>-117.21</td>\n",
              "      <td>33.97</td>\n",
              "      <td>3.0</td>\n",
              "      <td>18356.0</td>\n",
              "      <td>2537.0</td>\n",
              "      <td>8437.0</td>\n",
              "      <td>2342.0</td>\n",
              "      <td>5.6409</td>\n",
              "      <td>197700.0</td>\n",
              "    </tr>\n",
              "    <tr>\n",
              "      <th>1836</th>\n",
              "      <td>-117.27</td>\n",
              "      <td>33.68</td>\n",
              "      <td>8.0</td>\n",
              "      <td>26322.0</td>\n",
              "      <td>4072.0</td>\n",
              "      <td>9360.0</td>\n",
              "      <td>3361.0</td>\n",
              "      <td>5.3238</td>\n",
              "      <td>228900.0</td>\n",
              "    </tr>\n",
              "    <tr>\n",
              "      <th>1838</th>\n",
              "      <td>-117.27</td>\n",
              "      <td>33.23</td>\n",
              "      <td>5.0</td>\n",
              "      <td>20908.0</td>\n",
              "      <td>3933.0</td>\n",
              "      <td>9690.0</td>\n",
              "      <td>3510.0</td>\n",
              "      <td>4.1405</td>\n",
              "      <td>198500.0</td>\n",
              "    </tr>\n",
              "    <tr>\n",
              "      <th>1920</th>\n",
              "      <td>-117.29</td>\n",
              "      <td>33.97</td>\n",
              "      <td>4.0</td>\n",
              "      <td>18767.0</td>\n",
              "      <td>3032.0</td>\n",
              "      <td>8805.0</td>\n",
              "      <td>2723.0</td>\n",
              "      <td>4.6667</td>\n",
              "      <td>160600.0</td>\n",
              "    </tr>\n",
              "    <tr>\n",
              "      <th>2001</th>\n",
              "      <td>-117.31</td>\n",
              "      <td>33.19</td>\n",
              "      <td>11.0</td>\n",
              "      <td>20944.0</td>\n",
              "      <td>3753.0</td>\n",
              "      <td>8738.0</td>\n",
              "      <td>3441.0</td>\n",
              "      <td>4.3762</td>\n",
              "      <td>215500.0</td>\n",
              "    </tr>\n",
              "    <tr>\n",
              "      <th>2274</th>\n",
              "      <td>-117.42</td>\n",
              "      <td>33.35</td>\n",
              "      <td>14.0</td>\n",
              "      <td>25135.0</td>\n",
              "      <td>4819.0</td>\n",
              "      <td>35682.0</td>\n",
              "      <td>4769.0</td>\n",
              "      <td>2.5729</td>\n",
              "      <td>134400.0</td>\n",
              "    </tr>\n",
              "    <tr>\n",
              "      <th>2434</th>\n",
              "      <td>-117.59</td>\n",
              "      <td>34.13</td>\n",
              "      <td>10.0</td>\n",
              "      <td>20263.0</td>\n",
              "      <td>3915.0</td>\n",
              "      <td>9716.0</td>\n",
              "      <td>3744.0</td>\n",
              "      <td>3.8505</td>\n",
              "      <td>169600.0</td>\n",
              "    </tr>\n",
              "    <tr>\n",
              "      <th>2464</th>\n",
              "      <td>-117.61</td>\n",
              "      <td>34.10</td>\n",
              "      <td>9.0</td>\n",
              "      <td>18956.0</td>\n",
              "      <td>4095.0</td>\n",
              "      <td>10323.0</td>\n",
              "      <td>3832.0</td>\n",
              "      <td>3.6033</td>\n",
              "      <td>132600.0</td>\n",
              "    </tr>\n",
              "    <tr>\n",
              "      <th>2871</th>\n",
              "      <td>-117.74</td>\n",
              "      <td>33.89</td>\n",
              "      <td>4.0</td>\n",
              "      <td>37937.0</td>\n",
              "      <td>5471.0</td>\n",
              "      <td>16122.0</td>\n",
              "      <td>5189.0</td>\n",
              "      <td>7.4947</td>\n",
              "      <td>366300.0</td>\n",
              "    </tr>\n",
              "    <tr>\n",
              "      <th>2897</th>\n",
              "      <td>-117.75</td>\n",
              "      <td>34.01</td>\n",
              "      <td>4.0</td>\n",
              "      <td>22128.0</td>\n",
              "      <td>3522.0</td>\n",
              "      <td>10450.0</td>\n",
              "      <td>3258.0</td>\n",
              "      <td>6.1287</td>\n",
              "      <td>289600.0</td>\n",
              "    </tr>\n",
              "    <tr>\n",
              "      <th>2969</th>\n",
              "      <td>-117.78</td>\n",
              "      <td>34.03</td>\n",
              "      <td>8.0</td>\n",
              "      <td>32054.0</td>\n",
              "      <td>5290.0</td>\n",
              "      <td>15507.0</td>\n",
              "      <td>5050.0</td>\n",
              "      <td>6.0191</td>\n",
              "      <td>253900.0</td>\n",
              "    </tr>\n",
              "    <tr>\n",
              "      <th>2995</th>\n",
              "      <td>-117.79</td>\n",
              "      <td>34.02</td>\n",
              "      <td>5.0</td>\n",
              "      <td>18690.0</td>\n",
              "      <td>2862.0</td>\n",
              "      <td>9427.0</td>\n",
              "      <td>2777.0</td>\n",
              "      <td>6.4266</td>\n",
              "      <td>315600.0</td>\n",
              "    </tr>\n",
              "    <tr>\n",
              "      <th>3058</th>\n",
              "      <td>-117.81</td>\n",
              "      <td>34.08</td>\n",
              "      <td>13.0</td>\n",
              "      <td>18448.0</td>\n",
              "      <td>2474.0</td>\n",
              "      <td>7775.0</td>\n",
              "      <td>2397.0</td>\n",
              "      <td>7.7876</td>\n",
              "      <td>348900.0</td>\n",
              "    </tr>\n",
              "    <tr>\n",
              "      <th>3131</th>\n",
              "      <td>-117.83</td>\n",
              "      <td>33.97</td>\n",
              "      <td>11.0</td>\n",
              "      <td>21533.0</td>\n",
              "      <td>3078.0</td>\n",
              "      <td>9671.0</td>\n",
              "      <td>2890.0</td>\n",
              "      <td>7.0329</td>\n",
              "      <td>368300.0</td>\n",
              "    </tr>\n",
              "    <tr>\n",
              "      <th>3296</th>\n",
              "      <td>-117.87</td>\n",
              "      <td>34.04</td>\n",
              "      <td>7.0</td>\n",
              "      <td>27700.0</td>\n",
              "      <td>4179.0</td>\n",
              "      <td>15037.0</td>\n",
              "      <td>4072.0</td>\n",
              "      <td>6.6288</td>\n",
              "      <td>339700.0</td>\n",
              "    </tr>\n",
              "    <tr>\n",
              "      <th>3359</th>\n",
              "      <td>-117.88</td>\n",
              "      <td>33.96</td>\n",
              "      <td>16.0</td>\n",
              "      <td>19059.0</td>\n",
              "      <td>3079.0</td>\n",
              "      <td>10988.0</td>\n",
              "      <td>3061.0</td>\n",
              "      <td>5.5469</td>\n",
              "      <td>265200.0</td>\n",
              "    </tr>\n",
              "    <tr>\n",
              "      <th>4771</th>\n",
              "      <td>-118.09</td>\n",
              "      <td>34.68</td>\n",
              "      <td>4.0</td>\n",
              "      <td>23386.0</td>\n",
              "      <td>4171.0</td>\n",
              "      <td>10493.0</td>\n",
              "      <td>3671.0</td>\n",
              "      <td>4.0211</td>\n",
              "      <td>144000.0</td>\n",
              "    </tr>\n",
              "    <tr>\n",
              "      <th>4856</th>\n",
              "      <td>-118.10</td>\n",
              "      <td>34.57</td>\n",
              "      <td>7.0</td>\n",
              "      <td>20377.0</td>\n",
              "      <td>4335.0</td>\n",
              "      <td>11973.0</td>\n",
              "      <td>3933.0</td>\n",
              "      <td>3.3086</td>\n",
              "      <td>138100.0</td>\n",
              "    </tr>\n",
              "    <tr>\n",
              "      <th>8092</th>\n",
              "      <td>-118.43</td>\n",
              "      <td>34.43</td>\n",
              "      <td>5.0</td>\n",
              "      <td>21113.0</td>\n",
              "      <td>4386.0</td>\n",
              "      <td>9842.0</td>\n",
              "      <td>3886.0</td>\n",
              "      <td>4.2037</td>\n",
              "      <td>194600.0</td>\n",
              "    </tr>\n",
              "    <tr>\n",
              "      <th>8319</th>\n",
              "      <td>-118.46</td>\n",
              "      <td>34.40</td>\n",
              "      <td>12.0</td>\n",
              "      <td>25957.0</td>\n",
              "      <td>4798.0</td>\n",
              "      <td>10475.0</td>\n",
              "      <td>4490.0</td>\n",
              "      <td>4.5420</td>\n",
              "      <td>195300.0</td>\n",
              "    </tr>\n",
              "    <tr>\n",
              "      <th>8655</th>\n",
              "      <td>-118.55</td>\n",
              "      <td>34.41</td>\n",
              "      <td>8.0</td>\n",
              "      <td>21086.0</td>\n",
              "      <td>3945.0</td>\n",
              "      <td>9936.0</td>\n",
              "      <td>3790.0</td>\n",
              "      <td>5.8602</td>\n",
              "      <td>265100.0</td>\n",
              "    </tr>\n",
              "    <tr>\n",
              "      <th>8847</th>\n",
              "      <td>-118.72</td>\n",
              "      <td>34.14</td>\n",
              "      <td>7.0</td>\n",
              "      <td>23866.0</td>\n",
              "      <td>4407.0</td>\n",
              "      <td>9873.0</td>\n",
              "      <td>4012.0</td>\n",
              "      <td>5.4032</td>\n",
              "      <td>318500.0</td>\n",
              "    </tr>\n",
              "    <tr>\n",
              "      <th>8881</th>\n",
              "      <td>-118.78</td>\n",
              "      <td>34.16</td>\n",
              "      <td>9.0</td>\n",
              "      <td>30405.0</td>\n",
              "      <td>4093.0</td>\n",
              "      <td>12873.0</td>\n",
              "      <td>3931.0</td>\n",
              "      <td>8.0137</td>\n",
              "      <td>399200.0</td>\n",
              "    </tr>\n",
              "    <tr>\n",
              "      <th>8959</th>\n",
              "      <td>-118.90</td>\n",
              "      <td>34.26</td>\n",
              "      <td>5.0</td>\n",
              "      <td>25187.0</td>\n",
              "      <td>3521.0</td>\n",
              "      <td>11956.0</td>\n",
              "      <td>3478.0</td>\n",
              "      <td>6.9712</td>\n",
              "      <td>321300.0</td>\n",
              "    </tr>\n",
              "    <tr>\n",
              "      <th>11803</th>\n",
              "      <td>-121.33</td>\n",
              "      <td>38.77</td>\n",
              "      <td>3.0</td>\n",
              "      <td>20214.0</td>\n",
              "      <td>3559.0</td>\n",
              "      <td>8361.0</td>\n",
              "      <td>3112.0</td>\n",
              "      <td>4.2259</td>\n",
              "      <td>169300.0</td>\n",
              "    </tr>\n",
              "    <tr>\n",
              "      <th>11864</th>\n",
              "      <td>-121.35</td>\n",
              "      <td>38.72</td>\n",
              "      <td>2.0</td>\n",
              "      <td>21897.0</td>\n",
              "      <td>3513.0</td>\n",
              "      <td>8652.0</td>\n",
              "      <td>2873.0</td>\n",
              "      <td>4.5432</td>\n",
              "      <td>151300.0</td>\n",
              "    </tr>\n",
              "    <tr>\n",
              "      <th>12018</th>\n",
              "      <td>-121.40</td>\n",
              "      <td>38.47</td>\n",
              "      <td>4.0</td>\n",
              "      <td>20982.0</td>\n",
              "      <td>3392.0</td>\n",
              "      <td>10329.0</td>\n",
              "      <td>3086.0</td>\n",
              "      <td>4.3658</td>\n",
              "      <td>130600.0</td>\n",
              "    </tr>\n",
              "    <tr>\n",
              "      <th>12586</th>\n",
              "      <td>-121.68</td>\n",
              "      <td>36.72</td>\n",
              "      <td>12.0</td>\n",
              "      <td>19234.0</td>\n",
              "      <td>4492.0</td>\n",
              "      <td>12153.0</td>\n",
              "      <td>4372.0</td>\n",
              "      <td>3.2652</td>\n",
              "      <td>152800.0</td>\n",
              "    </tr>\n",
              "    <tr>\n",
              "      <th>12772</th>\n",
              "      <td>-121.79</td>\n",
              "      <td>36.64</td>\n",
              "      <td>11.0</td>\n",
              "      <td>32627.0</td>\n",
              "      <td>6445.0</td>\n",
              "      <td>28566.0</td>\n",
              "      <td>6082.0</td>\n",
              "      <td>2.3087</td>\n",
              "      <td>118800.0</td>\n",
              "    </tr>\n",
              "    <tr>\n",
              "      <th>13299</th>\n",
              "      <td>-121.92</td>\n",
              "      <td>37.53</td>\n",
              "      <td>7.0</td>\n",
              "      <td>28258.0</td>\n",
              "      <td>3864.0</td>\n",
              "      <td>12203.0</td>\n",
              "      <td>3701.0</td>\n",
              "      <td>8.4045</td>\n",
              "      <td>451100.0</td>\n",
              "    </tr>\n",
              "    <tr>\n",
              "      <th>14608</th>\n",
              "      <td>-122.17</td>\n",
              "      <td>38.08</td>\n",
              "      <td>7.0</td>\n",
              "      <td>18392.0</td>\n",
              "      <td>2782.0</td>\n",
              "      <td>8276.0</td>\n",
              "      <td>2742.0</td>\n",
              "      <td>6.4232</td>\n",
              "      <td>229200.0</td>\n",
              "    </tr>\n",
              "    <tr>\n",
              "      <th>15001</th>\n",
              "      <td>-122.24</td>\n",
              "      <td>37.72</td>\n",
              "      <td>5.0</td>\n",
              "      <td>18634.0</td>\n",
              "      <td>2885.0</td>\n",
              "      <td>7427.0</td>\n",
              "      <td>2718.0</td>\n",
              "      <td>7.6110</td>\n",
              "      <td>350700.0</td>\n",
              "    </tr>\n",
              "  </tbody>\n",
              "</table>\n",
              "</div>"
            ],
            "text/plain": [
              "       longitude  latitude  ...  median_income  median_house_value\n",
              "186      -116.33     33.75  ...         4.0360            158500.0\n",
              "1116     -117.12     33.52  ...         4.5841            212300.0\n",
              "1321     -117.16     33.57  ...         3.9443            187300.0\n",
              "1408     -117.18     32.95  ...         6.3237            260900.0\n",
              "1444     -117.19     33.90  ...         4.1890            143000.0\n",
              "1514     -117.21     33.97  ...         5.6409            197700.0\n",
              "1836     -117.27     33.68  ...         5.3238            228900.0\n",
              "1838     -117.27     33.23  ...         4.1405            198500.0\n",
              "1920     -117.29     33.97  ...         4.6667            160600.0\n",
              "2001     -117.31     33.19  ...         4.3762            215500.0\n",
              "2274     -117.42     33.35  ...         2.5729            134400.0\n",
              "2434     -117.59     34.13  ...         3.8505            169600.0\n",
              "2464     -117.61     34.10  ...         3.6033            132600.0\n",
              "2871     -117.74     33.89  ...         7.4947            366300.0\n",
              "2897     -117.75     34.01  ...         6.1287            289600.0\n",
              "2969     -117.78     34.03  ...         6.0191            253900.0\n",
              "2995     -117.79     34.02  ...         6.4266            315600.0\n",
              "3058     -117.81     34.08  ...         7.7876            348900.0\n",
              "3131     -117.83     33.97  ...         7.0329            368300.0\n",
              "3296     -117.87     34.04  ...         6.6288            339700.0\n",
              "3359     -117.88     33.96  ...         5.5469            265200.0\n",
              "4771     -118.09     34.68  ...         4.0211            144000.0\n",
              "4856     -118.10     34.57  ...         3.3086            138100.0\n",
              "8092     -118.43     34.43  ...         4.2037            194600.0\n",
              "8319     -118.46     34.40  ...         4.5420            195300.0\n",
              "8655     -118.55     34.41  ...         5.8602            265100.0\n",
              "8847     -118.72     34.14  ...         5.4032            318500.0\n",
              "8881     -118.78     34.16  ...         8.0137            399200.0\n",
              "8959     -118.90     34.26  ...         6.9712            321300.0\n",
              "11803    -121.33     38.77  ...         4.2259            169300.0\n",
              "11864    -121.35     38.72  ...         4.5432            151300.0\n",
              "12018    -121.40     38.47  ...         4.3658            130600.0\n",
              "12586    -121.68     36.72  ...         3.2652            152800.0\n",
              "12772    -121.79     36.64  ...         2.3087            118800.0\n",
              "13299    -121.92     37.53  ...         8.4045            451100.0\n",
              "14608    -122.17     38.08  ...         6.4232            229200.0\n",
              "15001    -122.24     37.72  ...         7.6110            350700.0\n",
              "\n",
              "[37 rows x 9 columns]"
            ]
          },
          "metadata": {},
          "execution_count": 52
        }
      ]
    },
    {
      "cell_type": "markdown",
      "metadata": {
        "_uuid": "b0ff118b7df06756d55ce9196aa558325e214b23",
        "id": "Sl3yGMYRQoAx"
      },
      "source": [
        "### **df[['columnName','columnName']]** <a id=\"54\"></a>\n",
        "This code helps us pick and bring any columns we want.\n",
        "\n",
        "<mark>[Return Contents](#0)\n",
        "<hr>"
      ]
    },
    {
      "cell_type": "code",
      "metadata": {
        "trusted": true,
        "_uuid": "979f91158aaba4a2c287c70096c4f63f289da3e5",
        "colab": {
          "base_uri": "https://localhost:8080/",
          "height": 206
        },
        "id": "CrwfHsV8QoAx",
        "outputId": "c736acc1-aef9-4e4d-f612-ce5b830fad41"
      },
      "source": [
        "df[['total_rooms','total_bedrooms']].head()\n",
        "# df.loc[:,['total_rooms','total_bedrooms']]"
      ],
      "execution_count": null,
      "outputs": [
        {
          "output_type": "execute_result",
          "data": {
            "text/html": [
              "<div>\n",
              "<style scoped>\n",
              "    .dataframe tbody tr th:only-of-type {\n",
              "        vertical-align: middle;\n",
              "    }\n",
              "\n",
              "    .dataframe tbody tr th {\n",
              "        vertical-align: top;\n",
              "    }\n",
              "\n",
              "    .dataframe thead th {\n",
              "        text-align: right;\n",
              "    }\n",
              "</style>\n",
              "<table border=\"1\" class=\"dataframe\">\n",
              "  <thead>\n",
              "    <tr style=\"text-align: right;\">\n",
              "      <th></th>\n",
              "      <th>total_rooms</th>\n",
              "      <th>total_bedrooms</th>\n",
              "    </tr>\n",
              "  </thead>\n",
              "  <tbody>\n",
              "    <tr>\n",
              "      <th>0</th>\n",
              "      <td>5612.0</td>\n",
              "      <td>1283.0</td>\n",
              "    </tr>\n",
              "    <tr>\n",
              "      <th>1</th>\n",
              "      <td>7650.0</td>\n",
              "      <td>1901.0</td>\n",
              "    </tr>\n",
              "    <tr>\n",
              "      <th>2</th>\n",
              "      <td>720.0</td>\n",
              "      <td>174.0</td>\n",
              "    </tr>\n",
              "    <tr>\n",
              "      <th>3</th>\n",
              "      <td>1501.0</td>\n",
              "      <td>337.0</td>\n",
              "    </tr>\n",
              "    <tr>\n",
              "      <th>4</th>\n",
              "      <td>1454.0</td>\n",
              "      <td>326.0</td>\n",
              "    </tr>\n",
              "  </tbody>\n",
              "</table>\n",
              "</div>"
            ],
            "text/plain": [
              "   total_rooms  total_bedrooms\n",
              "0       5612.0          1283.0\n",
              "1       7650.0          1901.0\n",
              "2        720.0           174.0\n",
              "3       1501.0           337.0\n",
              "4       1454.0           326.0"
            ]
          },
          "metadata": {},
          "execution_count": 54
        }
      ]
    },
    {
      "cell_type": "markdown",
      "metadata": {
        "_uuid": "33045814a6e5e2735bedffbfe5c69184e7e2a68a",
        "id": "EKac0sl2QoAx"
      },
      "source": [
        "### **df.loc[:,\"columnName1\":\"columnName2\"]** <a id=\"55\"></a>\n",
        "This code returns columns from columnname1 to columnname2.\n",
        "\n",
        "<mark>[Return Contents](#0)\n",
        "<hr>"
      ]
    },
    {
      "cell_type": "code",
      "metadata": {
        "trusted": true,
        "_uuid": "3fef8f90c9972582f593a0af3dae462146bc871d",
        "colab": {
          "base_uri": "https://localhost:8080/",
          "height": 206
        },
        "id": "tpGcK7AtQoAx",
        "outputId": "d0c23e43-a7e2-46db-b395-e48a1bc221d3"
      },
      "source": [
        "df.loc[:,\"total_rooms\":\"total_bedrooms\"].head()\n",
        "# OR\n",
        "# data.loc[:3,\"total_rooms\":\"total_bedrooms\"]"
      ],
      "execution_count": null,
      "outputs": [
        {
          "output_type": "execute_result",
          "data": {
            "text/html": [
              "<div>\n",
              "<style scoped>\n",
              "    .dataframe tbody tr th:only-of-type {\n",
              "        vertical-align: middle;\n",
              "    }\n",
              "\n",
              "    .dataframe tbody tr th {\n",
              "        vertical-align: top;\n",
              "    }\n",
              "\n",
              "    .dataframe thead th {\n",
              "        text-align: right;\n",
              "    }\n",
              "</style>\n",
              "<table border=\"1\" class=\"dataframe\">\n",
              "  <thead>\n",
              "    <tr style=\"text-align: right;\">\n",
              "      <th></th>\n",
              "      <th>total_rooms</th>\n",
              "      <th>total_bedrooms</th>\n",
              "    </tr>\n",
              "  </thead>\n",
              "  <tbody>\n",
              "    <tr>\n",
              "      <th>0</th>\n",
              "      <td>5612.0</td>\n",
              "      <td>1283.0</td>\n",
              "    </tr>\n",
              "    <tr>\n",
              "      <th>1</th>\n",
              "      <td>7650.0</td>\n",
              "      <td>1901.0</td>\n",
              "    </tr>\n",
              "    <tr>\n",
              "      <th>2</th>\n",
              "      <td>720.0</td>\n",
              "      <td>174.0</td>\n",
              "    </tr>\n",
              "    <tr>\n",
              "      <th>3</th>\n",
              "      <td>1501.0</td>\n",
              "      <td>337.0</td>\n",
              "    </tr>\n",
              "    <tr>\n",
              "      <th>4</th>\n",
              "      <td>1454.0</td>\n",
              "      <td>326.0</td>\n",
              "    </tr>\n",
              "  </tbody>\n",
              "</table>\n",
              "</div>"
            ],
            "text/plain": [
              "   total_rooms  total_bedrooms\n",
              "0       5612.0          1283.0\n",
              "1       7650.0          1901.0\n",
              "2        720.0           174.0\n",
              "3       1501.0           337.0\n",
              "4       1454.0           326.0"
            ]
          },
          "metadata": {},
          "execution_count": 56
        }
      ]
    },
    {
      "cell_type": "markdown",
      "metadata": {
        "_uuid": "09d20f2795a29736a8a444f1f7bd1bdf3bb607d0",
        "id": "wBiGkkgEQoAx"
      },
      "source": [
        "### **Create Filter** <a id=\"56\"></a>\n",
        "<mark>[Return Contents](#0)\n",
        "<hr>"
      ]
    },
    {
      "cell_type": "code",
      "metadata": {
        "trusted": true,
        "_uuid": "920f513014e6ef5a46f13a71c24a0114e3fb9c44",
        "colab": {
          "base_uri": "https://localhost:8080/",
          "height": 423
        },
        "id": "v4UbjRtAQoAx",
        "outputId": "c8c0e722-bf5d-4825-85d4-0f7b2eb59422"
      },
      "source": [
        "filters = df.total_bedrooms > 1000\n",
        "df[filters]"
      ],
      "execution_count": null,
      "outputs": [
        {
          "output_type": "execute_result",
          "data": {
            "text/html": [
              "<div>\n",
              "<style scoped>\n",
              "    .dataframe tbody tr th:only-of-type {\n",
              "        vertical-align: middle;\n",
              "    }\n",
              "\n",
              "    .dataframe tbody tr th {\n",
              "        vertical-align: top;\n",
              "    }\n",
              "\n",
              "    .dataframe thead th {\n",
              "        text-align: right;\n",
              "    }\n",
              "</style>\n",
              "<table border=\"1\" class=\"dataframe\">\n",
              "  <thead>\n",
              "    <tr style=\"text-align: right;\">\n",
              "      <th></th>\n",
              "      <th>longitude</th>\n",
              "      <th>latitude</th>\n",
              "      <th>housing_median_age</th>\n",
              "      <th>total_rooms</th>\n",
              "      <th>total_bedrooms</th>\n",
              "      <th>population</th>\n",
              "      <th>households</th>\n",
              "      <th>median_income</th>\n",
              "      <th>median_house_value</th>\n",
              "    </tr>\n",
              "  </thead>\n",
              "  <tbody>\n",
              "    <tr>\n",
              "      <th>0</th>\n",
              "      <td>-114.31</td>\n",
              "      <td>34.19</td>\n",
              "      <td>15.0</td>\n",
              "      <td>5612.0</td>\n",
              "      <td>1283.0</td>\n",
              "      <td>1015.0</td>\n",
              "      <td>472.0</td>\n",
              "      <td>1.4936</td>\n",
              "      <td>66900.0</td>\n",
              "    </tr>\n",
              "    <tr>\n",
              "      <th>1</th>\n",
              "      <td>-114.47</td>\n",
              "      <td>34.40</td>\n",
              "      <td>19.0</td>\n",
              "      <td>7650.0</td>\n",
              "      <td>1901.0</td>\n",
              "      <td>1129.0</td>\n",
              "      <td>463.0</td>\n",
              "      <td>1.8200</td>\n",
              "      <td>80100.0</td>\n",
              "    </tr>\n",
              "    <tr>\n",
              "      <th>8</th>\n",
              "      <td>-114.59</td>\n",
              "      <td>33.61</td>\n",
              "      <td>34.0</td>\n",
              "      <td>4789.0</td>\n",
              "      <td>1175.0</td>\n",
              "      <td>3134.0</td>\n",
              "      <td>1056.0</td>\n",
              "      <td>2.1782</td>\n",
              "      <td>58400.0</td>\n",
              "    </tr>\n",
              "    <tr>\n",
              "      <th>115</th>\n",
              "      <td>-115.85</td>\n",
              "      <td>34.20</td>\n",
              "      <td>34.0</td>\n",
              "      <td>3868.0</td>\n",
              "      <td>1257.0</td>\n",
              "      <td>890.0</td>\n",
              "      <td>423.0</td>\n",
              "      <td>1.3571</td>\n",
              "      <td>41000.0</td>\n",
              "    </tr>\n",
              "    <tr>\n",
              "      <th>133</th>\n",
              "      <td>-116.06</td>\n",
              "      <td>34.15</td>\n",
              "      <td>15.0</td>\n",
              "      <td>10377.0</td>\n",
              "      <td>2331.0</td>\n",
              "      <td>4507.0</td>\n",
              "      <td>1807.0</td>\n",
              "      <td>2.2466</td>\n",
              "      <td>66800.0</td>\n",
              "    </tr>\n",
              "    <tr>\n",
              "      <th>...</th>\n",
              "      <td>...</td>\n",
              "      <td>...</td>\n",
              "      <td>...</td>\n",
              "      <td>...</td>\n",
              "      <td>...</td>\n",
              "      <td>...</td>\n",
              "      <td>...</td>\n",
              "      <td>...</td>\n",
              "      <td>...</td>\n",
              "    </tr>\n",
              "    <tr>\n",
              "      <th>16824</th>\n",
              "      <td>-123.22</td>\n",
              "      <td>39.28</td>\n",
              "      <td>16.0</td>\n",
              "      <td>5569.0</td>\n",
              "      <td>1106.0</td>\n",
              "      <td>3148.0</td>\n",
              "      <td>1088.0</td>\n",
              "      <td>3.1455</td>\n",
              "      <td>142900.0</td>\n",
              "    </tr>\n",
              "    <tr>\n",
              "      <th>16838</th>\n",
              "      <td>-123.34</td>\n",
              "      <td>39.10</td>\n",
              "      <td>24.0</td>\n",
              "      <td>5372.0</td>\n",
              "      <td>1051.0</td>\n",
              "      <td>3002.0</td>\n",
              "      <td>992.0</td>\n",
              "      <td>3.0652</td>\n",
              "      <td>131100.0</td>\n",
              "    </tr>\n",
              "    <tr>\n",
              "      <th>16854</th>\n",
              "      <td>-123.49</td>\n",
              "      <td>38.70</td>\n",
              "      <td>9.0</td>\n",
              "      <td>5409.0</td>\n",
              "      <td>1019.0</td>\n",
              "      <td>594.0</td>\n",
              "      <td>327.0</td>\n",
              "      <td>3.3125</td>\n",
              "      <td>295400.0</td>\n",
              "    </tr>\n",
              "    <tr>\n",
              "      <th>16859</th>\n",
              "      <td>-123.59</td>\n",
              "      <td>38.80</td>\n",
              "      <td>17.0</td>\n",
              "      <td>5202.0</td>\n",
              "      <td>1037.0</td>\n",
              "      <td>1742.0</td>\n",
              "      <td>803.0</td>\n",
              "      <td>3.1201</td>\n",
              "      <td>176100.0</td>\n",
              "    </tr>\n",
              "    <tr>\n",
              "      <th>16986</th>\n",
              "      <td>-124.19</td>\n",
              "      <td>40.73</td>\n",
              "      <td>21.0</td>\n",
              "      <td>5694.0</td>\n",
              "      <td>1056.0</td>\n",
              "      <td>2907.0</td>\n",
              "      <td>972.0</td>\n",
              "      <td>3.5363</td>\n",
              "      <td>90100.0</td>\n",
              "    </tr>\n",
              "  </tbody>\n",
              "</table>\n",
              "<p>1576 rows × 9 columns</p>\n",
              "</div>"
            ],
            "text/plain": [
              "       longitude  latitude  ...  median_income  median_house_value\n",
              "0        -114.31     34.19  ...         1.4936             66900.0\n",
              "1        -114.47     34.40  ...         1.8200             80100.0\n",
              "8        -114.59     33.61  ...         2.1782             58400.0\n",
              "115      -115.85     34.20  ...         1.3571             41000.0\n",
              "133      -116.06     34.15  ...         2.2466             66800.0\n",
              "...          ...       ...  ...            ...                 ...\n",
              "16824    -123.22     39.28  ...         3.1455            142900.0\n",
              "16838    -123.34     39.10  ...         3.0652            131100.0\n",
              "16854    -123.49     38.70  ...         3.3125            295400.0\n",
              "16859    -123.59     38.80  ...         3.1201            176100.0\n",
              "16986    -124.19     40.73  ...         3.5363             90100.0\n",
              "\n",
              "[1576 rows x 9 columns]"
            ]
          },
          "metadata": {},
          "execution_count": 59
        }
      ]
    },
    {
      "cell_type": "markdown",
      "metadata": {
        "_uuid": "98565ee61d70ee8c2684209457d341afd009cd52",
        "id": "H1pTPjQsQoAx"
      },
      "source": [
        "### **np.logical_and** <a id=\"58\"></a>\n",
        "Filtering with logical_and. Lets look at the example.\n",
        "\n",
        "<mark>[Return Contents](#0)\n",
        "<hr>"
      ]
    },
    {
      "cell_type": "code",
      "metadata": {
        "trusted": true,
        "_uuid": "502a7a68ee0e0901db77c9ef66b2b41946936396",
        "colab": {
          "base_uri": "https://localhost:8080/",
          "height": 423
        },
        "id": "vLhrI7gLQoAx",
        "outputId": "5d40eb56-af69-4e1a-ffeb-61ab22194aa9"
      },
      "source": [
        "df[np.logical_and(df['latitude']>40.73, df['median_house_value']>80100.0 )]"
      ],
      "execution_count": null,
      "outputs": [
        {
          "output_type": "execute_result",
          "data": {
            "text/html": [
              "<div>\n",
              "<style scoped>\n",
              "    .dataframe tbody tr th:only-of-type {\n",
              "        vertical-align: middle;\n",
              "    }\n",
              "\n",
              "    .dataframe tbody tr th {\n",
              "        vertical-align: top;\n",
              "    }\n",
              "\n",
              "    .dataframe thead th {\n",
              "        text-align: right;\n",
              "    }\n",
              "</style>\n",
              "<table border=\"1\" class=\"dataframe\">\n",
              "  <thead>\n",
              "    <tr style=\"text-align: right;\">\n",
              "      <th></th>\n",
              "      <th>longitude</th>\n",
              "      <th>latitude</th>\n",
              "      <th>housing_median_age</th>\n",
              "      <th>total_rooms</th>\n",
              "      <th>total_bedrooms</th>\n",
              "      <th>population</th>\n",
              "      <th>households</th>\n",
              "      <th>median_income</th>\n",
              "      <th>median_house_value</th>\n",
              "    </tr>\n",
              "  </thead>\n",
              "  <tbody>\n",
              "    <tr>\n",
              "      <th>11228</th>\n",
              "      <td>-121.07</td>\n",
              "      <td>40.85</td>\n",
              "      <td>17.0</td>\n",
              "      <td>976.0</td>\n",
              "      <td>202.0</td>\n",
              "      <td>511.0</td>\n",
              "      <td>175.0</td>\n",
              "      <td>3.6641</td>\n",
              "      <td>80800.0</td>\n",
              "    </tr>\n",
              "    <tr>\n",
              "      <th>12025</th>\n",
              "      <td>-121.41</td>\n",
              "      <td>40.82</td>\n",
              "      <td>16.0</td>\n",
              "      <td>2668.0</td>\n",
              "      <td>516.0</td>\n",
              "      <td>915.0</td>\n",
              "      <td>362.0</td>\n",
              "      <td>2.3393</td>\n",
              "      <td>90300.0</td>\n",
              "    </tr>\n",
              "    <tr>\n",
              "      <th>12212</th>\n",
              "      <td>-121.47</td>\n",
              "      <td>41.12</td>\n",
              "      <td>22.0</td>\n",
              "      <td>2737.0</td>\n",
              "      <td>512.0</td>\n",
              "      <td>1168.0</td>\n",
              "      <td>442.0</td>\n",
              "      <td>2.8300</td>\n",
              "      <td>88700.0</td>\n",
              "    </tr>\n",
              "    <tr>\n",
              "      <th>12525</th>\n",
              "      <td>-121.64</td>\n",
              "      <td>40.90</td>\n",
              "      <td>24.0</td>\n",
              "      <td>2237.0</td>\n",
              "      <td>434.0</td>\n",
              "      <td>834.0</td>\n",
              "      <td>318.0</td>\n",
              "      <td>1.7538</td>\n",
              "      <td>90300.0</td>\n",
              "    </tr>\n",
              "    <tr>\n",
              "      <th>15255</th>\n",
              "      <td>-122.28</td>\n",
              "      <td>41.38</td>\n",
              "      <td>15.0</td>\n",
              "      <td>5266.0</td>\n",
              "      <td>1031.0</td>\n",
              "      <td>2147.0</td>\n",
              "      <td>885.0</td>\n",
              "      <td>2.8036</td>\n",
              "      <td>110100.0</td>\n",
              "    </tr>\n",
              "    <tr>\n",
              "      <th>...</th>\n",
              "      <td>...</td>\n",
              "      <td>...</td>\n",
              "      <td>...</td>\n",
              "      <td>...</td>\n",
              "      <td>...</td>\n",
              "      <td>...</td>\n",
              "      <td>...</td>\n",
              "      <td>...</td>\n",
              "      <td>...</td>\n",
              "    </tr>\n",
              "    <tr>\n",
              "      <th>16974</th>\n",
              "      <td>-124.17</td>\n",
              "      <td>40.77</td>\n",
              "      <td>30.0</td>\n",
              "      <td>1895.0</td>\n",
              "      <td>366.0</td>\n",
              "      <td>990.0</td>\n",
              "      <td>359.0</td>\n",
              "      <td>2.2227</td>\n",
              "      <td>81300.0</td>\n",
              "    </tr>\n",
              "    <tr>\n",
              "      <th>16975</th>\n",
              "      <td>-124.17</td>\n",
              "      <td>40.76</td>\n",
              "      <td>26.0</td>\n",
              "      <td>1776.0</td>\n",
              "      <td>361.0</td>\n",
              "      <td>992.0</td>\n",
              "      <td>380.0</td>\n",
              "      <td>2.8056</td>\n",
              "      <td>82800.0</td>\n",
              "    </tr>\n",
              "    <tr>\n",
              "      <th>16976</th>\n",
              "      <td>-124.17</td>\n",
              "      <td>40.75</td>\n",
              "      <td>13.0</td>\n",
              "      <td>2171.0</td>\n",
              "      <td>339.0</td>\n",
              "      <td>951.0</td>\n",
              "      <td>353.0</td>\n",
              "      <td>4.8516</td>\n",
              "      <td>116100.0</td>\n",
              "    </tr>\n",
              "    <tr>\n",
              "      <th>16997</th>\n",
              "      <td>-124.30</td>\n",
              "      <td>41.84</td>\n",
              "      <td>17.0</td>\n",
              "      <td>2677.0</td>\n",
              "      <td>531.0</td>\n",
              "      <td>1244.0</td>\n",
              "      <td>456.0</td>\n",
              "      <td>3.0313</td>\n",
              "      <td>103600.0</td>\n",
              "    </tr>\n",
              "    <tr>\n",
              "      <th>16998</th>\n",
              "      <td>-124.30</td>\n",
              "      <td>41.80</td>\n",
              "      <td>19.0</td>\n",
              "      <td>2672.0</td>\n",
              "      <td>552.0</td>\n",
              "      <td>1298.0</td>\n",
              "      <td>478.0</td>\n",
              "      <td>1.9797</td>\n",
              "      <td>85800.0</td>\n",
              "    </tr>\n",
              "  </tbody>\n",
              "</table>\n",
              "<p>68 rows × 9 columns</p>\n",
              "</div>"
            ],
            "text/plain": [
              "       longitude  latitude  ...  median_income  median_house_value\n",
              "11228    -121.07     40.85  ...         3.6641             80800.0\n",
              "12025    -121.41     40.82  ...         2.3393             90300.0\n",
              "12212    -121.47     41.12  ...         2.8300             88700.0\n",
              "12525    -121.64     40.90  ...         1.7538             90300.0\n",
              "15255    -122.28     41.38  ...         2.8036            110100.0\n",
              "...          ...       ...  ...            ...                 ...\n",
              "16974    -124.17     40.77  ...         2.2227             81300.0\n",
              "16975    -124.17     40.76  ...         2.8056             82800.0\n",
              "16976    -124.17     40.75  ...         4.8516            116100.0\n",
              "16997    -124.30     41.84  ...         3.0313            103600.0\n",
              "16998    -124.30     41.80  ...         1.9797             85800.0\n",
              "\n",
              "[68 rows x 9 columns]"
            ]
          },
          "metadata": {},
          "execution_count": 61
        }
      ]
    },
    {
      "cell_type": "markdown",
      "metadata": {
        "_uuid": "be8cc807047dd7037f0013d573c58573649c3097",
        "id": "-3ugvYBCQoAx"
      },
      "source": [
        "### **Filtering with &** <a id=\"59\"></a>\n",
        "<mark>[Return Contents](#0)\n",
        "<hr>"
      ]
    },
    {
      "cell_type": "code",
      "metadata": {
        "trusted": true,
        "_uuid": "48930d97ce2d7aebf9fc44d41ef9a21b21ece804",
        "colab": {
          "base_uri": "https://localhost:8080/",
          "height": 423
        },
        "id": "HTieORF2QoAy",
        "outputId": "5b92534d-c6af-4f8c-bf09-5828454a541c"
      },
      "source": [
        "df[(df['latitude']>40.73) & (df['median_house_value']>80100.0)]"
      ],
      "execution_count": null,
      "outputs": [
        {
          "output_type": "execute_result",
          "data": {
            "text/html": [
              "<div>\n",
              "<style scoped>\n",
              "    .dataframe tbody tr th:only-of-type {\n",
              "        vertical-align: middle;\n",
              "    }\n",
              "\n",
              "    .dataframe tbody tr th {\n",
              "        vertical-align: top;\n",
              "    }\n",
              "\n",
              "    .dataframe thead th {\n",
              "        text-align: right;\n",
              "    }\n",
              "</style>\n",
              "<table border=\"1\" class=\"dataframe\">\n",
              "  <thead>\n",
              "    <tr style=\"text-align: right;\">\n",
              "      <th></th>\n",
              "      <th>longitude</th>\n",
              "      <th>latitude</th>\n",
              "      <th>housing_median_age</th>\n",
              "      <th>total_rooms</th>\n",
              "      <th>total_bedrooms</th>\n",
              "      <th>population</th>\n",
              "      <th>households</th>\n",
              "      <th>median_income</th>\n",
              "      <th>median_house_value</th>\n",
              "    </tr>\n",
              "  </thead>\n",
              "  <tbody>\n",
              "    <tr>\n",
              "      <th>11228</th>\n",
              "      <td>-121.07</td>\n",
              "      <td>40.85</td>\n",
              "      <td>17.0</td>\n",
              "      <td>976.0</td>\n",
              "      <td>202.0</td>\n",
              "      <td>511.0</td>\n",
              "      <td>175.0</td>\n",
              "      <td>3.6641</td>\n",
              "      <td>80800.0</td>\n",
              "    </tr>\n",
              "    <tr>\n",
              "      <th>12025</th>\n",
              "      <td>-121.41</td>\n",
              "      <td>40.82</td>\n",
              "      <td>16.0</td>\n",
              "      <td>2668.0</td>\n",
              "      <td>516.0</td>\n",
              "      <td>915.0</td>\n",
              "      <td>362.0</td>\n",
              "      <td>2.3393</td>\n",
              "      <td>90300.0</td>\n",
              "    </tr>\n",
              "    <tr>\n",
              "      <th>12212</th>\n",
              "      <td>-121.47</td>\n",
              "      <td>41.12</td>\n",
              "      <td>22.0</td>\n",
              "      <td>2737.0</td>\n",
              "      <td>512.0</td>\n",
              "      <td>1168.0</td>\n",
              "      <td>442.0</td>\n",
              "      <td>2.8300</td>\n",
              "      <td>88700.0</td>\n",
              "    </tr>\n",
              "    <tr>\n",
              "      <th>12525</th>\n",
              "      <td>-121.64</td>\n",
              "      <td>40.90</td>\n",
              "      <td>24.0</td>\n",
              "      <td>2237.0</td>\n",
              "      <td>434.0</td>\n",
              "      <td>834.0</td>\n",
              "      <td>318.0</td>\n",
              "      <td>1.7538</td>\n",
              "      <td>90300.0</td>\n",
              "    </tr>\n",
              "    <tr>\n",
              "      <th>15255</th>\n",
              "      <td>-122.28</td>\n",
              "      <td>41.38</td>\n",
              "      <td>15.0</td>\n",
              "      <td>5266.0</td>\n",
              "      <td>1031.0</td>\n",
              "      <td>2147.0</td>\n",
              "      <td>885.0</td>\n",
              "      <td>2.8036</td>\n",
              "      <td>110100.0</td>\n",
              "    </tr>\n",
              "    <tr>\n",
              "      <th>...</th>\n",
              "      <td>...</td>\n",
              "      <td>...</td>\n",
              "      <td>...</td>\n",
              "      <td>...</td>\n",
              "      <td>...</td>\n",
              "      <td>...</td>\n",
              "      <td>...</td>\n",
              "      <td>...</td>\n",
              "      <td>...</td>\n",
              "    </tr>\n",
              "    <tr>\n",
              "      <th>16974</th>\n",
              "      <td>-124.17</td>\n",
              "      <td>40.77</td>\n",
              "      <td>30.0</td>\n",
              "      <td>1895.0</td>\n",
              "      <td>366.0</td>\n",
              "      <td>990.0</td>\n",
              "      <td>359.0</td>\n",
              "      <td>2.2227</td>\n",
              "      <td>81300.0</td>\n",
              "    </tr>\n",
              "    <tr>\n",
              "      <th>16975</th>\n",
              "      <td>-124.17</td>\n",
              "      <td>40.76</td>\n",
              "      <td>26.0</td>\n",
              "      <td>1776.0</td>\n",
              "      <td>361.0</td>\n",
              "      <td>992.0</td>\n",
              "      <td>380.0</td>\n",
              "      <td>2.8056</td>\n",
              "      <td>82800.0</td>\n",
              "    </tr>\n",
              "    <tr>\n",
              "      <th>16976</th>\n",
              "      <td>-124.17</td>\n",
              "      <td>40.75</td>\n",
              "      <td>13.0</td>\n",
              "      <td>2171.0</td>\n",
              "      <td>339.0</td>\n",
              "      <td>951.0</td>\n",
              "      <td>353.0</td>\n",
              "      <td>4.8516</td>\n",
              "      <td>116100.0</td>\n",
              "    </tr>\n",
              "    <tr>\n",
              "      <th>16997</th>\n",
              "      <td>-124.30</td>\n",
              "      <td>41.84</td>\n",
              "      <td>17.0</td>\n",
              "      <td>2677.0</td>\n",
              "      <td>531.0</td>\n",
              "      <td>1244.0</td>\n",
              "      <td>456.0</td>\n",
              "      <td>3.0313</td>\n",
              "      <td>103600.0</td>\n",
              "    </tr>\n",
              "    <tr>\n",
              "      <th>16998</th>\n",
              "      <td>-124.30</td>\n",
              "      <td>41.80</td>\n",
              "      <td>19.0</td>\n",
              "      <td>2672.0</td>\n",
              "      <td>552.0</td>\n",
              "      <td>1298.0</td>\n",
              "      <td>478.0</td>\n",
              "      <td>1.9797</td>\n",
              "      <td>85800.0</td>\n",
              "    </tr>\n",
              "  </tbody>\n",
              "</table>\n",
              "<p>68 rows × 9 columns</p>\n",
              "</div>"
            ],
            "text/plain": [
              "       longitude  latitude  ...  median_income  median_house_value\n",
              "11228    -121.07     40.85  ...         3.6641             80800.0\n",
              "12025    -121.41     40.82  ...         2.3393             90300.0\n",
              "12212    -121.47     41.12  ...         2.8300             88700.0\n",
              "12525    -121.64     40.90  ...         1.7538             90300.0\n",
              "15255    -122.28     41.38  ...         2.8036            110100.0\n",
              "...          ...       ...  ...            ...                 ...\n",
              "16974    -124.17     40.77  ...         2.2227             81300.0\n",
              "16975    -124.17     40.76  ...         2.8056             82800.0\n",
              "16976    -124.17     40.75  ...         4.8516            116100.0\n",
              "16997    -124.30     41.84  ...         3.0313            103600.0\n",
              "16998    -124.30     41.80  ...         1.9797             85800.0\n",
              "\n",
              "[68 rows x 9 columns]"
            ]
          },
          "metadata": {},
          "execution_count": 62
        }
      ]
    },
    {
      "cell_type": "markdown",
      "metadata": {
        "_uuid": "9bb0b4f8e2b1b4e5c4d1d54404078201fe64b774",
        "id": "rQtkJSDVQoAy"
      },
      "source": [
        "# **Sort Data** <a id=\"60\"></a>\n",
        "\n",
        "<mark>[Return Contents](#0)\n",
        "<hr>\n",
        "\n",
        "### **df.sort_values('columnName')** <a id=\"61\"></a>\n",
        "This code sorts the column we specify in the form of low to high."
      ]
    },
    {
      "cell_type": "code",
      "metadata": {
        "trusted": true,
        "_uuid": "f15141d1d55decedc9682157f4f02be6ece75be2",
        "colab": {
          "base_uri": "https://localhost:8080/",
          "height": 206
        },
        "id": "GUumf-R9QoAy",
        "outputId": "f937ce1e-41da-40f5-9ef1-bdfc423f6437"
      },
      "source": [
        "df.sort_values('median_house_value').head()"
      ],
      "execution_count": null,
      "outputs": [
        {
          "output_type": "execute_result",
          "data": {
            "text/html": [
              "<div>\n",
              "<style scoped>\n",
              "    .dataframe tbody tr th:only-of-type {\n",
              "        vertical-align: middle;\n",
              "    }\n",
              "\n",
              "    .dataframe tbody tr th {\n",
              "        vertical-align: top;\n",
              "    }\n",
              "\n",
              "    .dataframe thead th {\n",
              "        text-align: right;\n",
              "    }\n",
              "</style>\n",
              "<table border=\"1\" class=\"dataframe\">\n",
              "  <thead>\n",
              "    <tr style=\"text-align: right;\">\n",
              "      <th></th>\n",
              "      <th>longitude</th>\n",
              "      <th>latitude</th>\n",
              "      <th>housing_median_age</th>\n",
              "      <th>total_rooms</th>\n",
              "      <th>total_bedrooms</th>\n",
              "      <th>population</th>\n",
              "      <th>households</th>\n",
              "      <th>median_income</th>\n",
              "      <th>median_house_value</th>\n",
              "    </tr>\n",
              "  </thead>\n",
              "  <tbody>\n",
              "    <tr>\n",
              "      <th>568</th>\n",
              "      <td>-117.02</td>\n",
              "      <td>36.40</td>\n",
              "      <td>19.0</td>\n",
              "      <td>619.0</td>\n",
              "      <td>239.0</td>\n",
              "      <td>490.0</td>\n",
              "      <td>164.0</td>\n",
              "      <td>2.1000</td>\n",
              "      <td>14999.0</td>\n",
              "    </tr>\n",
              "    <tr>\n",
              "      <th>16643</th>\n",
              "      <td>-122.74</td>\n",
              "      <td>39.71</td>\n",
              "      <td>16.0</td>\n",
              "      <td>255.0</td>\n",
              "      <td>73.0</td>\n",
              "      <td>85.0</td>\n",
              "      <td>38.0</td>\n",
              "      <td>1.6607</td>\n",
              "      <td>14999.0</td>\n",
              "    </tr>\n",
              "    <tr>\n",
              "      <th>16801</th>\n",
              "      <td>-123.17</td>\n",
              "      <td>40.31</td>\n",
              "      <td>36.0</td>\n",
              "      <td>98.0</td>\n",
              "      <td>28.0</td>\n",
              "      <td>18.0</td>\n",
              "      <td>8.0</td>\n",
              "      <td>0.5360</td>\n",
              "      <td>14999.0</td>\n",
              "    </tr>\n",
              "    <tr>\n",
              "      <th>3226</th>\n",
              "      <td>-117.86</td>\n",
              "      <td>34.24</td>\n",
              "      <td>52.0</td>\n",
              "      <td>803.0</td>\n",
              "      <td>267.0</td>\n",
              "      <td>628.0</td>\n",
              "      <td>225.0</td>\n",
              "      <td>4.1932</td>\n",
              "      <td>14999.0</td>\n",
              "    </tr>\n",
              "    <tr>\n",
              "      <th>7182</th>\n",
              "      <td>-118.33</td>\n",
              "      <td>34.15</td>\n",
              "      <td>39.0</td>\n",
              "      <td>493.0</td>\n",
              "      <td>168.0</td>\n",
              "      <td>259.0</td>\n",
              "      <td>138.0</td>\n",
              "      <td>2.3667</td>\n",
              "      <td>17500.0</td>\n",
              "    </tr>\n",
              "  </tbody>\n",
              "</table>\n",
              "</div>"
            ],
            "text/plain": [
              "       longitude  latitude  ...  median_income  median_house_value\n",
              "568      -117.02     36.40  ...         2.1000             14999.0\n",
              "16643    -122.74     39.71  ...         1.6607             14999.0\n",
              "16801    -123.17     40.31  ...         0.5360             14999.0\n",
              "3226     -117.86     34.24  ...         4.1932             14999.0\n",
              "7182     -118.33     34.15  ...         2.3667             17500.0\n",
              "\n",
              "[5 rows x 9 columns]"
            ]
          },
          "metadata": {},
          "execution_count": 63
        }
      ]
    },
    {
      "cell_type": "markdown",
      "metadata": {
        "_uuid": "8816e0ceab950045905c67d7782733690001908c",
        "id": "9_87WdZ_QoAy"
      },
      "source": [
        "### **df.sort_values('columnName', ascending=False)** <a id=\"62\"></a>\n",
        "This code is the column we specify in the form of high to low.\n",
        "\n",
        "<mark>[Return Contents](#0)\n",
        "<hr>"
      ]
    },
    {
      "cell_type": "code",
      "metadata": {
        "trusted": true,
        "_uuid": "13f2b3ac2b4c80f75acdcbdfa08fbcd5c61fd710",
        "colab": {
          "base_uri": "https://localhost:8080/",
          "height": 206
        },
        "id": "t2Eal0HOQoAy",
        "outputId": "c5973edd-5ea9-4475-cccb-a30df20580c0"
      },
      "source": [
        "df.sort_values('median_house_value', ascending=False).head()"
      ],
      "execution_count": null,
      "outputs": [
        {
          "output_type": "execute_result",
          "data": {
            "text/html": [
              "<div>\n",
              "<style scoped>\n",
              "    .dataframe tbody tr th:only-of-type {\n",
              "        vertical-align: middle;\n",
              "    }\n",
              "\n",
              "    .dataframe tbody tr th {\n",
              "        vertical-align: top;\n",
              "    }\n",
              "\n",
              "    .dataframe thead th {\n",
              "        text-align: right;\n",
              "    }\n",
              "</style>\n",
              "<table border=\"1\" class=\"dataframe\">\n",
              "  <thead>\n",
              "    <tr style=\"text-align: right;\">\n",
              "      <th></th>\n",
              "      <th>longitude</th>\n",
              "      <th>latitude</th>\n",
              "      <th>housing_median_age</th>\n",
              "      <th>total_rooms</th>\n",
              "      <th>total_bedrooms</th>\n",
              "      <th>population</th>\n",
              "      <th>households</th>\n",
              "      <th>median_income</th>\n",
              "      <th>median_house_value</th>\n",
              "    </tr>\n",
              "  </thead>\n",
              "  <tbody>\n",
              "    <tr>\n",
              "      <th>8628</th>\n",
              "      <td>-118.53</td>\n",
              "      <td>34.14</td>\n",
              "      <td>28.0</td>\n",
              "      <td>6920.0</td>\n",
              "      <td>906.0</td>\n",
              "      <td>2515.0</td>\n",
              "      <td>860.0</td>\n",
              "      <td>9.2189</td>\n",
              "      <td>500001.0</td>\n",
              "    </tr>\n",
              "    <tr>\n",
              "      <th>4398</th>\n",
              "      <td>-118.03</td>\n",
              "      <td>34.16</td>\n",
              "      <td>36.0</td>\n",
              "      <td>1640.0</td>\n",
              "      <td>239.0</td>\n",
              "      <td>693.0</td>\n",
              "      <td>253.0</td>\n",
              "      <td>6.6888</td>\n",
              "      <td>500001.0</td>\n",
              "    </tr>\n",
              "    <tr>\n",
              "      <th>8653</th>\n",
              "      <td>-118.54</td>\n",
              "      <td>34.05</td>\n",
              "      <td>33.0</td>\n",
              "      <td>6778.0</td>\n",
              "      <td>1092.0</td>\n",
              "      <td>2540.0</td>\n",
              "      <td>1052.0</td>\n",
              "      <td>8.5650</td>\n",
              "      <td>500001.0</td>\n",
              "    </tr>\n",
              "    <tr>\n",
              "      <th>8652</th>\n",
              "      <td>-118.54</td>\n",
              "      <td>34.06</td>\n",
              "      <td>21.0</td>\n",
              "      <td>3755.0</td>\n",
              "      <td>525.0</td>\n",
              "      <td>1493.0</td>\n",
              "      <td>526.0</td>\n",
              "      <td>11.4233</td>\n",
              "      <td>500001.0</td>\n",
              "    </tr>\n",
              "    <tr>\n",
              "      <th>4334</th>\n",
              "      <td>-118.01</td>\n",
              "      <td>33.69</td>\n",
              "      <td>3.0</td>\n",
              "      <td>945.0</td>\n",
              "      <td>115.0</td>\n",
              "      <td>337.0</td>\n",
              "      <td>123.0</td>\n",
              "      <td>11.5199</td>\n",
              "      <td>500001.0</td>\n",
              "    </tr>\n",
              "  </tbody>\n",
              "</table>\n",
              "</div>"
            ],
            "text/plain": [
              "      longitude  latitude  ...  median_income  median_house_value\n",
              "8628    -118.53     34.14  ...         9.2189            500001.0\n",
              "4398    -118.03     34.16  ...         6.6888            500001.0\n",
              "8653    -118.54     34.05  ...         8.5650            500001.0\n",
              "8652    -118.54     34.06  ...        11.4233            500001.0\n",
              "4334    -118.01     33.69  ...        11.5199            500001.0\n",
              "\n",
              "[5 rows x 9 columns]"
            ]
          },
          "metadata": {},
          "execution_count": 64
        }
      ]
    },
    {
      "cell_type": "markdown",
      "metadata": {
        "_uuid": "8cba417bec9ee6ac67ed1e37c2132842e4cfefb9",
        "id": "Kczn0mXvQoAz"
      },
      "source": [
        "### **df.sort_index()** <a id=\"63\"></a>\n",
        "This code sorts from small to large according to the DataFrame index.\n",
        "\n",
        "<mark>[Return Contents](#0)\n",
        "<hr>"
      ]
    },
    {
      "cell_type": "code",
      "metadata": {
        "trusted": true,
        "_uuid": "0317290f54888b03bf983a84382c6f78494a2a25",
        "colab": {
          "base_uri": "https://localhost:8080/",
          "height": 206
        },
        "id": "n661HHVwQoAz",
        "outputId": "3207a2c6-a604-41f3-d0dd-62031928b30c"
      },
      "source": [
        "df.sort_index().head()"
      ],
      "execution_count": null,
      "outputs": [
        {
          "output_type": "execute_result",
          "data": {
            "text/html": [
              "<div>\n",
              "<style scoped>\n",
              "    .dataframe tbody tr th:only-of-type {\n",
              "        vertical-align: middle;\n",
              "    }\n",
              "\n",
              "    .dataframe tbody tr th {\n",
              "        vertical-align: top;\n",
              "    }\n",
              "\n",
              "    .dataframe thead th {\n",
              "        text-align: right;\n",
              "    }\n",
              "</style>\n",
              "<table border=\"1\" class=\"dataframe\">\n",
              "  <thead>\n",
              "    <tr style=\"text-align: right;\">\n",
              "      <th></th>\n",
              "      <th>longitude</th>\n",
              "      <th>latitude</th>\n",
              "      <th>housing_median_age</th>\n",
              "      <th>total_rooms</th>\n",
              "      <th>total_bedrooms</th>\n",
              "      <th>population</th>\n",
              "      <th>households</th>\n",
              "      <th>median_income</th>\n",
              "      <th>median_house_value</th>\n",
              "    </tr>\n",
              "  </thead>\n",
              "  <tbody>\n",
              "    <tr>\n",
              "      <th>0</th>\n",
              "      <td>-114.31</td>\n",
              "      <td>34.19</td>\n",
              "      <td>15.0</td>\n",
              "      <td>5612.0</td>\n",
              "      <td>1283.0</td>\n",
              "      <td>1015.0</td>\n",
              "      <td>472.0</td>\n",
              "      <td>1.4936</td>\n",
              "      <td>66900.0</td>\n",
              "    </tr>\n",
              "    <tr>\n",
              "      <th>1</th>\n",
              "      <td>-114.47</td>\n",
              "      <td>34.40</td>\n",
              "      <td>19.0</td>\n",
              "      <td>7650.0</td>\n",
              "      <td>1901.0</td>\n",
              "      <td>1129.0</td>\n",
              "      <td>463.0</td>\n",
              "      <td>1.8200</td>\n",
              "      <td>80100.0</td>\n",
              "    </tr>\n",
              "    <tr>\n",
              "      <th>2</th>\n",
              "      <td>-114.56</td>\n",
              "      <td>33.69</td>\n",
              "      <td>17.0</td>\n",
              "      <td>720.0</td>\n",
              "      <td>174.0</td>\n",
              "      <td>333.0</td>\n",
              "      <td>117.0</td>\n",
              "      <td>1.6509</td>\n",
              "      <td>85700.0</td>\n",
              "    </tr>\n",
              "    <tr>\n",
              "      <th>3</th>\n",
              "      <td>-114.57</td>\n",
              "      <td>33.64</td>\n",
              "      <td>14.0</td>\n",
              "      <td>1501.0</td>\n",
              "      <td>337.0</td>\n",
              "      <td>515.0</td>\n",
              "      <td>226.0</td>\n",
              "      <td>3.1917</td>\n",
              "      <td>73400.0</td>\n",
              "    </tr>\n",
              "    <tr>\n",
              "      <th>4</th>\n",
              "      <td>-114.57</td>\n",
              "      <td>33.57</td>\n",
              "      <td>20.0</td>\n",
              "      <td>1454.0</td>\n",
              "      <td>326.0</td>\n",
              "      <td>624.0</td>\n",
              "      <td>262.0</td>\n",
              "      <td>1.9250</td>\n",
              "      <td>65500.0</td>\n",
              "    </tr>\n",
              "  </tbody>\n",
              "</table>\n",
              "</div>"
            ],
            "text/plain": [
              "   longitude  latitude  ...  median_income  median_house_value\n",
              "0    -114.31     34.19  ...         1.4936             66900.0\n",
              "1    -114.47     34.40  ...         1.8200             80100.0\n",
              "2    -114.56     33.69  ...         1.6509             85700.0\n",
              "3    -114.57     33.64  ...         3.1917             73400.0\n",
              "4    -114.57     33.57  ...         1.9250             65500.0\n",
              "\n",
              "[5 rows x 9 columns]"
            ]
          },
          "metadata": {},
          "execution_count": 65
        }
      ]
    },
    {
      "cell_type": "markdown",
      "metadata": {
        "_uuid": "1e10d8a4929a0bd2587d0826dc863d35784bcd68",
        "id": "vcQEdpkmQoAz"
      },
      "source": [
        "# **Rename & Defining New & Change Columns** <a id=\"64\"></a>\n",
        "<mark>[Return Contents](#0)\n",
        "<hr>"
      ]
    },
    {
      "cell_type": "markdown",
      "metadata": {
        "_uuid": "e6d2f6146eee2aec07942640be832e6f465f8b13",
        "id": "TnXqPbdbQoAz"
      },
      "source": [
        "### **df.rename(columns= {'columnName' : 'newColumnName'})** <a id=\"65\"></a>\n",
        "This code helps us change the column name. The code I wrote below changes the ID value, but as we did not assign the change to the variable DF, it seems to be unchanged as you see below."
      ]
    },
    {
      "cell_type": "code",
      "metadata": {
        "trusted": true,
        "_uuid": "f9629a7d893e2d06b28cd894755960b330abc5f1",
        "colab": {
          "base_uri": "https://localhost:8080/",
          "height": 206
        },
        "id": "8f5Ry-TCQoAz",
        "outputId": "c459fe57-7aa6-486c-e55c-65886d23f621"
      },
      "source": [
        "df.rename(columns= {'latitude' : 'latitude_'}).head()\n",
        "# df = df.rename(columns= {'Id' : 'Identif'}, inplace=True) -> True way\n",
        "# inplace= True or False; This meaning, overwrite the data set.\n",
        "# Other Way\n",
        "# df.columns = ['date', 'open', 'high', 'low', 'close', 'volume', 'adjclose']"
      ],
      "execution_count": null,
      "outputs": [
        {
          "output_type": "execute_result",
          "data": {
            "text/html": [
              "<div>\n",
              "<style scoped>\n",
              "    .dataframe tbody tr th:only-of-type {\n",
              "        vertical-align: middle;\n",
              "    }\n",
              "\n",
              "    .dataframe tbody tr th {\n",
              "        vertical-align: top;\n",
              "    }\n",
              "\n",
              "    .dataframe thead th {\n",
              "        text-align: right;\n",
              "    }\n",
              "</style>\n",
              "<table border=\"1\" class=\"dataframe\">\n",
              "  <thead>\n",
              "    <tr style=\"text-align: right;\">\n",
              "      <th></th>\n",
              "      <th>longitude</th>\n",
              "      <th>latitude_</th>\n",
              "      <th>housing_median_age</th>\n",
              "      <th>total_rooms</th>\n",
              "      <th>total_bedrooms</th>\n",
              "      <th>population</th>\n",
              "      <th>households</th>\n",
              "      <th>median_income</th>\n",
              "      <th>median_house_value</th>\n",
              "    </tr>\n",
              "  </thead>\n",
              "  <tbody>\n",
              "    <tr>\n",
              "      <th>0</th>\n",
              "      <td>-114.31</td>\n",
              "      <td>34.19</td>\n",
              "      <td>15.0</td>\n",
              "      <td>5612.0</td>\n",
              "      <td>1283.0</td>\n",
              "      <td>1015.0</td>\n",
              "      <td>472.0</td>\n",
              "      <td>1.4936</td>\n",
              "      <td>66900.0</td>\n",
              "    </tr>\n",
              "    <tr>\n",
              "      <th>1</th>\n",
              "      <td>-114.47</td>\n",
              "      <td>34.40</td>\n",
              "      <td>19.0</td>\n",
              "      <td>7650.0</td>\n",
              "      <td>1901.0</td>\n",
              "      <td>1129.0</td>\n",
              "      <td>463.0</td>\n",
              "      <td>1.8200</td>\n",
              "      <td>80100.0</td>\n",
              "    </tr>\n",
              "    <tr>\n",
              "      <th>2</th>\n",
              "      <td>-114.56</td>\n",
              "      <td>33.69</td>\n",
              "      <td>17.0</td>\n",
              "      <td>720.0</td>\n",
              "      <td>174.0</td>\n",
              "      <td>333.0</td>\n",
              "      <td>117.0</td>\n",
              "      <td>1.6509</td>\n",
              "      <td>85700.0</td>\n",
              "    </tr>\n",
              "    <tr>\n",
              "      <th>3</th>\n",
              "      <td>-114.57</td>\n",
              "      <td>33.64</td>\n",
              "      <td>14.0</td>\n",
              "      <td>1501.0</td>\n",
              "      <td>337.0</td>\n",
              "      <td>515.0</td>\n",
              "      <td>226.0</td>\n",
              "      <td>3.1917</td>\n",
              "      <td>73400.0</td>\n",
              "    </tr>\n",
              "    <tr>\n",
              "      <th>4</th>\n",
              "      <td>-114.57</td>\n",
              "      <td>33.57</td>\n",
              "      <td>20.0</td>\n",
              "      <td>1454.0</td>\n",
              "      <td>326.0</td>\n",
              "      <td>624.0</td>\n",
              "      <td>262.0</td>\n",
              "      <td>1.9250</td>\n",
              "      <td>65500.0</td>\n",
              "    </tr>\n",
              "  </tbody>\n",
              "</table>\n",
              "</div>"
            ],
            "text/plain": [
              "   longitude  latitude_  ...  median_income  median_house_value\n",
              "0    -114.31      34.19  ...         1.4936             66900.0\n",
              "1    -114.47      34.40  ...         1.8200             80100.0\n",
              "2    -114.56      33.69  ...         1.6509             85700.0\n",
              "3    -114.57      33.64  ...         3.1917             73400.0\n",
              "4    -114.57      33.57  ...         1.9250             65500.0\n",
              "\n",
              "[5 rows x 9 columns]"
            ]
          },
          "metadata": {},
          "execution_count": 67
        }
      ]
    },
    {
      "cell_type": "markdown",
      "metadata": {
        "_uuid": "589a1f14eb9a14430b16fe7bdbb7f8f75739a672",
        "id": "xCLwM2WUQoAz"
      },
      "source": [
        "###  **Defining New Column** <a id=\"66\"></a>\n",
        "Create a new column\n",
        "\n",
        "<mark>[Return Contents](#0)\n",
        "<hr>"
      ]
    },
    {
      "cell_type": "code",
      "metadata": {
        "trusted": true,
        "_uuid": "6056aa5ff4fbfa729cf28f13fe12693bc2baad24",
        "colab": {
          "base_uri": "https://localhost:8080/",
          "height": 206
        },
        "id": "z5e4fDF6QoAz",
        "outputId": "ec4be4e8-7e7d-42a2-f6ff-a42c48f88c03"
      },
      "source": [
        "df[\"Difference\"] = df.total_rooms - df.total_bedrooms\n",
        "df.head()"
      ],
      "execution_count": null,
      "outputs": [
        {
          "output_type": "execute_result",
          "data": {
            "text/html": [
              "<div>\n",
              "<style scoped>\n",
              "    .dataframe tbody tr th:only-of-type {\n",
              "        vertical-align: middle;\n",
              "    }\n",
              "\n",
              "    .dataframe tbody tr th {\n",
              "        vertical-align: top;\n",
              "    }\n",
              "\n",
              "    .dataframe thead th {\n",
              "        text-align: right;\n",
              "    }\n",
              "</style>\n",
              "<table border=\"1\" class=\"dataframe\">\n",
              "  <thead>\n",
              "    <tr style=\"text-align: right;\">\n",
              "      <th></th>\n",
              "      <th>longitude</th>\n",
              "      <th>latitude</th>\n",
              "      <th>housing_median_age</th>\n",
              "      <th>total_rooms</th>\n",
              "      <th>total_bedrooms</th>\n",
              "      <th>population</th>\n",
              "      <th>households</th>\n",
              "      <th>median_income</th>\n",
              "      <th>median_house_value</th>\n",
              "      <th>Difference</th>\n",
              "    </tr>\n",
              "  </thead>\n",
              "  <tbody>\n",
              "    <tr>\n",
              "      <th>0</th>\n",
              "      <td>-114.31</td>\n",
              "      <td>34.19</td>\n",
              "      <td>15.0</td>\n",
              "      <td>5612.0</td>\n",
              "      <td>1283.0</td>\n",
              "      <td>1015.0</td>\n",
              "      <td>472.0</td>\n",
              "      <td>1.4936</td>\n",
              "      <td>66900.0</td>\n",
              "      <td>4329.0</td>\n",
              "    </tr>\n",
              "    <tr>\n",
              "      <th>1</th>\n",
              "      <td>-114.47</td>\n",
              "      <td>34.40</td>\n",
              "      <td>19.0</td>\n",
              "      <td>7650.0</td>\n",
              "      <td>1901.0</td>\n",
              "      <td>1129.0</td>\n",
              "      <td>463.0</td>\n",
              "      <td>1.8200</td>\n",
              "      <td>80100.0</td>\n",
              "      <td>5749.0</td>\n",
              "    </tr>\n",
              "    <tr>\n",
              "      <th>2</th>\n",
              "      <td>-114.56</td>\n",
              "      <td>33.69</td>\n",
              "      <td>17.0</td>\n",
              "      <td>720.0</td>\n",
              "      <td>174.0</td>\n",
              "      <td>333.0</td>\n",
              "      <td>117.0</td>\n",
              "      <td>1.6509</td>\n",
              "      <td>85700.0</td>\n",
              "      <td>546.0</td>\n",
              "    </tr>\n",
              "    <tr>\n",
              "      <th>3</th>\n",
              "      <td>-114.57</td>\n",
              "      <td>33.64</td>\n",
              "      <td>14.0</td>\n",
              "      <td>1501.0</td>\n",
              "      <td>337.0</td>\n",
              "      <td>515.0</td>\n",
              "      <td>226.0</td>\n",
              "      <td>3.1917</td>\n",
              "      <td>73400.0</td>\n",
              "      <td>1164.0</td>\n",
              "    </tr>\n",
              "    <tr>\n",
              "      <th>4</th>\n",
              "      <td>-114.57</td>\n",
              "      <td>33.57</td>\n",
              "      <td>20.0</td>\n",
              "      <td>1454.0</td>\n",
              "      <td>326.0</td>\n",
              "      <td>624.0</td>\n",
              "      <td>262.0</td>\n",
              "      <td>1.9250</td>\n",
              "      <td>65500.0</td>\n",
              "      <td>1128.0</td>\n",
              "    </tr>\n",
              "  </tbody>\n",
              "</table>\n",
              "</div>"
            ],
            "text/plain": [
              "   longitude  latitude  ...  median_house_value  Difference\n",
              "0    -114.31     34.19  ...             66900.0      4329.0\n",
              "1    -114.47     34.40  ...             80100.0      5749.0\n",
              "2    -114.56     33.69  ...             85700.0       546.0\n",
              "3    -114.57     33.64  ...             73400.0      1164.0\n",
              "4    -114.57     33.57  ...             65500.0      1128.0\n",
              "\n",
              "[5 rows x 10 columns]"
            ]
          },
          "metadata": {},
          "execution_count": 68
        }
      ]
    },
    {
      "cell_type": "markdown",
      "metadata": {
        "_uuid": "1964b6b7fc90407b51aa73cb742abf02880f65cc",
        "id": "mKXrwmATQoAz"
      },
      "source": [
        "### **Change Index Name** <a id=\"67\"></a>\n",
        "Change index name to new index name\n",
        "\n",
        "<mark>[Return Contents](#0)\n",
        "<hr>"
      ]
    },
    {
      "cell_type": "code",
      "metadata": {
        "trusted": true,
        "_uuid": "ada0dc263126bde102f32891d5a574136ea0796d",
        "colab": {
          "base_uri": "https://localhost:8080/",
          "height": 256
        },
        "id": "coBRCO49QoA0",
        "outputId": "82805243-03e0-4f42-b29b-1d098aa3b36d"
      },
      "source": [
        "print(df.index.name)\n",
        "df.index.name = \"index_name\"\n",
        "df.head()"
      ],
      "execution_count": null,
      "outputs": [
        {
          "output_type": "stream",
          "name": "stdout",
          "text": [
            "None\n"
          ]
        },
        {
          "output_type": "execute_result",
          "data": {
            "text/html": [
              "<div>\n",
              "<style scoped>\n",
              "    .dataframe tbody tr th:only-of-type {\n",
              "        vertical-align: middle;\n",
              "    }\n",
              "\n",
              "    .dataframe tbody tr th {\n",
              "        vertical-align: top;\n",
              "    }\n",
              "\n",
              "    .dataframe thead th {\n",
              "        text-align: right;\n",
              "    }\n",
              "</style>\n",
              "<table border=\"1\" class=\"dataframe\">\n",
              "  <thead>\n",
              "    <tr style=\"text-align: right;\">\n",
              "      <th></th>\n",
              "      <th>longitude</th>\n",
              "      <th>latitude</th>\n",
              "      <th>housing_median_age</th>\n",
              "      <th>total_rooms</th>\n",
              "      <th>total_bedrooms</th>\n",
              "      <th>population</th>\n",
              "      <th>households</th>\n",
              "      <th>median_income</th>\n",
              "      <th>median_house_value</th>\n",
              "      <th>Difference</th>\n",
              "    </tr>\n",
              "    <tr>\n",
              "      <th>index_name</th>\n",
              "      <th></th>\n",
              "      <th></th>\n",
              "      <th></th>\n",
              "      <th></th>\n",
              "      <th></th>\n",
              "      <th></th>\n",
              "      <th></th>\n",
              "      <th></th>\n",
              "      <th></th>\n",
              "      <th></th>\n",
              "    </tr>\n",
              "  </thead>\n",
              "  <tbody>\n",
              "    <tr>\n",
              "      <th>0</th>\n",
              "      <td>-114.31</td>\n",
              "      <td>34.19</td>\n",
              "      <td>15.0</td>\n",
              "      <td>5612.0</td>\n",
              "      <td>1283.0</td>\n",
              "      <td>1015.0</td>\n",
              "      <td>472.0</td>\n",
              "      <td>1.4936</td>\n",
              "      <td>66900.0</td>\n",
              "      <td>4329.0</td>\n",
              "    </tr>\n",
              "    <tr>\n",
              "      <th>1</th>\n",
              "      <td>-114.47</td>\n",
              "      <td>34.40</td>\n",
              "      <td>19.0</td>\n",
              "      <td>7650.0</td>\n",
              "      <td>1901.0</td>\n",
              "      <td>1129.0</td>\n",
              "      <td>463.0</td>\n",
              "      <td>1.8200</td>\n",
              "      <td>80100.0</td>\n",
              "      <td>5749.0</td>\n",
              "    </tr>\n",
              "    <tr>\n",
              "      <th>2</th>\n",
              "      <td>-114.56</td>\n",
              "      <td>33.69</td>\n",
              "      <td>17.0</td>\n",
              "      <td>720.0</td>\n",
              "      <td>174.0</td>\n",
              "      <td>333.0</td>\n",
              "      <td>117.0</td>\n",
              "      <td>1.6509</td>\n",
              "      <td>85700.0</td>\n",
              "      <td>546.0</td>\n",
              "    </tr>\n",
              "    <tr>\n",
              "      <th>3</th>\n",
              "      <td>-114.57</td>\n",
              "      <td>33.64</td>\n",
              "      <td>14.0</td>\n",
              "      <td>1501.0</td>\n",
              "      <td>337.0</td>\n",
              "      <td>515.0</td>\n",
              "      <td>226.0</td>\n",
              "      <td>3.1917</td>\n",
              "      <td>73400.0</td>\n",
              "      <td>1164.0</td>\n",
              "    </tr>\n",
              "    <tr>\n",
              "      <th>4</th>\n",
              "      <td>-114.57</td>\n",
              "      <td>33.57</td>\n",
              "      <td>20.0</td>\n",
              "      <td>1454.0</td>\n",
              "      <td>326.0</td>\n",
              "      <td>624.0</td>\n",
              "      <td>262.0</td>\n",
              "      <td>1.9250</td>\n",
              "      <td>65500.0</td>\n",
              "      <td>1128.0</td>\n",
              "    </tr>\n",
              "  </tbody>\n",
              "</table>\n",
              "</div>"
            ],
            "text/plain": [
              "            longitude  latitude  ...  median_house_value  Difference\n",
              "index_name                       ...                                \n",
              "0             -114.31     34.19  ...             66900.0      4329.0\n",
              "1             -114.47     34.40  ...             80100.0      5749.0\n",
              "2             -114.56     33.69  ...             85700.0       546.0\n",
              "3             -114.57     33.64  ...             73400.0      1164.0\n",
              "4             -114.57     33.57  ...             65500.0      1128.0\n",
              "\n",
              "[5 rows x 10 columns]"
            ]
          },
          "metadata": {},
          "execution_count": 69
        }
      ]
    },
    {
      "cell_type": "markdown",
      "metadata": {
        "_uuid": "15710f63a62ff12196912e9b41919b6157b90dff",
        "id": "lrF5FezmQoA0"
      },
      "source": [
        "### **Make all columns lowercase** <a id=\"68\"></a>\n",
        "<mark>[Return Contents](#0)\n",
        "<hr>"
      ]
    },
    {
      "cell_type": "code",
      "metadata": {
        "trusted": true,
        "_uuid": "ae9b53e39babf6b99fae1ebc3746ccd41be813b3",
        "id": "pTFSRXO7QoA0"
      },
      "source": [
        "#df.columns = map(str.lower(), df.columns)"
      ],
      "execution_count": null,
      "outputs": []
    },
    {
      "cell_type": "markdown",
      "metadata": {
        "_uuid": "5e56335f86a4e3e463151a9e4470bdf71183b863",
        "id": "UU9xAMEsQoA0"
      },
      "source": [
        "### **Make all columns uppercase** <a id=\"69\"></a>\n",
        "<mark>[Return Contents](#0)\n",
        "<hr>"
      ]
    },
    {
      "cell_type": "code",
      "metadata": {
        "trusted": true,
        "_uuid": "7c1800e1b60aadffc1105b77dae3ae98f62b67fa",
        "id": "Qbzz58E2QoA0"
      },
      "source": [
        "#df.columns = map(str.upper(), df.columns)"
      ],
      "execution_count": null,
      "outputs": []
    },
    {
      "cell_type": "markdown",
      "metadata": {
        "_uuid": "6b289272d9dff6967d82110f9e71b8cf0754cf1f",
        "id": "3hXcbTBMQoA0"
      },
      "source": [
        "# **Drop Data** <a id=\"70\"></a>\n",
        "\n",
        "<mark>[Return Contents](#0)\n",
        "<hr>"
      ]
    },
    {
      "cell_type": "markdown",
      "metadata": {
        "_uuid": "e9ac8aff9d77672a72d8460ccc00612d13fff631",
        "id": "flNT9HMlQoA0"
      },
      "source": [
        "### **df.drop(columns=['columnName'])** <a id=\"71\"></a>\n",
        "This code deletes the column we have specified. But as above, I have to reset the delete to the df variable again."
      ]
    },
    {
      "cell_type": "code",
      "metadata": {
        "trusted": true,
        "_uuid": "41d2d8fff5ad5d5e1175ec4bc985169bf3872f23",
        "colab": {
          "base_uri": "https://localhost:8080/",
          "height": 237
        },
        "id": "nDZCzO4iQoA0",
        "outputId": "221e3678-2048-4f95-a54d-058f5eb5ce97"
      },
      "source": [
        "df.drop(columns=['latitude']).head()\n",
        "# df = df.drop(columns=['Id']) -> True way\n",
        "# OR\n",
        "# df = df.drop('col', axis=1)\n",
        "# axis = 1 is meaning delete columns\n",
        "# axis = 0 is meaning delete rows"
      ],
      "execution_count": null,
      "outputs": [
        {
          "output_type": "execute_result",
          "data": {
            "text/html": [
              "<div>\n",
              "<style scoped>\n",
              "    .dataframe tbody tr th:only-of-type {\n",
              "        vertical-align: middle;\n",
              "    }\n",
              "\n",
              "    .dataframe tbody tr th {\n",
              "        vertical-align: top;\n",
              "    }\n",
              "\n",
              "    .dataframe thead th {\n",
              "        text-align: right;\n",
              "    }\n",
              "</style>\n",
              "<table border=\"1\" class=\"dataframe\">\n",
              "  <thead>\n",
              "    <tr style=\"text-align: right;\">\n",
              "      <th></th>\n",
              "      <th>longitude</th>\n",
              "      <th>housing_median_age</th>\n",
              "      <th>total_rooms</th>\n",
              "      <th>total_bedrooms</th>\n",
              "      <th>population</th>\n",
              "      <th>households</th>\n",
              "      <th>median_income</th>\n",
              "      <th>median_house_value</th>\n",
              "      <th>Difference</th>\n",
              "    </tr>\n",
              "    <tr>\n",
              "      <th>index_name</th>\n",
              "      <th></th>\n",
              "      <th></th>\n",
              "      <th></th>\n",
              "      <th></th>\n",
              "      <th></th>\n",
              "      <th></th>\n",
              "      <th></th>\n",
              "      <th></th>\n",
              "      <th></th>\n",
              "    </tr>\n",
              "  </thead>\n",
              "  <tbody>\n",
              "    <tr>\n",
              "      <th>0</th>\n",
              "      <td>-114.31</td>\n",
              "      <td>15.0</td>\n",
              "      <td>5612.0</td>\n",
              "      <td>1283.0</td>\n",
              "      <td>1015.0</td>\n",
              "      <td>472.0</td>\n",
              "      <td>1.4936</td>\n",
              "      <td>66900.0</td>\n",
              "      <td>4329.0</td>\n",
              "    </tr>\n",
              "    <tr>\n",
              "      <th>1</th>\n",
              "      <td>-114.47</td>\n",
              "      <td>19.0</td>\n",
              "      <td>7650.0</td>\n",
              "      <td>1901.0</td>\n",
              "      <td>1129.0</td>\n",
              "      <td>463.0</td>\n",
              "      <td>1.8200</td>\n",
              "      <td>80100.0</td>\n",
              "      <td>5749.0</td>\n",
              "    </tr>\n",
              "    <tr>\n",
              "      <th>2</th>\n",
              "      <td>-114.56</td>\n",
              "      <td>17.0</td>\n",
              "      <td>720.0</td>\n",
              "      <td>174.0</td>\n",
              "      <td>333.0</td>\n",
              "      <td>117.0</td>\n",
              "      <td>1.6509</td>\n",
              "      <td>85700.0</td>\n",
              "      <td>546.0</td>\n",
              "    </tr>\n",
              "    <tr>\n",
              "      <th>3</th>\n",
              "      <td>-114.57</td>\n",
              "      <td>14.0</td>\n",
              "      <td>1501.0</td>\n",
              "      <td>337.0</td>\n",
              "      <td>515.0</td>\n",
              "      <td>226.0</td>\n",
              "      <td>3.1917</td>\n",
              "      <td>73400.0</td>\n",
              "      <td>1164.0</td>\n",
              "    </tr>\n",
              "    <tr>\n",
              "      <th>4</th>\n",
              "      <td>-114.57</td>\n",
              "      <td>20.0</td>\n",
              "      <td>1454.0</td>\n",
              "      <td>326.0</td>\n",
              "      <td>624.0</td>\n",
              "      <td>262.0</td>\n",
              "      <td>1.9250</td>\n",
              "      <td>65500.0</td>\n",
              "      <td>1128.0</td>\n",
              "    </tr>\n",
              "  </tbody>\n",
              "</table>\n",
              "</div>"
            ],
            "text/plain": [
              "            longitude  housing_median_age  ...  median_house_value  Difference\n",
              "index_name                                 ...                                \n",
              "0             -114.31                15.0  ...             66900.0      4329.0\n",
              "1             -114.47                19.0  ...             80100.0      5749.0\n",
              "2             -114.56                17.0  ...             85700.0       546.0\n",
              "3             -114.57                14.0  ...             73400.0      1164.0\n",
              "4             -114.57                20.0  ...             65500.0      1128.0\n",
              "\n",
              "[5 rows x 9 columns]"
            ]
          },
          "metadata": {},
          "execution_count": 70
        }
      ]
    },
    {
      "cell_type": "markdown",
      "metadata": {
        "_uuid": "f80fb6f28d3b1ca5c0e30ebbb40e3c56ba19581c",
        "id": "bMHNYAmpQoA0"
      },
      "source": [
        "### **mySeries.drop(['a'])** <a id=\"72\"></a>\n",
        "This code allows us to delete the value specified in the series.\n",
        "\n",
        "<mark>[Return Contents](#0)\n",
        "<hr>"
      ]
    },
    {
      "cell_type": "code",
      "metadata": {
        "trusted": true,
        "_uuid": "77930a8a0369518c8c5bfcf4c8594adb14ca028c",
        "colab": {
          "base_uri": "https://localhost:8080/"
        },
        "id": "9ghH9kq5QoA0",
        "outputId": "1246091e-0fb7-4851-9802-b58e68670d60"
      },
      "source": [
        "mySeries.drop(['a'])"
      ],
      "execution_count": null,
      "outputs": [
        {
          "output_type": "execute_result",
          "data": {
            "text/plain": [
              "b   -5\n",
              "c    7\n",
              "d    4\n",
              "dtype: int64"
            ]
          },
          "metadata": {},
          "execution_count": 71
        }
      ]
    },
    {
      "cell_type": "markdown",
      "metadata": {
        "_uuid": "6a472c27b3703d89606949b355c5008ff8981908",
        "id": "xpJ19hlgQoA0"
      },
      "source": [
        "### **Drop an observation (row)** <a id=\"82\"></a>\n",
        "\n",
        "<mark>[Return Contents](#0)\n",
        "<hr>"
      ]
    },
    {
      "cell_type": "code",
      "metadata": {
        "trusted": true,
        "_uuid": "3fb937803e52af8a17314cfd0ccb24e0d87f7423",
        "id": "qy1JkG3oQoA0"
      },
      "source": [
        "# df.drop(['2016-07-01', '2016-06-27'])"
      ],
      "execution_count": null,
      "outputs": []
    },
    {
      "cell_type": "markdown",
      "metadata": {
        "_uuid": "24773e44d98f5c9bcb97c7aa8b7109919f8c8d91",
        "id": "nLMxg-IMQoA1"
      },
      "source": [
        "### **Drop a variable (column)** <a id=\"83\"></a>\n",
        "\n",
        "<mark>[Return Contents](#0)\n",
        "<hr>\n",
        "Note: axis=1 denotes that we are referring to a column, not a row"
      ]
    },
    {
      "cell_type": "code",
      "metadata": {
        "trusted": true,
        "_uuid": "3b341838cde86e0bf29cf10acd86c89fd5e3dae9",
        "id": "C8T30dFWQoA1"
      },
      "source": [
        "# df.drop('Volume', axis=1)"
      ],
      "execution_count": null,
      "outputs": []
    },
    {
      "cell_type": "markdown",
      "metadata": {
        "_uuid": "257734e1e5181e1a7983b246b96fd9d48e82c383",
        "id": "GOokJHUZQoA1"
      },
      "source": [
        "# **Convert Data Types** <a id=\"73\"></a>\n",
        "\n",
        "<mark>[Return Contents](#0)\n",
        "<hr>\n",
        "\n",
        "### **df.dtypes** <a id=\"74\"></a>\n",
        "This code shows what data type of columns are. Boolean, int, float, object(String), date and categorical."
      ]
    },
    {
      "cell_type": "code",
      "metadata": {
        "trusted": true,
        "_uuid": "d02e7c7f166080e52b16976bbf2e823bc341f6c9",
        "colab": {
          "base_uri": "https://localhost:8080/"
        },
        "id": "2ushe2oSQoA1",
        "outputId": "4effd61a-b8c3-47d6-dba3-a70501ce630d"
      },
      "source": [
        "df.dtypes"
      ],
      "execution_count": null,
      "outputs": [
        {
          "output_type": "execute_result",
          "data": {
            "text/plain": [
              "longitude             float64\n",
              "latitude              float64\n",
              "housing_median_age    float64\n",
              "total_rooms           float64\n",
              "total_bedrooms        float64\n",
              "population            float64\n",
              "households            float64\n",
              "median_income         float64\n",
              "median_house_value    float64\n",
              "Difference            float64\n",
              "dtype: object"
            ]
          },
          "metadata": {},
          "execution_count": 72
        }
      ]
    },
    {
      "cell_type": "markdown",
      "metadata": {
        "_uuid": "ca2aa5c9ab554e05194f2d615b951e7bd0dd53a5",
        "id": "uzhYkXYGQoA1"
      },
      "source": [
        "### **df['columnName'] = df['columnName'].astype('dataType')** <a id=\"75\"></a>\n",
        "This code convert the column we specify into the data type we specify.\n",
        "\n",
        "<mark>[Return Contents](#0)\n",
        "<hr>"
      ]
    },
    {
      "cell_type": "code",
      "metadata": {
        "trusted": true,
        "_uuid": "ab77df3bc11b833c288e65de5b14942623323141",
        "colab": {
          "base_uri": "https://localhost:8080/"
        },
        "id": "KSCiApmwQoA1",
        "outputId": "e4daa6f2-09f9-47fc-ec22-e7a593fb1902"
      },
      "source": [
        "df.households.astype(int).dtypes\n",
        "# OR Convert Datetime\n",
        "# df.Date= pd.to_datetime(df.Date)"
      ],
      "execution_count": null,
      "outputs": [
        {
          "output_type": "execute_result",
          "data": {
            "text/plain": [
              "dtype('int64')"
            ]
          },
          "metadata": {},
          "execution_count": 78
        }
      ]
    },
    {
      "cell_type": "markdown",
      "metadata": {
        "_uuid": "019d675c8328676e2a53c936359a83530f2fccf8",
        "id": "z3N7vJ1QQoA1"
      },
      "source": [
        "# **Apply Function** <a id=\"77\"></a>\n",
        "\n",
        "<mark>[Return Contents](#0)\n",
        "<hr>\n",
        "\n",
        "### **Method 1** <a id=\"78\"></a>"
      ]
    },
    {
      "cell_type": "code",
      "metadata": {
        "trusted": true,
        "_uuid": "f3d0a47f7f60f42ab74031960962dca9f5c51a90",
        "colab": {
          "base_uri": "https://localhost:8080/"
        },
        "id": "hzaLgIwZQoA1",
        "outputId": "95c8b512-44f0-48aa-ce28-092fa509493e"
      },
      "source": [
        "def examples(x):   #create a function\n",
        "    return x*2\n",
        "\n",
        "df.households.apply(examples).head()  #use the function with apply() "
      ],
      "execution_count": null,
      "outputs": [
        {
          "output_type": "execute_result",
          "data": {
            "text/plain": [
              "index_name\n",
              "0    944.0\n",
              "1    926.0\n",
              "2    234.0\n",
              "3    452.0\n",
              "4    524.0\n",
              "Name: households, dtype: float64"
            ]
          },
          "metadata": {},
          "execution_count": 79
        }
      ]
    },
    {
      "cell_type": "markdown",
      "metadata": {
        "_uuid": "45734ddf89edf8ad9075a2222c78448b0e455214",
        "id": "5x_NQbAPQoA1"
      },
      "source": [
        "### **Method 2** <a id=\"79\"></a>"
      ]
    },
    {
      "cell_type": "code",
      "metadata": {
        "trusted": true,
        "_uuid": "6447848a7f2fd2c7a0100317e1c4869260f4c11e",
        "colab": {
          "base_uri": "https://localhost:8080/"
        },
        "id": "52rtx6KyQoA1",
        "outputId": "8dadf708-cfa3-417e-bbba-7fac4558e3f8"
      },
      "source": [
        "df.households.apply(lambda x: x*2).head()"
      ],
      "execution_count": null,
      "outputs": [
        {
          "output_type": "execute_result",
          "data": {
            "text/plain": [
              "index_name\n",
              "0    944.0\n",
              "1    926.0\n",
              "2    234.0\n",
              "3    452.0\n",
              "4    524.0\n",
              "Name: households, dtype: float64"
            ]
          },
          "metadata": {},
          "execution_count": 80
        }
      ]
    },
    {
      "cell_type": "markdown",
      "metadata": {
        "trusted": true,
        "_uuid": "e80845b38f09a29a6b486e8c692c32b4e32b8267",
        "id": "QeCZr_gqQoA2"
      },
      "source": [
        "# **Utilities Code** <a id=\"80\"></a>\n",
        "\n",
        "<mark>[Return Contents](#0)\n",
        "<hr>"
      ]
    },
    {
      "cell_type": "code",
      "metadata": {
        "trusted": true,
        "_uuid": "5319d80d0d27b4aa0065de122ec43d1715fc9264",
        "id": "jvNLO10-QoA2"
      },
      "source": [
        "# pd.get_option OR pd.set_option\n",
        "# pd.reset_option(\"^display\")\n",
        "\n",
        "# pd.reset_option(\"display.max_rows\")\n",
        "# pd.get_option(\"display.max_rows\")\n",
        "# pd.set_option(\"max_r\",102)                 -> specifies the maximum number of rows to display.\n",
        "# pd.options.display.max_rows = 999          -> specifies the maximum number of rows to display.\n",
        "\n",
        "# pd.get_option(\"display.max_columns\")\n",
        "# pd.options.display.max_columns = 999       -> specifies the maximum number of columns to display.\n",
        "\n",
        "# pd.set_option('display.width', 300)\n",
        "\n",
        "# pd.set_option('display.max_columns', 300)  -> specifies the maximum number of rows to display.\n",
        "# pd.set_option('display.max_colwidth', 500) -> specifies the maximum number of columns to display. \n",
        "\n",
        "# pd.get_option('max_colwidth')\n",
        "# pd.set_option('max_colwidth',40)\n",
        "# pd.reset_option('max_colwidth')\n",
        "\n",
        "# pd.get_option('max_info_columns')\n",
        "# pd.set_option('max_info_columns', 11)\n",
        "# pd.reset_option('max_info_columns')\n",
        "\n",
        "# pd.get_option('max_info_rows')\n",
        "# pd.set_option('max_info_rows', 11)\n",
        "# pd.reset_option('max_info_rows')\n",
        "\n",
        "# pd.set_option('precision',7) -> sets the output display precision in terms of decimal places. This is only a suggestion.\n",
        "# OR\n",
        "# pd.set_option('display.precision',3)\n",
        "\n",
        "# pd.set_option('chop_threshold', 0) -> sets at what level pandas rounds to zero when it displays a Series of DataFrame. This setting does not change the precision at which the number is stored.\n",
        "# pd.reset_option('chop_threshold') "
      ],
      "execution_count": null,
      "outputs": []
    }
  ]
}